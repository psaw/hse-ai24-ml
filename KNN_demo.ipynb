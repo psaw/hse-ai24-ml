{
  "nbformat": 4,
  "nbformat_minor": 0,
  "metadata": {
    "colab": {
      "provenance": [],
      "include_colab_link": true
    },
    "kernelspec": {
      "name": "python3",
      "display_name": "Python 3"
    },
    "language_info": {
      "name": "python"
    }
  },
  "cells": [
    {
      "cell_type": "markdown",
      "metadata": {
        "id": "view-in-github",
        "colab_type": "text"
      },
      "source": [
        "<a href=\"https://colab.research.google.com/github/psaw/hse-ai24-ml/blob/main/KNN_demo.ipynb\" target=\"_parent\"><img src=\"https://colab.research.google.com/assets/colab-badge.svg\" alt=\"Open In Colab\"/></a>"
      ]
    },
    {
      "cell_type": "markdown",
      "source": [
        "# Метод ближайших соседей"
      ],
      "metadata": {
        "id": "rTWW8JZh8sK7"
      }
    },
    {
      "cell_type": "markdown",
      "source": [
        "## Импорт библиотек, установка константных значений"
      ],
      "metadata": {
        "id": "0T_uVSM482Ov"
      }
    },
    {
      "cell_type": "code",
      "execution_count": null,
      "metadata": {
        "id": "MRkA3-N0sgxC"
      },
      "outputs": [],
      "source": [
        "import numpy as np\n",
        "import pandas as pd\n",
        "import sklearn\n",
        "\n",
        "from sklearn.datasets import load_digits\n",
        "from sklearn.neighbors import KNeighborsClassifier\n",
        "from sklearn.utils import shuffle\n",
        "\n",
        "from matplotlib import pyplot as plt"
      ]
    },
    {
      "cell_type": "code",
      "source": [
        "RANDOM_STATE = 42\n",
        "TRAIN_SIZE = 0.7"
      ],
      "metadata": {
        "id": "oh3B9eIn84L6"
      },
      "execution_count": null,
      "outputs": []
    },
    {
      "cell_type": "markdown",
      "source": [
        "## Практика"
      ],
      "metadata": {
        "id": "_jTaax_l89hm"
      }
    },
    {
      "cell_type": "markdown",
      "source": [
        "Применим KNN к датасету с изображениями цифр. Это данные для 10-классовой классификации."
      ],
      "metadata": {
        "id": "tDe427A-9Ami"
      }
    },
    {
      "cell_type": "markdown",
      "source": [
        "Загрузим данные и посмотрим на них."
      ],
      "metadata": {
        "id": "b7CNa_Dbu6Db"
      }
    },
    {
      "cell_type": "code",
      "source": [
        "data = load_digits()\n",
        "X = data.images\n",
        "y = data.target\n",
        "\n",
        "X.shape"
      ],
      "metadata": {
        "colab": {
          "base_uri": "https://localhost:8080/"
        },
        "id": "-51OR1RGs20X",
        "outputId": "7cba6eab-2a91-409b-d37b-326691680a9b"
      },
      "execution_count": null,
      "outputs": [
        {
          "output_type": "execute_result",
          "data": {
            "text/plain": [
              "(1797, 8, 8)"
            ]
          },
          "metadata": {},
          "execution_count": 3
        }
      ]
    },
    {
      "cell_type": "code",
      "source": [
        "X[0]"
      ],
      "metadata": {
        "colab": {
          "base_uri": "https://localhost:8080/"
        },
        "id": "qPjkPSc5i5xx",
        "outputId": "2a8b4125-d8d9-415f-f3f4-4a1e805f3be5"
      },
      "execution_count": null,
      "outputs": [
        {
          "output_type": "execute_result",
          "data": {
            "text/plain": [
              "array([[ 0.,  0.,  5., 13.,  9.,  1.,  0.,  0.],\n",
              "       [ 0.,  0., 13., 15., 10., 15.,  5.,  0.],\n",
              "       [ 0.,  3., 15.,  2.,  0., 11.,  8.,  0.],\n",
              "       [ 0.,  4., 12.,  0.,  0.,  8.,  8.,  0.],\n",
              "       [ 0.,  5.,  8.,  0.,  0.,  9.,  8.,  0.],\n",
              "       [ 0.,  4., 11.,  0.,  1., 12.,  7.,  0.],\n",
              "       [ 0.,  2., 14.,  5., 10., 12.,  0.,  0.],\n",
              "       [ 0.,  0.,  6., 13., 10.,  0.,  0.,  0.]])"
            ]
          },
          "metadata": {},
          "execution_count": 4
        }
      ]
    },
    {
      "cell_type": "code",
      "source": [
        "for i in range(3):\n",
        "  plt.figure(figsize=(2,2))\n",
        "  plt.imshow(X[i], cmap='gray')\n",
        "  plt.show()"
      ],
      "metadata": {
        "colab": {
          "base_uri": "https://localhost:8080/",
          "height": 628
        },
        "id": "teTWTi3muVMS",
        "outputId": "9fd8b2ae-84de-432f-d951-af25c64f9588"
      },
      "execution_count": null,
      "outputs": [
        {
          "output_type": "display_data",
          "data": {
            "text/plain": [
              "<Figure size 200x200 with 1 Axes>"
            ],
            "image/png": "[encoded data removed]"
          },
          "metadata": {}
        },
        {
          "output_type": "display_data",
          "data": {
            "text/plain": [
              "<Figure size 200x200 with 1 Axes>"
            ],
            "image/png": "[encoded data removed]"
          },
          "metadata": {}
        },
        {
          "output_type": "display_data",
          "data": {
            "text/plain": [
              "<Figure size 200x200 with 1 Axes>"
            ],
            "image/png": "[encoded data removed]"
          },
          "metadata": {}
        }
      ]
    },
    {
      "cell_type": "markdown",
      "source": [
        "Каждая картинка - это матрица чисел (яркостей пикселей). Но в стандартной постановке задач каждый объект (картинка) - это строчка своих признаков в матрице объект-признак. Поэтому вытянем каждую картинку в вектор."
      ],
      "metadata": {
        "id": "4ZxQiTE-u87L"
      }
    },
    {
      "cell_type": "code",
      "source": [
        "X = X.reshape(X.shape[0], -1)\n",
        "\n",
        "X.shape"
      ],
      "metadata": {
        "id": "RQK84Uc3s5PP",
        "colab": {
          "base_uri": "https://localhost:8080/"
        },
        "outputId": "3a16a980-8b3b-4207-dcd0-3923725ef4b2"
      },
      "execution_count": null,
      "outputs": [
        {
          "output_type": "execute_result",
          "data": {
            "text/plain": [
              "(1797, 64)"
            ]
          },
          "metadata": {},
          "execution_count": 7
        }
      ]
    },
    {
      "cell_type": "markdown",
      "source": [
        "Перемешаем данные, так как в исходном датасете числа идут друг за другом, а нам для обучения и тестирования модели нужен случайный порядок."
      ],
      "metadata": {
        "id": "tKiiefI0vJoy"
      }
    },
    {
      "cell_type": "code",
      "source": [
        "X, y = shuffle(X, y)\n",
        "\n",
        "print(f\"Features shape: {X.shape},\\nTarget shape: {y.shape}\")\n",
        "print(f\"Target samples: {y[:10]}\")"
      ],
      "metadata": {
        "colab": {
          "base_uri": "https://localhost:8080/"
        },
        "id": "BFsP_AS4vI--",
        "outputId": "e9e2b999-8569-4e5c-96cf-ac5a44c0cbb6"
      },
      "execution_count": null,
      "outputs": [
        {
          "output_type": "stream",
          "name": "stdout",
          "text": [
            "Features shape: (1797, 64),\n",
            "Target shape: (1797,)\n",
            "Target samples: [6 9 4 2 3 7 1 3 0 7]\n"
          ]
        }
      ]
    },
    {
      "cell_type": "markdown",
      "source": [
        "Разобъем данные на трейн и тест."
      ],
      "metadata": {
        "id": "VGyrXZ0qvRza"
      }
    },
    {
      "cell_type": "code",
      "source": [
        "from sklearn.model_selection import train_test_split\n",
        "\n",
        "Xtrain, Xtest, ytrain, ytest = train_test_split(X, y,\n",
        "                                                train_size=TRAIN_SIZE,\n",
        "                                                random_state=RANDOM_STATE)"
      ],
      "metadata": {
        "id": "tJXBt5gns8DW"
      },
      "execution_count": null,
      "outputs": []
    },
    {
      "cell_type": "markdown",
      "source": [
        "Обучим KNN с взятым из головы числом соседей (10)."
      ],
      "metadata": {
        "id": "FWYnWj2ZvUDq"
      }
    },
    {
      "cell_type": "code",
      "source": [
        "clf = KNeighborsClassifier(n_neighbors=10)\n",
        "\n",
        "clf.fit(Xtrain, ytrain)\n",
        "prediction = clf.predict(Xtest)"
      ],
      "metadata": {
        "id": "VDxm9XqMtMe8"
      },
      "execution_count": null,
      "outputs": []
    },
    {
      "cell_type": "code",
      "source": [
        "from sklearn.metrics import accuracy_score\n",
        "\n",
        "accuracy_score(ytest, prediction)"
      ],
      "metadata": {
        "colab": {
          "base_uri": "https://localhost:8080/"
        },
        "id": "15qyAK2VtQhH",
        "outputId": "421d89bf-09d6-4f8f-f0e4-2d6b4ea8361f"
      },
      "execution_count": null,
      "outputs": [
        {
          "output_type": "execute_result",
          "data": {
            "text/plain": [
              "0.9907407407407407"
            ]
          },
          "metadata": {},
          "execution_count": 11
        }
      ]
    },
    {
      "cell_type": "markdown",
      "source": [
        "Посмотрим, как число соседей влияет на качество модели."
      ],
      "metadata": {
        "id": "dBjkGel4vZK3"
      }
    },
    {
      "cell_type": "code",
      "source": [
        "for k in np.arange(3, 50, 2):\n",
        "    clf = KNeighborsClassifier(n_neighbors=k)\n",
        "\n",
        "    clf.fit(Xtrain, ytrain)\n",
        "    prediction = clf.predict(Xtest)\n",
        "\n",
        "    print('k:', k)\n",
        "    print('accuracy:', accuracy_score(ytest, prediction))"
      ],
      "metadata": {
        "colab": {
          "base_uri": "https://localhost:8080/"
        },
        "id": "n7i1EuP3tZoI",
        "outputId": "4a834692-9a05-4231-b596-33c1ec0b8745"
      },
      "execution_count": null,
      "outputs": [
        {
          "output_type": "stream",
          "name": "stdout",
          "text": [
            "k: 3\n",
            "accuracy: 0.9925925925925926\n",
            "k: 5\n",
            "accuracy: 0.9925925925925926\n",
            "k: 7\n",
            "accuracy: 0.9851851851851852\n",
            "k: 9\n",
            "accuracy: 0.9907407407407407\n",
            "k: 11\n",
            "accuracy: 0.9888888888888889\n",
            "k: 13\n",
            "accuracy: 0.9796296296296296\n",
            "k: 15\n",
            "accuracy: 0.975925925925926\n",
            "k: 17\n",
            "accuracy: 0.9796296296296296\n",
            "k: 19\n",
            "accuracy: 0.9722222222222222\n",
            "k: 21\n",
            "accuracy: 0.9722222222222222\n",
            "k: 23\n",
            "accuracy: 0.9740740740740741\n",
            "k: 25\n",
            "accuracy: 0.9740740740740741\n",
            "k: 27\n",
            "accuracy: 0.9722222222222222\n",
            "k: 29\n",
            "accuracy: 0.9685185185185186\n",
            "k: 31\n",
            "accuracy: 0.9722222222222222\n",
            "k: 33\n",
            "accuracy: 0.9722222222222222\n",
            "k: 35\n",
            "accuracy: 0.9685185185185186\n",
            "k: 37\n",
            "accuracy: 0.9666666666666667\n",
            "k: 39\n",
            "accuracy: 0.9648148148148148\n",
            "k: 41\n",
            "accuracy: 0.9666666666666667\n",
            "k: 43\n",
            "accuracy: 0.9666666666666667\n",
            "k: 45\n",
            "accuracy: 0.9648148148148148\n",
            "k: 47\n",
            "accuracy: 0.9629629629629629\n",
            "k: 49\n",
            "accuracy: 0.9611111111111111\n"
          ]
        }
      ]
    },
    {
      "cell_type": "markdown",
      "source": [
        "Посмотрим, как влияет на качество алгоритма способ учесть веса у ближайших соседей."
      ],
      "metadata": {
        "id": "XtVCAdrcvdWr"
      }
    },
    {
      "cell_type": "code",
      "source": [
        "for weights in ['uniform', 'distance']:\n",
        "    clf = KNeighborsClassifier(n_neighbors=3, weights=weights)\n",
        "\n",
        "    clf.fit(Xtrain, ytrain)\n",
        "    prediction = clf.predict(Xtest)\n",
        "\n",
        "    print('weights:', weights)\n",
        "    print('accuracy:', accuracy_score(ytest, prediction))"
      ],
      "metadata": {
        "colab": {
          "base_uri": "https://localhost:8080/"
        },
        "id": "-yJyiIWWt-5l",
        "outputId": "6153350e-c7ba-47e1-b205-3ebe43aaa5c4"
      },
      "execution_count": null,
      "outputs": [
        {
          "output_type": "stream",
          "name": "stdout",
          "text": [
            "weights: uniform\n",
            "accuracy: 0.9925925925925926\n",
            "weights: distance\n",
            "accuracy: 0.9925925925925926\n"
          ]
        }
      ]
    },
    {
      "cell_type": "markdown",
      "source": [
        "Визуально оценим качество предсказаний"
      ],
      "metadata": {
        "id": "RJZb570CvqPJ"
      }
    },
    {
      "cell_type": "code",
      "source": [
        "for i in range(5):\n",
        "  print('predicted label:', prediction[i])\n",
        "  plt.figure(figsize=(2,2))\n",
        "  plt.imshow(Xtest[i].reshape((8,8)), cmap='gray')\n",
        "  plt.show()"
      ],
      "metadata": {
        "colab": {
          "base_uri": "https://localhost:8080/",
          "height": 1000
        },
        "id": "fvTG9TY1vqa5",
        "outputId": "6c638ccb-e56d-4474-b550-ce1713760397"
      },
      "execution_count": null,
      "outputs": [
        {
          "output_type": "stream",
          "name": "stdout",
          "text": [
            "predicted label: 5\n"
          ]
        },
        {
          "output_type": "display_data",
          "data": {
            "text/plain": [
              "<Figure size 200x200 with 1 Axes>"
            ],
            "image/png": "[encoded data removed]"
          },
          "metadata": {}
        },
        {
          "output_type": "stream",
          "name": "stdout",
          "text": [
            "predicted label: 6\n"
          ]
        },
        {
          "output_type": "display_data",
          "data": {
            "text/plain": [
              "<Figure size 200x200 with 1 Axes>"
            ],
            "image/png": "[encoded data removed]"
          },
          "metadata": {}
        },
        {
          "output_type": "stream",
          "name": "stdout",
          "text": [
            "predicted label: 2\n"
          ]
        },
        {
          "output_type": "display_data",
          "data": {
            "text/plain": [
              "<Figure size 200x200 with 1 Axes>"
            ],
            "image/png": "[encoded data removed]"
          },
          "metadata": {}
        },
        {
          "output_type": "stream",
          "name": "stdout",
          "text": [
            "predicted label: 0\n"
          ]
        },
        {
          "output_type": "display_data",
          "data": {
            "text/plain": [
              "<Figure size 200x200 with 1 Axes>"
            ],
            "image/png": "[encoded data removed]"
          },
          "metadata": {}
        },
        {
          "output_type": "stream",
          "name": "stdout",
          "text": [
            "predicted label: 0\n"
          ]
        },
        {
          "output_type": "display_data",
          "data": {
            "text/plain": [
              "<Figure size 200x200 with 1 Axes>"
            ],
            "image/png": "[encoded data removed]"
          },
          "metadata": {}
        }
      ]
    },
    {
      "cell_type": "markdown",
      "source": [
        "Мы видим, что KNN довольно хорошо справился с задачей!  \n",
        "Подбор гиперпараметров (число соседей, способ подсчета весов соседей и другие) также влияет на качество предсказания модели."
      ],
      "metadata": {
        "id": "TLVG9HDUwSQa"
      }
    },
    {
      "cell_type": "code",
      "source": [
        "for i in range(len(ytest)):\n",
        "   if ytest[i] != prediction[i]:\n",
        "      print('true label:', ytest[i])\n",
        "      print('predicted label:', prediction[i])\n",
        "      plt.figure(figsize=(2,2))\n",
        "      plt.imshow(Xtest[i].reshape((8,8)), cmap='gray')\n",
        "      plt.show()"
      ],
      "metadata": {
        "colab": {
          "base_uri": "https://localhost:8080/",
          "height": 965
        },
        "id": "fbcekFgsk0yE",
        "outputId": "ffb2d4d1-c303-45f6-e968-80357d2583e8"
      },
      "execution_count": null,
      "outputs": [
        {
          "output_type": "stream",
          "name": "stdout",
          "text": [
            "true label: 3\n",
            "predicted label: 9\n"
          ]
        },
        {
          "output_type": "display_data",
          "data": {
            "text/plain": [
              "<Figure size 200x200 with 1 Axes>"
            ],
            "image/png": "[encoded data removed]"
          },
          "metadata": {}
        },
        {
          "output_type": "stream",
          "name": "stdout",
          "text": [
            "true label: 5\n",
            "predicted label: 9\n"
          ]
        },
        {
          "output_type": "display_data",
          "data": {
            "text/plain": [
              "<Figure size 200x200 with 1 Axes>"
            ],
            "image/png": "[encoded data removed]"
          },
          "metadata": {}
        },
        {
          "output_type": "stream",
          "name": "stdout",
          "text": [
            "true label: 4\n",
            "predicted label: 7\n"
          ]
        },
        {
          "output_type": "display_data",
          "data": {
            "text/plain": [
              "<Figure size 200x200 with 1 Axes>"
            ],
            "image/png": "[encoded data removed]"
          },
          "metadata": {}
        },
        {
          "output_type": "stream",
          "name": "stdout",
          "text": [
            "true label: 9\n",
            "predicted label: 4\n"
          ]
        },
        {
          "output_type": "display_data",
          "data": {
            "text/plain": [
              "<Figure size 200x200 with 1 Axes>"
            ],
            "image/png": "[encoded data removed]"
          },
          "metadata": {}
        }
      ]
    },
    {
      "cell_type": "code",
      "source": [],
      "metadata": {
        "id": "iHWIkzQNk625"
      },
      "execution_count": null,
      "outputs": []
    }
  ]
}