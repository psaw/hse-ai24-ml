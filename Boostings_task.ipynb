{
  "cells": [
    {
      "cell_type": "markdown",
      "metadata": {
        "colab_type": "text",
        "id": "view-in-github"
      },
      "source": [
        "<a href=\"https://colab.research.google.com/github/psaw/hse-ai24-ml/blob/main/Boostings_task.ipynb\" target=\"_parent\"><img src=\"https://colab.research.google.com/assets/colab-badge.svg\" alt=\"Open In Colab\"/></a>"
      ]
    },
    {
      "cell_type": "markdown",
      "metadata": {
        "id": "8bieQL5lwfBD"
      },
      "source": [
        "# Прогнозируем задержки самолетов"
      ]
    },
    {
      "cell_type": "code",
      "execution_count": 2,
      "metadata": {
        "colab": {
          "base_uri": "https://localhost:8080/"
        },
        "id": "DARqocv0wz0z",
        "outputId": "6a67a371-88dc-4e02-8724-55b02e0e65f7"
      },
      "outputs": [],
      "source": [
        "!pip install catboost lightgbm optuna -q"
      ]
    },
    {
      "cell_type": "code",
      "execution_count": 3,
      "metadata": {
        "id": "U-gc09zSwvyF"
      },
      "outputs": [],
      "source": [
        "from sklearn.model_selection import train_test_split, cross_val_score\n",
        "from sklearn.metrics import roc_auc_score\n",
        "import pandas as pd\n",
        "\n",
        "from catboost import CatBoostClassifier\n",
        "from lightgbm import LGBMClassifier"
      ]
    },
    {
      "cell_type": "code",
      "execution_count": 4,
      "metadata": {
        "id": "C4LFGZPXweF2"
      },
      "outputs": [],
      "source": [
        "RANDOM_STATE = 111\n",
        "DATASET_PATH = 'https://raw.githubusercontent.com/evgpat/edu_stepik_practical_ml/main/datasets/flight_delays_train.csv'"
      ]
    },
    {
      "cell_type": "code",
      "execution_count": 5,
      "metadata": {
        "colab": {
          "base_uri": "https://localhost:8080/",
          "height": 228
        },
        "id": "m788vNOUxBNU",
        "outputId": "42974e99-32f3-45ff-fb4e-54c588d902e5"
      },
      "outputs": [
        {
          "data": {
            "text/html": [
              "<div>\n",
              "<style scoped>\n",
              "    .dataframe tbody tr th:only-of-type {\n",
              "        vertical-align: middle;\n",
              "    }\n",
              "\n",
              "    .dataframe tbody tr th {\n",
              "        vertical-align: top;\n",
              "    }\n",
              "\n",
              "    .dataframe thead th {\n",
              "        text-align: right;\n",
              "    }\n",
              "</style>\n",
              "<table border=\"1\" class=\"dataframe\">\n",
              "  <thead>\n",
              "    <tr style=\"text-align: right;\">\n",
              "      <th></th>\n",
              "      <th>Month</th>\n",
              "      <th>DayofMonth</th>\n",
              "      <th>DayOfWeek</th>\n",
              "      <th>DepTime</th>\n",
              "      <th>UniqueCarrier</th>\n",
              "      <th>Origin</th>\n",
              "      <th>Dest</th>\n",
              "      <th>Distance</th>\n",
              "    </tr>\n",
              "  </thead>\n",
              "  <tbody>\n",
              "    <tr>\n",
              "      <th>0</th>\n",
              "      <td>c-8</td>\n",
              "      <td>c-21</td>\n",
              "      <td>c-7</td>\n",
              "      <td>1934</td>\n",
              "      <td>AA</td>\n",
              "      <td>ATL</td>\n",
              "      <td>DFW</td>\n",
              "      <td>732</td>\n",
              "    </tr>\n",
              "    <tr>\n",
              "      <th>1</th>\n",
              "      <td>c-4</td>\n",
              "      <td>c-20</td>\n",
              "      <td>c-3</td>\n",
              "      <td>1548</td>\n",
              "      <td>US</td>\n",
              "      <td>PIT</td>\n",
              "      <td>MCO</td>\n",
              "      <td>834</td>\n",
              "    </tr>\n",
              "    <tr>\n",
              "      <th>2</th>\n",
              "      <td>c-9</td>\n",
              "      <td>c-2</td>\n",
              "      <td>c-5</td>\n",
              "      <td>1422</td>\n",
              "      <td>XE</td>\n",
              "      <td>RDU</td>\n",
              "      <td>CLE</td>\n",
              "      <td>416</td>\n",
              "    </tr>\n",
              "    <tr>\n",
              "      <th>3</th>\n",
              "      <td>c-11</td>\n",
              "      <td>c-25</td>\n",
              "      <td>c-6</td>\n",
              "      <td>1015</td>\n",
              "      <td>OO</td>\n",
              "      <td>DEN</td>\n",
              "      <td>MEM</td>\n",
              "      <td>872</td>\n",
              "    </tr>\n",
              "    <tr>\n",
              "      <th>4</th>\n",
              "      <td>c-10</td>\n",
              "      <td>c-7</td>\n",
              "      <td>c-6</td>\n",
              "      <td>1828</td>\n",
              "      <td>WN</td>\n",
              "      <td>MDW</td>\n",
              "      <td>OMA</td>\n",
              "      <td>423</td>\n",
              "    </tr>\n",
              "  </tbody>\n",
              "</table>\n",
              "</div>"
            ],
            "text/plain": [
              "  Month DayofMonth DayOfWeek  DepTime UniqueCarrier Origin Dest  Distance\n",
              "0   c-8       c-21       c-7     1934            AA    ATL  DFW       732\n",
              "1   c-4       c-20       c-3     1548            US    PIT  MCO       834\n",
              "2   c-9        c-2       c-5     1422            XE    RDU  CLE       416\n",
              "3  c-11       c-25       c-6     1015            OO    DEN  MEM       872\n",
              "4  c-10        c-7       c-6     1828            WN    MDW  OMA       423"
            ]
          },
          "execution_count": 5,
          "metadata": {},
          "output_type": "execute_result"
        }
      ],
      "source": [
        "data = pd.read_csv(DATASET_PATH)\n",
        "\n",
        "X = data.drop('dep_delayed_15min', axis=1)\n",
        "y = data['dep_delayed_15min'] == 'Y'\n",
        "\n",
        "X.head()"
      ]
    },
    {
      "cell_type": "markdown",
      "metadata": {
        "id": "WoeAqm7x7Of9"
      },
      "source": [
        "Создайте список номеров колонок с категориальными признаками для бустингов\n",
        "\n",
        "## Quiz\n",
        "Какой длины получился список?\n",
        "6\n",
        "(подсказка: колонка `DepTime` числовая)"
      ]
    },
    {
      "cell_type": "code",
      "execution_count": 10,
      "metadata": {
        "id": "f2_RDMSdxgtC"
      },
      "outputs": [
        {
          "name": "stdout",
          "output_type": "stream",
          "text": [
            "6: ['Month', 'DayofMonth', 'DayOfWeek', 'UniqueCarrier', 'Origin', 'Dest']\n"
          ]
        }
      ],
      "source": [
        "cat_features = X.select_dtypes(include=['object']).columns.tolist()\n",
        "print(f\"{len(cat_features)}: {cat_features}\")"
      ]
    },
    {
      "cell_type": "markdown",
      "metadata": {
        "id": "AFUsTHb_7Tm0"
      },
      "source": [
        "Разобъем данные на обучение и контроль"
      ]
    },
    {
      "cell_type": "code",
      "execution_count": 11,
      "metadata": {
        "id": "b5hPnUwvwu_Z"
      },
      "outputs": [],
      "source": [
        "Xtrain, Xtest, ytrain, ytest = train_test_split(X, y, test_size=0.25, random_state=RANDOM_STATE)"
      ]
    },
    {
      "cell_type": "code",
      "execution_count": 12,
      "metadata": {
        "colab": {
          "base_uri": "https://localhost:8080/",
          "height": 228
        },
        "id": "EysJWEMy00fZ",
        "outputId": "ffdf59e5-f8b5-4c50-ac46-d52b0ef29503"
      },
      "outputs": [
        {
          "data": {
            "text/html": [
              "<div>\n",
              "<style scoped>\n",
              "    .dataframe tbody tr th:only-of-type {\n",
              "        vertical-align: middle;\n",
              "    }\n",
              "\n",
              "    .dataframe tbody tr th {\n",
              "        vertical-align: top;\n",
              "    }\n",
              "\n",
              "    .dataframe thead th {\n",
              "        text-align: right;\n",
              "    }\n",
              "</style>\n",
              "<table border=\"1\" class=\"dataframe\">\n",
              "  <thead>\n",
              "    <tr style=\"text-align: right;\">\n",
              "      <th></th>\n",
              "      <th>Month</th>\n",
              "      <th>DayofMonth</th>\n",
              "      <th>DayOfWeek</th>\n",
              "      <th>DepTime</th>\n",
              "      <th>UniqueCarrier</th>\n",
              "      <th>Origin</th>\n",
              "      <th>Dest</th>\n",
              "      <th>Distance</th>\n",
              "    </tr>\n",
              "  </thead>\n",
              "  <tbody>\n",
              "    <tr>\n",
              "      <th>41207</th>\n",
              "      <td>c-4</td>\n",
              "      <td>c-18</td>\n",
              "      <td>c-1</td>\n",
              "      <td>1457</td>\n",
              "      <td>CO</td>\n",
              "      <td>EWR</td>\n",
              "      <td>TPA</td>\n",
              "      <td>998</td>\n",
              "    </tr>\n",
              "    <tr>\n",
              "      <th>28283</th>\n",
              "      <td>c-11</td>\n",
              "      <td>c-1</td>\n",
              "      <td>c-2</td>\n",
              "      <td>1225</td>\n",
              "      <td>UA</td>\n",
              "      <td>DEN</td>\n",
              "      <td>BOS</td>\n",
              "      <td>1754</td>\n",
              "    </tr>\n",
              "    <tr>\n",
              "      <th>34619</th>\n",
              "      <td>c-6</td>\n",
              "      <td>c-16</td>\n",
              "      <td>c-5</td>\n",
              "      <td>1650</td>\n",
              "      <td>YV</td>\n",
              "      <td>IAD</td>\n",
              "      <td>CAE</td>\n",
              "      <td>401</td>\n",
              "    </tr>\n",
              "    <tr>\n",
              "      <th>8789</th>\n",
              "      <td>c-5</td>\n",
              "      <td>c-18</td>\n",
              "      <td>c-4</td>\n",
              "      <td>923</td>\n",
              "      <td>AA</td>\n",
              "      <td>SLC</td>\n",
              "      <td>DFW</td>\n",
              "      <td>988</td>\n",
              "    </tr>\n",
              "    <tr>\n",
              "      <th>38315</th>\n",
              "      <td>c-2</td>\n",
              "      <td>c-14</td>\n",
              "      <td>c-2</td>\n",
              "      <td>1839</td>\n",
              "      <td>AA</td>\n",
              "      <td>STL</td>\n",
              "      <td>SAN</td>\n",
              "      <td>1558</td>\n",
              "    </tr>\n",
              "  </tbody>\n",
              "</table>\n",
              "</div>"
            ],
            "text/plain": [
              "      Month DayofMonth DayOfWeek  DepTime UniqueCarrier Origin Dest  Distance\n",
              "41207   c-4       c-18       c-1     1457            CO    EWR  TPA       998\n",
              "28283  c-11        c-1       c-2     1225            UA    DEN  BOS      1754\n",
              "34619   c-6       c-16       c-5     1650            YV    IAD  CAE       401\n",
              "8789    c-5       c-18       c-4      923            AA    SLC  DFW       988\n",
              "38315   c-2       c-14       c-2     1839            AA    STL  SAN      1558"
            ]
          },
          "execution_count": 12,
          "metadata": {},
          "output_type": "execute_result"
        }
      ],
      "source": [
        "Xtrain.head()"
      ]
    },
    {
      "cell_type": "markdown",
      "metadata": {
        "id": "8E9ZC9UXymeu"
      },
      "source": [
        "## Модели с параметрами по умолчанию"
      ]
    },
    {
      "cell_type": "markdown",
      "metadata": {
        "id": "BiT-smHxypQx"
      },
      "source": [
        "Обучите CatBoost с гиперпараметрами по умолчанию.\n",
        "\n",
        "## Quiz\n",
        "Чему равен ROC-AUC на тестовых данных? Ответ округлите до сотых.\n",
        "\n",
        "**Ответ:** 0.77"
      ]
    },
    {
      "cell_type": "code",
      "execution_count": null,
      "metadata": {
        "id": "vdjpjT1Gw8ff"
      },
      "outputs": [],
      "source": [
        "# your code here\n",
        "\n",
        "model_catboost = CatBoostClassifier(random_seed=RANDOM_STATE, verbose=1)\n",
        "model_catboost.fit(Xtrain, ytrain, cat_features=cat_features)\n",
        "\n",
        "y_pred_proba_catboost = model_catboost.predict_proba(Xtest)[:, 1]\n",
        "\n",
        "roc_auc_catboost = roc_auc_score(ytest, y_pred_proba_catboost)\n",
        "print(f\"ROC-AUC на тестовых данных: {roc_auc_catboost:.2f}\")\n",
        "# ROC-AUC на тестовых данных: 0.77 (20.3s)"
      ]
    },
    {
      "cell_type": "markdown",
      "metadata": {
        "id": "fBO2HEaAy61O"
      },
      "source": [
        "Обучите LightGBM с гиперпараметрами по умолчанию.\n",
        "\n",
        "## Quiz\n",
        "Чему равен ROC-AUC на тестовых данных? Ответ округлите до сотых.\n",
        "\n",
        "**Ответ:** 0.73"
      ]
    },
    {
      "cell_type": "code",
      "execution_count": 14,
      "metadata": {
        "id": "G_g3Ead3yZ5v"
      },
      "outputs": [],
      "source": [
        "for c in X.columns:\n",
        "    col_type = X[c].dtype\n",
        "    if col_type == 'object' or col_type.name == 'category':\n",
        "        Xtrain[c] = Xtrain[c].astype('category')\n",
        "        Xtest[c] = Xtest[c].astype('category')"
      ]
    },
    {
      "cell_type": "code",
      "execution_count": 18,
      "metadata": {
        "id": "Z2jPIID3xUPw"
      },
      "outputs": [
        {
          "name": "stdout",
          "output_type": "stream",
          "text": [
            "[LightGBM] [Info] Number of positive: 14346, number of negative: 60654\n",
            "[LightGBM] [Info] Auto-choosing row-wise multi-threading, the overhead of testing was 0.000570 seconds.\n",
            "You can set `force_row_wise=true` to remove the overhead.\n",
            "And if memory is not enough, you can set `force_col_wise=true`.\n",
            "[LightGBM] [Info] Total Bins 1095\n",
            "[LightGBM] [Info] Number of data points in the train set: 75000, number of used features: 8\n",
            "[LightGBM] [Info] [binary:BoostFromScore]: pavg=0.191280 -> initscore=-1.441714\n",
            "[LightGBM] [Info] Start training from score -1.441714\n",
            "ROC-AUC на тестовых данных: 0.73\n"
          ]
        }
      ],
      "source": [
        "# your code here\n",
        "model_lgbm = LGBMClassifier(random_state=RANDOM_STATE)\n",
        "model_lgbm.fit(Xtrain, ytrain)\n",
        "\n",
        "y_pred_proba_lgbm = model_lgbm.predict_proba(Xtest)[:, 1]\n",
        "\n",
        "roc_auc_lgbm = roc_auc_score(ytest, y_pred_proba_lgbm)\n",
        "print(f\"ROC-AUC на тестовых данных: {roc_auc_lgbm:.2f}\")\n"
      ]
    },
    {
      "cell_type": "markdown",
      "metadata": {
        "id": "zazHv43vzn2e"
      },
      "source": [
        "## Optuna"
      ]
    },
    {
      "cell_type": "markdown",
      "metadata": {
        "id": "MGaTMoDr7cvz"
      },
      "source": [
        "Выделим дополнительную валидационную выборку."
      ]
    },
    {
      "cell_type": "code",
      "execution_count": 19,
      "metadata": {
        "id": "meyw3CyV1aF_"
      },
      "outputs": [],
      "source": [
        "Xtrain_new, Xval, ytrain_new, yval = train_test_split(Xtrain, ytrain, test_size=0.25, random_state=RANDOM_STATE)"
      ]
    },
    {
      "cell_type": "markdown",
      "metadata": {
        "id": "RatJBHjn1tq2"
      },
      "source": [
        "Создайте функцию objective_lgbm, в которой среди гиперпараметров\n",
        "\n",
        "* num_leaves = trial.suggest_int(\"num_leaves\", 10, 100)\n",
        "* n_estimators = trial.suggest_int(\"n_estimators\", 10, 1000)\n",
        "\n",
        "подберите оптимальные, обучая LGBM на Xtrain_new, ytrain_new и проверяя качество (ROC-AUC) на Xval.\n",
        "\n",
        "Используйте 30 эпох обучения Optuna.\n"
      ]
    },
    {
      "cell_type": "code",
      "execution_count": null,
      "metadata": {
        "id": "YgOH1GMFzhW1"
      },
      "outputs": [],
      "source": [
        "# your code here\n",
        "import optuna\n",
        "from lightgbm import LGBMClassifier\n",
        "from sklearn.metrics import roc_auc_score\n",
        "\n",
        "def objective_lgbm(trial):\n",
        "    num_leaves = trial.suggest_int(\"num_leaves\", 10, 100)\n",
        "    n_estimators = trial.suggest_int(\"n_estimators\", 10, 1000)\n",
        "    \n",
        "    model = LGBMClassifier(num_leaves=num_leaves, n_estimators=n_estimators, random_state=RANDOM_STATE)\n",
        "    model.fit(Xtrain_new, ytrain_new)\n",
        "    \n",
        "    y_pred_proba = model.predict_proba(Xval)[:, 1]\n",
        "    roc_auc = roc_auc_score(yval, y_pred_proba)\n",
        "    \n",
        "    return roc_auc\n",
        "\n",
        "study = optuna.create_study(direction=\"maximize\")\n",
        "study.optimize(objective_lgbm, n_trials=30)\n"
      ]
    },
    {
      "cell_type": "code",
      "execution_count": 21,
      "metadata": {
        "id": "fpPS4-E-2Ycm"
      },
      "outputs": [
        {
          "data": {
            "text/plain": [
              "{'num_leaves': 10, 'n_estimators': 218}"
            ]
          },
          "execution_count": 21,
          "metadata": {},
          "output_type": "execute_result"
        }
      ],
      "source": [
        "study.best_params"
      ]
    },
    {
      "cell_type": "markdown",
      "metadata": {
        "id": "VSWz4A5w7mpW"
      },
      "source": [
        "Обучите модель с найденными гиперпараметрами на Xtrain, ytrain и оцените ROC-AUC на тестовых данных."
      ]
    },
    {
      "cell_type": "code",
      "execution_count": 22,
      "metadata": {
        "id": "C2i6MY720D1Y"
      },
      "outputs": [
        {
          "name": "stdout",
          "output_type": "stream",
          "text": [
            "[LightGBM] [Info] Number of positive: 14346, number of negative: 60654\n",
            "[LightGBM] [Info] Auto-choosing row-wise multi-threading, the overhead of testing was 0.000395 seconds.\n",
            "You can set `force_row_wise=true` to remove the overhead.\n",
            "And if memory is not enough, you can set `force_col_wise=true`.\n",
            "[LightGBM] [Info] Total Bins 1095\n",
            "[LightGBM] [Info] Number of data points in the train set: 75000, number of used features: 8\n",
            "[LightGBM] [Info] [binary:BoostFromScore]: pavg=0.191280 -> initscore=-1.441714\n",
            "[LightGBM] [Info] Start training from score -1.441714\n",
            "ROC-AUC на тестовых данных: 0.73\n"
          ]
        }
      ],
      "source": [
        "# your code here\n",
        "model_lgbm_optuna = LGBMClassifier(num_leaves=study.best_params['num_leaves'], n_estimators=study.best_params['n_estimators'], random_state=RANDOM_STATE)\n",
        "model_lgbm_optuna.fit(Xtrain, ytrain)\n",
        "\n",
        "y_pred_proba_lgbm_optuna = model_lgbm_optuna.predict_proba(Xtest)[:, 1]\n",
        "\n",
        "roc_auc_lgbm_optuna = roc_auc_score(ytest, y_pred_proba_lgbm_optuna)\n",
        "print(f\"ROC-AUC на тестовых данных: {roc_auc_lgbm_optuna:.2f}\")\n"
      ]
    },
    {
      "cell_type": "markdown",
      "metadata": {
        "id": "bP4nfUCA5gnm"
      },
      "source": [
        "## Quiz\n",
        "\n",
        "Чему равно количество деревьев в LGBM после подбора гиперпараметров?\n",
        "\n",
        "**Ответ:** 218\n",
        "но результат не стабильный\n"
      ]
    },
    {
      "cell_type": "markdown",
      "metadata": {
        "id": "pPVSkXK76b17"
      },
      "source": [
        "## Работа над улучшением модели\n",
        "\n",
        "* Попробуйте при помощи Optuna подобрать и другие гиперпарамтеры\n",
        "* Также подберите гиперпараметры у CatBoost (а не только у LightGBM)"
      ]
    },
    {
      "cell_type": "code",
      "execution_count": 23,
      "metadata": {
        "id": "NTjHyWL-6lm-"
      },
      "outputs": [
        {
          "name": "stdout",
          "output_type": "stream",
          "text": [
            "[LightGBM] [Warning] lambda_l1 is set=0.0011597368484330204, reg_alpha=0.0 will be ignored. Current value: lambda_l1=0.0011597368484330204\n",
            "[LightGBM] [Warning] bagging_freq is set=2, subsample_freq=0 will be ignored. Current value: bagging_freq=2\n",
            "[LightGBM] [Warning] bagging_fraction is set=0.9964049504013383, subsample=1.0 will be ignored. Current value: bagging_fraction=0.9964049504013383\n",
            "[LightGBM] [Warning] lambda_l2 is set=0.001167729124283521, reg_lambda=0.0 will be ignored. Current value: lambda_l2=0.001167729124283521\n",
            "[LightGBM] [Warning] lambda_l1 is set=0.0011597368484330204, reg_alpha=0.0 will be ignored. Current value: lambda_l1=0.0011597368484330204\n",
            "[LightGBM] [Warning] bagging_freq is set=2, subsample_freq=0 will be ignored. Current value: bagging_freq=2\n",
            "[LightGBM] [Warning] bagging_fraction is set=0.9964049504013383, subsample=1.0 will be ignored. Current value: bagging_fraction=0.9964049504013383\n",
            "[LightGBM] [Warning] lambda_l2 is set=0.001167729124283521, reg_lambda=0.0 will be ignored. Current value: lambda_l2=0.001167729124283521\n",
            "[LightGBM] [Info] Number of positive: 14346, number of negative: 60654\n",
            "[LightGBM] [Info] Auto-choosing row-wise multi-threading, the overhead of testing was 0.000373 seconds.\n",
            "You can set `force_row_wise=true` to remove the overhead.\n",
            "And if memory is not enough, you can set `force_col_wise=true`.\n",
            "[LightGBM] [Info] Total Bins 1095\n",
            "[LightGBM] [Info] Number of data points in the train set: 75000, number of used features: 8\n",
            "[LightGBM] [Info] [binary:BoostFromScore]: pavg=0.191280 -> initscore=-1.441714\n",
            "[LightGBM] [Info] Start training from score -1.441714\n",
            "[LightGBM] [Warning] lambda_l1 is set=0.0011597368484330204, reg_alpha=0.0 will be ignored. Current value: lambda_l1=0.0011597368484330204\n",
            "[LightGBM] [Warning] bagging_freq is set=2, subsample_freq=0 will be ignored. Current value: bagging_freq=2\n",
            "[LightGBM] [Warning] bagging_fraction is set=0.9964049504013383, subsample=1.0 will be ignored. Current value: bagging_fraction=0.9964049504013383\n",
            "[LightGBM] [Warning] lambda_l2 is set=0.001167729124283521, reg_lambda=0.0 will be ignored. Current value: lambda_l2=0.001167729124283521\n",
            "ROC-AUC на тестовых данных: 0.74\n"
          ]
        }
      ],
      "source": [
        "# your code here\n",
        "\n",
        "params_lgbm = {'boosting_type': 'dart', 'lambda_l1': 0.0011597368484330204, 'lambda_l2': 0.001167729124283521, 'num_leaves': 507, 'bagging_fraction': 0.9964049504013383, 'bagging_freq': 2, 'min_child_samples': 28, 'n_estimators': 426}\n",
        "\n",
        "model_lgbm_params = LGBMClassifier(**params_lgbm, random_state=RANDOM_STATE)\n",
        "model_lgbm_params.fit(Xtrain, ytrain)\n",
        "\n",
        "y_pred_proba_lgbm_params = model_lgbm_params.predict_proba(Xtest)[:, 1]\n",
        "\n",
        "roc_auc_lgbm_params = roc_auc_score(ytest, y_pred_proba_lgbm_params)\n",
        "print(f\"ROC-AUC на тестовых данных: {roc_auc_lgbm_params:.2f}\")\n"
      ]
    },
    {
      "cell_type": "markdown",
      "metadata": {
        "id": "3kJk1Czm6nJg"
      },
      "source": [
        "## Quiz\n",
        "\n",
        "Поделитесь своими результатами!"
      ]
    }
  ],
  "metadata": {
    "colab": {
      "include_colab_link": true,
      "provenance": []
    },
    "kernelspec": {
      "display_name": ".venv",
      "language": "python",
      "name": "python3"
    },
    "language_info": {
      "codemirror_mode": {
        "name": "ipython",
        "version": 3
      },
      "file_extension": ".py",
      "mimetype": "text/x-python",
      "name": "python",
      "nbconvert_exporter": "python",
      "pygments_lexer": "ipython3",
      "version": "3.12.8"
    }
  },
  "nbformat": 4,
  "nbformat_minor": 0
}
