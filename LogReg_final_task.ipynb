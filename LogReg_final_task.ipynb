{
  "cells": [
    {
      "cell_type": "markdown",
      "metadata": {
        "colab_type": "text",
        "id": "view-in-github"
      },
      "source": [
        "<a href=\"https://colab.research.google.com/github/psaw/hse-ai24-ml/blob/main/LogReg_final_task.ipynb\" target=\"_parent\"><img src=\"https://colab.research.google.com/assets/colab-badge.svg\" alt=\"Open In Colab\"/></a>"
      ]
    },
    {
      "cell_type": "markdown",
      "metadata": {
        "id": "FtRSA6FevXlO"
      },
      "source": [
        "# Логистическая регрессия. Практика"
      ]
    },
    {
      "cell_type": "markdown",
      "metadata": {
        "id": "Q7ytv2GMjpGZ"
      },
      "source": [
        "В этом задании вам предлагается спрогнозировать, купит клиент велосипед или нет, обучив логистическую регрессию."
      ]
    },
    {
      "cell_type": "code",
      "execution_count": 243,
      "metadata": {
        "id": "aPDB2wP8jndz"
      },
      "outputs": [],
      "source": [
        "# подключим библиотеки\n",
        "import matplotlib.pyplot as plt\n",
        "import numpy as np\n",
        "import pandas as pd\n",
        "\n",
        "import warnings\n",
        "warnings.filterwarnings(\"ignore\")"
      ]
    },
    {
      "cell_type": "code",
      "execution_count": 244,
      "metadata": {
        "id": "7Zw7RmtAjn8O"
      },
      "outputs": [],
      "source": [
        "# считаем данные\n",
        "data = pd.read_csv('https://raw.githubusercontent.com/evgpat/edu_stepik_practical_ml/main/datasets/bike_buyers_clean.csv')"
      ]
    },
    {
      "cell_type": "code",
      "execution_count": 245,
      "metadata": {
        "id": "3QbRGWqJjxOv"
      },
      "outputs": [
        {
          "data": {
            "text/html": [
              "<div>\n",
              "<style scoped>\n",
              "    .dataframe tbody tr th:only-of-type {\n",
              "        vertical-align: middle;\n",
              "    }\n",
              "\n",
              "    .dataframe tbody tr th {\n",
              "        vertical-align: top;\n",
              "    }\n",
              "\n",
              "    .dataframe thead th {\n",
              "        text-align: right;\n",
              "    }\n",
              "</style>\n",
              "<table border=\"1\" class=\"dataframe\">\n",
              "  <thead>\n",
              "    <tr style=\"text-align: right;\">\n",
              "      <th></th>\n",
              "      <th>ID</th>\n",
              "      <th>Marital Status</th>\n",
              "      <th>Gender</th>\n",
              "      <th>Income</th>\n",
              "      <th>Children</th>\n",
              "      <th>Education</th>\n",
              "      <th>Occupation</th>\n",
              "      <th>Home Owner</th>\n",
              "      <th>Cars</th>\n",
              "      <th>Commute Distance</th>\n",
              "      <th>Region</th>\n",
              "      <th>Age</th>\n",
              "      <th>Purchased Bike</th>\n",
              "    </tr>\n",
              "  </thead>\n",
              "  <tbody>\n",
              "    <tr>\n",
              "      <th>0</th>\n",
              "      <td>12496</td>\n",
              "      <td>Married</td>\n",
              "      <td>Female</td>\n",
              "      <td>40000</td>\n",
              "      <td>1</td>\n",
              "      <td>Bachelors</td>\n",
              "      <td>Skilled Manual</td>\n",
              "      <td>Yes</td>\n",
              "      <td>0</td>\n",
              "      <td>0-1 Miles</td>\n",
              "      <td>Europe</td>\n",
              "      <td>42</td>\n",
              "      <td>No</td>\n",
              "    </tr>\n",
              "    <tr>\n",
              "      <th>1</th>\n",
              "      <td>24107</td>\n",
              "      <td>Married</td>\n",
              "      <td>Male</td>\n",
              "      <td>30000</td>\n",
              "      <td>3</td>\n",
              "      <td>Partial College</td>\n",
              "      <td>Clerical</td>\n",
              "      <td>Yes</td>\n",
              "      <td>1</td>\n",
              "      <td>0-1 Miles</td>\n",
              "      <td>Europe</td>\n",
              "      <td>43</td>\n",
              "      <td>No</td>\n",
              "    </tr>\n",
              "    <tr>\n",
              "      <th>2</th>\n",
              "      <td>14177</td>\n",
              "      <td>Married</td>\n",
              "      <td>Male</td>\n",
              "      <td>80000</td>\n",
              "      <td>5</td>\n",
              "      <td>Partial College</td>\n",
              "      <td>Professional</td>\n",
              "      <td>No</td>\n",
              "      <td>2</td>\n",
              "      <td>2-5 Miles</td>\n",
              "      <td>Europe</td>\n",
              "      <td>60</td>\n",
              "      <td>No</td>\n",
              "    </tr>\n",
              "    <tr>\n",
              "      <th>3</th>\n",
              "      <td>24381</td>\n",
              "      <td>Single</td>\n",
              "      <td>Male</td>\n",
              "      <td>70000</td>\n",
              "      <td>0</td>\n",
              "      <td>Bachelors</td>\n",
              "      <td>Professional</td>\n",
              "      <td>Yes</td>\n",
              "      <td>1</td>\n",
              "      <td>5-10 Miles</td>\n",
              "      <td>Pacific</td>\n",
              "      <td>41</td>\n",
              "      <td>Yes</td>\n",
              "    </tr>\n",
              "    <tr>\n",
              "      <th>4</th>\n",
              "      <td>25597</td>\n",
              "      <td>Single</td>\n",
              "      <td>Male</td>\n",
              "      <td>30000</td>\n",
              "      <td>0</td>\n",
              "      <td>Bachelors</td>\n",
              "      <td>Clerical</td>\n",
              "      <td>No</td>\n",
              "      <td>0</td>\n",
              "      <td>0-1 Miles</td>\n",
              "      <td>Europe</td>\n",
              "      <td>36</td>\n",
              "      <td>Yes</td>\n",
              "    </tr>\n",
              "  </tbody>\n",
              "</table>\n",
              "</div>"
            ],
            "text/plain": [
              "      ID Marital Status  Gender  Income  Children        Education  \\\n",
              "0  12496        Married  Female   40000         1        Bachelors   \n",
              "1  24107        Married    Male   30000         3  Partial College   \n",
              "2  14177        Married    Male   80000         5  Partial College   \n",
              "3  24381         Single    Male   70000         0        Bachelors   \n",
              "4  25597         Single    Male   30000         0        Bachelors   \n",
              "\n",
              "       Occupation Home Owner  Cars Commute Distance   Region  Age  \\\n",
              "0  Skilled Manual        Yes     0        0-1 Miles   Europe   42   \n",
              "1        Clerical        Yes     1        0-1 Miles   Europe   43   \n",
              "2    Professional         No     2        2-5 Miles   Europe   60   \n",
              "3    Professional        Yes     1       5-10 Miles  Pacific   41   \n",
              "4        Clerical         No     0        0-1 Miles   Europe   36   \n",
              "\n",
              "  Purchased Bike  \n",
              "0             No  \n",
              "1             No  \n",
              "2             No  \n",
              "3            Yes  \n",
              "4            Yes  "
            ]
          },
          "execution_count": 245,
          "metadata": {},
          "output_type": "execute_result"
        }
      ],
      "source": [
        "# выводим первые 5 строк датафрейма\n",
        "data.head(5)"
      ]
    },
    {
      "cell_type": "code",
      "execution_count": 246,
      "metadata": {
        "id": "UZz-ce-QnzaU"
      },
      "outputs": [
        {
          "data": {
            "text/plain": [
              "(1000, 13)"
            ]
          },
          "execution_count": 246,
          "metadata": {},
          "output_type": "execute_result"
        }
      ],
      "source": [
        "# смотрим размер датафрейма\n",
        "data.shape"
      ]
    },
    {
      "cell_type": "markdown",
      "metadata": {
        "id": "HbnaQJxw2mHQ"
      },
      "source": [
        "Выведите статистики по категориальным признакам, чтобы посмотреть, сколько категорий в каждом категориальном (нечисловом) признаке.\n",
        "\n",
        "Для этого можно воспользоваться методом `describe` из библиотеки pandas со значением параметра `include = 'object'`."
      ]
    },
    {
      "cell_type": "markdown",
      "metadata": {
        "id": "j1hhZ95gGt-w"
      },
      "source": [
        "**Вопрос:** в каком категориальном признаке встречаются три различных значения?  \n",
        "**Ответ:**  `Region`"
      ]
    },
    {
      "cell_type": "code",
      "execution_count": 247,
      "metadata": {
        "id": "_yYv_Ma18A9A"
      },
      "outputs": [
        {
          "data": {
            "text/html": [
              "<div>\n",
              "<style scoped>\n",
              "    .dataframe tbody tr th:only-of-type {\n",
              "        vertical-align: middle;\n",
              "    }\n",
              "\n",
              "    .dataframe tbody tr th {\n",
              "        vertical-align: top;\n",
              "    }\n",
              "\n",
              "    .dataframe thead th {\n",
              "        text-align: right;\n",
              "    }\n",
              "</style>\n",
              "<table border=\"1\" class=\"dataframe\">\n",
              "  <thead>\n",
              "    <tr style=\"text-align: right;\">\n",
              "      <th></th>\n",
              "      <th>Marital Status</th>\n",
              "      <th>Gender</th>\n",
              "      <th>Education</th>\n",
              "      <th>Occupation</th>\n",
              "      <th>Home Owner</th>\n",
              "      <th>Commute Distance</th>\n",
              "      <th>Region</th>\n",
              "      <th>Purchased Bike</th>\n",
              "    </tr>\n",
              "  </thead>\n",
              "  <tbody>\n",
              "    <tr>\n",
              "      <th>count</th>\n",
              "      <td>1000</td>\n",
              "      <td>1000</td>\n",
              "      <td>1000</td>\n",
              "      <td>1000</td>\n",
              "      <td>1000</td>\n",
              "      <td>1000</td>\n",
              "      <td>1000</td>\n",
              "      <td>1000</td>\n",
              "    </tr>\n",
              "    <tr>\n",
              "      <th>unique</th>\n",
              "      <td>2</td>\n",
              "      <td>2</td>\n",
              "      <td>5</td>\n",
              "      <td>5</td>\n",
              "      <td>2</td>\n",
              "      <td>5</td>\n",
              "      <td>3</td>\n",
              "      <td>2</td>\n",
              "    </tr>\n",
              "    <tr>\n",
              "      <th>top</th>\n",
              "      <td>Married</td>\n",
              "      <td>Male</td>\n",
              "      <td>Bachelors</td>\n",
              "      <td>Professional</td>\n",
              "      <td>Yes</td>\n",
              "      <td>0-1 Miles</td>\n",
              "      <td>North America</td>\n",
              "      <td>No</td>\n",
              "    </tr>\n",
              "    <tr>\n",
              "      <th>freq</th>\n",
              "      <td>539</td>\n",
              "      <td>509</td>\n",
              "      <td>306</td>\n",
              "      <td>276</td>\n",
              "      <td>685</td>\n",
              "      <td>366</td>\n",
              "      <td>508</td>\n",
              "      <td>519</td>\n",
              "    </tr>\n",
              "  </tbody>\n",
              "</table>\n",
              "</div>"
            ],
            "text/plain": [
              "       Marital Status Gender  Education    Occupation Home Owner  \\\n",
              "count            1000   1000       1000          1000       1000   \n",
              "unique              2      2          5             5          2   \n",
              "top           Married   Male  Bachelors  Professional        Yes   \n",
              "freq              539    509        306           276        685   \n",
              "\n",
              "       Commute Distance         Region Purchased Bike  \n",
              "count              1000           1000           1000  \n",
              "unique                5              3              2  \n",
              "top           0-1 Miles  North America             No  \n",
              "freq                366            508            519  "
            ]
          },
          "execution_count": 247,
          "metadata": {},
          "output_type": "execute_result"
        }
      ],
      "source": [
        "# ваш код здесь\n",
        "data.describe(include='object')"
      ]
    },
    {
      "cell_type": "markdown",
      "metadata": {
        "id": "R2MMCJkr8U5U"
      },
      "source": [
        "Закодируйте все категориальные столбцы с двумя категориями следующим образом:  \n",
        "самая часто встречающаяся категория превращается в 1, другая в 0."
      ]
    },
    {
      "cell_type": "code",
      "execution_count": 248,
      "metadata": {
        "id": "QzIOrBnA8eJa"
      },
      "outputs": [
        {
          "name": "stdout",
          "output_type": "stream",
          "text": [
            "['Marital Status', 'Gender', 'Home Owner', 'Purchased Bike']\n"
          ]
        }
      ],
      "source": [
        "# ваш код здесь\n",
        "cat2_cols = []\n",
        "for col in data.columns:\n",
        "    if data[col].dtype == 'object' and data[col].nunique() == 2:\n",
        "        cat2_cols.append(col)\n",
        "\n",
        "print(cat2_cols)  # ['Marital Status', 'Gender', 'Home Owner', 'Purchased Bike']"
      ]
    },
    {
      "cell_type": "code",
      "execution_count": 249,
      "metadata": {},
      "outputs": [],
      "source": [
        "for col in cat2_cols:\n",
        "    mod = data[col].mode()[0]  # \"мода\" - самое частое значение\n",
        "    data[col] = data[col].apply(lambda x: 1 if x == mod else 0)"
      ]
    },
    {
      "cell_type": "code",
      "execution_count": 250,
      "metadata": {},
      "outputs": [
        {
          "name": "stdout",
          "output_type": "stream",
          "text": [
            "<class 'pandas.core.frame.DataFrame'>\n",
            "RangeIndex: 1000 entries, 0 to 999\n",
            "Data columns (total 13 columns):\n",
            " #   Column            Non-Null Count  Dtype \n",
            "---  ------            --------------  ----- \n",
            " 0   ID                1000 non-null   int64 \n",
            " 1   Marital Status    1000 non-null   int64 \n",
            " 2   Gender            1000 non-null   int64 \n",
            " 3   Income            1000 non-null   int64 \n",
            " 4   Children          1000 non-null   int64 \n",
            " 5   Education         1000 non-null   object\n",
            " 6   Occupation        1000 non-null   object\n",
            " 7   Home Owner        1000 non-null   int64 \n",
            " 8   Cars              1000 non-null   int64 \n",
            " 9   Commute Distance  1000 non-null   object\n",
            " 10  Region            1000 non-null   object\n",
            " 11  Age               1000 non-null   int64 \n",
            " 12  Purchased Bike    1000 non-null   int64 \n",
            "dtypes: int64(9), object(4)\n",
            "memory usage: 101.7+ KB\n"
          ]
        }
      ],
      "source": [
        "data.info()"
      ]
    },
    {
      "cell_type": "markdown",
      "metadata": {
        "id": "qdDV_Cys9PAs"
      },
      "source": [
        "Удалите остальные категориальные столбцы.\n",
        "\n",
        "**Вопрос:** сколько категориальных столбцов вы удалили?  \n",
        "**Ответ:** 4"
      ]
    },
    {
      "cell_type": "code",
      "execution_count": 251,
      "metadata": {},
      "outputs": [
        {
          "data": {
            "text/plain": [
              "4"
            ]
          },
          "execution_count": 251,
          "metadata": {},
          "output_type": "execute_result"
        }
      ],
      "source": [
        "len(data.select_dtypes(include='object').columns)  # осталось 4 категориальных признака. предыдущие конвертировались в int64"
      ]
    },
    {
      "cell_type": "code",
      "execution_count": 252,
      "metadata": {},
      "outputs": [],
      "source": [
        "data.drop(columns=data.select_dtypes(include='object').columns, axis=1, inplace=True)"
      ]
    },
    {
      "cell_type": "markdown",
      "metadata": {
        "id": "0hjsUxpx9cAq"
      },
      "source": [
        "Удалите столбец `ID`, так как он по сути нечисловой."
      ]
    },
    {
      "cell_type": "code",
      "execution_count": 253,
      "metadata": {
        "id": "tbqbqjuE9gKV"
      },
      "outputs": [],
      "source": [
        "# ваш код здесь\n",
        "data.drop('ID', axis=1, inplace=True)"
      ]
    },
    {
      "cell_type": "markdown",
      "metadata": {
        "id": "4QjeoiTJ9j1u"
      },
      "source": [
        "Сформируйте матрицу объект-признак `X` и вектор `y` с целевой переменной.  \n",
        "Целевая переменная - это последний столбец, `Purchased Bike`."
      ]
    },
    {
      "cell_type": "code",
      "execution_count": 254,
      "metadata": {
        "id": "jYY7sZbu9_wM"
      },
      "outputs": [],
      "source": [
        "# ваш код здесь\n",
        "X = data.drop('Purchased Bike', axis=1)\n",
        "y = data['Purchased Bike']"
      ]
    },
    {
      "cell_type": "markdown",
      "metadata": {
        "id": "Cwxl-CUX-452"
      },
      "source": [
        "Разбейте данные на тренировочную и тестовую часть (`Xtrain`, `Xtest`, `ytrain`, `ytest`), в тест отправьте 30% данных.  \n",
        "Зафиксируйте `random_state = 42`."
      ]
    },
    {
      "cell_type": "code",
      "execution_count": 255,
      "metadata": {
        "id": "fquWQf8e--Zn"
      },
      "outputs": [],
      "source": [
        "from sklearn.model_selection import train_test_split\n",
        "\n",
        "Xtrain, Xtest, ytrain, ytest = train_test_split(X, y, train_size=0.7, random_state=42)"
      ]
    },
    {
      "cell_type": "markdown",
      "metadata": {
        "id": "6-Ki4tjHG6pt"
      },
      "source": [
        "**Вопрос:** сколько объектов в матрице `Xtrain`?  \n",
        "**Ответ:** 700"
      ]
    },
    {
      "cell_type": "code",
      "execution_count": 256,
      "metadata": {
        "id": "XFIuu2b9G92Q"
      },
      "outputs": [
        {
          "data": {
            "text/plain": [
              "(700, 7)"
            ]
          },
          "execution_count": 256,
          "metadata": {},
          "output_type": "execute_result"
        }
      ],
      "source": [
        "# ваш код здесь\n",
        "Xtrain.shape"
      ]
    },
    {
      "cell_type": "markdown",
      "metadata": {
        "id": "ZBdAk3RM-FQ4"
      },
      "source": [
        "Почти всё готово для обучения модели!\n",
        "\n",
        "Осталось отмасштабировать матрицу `X`, так как линейные модели чувствительны к масштабу данных.\n",
        "\n",
        "*  Обучите на тренировочной матрице (`Xtrain`) `MinMaxScaler` из библиотеки `sklearn.preprocessing`\n",
        "*  Примените масштабирование и к `Xtrain`, и к `Xtest`\n",
        "*  Переведите полученные после масштабирования `np.array` обратно в pandas `dataframe`.\n",
        "\n",
        "Полученные масштабированные матрицы назовите, как и раньше, `Xtrain` и `Xtest`."
      ]
    },
    {
      "cell_type": "code",
      "execution_count": 257,
      "metadata": {
        "id": "sxwLdpAK-oJp"
      },
      "outputs": [],
      "source": [
        "from sklearn.preprocessing import MinMaxScaler"
      ]
    },
    {
      "cell_type": "code",
      "execution_count": 258,
      "metadata": {},
      "outputs": [],
      "source": [
        "# ваш код здесь\n",
        "mmscaler = MinMaxScaler()\n",
        "mmscaler.fit(Xtrain)\n",
        "Xtrain_scaled = pd.DataFrame(mmscaler.transform(Xtrain), columns=mmscaler.get_feature_names_out())\n",
        "Xtest_scaled = pd.DataFrame(mmscaler.transform(Xtest), columns=mmscaler.get_feature_names_out())"
      ]
    },
    {
      "cell_type": "markdown",
      "metadata": {
        "id": "9g3cyUKPqgqu"
      },
      "source": [
        "Теперь обучите логистическую регрессию на тренировочных данных"
      ]
    },
    {
      "cell_type": "code",
      "execution_count": 259,
      "metadata": {
        "id": "efySFKgej1_1"
      },
      "outputs": [],
      "source": [
        "from sklearn.linear_model import LogisticRegression"
      ]
    },
    {
      "cell_type": "code",
      "execution_count": 260,
      "metadata": {},
      "outputs": [
        {
          "data": {
            "text/html": [
              "<style>#sk-container-id-7 {\n",
              "  /* Definition of color scheme common for light and dark mode */\n",
              "  --sklearn-color-text: black;\n",
              "  --sklearn-color-line: gray;\n",
              "  /* Definition of color scheme for unfitted estimators */\n",
              "  --sklearn-color-unfitted-level-0: #fff5e6;\n",
              "  --sklearn-color-unfitted-level-1: #f6e4d2;\n",
              "  --sklearn-color-unfitted-level-2: #ffe0b3;\n",
              "  --sklearn-color-unfitted-level-3: chocolate;\n",
              "  /* Definition of color scheme for fitted estimators */\n",
              "  --sklearn-color-fitted-level-0: #f0f8ff;\n",
              "  --sklearn-color-fitted-level-1: #d4ebff;\n",
              "  --sklearn-color-fitted-level-2: #b3dbfd;\n",
              "  --sklearn-color-fitted-level-3: cornflowerblue;\n",
              "\n",
              "  /* Specific color for light theme */\n",
              "  --sklearn-color-text-on-default-background: var(--sg-text-color, var(--theme-code-foreground, var(--jp-content-font-color1, black)));\n",
              "  --sklearn-color-background: var(--sg-background-color, var(--theme-background, var(--jp-layout-color0, white)));\n",
              "  --sklearn-color-border-box: var(--sg-text-color, var(--theme-code-foreground, var(--jp-content-font-color1, black)));\n",
              "  --sklearn-color-icon: #696969;\n",
              "\n",
              "  @media (prefers-color-scheme: dark) {\n",
              "    /* Redefinition of color scheme for dark theme */\n",
              "    --sklearn-color-text-on-default-background: var(--sg-text-color, var(--theme-code-foreground, var(--jp-content-font-color1, white)));\n",
              "    --sklearn-color-background: var(--sg-background-color, var(--theme-background, var(--jp-layout-color0, #111)));\n",
              "    --sklearn-color-border-box: var(--sg-text-color, var(--theme-code-foreground, var(--jp-content-font-color1, white)));\n",
              "    --sklearn-color-icon: #878787;\n",
              "  }\n",
              "}\n",
              "\n",
              "#sk-container-id-7 {\n",
              "  color: var(--sklearn-color-text);\n",
              "}\n",
              "\n",
              "#sk-container-id-7 pre {\n",
              "  padding: 0;\n",
              "}\n",
              "\n",
              "#sk-container-id-7 input.sk-hidden--visually {\n",
              "  border: 0;\n",
              "  clip: rect(1px 1px 1px 1px);\n",
              "  clip: rect(1px, 1px, 1px, 1px);\n",
              "  height: 1px;\n",
              "  margin: -1px;\n",
              "  overflow: hidden;\n",
              "  padding: 0;\n",
              "  position: absolute;\n",
              "  width: 1px;\n",
              "}\n",
              "\n",
              "#sk-container-id-7 div.sk-dashed-wrapped {\n",
              "  border: 1px dashed var(--sklearn-color-line);\n",
              "  margin: 0 0.4em 0.5em 0.4em;\n",
              "  box-sizing: border-box;\n",
              "  padding-bottom: 0.4em;\n",
              "  background-color: var(--sklearn-color-background);\n",
              "}\n",
              "\n",
              "#sk-container-id-7 div.sk-container {\n",
              "  /* jupyter's `normalize.less` sets `[hidden] { display: none; }`\n",
              "     but bootstrap.min.css set `[hidden] { display: none !important; }`\n",
              "     so we also need the `!important` here to be able to override the\n",
              "     default hidden behavior on the sphinx rendered scikit-learn.org.\n",
              "     See: https://github.com/scikit-learn/scikit-learn/issues/21755 */\n",
              "  display: inline-block !important;\n",
              "  position: relative;\n",
              "}\n",
              "\n",
              "#sk-container-id-7 div.sk-text-repr-fallback {\n",
              "  display: none;\n",
              "}\n",
              "\n",
              "div.sk-parallel-item,\n",
              "div.sk-serial,\n",
              "div.sk-item {\n",
              "  /* draw centered vertical line to link estimators */\n",
              "  background-image: linear-gradient(var(--sklearn-color-text-on-default-background), var(--sklearn-color-text-on-default-background));\n",
              "  background-size: 2px 100%;\n",
              "  background-repeat: no-repeat;\n",
              "  background-position: center center;\n",
              "}\n",
              "\n",
              "/* Parallel-specific style estimator block */\n",
              "\n",
              "#sk-container-id-7 div.sk-parallel-item::after {\n",
              "  content: \"\";\n",
              "  width: 100%;\n",
              "  border-bottom: 2px solid var(--sklearn-color-text-on-default-background);\n",
              "  flex-grow: 1;\n",
              "}\n",
              "\n",
              "#sk-container-id-7 div.sk-parallel {\n",
              "  display: flex;\n",
              "  align-items: stretch;\n",
              "  justify-content: center;\n",
              "  background-color: var(--sklearn-color-background);\n",
              "  position: relative;\n",
              "}\n",
              "\n",
              "#sk-container-id-7 div.sk-parallel-item {\n",
              "  display: flex;\n",
              "  flex-direction: column;\n",
              "}\n",
              "\n",
              "#sk-container-id-7 div.sk-parallel-item:first-child::after {\n",
              "  align-self: flex-end;\n",
              "  width: 50%;\n",
              "}\n",
              "\n",
              "#sk-container-id-7 div.sk-parallel-item:last-child::after {\n",
              "  align-self: flex-start;\n",
              "  width: 50%;\n",
              "}\n",
              "\n",
              "#sk-container-id-7 div.sk-parallel-item:only-child::after {\n",
              "  width: 0;\n",
              "}\n",
              "\n",
              "/* Serial-specific style estimator block */\n",
              "\n",
              "#sk-container-id-7 div.sk-serial {\n",
              "  display: flex;\n",
              "  flex-direction: column;\n",
              "  align-items: center;\n",
              "  background-color: var(--sklearn-color-background);\n",
              "  padding-right: 1em;\n",
              "  padding-left: 1em;\n",
              "}\n",
              "\n",
              "\n",
              "/* Toggleable style: style used for estimator/Pipeline/ColumnTransformer box that is\n",
              "clickable and can be expanded/collapsed.\n",
              "- Pipeline and ColumnTransformer use this feature and define the default style\n",
              "- Estimators will overwrite some part of the style using the `sk-estimator` class\n",
              "*/\n",
              "\n",
              "/* Pipeline and ColumnTransformer style (default) */\n",
              "\n",
              "#sk-container-id-7 div.sk-toggleable {\n",
              "  /* Default theme specific background. It is overwritten whether we have a\n",
              "  specific estimator or a Pipeline/ColumnTransformer */\n",
              "  background-color: var(--sklearn-color-background);\n",
              "}\n",
              "\n",
              "/* Toggleable label */\n",
              "#sk-container-id-7 label.sk-toggleable__label {\n",
              "  cursor: pointer;\n",
              "  display: block;\n",
              "  width: 100%;\n",
              "  margin-bottom: 0;\n",
              "  padding: 0.5em;\n",
              "  box-sizing: border-box;\n",
              "  text-align: center;\n",
              "}\n",
              "\n",
              "#sk-container-id-7 label.sk-toggleable__label-arrow:before {\n",
              "  /* Arrow on the left of the label */\n",
              "  content: \"▸\";\n",
              "  float: left;\n",
              "  margin-right: 0.25em;\n",
              "  color: var(--sklearn-color-icon);\n",
              "}\n",
              "\n",
              "#sk-container-id-7 label.sk-toggleable__label-arrow:hover:before {\n",
              "  color: var(--sklearn-color-text);\n",
              "}\n",
              "\n",
              "/* Toggleable content - dropdown */\n",
              "\n",
              "#sk-container-id-7 div.sk-toggleable__content {\n",
              "  max-height: 0;\n",
              "  max-width: 0;\n",
              "  overflow: hidden;\n",
              "  text-align: left;\n",
              "  /* unfitted */\n",
              "  background-color: var(--sklearn-color-unfitted-level-0);\n",
              "}\n",
              "\n",
              "#sk-container-id-7 div.sk-toggleable__content.fitted {\n",
              "  /* fitted */\n",
              "  background-color: var(--sklearn-color-fitted-level-0);\n",
              "}\n",
              "\n",
              "#sk-container-id-7 div.sk-toggleable__content pre {\n",
              "  margin: 0.2em;\n",
              "  border-radius: 0.25em;\n",
              "  color: var(--sklearn-color-text);\n",
              "  /* unfitted */\n",
              "  background-color: var(--sklearn-color-unfitted-level-0);\n",
              "}\n",
              "\n",
              "#sk-container-id-7 div.sk-toggleable__content.fitted pre {\n",
              "  /* unfitted */\n",
              "  background-color: var(--sklearn-color-fitted-level-0);\n",
              "}\n",
              "\n",
              "#sk-container-id-7 input.sk-toggleable__control:checked~div.sk-toggleable__content {\n",
              "  /* Expand drop-down */\n",
              "  max-height: 200px;\n",
              "  max-width: 100%;\n",
              "  overflow: auto;\n",
              "}\n",
              "\n",
              "#sk-container-id-7 input.sk-toggleable__control:checked~label.sk-toggleable__label-arrow:before {\n",
              "  content: \"▾\";\n",
              "}\n",
              "\n",
              "/* Pipeline/ColumnTransformer-specific style */\n",
              "\n",
              "#sk-container-id-7 div.sk-label input.sk-toggleable__control:checked~label.sk-toggleable__label {\n",
              "  color: var(--sklearn-color-text);\n",
              "  background-color: var(--sklearn-color-unfitted-level-2);\n",
              "}\n",
              "\n",
              "#sk-container-id-7 div.sk-label.fitted input.sk-toggleable__control:checked~label.sk-toggleable__label {\n",
              "  background-color: var(--sklearn-color-fitted-level-2);\n",
              "}\n",
              "\n",
              "/* Estimator-specific style */\n",
              "\n",
              "/* Colorize estimator box */\n",
              "#sk-container-id-7 div.sk-estimator input.sk-toggleable__control:checked~label.sk-toggleable__label {\n",
              "  /* unfitted */\n",
              "  background-color: var(--sklearn-color-unfitted-level-2);\n",
              "}\n",
              "\n",
              "#sk-container-id-7 div.sk-estimator.fitted input.sk-toggleable__control:checked~label.sk-toggleable__label {\n",
              "  /* fitted */\n",
              "  background-color: var(--sklearn-color-fitted-level-2);\n",
              "}\n",
              "\n",
              "#sk-container-id-7 div.sk-label label.sk-toggleable__label,\n",
              "#sk-container-id-7 div.sk-label label {\n",
              "  /* The background is the default theme color */\n",
              "  color: var(--sklearn-color-text-on-default-background);\n",
              "}\n",
              "\n",
              "/* On hover, darken the color of the background */\n",
              "#sk-container-id-7 div.sk-label:hover label.sk-toggleable__label {\n",
              "  color: var(--sklearn-color-text);\n",
              "  background-color: var(--sklearn-color-unfitted-level-2);\n",
              "}\n",
              "\n",
              "/* Label box, darken color on hover, fitted */\n",
              "#sk-container-id-7 div.sk-label.fitted:hover label.sk-toggleable__label.fitted {\n",
              "  color: var(--sklearn-color-text);\n",
              "  background-color: var(--sklearn-color-fitted-level-2);\n",
              "}\n",
              "\n",
              "/* Estimator label */\n",
              "\n",
              "#sk-container-id-7 div.sk-label label {\n",
              "  font-family: monospace;\n",
              "  font-weight: bold;\n",
              "  display: inline-block;\n",
              "  line-height: 1.2em;\n",
              "}\n",
              "\n",
              "#sk-container-id-7 div.sk-label-container {\n",
              "  text-align: center;\n",
              "}\n",
              "\n",
              "/* Estimator-specific */\n",
              "#sk-container-id-7 div.sk-estimator {\n",
              "  font-family: monospace;\n",
              "  border: 1px dotted var(--sklearn-color-border-box);\n",
              "  border-radius: 0.25em;\n",
              "  box-sizing: border-box;\n",
              "  margin-bottom: 0.5em;\n",
              "  /* unfitted */\n",
              "  background-color: var(--sklearn-color-unfitted-level-0);\n",
              "}\n",
              "\n",
              "#sk-container-id-7 div.sk-estimator.fitted {\n",
              "  /* fitted */\n",
              "  background-color: var(--sklearn-color-fitted-level-0);\n",
              "}\n",
              "\n",
              "/* on hover */\n",
              "#sk-container-id-7 div.sk-estimator:hover {\n",
              "  /* unfitted */\n",
              "  background-color: var(--sklearn-color-unfitted-level-2);\n",
              "}\n",
              "\n",
              "#sk-container-id-7 div.sk-estimator.fitted:hover {\n",
              "  /* fitted */\n",
              "  background-color: var(--sklearn-color-fitted-level-2);\n",
              "}\n",
              "\n",
              "/* Specification for estimator info (e.g. \"i\" and \"?\") */\n",
              "\n",
              "/* Common style for \"i\" and \"?\" */\n",
              "\n",
              ".sk-estimator-doc-link,\n",
              "a:link.sk-estimator-doc-link,\n",
              "a:visited.sk-estimator-doc-link {\n",
              "  float: right;\n",
              "  font-size: smaller;\n",
              "  line-height: 1em;\n",
              "  font-family: monospace;\n",
              "  background-color: var(--sklearn-color-background);\n",
              "  border-radius: 1em;\n",
              "  height: 1em;\n",
              "  width: 1em;\n",
              "  text-decoration: none !important;\n",
              "  margin-left: 1ex;\n",
              "  /* unfitted */\n",
              "  border: var(--sklearn-color-unfitted-level-1) 1pt solid;\n",
              "  color: var(--sklearn-color-unfitted-level-1);\n",
              "}\n",
              "\n",
              ".sk-estimator-doc-link.fitted,\n",
              "a:link.sk-estimator-doc-link.fitted,\n",
              "a:visited.sk-estimator-doc-link.fitted {\n",
              "  /* fitted */\n",
              "  border: var(--sklearn-color-fitted-level-1) 1pt solid;\n",
              "  color: var(--sklearn-color-fitted-level-1);\n",
              "}\n",
              "\n",
              "/* On hover */\n",
              "div.sk-estimator:hover .sk-estimator-doc-link:hover,\n",
              ".sk-estimator-doc-link:hover,\n",
              "div.sk-label-container:hover .sk-estimator-doc-link:hover,\n",
              ".sk-estimator-doc-link:hover {\n",
              "  /* unfitted */\n",
              "  background-color: var(--sklearn-color-unfitted-level-3);\n",
              "  color: var(--sklearn-color-background);\n",
              "  text-decoration: none;\n",
              "}\n",
              "\n",
              "div.sk-estimator.fitted:hover .sk-estimator-doc-link.fitted:hover,\n",
              ".sk-estimator-doc-link.fitted:hover,\n",
              "div.sk-label-container:hover .sk-estimator-doc-link.fitted:hover,\n",
              ".sk-estimator-doc-link.fitted:hover {\n",
              "  /* fitted */\n",
              "  background-color: var(--sklearn-color-fitted-level-3);\n",
              "  color: var(--sklearn-color-background);\n",
              "  text-decoration: none;\n",
              "}\n",
              "\n",
              "/* Span, style for the box shown on hovering the info icon */\n",
              ".sk-estimator-doc-link span {\n",
              "  display: none;\n",
              "  z-index: 9999;\n",
              "  position: relative;\n",
              "  font-weight: normal;\n",
              "  right: .2ex;\n",
              "  padding: .5ex;\n",
              "  margin: .5ex;\n",
              "  width: min-content;\n",
              "  min-width: 20ex;\n",
              "  max-width: 50ex;\n",
              "  color: var(--sklearn-color-text);\n",
              "  box-shadow: 2pt 2pt 4pt #999;\n",
              "  /* unfitted */\n",
              "  background: var(--sklearn-color-unfitted-level-0);\n",
              "  border: .5pt solid var(--sklearn-color-unfitted-level-3);\n",
              "}\n",
              "\n",
              ".sk-estimator-doc-link.fitted span {\n",
              "  /* fitted */\n",
              "  background: var(--sklearn-color-fitted-level-0);\n",
              "  border: var(--sklearn-color-fitted-level-3);\n",
              "}\n",
              "\n",
              ".sk-estimator-doc-link:hover span {\n",
              "  display: block;\n",
              "}\n",
              "\n",
              "/* \"?\"-specific style due to the `<a>` HTML tag */\n",
              "\n",
              "#sk-container-id-7 a.estimator_doc_link {\n",
              "  float: right;\n",
              "  font-size: 1rem;\n",
              "  line-height: 1em;\n",
              "  font-family: monospace;\n",
              "  background-color: var(--sklearn-color-background);\n",
              "  border-radius: 1rem;\n",
              "  height: 1rem;\n",
              "  width: 1rem;\n",
              "  text-decoration: none;\n",
              "  /* unfitted */\n",
              "  color: var(--sklearn-color-unfitted-level-1);\n",
              "  border: var(--sklearn-color-unfitted-level-1) 1pt solid;\n",
              "}\n",
              "\n",
              "#sk-container-id-7 a.estimator_doc_link.fitted {\n",
              "  /* fitted */\n",
              "  border: var(--sklearn-color-fitted-level-1) 1pt solid;\n",
              "  color: var(--sklearn-color-fitted-level-1);\n",
              "}\n",
              "\n",
              "/* On hover */\n",
              "#sk-container-id-7 a.estimator_doc_link:hover {\n",
              "  /* unfitted */\n",
              "  background-color: var(--sklearn-color-unfitted-level-3);\n",
              "  color: var(--sklearn-color-background);\n",
              "  text-decoration: none;\n",
              "}\n",
              "\n",
              "#sk-container-id-7 a.estimator_doc_link.fitted:hover {\n",
              "  /* fitted */\n",
              "  background-color: var(--sklearn-color-fitted-level-3);\n",
              "}\n",
              "</style><div id=\"sk-container-id-7\" class=\"sk-top-container\"><div class=\"sk-text-repr-fallback\"><pre>LogisticRegression()</pre><b>In a Jupyter environment, please rerun this cell to show the HTML representation or trust the notebook. <br />On GitHub, the HTML representation is unable to render, please try loading this page with nbviewer.org.</b></div><div class=\"sk-container\" hidden><div class=\"sk-item\"><div class=\"sk-estimator fitted sk-toggleable\"><input class=\"sk-toggleable__control sk-hidden--visually\" id=\"sk-estimator-id-7\" type=\"checkbox\" checked><label for=\"sk-estimator-id-7\" class=\"sk-toggleable__label fitted sk-toggleable__label-arrow fitted\">&nbsp;&nbsp;LogisticRegression<a class=\"sk-estimator-doc-link fitted\" rel=\"noreferrer\" target=\"_blank\" href=\"https://scikit-learn.org/1.5/modules/generated/sklearn.linear_model.LogisticRegression.html\">?<span>Documentation for LogisticRegression</span></a><span class=\"sk-estimator-doc-link fitted\">i<span>Fitted</span></span></label><div class=\"sk-toggleable__content fitted\"><pre>LogisticRegression()</pre></div> </div></div></div></div>"
            ],
            "text/plain": [
              "LogisticRegression()"
            ]
          },
          "execution_count": 260,
          "metadata": {},
          "output_type": "execute_result"
        }
      ],
      "source": [
        "# ваш код здесь\n",
        "lr = LogisticRegression()\n",
        "lr.fit(Xtrain, ytrain)"
      ]
    },
    {
      "cell_type": "markdown",
      "metadata": {
        "id": "a5nWN5OV_eTO"
      },
      "source": [
        "Сделайте предсказания на тренировочных и на тестовых данных."
      ]
    },
    {
      "cell_type": "code",
      "execution_count": 261,
      "metadata": {
        "id": "QzR_npzTj5OC"
      },
      "outputs": [],
      "source": [
        "# ваш код здесь\n",
        "pred_train = lr.predict(Xtrain_scaled)\n",
        "pred_test = lr.predict(Xtest_scaled)"
      ]
    },
    {
      "cell_type": "markdown",
      "metadata": {
        "id": "ZFOiK8N5_oh_"
      },
      "source": [
        "Оцените значение accuracy на трейне и на тесте."
      ]
    },
    {
      "cell_type": "code",
      "execution_count": 262,
      "metadata": {
        "id": "H5wafqpe_tZI"
      },
      "outputs": [],
      "source": [
        "from sklearn.metrics import accuracy_score"
      ]
    },
    {
      "cell_type": "code",
      "execution_count": 263,
      "metadata": {},
      "outputs": [
        {
          "name": "stdout",
          "output_type": "stream",
          "text": [
            "Accuracy (train): 0.594\n",
            "Accuracy (test): 0.513\n"
          ]
        }
      ],
      "source": [
        "# ваш код здесь\n",
        "acc_train = accuracy_score(ytrain, pred_train)\n",
        "acc_test = accuracy_score(ytest, pred_test)\n",
        "print(f\"Accuracy (train): {acc_train:.3f}\")\n",
        "print(f\"Accuracy (test): {acc_test:.3f}\")"
      ]
    },
    {
      "cell_type": "markdown",
      "metadata": {
        "id": "hapdxPhK_zvc"
      },
      "source": [
        "Качество модели получилось невысоким, зато модель не переобучена."
      ]
    },
    {
      "cell_type": "markdown",
      "metadata": {
        "id": "pEQfWP8h_4hm"
      },
      "source": [
        "Попробуем добавить новых признаков в модель, используя [PolynomialFeatures](https://scikit-learn.org/stable/modules/generated/sklearn.preprocessing.PolynomialFeatures.html).\n",
        "\n",
        "Создайте полиномиальные признаки degree = 2.\n",
        "\n",
        "Как обычно:\n",
        "*  `fit` делайте на тренировочных данных\n",
        "*  `transform` и на тренировочных, и на тестовых данных. Затем верните результат к формату pandas `dataframe`.\n",
        "\n",
        "Полученные матрицы назовите, как и раньше, `Xtrain` и `Xtest`."
      ]
    },
    {
      "cell_type": "code",
      "execution_count": 264,
      "metadata": {
        "id": "MzT-Tl5wANZk"
      },
      "outputs": [],
      "source": [
        "from sklearn.preprocessing import PolynomialFeatures\n",
        "\n",
        "# ваш код здесь\n",
        "poly = PolynomialFeatures(degree=2)\n",
        "poly.fit(Xtrain)\n",
        "\n",
        "# Xtrain_poly = pd.DataFrame(poly.transform(Xtrain), columns=poly.get_feature_names_out())\n",
        "# Xtest_poly = pd.DataFrame(poly.transform(Xtest), columns=poly.get_feature_names_out())\n",
        "Xtrain = pd.DataFrame(poly.transform(Xtrain), columns=poly.get_feature_names_out())\n",
        "Xtest = pd.DataFrame(poly.transform(Xtest), columns=poly.get_feature_names_out())\n",
        "Xtrain_poly = Xtrain\n",
        "Xtest_poly = Xtest"
      ]
    },
    {
      "cell_type": "markdown",
      "metadata": {
        "id": "ZzlQMf9LHPhE"
      },
      "source": [
        "**Вопрос:** на сколько признаков стало больше при добавлении полиномиальных признаков второй степени?  \n",
        "**Ответ:** на 29\n"
      ]
    },
    {
      "cell_type": "code",
      "execution_count": 265,
      "metadata": {},
      "outputs": [],
      "source": [
        "len(Xtrain_poly.columns)\n",
        "\n",
        "# заново применим масштабирование\n",
        "mmscaler.fit(Xtrain_poly, ytrain)\n",
        "Xtrain_poly_scaled = mmscaler.transform(Xtrain_poly)\n",
        "Xtest_poly_scaled = mmscaler.transform(Xtest_poly)"
      ]
    },
    {
      "cell_type": "markdown",
      "metadata": {
        "id": "CjGzWJQZA8hM"
      },
      "source": [
        "Заново обучите логистическую регрессию, уже на расширенной матрице признаков, и сделайте предсказания на трейне и тесте, а затем оцените качество (*accuracy*)."
      ]
    },
    {
      "cell_type": "code",
      "execution_count": 267,
      "metadata": {
        "id": "2-HDOPblBEGv"
      },
      "outputs": [
        {
          "name": "stdout",
          "output_type": "stream",
          "text": [
            "Accuracy (test): 0.617\n"
          ]
        }
      ],
      "source": [
        "# ваш код здесь\n",
        "lr2 = LogisticRegression()\n",
        "lr2.fit(Xtrain_poly_scaled, ytrain)\n",
        "pred2_train = lr2.predict(Xtrain_poly_scaled)\n",
        "pred2_test = lr2.predict(Xtest_poly_scaled)\n",
        "acc2 = accuracy_score(ytest, pred2_test)\n",
        "\n",
        "print(f\"Accuracy (test): {acc2:.3f}\")"
      ]
    },
    {
      "cell_type": "markdown",
      "metadata": {
        "id": "QwmRr1GjBSzj"
      },
      "source": [
        "**Вопрос:** на сколько повысилось качество модели на тестовых данных?  \n",
        "Ответ округлите до сотых."
      ]
    },
    {
      "cell_type": "code",
      "execution_count": 268,
      "metadata": {},
      "outputs": [
        {
          "data": {
            "text/plain": [
              "0.1033"
            ]
          },
          "execution_count": 268,
          "metadata": {},
          "output_type": "execute_result"
        }
      ],
      "source": [
        "round(acc2 - acc_test, 4)"
      ]
    },
    {
      "cell_type": "markdown",
      "metadata": {
        "id": "N4zMaBDVBeNp"
      },
      "source": [
        "Появились новые требования от заказчика!\n",
        "\n",
        "Заказчик просит, чтобы:\n",
        "*  доля найденных моделью потенциальных покупателей была максимальной\n",
        "*  accuracy при этом была не ниже, чем 0.6 (отклонения *accuracy* на тестовых данных на $\\pm 0.05$ допустимы)."
      ]
    },
    {
      "cell_type": "markdown",
      "metadata": {
        "id": "wI0dQoHdFH84"
      },
      "source": [
        "Сначала посмотрите, какие значения *recall* и *accuracy* имеют предсказния модели на тесте с классами, предсказанными по умолчанию (методом `predict`)."
      ]
    },
    {
      "cell_type": "code",
      "execution_count": 269,
      "metadata": {},
      "outputs": [],
      "source": [
        "from sklearn.metrics import classification_report"
      ]
    },
    {
      "cell_type": "code",
      "execution_count": 270,
      "metadata": {
        "id": "IsnATTD1FQi7"
      },
      "outputs": [
        {
          "name": "stdout",
          "output_type": "stream",
          "text": [
            "              precision    recall  f1-score   support\n",
            "\n",
            "           0       0.55      0.22      0.31       152\n",
            "           1       0.50      0.82      0.62       148\n",
            "\n",
            "    accuracy                           0.51       300\n",
            "   macro avg       0.53      0.52      0.47       300\n",
            "weighted avg       0.53      0.51      0.47       300\n",
            "\n"
          ]
        }
      ],
      "source": [
        "# ваш код здесь\n",
        "print(classification_report(ytest, pred_test))"
      ]
    },
    {
      "cell_type": "code",
      "execution_count": 271,
      "metadata": {},
      "outputs": [
        {
          "name": "stdout",
          "output_type": "stream",
          "text": [
            "              precision    recall  f1-score   support\n",
            "\n",
            "           0       0.65      0.54      0.59       152\n",
            "           1       0.60      0.70      0.64       148\n",
            "\n",
            "    accuracy                           0.62       300\n",
            "   macro avg       0.62      0.62      0.61       300\n",
            "weighted avg       0.62      0.62      0.61       300\n",
            "\n"
          ]
        }
      ],
      "source": [
        "print(classification_report(ytest, pred2_test))"
      ]
    },
    {
      "cell_type": "markdown",
      "metadata": {
        "id": "wJPY-nREFFo2"
      },
      "source": [
        "Подберём порог для перевода вероятностей в классы, чтобы оптимизировать требуемые метрики!\n",
        "\n",
        "Разобъем тренировочные данные на трейн и валидацию, чтобы по валидационной части подбирать порог."
      ]
    },
    {
      "cell_type": "code",
      "execution_count": 272,
      "metadata": {
        "id": "p5xH5iBcB4bp"
      },
      "outputs": [
        {
          "data": {
            "text/plain": [
              "((490, 36), (210, 36))"
            ]
          },
          "execution_count": 272,
          "metadata": {},
          "output_type": "execute_result"
        }
      ],
      "source": [
        "XtrainS, Xval, ytrainS, yval = train_test_split(Xtrain, ytrain, test_size=0.3, random_state=42)\n",
        "\n",
        "XtrainS.shape, Xval.shape"
      ]
    },
    {
      "cell_type": "markdown",
      "metadata": {
        "id": "Qlws70k8CZkb"
      },
      "source": [
        "* Обучите модель на тренировочных данных.\n",
        "* Предскажите вероятности положительного класса на валидационных данных\n",
        "\n",
        "В цикле для каждого значения порога:\n",
        "*  переведите вероятности в классы\n",
        "*  вычислите полноту (на валидационных данных)\n",
        "\n",
        "Выведите на экран:\n",
        "\n",
        "1) значение порога, дающее максимальный *recall*, при условии, что *accuracy* $\\geq$ 0.6.\n",
        "\n",
        "2) значение *recall* при этом пороге\n",
        "\n",
        "3) значение *accuracy* для этого порога\n",
        "\n",
        "\n",
        "Ищите порог на отрезке от 0 до 1 с шагом 0.01."
      ]
    },
    {
      "cell_type": "code",
      "execution_count": 285,
      "metadata": {
        "id": "uh-F1HvvB_74"
      },
      "outputs": [
        {
          "name": "stdout",
          "output_type": "stream",
          "text": [
            "0.44 0.8240740740740741 0.6\n"
          ]
        }
      ],
      "source": [
        "from sklearn.metrics import recall_score\n",
        "\n",
        "RecMax = -1\n",
        "BestThr = -1\n",
        "BestAcc = -1\n",
        "\n",
        "lr3 = LogisticRegression()\n",
        "lr3.fit(XtrainS, ytrainS)\n",
        "pred3_prob = lr3.predict_proba(Xval)\n",
        "\n",
        "for thr in np.arange(0, 1, 0.01):\n",
        "    # ваш код здесь\n",
        "    pred3_thr = (pred3_prob[:, 1] >= thr)*1\n",
        "    acc = accuracy_score(yval, pred3_thr)\n",
        "    rec = recall_score(yval, pred3_thr)\n",
        "\n",
        "    if rec >= RecMax and acc >= 0.6:\n",
        "        RecMax = rec\n",
        "        BestThr = thr\n",
        "        BestAcc = acc\n",
        "\n",
        "# print(recall_score(yval, pred3))\n",
        "print (BestThr, RecMax, BestAcc)"
      ]
    },
    {
      "cell_type": "markdown",
      "metadata": {
        "id": "bV7RBPJRDsUG"
      },
      "source": [
        "Теперь заново обучите модель на исходных тренировочных данных (`Xtrain`, `ytrain`), предскажите вероятности на тесте и переведите их в классы по найденному порогу."
      ]
    },
    {
      "cell_type": "code",
      "execution_count": 290,
      "metadata": {
        "id": "g51hSqzxDrF7"
      },
      "outputs": [
        {
          "name": "stdout",
          "output_type": "stream",
          "text": [
            "Recall = 0.818, Accuracy = 0.563\n"
          ]
        }
      ],
      "source": [
        "# ваш код здесь\n",
        "lr4 = LogisticRegression()\n",
        "lr4.fit(Xtrain, ytrain)\n",
        "pred4_prob = lr4.predict_proba(Xtest)\n",
        "\n",
        "pred4_thr = (pred4_prob[:, 1] >= BestThr)*1\n",
        "\n",
        "\n",
        "print(f\"Recall = {recall_score(ytest, pred4_thr):.3f}, Accuracy = {accuracy_score(ytest, pred4_thr):.3f}\")"
      ]
    },
    {
      "cell_type": "markdown",
      "metadata": {
        "id": "c8W-zTuUHaNl"
      },
      "source": [
        "**Вопрос:** какое значение *recall* получилось на тестовых данных после подбора порога?  \n",
        "Ответ округлите до десятых."
      ]
    },
    {
      "cell_type": "markdown",
      "metadata": {
        "id": "hnJuS9MxFxCh"
      },
      "source": [
        "При помощи подбора порога удалось сильно увеличить значение *recall*!  \n",
        "Однако, как видно, на тесте не удалось сохранить условие $accuracy \\geq 0.6$ (но в допустимые рамки уложились!)\n",
        "\n",
        "Это свидетельство небольшого переобучения модели. Однако в сухом остатке имеет значительное увеличение полноты, что является приоритетом для заказчика."
      ]
    }
  ],
  "metadata": {
    "colab": {
      "include_colab_link": true,
      "provenance": []
    },
    "kernelspec": {
      "display_name": ".venv",
      "language": "python",
      "name": "python3"
    },
    "language_info": {
      "codemirror_mode": {
        "name": "ipython",
        "version": 3
      },
      "file_extension": ".py",
      "mimetype": "text/x-python",
      "name": "python",
      "nbconvert_exporter": "python",
      "pygments_lexer": "ipython3",
      "version": "3.12.8"
    }
  },
  "nbformat": 4,
  "nbformat_minor": 0
}
