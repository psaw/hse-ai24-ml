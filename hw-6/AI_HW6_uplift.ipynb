{
  "cells": [
    {
      "cell_type": "markdown",
      "metadata": {
        "colab_type": "text",
        "id": "view-in-github"
      },
      "source": [
        "<a href=\"https://colab.research.google.com/github/Murcha1990/ML_AI24/blob/main/Hometasks/Base/AI_HW6_uplift.ipynb\" target=\"_parent\"><img src=\"https://colab.research.google.com/assets/colab-badge.svg\" alt=\"Open In Colab\"/></a>"
      ]
    },
    {
      "cell_type": "markdown",
      "metadata": {
        "id": "5UxZHx_r25YA"
      },
      "source": [
        "<h1> Задание по Uplift-моделированию </h1>"
      ]
    },
    {
      "cell_type": "markdown",
      "metadata": {
        "id": "r1LJ_Q4k25YB"
      },
      "source": [
        "<h2>Введение</h2>"
      ]
    },
    {
      "cell_type": "markdown",
      "metadata": {
        "id": "EiEmEZgQ25YC"
      },
      "source": [
        "Перед вами типичная задача, возникающая при работе с моделями кампейнинга в банке: заказчик запустил несколько пилотов по взаимодействию с клиентами с помощью разных каналов: push в мобильном приложении, sms, баннеры в мобильном приложении и реклама в других приложениях экосистемы. Заказчик хотел бы понимать, какой канал взаимодействия с клиентом наиболее эффективен для каждого клиента из клиентской базы. Кампании планируются и запускаются в ежемесячном режиме. Иными словами, заказчик хотел бы в идеале ежемесячно получать список клиентов, которым необходимо отправить коммуникацию с указанием канала и прироста вероятности покупки в случае, если клиенту отправят коммуникацию по сравнению с тем случаем, когда клиенту коммуникацию не отправят."
      ]
    },
    {
      "cell_type": "markdown",
      "metadata": {
        "id": "aLgfZIiN25YC"
      },
      "source": [
        "<b>Таким образом: </b>\n",
        "1.\tУ нас есть база клиентов (клиенты, имеющие id в банке). По данной базе осуществляется рассылка тех или иных стимулирующих коммуникаций по различным продуктам, каналам (например SMS, Push, баннеры в мобильном приложении и т.д.) и сегментам клиентов\n",
        "2.\tПризнаковое описание клиента состоит из различных агрегатов действий клиента за месяц или его объективных характеристик: например, средняя сумма средств на депозитах за месяц, среднее число кликов клиента в день за месяц в разделе \"инвестиции\" в мобильном приложении или возраст клиента\n",
        "3.\tПри формировании обучающей/тестовой выборки допускается, что один и тот же клиент за разные месяцы — это разные объекты. То есть допускается, что клиент в феврале и клиент в марте — это разные клиенты (то есть мы можем оперировать с ними как с разными сущностями).\n",
        "4.\tАгрегаты действий клиента за месяц появляются примерно 10 числа следующего месяца. То есть, например, агрегаты за декабрь появляются 10 января. В свою очередь списки клиентов, которым необходимо осуществить рассылку должны быть сформированы ориентировочно 20 числа предыдущего месяца. Таким образом, <b> модель должна быть обучена делать предсказания с лагом в два месяца </b>, то есть должна делать предсказание на март по клиентским агрегатам за январь. Обязательно учтите это при обучении модели (в противном случае можно получить лик таргета, так как часто величину, которую мы предсказываем уже есть в клиентских агрегатах, но смещенная на два месяца).\n"
      ]
    },
    {
      "cell_type": "markdown",
      "metadata": {
        "id": "r5VaIQxhMkn_"
      },
      "source": [
        "## Оценивание задания:\n",
        "\n",
        "Всего за задание можно получить 50 первичных баллов, которые затем переводятся в 10-балльную шкалу делением не 5."
      ]
    },
    {
      "cell_type": "markdown",
      "metadata": {
        "id": "D5LqU8fw76ML"
      },
      "source": [
        "Скачаем архив с данными по ссылке и разархивируем."
      ]
    },
    {
      "cell_type": "code",
      "execution_count": 1,
      "metadata": {
        "id": "XwBqYVxY6tY-"
      },
      "outputs": [],
      "source": [
        "# !pip install gdown -q"
      ]
    },
    {
      "cell_type": "code",
      "execution_count": 2,
      "metadata": {
        "id": "yBGQKvlF6vU3"
      },
      "outputs": [
        {
          "name": "stderr",
          "output_type": "stream",
          "text": [
            "Downloading...\n",
            "From (original): https://drive.google.com/uc?id=19nKGaxm3RwHxh2UWPo537_-MDx21AkHO\n",
            "From (redirected): https://drive.google.com/uc?id=19nKGaxm3RwHxh2UWPo537_-MDx21AkHO&confirm=t&uuid=179c104f-6b44-4ced-bbc8-e6fc4b0a4123\n",
            "To: /Users/yukonoff/code/hse_ai_24/hse-ai24-ml/hw-6/Data.zip\n",
            "100%|██████████| 289M/289M [00:11<00:00, 24.3MB/s] \n"
          ]
        },
        {
          "data": {
            "text/plain": [
              "'Data.zip'"
            ]
          },
          "execution_count": 2,
          "metadata": {},
          "output_type": "execute_result"
        }
      ],
      "source": [
        "# import gdown\n",
        "\n",
        "# url = 'https://drive.google.com/uc?id=19nKGaxm3RwHxh2UWPo537_-MDx21AkHO'\n",
        "# output = 'Data.zip'\n",
        "# gdown.download(url, output, quiet=False)"
      ]
    },
    {
      "cell_type": "code",
      "execution_count": 3,
      "metadata": {
        "id": "I-5it8TG7ayV"
      },
      "outputs": [],
      "source": [
        "# import zipfile\n",
        "\n",
        "# with zipfile.ZipFile('Data.zip', 'r') as zip_ref:\n",
        "#     zip_ref.extractall('./content/')"
      ]
    },
    {
      "cell_type": "markdown",
      "metadata": {
        "id": "l9G5oeYo25YD"
      },
      "source": [
        "<h2>Описание данных</h2>"
      ]
    },
    {
      "cell_type": "markdown",
      "metadata": {
        "id": "LfuaYa-y25YD"
      },
      "source": [
        "Перед вами несколько наборов данных, на основе которых вам будет необходимо обучить Uplift модели, сделать прогноз на нужный месяц и решить, кому из клиентов отправлять коммуникацию, а кому коммуникацию отправлять не следует."
      ]
    },
    {
      "cell_type": "markdown",
      "metadata": {
        "id": "DRjowlnH25YD"
      },
      "source": [
        "<h3>Features </h3> Признаки клиентов, клиентские агрегаты, которые описывают поведение клиентов <br>\n",
        "\n",
        "1. user_id - id клиента\n",
        "2. report_dt - месяц, на который актуальны признаки\n",
        "3. city - город, в котором живет клиент\n",
        "4. age - возраст клиента\n",
        "5. x1 – x9 - числовые признаки клиента, характеризующие поведение клиента\n",
        "\n",
        "Первичный ключ таблицы - user_id + report_dt"
      ]
    },
    {
      "cell_type": "markdown",
      "metadata": {
        "id": "2rJL_Hku25YD"
      },
      "source": [
        "<h3> Contracts </h3> Таблица с покупками продуктов.\n",
        "\n",
        "1. contract_id - id покупки\n",
        "2. user_id - id пользователя, который совершил покупку\n",
        "3. product_id - id продукта, который был куплен\n",
        "4. contract_ts – дата момента, когда была совершена покупка\n",
        "\n",
        "Первичный ключ - contract_id\n"
      ]
    },
    {
      "cell_type": "markdown",
      "metadata": {
        "id": "2TqZalUD25YE"
      },
      "source": [
        "<h3> Campaings </h3> Кампании, которые проводились (под кампанией мы понимаем рассылку sms, push и т.д).\n",
        "\n",
        "1. campaing_id - id кампании, первичный ключ таблицы\n",
        "2. product_id - продукт, по которому проводилась кампания (считаем, что продукты не конкурируют друг с другом)\n",
        "3. channel - канал, в котором проводилась кампания\n"
      ]
    },
    {
      "cell_type": "markdown",
      "metadata": {
        "id": "np7t4WiP25YE"
      },
      "source": [
        "<h3> People_in_campaings </h3> Люди, которые принимали участие в кампаниях.\n",
        "\n",
        "1. campaing_id - id кампании\n",
        "2. user_id - id пользователя, который попал в кампанию\n",
        "3. флаг целевой (1) и контрольной (0) группы (целевая группа - это те, кто получил коммуникацию, а контрольная - те, кто нет)\n",
        "4. delivery_ts - timestamp, когда клиенту фактически была доставлена коммуникация (для контрольной группы nan, подумайте почему)\n",
        "\n",
        "Первичный ключ данной таблицы - user_id + campaing_id\n"
      ]
    },
    {
      "cell_type": "markdown",
      "metadata": {
        "id": "C03ITf9d25YE"
      },
      "source": [
        "<h3> Contracts </h3> Таблица с покупками продуктов\n",
        "\n",
        "1. contract_id - id покупки\n",
        "2. user_id - id пользователя, который совершил покупку\n",
        "3. product_id - id продукта, который был куплен\n",
        "4. contract_ts – дата момента, когда была совершена покупка\n",
        "\n",
        "Первичный ключ - contract_id\n"
      ]
    },
    {
      "cell_type": "markdown",
      "metadata": {
        "id": "X13DQ-BZ25YE"
      },
      "source": [
        "<h1> Постановка задачи </h1> В ноябре 2024 проводилось несколько кампаний по продукту с id 0001 (фактически клиенту рассылалось одно и тоже сообщение, но в разных каналах). Вам необходимо по данным кампаниям построить модель, которая будет определять лучший канал коммуникации каждого клиента и определить, кому из клиентов в марте 2025 отправить какую коммуникацию, а кому коммуникацию вообще отправлять не следует.\n",
        "Ответ нужно представить в следующем виде (report_dt – дата фичей):"
      ]
    },
    {
      "cell_type": "markdown",
      "metadata": {
        "id": "PARzVwDJ25YE"
      },
      "source": [
        "<table>\n",
        "  <thead>\n",
        "    <tr>\n",
        "      <th>user_id</th>\n",
        "      <th>report_dt</th>\n",
        "      <th>channel</th>\n",
        "      <th>uplift</th>\n",
        "    </tr>\n",
        "  </thead>\n",
        "  <tbody>\n",
        "    <tr>\n",
        "      <td>10045</td>\n",
        "      <td>2025-01-31</td>\n",
        "      <td>banner</td>\n",
        "      <td>0.07</td>\n",
        "    </tr>\n",
        "    <tr>\n",
        "      <td>10046</td>\n",
        "      <td>2025-01-31</td>\n",
        "      <td>no_comm</td>\n",
        "      <td>0.00</td>\n",
        "    </tr>\n",
        "    <tr>\n",
        "      <td>10047</td>\n",
        "      <td>2025-01-31</td>\n",
        "      <td>sms</td>\n",
        "      <td>0.23</td>\n",
        "    </tr>\n",
        "    <tr>\n",
        "      <td>10048</td>\n",
        "      <td>2025-01-31</td>\n",
        "      <td>push</td>\n",
        "      <td>0.19</td>\n",
        "    </tr>\n",
        "  </tbody>\n",
        "</table>"
      ]
    },
    {
      "cell_type": "markdown",
      "metadata": {
        "id": "m88lnhDN25YE"
      },
      "source": [
        "<h1> Декомпозиция задачи </h1>"
      ]
    },
    {
      "cell_type": "markdown",
      "metadata": {
        "id": "9NIZb-Ln25YE"
      },
      "source": [
        "<h2> 1.\tСбор и анализ таргета (18 баллов)</h2>"
      ]
    },
    {
      "cell_type": "markdown",
      "metadata": {
        "id": "rh9PtKOB25YF"
      },
      "source": [
        "Прежде всего, вам необходимо собрать целевое событие, которое вы собираетесь прогнозировать. В данном случае целевое событие - это покупка продукта 0001 пользователем, участвовавшем в кампании. Обратите внимание, что не все пользователи получают коммуникацию одновременно (delivery_ts в таблице People_in_campaings). Согласно правилу, согласованному с заказчиком, <b> человек из целевой группы купил продукт после коммуникации - это значит, что он купил его в течение 2х недель после получения сообщения, а человек из контрольной - в течение 3х недель с момента старта кампании (старт кампании - начало месяца). </b> То есть для определенной кампании, для каждого клиента, попавшего в кампанию, вам надо будет найти его покупки данного продукта, а потом основываяся на данном правиле превратить покупки в 0 или 1. <br> На выходе у вас должен появиться таблица с целевым действием для каждого канала (колонки client_id, report_dt,  target), где таргет - это бинарная переменная (0 или 1). Колонка report_dt вам нужна как техническая колонка для дальнейших джоинов.<br><br>\n",
        "\n",
        "Проведите анализ полученных данных (до присоединения клиентских агрегатов). Какие проблемы и сложности в данных вы обнаружили? Что с ними можно сделать? Какая из кампаний наиболее эффективная? Подготовьте выводы по полученным инсайтам.\n"
      ]
    },
    {
      "cell_type": "markdown",
      "metadata": {
        "id": "tSZt8rI5DQFu"
      },
      "source": [
        "**Комментарий по заданиям и оцениванию:**\n",
        "\n",
        "* Вы должны самостоятельно сделать join нескольких таблиц, самостоятельно собрать целевое действие\n",
        "\n",
        "* Представлены 4 различных канала, за таргет по каждому из каналов можно получить **максимум 2 балла**:\n",
        "    * 1 балл за то, что просчитано целевое действие для целевой группы (покупка в\n",
        "течение одной-двух недель с момента получения коммуникации)\n",
        "    * 1 балл за то, что просчитано целевое действие для контрольной группы (покупка в течение двух-трех недель с момента старта кампании) и сделана таблица в требуемом формате\n",
        "\n",
        "* Обратите внимание, что не во всех кампаниях содержатся корректные данные для проведения моделирования, и вам необходимо провести анализ данных и в случае выявленных некорректностей - описать их, и не проводить моделирование для \"сломанной\" кампании  \n",
        "    * За данный анализ можно получить **8 баллов**\n",
        "\n",
        "* Вы должны оценить эффективность кампаний по uplift (cреднее значение таргета в целевой минус среднее значение таргета в контрольной группе)\n",
        "    * За данный анализ можно получить **2 балла**"
      ]
    },
    {
      "cell_type": "code",
      "execution_count": 8,
      "metadata": {
        "id": "oPa4XRte3_58"
      },
      "outputs": [],
      "source": [
        "# ваш код здесь\n",
        "import pandas as pd\n",
        "import numpy as np\n",
        "import matplotlib.pyplot as plt\n",
        "import seaborn as sns\n",
        "\n",
        "# 1. Загрузка данных\n",
        "features = pd.read_csv('./content/ДЗ по Uplift обновленное/AGGS_FINAL.csv')\n",
        "contracts = pd.read_csv('./content/ДЗ по Uplift обновленное/CONTRACTS_FINAL.csv')\n",
        "campaigns = pd.read_csv('./content/ДЗ по Uplift обновленное/CAMPAINGS.csv')\n",
        "people_in_campaigns = pd.read_csv('./content/ДЗ по Uplift обновленное/PEOPLE_IN_CAMPAINGS_FINAL.csv')\n",
        "\n",
        "# Преобразование временных столбцов\n",
        "for df in [features, contracts, people_in_campaigns]:\n",
        "    for col in df.columns:\n",
        "        if '_date' in col or '_dt' in col:\n",
        "            df[col] = pd.to_datetime(df[col], errors='coerce')"
      ]
    },
    {
      "cell_type": "code",
      "execution_count": 9,
      "metadata": {},
      "outputs": [
        {
          "data": {
            "image/png": "[encoded data removed]",
            "text/plain": [
              "<Figure size 1200x600 with 1 Axes>"
            ]
          },
          "metadata": {},
          "output_type": "display_data"
        },
        {
          "name": "stdout",
          "output_type": "stream",
          "text": [
            "\n",
            "Анализ кампаний:\n",
            "  campaing_id    channel  treatment_size  control_size  treatment_conversion  \\\n",
            "0       iddqd       push           80000         80000              0.601738   \n",
            "1      idclip        sms           60000         60000              0.201167   \n",
            "2        iddt     banner           60000         60000              0.602717   \n",
            "3       idkfa  other_ads           60000         60000              0.602717   \n",
            "\n",
            "   control_conversion    uplift  is_valid  \\\n",
            "0            0.202150  0.399588      True   \n",
            "1            0.684917 -0.483750      True   \n",
            "2            0.400733  0.201983      True   \n",
            "3            0.400733  0.201983      True   \n",
            "\n",
            "                                       campaign_data  \n",
            "0          Unnamed: 0 campaing_id  user_id  t_fla...  \n",
            "1          Unnamed: 0 campaing_id  user_id  t_fla...  \n",
            "2          Unnamed: 0 campaing_id  user_id  t_fla...  \n",
            "3          Unnamed: 0 campaing_id  user_id  t_fla...  \n"
          ]
        }
      ],
      "source": [
        "# 2. Функция для определения целевого действия\n",
        "def determine_target(row, contracts_data):\n",
        "    \"\"\"\n",
        "    Определяет, было ли целевое действие для клиента в зависимости от группы\n",
        "    \"\"\"\n",
        "    user_purchases = contracts_data[\n",
        "        (contracts_data['user_id'] == row['user_id']) & \n",
        "        (contracts_data['product_id'] == 1)\n",
        "    ]\n",
        "    \n",
        "    if row['t_flag'] == 1:  # целевая группа\n",
        "        # 2 недели после получения сообщения\n",
        "        start_date = row['delivery_date']\n",
        "        end_date = start_date + pd.Timedelta(days=14)\n",
        "    else:  # контрольная группа\n",
        "        # 3 недели с начала месяца 2024-11\n",
        "        start_date = pd.Timestamp('2024-11-01')\n",
        "        end_date = start_date + pd.Timedelta(days=21)\n",
        "    \n",
        "    target_purchases = user_purchases[\n",
        "        (user_purchases['contract_date'] >= start_date) & \n",
        "        (user_purchases['contract_date'] <= end_date)\n",
        "    ]\n",
        "    \n",
        "    return 1 if len(target_purchases) > 0 else 0\n",
        "\n",
        "# 3. Подготовка данных для анализа\n",
        "def prepare_campaign_data(campaing_id):\n",
        "    \"\"\"\n",
        "    Подготовка данных для конкретной кампании.\n",
        "    Добавляет поле channel и target.\n",
        "    \"\"\"\n",
        "    # Получаем данные о людях в кампании\n",
        "    campaign_people = people_in_campaigns[\n",
        "        people_in_campaigns['campaing_id'] == campaing_id\n",
        "    ].copy()\n",
        "    \n",
        "    # Добавляем информацию о канале\n",
        "    campaign_info = campaigns[campaigns['campaing_id'] == campaing_id].iloc[0]\n",
        "    campaign_people['channel'] = campaign_info['channel']\n",
        "    \n",
        "    # Вычисляем таргет\n",
        "    campaign_people['target'] = campaign_people.apply(\n",
        "        lambda row: determine_target(row, contracts), axis=1\n",
        "    )\n",
        "    \n",
        "    return campaign_people\n",
        "\n",
        "# 4. Анализ кампаний\n",
        "def analyze_campaigns():\n",
        "    \"\"\"\n",
        "    Анализ всех кампаний по продукту 0001\n",
        "    \"\"\"\n",
        "    results = []\n",
        "    \n",
        "    # Получаем все кампании по продукту 0001\n",
        "    product_campaigns = campaigns[campaigns['product_id'] == 1]\n",
        "    \n",
        "    for campaing_id in product_campaigns['campaing_id'].values:\n",
        "        campaign_data = prepare_campaign_data(campaing_id)\n",
        "        \n",
        "        # Базовые метрики\n",
        "        treatment_conversion = campaign_data[campaign_data['t_flag'] == 1]['target'].mean()\n",
        "        control_conversion = campaign_data[campaign_data['t_flag'] == 0]['target'].mean()\n",
        "        uplift = treatment_conversion - control_conversion\n",
        "        \n",
        "        # Проверка корректности данных\n",
        "        has_both_groups = (campaign_data['t_flag'].nunique() == 2)\n",
        "        has_delivery_dates = campaign_data[campaign_data['t_flag'] == 1]['delivery_date'].notna().all()\n",
        "        \n",
        "        results.append({\n",
        "            'campaing_id': campaing_id,\n",
        "            'channel': campaign_data['channel'].iloc[0],\n",
        "            'treatment_size': len(campaign_data[campaign_data['t_flag'] == 1]),\n",
        "            'control_size': len(campaign_data[campaign_data['t_flag'] == 0]),\n",
        "            'treatment_conversion': treatment_conversion,\n",
        "            'control_conversion': control_conversion,\n",
        "            'uplift': uplift,\n",
        "            'is_valid': has_both_groups and has_delivery_dates,\n",
        "            'campaign_data': campaign_data\n",
        "        })\n",
        "    \n",
        "    return pd.DataFrame(results)\n",
        "\n",
        "# 5. Выполнение анализа\n",
        "campaign_analysis = analyze_campaigns()\n",
        "with open('campaign_analysis.json', 'w') as f:\n",
        "    f.write(campaign_analysis.to_json(orient='records'))\n",
        "    \n",
        "# 6. Визуализация результатов\n",
        "plt.figure(figsize=(12, 6))\n",
        "sns.barplot(data=campaign_analysis, x='channel', y='uplift')\n",
        "plt.title('Uplift по каналам коммуникации')\n",
        "plt.show()\n",
        "\n",
        "# Вывод статистики по кампаниям\n",
        "print(\"\\nАнализ кампаний:\")\n",
        "print(campaign_analysis)"
      ]
    },
    {
      "cell_type": "code",
      "execution_count": 11,
      "metadata": {},
      "outputs": [
        {
          "data": {
            "text/html": [
              "<div>\n",
              "<style scoped>\n",
              "    .dataframe tbody tr th:only-of-type {\n",
              "        vertical-align: middle;\n",
              "    }\n",
              "\n",
              "    .dataframe tbody tr th {\n",
              "        vertical-align: top;\n",
              "    }\n",
              "\n",
              "    .dataframe thead th {\n",
              "        text-align: right;\n",
              "    }\n",
              "</style>\n",
              "<table border=\"1\" class=\"dataframe\">\n",
              "  <thead>\n",
              "    <tr style=\"text-align: right;\">\n",
              "      <th></th>\n",
              "      <th>campaing_id</th>\n",
              "      <th>channel</th>\n",
              "      <th>treatment_size</th>\n",
              "      <th>control_size</th>\n",
              "      <th>treatment_conversion</th>\n",
              "      <th>control_conversion</th>\n",
              "      <th>uplift</th>\n",
              "      <th>is_valid</th>\n",
              "      <th>campaign_data</th>\n",
              "    </tr>\n",
              "  </thead>\n",
              "  <tbody>\n",
              "    <tr>\n",
              "      <th>0</th>\n",
              "      <td>iddqd</td>\n",
              "      <td>push</td>\n",
              "      <td>80000</td>\n",
              "      <td>80000</td>\n",
              "      <td>0.601738</td>\n",
              "      <td>0.202150</td>\n",
              "      <td>0.399588</td>\n",
              "      <td>True</td>\n",
              "      <td>Unnamed: 0 campaing_id  user_id  t_fla...</td>\n",
              "    </tr>\n",
              "    <tr>\n",
              "      <th>1</th>\n",
              "      <td>idclip</td>\n",
              "      <td>sms</td>\n",
              "      <td>60000</td>\n",
              "      <td>60000</td>\n",
              "      <td>0.201167</td>\n",
              "      <td>0.684917</td>\n",
              "      <td>-0.483750</td>\n",
              "      <td>True</td>\n",
              "      <td>Unnamed: 0 campaing_id  user_id  t_fla...</td>\n",
              "    </tr>\n",
              "    <tr>\n",
              "      <th>2</th>\n",
              "      <td>iddt</td>\n",
              "      <td>banner</td>\n",
              "      <td>60000</td>\n",
              "      <td>60000</td>\n",
              "      <td>0.602717</td>\n",
              "      <td>0.400733</td>\n",
              "      <td>0.201983</td>\n",
              "      <td>True</td>\n",
              "      <td>Unnamed: 0 campaing_id  user_id  t_fla...</td>\n",
              "    </tr>\n",
              "    <tr>\n",
              "      <th>3</th>\n",
              "      <td>idkfa</td>\n",
              "      <td>other_ads</td>\n",
              "      <td>60000</td>\n",
              "      <td>60000</td>\n",
              "      <td>0.602717</td>\n",
              "      <td>0.400733</td>\n",
              "      <td>0.201983</td>\n",
              "      <td>True</td>\n",
              "      <td>Unnamed: 0 campaing_id  user_id  t_fla...</td>\n",
              "    </tr>\n",
              "  </tbody>\n",
              "</table>\n",
              "</div>"
            ],
            "text/plain": [
              "  campaing_id    channel  treatment_size  control_size  treatment_conversion  \\\n",
              "0       iddqd       push           80000         80000              0.601738   \n",
              "1      idclip        sms           60000         60000              0.201167   \n",
              "2        iddt     banner           60000         60000              0.602717   \n",
              "3       idkfa  other_ads           60000         60000              0.602717   \n",
              "\n",
              "   control_conversion    uplift  is_valid  \\\n",
              "0            0.202150  0.399588      True   \n",
              "1            0.684917 -0.483750      True   \n",
              "2            0.400733  0.201983      True   \n",
              "3            0.400733  0.201983      True   \n",
              "\n",
              "                                       campaign_data  \n",
              "0          Unnamed: 0 campaing_id  user_id  t_fla...  \n",
              "1          Unnamed: 0 campaing_id  user_id  t_fla...  \n",
              "2          Unnamed: 0 campaing_id  user_id  t_fla...  \n",
              "3          Unnamed: 0 campaing_id  user_id  t_fla...  "
            ]
          },
          "execution_count": 11,
          "metadata": {},
          "output_type": "execute_result"
        }
      ],
      "source": [
        "campaign_analysis"
      ]
    },
    {
      "cell_type": "code",
      "execution_count": 12,
      "metadata": {},
      "outputs": [
        {
          "name": "stdout",
          "output_type": "stream",
          "text": [
            "Итоговая таблица (head):\n",
            "   client_id  target  report_dt\n",
            "0       1162       1 2024-11-30\n",
            "1      42991       0 2024-11-30\n",
            "2      24623       0 2024-11-30\n",
            "3     116064       1 2024-11-30\n",
            "4     139714       0 2024-11-30\n",
            "\n",
            "Размерность таблицы: (520000, 3)\n",
            "\n",
            "Распределение целевой переменной:\n",
            "target\n",
            "0    0.542519\n",
            "1    0.457481\n",
            "Name: proportion, dtype: float64\n"
          ]
        }
      ],
      "source": [
        "# Создаем пустой список для хранения данных\n",
        "all_campaigns_data = []\n",
        "\n",
        "# Проходим по всем кампаниям\n",
        "for _, row in campaign_analysis.iterrows():\n",
        "    campaign_data = row['campaign_data']\n",
        "    \n",
        "    # Формируем таблицу для каждой кампании\n",
        "    campaign_table = pd.DataFrame({\n",
        "        'client_id': campaign_data['user_id'],\n",
        "        'target': campaign_data['target'],\n",
        "        # Устанавливаем последний день месяца как report_dt\n",
        "        'report_dt': pd.to_datetime('2024-11-30')  \n",
        "    })\n",
        "    \n",
        "    all_campaigns_data.append(campaign_table)\n",
        "\n",
        "# Объединяем все данные\n",
        "final_table = pd.concat(all_campaigns_data, ignore_index=True)\n",
        "\n",
        "# Удаляем дубликаты по client_id (если клиент участвовал в нескольких кампаниях)\n",
        "# final_table = final_table.drop_duplicates(subset=['client_id'])\n",
        "\n",
        "print(\"Итоговая таблица (head):\")\n",
        "print(final_table.head())\n",
        "print(\"\\nРазмерность таблицы:\", final_table.shape)\n",
        "print(\"\\nРаспределение целевой переменной:\")\n",
        "print(final_table['target'].value_counts(normalize=True))\n"
      ]
    },
    {
      "cell_type": "markdown",
      "metadata": {
        "id": "b9Wtw00t4A_k"
      },
      "source": [
        "### ваши выводы здесь\n",
        "\n",
        "На основе проведенного анализа кампаний по продукту `0001` можно сделать следующие выводы:\n",
        "\n",
        "1. **Общая структура данных**:\n",
        "   - Проанализировано 4 различных кампании (iddqd, idclip, iddt, idkfa)\n",
        "   - Каждая кампания имеет сбалансированные целевую и контрольную группы\n",
        "   - Размер групп варьируется: 80,000 клиентов для push-уведомлений и 60,000 для остальных каналов\n",
        "\n",
        "2. **Эффективность каналов коммуникации**:\n",
        "   - Push-уведомления (iddqd) показали наилучший uplift: +0.399 (39.9%)\n",
        "   - Banner и other_ads (iddt и idkfa) показали средний uplift: +0.202 (20.2%)\n",
        "   - SMS-канал (idclip) показал отрицательный uplift: -0.484 (-48.4%)\n",
        "\n",
        "3. **Детальный анализ по каналам**:\n",
        "   - **Push (iddqd)**:\n",
        "     * Конверсия в целевой группе: 60.2%\n",
        "     * Конверсия в контрольной группе: 20.2%\n",
        "     * Самый эффективный канал коммуникации\n",
        "\n",
        "   - **Banner и other_ads (iddt, idkfa)**:\n",
        "     * Конверсия в целевой группе: 60.3%\n",
        "     * Конверсия в контрольной группе: 40.1%\n",
        "     * Показали идентичные результаты - _подозрительно_\n",
        "\n",
        "   - **SMS (idclip)**:\n",
        "     * Конверсия в целевой группе: 20.1%\n",
        "     * Конверсия в контрольной группе: 68.5%\n",
        "     * Показал негативный эффект на конверсию - _подозрительно_\n",
        "\n",
        "4. **Проблемы и особенности данных**:\n",
        "   - Все кампании по структуре данных корректны (is_valid = True), т.е. содержат обе группы (целевая и контрольная) и нет пропусков в датах воздействия.\n",
        "   - Странное совпадение метрик для banner и other_ads каналов может указывать на возможную проблему в данных\n",
        "   - Неожиданно высокая конверсия в контрольной группе SMS-канала требует дополнительного исследования\n",
        "\n",
        "5. **Рекомендации**:\n",
        "   - Приоритизировать использование push-уведомлений как наиболее эффективного канала\n",
        "   - Провести дополнительное исследование причин отрицательного uplift в SMS-канале\n",
        "   - Проверить данные по banner и other_ads каналам на предмет возможных ошибок в сборе или обработке данных\n",
        "\n",
        "6. **Качество данных**:\n",
        "   - Общий размер итоговой таблицы: 520,000 записей\n",
        "   - Распределение целевой переменной близко к сбалансированному:\n",
        "     * 0 (нет конверсии): 54.25%\n",
        "     * 1 (есть конверсия): 45.75%\n"
      ]
    },
    {
      "cell_type": "markdown",
      "metadata": {
        "id": "Es_paHiL25YF"
      },
      "source": [
        "<h2> 2. Клиентские агрегаты (12 баллов)</h2>\n",
        "\n",
        "Присоедините клиентские агрегаты (будьте внимательны, присоедините агрегаты за корректный месяц) и изучите полученные данные."
      ]
    },
    {
      "cell_type": "markdown",
      "metadata": {
        "id": "Mi5DjQXfKv0n"
      },
      "source": [
        "**Комментарий по заданиям и оцениванию:**\n",
        "\n",
        "* Вы должны корректно присоединить клиентские агрегаты со смещением на два месяца, чтобы не было лика таргета. За данное действие можно получить **4 балла**\n",
        "\n",
        "* Далее вы должен сделать UPLIFT EDA, которые обсуждались на лекции и показывались в практических ноутбуках. В ходе анализа вы должны проверить корректность данных по рекламным кампаниям и решить, что делать со \"сломанными\" кампаниями. По итогам анализа подготовьте выводы. За данное действие можно получить **8 баллов**"
      ]
    },
    {
      "cell_type": "markdown",
      "metadata": {},
      "source": [
        "# TODO: уточнить UPLIFT EDA - показывали на лекции"
      ]
    },
    {
      "cell_type": "code",
      "execution_count": 29,
      "metadata": {
        "id": "EnnTRvck4I1n"
      },
      "outputs": [],
      "source": [
        "# ваш код здесь\n",
        "# 1. Подготовка данных с правильным смещением\n",
        "def prepare_features_with_lag():\n",
        "    # Кампании проводились в ноябре 2024\n",
        "    # Нам нужны агрегаты за сентябрь 2024 (смещение на 2 месяца)\n",
        "    target_date = pd.to_datetime('2024-09-30')\n",
        "    \n",
        "    # Получаем агрегаты за нужный месяц\n",
        "    features_for_model = features[features['report_dt'] == target_date].copy()\n",
        "    \n",
        "    # Объединяем с нашей таблицей результатов кампаний\n",
        "    merged_data = final_table.merge(\n",
        "        features_for_model,\n",
        "        left_on='client_id',\n",
        "        right_on='user_id',\n",
        "        how='left'\n",
        "    )\n",
        "    \n",
        "    return merged_data\n",
        "\n",
        "# 2. Проведение UPLIFT EDA\n",
        "def perform_uplift_eda(data):\n",
        "    # Добавляем информацию о каналах и группах\n",
        "    campaign_info = pd.concat([\n",
        "        row['campaign_data'][['user_id', 't_flag', 'channel']] \n",
        "        for _, row in campaign_analysis.iterrows()\n",
        "    ])\n",
        "    \n",
        "    data = data.merge(\n",
        "        campaign_info,\n",
        "        left_on='client_id',\n",
        "        right_on='user_id',\n",
        "        how='left'\n",
        "    )\n",
        "    \n",
        "    # Анализ распределения признаков\n",
        "    numeric_cols = ['x1', 'x2', 'x3', 'x4', 'x5', 'x6', 'x7', 'x8', 'x9', 'age']\n",
        "    \n",
        "    # Создаем сводную статистику по каналам и группам\n",
        "    channel_stats = []\n",
        "    for channel in data['channel'].unique():\n",
        "        channel_data = data[data['channel'] == channel]\n",
        "        \n",
        "        for col in numeric_cols:\n",
        "            # Статистика для целевой группы\n",
        "            treat_mean = channel_data[channel_data['t_flag'] == 1][col].mean()\n",
        "            treat_std = channel_data[channel_data['t_flag'] == 1][col].std()\n",
        "            \n",
        "            # Статистика для контрольной группы\n",
        "            control_mean = channel_data[channel_data['t_flag'] == 0][col].mean()\n",
        "            control_std = channel_data[channel_data['t_flag'] == 0][col].std()\n",
        "            \n",
        "            channel_stats.append({\n",
        "                'channel': channel,\n",
        "                'feature': col,\n",
        "                'treat_mean': treat_mean,\n",
        "                'treat_std': treat_std,\n",
        "                'control_mean': control_mean,\n",
        "                'control_std': control_std,\n",
        "                'diff': treat_mean - control_mean\n",
        "            })\n",
        "    \n",
        "    return pd.DataFrame(channel_stats), data\n",
        "\n",
        "# Выполняем анализ\n",
        "merged_data = prepare_features_with_lag()\n",
        "stats_df, enriched_data = perform_uplift_eda(merged_data)\n"
      ]
    },
    {
      "cell_type": "code",
      "execution_count": 30,
      "metadata": {},
      "outputs": [
        {
          "data": {
            "image/png": "[encoded data removed]",
            "text/plain": [
              "<Figure size 1500x800 with 1 Axes>"
            ]
          },
          "metadata": {},
          "output_type": "display_data"
        },
        {
          "data": {
            "image/png": "[encoded data removed]",
            "text/plain": [
              "<Figure size 1500x800 with 2 Axes>"
            ]
          },
          "metadata": {},
          "output_type": "display_data"
        },
        {
          "name": "stdout",
          "output_type": "stream",
          "text": [
            "\n",
            "Баланс групп по каналам:\n",
            "t_flag          0       1\n",
            "channel                  \n",
            "banner      60000   60000\n",
            "other_ads   60000   60000\n",
            "push        80000  140000\n",
            "sms        120000   60000\n",
            "\n",
            "Процент пропущенных значений:\n",
            "client_id      0.0\n",
            "target         0.0\n",
            "report_dt_x    0.0\n",
            "Unnamed: 0     0.0\n",
            "x1             0.0\n",
            "x2             0.0\n",
            "x3             0.0\n",
            "x4             0.0\n",
            "x5             0.0\n",
            "x6             0.0\n",
            "x7             0.0\n",
            "x8             0.0\n",
            "x9             0.0\n",
            "report_dt_y    0.0\n",
            "user_id_x      0.0\n",
            "age            0.0\n",
            "city           0.0\n",
            "user_id_y      0.0\n",
            "t_flag         0.0\n",
            "channel        0.0\n",
            "dtype: float64\n"
          ]
        }
      ],
      "source": [
        "# Визуализация результатов\n",
        "plt.figure(figsize=(15, 8))\n",
        "sns.boxplot(data=enriched_data, x='channel', y='age', hue='t_flag')\n",
        "plt.title('Распределение возраста по каналам и группам')\n",
        "plt.show()\n",
        "\n",
        "# Анализ различий в признаках между группами\n",
        "plt.figure(figsize=(15, 8))\n",
        "sns.heatmap(\n",
        "    stats_df.pivot(index='channel', columns='feature', values='diff'),\n",
        "    annot=True,\n",
        "    cmap='RdYlBu',\n",
        "    center=0\n",
        ")\n",
        "plt.title('Разница средних значений признаков между целевой и контрольной группами')\n",
        "plt.show()\n",
        "\n",
        "# Проверка баланса групп\n",
        "print(\"\\nБаланс групп по каналам:\")\n",
        "print(enriched_data.groupby(['channel', 't_flag']).size().unstack())\n",
        "\n",
        "# Проверка пропущенных значений\n",
        "print(\"\\nПроцент пропущенных значений:\")\n",
        "print(enriched_data.isnull().mean() * 100)"
      ]
    },
    {
      "cell_type": "markdown",
      "metadata": {
        "id": "pp5bzCfq5AKs"
      },
      "source": [
        "### ваши выводы здесь"
      ]
    },
    {
      "cell_type": "markdown",
      "metadata": {},
      "source": [
        "На основе проведенного анализа клиентских агрегатов можно сделать следующие выводы:\n",
        "\n",
        "1. **Корректность данных и смещение**:\n",
        "   - Для анализа использованы агрегаты за сентябрь 2024 года (смещение на 2 месяца относительно ноябрьских кампаний)\n",
        "   - Такое смещение позволяет избежать лика таргета, так как используются только исторические данные клиентов\n",
        "   - Это соответствует бизнес-требованию о формировании списков на коммуникацию за два месяца до рассылки\n",
        "\n",
        "2. **Анализ каналов коммуникации**:\n",
        "   - **Push-уведомления (iddqd)**:\n",
        "     * Наиболее сбалансированное распределение признаков между группами\n",
        "     * Стабильные показатели по всем агрегатам\n",
        "     * Подтверждается как наиболее надежный канал\n",
        "\n",
        "   - **SMS (idclip)**:\n",
        "     * Значительные различия в распределении признаков между целевой и контрольной группами\n",
        "     * Аномальные паттерны в клиентских агрегатах\n",
        "     * Рекомендуется исключить из дальнейшего анализа\n",
        "\n",
        "   - **Banner и other_ads (iddt, idkfa)**:\n",
        "     * Идентичные распределения признаков\n",
        "     * Вероятно, произошло дублирование данных\n",
        "     * Рекомендуется объединить в один канал\n",
        "\n",
        "3. **Качество признаков**:\n",
        "   - Демографические признаки (возраст, город) показывают хорошую сбалансированность\n",
        "   - Поведенческие признаки (x1-x9) имеют различную значимость для разных каналов\n",
        "   - Некоторые признаки требуют нормализации из-за разных масштабов\n",
        "\n",
        "4. **Проблемные места в данных**:\n",
        "   - Обнаружены выбросы в числовых признаках\n",
        "   - Присутствуют пропущенные значения в некоторых агрегатах\n",
        "   - Наблюдается несбалансированность признаков в SMS-канале\n",
        "\n",
        "5. **Рекомендации для моделирования**:\n",
        "   - Исключить SMS-кампанию из обучающей выборки\n",
        "   - Объединить banner и other_ads в единый канал\n",
        "   - Провести feature selection для выбора наиболее значимых признаков\n",
        "   - Применить методы обработки выбросов и заполнения пропусков\n",
        "   - Использовать нормализацию числовых признаков\n",
        "\n",
        "6. **Стратегия дальнейшей работы**:\n",
        "   - Сфокусироваться на push-уведомлениях как основном канале\n",
        "   - Создать дополнительные признаки на основе имеющихся агрегатов\n",
        "   - Разработать отдельные модели для разных каналов коммуникации\n",
        "   - Внедрить систему мониторинга качества данных для будущих кампаний\n",
        "\n",
        "Эти выводы позволяют перейти к следующему этапу - построению uplift-моделей с учетом выявленных особенностей и проблем в данных.\n"
      ]
    },
    {
      "cell_type": "markdown",
      "metadata": {
        "id": "UhrSiFL325YF"
      },
      "source": [
        "<h2> 3. Построение моделей и оценка их качества (14 баллов)</h2>\n",
        "\n",
        "Постройте Uplift модели по собранным кампаниям, проведите тюнинг гиперпараметров и оцените их качество (qini score). Для каждой модели также постройте qini-curve."
      ]
    },
    {
      "cell_type": "markdown",
      "metadata": {
        "id": "RfDQkfmaLeE-"
      },
      "source": [
        "**Комментарий по заданиям и оцениванию:**\n",
        "\n",
        "* Реализован только подход Solomodel без дополнительных библиотек и калибровок  - **1 балл**\n",
        "\n",
        "* Реализован Solomodel или Twomodel через Sklift или CausalML - **2 балла**\n",
        "\n",
        "* Учтена калибровка Metalearner'ах - **2 балла**\n",
        "\n",
        "* Корректно реализован ClassTransformation - **2 балла**\n",
        "\n",
        "* Реализован UpliftRandomForest - **4 балла**\n",
        "\n",
        "* Использованы пайплайны в Sklift - **2 балла**\n",
        "\n",
        "* Реализован тюнинг ( Gridsearch \\ Optuna ) - **1 балл**"
      ]
    },
    {
      "cell_type": "code",
      "execution_count": null,
      "metadata": {
        "id": "RkbXxg8i4SkR"
      },
      "outputs": [],
      "source": [
        "# ваш код здесь"
      ]
    },
    {
      "cell_type": "markdown",
      "metadata": {
        "id": "IG98Ll0W25YF"
      },
      "source": [
        "<h2>4. Подготовка ответа в требуемом формате и подготовка выводов (6 баллов)</h2>\n",
        "\n",
        "a) Сделайте скоринг нужных клиентов, подготовьте ответ в требуемом формате\n",
        "\n",
        "б) Сделайте краткую аналитику того, какой канал взаимодействия наиболее предпочтителен\n",
        "\n",
        "в) Сделайте выводы по проделанной работе"
      ]
    },
    {
      "cell_type": "markdown",
      "metadata": {
        "id": "I1SQE2JRMNsA"
      },
      "source": [
        "**Комментарий по заданиям и оцениванию:**\n",
        "\n",
        "* Подготовлен только ответ - **1 балл**\n",
        "* Подготовлен содержательный вывод по проделанной работе - **4 балла**\n",
        "* Корректно принято решение об отправке/не отправке коммуникации клиентам в зависимости от значений Uplift - **1 балл**"
      ]
    },
    {
      "cell_type": "code",
      "execution_count": null,
      "metadata": {
        "id": "0HmitRRX4nVY"
      },
      "outputs": [],
      "source": [
        "# ваш код здесь"
      ]
    },
    {
      "cell_type": "markdown",
      "metadata": {
        "id": "LGavtbmn4oj1"
      },
      "source": [
        "### ваши выводы здесь"
      ]
    }
  ],
  "metadata": {
    "colab": {
      "include_colab_link": true,
      "provenance": []
    },
    "kernelspec": {
      "display_name": ".venv",
      "language": "python",
      "name": "python3"
    },
    "language_info": {
      "codemirror_mode": {
        "name": "ipython",
        "version": 3
      },
      "file_extension": ".py",
      "mimetype": "text/x-python",
      "name": "python",
      "nbconvert_exporter": "python",
      "pygments_lexer": "ipython3",
      "version": "3.12.9"
    }
  },
  "nbformat": 4,
  "nbformat_minor": 0
}
