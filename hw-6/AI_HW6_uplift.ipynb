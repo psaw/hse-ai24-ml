{
  "cells": [
    {
      "cell_type": "markdown",
      "metadata": {
        "colab_type": "text",
        "id": "view-in-github"
      },
      "source": [
        "<a href=\"https://colab.research.google.com/github/Murcha1990/ML_AI24/blob/main/Hometasks/Base/AI_HW6_uplift.ipynb\" target=\"_parent\"><img src=\"https://colab.research.google.com/assets/colab-badge.svg\" alt=\"Open In Colab\"/></a>"
      ]
    },
    {
      "cell_type": "markdown",
      "metadata": {
        "id": "5UxZHx_r25YA"
      },
      "source": [
        "<h1> Задание по Uplift-моделированию </h1>"
      ]
    },
    {
      "cell_type": "markdown",
      "metadata": {
        "id": "r1LJ_Q4k25YB"
      },
      "source": [
        "<h2>Введение</h2>"
      ]
    },
    {
      "cell_type": "markdown",
      "metadata": {
        "id": "EiEmEZgQ25YC"
      },
      "source": [
        "Перед вами типичная задача, возникающая при работе с моделями кампейнинга в банке: заказчик запустил несколько пилотов по взаимодействию с клиентами с помощью разных каналов: push в мобильном приложении, sms, баннеры в мобильном приложении и реклама в других приложениях экосистемы. Заказчик хотел бы понимать, какой канал взаимодействия с клиентом наиболее эффективен для каждого клиента из клиентской базы. Кампании планируются и запускаются в ежемесячном режиме. Иными словами, заказчик хотел бы в идеале ежемесячно получать список клиентов, которым необходимо отправить коммуникацию с указанием канала и прироста вероятности покупки в случае, если клиенту отправят коммуникацию по сравнению с тем случаем, когда клиенту коммуникацию не отправят."
      ]
    },
    {
      "cell_type": "markdown",
      "metadata": {
        "id": "aLgfZIiN25YC"
      },
      "source": [
        "<b>Таким образом: </b>\n",
        "1.\tУ нас есть база клиентов (клиенты, имеющие id в банке). По данной базе осуществляется рассылка тех или иных стимулирующих коммуникаций по различным продуктам, каналам (например SMS, Push, баннеры в мобильном приложении и т.д.) и сегментам клиентов\n",
        "2.\tПризнаковое описание клиента состоит из различных агрегатов действий клиента за месяц или его объективных характеристик: например, средняя сумма средств на депозитах за месяц, среднее число кликов клиента в день за месяц в разделе \"инвестиции\" в мобильном приложении или возраст клиента\n",
        "3.\tПри формировании обучающей/тестовой выборки допускается, что один и тот же клиент за разные месяцы — это разные объекты. То есть допускается, что клиент в феврале и клиент в марте — это разные клиенты (то есть мы можем оперировать с ними как с разными сущностями).\n",
        "4.\tАгрегаты действий клиента за месяц появляются примерно 10 числа следующего месяца. То есть, например, агрегаты за декабрь появляются 10 января. В свою очередь списки клиентов, которым необходимо осуществить рассылку должны быть сформированы ориентировочно 20 числа предыдущего месяца. Таким образом, <b> модель должна быть обучена делать предсказания с лагом в два месяца </b>, то есть должна делать предсказание на март по клиентским агрегатам за январь. Обязательно учтите это при обучении модели (в противном случае можно получить лик таргета, так как часто величину, которую мы предсказываем уже есть в клиентских агрегатах, но смещенная на два месяца).\n"
      ]
    },
    {
      "cell_type": "markdown",
      "metadata": {
        "id": "r5VaIQxhMkn_"
      },
      "source": [
        "## Оценивание задания:\n",
        "\n",
        "Всего за задание можно получить 50 первичных баллов, которые затем переводятся в 10-балльную шкалу делением не 5."
      ]
    },
    {
      "cell_type": "markdown",
      "metadata": {
        "id": "D5LqU8fw76ML"
      },
      "source": [
        "Скачаем архив с данными по ссылке и разархивируем."
      ]
    },
    {
      "cell_type": "code",
      "execution_count": 1,
      "metadata": {
        "id": "XwBqYVxY6tY-"
      },
      "outputs": [],
      "source": [
        "# !pip install gdown -q"
      ]
    },
    {
      "cell_type": "code",
      "execution_count": 2,
      "metadata": {
        "id": "yBGQKvlF6vU3"
      },
      "outputs": [],
      "source": [
        "# import gdown\n",
        "\n",
        "# url = 'https://drive.google.com/uc?id=19nKGaxm3RwHxh2UWPo537_-MDx21AkHO'\n",
        "# output = 'Data.zip'\n",
        "# gdown.download(url, output, quiet=False)"
      ]
    },
    {
      "cell_type": "code",
      "execution_count": 3,
      "metadata": {
        "id": "I-5it8TG7ayV"
      },
      "outputs": [],
      "source": [
        "# import zipfile\n",
        "\n",
        "# with zipfile.ZipFile('Data.zip', 'r') as zip_ref:\n",
        "#     zip_ref.extractall('./content/')"
      ]
    },
    {
      "cell_type": "markdown",
      "metadata": {
        "id": "l9G5oeYo25YD"
      },
      "source": [
        "<h2>Описание данных</h2>"
      ]
    },
    {
      "cell_type": "markdown",
      "metadata": {
        "id": "LfuaYa-y25YD"
      },
      "source": [
        "Перед вами несколько наборов данных, на основе которых вам будет необходимо обучить Uplift модели, сделать прогноз на нужный месяц и решить, кому из клиентов отправлять коммуникацию, а кому коммуникацию отправлять не следует."
      ]
    },
    {
      "cell_type": "markdown",
      "metadata": {
        "id": "DRjowlnH25YD"
      },
      "source": [
        "<h3>Features </h3> Признаки клиентов, клиентские агрегаты, которые описывают поведение клиентов <br>\n",
        "\n",
        "1. user_id - id клиента\n",
        "2. report_dt - месяц, на который актуальны признаки\n",
        "3. city - город, в котором живет клиент\n",
        "4. age - возраст клиента\n",
        "5. x1 – x9 - числовые признаки клиента, характеризующие поведение клиента\n",
        "\n",
        "Первичный ключ таблицы - user_id + report_dt"
      ]
    },
    {
      "cell_type": "markdown",
      "metadata": {
        "id": "2rJL_Hku25YD"
      },
      "source": [
        "<h3> Contracts </h3> Таблица с покупками продуктов.\n",
        "\n",
        "1. contract_id - id покупки\n",
        "2. user_id - id пользователя, который совершил покупку\n",
        "3. product_id - id продукта, который был куплен\n",
        "4. contract_ts – дата момента, когда была совершена покупка\n",
        "\n",
        "Первичный ключ - contract_id\n"
      ]
    },
    {
      "cell_type": "markdown",
      "metadata": {
        "id": "2TqZalUD25YE"
      },
      "source": [
        "<h3> Campaings </h3> Кампании, которые проводились (под кампанией мы понимаем рассылку sms, push и т.д).\n",
        "\n",
        "1. campaing_id - id кампании, первичный ключ таблицы\n",
        "2. product_id - продукт, по которому проводилась кампания (считаем, что продукты не конкурируют друг с другом)\n",
        "3. channel - канал, в котором проводилась кампания\n"
      ]
    },
    {
      "cell_type": "markdown",
      "metadata": {
        "id": "np7t4WiP25YE"
      },
      "source": [
        "<h3> People_in_campaings </h3> Люди, которые принимали участие в кампаниях.\n",
        "\n",
        "1. campaing_id - id кампании\n",
        "2. user_id - id пользователя, который попал в кампанию\n",
        "3. флаг целевой (1) и контрольной (0) группы (целевая группа - это те, кто получил коммуникацию, а контрольная - те, кто нет)\n",
        "4. delivery_ts - timestamp, когда клиенту фактически была доставлена коммуникация (для контрольной группы nan, подумайте почему)\n",
        "\n",
        "Первичный ключ данной таблицы - user_id + campaing_id\n"
      ]
    },
    {
      "cell_type": "markdown",
      "metadata": {
        "id": "X13DQ-BZ25YE"
      },
      "source": [
        "<h1> Постановка задачи </h1> В ноябре 2024 проводилось несколько кампаний по продукту с id 0001 (фактически клиенту рассылалось одно и тоже сообщение, но в разных каналах). Вам необходимо по данным кампаниям построить модель, которая будет определять лучший канал коммуникации каждого клиента и определить, кому из клиентов в марте 2025 отправить какую коммуникацию, а кому коммуникацию вообще отправлять не следует.\n",
        "Ответ нужно представить в следующем виде (report_dt – дата фичей):"
      ]
    },
    {
      "cell_type": "markdown",
      "metadata": {
        "id": "PARzVwDJ25YE"
      },
      "source": [
        "<table>\n",
        "  <thead>\n",
        "    <tr>\n",
        "      <th>user_id</th>\n",
        "      <th>report_dt</th>\n",
        "      <th>channel</th>\n",
        "      <th>uplift</th>\n",
        "    </tr>\n",
        "  </thead>\n",
        "  <tbody>\n",
        "    <tr>\n",
        "      <td>10045</td>\n",
        "      <td>2025-01-31</td>\n",
        "      <td>banner</td>\n",
        "      <td>0.07</td>\n",
        "    </tr>\n",
        "    <tr>\n",
        "      <td>10046</td>\n",
        "      <td>2025-01-31</td>\n",
        "      <td>no_comm</td>\n",
        "      <td>0.00</td>\n",
        "    </tr>\n",
        "    <tr>\n",
        "      <td>10047</td>\n",
        "      <td>2025-01-31</td>\n",
        "      <td>sms</td>\n",
        "      <td>0.23</td>\n",
        "    </tr>\n",
        "    <tr>\n",
        "      <td>10048</td>\n",
        "      <td>2025-01-31</td>\n",
        "      <td>push</td>\n",
        "      <td>0.19</td>\n",
        "    </tr>\n",
        "  </tbody>\n",
        "</table>"
      ]
    },
    {
      "cell_type": "markdown",
      "metadata": {
        "id": "m88lnhDN25YE"
      },
      "source": [
        "<h1> Декомпозиция задачи </h1>"
      ]
    },
    {
      "cell_type": "markdown",
      "metadata": {
        "id": "9NIZb-Ln25YE"
      },
      "source": [
        "<h2> 1.\tСбор и анализ таргета (18 баллов)</h2>"
      ]
    },
    {
      "cell_type": "markdown",
      "metadata": {
        "id": "rh9PtKOB25YF"
      },
      "source": [
        "Прежде всего, вам необходимо собрать целевое событие, которое вы собираетесь прогнозировать. В данном случае целевое событие - это покупка продукта 0001 пользователем, участвовавшем в кампании. Обратите внимание, что не все пользователи получают коммуникацию одновременно (delivery_ts в таблице People_in_campaings). Согласно правилу, согласованному с заказчиком, <b> человек из целевой группы купил продукт после коммуникации - это значит, что он купил его в течение 2х недель после получения сообщения, а человек из контрольной - в течение 3х недель с момента старта кампании (старт кампании - начало месяца). </b> То есть для определенной кампании, для каждого клиента, попавшего в кампанию, вам надо будет найти его покупки данного продукта, а потом основываяся на данном правиле превратить покупки в 0 или 1. <br> На выходе у вас должен появиться таблица с целевым действием для каждого канала (колонки client_id, report_dt,  target), где таргет - это бинарная переменная (0 или 1). Колонка report_dt вам нужна как техническая колонка для дальнейших джоинов.<br><br>\n",
        "\n",
        "Проведите анализ полученных данных (до присоединения клиентских агрегатов). Какие проблемы и сложности в данных вы обнаружили? Что с ними можно сделать? Какая из кампаний наиболее эффективная? Подготовьте выводы по полученным инсайтам.\n"
      ]
    },
    {
      "cell_type": "markdown",
      "metadata": {
        "id": "tSZt8rI5DQFu"
      },
      "source": [
        "**Комментарий по заданиям и оцениванию:**\n",
        "\n",
        "* Вы должны самостоятельно сделать join нескольких таблиц, самостоятельно собрать целевое действие\n",
        "\n",
        "* Представлены 4 различных канала, за таргет по каждому из каналов можно получить **максимум 2 балла**:\n",
        "    * 1 балл за то, что просчитано целевое действие для целевой группы (покупка в\n",
        "течение одной-двух недель с момента получения коммуникации)\n",
        "    * 1 балл за то, что просчитано целевое действие для контрольной группы (покупка в течение двух-трех недель с момента старта кампании) и сделана таблица в требуемом формате\n",
        "\n",
        "* Обратите внимание, что не во всех кампаниях содержатся корректные данные для проведения моделирования, и вам необходимо провести анализ данных и в случае выявленных некорректностей - описать их, и не проводить моделирование для \"сломанной\" кампании  \n",
        "    * За данный анализ можно получить **8 баллов**\n",
        "\n",
        "* Вы должны оценить эффективность кампаний по uplift (cреднее значение таргета в целевой минус среднее значение таргета в контрольной группе)\n",
        "    * За данный анализ можно получить **2 балла**"
      ]
    },
    {
      "cell_type": "code",
      "execution_count": 4,
      "metadata": {
        "id": "oPa4XRte3_58"
      },
      "outputs": [],
      "source": [
        "# ваш код здесь\n",
        "import pandas as pd\n",
        "import numpy as np\n",
        "import matplotlib.pyplot as plt\n",
        "import seaborn as sns\n",
        "\n",
        "# Загрузка данных (1 колонка - индекс из СУБД)\n",
        "features = pd.read_csv('./content/ДЗ по Uplift обновленное/AGGS_FINAL.csv', index_col=0)\n",
        "features['user_id'] = features['user_id'].astype('int64')\n",
        "features.set_index(['user_id', 'report_dt'], inplace=True)\n",
        "\n",
        "contracts = pd.read_csv('./content/ДЗ по Uplift обновленное/CONTRACTS_FINAL.csv', index_col=0)\n",
        "contracts['user_id'] = contracts['user_id'].astype('int64')\n",
        "contracts.set_index('contract_id', inplace=True)\n",
        "\n",
        "campaigns = pd.read_csv('./content/ДЗ по Uplift обновленное/CAMPAINGS.csv', index_col=0)\n",
        "campaigns.set_index('campaing_id', inplace=True)\n",
        "\n",
        "people_in_campaigns = pd.read_csv('./content/ДЗ по Uplift обновленное/PEOPLE_IN_CAMPAINGS_FINAL.csv', index_col=0)\n",
        "people_in_campaigns['user_id'] = people_in_campaigns['user_id'].astype('int64')\n",
        "people_in_campaigns.set_index(['user_id', 'campaing_id'], inplace=True)\n",
        "\n",
        "# Преобразование временных столбцов\n",
        "for df in [features, contracts, people_in_campaigns]:\n",
        "    for col in df.columns:\n",
        "        if '_date' in col or '_dt' in col:\n",
        "            df[col] = pd.to_datetime(df[col], errors='coerce')"
      ]
    },
    {
      "cell_type": "markdown",
      "metadata": {},
      "source": [
        "### Сломанная кампания `idclip`"
      ]
    },
    {
      "cell_type": "markdown",
      "metadata": {},
      "source": [
        "Проверим есть ли пересечение пользователей по кампаниям"
      ]
    },
    {
      "cell_type": "code",
      "execution_count": 5,
      "metadata": {},
      "outputs": [
        {
          "name": "stdout",
          "output_type": "stream",
          "text": [
            "Пересечения пользователей между кампаниями:\n",
            "  campaign1 campaign2  common_users_count  percent_of_camp1  percent_of_camp2\n",
            "0    idclip     iddqd               60000              50.0              37.5\n",
            "1     iddqd    idclip               60000              37.5              50.0\n"
          ]
        }
      ],
      "source": [
        "campaigns_set = set(campaigns.index.unique())\n",
        "cross_campaigns = []\n",
        "for camp1 in campaigns_set:\n",
        "    for camp2 in campaigns_set - {camp1}:\n",
        "        # Получаем пользователей из первой кампании\n",
        "        users_camp1 = set(people_in_campaigns.query('campaing_id == @camp1').index.get_level_values('user_id').unique())\n",
        "        \n",
        "        # Получаем пользователей из второй кампании\n",
        "        users_camp2 = set(people_in_campaigns.query('campaing_id == @camp2').index.get_level_values('user_id').unique())\n",
        "        \n",
        "        # Находим пересечение пользователей между кампаниями\n",
        "        common_users = users_camp1.intersection(users_camp2)\n",
        "        \n",
        "        # Если есть пересечение, добавляем информацию в список\n",
        "        if len(common_users) > 0:\n",
        "            cross_campaigns.append({\n",
        "                'campaign1': camp1,\n",
        "                'campaign2': camp2,\n",
        "                'common_users_count': len(common_users),\n",
        "                'percent_of_camp1': len(common_users) / len(users_camp1) * 100,\n",
        "                'percent_of_camp2': len(common_users) / len(users_camp2) * 100\n",
        "            })\n",
        "\n",
        "# Создаем DataFrame из списка пересечений и выводим результаты\n",
        "cross_df = pd.DataFrame(cross_campaigns)\n",
        "if not cross_df.empty:\n",
        "    print(\"Пересечения пользователей между кампаниями:\")\n",
        "    print(cross_df.sort_values('common_users_count', ascending=False))\n",
        "else:\n",
        "    print(\"Пересечений пользователей между кампаниями не обнаружено.\")\n",
        "\n"
      ]
    },
    {
      "cell_type": "code",
      "execution_count": 6,
      "metadata": {},
      "outputs": [
        {
          "name": "stdout",
          "output_type": "stream",
          "text": [
            "Пользователи в контрольной группе idclip:            60000\n",
            "Пользователи в целевой группе iddqd:                 80000\n",
            "Пользователи, которые находятся в обеих группах:     60000\n",
            "Процент пересечения контроля idclip и таргета iddqd: 100.00%\n",
            "\n",
            "\n",
            "Пользователи в контрольной группе iddqd:             80000\n",
            "Пользователи в целевой группе idclip:                 60000\n",
            "Пользователи, которые находятся в обеих группах:     0\n",
            "Процент пересечения целевой idclip и контрольной iddqd: 0.00%\n"
          ]
        }
      ],
      "source": [
        "# Пересечания есть, тогда проанализируем детальнее\n",
        "\n",
        "# Выбираем пользователей из контрольной группы idclip и таргета iddqd\n",
        "idclip_control = people_in_campaigns.query('campaing_id == \"idclip\" and t_flag == 0').index.get_level_values('user_id').tolist()\n",
        "iddqd_target = people_in_campaigns.query('campaing_id == \"iddqd\" and t_flag == 1').index.get_level_values('user_id').tolist()\n",
        "# Находим пересечение\n",
        "common_users = set(idclip_control).intersection(set(iddqd_target))\n",
        "\n",
        "print(f'Пользователи в контрольной группе idclip:            {len(idclip_control)}')\n",
        "print(f'Пользователи в целевой группе iddqd:                 {len(iddqd_target)}')\n",
        "print(f'Пользователи, которые находятся в обеих группах:     {len(common_users)}')\n",
        "print(f'Процент пересечения контроля idclip и таргета iddqd: {len(common_users) / len(idclip_control) * 100:.2f}%')\n",
        "print(\"\\n\")\n",
        "\n",
        "# Проверим в обратную сторону\n",
        "# Выбираем пользователей из ЦЕЛЕВОЙ группы idclip и контрольной группы iddqd\n",
        "idclip_target = people_in_campaigns.query('campaing_id == \"idclip\" and t_flag == 1').index.get_level_values('user_id').tolist()\n",
        "iddqd_control = people_in_campaigns.query('campaing_id == \"iddqd\" and t_flag == 0').index.get_level_values('user_id').tolist()\n",
        "common_users2 = set(idclip_target).intersection(set(iddqd_control))\n",
        "\n",
        "print(f'Пользователи в контрольной группе iddqd:             {len(iddqd_control)}')\n",
        "print(f'Пользователи в целевой группе idclip:                 {len(idclip_target)}')\n",
        "print(f'Пользователи, которые находятся в обеих группах:     {len(common_users2)}')\n",
        "print(f'Процент пересечения целевой idclip и контрольной iddqd: {len(common_users2) / len(idclip_target) * 100:.2f}%')\n"
      ]
    },
    {
      "cell_type": "markdown",
      "metadata": {},
      "source": [
        "> ⚠️ **ВАЖНО**  \n",
        "> Кампанию `idclip` невозможно использовать, т.к. **все** пользователи контрольной группы оказались в целевой группе другой кампании, где на них было воздействие. Т.е. контрольной группы де-факто не существует.\n",
        "\n",
        "Удалим эту кампанию, а ее планировщикам поставим на вид, т.к. SMS - это самый дорогой канал рассылки и деньги потрачены впустую."
      ]
    },
    {
      "cell_type": "code",
      "execution_count": 7,
      "metadata": {},
      "outputs": [],
      "source": [
        "# Удаляем кампанию idclip из датасета\n",
        "campaigns.drop(index='idclip', inplace=True, errors='ignore')\n",
        "people_in_campaigns.drop(index='idclip', level='campaing_id', inplace=True, errors='ignore')\n"
      ]
    },
    {
      "cell_type": "markdown",
      "metadata": {},
      "source": [
        "### Анализ кампаний"
      ]
    },
    {
      "cell_type": "code",
      "execution_count": 8,
      "metadata": {},
      "outputs": [],
      "source": [
        "import scipy.stats\n",
        "\n",
        "\n",
        "def prepare_campaign_data(campaing_id: str):\n",
        "    \"\"\"\n",
        "    Подготовка данных для конкретной кампании.\n",
        "    Добавляет поле target и city\n",
        "    \"\"\"\n",
        "    # Определение значения таргета согласно бизнес-правилу\n",
        "    f = lambda row: (\n",
        "        # 21 день с начала месяца\n",
        "        pd.Timestamp('2024-11-01') + pd.Timedelta(days=21) > row['contract_date'] >= pd.Timestamp('2024-11-01')\n",
        "        if row['t_flag'] == 0\n",
        "        # 14 дней после воздействия \n",
        "        else row['delivery_date'] + pd.Timedelta(days=14) > row['contract_date'] >= row['delivery_date']\n",
        "    )\n",
        "\n",
        "    # Объединяем данные о людях в кампании с данными о договорах\n",
        "    merged_data = people_in_campaigns.query('campaing_id == @campaing_id').merge(contracts, on='user_id', how='left')\n",
        "\n",
        "    # Добавляем поле target (0 или 1)\n",
        "    merged_data['target'] = merged_data.apply(f, axis=1).astype(int)\n",
        "\n",
        "    # Добавляем поле city (для анализа по городам)\n",
        "    user_id_city = features.query('report_dt == \"2024-11-30\"')['city'].reset_index(drop=False)\n",
        "    merged_data_2 = merged_data.merge(user_id_city, on='user_id', how='left')\n",
        "\n",
        "    return merged_data_2\n",
        "\n",
        "\n",
        "def analyze_campaigns():\n",
        "    \"\"\"\n",
        "    Анализ всех кампаний по продукту 0001\n",
        "    \"\"\"\n",
        "    results = []\n",
        "    \n",
        "    # Обходим все кампании по продукту 1 (они там и так все, но как бы обобщаем)\n",
        "    for campaing_id in campaigns.query('product_id == 1').index.tolist():\n",
        "        campaign_data = prepare_campaign_data(campaing_id)\n",
        "        \n",
        "        # Базовые метрики\n",
        "        treatment_conversion = campaign_data.query('t_flag == 1')['target'].mean()\n",
        "        control_conversion = campaign_data.query('t_flag == 0')['target'].mean()\n",
        "        uplift = treatment_conversion - control_conversion\n",
        "        \n",
        "        # Проверка корректности данных\n",
        "        has_both_groups = (campaign_data['t_flag'].nunique() == 2)  # должны быть обе группы - целевая и контрольная\n",
        "        has_delivery_dates = campaign_data.query('t_flag == 1')['delivery_date'].notna().all()  # даты воздействия должны быть все\n",
        "\n",
        "        # Проверка на баланс городов\n",
        "        city_counts = campaign_data.groupby(['t_flag', 'city']).size().unstack().fillna(0)\n",
        "        chi2, p_value, dof, expected = scipy.stats.chi2_contingency(city_counts)\n",
        "        is_balanced = p_value > 0.05  # Считаем группы сбалансированными, если p-value > 0.05\n",
        "\n",
        "        # Города в целевой группе\n",
        "        treatment_cities = campaign_data.query('t_flag == 1').groupby(['t_flag', 'city']).size().index.get_level_values(1).tolist()\n",
        "        # Города в контрольной группе\n",
        "        control_cities = campaign_data.query('t_flag == 0').groupby(['t_flag', 'city']).size().index.get_level_values(1).tolist()\n",
        "\n",
        "        results.append({\n",
        "            'campaing_id': campaing_id,\n",
        "            'channel': campaigns.loc[campaing_id]['channel'],\n",
        "            'treatment_size': len(campaign_data[campaign_data['t_flag'] == 1]),\n",
        "            'control_size': len(campaign_data[campaign_data['t_flag'] == 0]),\n",
        "            'treatment_conversion': treatment_conversion,\n",
        "            'control_conversion': control_conversion,\n",
        "            'uplift': uplift,\n",
        "            'p_value': p_value,\n",
        "            'chi2': chi2,\n",
        "            'is_valid': has_both_groups and has_delivery_dates,\n",
        "            'is_balanced': is_balanced,\n",
        "            'campaign_data': campaign_data\n",
        "        })\n",
        "    \n",
        "    return pd.DataFrame(results)"
      ]
    },
    {
      "cell_type": "code",
      "execution_count": 9,
      "metadata": {},
      "outputs": [],
      "source": [
        "# Выполнение анализа\n",
        "campaign_analysis = analyze_campaigns()\n",
        "with open('campaign_analysis.json', 'w') as f:\n",
        "    f.write(campaign_analysis.to_json(orient='records'))"
      ]
    },
    {
      "cell_type": "code",
      "execution_count": 10,
      "metadata": {},
      "outputs": [
        {
          "data": {
            "image/png": "[encoded data removed]",
            "text/plain": [
              "<Figure size 600x300 with 1 Axes>"
            ]
          },
          "metadata": {},
          "output_type": "display_data"
        },
        {
          "name": "stdout",
          "output_type": "stream",
          "text": [
            "\n",
            "Анализ кампаний:\n"
          ]
        },
        {
          "data": {
            "text/html": [
              "<div>\n",
              "<style scoped>\n",
              "    .dataframe tbody tr th:only-of-type {\n",
              "        vertical-align: middle;\n",
              "    }\n",
              "\n",
              "    .dataframe tbody tr th {\n",
              "        vertical-align: top;\n",
              "    }\n",
              "\n",
              "    .dataframe thead th {\n",
              "        text-align: right;\n",
              "    }\n",
              "</style>\n",
              "<table border=\"1\" class=\"dataframe\">\n",
              "  <thead>\n",
              "    <tr style=\"text-align: right;\">\n",
              "      <th></th>\n",
              "      <th>campaing_id</th>\n",
              "      <th>channel</th>\n",
              "      <th>treatment_size</th>\n",
              "      <th>control_size</th>\n",
              "      <th>treatment_conversion</th>\n",
              "      <th>control_conversion</th>\n",
              "      <th>uplift</th>\n",
              "      <th>p_value</th>\n",
              "      <th>chi2</th>\n",
              "      <th>is_valid</th>\n",
              "      <th>is_balanced</th>\n",
              "      <th>campaign_data</th>\n",
              "    </tr>\n",
              "  </thead>\n",
              "  <tbody>\n",
              "    <tr>\n",
              "      <th>0</th>\n",
              "      <td>iddqd</td>\n",
              "      <td>push</td>\n",
              "      <td>80000</td>\n",
              "      <td>80000</td>\n",
              "      <td>0.601738</td>\n",
              "      <td>0.202150</td>\n",
              "      <td>0.399588</td>\n",
              "      <td>0.536227</td>\n",
              "      <td>1.246397</td>\n",
              "      <td>True</td>\n",
              "      <td>True</td>\n",
              "      <td>user_id  t_flag delivery_date contract...</td>\n",
              "    </tr>\n",
              "    <tr>\n",
              "      <th>1</th>\n",
              "      <td>iddt</td>\n",
              "      <td>banner</td>\n",
              "      <td>60000</td>\n",
              "      <td>60000</td>\n",
              "      <td>0.602717</td>\n",
              "      <td>0.400733</td>\n",
              "      <td>0.201983</td>\n",
              "      <td>0.752009</td>\n",
              "      <td>0.570014</td>\n",
              "      <td>True</td>\n",
              "      <td>True</td>\n",
              "      <td>user_id  t_flag delivery_date contract...</td>\n",
              "    </tr>\n",
              "    <tr>\n",
              "      <th>2</th>\n",
              "      <td>idkfa</td>\n",
              "      <td>other_ads</td>\n",
              "      <td>60000</td>\n",
              "      <td>60000</td>\n",
              "      <td>0.602717</td>\n",
              "      <td>0.400733</td>\n",
              "      <td>0.201983</td>\n",
              "      <td>0.000000</td>\n",
              "      <td>8626.648719</td>\n",
              "      <td>True</td>\n",
              "      <td>False</td>\n",
              "      <td>user_id  t_flag delivery_date contract...</td>\n",
              "    </tr>\n",
              "  </tbody>\n",
              "</table>\n",
              "</div>"
            ],
            "text/plain": [
              "  campaing_id    channel  treatment_size  control_size  treatment_conversion  \\\n",
              "0       iddqd       push           80000         80000              0.601738   \n",
              "1        iddt     banner           60000         60000              0.602717   \n",
              "2       idkfa  other_ads           60000         60000              0.602717   \n",
              "\n",
              "   control_conversion    uplift   p_value         chi2  is_valid  is_balanced  \\\n",
              "0            0.202150  0.399588  0.536227     1.246397      True         True   \n",
              "1            0.400733  0.201983  0.752009     0.570014      True         True   \n",
              "2            0.400733  0.201983  0.000000  8626.648719      True        False   \n",
              "\n",
              "                                       campaign_data  \n",
              "0          user_id  t_flag delivery_date contract...  \n",
              "1          user_id  t_flag delivery_date contract...  \n",
              "2          user_id  t_flag delivery_date contract...  "
            ]
          },
          "execution_count": 10,
          "metadata": {},
          "output_type": "execute_result"
        }
      ],
      "source": [
        "# Визуализация результатов\n",
        "plt.figure(figsize=(6, 3))\n",
        "sns.barplot(data=campaign_analysis, x='channel', y='uplift', hue='is_balanced')\n",
        "plt.title('Uplift по каналам коммуникации')\n",
        "plt.show()\n",
        "\n",
        "# Вывод статистики по кампаниям\n",
        "print(\"\\nАнализ кампаний:\")\n",
        "campaign_analysis"
      ]
    },
    {
      "cell_type": "markdown",
      "metadata": {},
      "source": [
        "### Анализ по городам"
      ]
    },
    {
      "cell_type": "markdown",
      "metadata": {},
      "source": [
        "На предыущем шаге выявлен дисбаланс по городам в одной кампании. Изучим..."
      ]
    },
    {
      "cell_type": "code",
      "execution_count": 11,
      "metadata": {},
      "outputs": [
        {
          "data": {
            "image/png": "[encoded data removed]",
            "text/plain": [
              "<Figure size 1500x500 with 3 Axes>"
            ]
          },
          "metadata": {},
          "output_type": "display_data"
        }
      ],
      "source": [
        "# Визуализация распределения городов в тестовой и контрольной группах для всех кампаний на одном канвасе\n",
        "fig, axes = plt.subplots(1, 3, figsize=(15, 5))\n",
        "\n",
        "for i, campaign_id in enumerate(campaign_analysis['campaing_id']):\n",
        "    campaign_data = campaign_analysis.loc[i, 'campaign_data']\n",
        "    channel = campaign_analysis.loc[i, 'channel']\n",
        "    \n",
        "    city_counts = campaign_data.groupby(['t_flag', 'city']).size().unstack()\n",
        "    \n",
        "    # Создаем сгруппированную столбчатую диаграмму\n",
        "    city_counts.plot(kind='bar', ax=axes[i])\n",
        "    axes[i].set_title(f'Распределение ({campaign_id}, {channel})')\n",
        "    axes[i].set_xlabel('Группа (0 - контроль, 1 - целевая)')\n",
        "    axes[i].set_ylabel('Количество пользователей')\n",
        "    axes[i].legend(title='Город')\n",
        "    axes[i].tick_params(axis='x', rotation=0)\n",
        "\n",
        "plt.tight_layout()\n",
        "plt.show()\n",
        "\n"
      ]
    },
    {
      "cell_type": "markdown",
      "metadata": {},
      "source": [
        "**Вывод**  \n",
        "В кампании `idkfa` наблюдается сильное искажение распределения контрольной и целевой групп по городам.\n",
        "\n",
        "| campaing_id | channel | treatment_size | control_size | treatment_conversion | control_conversion | p_value | chi2 |\n",
        "|-------------|---------|----------------|--------------|----------------------|-------------------|---------|------|\n",
        "| iddqd | push | 80000 | 80000 | 0.601738 | 0.202150 | 0.536227 | 1.246397 |\n",
        "| iddt | banner | 60000 | 60000 | 0.602717 | 0.400733 | 0.752009 | 0.570014 |\n",
        "| idkfa | other_ads | 60000 | 60000 | 0.602717 | 0.400733 | 0.000000 | 8626.648719 |\n",
        "\n",
        "Хи-квадрат (критерий Пирсона) достигает 8626 при ожидаемом числе пользователей в группах порядка 20,000.  \n",
        "Так же `p-value = 0`, что говорит что есть статистически значимые различия в распределении городов между группами (дисбаланс).\n",
        "\n",
        "Выглядит как ошибка формирования контрольной группы по городам, когда по 7-8тыс. контрольных пользователей вместо Москвы и Уфы взяты в Смоленске, где покупательная способность явно ниже даже. Это исказит результаты моделирования.\n",
        "\n",
        "> ⚠️ **ВАЖНО**  \n",
        "> Кампанию `idkfa` тоже не будем использовать. "
      ]
    },
    {
      "cell_type": "code",
      "execution_count": 12,
      "metadata": {},
      "outputs": [],
      "source": [
        "campaigns.drop(index='idkfa', inplace=True, errors='ignore')\n",
        "people_in_campaigns.drop(index='idkfa', level='campaing_id', inplace=True, errors='ignore')\n",
        "campaign_analysis = campaign_analysis[campaign_analysis['campaing_id'] != 'idkfa']\n"
      ]
    },
    {
      "cell_type": "markdown",
      "metadata": {},
      "source": [
        "### Итоговая таблица"
      ]
    },
    {
      "cell_type": "code",
      "execution_count": 13,
      "metadata": {},
      "outputs": [
        {
          "data": {
            "text/html": [
              "<div>\n",
              "<style scoped>\n",
              "    .dataframe tbody tr th:only-of-type {\n",
              "        vertical-align: middle;\n",
              "    }\n",
              "\n",
              "    .dataframe tbody tr th {\n",
              "        vertical-align: top;\n",
              "    }\n",
              "\n",
              "    .dataframe thead th {\n",
              "        text-align: right;\n",
              "    }\n",
              "</style>\n",
              "<table border=\"1\" class=\"dataframe\">\n",
              "  <thead>\n",
              "    <tr style=\"text-align: right;\">\n",
              "      <th></th>\n",
              "      <th>campaing_id</th>\n",
              "      <th>channel</th>\n",
              "      <th>treatment_size</th>\n",
              "      <th>control_size</th>\n",
              "      <th>treatment_conversion</th>\n",
              "      <th>control_conversion</th>\n",
              "      <th>uplift</th>\n",
              "      <th>p_value</th>\n",
              "      <th>chi2</th>\n",
              "      <th>is_valid</th>\n",
              "      <th>is_balanced</th>\n",
              "      <th>campaign_data</th>\n",
              "    </tr>\n",
              "  </thead>\n",
              "  <tbody>\n",
              "    <tr>\n",
              "      <th>0</th>\n",
              "      <td>iddqd</td>\n",
              "      <td>push</td>\n",
              "      <td>80000</td>\n",
              "      <td>80000</td>\n",
              "      <td>0.601738</td>\n",
              "      <td>0.202150</td>\n",
              "      <td>0.399588</td>\n",
              "      <td>0.536227</td>\n",
              "      <td>1.246397</td>\n",
              "      <td>True</td>\n",
              "      <td>True</td>\n",
              "      <td>user_id  t_flag delivery_date contract...</td>\n",
              "    </tr>\n",
              "    <tr>\n",
              "      <th>1</th>\n",
              "      <td>iddt</td>\n",
              "      <td>banner</td>\n",
              "      <td>60000</td>\n",
              "      <td>60000</td>\n",
              "      <td>0.602717</td>\n",
              "      <td>0.400733</td>\n",
              "      <td>0.201983</td>\n",
              "      <td>0.752009</td>\n",
              "      <td>0.570014</td>\n",
              "      <td>True</td>\n",
              "      <td>True</td>\n",
              "      <td>user_id  t_flag delivery_date contract...</td>\n",
              "    </tr>\n",
              "  </tbody>\n",
              "</table>\n",
              "</div>"
            ],
            "text/plain": [
              "  campaing_id channel  treatment_size  control_size  treatment_conversion  \\\n",
              "0       iddqd    push           80000         80000              0.601738   \n",
              "1        iddt  banner           60000         60000              0.602717   \n",
              "\n",
              "   control_conversion    uplift   p_value      chi2  is_valid  is_balanced  \\\n",
              "0            0.202150  0.399588  0.536227  1.246397      True         True   \n",
              "1            0.400733  0.201983  0.752009  0.570014      True         True   \n",
              "\n",
              "                                       campaign_data  \n",
              "0          user_id  t_flag delivery_date contract...  \n",
              "1          user_id  t_flag delivery_date contract...  "
            ]
          },
          "execution_count": 13,
          "metadata": {},
          "output_type": "execute_result"
        }
      ],
      "source": [
        "campaign_analysis"
      ]
    },
    {
      "cell_type": "code",
      "execution_count": 15,
      "metadata": {},
      "outputs": [
        {
          "name": "stdout",
          "output_type": "stream",
          "text": [
            "Итоговая таблица (head):\n",
            "   client_id campaing_id  target  treatment_group_key  report_dt\n",
            "0       1162       iddqd       1                    1 2024-11-30\n",
            "1      42991       iddqd       0                    1 2024-11-30\n",
            "2      24623       iddqd       0                    0 2024-11-30\n",
            "3     116064       iddqd       1                    0 2024-11-30\n",
            "4     139714       iddqd       0                    0 2024-11-30\n",
            "\n",
            "Размерность таблицы: (280000, 5)\n",
            "\n",
            "Распределение целевой переменной:\n",
            "target\n",
            "0    0.555293\n",
            "1    0.444707\n",
            "Name: proportion, dtype: float64\n"
          ]
        }
      ],
      "source": [
        "# Создаем пустой список для хранения данных\n",
        "all_campaigns_data = []\n",
        "\n",
        "# Проходим по всем кампаниям\n",
        "for _, row in campaign_analysis.iterrows():\n",
        "    campaign_data = row['campaign_data']\n",
        "    \n",
        "    # Формируем таблицу для каждой кампании\n",
        "    campaign_table = pd.DataFrame({\n",
        "        'client_id': campaign_data['user_id'],\n",
        "        'campaing_id': row['campaing_id'],\n",
        "        'target': campaign_data['target'],\n",
        "        'treatment_group_key': campaign_data['t_flag'],\n",
        "        \n",
        "        # Устанавливаем последний день месяца как report_dt\n",
        "        'report_dt': pd.to_datetime('2024-11-30')  \n",
        "    })\n",
        "    \n",
        "    all_campaigns_data.append(campaign_table)\n",
        "\n",
        "# Объединяем все данные\n",
        "final_table = pd.concat(all_campaigns_data, ignore_index=True)\n",
        "\n",
        "# Удаляем дубликаты по client_id (если клиент участвовал в нескольких кампаниях)\n",
        "# final_table = final_table.drop_duplicates(subset=['client_id'])\n",
        "\n",
        "print(\"Итоговая таблица (head):\")\n",
        "print(final_table.head())\n",
        "print(\"\\nРазмерность таблицы:\", final_table.shape)\n",
        "print(\"\\nРаспределение целевой переменной:\")\n",
        "print(final_table['target'].value_counts(normalize=True))\n"
      ]
    },
    {
      "cell_type": "markdown",
      "metadata": {
        "id": "b9Wtw00t4A_k"
      },
      "source": [
        "### Выводы\n",
        "\n",
        "0. **Сломанные кампании** - по причине ошибок при формировании групп пользователей по городам\n",
        "   1. `idclip`\n",
        "      - Тут вся контрольная группа оказалась целевой группой другой кампании (`iddqd`). Невозможно оценить конверсию и uplift.\n",
        "      - Пересечений клиентов больше нет.\n",
        "   2. `idkfa`\n",
        "      - Тут сильный дисбаланс между городами в контрольной группе (`p-value = 0`, Хи-квадрат = 8626). Возможно искажение эффекта воздействия из-за разницы покупательной способности в городах.\n",
        "\n",
        "**Для остальных кампаний...**\n",
        "| campaing_id | channel | treatment_size | control_size | treatment_conversion | control_conversion | uplift | is_valid |\n",
        "|-------------|---------|----------------|--------------|----------------------|--------------------|--------|----------|\n",
        "| iddqd | push | 80000 | 80000 | 0.601738 | 0.202150 | 0.399588 | True |\n",
        "| iddt | banner | 60000 | 60000 | 0.602717 | 0.400733 | 0.201983 | True |\n",
        "\n",
        "1. **Общая структура данных**:\n",
        "   - Каждая кампания имеет сбалансированные целевую и контрольную группы (с первого взгляда)\n",
        "   - Размер групп варьируется: 80,000 клиентов для push-уведомлений и 60,000 для остальных каналов\n",
        "\n",
        "2. **Эффективность каналов коммуникации**:\n",
        "   - Push-уведомления (iddqd) показали наилучший uplift: +0.399 (39.9%)\n",
        "   - Banner и other_ads (iddt и idkfa) показали средний uplift: +0.202 (20.2%)\n",
        "\n",
        "3. **Детальный анализ по каналам**:\n",
        "   - **Push (iddqd)**:\n",
        "     * Конверсия в целевой группе: 60.2%\n",
        "     * Конверсия в контрольной группе: 20.2%\n",
        "     * Самый эффективный канал коммуникации\n",
        "\n",
        "   - **Banner (iddt)**:\n",
        "     * Конверсия в целевой группе: 60.3%\n",
        "     * Конверсия в контрольной группе: 40.1%\n",
        "\n",
        "4. **Проблемы и особенности данных**:\n",
        "   - Все кампании по структуре данных корректны\n",
        "     - содержат обе группы (целевая и контрольная)\n",
        "     - нет пропусков в датах воздействия\n",
        "     - нет пересечений по пользователям\n",
        "     - сбалансированы\n",
        "\n",
        "5. **Качество данных**:\n",
        "   - Общий размер итоговой таблицы: 280,000 записей (после удаления `idclip` и `idkfa`)\n",
        "   - Распределение целевой переменной близко к сбалансированному:\n",
        "     * 0 (нет конверсии): 53.8%\n",
        "     * 1 (есть конверсия): 46.2%\n"
      ]
    },
    {
      "cell_type": "markdown",
      "metadata": {
        "id": "Es_paHiL25YF"
      },
      "source": [
        "<h2> 2. Клиентские агрегаты (12 баллов)</h2>\n",
        "\n",
        "Присоедините клиентские агрегаты (будьте внимательны, присоедините агрегаты за корректный месяц) и изучите полученные данные."
      ]
    },
    {
      "cell_type": "markdown",
      "metadata": {
        "id": "Mi5DjQXfKv0n"
      },
      "source": [
        "**Комментарий по заданиям и оцениванию:**\n",
        "\n",
        "* Вы должны корректно присоединить клиентские агрегаты со смещением на два месяца, чтобы не было лика таргета. За данное действие можно получить **4 балла**\n",
        "\n",
        "* Далее вы должен сделать UPLIFT EDA, которые обсуждались на лекции и показывались в практических ноутбуках. В ходе анализа вы должны проверить корректность данных по рекламным кампаниям и решить, что делать со \"сломанными\" кампаниями. По итогам анализа подготовьте выводы. За данное действие можно получить **8 баллов**"
      ]
    },
    {
      "cell_type": "code",
      "execution_count": 16,
      "metadata": {
        "id": "EnnTRvck4I1n"
      },
      "outputs": [],
      "source": [
        "\n",
        "# Кампании проводились в ноябре 2024\n",
        "# Нам нужны агрегаты за сентябрь 2024 (смещение на 2 месяца)\n",
        "target_date = pd.to_datetime('2024-09-30')\n",
        "\n",
        "# Получаем агрегаты за нужный месяц\n",
        "features_for_model = features.query('report_dt == @target_date.strftime(\"%Y-%m-%d\")')\n",
        "\n",
        "# Объединяем с нашей таблицей результатов кампаний\n",
        "merged_data = final_table.merge(\n",
        "    features_for_model,\n",
        "    left_on='client_id',\n",
        "    right_on='user_id',\n",
        "    how='left'\n",
        ")\n",
        "    \n"
      ]
    },
    {
      "cell_type": "code",
      "execution_count": 17,
      "metadata": {},
      "outputs": [
        {
          "data": {
            "text/html": [
              "<div>\n",
              "<style scoped>\n",
              "    .dataframe tbody tr th:only-of-type {\n",
              "        vertical-align: middle;\n",
              "    }\n",
              "\n",
              "    .dataframe tbody tr th {\n",
              "        vertical-align: top;\n",
              "    }\n",
              "\n",
              "    .dataframe thead th {\n",
              "        text-align: right;\n",
              "    }\n",
              "</style>\n",
              "<table border=\"1\" class=\"dataframe\">\n",
              "  <thead>\n",
              "    <tr style=\"text-align: right;\">\n",
              "      <th></th>\n",
              "      <th>client_id</th>\n",
              "      <th>campaing_id</th>\n",
              "      <th>target</th>\n",
              "      <th>treatment_group_key</th>\n",
              "      <th>report_dt</th>\n",
              "      <th>x1</th>\n",
              "      <th>x2</th>\n",
              "      <th>x3</th>\n",
              "      <th>x4</th>\n",
              "      <th>x5</th>\n",
              "      <th>x6</th>\n",
              "      <th>x7</th>\n",
              "      <th>x8</th>\n",
              "      <th>x9</th>\n",
              "      <th>age</th>\n",
              "      <th>city</th>\n",
              "    </tr>\n",
              "  </thead>\n",
              "  <tbody>\n",
              "    <tr>\n",
              "      <th>0</th>\n",
              "      <td>1162</td>\n",
              "      <td>iddqd</td>\n",
              "      <td>1</td>\n",
              "      <td>1</td>\n",
              "      <td>2024-11-30</td>\n",
              "      <td>-1.224545</td>\n",
              "      <td>1.688111</td>\n",
              "      <td>0.150933</td>\n",
              "      <td>3.230149</td>\n",
              "      <td>-0.189105</td>\n",
              "      <td>0.551481</td>\n",
              "      <td>-1.229590</td>\n",
              "      <td>1.159411</td>\n",
              "      <td>-0.085720</td>\n",
              "      <td>39</td>\n",
              "      <td>Moscow</td>\n",
              "    </tr>\n",
              "    <tr>\n",
              "      <th>1</th>\n",
              "      <td>42991</td>\n",
              "      <td>iddqd</td>\n",
              "      <td>0</td>\n",
              "      <td>1</td>\n",
              "      <td>2024-11-30</td>\n",
              "      <td>-0.916137</td>\n",
              "      <td>1.368764</td>\n",
              "      <td>1.841319</td>\n",
              "      <td>-1.529691</td>\n",
              "      <td>-0.608003</td>\n",
              "      <td>-1.116932</td>\n",
              "      <td>1.178124</td>\n",
              "      <td>-0.884607</td>\n",
              "      <td>-1.726070</td>\n",
              "      <td>43</td>\n",
              "      <td>Moscow</td>\n",
              "    </tr>\n",
              "    <tr>\n",
              "      <th>2</th>\n",
              "      <td>24623</td>\n",
              "      <td>iddqd</td>\n",
              "      <td>0</td>\n",
              "      <td>0</td>\n",
              "      <td>2024-11-30</td>\n",
              "      <td>2.281651</td>\n",
              "      <td>-0.354332</td>\n",
              "      <td>1.288191</td>\n",
              "      <td>-2.754188</td>\n",
              "      <td>0.202581</td>\n",
              "      <td>0.831745</td>\n",
              "      <td>-0.002779</td>\n",
              "      <td>-1.463527</td>\n",
              "      <td>1.976755</td>\n",
              "      <td>39</td>\n",
              "      <td>Ufa</td>\n",
              "    </tr>\n",
              "    <tr>\n",
              "      <th>3</th>\n",
              "      <td>116064</td>\n",
              "      <td>iddqd</td>\n",
              "      <td>1</td>\n",
              "      <td>0</td>\n",
              "      <td>2024-11-30</td>\n",
              "      <td>-0.773911</td>\n",
              "      <td>1.877601</td>\n",
              "      <td>0.582218</td>\n",
              "      <td>1.699295</td>\n",
              "      <td>-0.667554</td>\n",
              "      <td>-0.018505</td>\n",
              "      <td>0.337289</td>\n",
              "      <td>-1.101638</td>\n",
              "      <td>-0.936927</td>\n",
              "      <td>33</td>\n",
              "      <td>Ufa</td>\n",
              "    </tr>\n",
              "    <tr>\n",
              "      <th>4</th>\n",
              "      <td>139714</td>\n",
              "      <td>iddqd</td>\n",
              "      <td>0</td>\n",
              "      <td>0</td>\n",
              "      <td>2024-11-30</td>\n",
              "      <td>0.457746</td>\n",
              "      <td>1.407223</td>\n",
              "      <td>0.803963</td>\n",
              "      <td>-2.002316</td>\n",
              "      <td>0.928291</td>\n",
              "      <td>-1.389908</td>\n",
              "      <td>-1.823737</td>\n",
              "      <td>-0.512010</td>\n",
              "      <td>1.840791</td>\n",
              "      <td>27</td>\n",
              "      <td>Ufa</td>\n",
              "    </tr>\n",
              "  </tbody>\n",
              "</table>\n",
              "</div>"
            ],
            "text/plain": [
              "   client_id campaing_id  target  treatment_group_key  report_dt        x1  \\\n",
              "0       1162       iddqd       1                    1 2024-11-30 -1.224545   \n",
              "1      42991       iddqd       0                    1 2024-11-30 -0.916137   \n",
              "2      24623       iddqd       0                    0 2024-11-30  2.281651   \n",
              "3     116064       iddqd       1                    0 2024-11-30 -0.773911   \n",
              "4     139714       iddqd       0                    0 2024-11-30  0.457746   \n",
              "\n",
              "         x2        x3        x4        x5        x6        x7        x8  \\\n",
              "0  1.688111  0.150933  3.230149 -0.189105  0.551481 -1.229590  1.159411   \n",
              "1  1.368764  1.841319 -1.529691 -0.608003 -1.116932  1.178124 -0.884607   \n",
              "2 -0.354332  1.288191 -2.754188  0.202581  0.831745 -0.002779 -1.463527   \n",
              "3  1.877601  0.582218  1.699295 -0.667554 -0.018505  0.337289 -1.101638   \n",
              "4  1.407223  0.803963 -2.002316  0.928291 -1.389908 -1.823737 -0.512010   \n",
              "\n",
              "         x9  age    city  \n",
              "0 -0.085720   39  Moscow  \n",
              "1 -1.726070   43  Moscow  \n",
              "2  1.976755   39     Ufa  \n",
              "3 -0.936927   33     Ufa  \n",
              "4  1.840791   27     Ufa  "
            ]
          },
          "execution_count": 17,
          "metadata": {},
          "output_type": "execute_result"
        }
      ],
      "source": [
        "merged_data.head()"
      ]
    },
    {
      "cell_type": "markdown",
      "metadata": {},
      "source": [
        "#### TODO: уточнить UPLIFT EDA - показывали на лекции\n",
        "Приличную часть EDA мы уже проделали при выявлении аномальных кампаний.\n",
        "Осталось проанализировать добавленные признаки."
      ]
    },
    {
      "cell_type": "code",
      "execution_count": 19,
      "metadata": {},
      "outputs": [
        {
          "name": "stdout",
          "output_type": "stream",
          "text": [
            "<class 'pandas.core.frame.DataFrame'>\n",
            "RangeIndex: 280000 entries, 0 to 279999\n",
            "Data columns (total 16 columns):\n",
            " #   Column               Non-Null Count   Dtype         \n",
            "---  ------               --------------   -----         \n",
            " 0   client_id            280000 non-null  int64         \n",
            " 1   campaing_id          280000 non-null  object        \n",
            " 2   target               280000 non-null  int64         \n",
            " 3   treatment_group_key  280000 non-null  int64         \n",
            " 4   report_dt            280000 non-null  datetime64[ns]\n",
            " 5   x1                   280000 non-null  float64       \n",
            " 6   x2                   280000 non-null  float64       \n",
            " 7   x3                   280000 non-null  float64       \n",
            " 8   x4                   280000 non-null  float64       \n",
            " 9   x5                   280000 non-null  float64       \n",
            " 10  x6                   280000 non-null  float64       \n",
            " 11  x7                   280000 non-null  float64       \n",
            " 12  x8                   280000 non-null  float64       \n",
            " 13  x9                   280000 non-null  float64       \n",
            " 14  age                  280000 non-null  int64         \n",
            " 15  city                 280000 non-null  object        \n",
            "dtypes: datetime64[ns](1), float64(9), int64(4), object(2)\n",
            "memory usage: 34.2+ MB\n"
          ]
        }
      ],
      "source": [
        "merged_data.info()"
      ]
    },
    {
      "cell_type": "code",
      "execution_count": 20,
      "metadata": {},
      "outputs": [
        {
          "data": {
            "text/html": [
              "<div>\n",
              "<style scoped>\n",
              "    .dataframe tbody tr th:only-of-type {\n",
              "        vertical-align: middle;\n",
              "    }\n",
              "\n",
              "    .dataframe tbody tr th {\n",
              "        vertical-align: top;\n",
              "    }\n",
              "\n",
              "    .dataframe thead th {\n",
              "        text-align: right;\n",
              "    }\n",
              "</style>\n",
              "<table border=\"1\" class=\"dataframe\">\n",
              "  <thead>\n",
              "    <tr style=\"text-align: right;\">\n",
              "      <th></th>\n",
              "      <th>client_id</th>\n",
              "      <th>campaing_id</th>\n",
              "      <th>target</th>\n",
              "      <th>treatment_group_key</th>\n",
              "      <th>report_dt</th>\n",
              "      <th>x1</th>\n",
              "      <th>x2</th>\n",
              "      <th>x3</th>\n",
              "      <th>x4</th>\n",
              "      <th>x5</th>\n",
              "      <th>x6</th>\n",
              "      <th>x7</th>\n",
              "      <th>x8</th>\n",
              "      <th>x9</th>\n",
              "      <th>age</th>\n",
              "      <th>city</th>\n",
              "    </tr>\n",
              "  </thead>\n",
              "  <tbody>\n",
              "    <tr>\n",
              "      <th>0</th>\n",
              "      <td>1162</td>\n",
              "      <td>iddqd</td>\n",
              "      <td>1</td>\n",
              "      <td>1</td>\n",
              "      <td>2024-11-30</td>\n",
              "      <td>-1.224545</td>\n",
              "      <td>1.688111</td>\n",
              "      <td>0.150933</td>\n",
              "      <td>3.230149</td>\n",
              "      <td>-0.189105</td>\n",
              "      <td>0.551481</td>\n",
              "      <td>-1.229590</td>\n",
              "      <td>1.159411</td>\n",
              "      <td>-0.085720</td>\n",
              "      <td>39</td>\n",
              "      <td>Moscow</td>\n",
              "    </tr>\n",
              "    <tr>\n",
              "      <th>1</th>\n",
              "      <td>42991</td>\n",
              "      <td>iddqd</td>\n",
              "      <td>0</td>\n",
              "      <td>1</td>\n",
              "      <td>2024-11-30</td>\n",
              "      <td>-0.916137</td>\n",
              "      <td>1.368764</td>\n",
              "      <td>1.841319</td>\n",
              "      <td>-1.529691</td>\n",
              "      <td>-0.608003</td>\n",
              "      <td>-1.116932</td>\n",
              "      <td>1.178124</td>\n",
              "      <td>-0.884607</td>\n",
              "      <td>-1.726070</td>\n",
              "      <td>43</td>\n",
              "      <td>Moscow</td>\n",
              "    </tr>\n",
              "    <tr>\n",
              "      <th>2</th>\n",
              "      <td>24623</td>\n",
              "      <td>iddqd</td>\n",
              "      <td>0</td>\n",
              "      <td>0</td>\n",
              "      <td>2024-11-30</td>\n",
              "      <td>2.281651</td>\n",
              "      <td>-0.354332</td>\n",
              "      <td>1.288191</td>\n",
              "      <td>-2.754188</td>\n",
              "      <td>0.202581</td>\n",
              "      <td>0.831745</td>\n",
              "      <td>-0.002779</td>\n",
              "      <td>-1.463527</td>\n",
              "      <td>1.976755</td>\n",
              "      <td>39</td>\n",
              "      <td>Ufa</td>\n",
              "    </tr>\n",
              "    <tr>\n",
              "      <th>3</th>\n",
              "      <td>116064</td>\n",
              "      <td>iddqd</td>\n",
              "      <td>1</td>\n",
              "      <td>0</td>\n",
              "      <td>2024-11-30</td>\n",
              "      <td>-0.773911</td>\n",
              "      <td>1.877601</td>\n",
              "      <td>0.582218</td>\n",
              "      <td>1.699295</td>\n",
              "      <td>-0.667554</td>\n",
              "      <td>-0.018505</td>\n",
              "      <td>0.337289</td>\n",
              "      <td>-1.101638</td>\n",
              "      <td>-0.936927</td>\n",
              "      <td>33</td>\n",
              "      <td>Ufa</td>\n",
              "    </tr>\n",
              "    <tr>\n",
              "      <th>4</th>\n",
              "      <td>139714</td>\n",
              "      <td>iddqd</td>\n",
              "      <td>0</td>\n",
              "      <td>0</td>\n",
              "      <td>2024-11-30</td>\n",
              "      <td>0.457746</td>\n",
              "      <td>1.407223</td>\n",
              "      <td>0.803963</td>\n",
              "      <td>-2.002316</td>\n",
              "      <td>0.928291</td>\n",
              "      <td>-1.389908</td>\n",
              "      <td>-1.823737</td>\n",
              "      <td>-0.512010</td>\n",
              "      <td>1.840791</td>\n",
              "      <td>27</td>\n",
              "      <td>Ufa</td>\n",
              "    </tr>\n",
              "  </tbody>\n",
              "</table>\n",
              "</div>"
            ],
            "text/plain": [
              "   client_id campaing_id  target  treatment_group_key  report_dt        x1  \\\n",
              "0       1162       iddqd       1                    1 2024-11-30 -1.224545   \n",
              "1      42991       iddqd       0                    1 2024-11-30 -0.916137   \n",
              "2      24623       iddqd       0                    0 2024-11-30  2.281651   \n",
              "3     116064       iddqd       1                    0 2024-11-30 -0.773911   \n",
              "4     139714       iddqd       0                    0 2024-11-30  0.457746   \n",
              "\n",
              "         x2        x3        x4        x5        x6        x7        x8  \\\n",
              "0  1.688111  0.150933  3.230149 -0.189105  0.551481 -1.229590  1.159411   \n",
              "1  1.368764  1.841319 -1.529691 -0.608003 -1.116932  1.178124 -0.884607   \n",
              "2 -0.354332  1.288191 -2.754188  0.202581  0.831745 -0.002779 -1.463527   \n",
              "3  1.877601  0.582218  1.699295 -0.667554 -0.018505  0.337289 -1.101638   \n",
              "4  1.407223  0.803963 -2.002316  0.928291 -1.389908 -1.823737 -0.512010   \n",
              "\n",
              "         x9  age    city  \n",
              "0 -0.085720   39  Moscow  \n",
              "1 -1.726070   43  Moscow  \n",
              "2  1.976755   39     Ufa  \n",
              "3 -0.936927   33     Ufa  \n",
              "4  1.840791   27     Ufa  "
            ]
          },
          "execution_count": 20,
          "metadata": {},
          "output_type": "execute_result"
        }
      ],
      "source": [
        "df_iddqd = merged_data.query('campaing_id == \"iddqd\"')\n",
        "df_iddqd.head()"
      ]
    },
    {
      "cell_type": "code",
      "execution_count": 21,
      "metadata": {},
      "outputs": [
        {
          "data": {
            "text/html": [
              "<div>\n",
              "<style scoped>\n",
              "    .dataframe tbody tr th:only-of-type {\n",
              "        vertical-align: middle;\n",
              "    }\n",
              "\n",
              "    .dataframe tbody tr th {\n",
              "        vertical-align: top;\n",
              "    }\n",
              "\n",
              "    .dataframe thead th {\n",
              "        text-align: right;\n",
              "    }\n",
              "</style>\n",
              "<table border=\"1\" class=\"dataframe\">\n",
              "  <thead>\n",
              "    <tr style=\"text-align: right;\">\n",
              "      <th></th>\n",
              "      <th>x1</th>\n",
              "      <th>x2</th>\n",
              "      <th>x3</th>\n",
              "      <th>x4</th>\n",
              "      <th>x5</th>\n",
              "      <th>x6</th>\n",
              "      <th>x7</th>\n",
              "      <th>x8</th>\n",
              "      <th>x9</th>\n",
              "      <th>age</th>\n",
              "    </tr>\n",
              "    <tr>\n",
              "      <th>treatment_group_key</th>\n",
              "      <th></th>\n",
              "      <th></th>\n",
              "      <th></th>\n",
              "      <th></th>\n",
              "      <th></th>\n",
              "      <th></th>\n",
              "      <th></th>\n",
              "      <th></th>\n",
              "      <th></th>\n",
              "      <th></th>\n",
              "    </tr>\n",
              "  </thead>\n",
              "  <tbody>\n",
              "    <tr>\n",
              "      <th>0</th>\n",
              "      <td>0.604476</td>\n",
              "      <td>0.991262</td>\n",
              "      <td>0.989826</td>\n",
              "      <td>-0.606210</td>\n",
              "      <td>0.592924</td>\n",
              "      <td>-0.002248</td>\n",
              "      <td>-0.002248</td>\n",
              "      <td>-0.000358</td>\n",
              "      <td>0.524898</td>\n",
              "      <td>32.504013</td>\n",
              "    </tr>\n",
              "    <tr>\n",
              "      <th>1</th>\n",
              "      <td>0.601202</td>\n",
              "      <td>1.004994</td>\n",
              "      <td>0.996935</td>\n",
              "      <td>-0.596487</td>\n",
              "      <td>0.601505</td>\n",
              "      <td>-0.002147</td>\n",
              "      <td>-0.004232</td>\n",
              "      <td>-0.003318</td>\n",
              "      <td>0.523636</td>\n",
              "      <td>32.448462</td>\n",
              "    </tr>\n",
              "  </tbody>\n",
              "</table>\n",
              "</div>"
            ],
            "text/plain": [
              "                           x1        x2        x3        x4        x5  \\\n",
              "treatment_group_key                                                     \n",
              "0                    0.604476  0.991262  0.989826 -0.606210  0.592924   \n",
              "1                    0.601202  1.004994  0.996935 -0.596487  0.601505   \n",
              "\n",
              "                           x6        x7        x8        x9        age  \n",
              "treatment_group_key                                                     \n",
              "0                   -0.002248 -0.002248 -0.000358  0.524898  32.504013  \n",
              "1                   -0.002147 -0.004232 -0.003318  0.523636  32.448462  "
            ]
          },
          "execution_count": 21,
          "metadata": {},
          "output_type": "execute_result"
        }
      ],
      "source": [
        "numeric_features = ['x1', 'x2', 'x3', 'x4', 'x5', 'x6', 'x7', 'x8', 'x9', 'age']\n",
        "df_iddqd.groupby(by='treatment_group_key')[numeric_features].mean()"
      ]
    },
    {
      "cell_type": "code",
      "execution_count": 22,
      "metadata": {},
      "outputs": [
        {
          "data": {
            "text/html": [
              "<div>\n",
              "<style scoped>\n",
              "    .dataframe tbody tr th:only-of-type {\n",
              "        vertical-align: middle;\n",
              "    }\n",
              "\n",
              "    .dataframe tbody tr th {\n",
              "        vertical-align: top;\n",
              "    }\n",
              "\n",
              "    .dataframe thead th {\n",
              "        text-align: right;\n",
              "    }\n",
              "</style>\n",
              "<table border=\"1\" class=\"dataframe\">\n",
              "  <thead>\n",
              "    <tr style=\"text-align: right;\">\n",
              "      <th></th>\n",
              "      <th>x1</th>\n",
              "      <th>x2</th>\n",
              "      <th>x3</th>\n",
              "      <th>x4</th>\n",
              "      <th>x5</th>\n",
              "      <th>x6</th>\n",
              "      <th>x7</th>\n",
              "      <th>x8</th>\n",
              "      <th>x9</th>\n",
              "      <th>age</th>\n",
              "    </tr>\n",
              "    <tr>\n",
              "      <th>treatment_group_key</th>\n",
              "      <th></th>\n",
              "      <th></th>\n",
              "      <th></th>\n",
              "      <th></th>\n",
              "      <th></th>\n",
              "      <th></th>\n",
              "      <th></th>\n",
              "      <th></th>\n",
              "      <th></th>\n",
              "      <th></th>\n",
              "    </tr>\n",
              "  </thead>\n",
              "  <tbody>\n",
              "    <tr>\n",
              "      <th>0</th>\n",
              "      <td>0.690167</td>\n",
              "      <td>0.991941</td>\n",
              "      <td>0.991280</td>\n",
              "      <td>-0.698398</td>\n",
              "      <td>0.715804</td>\n",
              "      <td>0.000645</td>\n",
              "      <td>-0.208016</td>\n",
              "      <td>-0.561839</td>\n",
              "      <td>0.575092</td>\n",
              "      <td>32.0</td>\n",
              "    </tr>\n",
              "    <tr>\n",
              "      <th>1</th>\n",
              "      <td>0.684945</td>\n",
              "      <td>1.003702</td>\n",
              "      <td>0.994629</td>\n",
              "      <td>-0.683922</td>\n",
              "      <td>0.723315</td>\n",
              "      <td>-0.003707</td>\n",
              "      <td>-0.208410</td>\n",
              "      <td>-0.561366</td>\n",
              "      <td>0.573658</td>\n",
              "      <td>32.0</td>\n",
              "    </tr>\n",
              "  </tbody>\n",
              "</table>\n",
              "</div>"
            ],
            "text/plain": [
              "                           x1        x2        x3        x4        x5  \\\n",
              "treatment_group_key                                                     \n",
              "0                    0.690167  0.991941  0.991280 -0.698398  0.715804   \n",
              "1                    0.684945  1.003702  0.994629 -0.683922  0.723315   \n",
              "\n",
              "                           x6        x7        x8        x9   age  \n",
              "treatment_group_key                                                \n",
              "0                    0.000645 -0.208016 -0.561839  0.575092  32.0  \n",
              "1                   -0.003707 -0.208410 -0.561366  0.573658  32.0  "
            ]
          },
          "execution_count": 22,
          "metadata": {},
          "output_type": "execute_result"
        }
      ],
      "source": [
        "df_iddqd.groupby(by='treatment_group_key')[numeric_features].median()"
      ]
    },
    {
      "cell_type": "code",
      "execution_count": 23,
      "metadata": {},
      "outputs": [
        {
          "data": {
            "image/png": "[encoded data removed]",
            "text/plain": [
              "<Figure size 1500x800 with 10 Axes>"
            ]
          },
          "metadata": {},
          "output_type": "display_data"
        }
      ],
      "source": [
        "fig, axes = plt.subplots(2, 5, figsize=(15, 8))\n",
        "axes = axes.flatten()\n",
        "\n",
        "for i, col in enumerate(numeric_features):\n",
        "    sns.histplot(data=df_iddqd, x=col, hue='treatment_group_key', ax=axes[i])\n",
        "    axes[i].set_title(col)\n",
        "\n",
        "plt.tight_layout()\n",
        "plt.show()"
      ]
    },
    {
      "cell_type": "code",
      "execution_count": 24,
      "metadata": {},
      "outputs": [],
      "source": [
        "df_1 = df_iddqd.drop(columns = ['target'])\n",
        "df_1.treatment_group_key = df_1.treatment_group_key.astype('str')\n",
        "df_1.treatment_group_key = df_1.treatment_group_key.replace({'0':'control',\n",
        "                                                             '1':'test'})\n",
        "df_1 = df_1.rename(columns={'treatment_group_key':'group'})"
      ]
    },
    {
      "cell_type": "code",
      "execution_count": 25,
      "metadata": {},
      "outputs": [
        {
          "name": "stdout",
          "output_type": "stream",
          "text": [
            "psi для признака x1 равно 0.0002767697206009882\n",
            "psi для признака x2 равно 0.00021561756105683059\n",
            "psi для признака x3 равно 0.00019081748867860477\n",
            "psi для признака x4 равно 0.000263721441935588\n",
            "psi для признака x5 равно 0.00021383738927209807\n",
            "psi для признака x6 равно 0.000213586268918342\n",
            "psi для признака x7 равно 0.00016454908827573533\n",
            "psi для признака x8 равно 0.0003232298576233026\n",
            "psi для признака x9 равно 5.2528171787091363e-05\n",
            "psi для признака age равно 0.00023436883870353193\n"
          ]
        }
      ],
      "source": [
        "from psi import calculate_psi\n",
        "\n",
        "\n",
        "for col in numeric_features:\n",
        "    psi = calculate_psi(expected = df_1[df_1.group == 'control'][col],\n",
        "                        actual = df_1[df_1.group == 'test'][col])\n",
        "    print(f'psi для признака {col} равно {psi}')"
      ]
    },
    {
      "cell_type": "markdown",
      "metadata": {},
      "source": [
        "Значимой популяционной разницы между контрольной и целевой группами не обнаружено (PSI меньше 0.1)"
      ]
    },
    {
      "cell_type": "markdown",
      "metadata": {
        "id": "pp5bzCfq5AKs"
      },
      "source": [
        "### ваши выводы здесь"
      ]
    },
    {
      "cell_type": "markdown",
      "metadata": {},
      "source": [
        "На основе проведенного анализа клиентских агрегатов можно сделать следующие выводы:\n",
        "\n",
        "1. **Корректность данных и смещение**:\n",
        "   - Для анализа использованы агрегаты за сентябрь 2024 года (смещение на 2 месяца относительно ноябрьских кампаний)\n",
        "   - Такое смещение позволяет избежать лика таргета, так как используются только исторические данные клиентов\n",
        "   - Это соответствует бизнес-требованию о формировании списков на коммуникацию за два месяца до рассылки\n",
        "\n",
        "2. **Анализ каналов коммуникации**:\n",
        "   - **Push-уведомления (iddqd)**:\n",
        "     * Наиболее сбалансированное распределение признаков между группами\n",
        "     * Стабильные показатели по всем агрегатам\n",
        "     * Подтверждается как наиболее надежный канал, т.к. iddqd дает бессмертие\n",
        "\n",
        "   - **SMS (idclip)**:\n",
        "     * Значительные различия в распределении признаков между целевой и контрольной группами\n",
        "     * Аномальные паттерны в клиентских агрегатах\n",
        "     * Рекомендуется исключить из дальнейшего анализа, т.к. ходить сквозь преграды - это перебор\n",
        "\n",
        "   - **Banner и other_ads (iddt, idkfa)**:\n",
        "     * Идентичные распределения признаков\n",
        "     * Вероятно, произошло дублирование данных\n",
        "     * Рекомендуется оставить только один канал - idkfa, т.к. это даст снаряжение и ключи\n",
        "\n",
        "3. **Качество признаков**:\n",
        "   - Демографические признаки (возраст, город) показывают хорошую сбалансированность\n",
        "   - Поведенческие признаки (x1-x9) имеют различную значимость для разных каналов\n",
        "   - Некоторые признаки требуют нормализации из-за разных масштабов\n",
        "\n",
        "4. **Проблемные места в данных**:\n",
        "   - Обнаружены выбросы в числовых признаках\n",
        "   - Присутствуют пропущенные значения в некоторых агрегатах\n",
        "   - Наблюдается несбалансированность признаков в SMS-канале\n",
        "\n",
        "5. **Рекомендации для моделирования**:\n",
        "   - Исключить SMS-кампанию из обучающей выборки\n",
        "   - Объединить banner и other_ads в единый канал\n",
        "   - Провести feature selection для выбора наиболее значимых признаков\n",
        "   - Применить методы обработки выбросов и заполнения пропусков\n",
        "   - Использовать нормализацию числовых признаков\n",
        "\n",
        "6. **Стратегия дальнейшей работы**:\n",
        "   - Сфокусироваться на push-уведомлениях как основном канале\n",
        "   - Создать дополнительные признаки на основе имеющихся агрегатов\n",
        "   - Разработать отдельные модели для разных каналов коммуникации\n",
        "   - Внедрить систему мониторинга качества данных для будущих кампаний\n",
        "\n",
        "Эти выводы позволяют перейти к следующему этапу - построению uplift-моделей с учетом выявленных особенностей и проблем в данных.\n"
      ]
    },
    {
      "cell_type": "markdown",
      "metadata": {
        "id": "UhrSiFL325YF"
      },
      "source": [
        "<h2> 3. Построение моделей и оценка их качества (14 баллов)</h2>\n",
        "\n",
        "Постройте Uplift модели по собранным кампаниям, проведите тюнинг гиперпараметров и оцените их качество (qini score). Для каждой модели также постройте qini-curve."
      ]
    },
    {
      "cell_type": "markdown",
      "metadata": {
        "id": "RfDQkfmaLeE-"
      },
      "source": [
        "**Комментарий по заданиям и оцениванию:**\n",
        "\n",
        "* Реализован только подход Solomodel без дополнительных библиотек и калибровок  - **1 балл**\n",
        "\n",
        "* Реализован Solomodel или Twomodel через Sklift или CausalML - **2 балла**\n",
        "\n",
        "* Учтена калибровка Metalearner'ах - **2 балла**\n",
        "\n",
        "* Корректно реализован ClassTransformation - **2 балла**\n",
        "\n",
        "* Реализован UpliftRandomForest - **4 балла**\n",
        "\n",
        "* Использованы пайплайны в Sklift - **2 балла**\n",
        "\n",
        "* Реализован тюнинг ( Gridsearch \\ Optuna ) - **1 балл**"
      ]
    },
    {
      "cell_type": "code",
      "execution_count": null,
      "metadata": {
        "id": "RkbXxg8i4SkR"
      },
      "outputs": [],
      "source": [
        "# ваш код здесь"
      ]
    },
    {
      "cell_type": "markdown",
      "metadata": {
        "id": "IG98Ll0W25YF"
      },
      "source": [
        "<h2>4. Подготовка ответа в требуемом формате и подготовка выводов (6 баллов)</h2>\n",
        "\n",
        "a) Сделайте скоринг нужных клиентов, подготовьте ответ в требуемом формате\n",
        "\n",
        "б) Сделайте краткую аналитику того, какой канал взаимодействия наиболее предпочтителен\n",
        "\n",
        "в) Сделайте выводы по проделанной работе"
      ]
    },
    {
      "cell_type": "markdown",
      "metadata": {
        "id": "I1SQE2JRMNsA"
      },
      "source": [
        "**Комментарий по заданиям и оцениванию:**\n",
        "\n",
        "* Подготовлен только ответ - **1 балл**\n",
        "* Подготовлен содержательный вывод по проделанной работе - **4 балла**\n",
        "* Корректно принято решение об отправке/не отправке коммуникации клиентам в зависимости от значений Uplift - **1 балл**"
      ]
    },
    {
      "cell_type": "code",
      "execution_count": null,
      "metadata": {
        "id": "0HmitRRX4nVY"
      },
      "outputs": [],
      "source": [
        "# ваш код здесь"
      ]
    },
    {
      "cell_type": "markdown",
      "metadata": {
        "id": "LGavtbmn4oj1"
      },
      "source": [
        "### ваши выводы здесь"
      ]
    }
  ],
  "metadata": {
    "colab": {
      "include_colab_link": true,
      "provenance": []
    },
    "kernelspec": {
      "display_name": ".venv",
      "language": "python",
      "name": "python3"
    },
    "language_info": {
      "codemirror_mode": {
        "name": "ipython",
        "version": 3
      },
      "file_extension": ".py",
      "mimetype": "text/x-python",
      "name": "python",
      "nbconvert_exporter": "python",
      "pygments_lexer": "ipython3",
      "version": "3.12.9"
    }
  },
  "nbformat": 4,
  "nbformat_minor": 0
}
