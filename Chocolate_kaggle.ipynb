{
  "cells": [
    {
      "cell_type": "markdown",
      "metadata": {
        "colab_type": "text",
        "id": "view-in-github"
      },
      "source": [
        "<a href=\"https://colab.research.google.com/github/psaw/hse-ai24-ml/blob/main/Chocolate_baseline.ipynb\" target=\"_parent\"><img src=\"https://colab.research.google.com/assets/colab-badge.svg\" alt=\"Open In Colab\"/></a>"
      ]
    },
    {
      "cell_type": "markdown",
      "metadata": {
        "id": "6HMi8qdjx79-"
      },
      "source": [
        "# Baseline-решение"
      ]
    },
    {
      "cell_type": "markdown",
      "metadata": {
        "id": "PqJfFxWo3NAh"
      },
      "source": [
        "## Импорт библиотек, загрузка данных"
      ]
    },
    {
      "cell_type": "code",
      "execution_count": 2,
      "metadata": {
        "id": "XBVPSLy-3Gqt"
      },
      "outputs": [],
      "source": [
        "import pandas as pd\n",
        "import numpy as np\n",
        "from sklearn.compose import ColumnTransformer\n",
        "from sklearn.preprocessing import FunctionTransformer\n",
        "import matplotlib.pyplot as plt\n",
        "import seaborn as sns\n",
        "import pickle\n",
        "import warnings"
      ]
    },
    {
      "cell_type": "code",
      "execution_count": 3,
      "metadata": {
        "id": "-_2mzgiX3USQ"
      },
      "outputs": [],
      "source": [
        "TRAIN = \"https://raw.githubusercontent.com/evgpat/edu_stepik_practical_ml/main/datasets/chocolate_train.csv\"\n",
        "TEST = \"https://raw.githubusercontent.com/evgpat/edu_stepik_practical_ml/main/datasets/chocolate_test_new.csv\""
      ]
    },
    {
      "cell_type": "code",
      "execution_count": 4,
      "metadata": {
        "id": "-RR6A-W_3D_C"
      },
      "outputs": [],
      "source": [
        "train_df = pd.read_csv(TRAIN)"
      ]
    },
    {
      "cell_type": "markdown",
      "metadata": {
        "id": "VuXd0Zvb4wrZ"
      },
      "source": [
        "## Обзор данных, подготовка к обучению"
      ]
    },
    {
      "cell_type": "code",
      "execution_count": 5,
      "metadata": {
        "colab": {
          "base_uri": "https://localhost:8080/"
        },
        "id": "MiVYgV1_5Qwn",
        "outputId": "52fe0c29-51ff-4fb1-b5ca-9c014819d701"
      },
      "outputs": [
        {
          "data": {
            "text/html": [
              "<div>\n",
              "<style scoped>\n",
              "    .dataframe tbody tr th:only-of-type {\n",
              "        vertical-align: middle;\n",
              "    }\n",
              "\n",
              "    .dataframe tbody tr th {\n",
              "        vertical-align: top;\n",
              "    }\n",
              "\n",
              "    .dataframe thead th {\n",
              "        text-align: right;\n",
              "    }\n",
              "</style>\n",
              "<table border=\"1\" class=\"dataframe\">\n",
              "  <thead>\n",
              "    <tr style=\"text-align: right;\">\n",
              "      <th></th>\n",
              "      <th>Company</th>\n",
              "      <th>Specific Bean Origin</th>\n",
              "      <th>REF</th>\n",
              "      <th>Review</th>\n",
              "      <th>Cocoa Percent</th>\n",
              "      <th>Company Location</th>\n",
              "      <th>Rating</th>\n",
              "      <th>Bean Type</th>\n",
              "      <th>Broad Bean Origin</th>\n",
              "    </tr>\n",
              "  </thead>\n",
              "  <tbody>\n",
              "    <tr>\n",
              "      <th>0</th>\n",
              "      <td>Willie's Cacao</td>\n",
              "      <td>Rio Caribe</td>\n",
              "      <td>457</td>\n",
              "      <td>2009</td>\n",
              "      <td>72%</td>\n",
              "      <td>U.K.</td>\n",
              "      <td>3.25</td>\n",
              "      <td>Trinitario</td>\n",
              "      <td>Venezuela</td>\n",
              "    </tr>\n",
              "    <tr>\n",
              "      <th>1</th>\n",
              "      <td>Beschle (Felchlin)</td>\n",
              "      <td>Ocumare, Premier Cru, Quizas No. 2</td>\n",
              "      <td>508</td>\n",
              "      <td>2010</td>\n",
              "      <td>72%</td>\n",
              "      <td>Switzerland</td>\n",
              "      <td>3.50</td>\n",
              "      <td></td>\n",
              "      <td>Venezuela</td>\n",
              "    </tr>\n",
              "    <tr>\n",
              "      <th>2</th>\n",
              "      <td>Dark Forest</td>\n",
              "      <td>Tanzania</td>\n",
              "      <td>1554</td>\n",
              "      <td>2015</td>\n",
              "      <td>70%</td>\n",
              "      <td>U.S.A.</td>\n",
              "      <td>3.00</td>\n",
              "      <td></td>\n",
              "      <td>Tanzania</td>\n",
              "    </tr>\n",
              "    <tr>\n",
              "      <th>3</th>\n",
              "      <td>Brasstown aka It's Chocolate</td>\n",
              "      <td>Cooproagro</td>\n",
              "      <td>1125</td>\n",
              "      <td>2013</td>\n",
              "      <td>72%</td>\n",
              "      <td>U.S.A.</td>\n",
              "      <td>3.00</td>\n",
              "      <td>Trinitario</td>\n",
              "      <td>Dominican Republic</td>\n",
              "    </tr>\n",
              "    <tr>\n",
              "      <th>4</th>\n",
              "      <td>Pralus</td>\n",
              "      <td>Java, Indonesie</td>\n",
              "      <td>32</td>\n",
              "      <td>2006</td>\n",
              "      <td>75%</td>\n",
              "      <td>France</td>\n",
              "      <td>3.50</td>\n",
              "      <td>Criollo</td>\n",
              "      <td>Indonesia</td>\n",
              "    </tr>\n",
              "  </tbody>\n",
              "</table>\n",
              "</div>"
            ],
            "text/plain": [
              "                        Company                Specific Bean Origin   REF  \\\n",
              "0                Willie's Cacao                          Rio Caribe   457   \n",
              "1            Beschle (Felchlin)  Ocumare, Premier Cru, Quizas No. 2   508   \n",
              "2                   Dark Forest                            Tanzania  1554   \n",
              "3  Brasstown aka It's Chocolate                          Cooproagro  1125   \n",
              "4                        Pralus                     Java, Indonesie    32   \n",
              "\n",
              "   Review Cocoa Percent Company Location  Rating   Bean Type  \\\n",
              "0    2009           72%             U.K.    3.25  Trinitario   \n",
              "1    2010           72%      Switzerland    3.50               \n",
              "2    2015           70%           U.S.A.    3.00               \n",
              "3    2013           72%           U.S.A.    3.00  Trinitario   \n",
              "4    2006           75%           France    3.50     Criollo   \n",
              "\n",
              "    Broad Bean Origin  \n",
              "0           Venezuela  \n",
              "1           Venezuela  \n",
              "2            Tanzania  \n",
              "3  Dominican Republic  \n",
              "4           Indonesia  "
            ]
          },
          "execution_count": 5,
          "metadata": {},
          "output_type": "execute_result"
        }
      ],
      "source": [
        "train_df.head()"
      ]
    },
    {
      "cell_type": "markdown",
      "metadata": {
        "id": "vmO4anS2yAr9"
      },
      "source": [
        "Удаляем все строки с пропусками"
      ]
    },
    {
      "cell_type": "code",
      "execution_count": 6,
      "metadata": {
        "id": "YhykpDEprgj3"
      },
      "outputs": [],
      "source": [
        "train_df.dropna(axis=0, inplace=True)"
      ]
    },
    {
      "cell_type": "markdown",
      "metadata": {
        "id": "LTFDmWziyFLY"
      },
      "source": [
        "Выделяем матрицу объект-признак и вектор с целевой переменной"
      ]
    },
    {
      "cell_type": "code",
      "execution_count": 7,
      "metadata": {
        "id": "Xlfs7w8irPwX"
      },
      "outputs": [],
      "source": [
        "X = train_df # .drop('Rating', axis=1)\n",
        "y = train_df['Rating']"
      ]
    },
    {
      "cell_type": "markdown",
      "metadata": {},
      "source": [
        "## Преобразование данных"
      ]
    },
    {
      "cell_type": "code",
      "execution_count": 8,
      "metadata": {},
      "outputs": [
        {
          "name": "stdout",
          "output_type": "stream",
          "text": [
            "<class 'pandas.core.frame.DataFrame'>\n",
            "Index: 1253 entries, 0 to 1254\n",
            "Data columns (total 9 columns):\n",
            " #   Column                Non-Null Count  Dtype  \n",
            "---  ------                --------------  -----  \n",
            " 0   Company               1253 non-null   object \n",
            " 1   Specific Bean Origin  1253 non-null   object \n",
            " 2   REF                   1253 non-null   int64  \n",
            " 3   Review                1253 non-null   int64  \n",
            " 4   Cocoa Percent         1253 non-null   object \n",
            " 5   Company Location      1253 non-null   object \n",
            " 6   Rating                1253 non-null   float64\n",
            " 7   Bean Type             1253 non-null   object \n",
            " 8   Broad Bean Origin     1253 non-null   object \n",
            "dtypes: float64(1), int64(2), object(6)\n",
            "memory usage: 97.9+ KB\n"
          ]
        }
      ],
      "source": [
        "X.info()"
      ]
    },
    {
      "cell_type": "code",
      "execution_count": 9,
      "metadata": {},
      "outputs": [
        {
          "name": "stdout",
          "output_type": "stream",
          "text": [
            "in:  (1253, 9)\n",
            "1:  (1253, 10)\n",
            "2:  (1253, 11)\n",
            "3:  (1253, 12)\n",
            "4:  (1253, 13)\n",
            "5:  (1253, 8)\n",
            "out:  (1253, 8)\n"
          ]
        },
        {
          "data": {
            "text/html": [
              "<div>\n",
              "<style scoped>\n",
              "    .dataframe tbody tr th:only-of-type {\n",
              "        vertical-align: middle;\n",
              "    }\n",
              "\n",
              "    .dataframe tbody tr th {\n",
              "        vertical-align: top;\n",
              "    }\n",
              "\n",
              "    .dataframe thead th {\n",
              "        text-align: right;\n",
              "    }\n",
              "</style>\n",
              "<table border=\"1\" class=\"dataframe\">\n",
              "  <thead>\n",
              "    <tr style=\"text-align: right;\">\n",
              "      <th></th>\n",
              "      <th>Company</th>\n",
              "      <th>Review</th>\n",
              "      <th>Company Location</th>\n",
              "      <th>Rating</th>\n",
              "      <th>Cocoa Percent_numeric</th>\n",
              "      <th>Broad Bean Origin_cat</th>\n",
              "      <th>Specific Bean Origin_cat</th>\n",
              "      <th>Bean Type_cat</th>\n",
              "    </tr>\n",
              "  </thead>\n",
              "  <tbody>\n",
              "    <tr>\n",
              "      <th>0</th>\n",
              "      <td>Willie's Cacao</td>\n",
              "      <td>2009</td>\n",
              "      <td>U.K.</td>\n",
              "      <td>3.25</td>\n",
              "      <td>72.0</td>\n",
              "      <td>Venezuela</td>\n",
              "      <td>Rio Caribe</td>\n",
              "      <td>Trinitario</td>\n",
              "    </tr>\n",
              "    <tr>\n",
              "      <th>1</th>\n",
              "      <td>Beschle (Felchlin)</td>\n",
              "      <td>2010</td>\n",
              "      <td>Switzerland</td>\n",
              "      <td>3.50</td>\n",
              "      <td>72.0</td>\n",
              "      <td>Venezuela</td>\n",
              "      <td>Ocumare</td>\n",
              "      <td>NaN</td>\n",
              "    </tr>\n",
              "    <tr>\n",
              "      <th>2</th>\n",
              "      <td>Dark Forest</td>\n",
              "      <td>2015</td>\n",
              "      <td>U.S.A.</td>\n",
              "      <td>3.00</td>\n",
              "      <td>70.0</td>\n",
              "      <td>Tanzania</td>\n",
              "      <td>Tanzania</td>\n",
              "      <td>NaN</td>\n",
              "    </tr>\n",
              "    <tr>\n",
              "      <th>3</th>\n",
              "      <td>Brasstown aka It's Chocolate</td>\n",
              "      <td>2013</td>\n",
              "      <td>U.S.A.</td>\n",
              "      <td>3.00</td>\n",
              "      <td>72.0</td>\n",
              "      <td>Dominican Republic</td>\n",
              "      <td>Cooproagro</td>\n",
              "      <td>Trinitario</td>\n",
              "    </tr>\n",
              "    <tr>\n",
              "      <th>4</th>\n",
              "      <td>Pralus</td>\n",
              "      <td>2006</td>\n",
              "      <td>France</td>\n",
              "      <td>3.50</td>\n",
              "      <td>75.0</td>\n",
              "      <td>Indonesia</td>\n",
              "      <td>Java</td>\n",
              "      <td>Criollo</td>\n",
              "    </tr>\n",
              "    <tr>\n",
              "      <th>...</th>\n",
              "      <td>...</td>\n",
              "      <td>...</td>\n",
              "      <td>...</td>\n",
              "      <td>...</td>\n",
              "      <td>...</td>\n",
              "      <td>...</td>\n",
              "      <td>...</td>\n",
              "      <td>...</td>\n",
              "    </tr>\n",
              "    <tr>\n",
              "      <th>1250</th>\n",
              "      <td>Artisan du Chocolat</td>\n",
              "      <td>2009</td>\n",
              "      <td>U.K.</td>\n",
              "      <td>3.00</td>\n",
              "      <td>80.0</td>\n",
              "      <td>Madagascar</td>\n",
              "      <td>Madagascar</td>\n",
              "      <td>Criollo</td>\n",
              "    </tr>\n",
              "    <tr>\n",
              "      <th>1251</th>\n",
              "      <td>Marana</td>\n",
              "      <td>2016</td>\n",
              "      <td>Peru</td>\n",
              "      <td>2.75</td>\n",
              "      <td>70.0</td>\n",
              "      <td>Peru</td>\n",
              "      <td>Cusco</td>\n",
              "      <td>NaN</td>\n",
              "    </tr>\n",
              "    <tr>\n",
              "      <th>1252</th>\n",
              "      <td>Arete</td>\n",
              "      <td>2015</td>\n",
              "      <td>U.S.A.</td>\n",
              "      <td>3.50</td>\n",
              "      <td>68.0</td>\n",
              "      <td>Peru</td>\n",
              "      <td>Nacional</td>\n",
              "      <td>Forastero</td>\n",
              "    </tr>\n",
              "    <tr>\n",
              "      <th>1253</th>\n",
              "      <td>Fresco</td>\n",
              "      <td>2011</td>\n",
              "      <td>U.S.A.</td>\n",
              "      <td>3.50</td>\n",
              "      <td>72.0</td>\n",
              "      <td>Dominican Republic</td>\n",
              "      <td>Conacado</td>\n",
              "      <td>NaN</td>\n",
              "    </tr>\n",
              "    <tr>\n",
              "      <th>1254</th>\n",
              "      <td>Zak's</td>\n",
              "      <td>2015</td>\n",
              "      <td>U.S.A.</td>\n",
              "      <td>3.25</td>\n",
              "      <td>70.0</td>\n",
              "      <td>Madagascar</td>\n",
              "      <td>Madagascar</td>\n",
              "      <td>Trinitario</td>\n",
              "    </tr>\n",
              "  </tbody>\n",
              "</table>\n",
              "<p>1253 rows × 8 columns</p>\n",
              "</div>"
            ],
            "text/plain": [
              "                           Company  Review Company Location  Rating  \\\n",
              "0                   Willie's Cacao    2009             U.K.    3.25   \n",
              "1               Beschle (Felchlin)    2010      Switzerland    3.50   \n",
              "2                      Dark Forest    2015           U.S.A.    3.00   \n",
              "3     Brasstown aka It's Chocolate    2013           U.S.A.    3.00   \n",
              "4                           Pralus    2006           France    3.50   \n",
              "...                            ...     ...              ...     ...   \n",
              "1250           Artisan du Chocolat    2009             U.K.    3.00   \n",
              "1251                        Marana    2016             Peru    2.75   \n",
              "1252                         Arete    2015           U.S.A.    3.50   \n",
              "1253                        Fresco    2011           U.S.A.    3.50   \n",
              "1254                         Zak's    2015           U.S.A.    3.25   \n",
              "\n",
              "      Cocoa Percent_numeric Broad Bean Origin_cat Specific Bean Origin_cat  \\\n",
              "0                      72.0             Venezuela               Rio Caribe   \n",
              "1                      72.0             Venezuela                  Ocumare   \n",
              "2                      70.0              Tanzania                 Tanzania   \n",
              "3                      72.0    Dominican Republic               Cooproagro   \n",
              "4                      75.0             Indonesia                     Java   \n",
              "...                     ...                   ...                      ...   \n",
              "1250                   80.0            Madagascar               Madagascar   \n",
              "1251                   70.0                  Peru                    Cusco   \n",
              "1252                   68.0                  Peru                 Nacional   \n",
              "1253                   72.0    Dominican Republic                 Conacado   \n",
              "1254                   70.0            Madagascar               Madagascar   \n",
              "\n",
              "     Bean Type_cat  \n",
              "0       Trinitario  \n",
              "1              NaN  \n",
              "2              NaN  \n",
              "3       Trinitario  \n",
              "4          Criollo  \n",
              "...            ...  \n",
              "1250       Criollo  \n",
              "1251           NaN  \n",
              "1252     Forastero  \n",
              "1253           NaN  \n",
              "1254    Trinitario  \n",
              "\n",
              "[1253 rows x 8 columns]"
            ]
          },
          "execution_count": 9,
          "metadata": {},
          "output_type": "execute_result"
        }
      ],
      "source": [
        "def cocoa_percent_transformer(X):\n",
        "    X['Cocoa Percent_numeric'] = X['Cocoa Percent'].str.rstrip('%').astype(float)\n",
        "    return X\n",
        "\n",
        "\n",
        "def split_and_replace(X, column_name, separator, replace_value):\n",
        "    X[column_name+'_cat'] = X[column_name].str.split(separator, expand=True)[0].replace(replace_value, np.nan)\n",
        "    return X\n",
        "\n",
        "\n",
        "def clean_df(df):\n",
        "    _df = cocoa_percent_transformer(df)\n",
        "    print(\"1: \", _df.shape)\n",
        "    _df = split_and_replace(_df, 'Broad Bean Origin', ',', '\\xa0')\n",
        "    print(\"2: \", _df.shape)\n",
        "    _df = split_and_replace(_df, 'Specific Bean Origin', ',', '\\xa0')\n",
        "    print(\"3: \", _df.shape)\n",
        "    _df = split_and_replace(_df, 'Bean Type', r'[ ,(]', '\\xa0')\n",
        "    print(\"4: \", _df.shape)\n",
        "    # Объединение с оригинальными данными, за исключением удаляемых столбцов\n",
        "    _df = _df.drop(['REF', 'Cocoa Percent', 'Bean Type', 'Broad Bean Origin', 'Specific Bean Origin'], axis=1)\n",
        "    print(\"5: \", _df.shape)\n",
        "    return _df\n",
        "\n",
        "print(\"in: \", X.shape)\n",
        "X_new = clean_df(X.copy())\n",
        "print(\"out: \", X_new.shape)\n",
        "X_new"
      ]
    },
    {
      "cell_type": "markdown",
      "metadata": {},
      "source": [
        "#### Биннирование признака `Cocoa Percent_numeric`"
      ]
    },
    {
      "cell_type": "code",
      "execution_count": 10,
      "metadata": {},
      "outputs": [
        {
          "data": {
            "image/png": "[encoded data removed]",
            "text/plain": [
              "<Figure size 1000x600 with 1 Axes>"
            ]
          },
          "metadata": {},
          "output_type": "display_data"
        }
      ],
      "source": [
        "plt.figure(figsize=(10, 6))\n",
        "plt.hist(X_new['Cocoa Percent_numeric'], bins=11, edgecolor='black')\n",
        "plt.title('Распределение процента какао в шоколаде')\n",
        "plt.xlabel('Процент какао')\n",
        "plt.ylabel('Количество образцов')\n",
        "plt.grid(True, alpha=0.3)\n",
        "plt.show()\n"
      ]
    },
    {
      "cell_type": "code",
      "execution_count": 11,
      "metadata": {},
      "outputs": [],
      "source": [
        "from sklearn.preprocessing import KBinsDiscretizer\n",
        "\n",
        "discretizer = KBinsDiscretizer(n_bins=11, encode='ordinal', strategy='kmeans', random_state=42)\n",
        "discretizer.fit(X_new[['Cocoa Percent_numeric']])\n",
        "X_new['Cocoa Percent_numeric_binned'] = discretizer.transform(X_new[['Cocoa Percent_numeric']])\n"
      ]
    },
    {
      "cell_type": "code",
      "execution_count": 12,
      "metadata": {},
      "outputs": [
        {
          "data": {
            "image/png": "[encoded data removed]",
            "text/plain": [
              "<Figure size 1000x600 with 1 Axes>"
            ]
          },
          "metadata": {},
          "output_type": "display_data"
        }
      ],
      "source": [
        "plt.figure(figsize=(10, 6))\n",
        "plt.hist(X_new['Cocoa Percent_numeric_binned'], color='red', edgecolor='black')\n",
        "plt.title('Распределение процента какао в шоколаде')\n",
        "plt.xlabel('Процент какао')\n",
        "plt.ylabel('Количество образцов')\n",
        "plt.grid(True, alpha=0.3)\n",
        "plt.show()\n"
      ]
    },
    {
      "cell_type": "code",
      "execution_count": 13,
      "metadata": {},
      "outputs": [
        {
          "data": {
            "text/plain": [
              "Cocoa Percent_numeric_binned\n",
              "4.0     520\n",
              "5.0     373\n",
              "3.0     115\n",
              "6.0      95\n",
              "2.0      57\n",
              "7.0      44\n",
              "10.0     15\n",
              "1.0      14\n",
              "9.0      10\n",
              "8.0       8\n",
              "0.0       2\n",
              "Name: count, dtype: int64"
            ]
          },
          "execution_count": 13,
          "metadata": {},
          "output_type": "execute_result"
        }
      ],
      "source": [
        "X_new['Cocoa Percent_numeric_binned'].value_counts()"
      ]
    },
    {
      "cell_type": "markdown",
      "metadata": {},
      "source": [
        "#### Корреляция признаков"
      ]
    },
    {
      "cell_type": "code",
      "execution_count": 14,
      "metadata": {},
      "outputs": [
        {
          "data": {
            "image/png": "[encoded data removed]",
            "text/plain": [
              "<Figure size 700x600 with 2 Axes>"
            ]
          },
          "metadata": {},
          "output_type": "display_data"
        }
      ],
      "source": [
        "plt.figure(figsize=(7, 6))\n",
        "correlation_matrix = X_new.select_dtypes(include=['float64', 'int64']).corr()\n",
        "\n",
        "sns.heatmap(correlation_matrix, annot=True, cmap='coolwarm', center=0)\n",
        "plt.title('Корреляционная матрица числовых признаков')\n",
        "plt.tight_layout()\n",
        "plt.show()\n"
      ]
    },
    {
      "cell_type": "markdown",
      "metadata": {},
      "source": [
        "Ничего интересного.  \n",
        "Признак `Cocoa Percent_numeric` удалим позже. "
      ]
    },
    {
      "cell_type": "code",
      "execution_count": 15,
      "metadata": {},
      "outputs": [
        {
          "data": {
            "text/html": [
              "<div>\n",
              "<style scoped>\n",
              "    .dataframe tbody tr th:only-of-type {\n",
              "        vertical-align: middle;\n",
              "    }\n",
              "\n",
              "    .dataframe tbody tr th {\n",
              "        vertical-align: top;\n",
              "    }\n",
              "\n",
              "    .dataframe thead th {\n",
              "        text-align: right;\n",
              "    }\n",
              "</style>\n",
              "<table border=\"1\" class=\"dataframe\">\n",
              "  <thead>\n",
              "    <tr style=\"text-align: right;\">\n",
              "      <th></th>\n",
              "      <th>Company</th>\n",
              "      <th>Company Location</th>\n",
              "      <th>Broad Bean Origin_cat</th>\n",
              "      <th>Specific Bean Origin_cat</th>\n",
              "      <th>Bean Type_cat</th>\n",
              "    </tr>\n",
              "  </thead>\n",
              "  <tbody>\n",
              "    <tr>\n",
              "      <th>count</th>\n",
              "      <td>1253</td>\n",
              "      <td>1253</td>\n",
              "      <td>1198</td>\n",
              "      <td>1253</td>\n",
              "      <td>625</td>\n",
              "    </tr>\n",
              "    <tr>\n",
              "      <th>unique</th>\n",
              "      <td>376</td>\n",
              "      <td>58</td>\n",
              "      <td>66</td>\n",
              "      <td>529</td>\n",
              "      <td>9</td>\n",
              "    </tr>\n",
              "    <tr>\n",
              "      <th>top</th>\n",
              "      <td>Soma</td>\n",
              "      <td>U.S.A.</td>\n",
              "      <td>Venezuela</td>\n",
              "      <td>Madagascar</td>\n",
              "      <td>Trinitario</td>\n",
              "    </tr>\n",
              "    <tr>\n",
              "      <th>freq</th>\n",
              "      <td>34</td>\n",
              "      <td>520</td>\n",
              "      <td>148</td>\n",
              "      <td>46</td>\n",
              "      <td>293</td>\n",
              "    </tr>\n",
              "  </tbody>\n",
              "</table>\n",
              "</div>"
            ],
            "text/plain": [
              "       Company Company Location Broad Bean Origin_cat  \\\n",
              "count     1253             1253                  1198   \n",
              "unique     376               58                    66   \n",
              "top       Soma           U.S.A.             Venezuela   \n",
              "freq        34              520                   148   \n",
              "\n",
              "       Specific Bean Origin_cat Bean Type_cat  \n",
              "count                      1253           625  \n",
              "unique                      529             9  \n",
              "top                  Madagascar    Trinitario  \n",
              "freq                         46           293  "
            ]
          },
          "execution_count": 15,
          "metadata": {},
          "output_type": "execute_result"
        }
      ],
      "source": [
        "X_new.describe(include='object')"
      ]
    },
    {
      "cell_type": "code",
      "execution_count": 16,
      "metadata": {},
      "outputs": [
        {
          "data": {
            "text/html": [
              "<div>\n",
              "<style scoped>\n",
              "    .dataframe tbody tr th:only-of-type {\n",
              "        vertical-align: middle;\n",
              "    }\n",
              "\n",
              "    .dataframe tbody tr th {\n",
              "        vertical-align: top;\n",
              "    }\n",
              "\n",
              "    .dataframe thead th {\n",
              "        text-align: right;\n",
              "    }\n",
              "</style>\n",
              "<table border=\"1\" class=\"dataframe\">\n",
              "  <thead>\n",
              "    <tr style=\"text-align: right;\">\n",
              "      <th></th>\n",
              "      <th>Company</th>\n",
              "      <th>Company Location</th>\n",
              "      <th>Broad Bean Origin_cat</th>\n",
              "      <th>Specific Bean Origin_cat</th>\n",
              "      <th>Bean Type_cat</th>\n",
              "    </tr>\n",
              "  </thead>\n",
              "  <tbody>\n",
              "    <tr>\n",
              "      <th>Company</th>\n",
              "      <td>1.000000</td>\n",
              "      <td>0.999651</td>\n",
              "      <td>0.633931</td>\n",
              "      <td>0.653217</td>\n",
              "      <td>0.816914</td>\n",
              "    </tr>\n",
              "    <tr>\n",
              "      <th>Company Location</th>\n",
              "      <td>0.999651</td>\n",
              "      <td>1.000000</td>\n",
              "      <td>0.378944</td>\n",
              "      <td>0.735872</td>\n",
              "      <td>0.268613</td>\n",
              "    </tr>\n",
              "    <tr>\n",
              "      <th>Broad Bean Origin_cat</th>\n",
              "      <td>0.633931</td>\n",
              "      <td>0.378944</td>\n",
              "      <td>1.000000</td>\n",
              "      <td>0.976352</td>\n",
              "      <td>0.506266</td>\n",
              "    </tr>\n",
              "    <tr>\n",
              "      <th>Specific Bean Origin_cat</th>\n",
              "      <td>0.653217</td>\n",
              "      <td>0.735872</td>\n",
              "      <td>0.976352</td>\n",
              "      <td>1.000000</td>\n",
              "      <td>0.871187</td>\n",
              "    </tr>\n",
              "    <tr>\n",
              "      <th>Bean Type_cat</th>\n",
              "      <td>0.816914</td>\n",
              "      <td>0.268613</td>\n",
              "      <td>0.506266</td>\n",
              "      <td>0.871187</td>\n",
              "      <td>1.000000</td>\n",
              "    </tr>\n",
              "  </tbody>\n",
              "</table>\n",
              "</div>"
            ],
            "text/plain": [
              "                           Company  Company Location  Broad Bean Origin_cat  \\\n",
              "Company                   1.000000          0.999651               0.633931   \n",
              "Company Location          0.999651          1.000000               0.378944   \n",
              "Broad Bean Origin_cat     0.633931          0.378944               1.000000   \n",
              "Specific Bean Origin_cat  0.653217          0.735872               0.976352   \n",
              "Bean Type_cat             0.816914          0.268613               0.506266   \n",
              "\n",
              "                          Specific Bean Origin_cat  Bean Type_cat  \n",
              "Company                                   0.653217       0.816914  \n",
              "Company Location                          0.735872       0.268613  \n",
              "Broad Bean Origin_cat                     0.976352       0.506266  \n",
              "Specific Bean Origin_cat                  1.000000       0.871187  \n",
              "Bean Type_cat                             0.871187       1.000000  "
            ]
          },
          "execution_count": 16,
          "metadata": {},
          "output_type": "execute_result"
        }
      ],
      "source": [
        "import association_metrics as am\n",
        "warnings.filterwarnings('ignore')\n",
        "\n",
        "XC = X_new.apply(\n",
        "        lambda x: x.astype(\"category\") if x.dtype == \"object\" else x)\n",
        "\n",
        "cramersv = am.CramersV(XC)\n",
        "\n",
        "cramersv.fit()"
      ]
    },
    {
      "cell_type": "markdown",
      "metadata": {},
      "source": [
        "`Broad Bean Origin_cat` и `Specific Bean Origin_cat` сильно связаны.  \n",
        "Удалим `Broad Bean Origin_cat`, т.к. в нем есть пропуски"
      ]
    },
    {
      "cell_type": "code",
      "execution_count": 17,
      "metadata": {},
      "outputs": [],
      "source": [
        "X_new.drop('Broad Bean Origin_cat', axis=1, inplace=True)"
      ]
    },
    {
      "cell_type": "markdown",
      "metadata": {},
      "source": [
        "#### Визуализируем зависимость целевой переменной от категориальных\n",
        "(перебрал все категории, ничего не увидел)"
      ]
    },
    {
      "cell_type": "code",
      "execution_count": 18,
      "metadata": {},
      "outputs": [
        {
          "data": {
            "image/png": "[encoded data removed]",
            "text/plain": [
              "<Figure size 1500x600 with 1 Axes>"
            ]
          },
          "metadata": {},
          "output_type": "display_data"
        }
      ],
      "source": [
        "plt.figure(figsize=(15, 6))\n",
        "XX=X_new.sample(100)\n",
        "sns.scatterplot(data=XX, x=XX.index, y=y[XX.index], hue='Bean Type_cat', palette='bright');"
      ]
    },
    {
      "cell_type": "markdown",
      "metadata": {},
      "source": [
        "#### Распределение целевой переменной"
      ]
    },
    {
      "cell_type": "code",
      "execution_count": 19,
      "metadata": {},
      "outputs": [
        {
          "data": {
            "image/png": "[encoded data removed]",
            "text/plain": [
              "<Figure size 640x480 with 1 Axes>"
            ]
          },
          "metadata": {},
          "output_type": "display_data"
        }
      ],
      "source": [
        "plt.hist(y, bins=17);"
      ]
    },
    {
      "cell_type": "markdown",
      "metadata": {},
      "source": [
        "Близко к нормальному распределению. Ничего с этим делать не будем."
      ]
    },
    {
      "cell_type": "markdown",
      "metadata": {},
      "source": [
        "#### Обработка категориальных признаков"
      ]
    },
    {
      "cell_type": "code",
      "execution_count": 20,
      "metadata": {},
      "outputs": [],
      "source": [
        "cat_cols = X_new.columns[X_new.dtypes == 'object']\n",
        "num_cols = X_new.columns[X_new.dtypes != 'object']"
      ]
    },
    {
      "cell_type": "code",
      "execution_count": 21,
      "metadata": {},
      "outputs": [
        {
          "name": "stdout",
          "output_type": "stream",
          "text": [
            "Review\n"
          ]
        },
        {
          "data": {
            "image/png": "[encoded data removed]",
            "text/plain": [
              "<Figure size 640x480 with 1 Axes>"
            ]
          },
          "metadata": {},
          "output_type": "display_data"
        },
        {
          "name": "stdout",
          "output_type": "stream",
          "text": [
            "Rating\n"
          ]
        },
        {
          "data": {
            "image/png": "[encoded data removed]",
            "text/plain": [
              "<Figure size 640x480 with 1 Axes>"
            ]
          },
          "metadata": {},
          "output_type": "display_data"
        },
        {
          "name": "stdout",
          "output_type": "stream",
          "text": [
            "Cocoa Percent_numeric\n"
          ]
        },
        {
          "data": {
            "image/png": "[encoded data removed]",
            "text/plain": [
              "<Figure size 640x480 with 1 Axes>"
            ]
          },
          "metadata": {},
          "output_type": "display_data"
        },
        {
          "name": "stdout",
          "output_type": "stream",
          "text": [
            "Cocoa Percent_numeric_binned\n"
          ]
        },
        {
          "data": {
            "image/png": "[encoded data removed]",
            "text/plain": [
              "<Figure size 640x480 with 1 Axes>"
            ]
          },
          "metadata": {},
          "output_type": "display_data"
        }
      ],
      "source": [
        "for col in num_cols:\n",
        "    print(col)\n",
        "    sns.boxplot(X_new[col])\n",
        "    plt.show()"
      ]
    },
    {
      "cell_type": "markdown",
      "metadata": {},
      "source": [
        "Даже экстремальные значения \"процент какао\" встречаются в жизни, поэтому оставляем как есть."
      ]
    },
    {
      "cell_type": "markdown",
      "metadata": {},
      "source": [
        "## Заполнение пропусков"
      ]
    },
    {
      "cell_type": "code",
      "execution_count": 22,
      "metadata": {},
      "outputs": [
        {
          "data": {
            "text/plain": [
              "Company                           0\n",
              "Review                            0\n",
              "Company Location                  0\n",
              "Rating                            0\n",
              "Cocoa Percent_numeric             0\n",
              "Specific Bean Origin_cat          0\n",
              "Bean Type_cat                   628\n",
              "Cocoa Percent_numeric_binned      0\n",
              "dtype: int64"
            ]
          },
          "execution_count": 22,
          "metadata": {},
          "output_type": "execute_result"
        }
      ],
      "source": [
        "X_new.isna().sum()"
      ]
    },
    {
      "cell_type": "markdown",
      "metadata": {},
      "source": [
        "Заполнение пропусков в `Bean Type_cat`:\n",
        "1. где возможно, заполнять модой по группировке по `Specific Bean Origin_cat`\n",
        "2. остальное - значением `unknown`"
      ]
    },
    {
      "cell_type": "code",
      "execution_count": 23,
      "metadata": {},
      "outputs": [],
      "source": [
        "# X_train_transformed['Bean Type_cat'] = X_train_transformed.groupby(['Broad Bean Origin_cat', 'Specific Bean Origin_cat'])['Bean Type_cat'].transform(\n",
        "#     lambda x: x.fillna(x.mode().iloc[0] if not x.mode().empty else np.nan)\n",
        "# )\n",
        "\n",
        "# X_new['Bean Type_cat'] = X_new.groupby(['Broad Bean Origin_cat'])['Bean Type_cat'].transform(\n",
        "#     lambda x: x.fillna(x.mode().iloc[0] if not x.mode().empty else np.nan)\n",
        "# )\n",
        "\n",
        "X_new['Bean Type_cat'] = X_new.groupby(['Specific Bean Origin_cat'])['Bean Type_cat'].transform(\n",
        "    lambda x: x.fillna(x.mode().iloc[0] if not x.mode().empty else np.nan)\n",
        ")\n",
        "\n",
        "X_new['Bean Type_cat'] = X_new['Bean Type_cat'].fillna('unknown')"
      ]
    },
    {
      "cell_type": "code",
      "execution_count": 24,
      "metadata": {},
      "outputs": [
        {
          "data": {
            "text/plain": [
              "Company                         0\n",
              "Review                          0\n",
              "Company Location                0\n",
              "Rating                          0\n",
              "Cocoa Percent_numeric           0\n",
              "Specific Bean Origin_cat        0\n",
              "Bean Type_cat                   0\n",
              "Cocoa Percent_numeric_binned    0\n",
              "dtype: int64"
            ]
          },
          "execution_count": 24,
          "metadata": {},
          "output_type": "execute_result"
        }
      ],
      "source": [
        "X_new.isna().sum()"
      ]
    },
    {
      "cell_type": "markdown",
      "metadata": {
        "id": "Ni840rPy43jU"
      },
      "source": [
        "## Обучение модели"
      ]
    },
    {
      "cell_type": "markdown",
      "metadata": {
        "id": "VMj-qSISyMZG"
      },
      "source": [
        "Устанавливаем катбуст и обучаем его с гиперпараметрами по умолчанию на всех данных"
      ]
    },
    {
      "cell_type": "code",
      "execution_count": 25,
      "metadata": {},
      "outputs": [],
      "source": [
        "X_new.drop(['Rating', 'Cocoa Percent_numeric'], axis=1, inplace=True)"
      ]
    },
    {
      "cell_type": "code",
      "execution_count": 26,
      "metadata": {
        "colab": {
          "base_uri": "https://localhost:8080/"
        },
        "id": "QGV0TmU16oKZ",
        "outputId": "7a9494c0-b173-454d-cad4-776cc5aa483e"
      },
      "outputs": [
        {
          "name": "stdout",
          "output_type": "stream",
          "text": [
            "<class 'pandas.core.frame.DataFrame'>\n",
            "Index: 1253 entries, 0 to 1254\n",
            "Data columns (total 6 columns):\n",
            " #   Column                        Non-Null Count  Dtype  \n",
            "---  ------                        --------------  -----  \n",
            " 0   Company                       1253 non-null   object \n",
            " 1   Review                        1253 non-null   int64  \n",
            " 2   Company Location              1253 non-null   object \n",
            " 3   Specific Bean Origin_cat      1253 non-null   object \n",
            " 4   Bean Type_cat                 1253 non-null   object \n",
            " 5   Cocoa Percent_numeric_binned  1253 non-null   float64\n",
            "dtypes: float64(1), int64(1), object(4)\n",
            "memory usage: 100.8+ KB\n"
          ]
        }
      ],
      "source": [
        "X_new.info()"
      ]
    },
    {
      "cell_type": "markdown",
      "metadata": {},
      "source": [
        "Обучаем CatBoostRegressor с гиперпараметрами по умолчанию на всех данных"
      ]
    },
    {
      "cell_type": "code",
      "execution_count": 27,
      "metadata": {
        "id": "RwaBUtymrEMK"
      },
      "outputs": [],
      "source": [
        "from catboost import CatBoostRegressor\n",
        "cat_features = [0, 2, 3, 4]\n",
        "model = CatBoostRegressor(cat_features=cat_features, verbose=False)"
      ]
    },
    {
      "cell_type": "code",
      "execution_count": 28,
      "metadata": {
        "colab": {
          "base_uri": "https://localhost:8080/"
        },
        "id": "NjPe5UNT4cLl",
        "outputId": "0a0b5691-b378-484a-ab36-2ecb0c4277e8"
      },
      "outputs": [
        {
          "data": {
            "text/plain": [
              "<catboost.core.CatBoostRegressor at 0x13c9533b0>"
            ]
          },
          "execution_count": 28,
          "metadata": {},
          "output_type": "execute_result"
        }
      ],
      "source": [
        "model.fit(X_new, y)"
      ]
    },
    {
      "cell_type": "code",
      "execution_count": 29,
      "metadata": {},
      "outputs": [
        {
          "data": {
            "text/plain": [
              "0.4936905153452009"
            ]
          },
          "execution_count": 29,
          "metadata": {},
          "output_type": "execute_result"
        }
      ],
      "source": [
        "model.score(X_new, y)"
      ]
    },
    {
      "cell_type": "code",
      "execution_count": null,
      "metadata": {},
      "outputs": [],
      "source": [
        "# TODO: что можно сделать для улучшения модели:\n",
        "# 1. Масштабирование признаков\n",
        "# 2. Удаление выбросов\n",
        "# 3. Подбор гиперпараметров"
      ]
    },
    {
      "cell_type": "markdown",
      "metadata": {
        "id": "MMgg_SNc4_L_"
      },
      "source": [
        "## Предсказание на тестовых данных"
      ]
    },
    {
      "cell_type": "markdown",
      "metadata": {
        "id": "bMXSM7qlyTbk"
      },
      "source": [
        "Загружаем тестовые данные"
      ]
    },
    {
      "cell_type": "code",
      "execution_count": 30,
      "metadata": {
        "id": "yKKM4gSNr1YS"
      },
      "outputs": [],
      "source": [
        "test_df = pd.read_csv(TEST)"
      ]
    },
    {
      "cell_type": "code",
      "execution_count": 31,
      "metadata": {
        "colab": {
          "base_uri": "https://localhost:8080/"
        },
        "id": "prhc5WB8r4Wu",
        "outputId": "37ea8558-dd23-49a2-f7a4-3c861b409caa"
      },
      "outputs": [
        {
          "name": "stdout",
          "output_type": "stream",
          "text": [
            "<class 'pandas.core.frame.DataFrame'>\n",
            "RangeIndex: 540 entries, 0 to 539\n",
            "Data columns (total 8 columns):\n",
            " #   Column                Non-Null Count  Dtype \n",
            "---  ------                --------------  ----- \n",
            " 0   Company               540 non-null    object\n",
            " 1   Specific Bean Origin  540 non-null    object\n",
            " 2   REF                   540 non-null    int64 \n",
            " 3   Review                540 non-null    int64 \n",
            " 4   Cocoa Percent         540 non-null    object\n",
            " 5   Company Location      540 non-null    object\n",
            " 6   Bean Type             540 non-null    object\n",
            " 7   Broad Bean Origin     540 non-null    object\n",
            "dtypes: int64(2), object(6)\n",
            "memory usage: 33.9+ KB\n"
          ]
        }
      ],
      "source": [
        "test_df.info()"
      ]
    },
    {
      "cell_type": "code",
      "execution_count": 32,
      "metadata": {},
      "outputs": [
        {
          "name": "stdout",
          "output_type": "stream",
          "text": [
            "1:  (540, 9)\n",
            "2:  (540, 10)\n",
            "3:  (540, 11)\n",
            "4:  (540, 12)\n",
            "5:  (540, 7)\n"
          ]
        }
      ],
      "source": [
        "X_test_transformed = clean_df(test_df.copy())"
      ]
    },
    {
      "cell_type": "code",
      "execution_count": 33,
      "metadata": {},
      "outputs": [],
      "source": [
        "X_test_transformed['Cocoa Percent_numeric_binned'] = discretizer.transform(X_test_transformed[['Cocoa Percent_numeric']])"
      ]
    },
    {
      "cell_type": "code",
      "execution_count": 34,
      "metadata": {},
      "outputs": [],
      "source": [
        "X_test_transformed.drop(['Broad Bean Origin_cat', 'Cocoa Percent_numeric'], axis=1, inplace=True)"
      ]
    },
    {
      "cell_type": "code",
      "execution_count": 35,
      "metadata": {},
      "outputs": [
        {
          "data": {
            "text/plain": [
              "Company                           0\n",
              "Review                            0\n",
              "Company Location                  0\n",
              "Specific Bean Origin_cat          0\n",
              "Bean Type_cat                   259\n",
              "Cocoa Percent_numeric_binned      0\n",
              "dtype: int64"
            ]
          },
          "execution_count": 35,
          "metadata": {},
          "output_type": "execute_result"
        }
      ],
      "source": [
        "X_test_transformed.isna().sum()"
      ]
    },
    {
      "cell_type": "code",
      "execution_count": 36,
      "metadata": {},
      "outputs": [],
      "source": [
        "X_test_transformed['Bean Type_cat'] = X_test_transformed.groupby(['Specific Bean Origin_cat'])['Bean Type_cat'].transform(\n",
        "    lambda x: x.fillna(x.mode().iloc[0] if not x.mode().empty else np.nan)\n",
        ")\n",
        "\n",
        "X_test_transformed['Bean Type_cat'] = X_test_transformed['Bean Type_cat'].fillna('unknown')"
      ]
    },
    {
      "cell_type": "code",
      "execution_count": 37,
      "metadata": {},
      "outputs": [
        {
          "data": {
            "text/plain": [
              "Company                         0\n",
              "Review                          0\n",
              "Company Location                0\n",
              "Specific Bean Origin_cat        0\n",
              "Bean Type_cat                   0\n",
              "Cocoa Percent_numeric_binned    0\n",
              "dtype: int64"
            ]
          },
          "execution_count": 37,
          "metadata": {},
          "output_type": "execute_result"
        }
      ],
      "source": [
        "X_test_transformed.isna().sum()"
      ]
    },
    {
      "cell_type": "code",
      "execution_count": 38,
      "metadata": {},
      "outputs": [
        {
          "name": "stdout",
          "output_type": "stream",
          "text": [
            "<class 'pandas.core.frame.DataFrame'>\n",
            "RangeIndex: 540 entries, 0 to 539\n",
            "Data columns (total 6 columns):\n",
            " #   Column                        Non-Null Count  Dtype  \n",
            "---  ------                        --------------  -----  \n",
            " 0   Company                       540 non-null    object \n",
            " 1   Review                        540 non-null    int64  \n",
            " 2   Company Location              540 non-null    object \n",
            " 3   Specific Bean Origin_cat      540 non-null    object \n",
            " 4   Bean Type_cat                 540 non-null    object \n",
            " 5   Cocoa Percent_numeric_binned  540 non-null    float64\n",
            "dtypes: float64(1), int64(1), object(4)\n",
            "memory usage: 25.4+ KB\n"
          ]
        }
      ],
      "source": [
        "X_test_transformed.info()"
      ]
    },
    {
      "cell_type": "markdown",
      "metadata": {
        "id": "UZmGeQUOyWkL"
      },
      "source": [
        "Делаем предсказание"
      ]
    },
    {
      "cell_type": "code",
      "execution_count": 39,
      "metadata": {
        "id": "B5FVzK3KrYDM"
      },
      "outputs": [],
      "source": [
        "pred = model.predict(X_test_transformed)"
      ]
    },
    {
      "cell_type": "markdown",
      "metadata": {
        "id": "ZLqUnP6IyZ7e"
      },
      "source": [
        "Сохраняем предсказание в файл в нужном формате"
      ]
    },
    {
      "cell_type": "code",
      "execution_count": 44,
      "metadata": {},
      "outputs": [],
      "source": [
        "SUBMISSION_NAME = \"submission_4_copy\"\n",
        "PREFIX_TXT = \"stepik-13.5\""
      ]
    },
    {
      "cell_type": "code",
      "execution_count": 45,
      "metadata": {
        "id": "2VSWIf46ycv7"
      },
      "outputs": [],
      "source": [
        "test_df['id'] = np.arange(len(test_df))\n",
        "test_df['Rating'] = pred\n",
        "\n",
        "test_df[['id','Rating']].to_csv(f\"{SUBMISSION_NAME}.csv\", index=False)\n",
        "with open(f'model-{PREFIX_TXT}-{SUBMISSION_NAME}.pkl', 'wb') as f:\n",
        "    pickle.dump(model, f)"
      ]
    },
    {
      "cell_type": "code",
      "execution_count": 46,
      "metadata": {},
      "outputs": [
        {
          "name": "stdout",
          "output_type": "stream",
          "text": [
            "100%|██████████████████████████████████████| 11.8k/11.8k [00:00<00:00, 12.3kB/s]\n",
            "Successfully submitted to Chocolate rating prediction [Ai Edu]"
          ]
        }
      ],
      "source": [
        "!kaggle competitions submit -c chocolate-rating-prediction-ai-edu -f {SUBMISSION_NAME}.csv -m \"{SUBMISSION_NAME}\""
      ]
    },
    {
      "cell_type": "code",
      "execution_count": 43,
      "metadata": {},
      "outputs": [
        {
          "name": "stdout",
          "output_type": "stream",
          "text": [
            "fileName                 date                 description  status    publicScore  privateScore  \n",
            "-----------------------  -------------------  -----------  --------  -----------  ------------  \n",
            "submission_4.csv         2025-02-04 21:44:51               complete  0.22163                    \n",
            "submission_3.csv         2025-02-03 22:53:49               complete  0.16383                    \n",
            "submission_2.csv         2025-02-02 23:23:33               complete  0.17017                    \n",
            "baseline_submission.csv  2025-02-02 22:23:33  Baseline     complete  0.16337                    \n"
          ]
        }
      ],
      "source": [
        "!kaggle competitions submissions -c chocolate-rating-prediction-ai-edu"
      ]
    }
  ],
  "metadata": {
    "colab": {
      "include_colab_link": true,
      "provenance": []
    },
    "kernelspec": {
      "display_name": ".venv",
      "language": "python",
      "name": "python3"
    },
    "language_info": {
      "codemirror_mode": {
        "name": "ipython",
        "version": 3
      },
      "file_extension": ".py",
      "mimetype": "text/x-python",
      "name": "python",
      "nbconvert_exporter": "python",
      "pygments_lexer": "ipython3",
      "version": "3.12.8"
    }
  },
  "nbformat": 4,
  "nbformat_minor": 0
}
