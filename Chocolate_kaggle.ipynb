{
  "cells": [
    {
      "cell_type": "markdown",
      "metadata": {
        "colab_type": "text",
        "id": "view-in-github"
      },
      "source": [
        "<a href=\"https://colab.research.google.com/github/psaw/hse-ai24-ml/blob/main/Chocolate_baseline.ipynb\" target=\"_parent\"><img src=\"https://colab.research.google.com/assets/colab-badge.svg\" alt=\"Open In Colab\"/></a>"
      ]
    },
    {
      "cell_type": "markdown",
      "metadata": {},
      "source": [
        "# Прогнозирование рейтинга шоколада.\n",
        "\n",
        "## Постановка задачи\n",
        "\n",
        "В датасете содержится информация о более чем 1700 шоколадках. В датасете представлена информация о темном шоколаде.\n",
        "\n",
        "Система рейтинга шоколада:\n",
        "5 = Elite\n",
        "4 = Premium\n",
        "3 = Satisfactory(3.0) to praiseworthy(3.75)\n",
        "2 = Disappointing\n",
        "1 = Unpleasant\n",
        "\n",
        "Для получения рейтинга каждой шоколадки оцениваются все ее характеристики.\n",
        "\n",
        "**Задача** - по характеристикам шоколадки научиться предсказывать ее рейтинг без округлений (то есть если рейтинг 3.75 - хорошая модель должна предсказать 3.75).\n",
        "\n",
        "Рейтинги были собраны Brady Brelinski, Founding Member of the Manhattan Chocolate Society.\n",
        "\n",
        "## Решение\n",
        "Автор решения: Юрий Конов, ИИ24\n",
        "Kaggle: yuryko\n"
      ]
    },
    {
      "cell_type": "markdown",
      "metadata": {
        "id": "PqJfFxWo3NAh"
      },
      "source": [
        "## Импорт библиотек, загрузка данных"
      ]
    },
    {
      "cell_type": "code",
      "execution_count": 1,
      "metadata": {
        "id": "XBVPSLy-3Gqt"
      },
      "outputs": [],
      "source": [
        "import pandas as pd\n",
        "import numpy as np\n",
        "from sklearn.compose import ColumnTransformer\n",
        "from sklearn.preprocessing import FunctionTransformer\n",
        "import matplotlib.pyplot as plt\n",
        "import seaborn as sns\n",
        "import pickle\n",
        "import warnings"
      ]
    },
    {
      "cell_type": "code",
      "execution_count": 2,
      "metadata": {},
      "outputs": [
        {
          "name": "stdout",
          "output_type": "stream",
          "text": [
            "Note: you may need to restart the kernel to use updated packages.\n",
            "Note: you may need to restart the kernel to use updated packages.\n"
          ]
        }
      ],
      "source": [
        "%pip install catboost -q\n",
        "%pip install association_metrics -q\n",
        "%pip install category_encoders -q\n",
        "%pip install optuna -q"
      ]
    },
    {
      "cell_type": "code",
      "execution_count": 3,
      "metadata": {
        "id": "-_2mzgiX3USQ"
      },
      "outputs": [],
      "source": [
        "TRAIN = \"https://raw.githubusercontent.com/evgpat/edu_stepik_practical_ml/main/datasets/chocolate_train.csv\"\n",
        "TEST = \"https://raw.githubusercontent.com/evgpat/edu_stepik_practical_ml/main/datasets/chocolate_test_new.csv\""
      ]
    },
    {
      "cell_type": "code",
      "execution_count": 4,
      "metadata": {
        "id": "-RR6A-W_3D_C"
      },
      "outputs": [],
      "source": [
        "train_df = pd.read_csv(TRAIN)"
      ]
    },
    {
      "cell_type": "markdown",
      "metadata": {
        "id": "VuXd0Zvb4wrZ"
      },
      "source": [
        "## Обзор данных, подготовка к обучению"
      ]
    },
    {
      "cell_type": "code",
      "execution_count": 5,
      "metadata": {
        "colab": {
          "base_uri": "https://localhost:8080/"
        },
        "id": "MiVYgV1_5Qwn",
        "outputId": "52fe0c29-51ff-4fb1-b5ca-9c014819d701"
      },
      "outputs": [
        {
          "data": {
            "text/html": [
              "<div>\n",
              "<style scoped>\n",
              "    .dataframe tbody tr th:only-of-type {\n",
              "        vertical-align: middle;\n",
              "    }\n",
              "\n",
              "    .dataframe tbody tr th {\n",
              "        vertical-align: top;\n",
              "    }\n",
              "\n",
              "    .dataframe thead th {\n",
              "        text-align: right;\n",
              "    }\n",
              "</style>\n",
              "<table border=\"1\" class=\"dataframe\">\n",
              "  <thead>\n",
              "    <tr style=\"text-align: right;\">\n",
              "      <th></th>\n",
              "      <th>Company</th>\n",
              "      <th>Specific Bean Origin</th>\n",
              "      <th>REF</th>\n",
              "      <th>Review</th>\n",
              "      <th>Cocoa Percent</th>\n",
              "      <th>Company Location</th>\n",
              "      <th>Rating</th>\n",
              "      <th>Bean Type</th>\n",
              "      <th>Broad Bean Origin</th>\n",
              "    </tr>\n",
              "  </thead>\n",
              "  <tbody>\n",
              "    <tr>\n",
              "      <th>0</th>\n",
              "      <td>Willie's Cacao</td>\n",
              "      <td>Rio Caribe</td>\n",
              "      <td>457</td>\n",
              "      <td>2009</td>\n",
              "      <td>72%</td>\n",
              "      <td>U.K.</td>\n",
              "      <td>3.25</td>\n",
              "      <td>Trinitario</td>\n",
              "      <td>Venezuela</td>\n",
              "    </tr>\n",
              "    <tr>\n",
              "      <th>1</th>\n",
              "      <td>Beschle (Felchlin)</td>\n",
              "      <td>Ocumare, Premier Cru, Quizas No. 2</td>\n",
              "      <td>508</td>\n",
              "      <td>2010</td>\n",
              "      <td>72%</td>\n",
              "      <td>Switzerland</td>\n",
              "      <td>3.50</td>\n",
              "      <td></td>\n",
              "      <td>Venezuela</td>\n",
              "    </tr>\n",
              "    <tr>\n",
              "      <th>2</th>\n",
              "      <td>Dark Forest</td>\n",
              "      <td>Tanzania</td>\n",
              "      <td>1554</td>\n",
              "      <td>2015</td>\n",
              "      <td>70%</td>\n",
              "      <td>U.S.A.</td>\n",
              "      <td>3.00</td>\n",
              "      <td></td>\n",
              "      <td>Tanzania</td>\n",
              "    </tr>\n",
              "    <tr>\n",
              "      <th>3</th>\n",
              "      <td>Brasstown aka It's Chocolate</td>\n",
              "      <td>Cooproagro</td>\n",
              "      <td>1125</td>\n",
              "      <td>2013</td>\n",
              "      <td>72%</td>\n",
              "      <td>U.S.A.</td>\n",
              "      <td>3.00</td>\n",
              "      <td>Trinitario</td>\n",
              "      <td>Dominican Republic</td>\n",
              "    </tr>\n",
              "    <tr>\n",
              "      <th>4</th>\n",
              "      <td>Pralus</td>\n",
              "      <td>Java, Indonesie</td>\n",
              "      <td>32</td>\n",
              "      <td>2006</td>\n",
              "      <td>75%</td>\n",
              "      <td>France</td>\n",
              "      <td>3.50</td>\n",
              "      <td>Criollo</td>\n",
              "      <td>Indonesia</td>\n",
              "    </tr>\n",
              "  </tbody>\n",
              "</table>\n",
              "</div>"
            ],
            "text/plain": [
              "                        Company                Specific Bean Origin   REF  \\\n",
              "0                Willie's Cacao                          Rio Caribe   457   \n",
              "1            Beschle (Felchlin)  Ocumare, Premier Cru, Quizas No. 2   508   \n",
              "2                   Dark Forest                            Tanzania  1554   \n",
              "3  Brasstown aka It's Chocolate                          Cooproagro  1125   \n",
              "4                        Pralus                     Java, Indonesie    32   \n",
              "\n",
              "   Review Cocoa Percent Company Location  Rating   Bean Type  \\\n",
              "0    2009           72%             U.K.    3.25  Trinitario   \n",
              "1    2010           72%      Switzerland    3.50               \n",
              "2    2015           70%           U.S.A.    3.00               \n",
              "3    2013           72%           U.S.A.    3.00  Trinitario   \n",
              "4    2006           75%           France    3.50     Criollo   \n",
              "\n",
              "    Broad Bean Origin  \n",
              "0           Venezuela  \n",
              "1           Venezuela  \n",
              "2            Tanzania  \n",
              "3  Dominican Republic  \n",
              "4           Indonesia  "
            ]
          },
          "execution_count": 5,
          "metadata": {},
          "output_type": "execute_result"
        }
      ],
      "source": [
        "train_df.head()"
      ]
    },
    {
      "cell_type": "markdown",
      "metadata": {
        "id": "vmO4anS2yAr9"
      },
      "source": [
        "Удаляем все строки с пропусками"
      ]
    },
    {
      "cell_type": "code",
      "execution_count": 6,
      "metadata": {
        "id": "YhykpDEprgj3"
      },
      "outputs": [],
      "source": [
        "train_df.dropna(axis=0, inplace=True)"
      ]
    },
    {
      "cell_type": "markdown",
      "metadata": {
        "id": "LTFDmWziyFLY"
      },
      "source": [
        "Выделяем матрицу объект-признак и вектор с целевой переменной"
      ]
    },
    {
      "cell_type": "code",
      "execution_count": 7,
      "metadata": {
        "id": "Xlfs7w8irPwX"
      },
      "outputs": [],
      "source": [
        "X = train_df # .drop('Rating', axis=1)\n",
        "y = train_df['Rating']"
      ]
    },
    {
      "cell_type": "markdown",
      "metadata": {},
      "source": [
        "## Преобразование данных"
      ]
    },
    {
      "cell_type": "code",
      "execution_count": 8,
      "metadata": {},
      "outputs": [
        {
          "name": "stdout",
          "output_type": "stream",
          "text": [
            "<class 'pandas.core.frame.DataFrame'>\n",
            "Index: 1253 entries, 0 to 1254\n",
            "Data columns (total 9 columns):\n",
            " #   Column                Non-Null Count  Dtype  \n",
            "---  ------                --------------  -----  \n",
            " 0   Company               1253 non-null   object \n",
            " 1   Specific Bean Origin  1253 non-null   object \n",
            " 2   REF                   1253 non-null   int64  \n",
            " 3   Review                1253 non-null   int64  \n",
            " 4   Cocoa Percent         1253 non-null   object \n",
            " 5   Company Location      1253 non-null   object \n",
            " 6   Rating                1253 non-null   float64\n",
            " 7   Bean Type             1253 non-null   object \n",
            " 8   Broad Bean Origin     1253 non-null   object \n",
            "dtypes: float64(1), int64(2), object(6)\n",
            "memory usage: 97.9+ KB\n"
          ]
        }
      ],
      "source": [
        "X.info()"
      ]
    },
    {
      "cell_type": "code",
      "execution_count": 9,
      "metadata": {},
      "outputs": [
        {
          "name": "stdout",
          "output_type": "stream",
          "text": [
            "in:  (1253, 9)\n",
            "1:  (1253, 10)\n",
            "2:  (1253, 11)\n",
            "3:  (1253, 12)\n",
            "4:  (1253, 13)\n",
            "5:  (1253, 8)\n",
            "out:  (1253, 8)\n"
          ]
        },
        {
          "data": {
            "text/html": [
              "<div>\n",
              "<style scoped>\n",
              "    .dataframe tbody tr th:only-of-type {\n",
              "        vertical-align: middle;\n",
              "    }\n",
              "\n",
              "    .dataframe tbody tr th {\n",
              "        vertical-align: top;\n",
              "    }\n",
              "\n",
              "    .dataframe thead th {\n",
              "        text-align: right;\n",
              "    }\n",
              "</style>\n",
              "<table border=\"1\" class=\"dataframe\">\n",
              "  <thead>\n",
              "    <tr style=\"text-align: right;\">\n",
              "      <th></th>\n",
              "      <th>Company</th>\n",
              "      <th>Review</th>\n",
              "      <th>Company Location</th>\n",
              "      <th>Rating</th>\n",
              "      <th>Cocoa Percent_numeric</th>\n",
              "      <th>Broad Bean Origin_cat</th>\n",
              "      <th>Specific Bean Origin_cat</th>\n",
              "      <th>Bean Type_cat</th>\n",
              "    </tr>\n",
              "  </thead>\n",
              "  <tbody>\n",
              "    <tr>\n",
              "      <th>0</th>\n",
              "      <td>Willie's Cacao</td>\n",
              "      <td>2009</td>\n",
              "      <td>U.K.</td>\n",
              "      <td>3.25</td>\n",
              "      <td>72.0</td>\n",
              "      <td>Venezuela</td>\n",
              "      <td>Rio Caribe</td>\n",
              "      <td>Trinitario</td>\n",
              "    </tr>\n",
              "    <tr>\n",
              "      <th>1</th>\n",
              "      <td>Beschle (Felchlin)</td>\n",
              "      <td>2010</td>\n",
              "      <td>Switzerland</td>\n",
              "      <td>3.50</td>\n",
              "      <td>72.0</td>\n",
              "      <td>Venezuela</td>\n",
              "      <td>Ocumare</td>\n",
              "      <td>NaN</td>\n",
              "    </tr>\n",
              "    <tr>\n",
              "      <th>2</th>\n",
              "      <td>Dark Forest</td>\n",
              "      <td>2015</td>\n",
              "      <td>U.S.A.</td>\n",
              "      <td>3.00</td>\n",
              "      <td>70.0</td>\n",
              "      <td>Tanzania</td>\n",
              "      <td>Tanzania</td>\n",
              "      <td>NaN</td>\n",
              "    </tr>\n",
              "    <tr>\n",
              "      <th>3</th>\n",
              "      <td>Brasstown aka It's Chocolate</td>\n",
              "      <td>2013</td>\n",
              "      <td>U.S.A.</td>\n",
              "      <td>3.00</td>\n",
              "      <td>72.0</td>\n",
              "      <td>Dominican Republic</td>\n",
              "      <td>Cooproagro</td>\n",
              "      <td>Trinitario</td>\n",
              "    </tr>\n",
              "    <tr>\n",
              "      <th>4</th>\n",
              "      <td>Pralus</td>\n",
              "      <td>2006</td>\n",
              "      <td>France</td>\n",
              "      <td>3.50</td>\n",
              "      <td>75.0</td>\n",
              "      <td>Indonesia</td>\n",
              "      <td>Java</td>\n",
              "      <td>Criollo</td>\n",
              "    </tr>\n",
              "    <tr>\n",
              "      <th>...</th>\n",
              "      <td>...</td>\n",
              "      <td>...</td>\n",
              "      <td>...</td>\n",
              "      <td>...</td>\n",
              "      <td>...</td>\n",
              "      <td>...</td>\n",
              "      <td>...</td>\n",
              "      <td>...</td>\n",
              "    </tr>\n",
              "    <tr>\n",
              "      <th>1250</th>\n",
              "      <td>Artisan du Chocolat</td>\n",
              "      <td>2009</td>\n",
              "      <td>U.K.</td>\n",
              "      <td>3.00</td>\n",
              "      <td>80.0</td>\n",
              "      <td>Madagascar</td>\n",
              "      <td>Madagascar</td>\n",
              "      <td>Criollo</td>\n",
              "    </tr>\n",
              "    <tr>\n",
              "      <th>1251</th>\n",
              "      <td>Marana</td>\n",
              "      <td>2016</td>\n",
              "      <td>Peru</td>\n",
              "      <td>2.75</td>\n",
              "      <td>70.0</td>\n",
              "      <td>Peru</td>\n",
              "      <td>Cusco</td>\n",
              "      <td>NaN</td>\n",
              "    </tr>\n",
              "    <tr>\n",
              "      <th>1252</th>\n",
              "      <td>Arete</td>\n",
              "      <td>2015</td>\n",
              "      <td>U.S.A.</td>\n",
              "      <td>3.50</td>\n",
              "      <td>68.0</td>\n",
              "      <td>Peru</td>\n",
              "      <td>Nacional</td>\n",
              "      <td>Forastero</td>\n",
              "    </tr>\n",
              "    <tr>\n",
              "      <th>1253</th>\n",
              "      <td>Fresco</td>\n",
              "      <td>2011</td>\n",
              "      <td>U.S.A.</td>\n",
              "      <td>3.50</td>\n",
              "      <td>72.0</td>\n",
              "      <td>Dominican Republic</td>\n",
              "      <td>Conacado</td>\n",
              "      <td>NaN</td>\n",
              "    </tr>\n",
              "    <tr>\n",
              "      <th>1254</th>\n",
              "      <td>Zak's</td>\n",
              "      <td>2015</td>\n",
              "      <td>U.S.A.</td>\n",
              "      <td>3.25</td>\n",
              "      <td>70.0</td>\n",
              "      <td>Madagascar</td>\n",
              "      <td>Madagascar</td>\n",
              "      <td>Trinitario</td>\n",
              "    </tr>\n",
              "  </tbody>\n",
              "</table>\n",
              "<p>1253 rows × 8 columns</p>\n",
              "</div>"
            ],
            "text/plain": [
              "                           Company  Review Company Location  Rating  \\\n",
              "0                   Willie's Cacao    2009             U.K.    3.25   \n",
              "1               Beschle (Felchlin)    2010      Switzerland    3.50   \n",
              "2                      Dark Forest    2015           U.S.A.    3.00   \n",
              "3     Brasstown aka It's Chocolate    2013           U.S.A.    3.00   \n",
              "4                           Pralus    2006           France    3.50   \n",
              "...                            ...     ...              ...     ...   \n",
              "1250           Artisan du Chocolat    2009             U.K.    3.00   \n",
              "1251                        Marana    2016             Peru    2.75   \n",
              "1252                         Arete    2015           U.S.A.    3.50   \n",
              "1253                        Fresco    2011           U.S.A.    3.50   \n",
              "1254                         Zak's    2015           U.S.A.    3.25   \n",
              "\n",
              "      Cocoa Percent_numeric Broad Bean Origin_cat Specific Bean Origin_cat  \\\n",
              "0                      72.0             Venezuela               Rio Caribe   \n",
              "1                      72.0             Venezuela                  Ocumare   \n",
              "2                      70.0              Tanzania                 Tanzania   \n",
              "3                      72.0    Dominican Republic               Cooproagro   \n",
              "4                      75.0             Indonesia                     Java   \n",
              "...                     ...                   ...                      ...   \n",
              "1250                   80.0            Madagascar               Madagascar   \n",
              "1251                   70.0                  Peru                    Cusco   \n",
              "1252                   68.0                  Peru                 Nacional   \n",
              "1253                   72.0    Dominican Republic                 Conacado   \n",
              "1254                   70.0            Madagascar               Madagascar   \n",
              "\n",
              "     Bean Type_cat  \n",
              "0       Trinitario  \n",
              "1              NaN  \n",
              "2              NaN  \n",
              "3       Trinitario  \n",
              "4          Criollo  \n",
              "...            ...  \n",
              "1250       Criollo  \n",
              "1251           NaN  \n",
              "1252     Forastero  \n",
              "1253           NaN  \n",
              "1254    Trinitario  \n",
              "\n",
              "[1253 rows x 8 columns]"
            ]
          },
          "execution_count": 9,
          "metadata": {},
          "output_type": "execute_result"
        }
      ],
      "source": [
        "def cocoa_percent_transformer(X):\n",
        "    X['Cocoa Percent_numeric'] = X['Cocoa Percent'].str.rstrip('%').astype(float)\n",
        "    return X\n",
        "\n",
        "\n",
        "def split_and_replace(X, column_name, separator, replace_value):\n",
        "    X[column_name+'_cat'] = X[column_name].str.split(separator, expand=True)[0].replace(replace_value, np.nan)\n",
        "    return X\n",
        "\n",
        "\n",
        "def clean_df(df):\n",
        "    _df = cocoa_percent_transformer(df)\n",
        "    print(\"1: \", _df.shape)\n",
        "    _df = split_and_replace(_df, 'Broad Bean Origin', ',', '\\xa0')\n",
        "    print(\"2: \", _df.shape)\n",
        "    _df = split_and_replace(_df, 'Specific Bean Origin', ',', '\\xa0')\n",
        "    print(\"3: \", _df.shape)\n",
        "    _df = split_and_replace(_df, 'Bean Type', r'[ ,(]', '\\xa0')\n",
        "    print(\"4: \", _df.shape)\n",
        "    # Объединение с оригинальными данными, за исключением удаляемых столбцов\n",
        "    _df = _df.drop(['REF', 'Cocoa Percent', 'Bean Type', 'Broad Bean Origin', 'Specific Bean Origin'], axis=1)\n",
        "    print(\"5: \", _df.shape)\n",
        "    return _df\n",
        "\n",
        "print(\"in: \", X.shape)\n",
        "X_new = clean_df(X.copy())\n",
        "print(\"out: \", X_new.shape)\n",
        "X_new"
      ]
    },
    {
      "cell_type": "markdown",
      "metadata": {},
      "source": [
        "#### Биннирование признака `Cocoa Percent_numeric`"
      ]
    },
    {
      "cell_type": "code",
      "execution_count": 10,
      "metadata": {},
      "outputs": [
        {
          "data": {
            "image/png": "[encoded data removed]",
            "text/plain": [
              "<Figure size 1000x600 with 1 Axes>"
            ]
          },
          "metadata": {},
          "output_type": "display_data"
        }
      ],
      "source": [
        "plt.figure(figsize=(10, 6))\n",
        "plt.hist(X_new['Cocoa Percent_numeric'], bins=11, edgecolor='black')\n",
        "plt.title('Распределение процента какао в шоколаде')\n",
        "plt.xlabel('Процент какао')\n",
        "plt.ylabel('Количество образцов')\n",
        "plt.grid(True, alpha=0.3)\n",
        "plt.show()\n"
      ]
    },
    {
      "cell_type": "code",
      "execution_count": 11,
      "metadata": {},
      "outputs": [],
      "source": [
        "from sklearn.preprocessing import KBinsDiscretizer\n",
        "\n",
        "discretizer = KBinsDiscretizer(n_bins=11, encode='ordinal', strategy='kmeans', random_state=42)\n",
        "discretizer.fit(X_new[['Cocoa Percent_numeric']])\n",
        "X_new['Cocoa Percent_numeric_binned'] = discretizer.transform(X_new[['Cocoa Percent_numeric']])\n"
      ]
    },
    {
      "cell_type": "code",
      "execution_count": 12,
      "metadata": {},
      "outputs": [
        {
          "data": {
            "image/png": "[encoded data removed]",
            "text/plain": [
              "<Figure size 1000x600 with 1 Axes>"
            ]
          },
          "metadata": {},
          "output_type": "display_data"
        }
      ],
      "source": [
        "plt.figure(figsize=(10, 6))\n",
        "plt.hist(X_new['Cocoa Percent_numeric_binned'], color='red', edgecolor='black')\n",
        "plt.title('Распределение процента какао в шоколаде')\n",
        "plt.xlabel('Процент какао')\n",
        "plt.ylabel('Количество образцов')\n",
        "plt.grid(True, alpha=0.3)\n",
        "plt.show()\n"
      ]
    },
    {
      "cell_type": "code",
      "execution_count": 13,
      "metadata": {},
      "outputs": [
        {
          "data": {
            "text/plain": [
              "Cocoa Percent_numeric_binned\n",
              "4.0     520\n",
              "5.0     373\n",
              "3.0     115\n",
              "6.0      95\n",
              "2.0      57\n",
              "7.0      44\n",
              "10.0     15\n",
              "1.0      14\n",
              "9.0      10\n",
              "8.0       8\n",
              "0.0       2\n",
              "Name: count, dtype: int64"
            ]
          },
          "execution_count": 13,
          "metadata": {},
          "output_type": "execute_result"
        }
      ],
      "source": [
        "X_new['Cocoa Percent_numeric_binned'].value_counts()"
      ]
    },
    {
      "cell_type": "markdown",
      "metadata": {},
      "source": [
        "#### Корреляция признаков"
      ]
    },
    {
      "cell_type": "code",
      "execution_count": 14,
      "metadata": {},
      "outputs": [
        {
          "data": {
            "image/png": "[encoded data removed]",
            "text/plain": [
              "<Figure size 700x600 with 2 Axes>"
            ]
          },
          "metadata": {},
          "output_type": "display_data"
        }
      ],
      "source": [
        "plt.figure(figsize=(7, 6))\n",
        "correlation_matrix = X_new.select_dtypes(include=['float64', 'int64']).corr()\n",
        "\n",
        "sns.heatmap(correlation_matrix, annot=True, cmap='coolwarm', center=0)\n",
        "plt.title('Корреляционная матрица числовых признаков')\n",
        "plt.tight_layout()\n",
        "plt.show()\n"
      ]
    },
    {
      "cell_type": "markdown",
      "metadata": {},
      "source": [
        "Ничего интересного.  \n",
        "Признак `Cocoa Percent_numeric` удалим позже. "
      ]
    },
    {
      "cell_type": "code",
      "execution_count": 15,
      "metadata": {},
      "outputs": [
        {
          "data": {
            "text/html": [
              "<div>\n",
              "<style scoped>\n",
              "    .dataframe tbody tr th:only-of-type {\n",
              "        vertical-align: middle;\n",
              "    }\n",
              "\n",
              "    .dataframe tbody tr th {\n",
              "        vertical-align: top;\n",
              "    }\n",
              "\n",
              "    .dataframe thead th {\n",
              "        text-align: right;\n",
              "    }\n",
              "</style>\n",
              "<table border=\"1\" class=\"dataframe\">\n",
              "  <thead>\n",
              "    <tr style=\"text-align: right;\">\n",
              "      <th></th>\n",
              "      <th>Company</th>\n",
              "      <th>Company Location</th>\n",
              "      <th>Broad Bean Origin_cat</th>\n",
              "      <th>Specific Bean Origin_cat</th>\n",
              "      <th>Bean Type_cat</th>\n",
              "    </tr>\n",
              "  </thead>\n",
              "  <tbody>\n",
              "    <tr>\n",
              "      <th>count</th>\n",
              "      <td>1253</td>\n",
              "      <td>1253</td>\n",
              "      <td>1198</td>\n",
              "      <td>1253</td>\n",
              "      <td>625</td>\n",
              "    </tr>\n",
              "    <tr>\n",
              "      <th>unique</th>\n",
              "      <td>376</td>\n",
              "      <td>58</td>\n",
              "      <td>66</td>\n",
              "      <td>529</td>\n",
              "      <td>9</td>\n",
              "    </tr>\n",
              "    <tr>\n",
              "      <th>top</th>\n",
              "      <td>Soma</td>\n",
              "      <td>U.S.A.</td>\n",
              "      <td>Venezuela</td>\n",
              "      <td>Madagascar</td>\n",
              "      <td>Trinitario</td>\n",
              "    </tr>\n",
              "    <tr>\n",
              "      <th>freq</th>\n",
              "      <td>34</td>\n",
              "      <td>520</td>\n",
              "      <td>148</td>\n",
              "      <td>46</td>\n",
              "      <td>293</td>\n",
              "    </tr>\n",
              "  </tbody>\n",
              "</table>\n",
              "</div>"
            ],
            "text/plain": [
              "       Company Company Location Broad Bean Origin_cat  \\\n",
              "count     1253             1253                  1198   \n",
              "unique     376               58                    66   \n",
              "top       Soma           U.S.A.             Venezuela   \n",
              "freq        34              520                   148   \n",
              "\n",
              "       Specific Bean Origin_cat Bean Type_cat  \n",
              "count                      1253           625  \n",
              "unique                      529             9  \n",
              "top                  Madagascar    Trinitario  \n",
              "freq                         46           293  "
            ]
          },
          "execution_count": 15,
          "metadata": {},
          "output_type": "execute_result"
        }
      ],
      "source": [
        "X_new.describe(include='object')"
      ]
    },
    {
      "cell_type": "code",
      "execution_count": 16,
      "metadata": {},
      "outputs": [
        {
          "data": {
            "text/html": [
              "<div>\n",
              "<style scoped>\n",
              "    .dataframe tbody tr th:only-of-type {\n",
              "        vertical-align: middle;\n",
              "    }\n",
              "\n",
              "    .dataframe tbody tr th {\n",
              "        vertical-align: top;\n",
              "    }\n",
              "\n",
              "    .dataframe thead th {\n",
              "        text-align: right;\n",
              "    }\n",
              "</style>\n",
              "<table border=\"1\" class=\"dataframe\">\n",
              "  <thead>\n",
              "    <tr style=\"text-align: right;\">\n",
              "      <th></th>\n",
              "      <th>Company</th>\n",
              "      <th>Company Location</th>\n",
              "      <th>Broad Bean Origin_cat</th>\n",
              "      <th>Specific Bean Origin_cat</th>\n",
              "      <th>Bean Type_cat</th>\n",
              "    </tr>\n",
              "  </thead>\n",
              "  <tbody>\n",
              "    <tr>\n",
              "      <th>Company</th>\n",
              "      <td>1.000000</td>\n",
              "      <td>0.999651</td>\n",
              "      <td>0.633931</td>\n",
              "      <td>0.653217</td>\n",
              "      <td>0.816914</td>\n",
              "    </tr>\n",
              "    <tr>\n",
              "      <th>Company Location</th>\n",
              "      <td>0.999651</td>\n",
              "      <td>1.000000</td>\n",
              "      <td>0.378944</td>\n",
              "      <td>0.735872</td>\n",
              "      <td>0.268613</td>\n",
              "    </tr>\n",
              "    <tr>\n",
              "      <th>Broad Bean Origin_cat</th>\n",
              "      <td>0.633931</td>\n",
              "      <td>0.378944</td>\n",
              "      <td>1.000000</td>\n",
              "      <td>0.976352</td>\n",
              "      <td>0.506266</td>\n",
              "    </tr>\n",
              "    <tr>\n",
              "      <th>Specific Bean Origin_cat</th>\n",
              "      <td>0.653217</td>\n",
              "      <td>0.735872</td>\n",
              "      <td>0.976352</td>\n",
              "      <td>1.000000</td>\n",
              "      <td>0.871187</td>\n",
              "    </tr>\n",
              "    <tr>\n",
              "      <th>Bean Type_cat</th>\n",
              "      <td>0.816914</td>\n",
              "      <td>0.268613</td>\n",
              "      <td>0.506266</td>\n",
              "      <td>0.871187</td>\n",
              "      <td>1.000000</td>\n",
              "    </tr>\n",
              "  </tbody>\n",
              "</table>\n",
              "</div>"
            ],
            "text/plain": [
              "                           Company  Company Location  Broad Bean Origin_cat  \\\n",
              "Company                   1.000000          0.999651               0.633931   \n",
              "Company Location          0.999651          1.000000               0.378944   \n",
              "Broad Bean Origin_cat     0.633931          0.378944               1.000000   \n",
              "Specific Bean Origin_cat  0.653217          0.735872               0.976352   \n",
              "Bean Type_cat             0.816914          0.268613               0.506266   \n",
              "\n",
              "                          Specific Bean Origin_cat  Bean Type_cat  \n",
              "Company                                   0.653217       0.816914  \n",
              "Company Location                          0.735872       0.268613  \n",
              "Broad Bean Origin_cat                     0.976352       0.506266  \n",
              "Specific Bean Origin_cat                  1.000000       0.871187  \n",
              "Bean Type_cat                             0.871187       1.000000  "
            ]
          },
          "execution_count": 16,
          "metadata": {},
          "output_type": "execute_result"
        }
      ],
      "source": [
        "import association_metrics as am\n",
        "warnings.filterwarnings('ignore')\n",
        "\n",
        "XC = X_new.apply(\n",
        "        lambda x: x.astype(\"category\") if x.dtype == \"object\" else x)\n",
        "\n",
        "cramersv = am.CramersV(XC)\n",
        "\n",
        "cramersv.fit()"
      ]
    },
    {
      "cell_type": "markdown",
      "metadata": {},
      "source": [
        "`Broad Bean Origin_cat` и `Specific Bean Origin_cat` сильно связаны.  \n",
        "Удалим `Broad Bean Origin_cat`, т.к. в нем есть пропуски"
      ]
    },
    {
      "cell_type": "code",
      "execution_count": 17,
      "metadata": {},
      "outputs": [],
      "source": [
        "X_new.drop('Broad Bean Origin_cat', axis=1, inplace=True)"
      ]
    },
    {
      "cell_type": "markdown",
      "metadata": {},
      "source": [
        "#### Визуализируем зависимость целевой переменной от категориальных\n",
        "(перебрал все категории, ничего не увидел)"
      ]
    },
    {
      "cell_type": "code",
      "execution_count": 18,
      "metadata": {},
      "outputs": [
        {
          "data": {
            "image/png": "[encoded data removed]",
            "text/plain": [
              "<Figure size 1500x600 with 1 Axes>"
            ]
          },
          "metadata": {},
          "output_type": "display_data"
        }
      ],
      "source": [
        "plt.figure(figsize=(15, 6))\n",
        "XX=X_new.sample(100)\n",
        "sns.scatterplot(data=XX, x=XX.index, y=y[XX.index], hue='Bean Type_cat', palette='bright');"
      ]
    },
    {
      "cell_type": "markdown",
      "metadata": {},
      "source": [
        "#### Распределение целевой переменной"
      ]
    },
    {
      "cell_type": "code",
      "execution_count": 19,
      "metadata": {},
      "outputs": [
        {
          "data": {
            "image/png": "[encoded data removed]",
            "text/plain": [
              "<Figure size 640x480 with 1 Axes>"
            ]
          },
          "metadata": {},
          "output_type": "display_data"
        }
      ],
      "source": [
        "plt.hist(y, bins=17);"
      ]
    },
    {
      "cell_type": "markdown",
      "metadata": {},
      "source": [
        "Близко к нормальному распределению. Ничего с этим делать не будем."
      ]
    },
    {
      "cell_type": "markdown",
      "metadata": {},
      "source": [
        "#### Обработка категориальных признаков"
      ]
    },
    {
      "cell_type": "code",
      "execution_count": 20,
      "metadata": {},
      "outputs": [],
      "source": [
        "cat_cols = X_new.columns[X_new.dtypes == 'object']\n",
        "num_cols = X_new.columns[X_new.dtypes != 'object']"
      ]
    },
    {
      "cell_type": "code",
      "execution_count": 21,
      "metadata": {},
      "outputs": [
        {
          "name": "stdout",
          "output_type": "stream",
          "text": [
            "Review\n"
          ]
        },
        {
          "data": {
            "image/png": "[encoded data removed]",
            "text/plain": [
              "<Figure size 640x480 with 1 Axes>"
            ]
          },
          "metadata": {},
          "output_type": "display_data"
        },
        {
          "name": "stdout",
          "output_type": "stream",
          "text": [
            "Rating\n"
          ]
        },
        {
          "data": {
            "image/png": "[encoded data removed]",
            "text/plain": [
              "<Figure size 640x480 with 1 Axes>"
            ]
          },
          "metadata": {},
          "output_type": "display_data"
        },
        {
          "name": "stdout",
          "output_type": "stream",
          "text": [
            "Cocoa Percent_numeric\n"
          ]
        },
        {
          "data": {
            "image/png": "[encoded data removed]",
            "text/plain": [
              "<Figure size 640x480 with 1 Axes>"
            ]
          },
          "metadata": {},
          "output_type": "display_data"
        },
        {
          "name": "stdout",
          "output_type": "stream",
          "text": [
            "Cocoa Percent_numeric_binned\n"
          ]
        },
        {
          "data": {
            "image/png": "[encoded data removed]",
            "text/plain": [
              "<Figure size 640x480 with 1 Axes>"
            ]
          },
          "metadata": {},
          "output_type": "display_data"
        }
      ],
      "source": [
        "for col in num_cols:\n",
        "    print(col)\n",
        "    sns.boxplot(X_new[col])\n",
        "    plt.show()"
      ]
    },
    {
      "cell_type": "markdown",
      "metadata": {},
      "source": [
        "Даже экстремальные значения \"процент какао\" встречаются в жизни, поэтому оставляем как есть."
      ]
    },
    {
      "cell_type": "markdown",
      "metadata": {},
      "source": [
        "## Заполнение пропусков"
      ]
    },
    {
      "cell_type": "code",
      "execution_count": 22,
      "metadata": {},
      "outputs": [
        {
          "data": {
            "text/plain": [
              "Company                           0\n",
              "Review                            0\n",
              "Company Location                  0\n",
              "Rating                            0\n",
              "Cocoa Percent_numeric             0\n",
              "Specific Bean Origin_cat          0\n",
              "Bean Type_cat                   628\n",
              "Cocoa Percent_numeric_binned      0\n",
              "dtype: int64"
            ]
          },
          "execution_count": 22,
          "metadata": {},
          "output_type": "execute_result"
        }
      ],
      "source": [
        "X_new.isna().sum()"
      ]
    },
    {
      "cell_type": "markdown",
      "metadata": {},
      "source": [
        "Заполнение пропусков в `Bean Type_cat`:\n",
        "1. где возможно, заполнять модой по группировке по `Specific Bean Origin_cat`\n",
        "2. остальное - значением `unknown`"
      ]
    },
    {
      "cell_type": "code",
      "execution_count": 23,
      "metadata": {},
      "outputs": [],
      "source": [
        "# X_train_transformed['Bean Type_cat'] = X_train_transformed.groupby(['Broad Bean Origin_cat', 'Specific Bean Origin_cat'])['Bean Type_cat'].transform(\n",
        "#     lambda x: x.fillna(x.mode().iloc[0] if not x.mode().empty else np.nan)\n",
        "# )\n",
        "\n",
        "# X_new['Bean Type_cat'] = X_new.groupby(['Broad Bean Origin_cat'])['Bean Type_cat'].transform(\n",
        "#     lambda x: x.fillna(x.mode().iloc[0] if not x.mode().empty else np.nan)\n",
        "# )\n",
        "\n",
        "X_new['Bean Type_cat'] = X_new.groupby(['Specific Bean Origin_cat'])['Bean Type_cat'].transform(\n",
        "    lambda x: x.fillna(x.mode().iloc[0] if not x.mode().empty else np.nan)\n",
        ")\n",
        "\n",
        "X_new['Bean Type_cat'] = X_new['Bean Type_cat'].fillna('unknown')"
      ]
    },
    {
      "cell_type": "code",
      "execution_count": 24,
      "metadata": {},
      "outputs": [
        {
          "data": {
            "text/plain": [
              "Company                         0\n",
              "Review                          0\n",
              "Company Location                0\n",
              "Rating                          0\n",
              "Cocoa Percent_numeric           0\n",
              "Specific Bean Origin_cat        0\n",
              "Bean Type_cat                   0\n",
              "Cocoa Percent_numeric_binned    0\n",
              "dtype: int64"
            ]
          },
          "execution_count": 24,
          "metadata": {},
          "output_type": "execute_result"
        }
      ],
      "source": [
        "X_new.isna().sum()"
      ]
    },
    {
      "cell_type": "markdown",
      "metadata": {
        "id": "Ni840rPy43jU"
      },
      "source": [
        "## Обучение модели"
      ]
    },
    {
      "cell_type": "markdown",
      "metadata": {
        "id": "VMj-qSISyMZG"
      },
      "source": [
        "Устанавливаем катбуст и обучаем его с гиперпараметрами по умолчанию на всех данных"
      ]
    },
    {
      "cell_type": "code",
      "execution_count": 25,
      "metadata": {},
      "outputs": [],
      "source": [
        "X_new.drop(['Rating', 'Cocoa Percent_numeric'], axis=1, inplace=True)"
      ]
    },
    {
      "cell_type": "code",
      "execution_count": 26,
      "metadata": {
        "colab": {
          "base_uri": "https://localhost:8080/"
        },
        "id": "QGV0TmU16oKZ",
        "outputId": "7a9494c0-b173-454d-cad4-776cc5aa483e"
      },
      "outputs": [
        {
          "name": "stdout",
          "output_type": "stream",
          "text": [
            "<class 'pandas.core.frame.DataFrame'>\n",
            "Index: 1253 entries, 0 to 1254\n",
            "Data columns (total 6 columns):\n",
            " #   Column                        Non-Null Count  Dtype  \n",
            "---  ------                        --------------  -----  \n",
            " 0   Company                       1253 non-null   object \n",
            " 1   Review                        1253 non-null   int64  \n",
            " 2   Company Location              1253 non-null   object \n",
            " 3   Specific Bean Origin_cat      1253 non-null   object \n",
            " 4   Bean Type_cat                 1253 non-null   object \n",
            " 5   Cocoa Percent_numeric_binned  1253 non-null   float64\n",
            "dtypes: float64(1), int64(1), object(4)\n",
            "memory usage: 100.8+ KB\n"
          ]
        }
      ],
      "source": [
        "X_new.info()"
      ]
    },
    {
      "cell_type": "markdown",
      "metadata": {},
      "source": [
        "Обучаем CatBoostRegressor с гиперпараметрами по умолчанию на всех данных"
      ]
    },
    {
      "cell_type": "code",
      "execution_count": 27,
      "metadata": {
        "id": "RwaBUtymrEMK"
      },
      "outputs": [],
      "source": [
        "from catboost import CatBoostRegressor\n",
        "cat_features = [0, 2, 3, 4]\n",
        "model = CatBoostRegressor(cat_features=cat_features, verbose=False)"
      ]
    },
    {
      "cell_type": "code",
      "execution_count": 227,
      "metadata": {
        "colab": {
          "base_uri": "https://localhost:8080/"
        },
        "id": "NjPe5UNT4cLl",
        "outputId": "0a0b5691-b378-484a-ab36-2ecb0c4277e8"
      },
      "outputs": [
        {
          "data": {
            "text/plain": [
              "<catboost.core.CatBoostRegressor at 0x322a48f80>"
            ]
          },
          "execution_count": 227,
          "metadata": {},
          "output_type": "execute_result"
        }
      ],
      "source": [
        "model.fit(X_new, y)"
      ]
    },
    {
      "cell_type": "code",
      "execution_count": 228,
      "metadata": {},
      "outputs": [
        {
          "data": {
            "text/plain": [
              "0.4932230268399286"
            ]
          },
          "execution_count": 228,
          "metadata": {},
          "output_type": "execute_result"
        }
      ],
      "source": [
        "model.score(X_new, y)"
      ]
    },
    {
      "cell_type": "code",
      "execution_count": 231,
      "metadata": {},
      "outputs": [
        {
          "data": {
            "text/plain": [
              "{'train': 0.49987447657163253, 'test': 0.47297869592858843}"
            ]
          },
          "execution_count": 231,
          "metadata": {},
          "output_type": "execute_result"
        }
      ],
      "source": [
        "print_score(model, X_train, y_train, X_test, y_test)"
      ]
    },
    {
      "cell_type": "code",
      "execution_count": 30,
      "metadata": {},
      "outputs": [],
      "source": [
        "# TODO: что можно сделать для улучшения модели:\n",
        "# 1. Масштабирование признаков\n",
        "# 2. Удаление выбросов\n",
        "# 3. Подбор гиперпараметров"
      ]
    },
    {
      "cell_type": "markdown",
      "metadata": {
        "id": "MMgg_SNc4_L_"
      },
      "source": [
        "## Предсказание на тестовых данных"
      ]
    },
    {
      "cell_type": "markdown",
      "metadata": {
        "id": "bMXSM7qlyTbk"
      },
      "source": [
        "### Загрузка тестовых данных"
      ]
    },
    {
      "cell_type": "code",
      "execution_count": 31,
      "metadata": {
        "id": "yKKM4gSNr1YS"
      },
      "outputs": [],
      "source": [
        "test_df = pd.read_csv(TEST)"
      ]
    },
    {
      "cell_type": "code",
      "execution_count": 32,
      "metadata": {
        "colab": {
          "base_uri": "https://localhost:8080/"
        },
        "id": "prhc5WB8r4Wu",
        "outputId": "37ea8558-dd23-49a2-f7a4-3c861b409caa"
      },
      "outputs": [
        {
          "name": "stdout",
          "output_type": "stream",
          "text": [
            "<class 'pandas.core.frame.DataFrame'>\n",
            "RangeIndex: 540 entries, 0 to 539\n",
            "Data columns (total 8 columns):\n",
            " #   Column                Non-Null Count  Dtype \n",
            "---  ------                --------------  ----- \n",
            " 0   Company               540 non-null    object\n",
            " 1   Specific Bean Origin  540 non-null    object\n",
            " 2   REF                   540 non-null    int64 \n",
            " 3   Review                540 non-null    int64 \n",
            " 4   Cocoa Percent         540 non-null    object\n",
            " 5   Company Location      540 non-null    object\n",
            " 6   Bean Type             540 non-null    object\n",
            " 7   Broad Bean Origin     540 non-null    object\n",
            "dtypes: int64(2), object(6)\n",
            "memory usage: 33.9+ KB\n"
          ]
        }
      ],
      "source": [
        "test_df.info()"
      ]
    },
    {
      "cell_type": "markdown",
      "metadata": {},
      "source": [
        "### Обработка тестовых данных"
      ]
    },
    {
      "cell_type": "code",
      "execution_count": 33,
      "metadata": {},
      "outputs": [
        {
          "name": "stdout",
          "output_type": "stream",
          "text": [
            "1:  (540, 9)\n",
            "2:  (540, 10)\n",
            "3:  (540, 11)\n",
            "4:  (540, 12)\n",
            "5:  (540, 7)\n"
          ]
        }
      ],
      "source": [
        "X_test_transformed = clean_df(test_df.copy())"
      ]
    },
    {
      "cell_type": "code",
      "execution_count": 34,
      "metadata": {},
      "outputs": [],
      "source": [
        "X_test_transformed['Cocoa Percent_numeric_binned'] = discretizer.transform(X_test_transformed[['Cocoa Percent_numeric']])"
      ]
    },
    {
      "cell_type": "code",
      "execution_count": 35,
      "metadata": {},
      "outputs": [],
      "source": [
        "X_test_transformed.drop(['Broad Bean Origin_cat', 'Cocoa Percent_numeric'], axis=1, inplace=True)"
      ]
    },
    {
      "cell_type": "code",
      "execution_count": 36,
      "metadata": {},
      "outputs": [
        {
          "data": {
            "text/plain": [
              "Company                           0\n",
              "Review                            0\n",
              "Company Location                  0\n",
              "Specific Bean Origin_cat          0\n",
              "Bean Type_cat                   259\n",
              "Cocoa Percent_numeric_binned      0\n",
              "dtype: int64"
            ]
          },
          "execution_count": 36,
          "metadata": {},
          "output_type": "execute_result"
        }
      ],
      "source": [
        "X_test_transformed.isna().sum()"
      ]
    },
    {
      "cell_type": "code",
      "execution_count": 37,
      "metadata": {},
      "outputs": [],
      "source": [
        "X_test_transformed['Bean Type_cat'] = X_test_transformed.groupby(['Specific Bean Origin_cat'])['Bean Type_cat'].transform(\n",
        "    lambda x: x.fillna(x.mode().iloc[0] if not x.mode().empty else np.nan)\n",
        ")\n",
        "\n",
        "X_test_transformed['Bean Type_cat'] = X_test_transformed['Bean Type_cat'].fillna('unknown')"
      ]
    },
    {
      "cell_type": "code",
      "execution_count": 38,
      "metadata": {},
      "outputs": [
        {
          "data": {
            "text/plain": [
              "Company                         0\n",
              "Review                          0\n",
              "Company Location                0\n",
              "Specific Bean Origin_cat        0\n",
              "Bean Type_cat                   0\n",
              "Cocoa Percent_numeric_binned    0\n",
              "dtype: int64"
            ]
          },
          "execution_count": 38,
          "metadata": {},
          "output_type": "execute_result"
        }
      ],
      "source": [
        "X_test_transformed.isna().sum()"
      ]
    },
    {
      "cell_type": "code",
      "execution_count": 39,
      "metadata": {},
      "outputs": [
        {
          "name": "stdout",
          "output_type": "stream",
          "text": [
            "<class 'pandas.core.frame.DataFrame'>\n",
            "RangeIndex: 540 entries, 0 to 539\n",
            "Data columns (total 6 columns):\n",
            " #   Column                        Non-Null Count  Dtype  \n",
            "---  ------                        --------------  -----  \n",
            " 0   Company                       540 non-null    object \n",
            " 1   Review                        540 non-null    int64  \n",
            " 2   Company Location              540 non-null    object \n",
            " 3   Specific Bean Origin_cat      540 non-null    object \n",
            " 4   Bean Type_cat                 540 non-null    object \n",
            " 5   Cocoa Percent_numeric_binned  540 non-null    float64\n",
            "dtypes: float64(1), int64(1), object(4)\n",
            "memory usage: 25.4+ KB\n"
          ]
        }
      ],
      "source": [
        "X_test_transformed.info()"
      ]
    },
    {
      "cell_type": "markdown",
      "metadata": {
        "id": "UZmGeQUOyWkL"
      },
      "source": [
        "### Предсказание"
      ]
    },
    {
      "cell_type": "code",
      "execution_count": 40,
      "metadata": {
        "id": "B5FVzK3KrYDM"
      },
      "outputs": [],
      "source": [
        "pred = model.predict(X_test_transformed)"
      ]
    },
    {
      "cell_type": "markdown",
      "metadata": {
        "id": "ZLqUnP6IyZ7e"
      },
      "source": [
        "Функция для сохранения предсказания в файл в нужном формате и отправки на Kaggle"
      ]
    },
    {
      "cell_type": "code",
      "execution_count": 49,
      "metadata": {},
      "outputs": [],
      "source": [
        "def save_and_submit(pred, model, test_df, SUBMISSION_NAME, PREFIX_TXT = \"stepik-13.5\", submit = False):\n",
        "    test_df['id'] = np.arange(len(test_df))\n",
        "    test_df['Rating'] = pred\n",
        "\n",
        "    test_df[['id','Rating']].to_csv(f\"{SUBMISSION_NAME}.csv\", index=False)\n",
        "    with open(f'model-{PREFIX_TXT}-{SUBMISSION_NAME}.pkl', 'wb') as f:\n",
        "        pickle.dump(model, f)\n",
        "\n",
        "    if submit:\n",
        "        !kaggle competitions submit -c chocolate-rating-prediction-ai-edu -f {SUBMISSION_NAME}.csv -m \"{SUBMISSION_NAME}\"\n",
        "        !kaggle competitions submissions -c chocolate-rating-prediction-ai-edu"
      ]
    },
    {
      "cell_type": "code",
      "execution_count": 52,
      "metadata": {},
      "outputs": [
        {
          "name": "stdout",
          "output_type": "stream",
          "text": [
            "100%|██████████████████████████████████████| 11.8k/11.8k [00:01<00:00, 11.3kB/s]\n",
            "Successfully submitted to Chocolate rating prediction [Ai Edu]fileName                 date                 description         status    publicScore  privateScore  \n",
            "-----------------------  -------------------  ------------------  --------  -----------  ------------  \n",
            "submission_4_copy3.csv   2025-02-07 11:36:10  submission_4_copy3  complete  0.22163                    \n",
            "submission_4_copy2.csv   2025-02-06 13:01:31  submission_4_copy2  complete  0.22163                    \n",
            "submission_4_copy.csv    2025-02-05 22:41:57  submission_4_copy   complete  0.22207                    \n",
            "submission_4.csv         2025-02-04 21:44:51                      complete  0.22163                    \n",
            "submission_3.csv         2025-02-03 22:53:49                      complete  0.16383                    \n",
            "submission_2.csv         2025-02-02 23:23:33                      complete  0.17017                    \n",
            "baseline_submission.csv  2025-02-02 22:23:33  Baseline            complete  0.16337                    \n"
          ]
        }
      ],
      "source": [
        "save_and_submit(pred, model, test_df, \"submission_4_copy3\", submit = True)"
      ]
    },
    {
      "cell_type": "markdown",
      "metadata": {},
      "source": [
        "## Попытки улучшения"
      ]
    },
    {
      "cell_type": "markdown",
      "metadata": {},
      "source": [
        "Для начала реализуем пайплайны и проверим их на самой просто линейной регрессии"
      ]
    },
    {
      "cell_type": "code",
      "execution_count": 204,
      "metadata": {},
      "outputs": [],
      "source": [
        "from category_encoders.ordinal import OrdinalEncoder\n",
        "from category_encoders.one_hot import OneHotEncoder\n",
        "from category_encoders.target_encoder import TargetEncoder\n",
        "from category_encoders.leave_one_out import LeaveOneOutEncoder\n",
        "from sklearn.linear_model import LinearRegression, Ridge\n",
        "from sklearn.tree import DecisionTreeRegressor\n",
        "from sklearn.ensemble import RandomForestRegressor\n",
        "from sklearn.preprocessing import StandardScaler\n",
        "from sklearn.model_selection import train_test_split\n",
        "from sklearn.pipeline import Pipeline\n",
        "from pprint import pprint as pp\n",
        "from sklearn.metrics import r2_score"
      ]
    },
    {
      "cell_type": "code",
      "execution_count": 185,
      "metadata": {},
      "outputs": [],
      "source": [
        "X_train, X_test, y_train, y_test = train_test_split(X_new, y, test_size=0.25, random_state=42)"
      ]
    },
    {
      "cell_type": "code",
      "execution_count": 196,
      "metadata": {},
      "outputs": [],
      "source": [
        "r2_scores = {}  # для сохранения r2_scores всех экспериментов"
      ]
    },
    {
      "cell_type": "code",
      "execution_count": 275,
      "metadata": {},
      "outputs": [],
      "source": [
        "# словарь из двух метрик для печати или вставки куда-то дальшк\n",
        "def print_score(p, X_train: pd.DataFrame, y_train: pd.Series, X_test: pd.DataFrame, y_test: pd.Series):\n",
        "    res = {}\n",
        "    res[\"train\"] = p.score(X_train, y_train)\n",
        "    res[\"test\"] = p.score(X_test, y_test)\n",
        "    return res\n"
      ]
    },
    {
      "cell_type": "code",
      "execution_count": 436,
      "metadata": {},
      "outputs": [
        {
          "data": {
            "text/plain": [
              "{'nan_mode': 'Min',\n",
              " 'eval_metric': 'RMSE',\n",
              " 'combinations_ctr': ['Borders:CtrBorderCount=15:CtrBorderType=Uniform:TargetBorderCount=1:TargetBorderType=MinEntropy:Prior=0/1:Prior=0.5/1:Prior=1/1',\n",
              "  'Counter:CtrBorderCount=15:CtrBorderType=Uniform:Prior=0/1'],\n",
              " 'iterations': 1000,\n",
              " 'sampling_frequency': 'PerTree',\n",
              " 'fold_permutation_block': 0,\n",
              " 'leaf_estimation_method': 'Newton',\n",
              " 'random_score_type': 'NormalWithModelSizeDecrease',\n",
              " 'counter_calc_method': 'SkipTest',\n",
              " 'grow_policy': 'SymmetricTree',\n",
              " 'penalties_coefficient': 1,\n",
              " 'boosting_type': 'Plain',\n",
              " 'model_shrink_mode': 'Constant',\n",
              " 'feature_border_type': 'GreedyLogSum',\n",
              " 'ctr_leaf_count_limit': 18446744073709551615,\n",
              " 'bayesian_matrix_reg': 0.10000000149011612,\n",
              " 'one_hot_max_size': 2,\n",
              " 'eval_fraction': 0,\n",
              " 'force_unit_auto_pair_weights': False,\n",
              " 'l2_leaf_reg': 3,\n",
              " 'random_strength': 1,\n",
              " 'rsm': 1,\n",
              " 'boost_from_average': True,\n",
              " 'max_ctr_complexity': 4,\n",
              " 'model_size_reg': 0.5,\n",
              " 'simple_ctr': ['Borders:CtrBorderCount=15:CtrBorderType=Uniform:TargetBorderCount=1:TargetBorderType=MinEntropy:Prior=0/1:Prior=0.5/1:Prior=1/1',\n",
              "  'Counter:CtrBorderCount=15:CtrBorderType=Uniform:Prior=0/1'],\n",
              " 'pool_metainfo_options': {'tags': {}},\n",
              " 'subsample': 0.800000011920929,\n",
              " 'use_best_model': False,\n",
              " 'random_seed': 0,\n",
              " 'depth': 6,\n",
              " 'ctr_target_border_count': 1,\n",
              " 'posterior_sampling': False,\n",
              " 'has_time': False,\n",
              " 'store_all_simple_ctr': False,\n",
              " 'border_count': 254,\n",
              " 'classes_count': 0,\n",
              " 'auto_class_weights': 'None',\n",
              " 'sparse_features_conflict_fraction': 0,\n",
              " 'leaf_estimation_backtracking': 'AnyImprovement',\n",
              " 'best_model_min_trees': 1,\n",
              " 'model_shrink_rate': 0,\n",
              " 'min_data_in_leaf': 1,\n",
              " 'loss_function': 'RMSE',\n",
              " 'learning_rate': 0.04242800176143646,\n",
              " 'score_function': 'Cosine',\n",
              " 'task_type': 'CPU',\n",
              " 'leaf_estimation_iterations': 1,\n",
              " 'bootstrap_type': 'MVS',\n",
              " 'max_leaves': 64,\n",
              " 'permutation_count': 4}"
            ]
          },
          "execution_count": 436,
          "metadata": {},
          "output_type": "execute_result"
        }
      ],
      "source": [
        "model.get_all_params()"
      ]
    },
    {
      "cell_type": "code",
      "execution_count": 401,
      "metadata": {},
      "outputs": [
        {
          "name": "stdout",
          "output_type": "stream",
          "text": [
            "{'best_xgb': {'test': 0.9251419917103052, 'train': 0.2674512430192372},\n",
            " 'lgb_random': {'test': -0.009032309245039727, 'train': 0.9921626963378684},\n",
            " 'model': {'test': 0.47297869592858843, 'train': 0.49987447657163253},\n",
            " 'model_cb': {'test': 0.0927132772872663, 'train': 0.5282661035083401},\n",
            " 'model_cb2': {'test': 0.11733371423982197, 'train': 0.4500799346346961},\n",
            " 'model_cb2_2': {'test': 0.11733371423982197, 'train': 0.4500799346346961},\n",
            " 'model_cb_improved': {'test': 0.031015482570668218,\n",
            "                       'train': 0.9962683238126473},\n",
            " 'p1': {'test': -0.013158653940478438, 'train': 0.612098504242313},\n",
            " 'p10': {'test': -0.019605051636775617, 'train': 0.16969376575796158},\n",
            " 'p11': {'test': 0.024917267366840967, 'train': 0.9505771133737102},\n",
            " 'p12': {'test': 0.00030745587896430226, 'train': 0.1635102069979063},\n",
            " 'p13': {'test': 0.007547606989263267, 'train': 0.9379138544742707},\n",
            " 'p2': {'test': -0.004615622820015597, 'train': 0.12382269065956364},\n",
            " 'p3': {'test': -0.026735647384129813, 'train': 0.7205170248491082},\n",
            " 'p4': {'test': -0.004615622820014709, 'train': 0.12382269065956286},\n",
            " 'p5': {'test': -0.013158653940478215, 'train': 0.6120985042423128},\n",
            " 'p6': {'test': -0.026735647384129813, 'train': 0.7205170248491082},\n",
            " 'p7': {'test': 0.06367949166882036, 'train': 0.34331941191550974},\n",
            " 'p8': {'test': 0.06367949166882092, 'train': 0.34331941191550963},\n",
            " 'p9': {'test': 0.005232846420800907, 'train': 0.9507038739153184},\n",
            " 'pred_stacking': {'test': 0.021148194135483633, 'train': 0.991924705558693}}\n"
          ]
        }
      ],
      "source": [
        "# Ориентируемся на первую модель.\n",
        "# Дает 0.22163 на Kaggle\n",
        "\n",
        "model.score(X_new, y)\n",
        "r2_scores[\"model\"] = print_score(model, X_train, y_train, X_test, y_test)\n",
        "pp(r2_scores)"
      ]
    },
    {
      "cell_type": "markdown",
      "metadata": {},
      "source": [
        "### Пайплайны с линейными моделями"
      ]
    },
    {
      "cell_type": "code",
      "execution_count": 198,
      "metadata": {},
      "outputs": [],
      "source": [
        "from sklearn.preprocessing import MinMaxScaler\n",
        "\n",
        "p1 = Pipeline([\n",
        "    ('encoder_',TargetEncoder(cols=cat_cols)),\n",
        "    ('scaler_', StandardScaler()),\n",
        "    ('model_', LinearRegression())\n",
        "    ])\n",
        "\n",
        "# по умолчанию smoothing = 10\n",
        "\n",
        "p2 = Pipeline([\n",
        "    ('encoder_',TargetEncoder(cols=cat_cols, smoothing=1)),\n",
        "    ('scaler_', StandardScaler()),\n",
        "    ('model_', LinearRegression())\n",
        "    ])\n",
        "\n",
        "p3 = Pipeline([\n",
        "    ('encoder_',TargetEncoder(cols=cat_cols, smoothing=100)),\n",
        "    ('scaler_', StandardScaler()),\n",
        "    ('model_', LinearRegression())\n",
        "    ])\n",
        "\n",
        "p4 = Pipeline([\n",
        "    ('encoder_',TargetEncoder(cols=cat_cols, smoothing=1)),\n",
        "    ('scaler_', MinMaxScaler()),\n",
        "    ('model_', LinearRegression())\n",
        "    ])\n",
        "\n",
        "p5 = Pipeline([\n",
        "    ('encoder_',TargetEncoder(cols=cat_cols, smoothing=10)),\n",
        "    ('scaler_', MinMaxScaler()),\n",
        "    ('model_', LinearRegression())\n",
        "    ])\n",
        "\n",
        "p6 = Pipeline([\n",
        "    ('encoder_',TargetEncoder(cols=cat_cols, smoothing=100)),\n",
        "    ('scaler_', MinMaxScaler()),\n",
        "    ('model_', LinearRegression())\n",
        "    ])\n",
        "\n",
        "p7 = Pipeline([\n",
        "    ('encoder_',LeaveOneOutEncoder(cols=cat_cols)),\n",
        "    ('scaler_', StandardScaler()),\n",
        "    ('model_', LinearRegression())\n",
        "    ])\n",
        "\n",
        "p8 = Pipeline([\n",
        "    ('encoder_',LeaveOneOutEncoder(cols=cat_cols)),\n",
        "    ('scaler_', MinMaxScaler()),\n",
        "    ('model_', LinearRegression())\n",
        "    ])"
      ]
    },
    {
      "cell_type": "code",
      "execution_count": 199,
      "metadata": {},
      "outputs": [
        {
          "name": "stdout",
          "output_type": "stream",
          "text": [
            "{'model': {'test': 0.47297869592858843, 'train': 0.49987447657163253},\n",
            " 'p1': {'test': -0.013158653940478438, 'train': 0.612098504242313},\n",
            " 'p2': {'test': -0.004615622820015597, 'train': 0.12382269065956364},\n",
            " 'p3': {'test': -0.026735647384129813, 'train': 0.7205170248491082},\n",
            " 'p4': {'test': -0.004615622820014709, 'train': 0.12382269065956286},\n",
            " 'p5': {'test': -0.013158653940478215, 'train': 0.6120985042423128},\n",
            " 'p6': {'test': -0.026735647384129813, 'train': 0.7205170248491082},\n",
            " 'p7': {'test': 0.06367949166882036, 'train': 0.34331941191550974},\n",
            " 'p8': {'test': 0.06367949166882092, 'train': 0.34331941191550963}}\n"
          ]
        }
      ],
      "source": [
        "for i,p in zip(range(1,9), [p1,p2,p3,p4,p5,p6,p7,p8]):\n",
        "    p.fit(X_train, y_train)\n",
        "    pred_ = p.predict(X_test)\n",
        "    r2_scores[f\"p{i}\"] = print_score(p, X_train, y_train, X_test, y_test)\n",
        "\n",
        "pp(r2_scores)"
      ]
    },
    {
      "cell_type": "markdown",
      "metadata": {},
      "source": [
        "Прорыва не случилось. Сменим модель на Случайное дерево."
      ]
    },
    {
      "cell_type": "markdown",
      "metadata": {},
      "source": [
        "### Пайплайны случайных деревьев"
      ]
    },
    {
      "cell_type": "code",
      "execution_count": 200,
      "metadata": {},
      "outputs": [],
      "source": [
        "p9 = Pipeline([\n",
        "    ('encoder_',TargetEncoder(cols=cat_cols)),\n",
        "    ('scaler_', StandardScaler()),\n",
        "    ('model_', RandomForestRegressor(n_jobs=-1))\n",
        "    ])\n",
        "\n",
        "p10 = Pipeline([\n",
        "    ('encoder_',LeaveOneOutEncoder(cols=cat_cols)),\n",
        "    ('scaler_', StandardScaler()),\n",
        "    ('model_', RandomForestRegressor(n_jobs=-1))\n",
        "    ])\n",
        "\n",
        "p11 = Pipeline([\n",
        "    ('encoder_',TargetEncoder(cols=cat_cols)),\n",
        "    ('scaler_', MinMaxScaler()),\n",
        "    ('model_', RandomForestRegressor(n_jobs=-1))\n",
        "    ])\n",
        "\n",
        "p12 = Pipeline([\n",
        "    ('encoder_',LeaveOneOutEncoder(cols=cat_cols)),\n",
        "    ('scaler_', MinMaxScaler()),\n",
        "    ('model_', RandomForestRegressor(n_jobs=-1))\n",
        "    ])\n",
        "\n",
        "p13 = Pipeline([\n",
        "    ('encoder_',TargetEncoder(cols=cat_cols, smoothing=1)),\n",
        "    ('scaler_', StandardScaler()),\n",
        "    ('model_', RandomForestRegressor(n_jobs=-1))\n",
        "    ])"
      ]
    },
    {
      "cell_type": "code",
      "execution_count": 202,
      "metadata": {},
      "outputs": [
        {
          "name": "stdout",
          "output_type": "stream",
          "text": [
            "{'model': {'test': 0.47297869592858843, 'train': 0.49987447657163253},\n",
            " 'p1': {'test': -0.013158653940478438, 'train': 0.612098504242313},\n",
            " 'p10': {'test': -0.019605051636775617, 'train': 0.16969376575796158},\n",
            " 'p11': {'test': 0.024917267366840967, 'train': 0.9505771133737102},\n",
            " 'p12': {'test': 0.00030745587896430226, 'train': 0.1635102069979063},\n",
            " 'p13': {'test': 0.007547606989263267, 'train': 0.9379138544742707},\n",
            " 'p2': {'test': -0.004615622820015597, 'train': 0.12382269065956364},\n",
            " 'p3': {'test': -0.026735647384129813, 'train': 0.7205170248491082},\n",
            " 'p4': {'test': -0.004615622820014709, 'train': 0.12382269065956286},\n",
            " 'p5': {'test': -0.013158653940478215, 'train': 0.6120985042423128},\n",
            " 'p6': {'test': -0.026735647384129813, 'train': 0.7205170248491082},\n",
            " 'p7': {'test': 0.06367949166882036, 'train': 0.34331941191550974},\n",
            " 'p8': {'test': 0.06367949166882092, 'train': 0.34331941191550963},\n",
            " 'p9': {'test': 0.005232846420800907, 'train': 0.9507038739153184}}\n"
          ]
        }
      ],
      "source": [
        "for i,p in zip(range(9,14), [p9,p10,p11,p12,p13]):\n",
        "    p.fit(X_train, y_train)\n",
        "    pred_ = p.predict(X_test)\n",
        "    r2_scores[f\"p{i}\"] = print_score(p, X_train, y_train, X_test, y_test)\n",
        "\n",
        "pp(r2_scores)"
      ]
    },
    {
      "cell_type": "markdown",
      "metadata": {},
      "source": [
        "Плохо. "
      ]
    },
    {
      "cell_type": "markdown",
      "metadata": {},
      "source": [
        "## Подбор гиперпараметров"
      ]
    },
    {
      "cell_type": "markdown",
      "metadata": {},
      "source": [
        "Выделим пайплайн для предобработки данных, чтобы не запускать его каждый раз при подборе гиперпараметров."
      ]
    },
    {
      "cell_type": "code",
      "execution_count": 320,
      "metadata": {},
      "outputs": [],
      "source": [
        "data_pipeline = Pipeline([\n",
        "        ('encoder_',LeaveOneOutEncoder(cols=cat_cols)),\n",
        "        ('scaler_', MinMaxScaler())\n",
        "]).set_output(transform='pandas')\n",
        "\n",
        "X_train_good = data_pipeline.fit_transform(X_train, y_train)\n",
        "X_test_good = data_pipeline.transform(X_test)\n",
        "X_new_good = data_pipeline.transform(X_new)\n",
        "X_test_transformed_good = data_pipeline.transform(X_test_transformed)\n"
      ]
    },
    {
      "cell_type": "markdown",
      "metadata": {},
      "source": [
        "### Random Forest"
      ]
    },
    {
      "cell_type": "code",
      "execution_count": 514,
      "metadata": {},
      "outputs": [
        {
          "name": "stderr",
          "output_type": "stream",
          "text": [
            "[I 2025-02-08 18:49:58,121] A new study created in memory with name: no-name-d1f44131-6601-48e6-9411-beb714f2ec1a\n",
            "[I 2025-02-08 18:49:58,621] Trial 0 finished with value: -0.008585099628190651 and parameters: {'n_estimators': 489, 'max_features': 0.33876882004991465, 'max_depth': 7}. Best is trial 0 with value: -0.008585099628190651.\n",
            "[I 2025-02-08 18:49:58,759] Trial 1 finished with value: -0.042865922775760845 and parameters: {'n_estimators': 175, 'max_features': 0.7740509890960973, 'max_depth': 3}. Best is trial 0 with value: -0.008585099628190651.\n",
            "[I 2025-02-08 18:49:59,095] Trial 2 finished with value: -0.019637163075594932 and parameters: {'n_estimators': 445, 'max_features': 0.6082011193624725, 'max_depth': 6}. Best is trial 0 with value: -0.008585099628190651.\n",
            "[I 2025-02-08 18:49:59,589] Trial 3 finished with value: -0.0132518308169145 and parameters: {'n_estimators': 635, 'max_features': 0.4472853780923738, 'max_depth': 6}. Best is trial 0 with value: -0.008585099628190651.\n",
            "[I 2025-02-08 18:50:00,245] Trial 4 finished with value: 0.013515092685592145 and parameters: {'n_estimators': 882, 'max_features': 0.5560117317386744, 'max_depth': 13}. Best is trial 4 with value: 0.013515092685592145.\n",
            "[I 2025-02-08 18:50:00,846] Trial 5 finished with value: 0.010346206188732943 and parameters: {'n_estimators': 852, 'max_features': 0.5265091128076222, 'max_depth': 9}. Best is trial 4 with value: 0.013515092685592145.\n",
            "[I 2025-02-08 18:50:01,384] Trial 6 finished with value: 0.01612953729981781 and parameters: {'n_estimators': 743, 'max_features': 0.5380517856236368, 'max_depth': 12}. Best is trial 6 with value: 0.01612953729981781.\n",
            "[I 2025-02-08 18:50:01,455] Trial 7 finished with value: -0.027609097581519082 and parameters: {'n_estimators': 64, 'max_features': 0.2694178334656398, 'max_depth': 15}. Best is trial 6 with value: 0.01612953729981781.\n",
            "[I 2025-02-08 18:50:01,779] Trial 8 finished with value: 0.002771112894433325 and parameters: {'n_estimators': 452, 'max_features': 0.7298888462147327, 'max_depth': 7}. Best is trial 6 with value: 0.01612953729981781.\n",
            "[I 2025-02-08 18:50:02,409] Trial 9 finished with value: -0.0036236034286980523 and parameters: {'n_estimators': 907, 'max_features': 0.40321441363892374, 'max_depth': 7}. Best is trial 6 with value: 0.01612953729981781.\n",
            "[I 2025-02-08 18:50:02,976] Trial 10 finished with value: 0.005369034147435392 and parameters: {'n_estimators': 776, 'max_features': 0.9512533033075544, 'max_depth': 12}. Best is trial 6 with value: 0.01612953729981781.\n",
            "[I 2025-02-08 18:50:03,660] Trial 11 finished with value: 0.014479540052825035 and parameters: {'n_estimators': 970, 'max_features': 0.6382333971014984, 'max_depth': 13}. Best is trial 6 with value: 0.01612953729981781.\n",
            "[I 2025-02-08 18:50:04,367] Trial 12 finished with value: 0.013357717828028748 and parameters: {'n_estimators': 984, 'max_features': 0.7062579072375237, 'max_depth': 12}. Best is trial 6 with value: 0.01612953729981781.\n",
            "[I 2025-02-08 18:50:04,887] Trial 13 finished with value: 0.009074480865607137 and parameters: {'n_estimators': 706, 'max_features': 0.14266161524416038, 'max_depth': 16}. Best is trial 6 with value: 0.01612953729981781.\n",
            "[I 2025-02-08 18:50:05,333] Trial 14 finished with value: 0.0074351956711626865 and parameters: {'n_estimators': 620, 'max_features': 0.8732669788032078, 'max_depth': 10}. Best is trial 6 with value: 0.01612953729981781.\n",
            "[I 2025-02-08 18:50:05,555] Trial 15 finished with value: 0.01964488426154698 and parameters: {'n_estimators': 284, 'max_features': 0.639316689645337, 'max_depth': 14}. Best is trial 15 with value: 0.01964488426154698.\n",
            "[I 2025-02-08 18:50:05,780] Trial 16 finished with value: 0.004387117960024445 and parameters: {'n_estimators': 296, 'max_features': 0.48471411693603583, 'max_depth': 15}. Best is trial 15 with value: 0.01964488426154698.\n",
            "[I 2025-02-08 18:50:06,032] Trial 17 finished with value: 0.013886504508823116 and parameters: {'n_estimators': 328, 'max_features': 0.8286539208141775, 'max_depth': 11}. Best is trial 15 with value: 0.01964488426154698.\n",
            "[I 2025-02-08 18:50:06,250] Trial 18 finished with value: -0.0008514518366578017 and parameters: {'n_estimators': 286, 'max_features': 0.24012722851508922, 'max_depth': 14}. Best is trial 15 with value: 0.01964488426154698.\n",
            "[I 2025-02-08 18:50:06,305] Trial 19 finished with value: -0.026616292391892005 and parameters: {'n_estimators': 29, 'max_features': 0.6040292036130476, 'max_depth': 9}. Best is trial 15 with value: 0.01964488426154698.\n",
            "[I 2025-02-08 18:50:06,746] Trial 20 finished with value: 0.0037894666699322954 and parameters: {'n_estimators': 602, 'max_features': 0.6807065688456597, 'max_depth': 16}. Best is trial 15 with value: 0.01964488426154698.\n",
            "[I 2025-02-08 18:50:07,301] Trial 21 finished with value: 0.014534781706056155 and parameters: {'n_estimators': 764, 'max_features': 0.5726433015780449, 'max_depth': 13}. Best is trial 15 with value: 0.01964488426154698.\n",
            "[I 2025-02-08 18:50:07,856] Trial 22 finished with value: 0.0046068380975793355 and parameters: {'n_estimators': 745, 'max_features': 0.39072696558611975, 'max_depth': 14}. Best is trial 15 with value: 0.01964488426154698.\n",
            "[I 2025-02-08 18:50:08,285] Trial 23 finished with value: 0.02151828887247209 and parameters: {'n_estimators': 558, 'max_features': 0.5364841019308121, 'max_depth': 11}. Best is trial 23 with value: 0.02151828887247209.\n",
            "[I 2025-02-08 18:50:08,574] Trial 24 finished with value: 0.023127838694240843 and parameters: {'n_estimators': 383, 'max_features': 0.5115870830079355, 'max_depth': 11}. Best is trial 24 with value: 0.023127838694240843.\n",
            "[I 2025-02-08 18:50:09,095] Trial 25 finished with value: 0.008167543837460212 and parameters: {'n_estimators': 357, 'max_features': 0.4676420685008123, 'max_depth': 10}. Best is trial 24 with value: 0.023127838694240843.\n",
            "[I 2025-02-08 18:50:09,262] Trial 26 finished with value: 0.0074523397246714085 and parameters: {'n_estimators': 188, 'max_features': 0.654048768053076, 'max_depth': 10}. Best is trial 24 with value: 0.023127838694240843.\n",
            "[I 2025-02-08 18:50:09,681] Trial 27 finished with value: 0.009133701145265904 and parameters: {'n_estimators': 546, 'max_features': 0.33303022451259656, 'max_depth': 11}. Best is trial 24 with value: 0.023127838694240843.\n",
            "[I 2025-02-08 18:50:09,969] Trial 28 finished with value: -0.010283119704651789 and parameters: {'n_estimators': 404, 'max_features': 0.8135050037726224, 'max_depth': 2}. Best is trial 24 with value: 0.023127838694240843.\n",
            "[I 2025-02-08 18:50:10,349] Trial 29 finished with value: -0.010854088274153462 and parameters: {'n_estimators': 522, 'max_features': 0.34500840508572084, 'max_depth': 8}. Best is trial 24 with value: 0.023127838694240843.\n",
            "[I 2025-02-08 18:50:10,527] Trial 30 finished with value: 0.025677752648015195 and parameters: {'n_estimators': 223, 'max_features': 0.5080549483549279, 'max_depth': 11}. Best is trial 30 with value: 0.025677752648015195.\n",
            "[I 2025-02-08 18:50:10,715] Trial 31 finished with value: 0.009688778926789099 and parameters: {'n_estimators': 225, 'max_features': 0.4996974169251881, 'max_depth': 11}. Best is trial 30 with value: 0.025677752648015195.\n",
            "[I 2025-02-08 18:50:10,824] Trial 32 finished with value: -0.0031325522815650597 and parameters: {'n_estimators': 131, 'max_features': 0.4278861862552482, 'max_depth': 9}. Best is trial 30 with value: 0.025677752648015195.\n",
            "[I 2025-02-08 18:50:11,025] Trial 33 finished with value: 0.0025637534972130505 and parameters: {'n_estimators': 248, 'max_features': 0.7517778513343875, 'max_depth': 14}. Best is trial 30 with value: 0.025677752648015195.\n",
            "[I 2025-02-08 18:50:11,332] Trial 34 finished with value: 0.023612109189669828 and parameters: {'n_estimators': 403, 'max_features': 0.6051100806022052, 'max_depth': 11}. Best is trial 30 with value: 0.025677752648015195.\n",
            "[I 2025-02-08 18:50:11,615] Trial 35 finished with value: -0.032182963644715956 and parameters: {'n_estimators': 386, 'max_features': 0.5841747777678326, 'max_depth': 4}. Best is trial 30 with value: 0.025677752648015195.\n",
            "[I 2025-02-08 18:50:11,961] Trial 36 finished with value: 0.007859220790657262 and parameters: {'n_estimators': 475, 'max_features': 0.5182277976181661, 'max_depth': 8}. Best is trial 30 with value: 0.025677752648015195.\n",
            "[I 2025-02-08 18:50:12,070] Trial 37 finished with value: 0.016927660610950857 and parameters: {'n_estimators': 124, 'max_features': 0.45312660942446603, 'max_depth': 11}. Best is trial 30 with value: 0.025677752648015195.\n",
            "[I 2025-02-08 18:50:12,377] Trial 38 finished with value: 0.010948787375863689 and parameters: {'n_estimators': 414, 'max_features': 0.5521497327753526, 'max_depth': 10}. Best is trial 30 with value: 0.025677752648015195.\n",
            "[I 2025-02-08 18:50:12,780] Trial 39 finished with value: 0.003976489682366857 and parameters: {'n_estimators': 544, 'max_features': 0.37256153214697896, 'max_depth': 12}. Best is trial 30 with value: 0.025677752648015195.\n",
            "[I 2025-02-08 18:50:13,130] Trial 40 finished with value: 0.01034889400892458 and parameters: {'n_estimators': 484, 'max_features': 0.26867460303592433, 'max_depth': 8}. Best is trial 30 with value: 0.025677752648015195.\n",
            "[I 2025-02-08 18:50:13,384] Trial 41 finished with value: 0.015929401959760003 and parameters: {'n_estimators': 335, 'max_features': 0.6336604542583782, 'max_depth': 13}. Best is trial 30 with value: 0.025677752648015195.\n",
            "[I 2025-02-08 18:50:13,589] Trial 42 finished with value: 0.011545564524997665 and parameters: {'n_estimators': 256, 'max_features': 0.6863239434920416, 'max_depth': 12}. Best is trial 30 with value: 0.025677752648015195.\n",
            "[I 2025-02-08 18:50:13,753] Trial 43 finished with value: 0.022397288049277764 and parameters: {'n_estimators': 192, 'max_features': 0.5302884855269897, 'max_depth': 11}. Best is trial 30 with value: 0.025677752648015195.\n",
            "[I 2025-02-08 18:50:13,884] Trial 44 finished with value: 0.016472522511236765 and parameters: {'n_estimators': 165, 'max_features': 0.5325761024004646, 'max_depth': 11}. Best is trial 30 with value: 0.025677752648015195.\n",
            "[I 2025-02-08 18:50:13,972] Trial 45 finished with value: -0.005824900009174572 and parameters: {'n_estimators': 81, 'max_features': 0.5962524526873295, 'max_depth': 9}. Best is trial 30 with value: 0.025677752648015195.\n",
            "[I 2025-02-08 18:50:14,147] Trial 46 finished with value: 0.004585323958797738 and parameters: {'n_estimators': 205, 'max_features': 0.4327171258230589, 'max_depth': 10}. Best is trial 30 with value: 0.025677752648015195.\n",
            "[I 2025-02-08 18:50:14,468] Trial 47 finished with value: 0.01491914735658284 and parameters: {'n_estimators': 433, 'max_features': 0.5024716621713174, 'max_depth': 12}. Best is trial 30 with value: 0.025677752648015195.\n",
            "[I 2025-02-08 18:50:14,937] Trial 48 finished with value: -0.02031391603090027 and parameters: {'n_estimators': 651, 'max_features': 0.5637083390756568, 'max_depth': 6}. Best is trial 30 with value: 0.025677752648015195.\n",
            "[I 2025-02-08 18:50:15,058] Trial 49 finished with value: 0.0021286769512652848 and parameters: {'n_estimators': 143, 'max_features': 0.48302040476001445, 'max_depth': 13}. Best is trial 30 with value: 0.025677752648015195.\n"
          ]
        },
        {
          "name": "stdout",
          "output_type": "stream",
          "text": [
            "FrozenTrial(number=30, state=1, values=[0.025677752648015195], datetime_start=datetime.datetime(2025, 2, 8, 18, 50, 10, 350493), datetime_complete=datetime.datetime(2025, 2, 8, 18, 50, 10, 527525), params={'n_estimators': 223, 'max_features': 0.5080549483549279, 'max_depth': 11}, user_attrs={}, system_attrs={}, intermediate_values={}, distributions={'n_estimators': IntDistribution(high=1000, log=False, low=10, step=1), 'max_features': FloatDistribution(high=1.0, log=False, low=0.1, step=None), 'max_depth': IntDistribution(high=16, log=False, low=2, step=1)}, trial_id=30, value=None)\n"
          ]
        }
      ],
      "source": [
        "import optuna\n",
        "\n",
        "def objective(trial):\n",
        "\n",
        "    param = {\n",
        "        \"n_estimators\": trial.suggest_int(\"n_estimators\", 10, 1000),\n",
        "        \"max_features\": trial.suggest_float(\"max_features\", 0.1, 1.),\n",
        "        \"max_depth\": trial.suggest_int(\"max_depth\", 2, 16),\n",
        "    }\n",
        "\n",
        "    estimator = RandomForestRegressor(**param, verbose=False, n_jobs=-1, random_state=42)\n",
        "\n",
        "    estimator.fit(X_train_good, y_train)\n",
        "    _pred = estimator.predict(X_test_good)\n",
        "\n",
        "    return  r2_score(y_test, _pred)\n",
        "\n",
        "study_rf = optuna.create_study(direction=\"maximize\")\n",
        "study_rf.optimize(objective, n_trials=50)\n",
        "print(study_rf.best_trial)"
      ]
    },
    {
      "cell_type": "code",
      "execution_count": 518,
      "metadata": {},
      "outputs": [
        {
          "name": "stdout",
          "output_type": "stream",
          "text": [
            "{'test': 0.6127046891416561, 'train': 0.24759048925230542}\n"
          ]
        }
      ],
      "source": [
        "model_rf_best = RandomForestRegressor(**study_rf.best_trial.params, verbose=False, n_jobs=-1, random_state=42)\n",
        "\n",
        "model_rf_best.fit(X_new_good, y)\n",
        "r2_scores[f\"model_rf_best\"] = print_score(model_rf_best, X_train_good, y_train, X_test_good, y_test)\n",
        "pp(r2_scores[f\"model_rf_best\"])"
      ]
    },
    {
      "cell_type": "markdown",
      "metadata": {},
      "source": [
        "Плохой результат. Не будем его загружать на Kaggle."
      ]
    },
    {
      "cell_type": "markdown",
      "metadata": {},
      "source": [
        "### CatBoost"
      ]
    },
    {
      "cell_type": "code",
      "execution_count": 516,
      "metadata": {},
      "outputs": [
        {
          "name": "stderr",
          "output_type": "stream",
          "text": [
            "[I 2025-02-08 18:50:22,543] A new study created in memory with name: no-name-ae8465d8-d9a4-4359-8fef-4119b661ae04\n",
            "[I 2025-02-08 18:50:23,520] Trial 0 finished with value: 0.10883667863686519 and parameters: {'n_estimators': 111, 'max_depth': 15, 'learning_rate': 0.044467058587989924}. Best is trial 0 with value: 0.10883667863686519.\n",
            "[I 2025-02-08 18:50:29,880] Trial 1 finished with value: 0.08648162279962957 and parameters: {'n_estimators': 377, 'max_depth': 14, 'learning_rate': 0.043559645173612487}. Best is trial 0 with value: 0.10883667863686519.\n",
            "[I 2025-02-08 18:50:30,394] Trial 2 finished with value: 0.07468029120456032 and parameters: {'n_estimators': 228, 'max_depth': 10, 'learning_rate': 0.06367243698563002}. Best is trial 0 with value: 0.10883667863686519.\n",
            "[I 2025-02-08 18:50:30,883] Trial 3 finished with value: 0.11723803051499349 and parameters: {'n_estimators': 224, 'max_depth': 9, 'learning_rate': 0.024220186153841625}. Best is trial 3 with value: 0.11723803051499349.\n",
            "[I 2025-02-08 18:50:31,031] Trial 4 finished with value: 0.10596508778733804 and parameters: {'n_estimators': 138, 'max_depth': 9, 'learning_rate': 0.025819164693736137}. Best is trial 3 with value: 0.11723803051499349.\n",
            "[I 2025-02-08 18:50:31,199] Trial 5 finished with value: 0.11232488450906086 and parameters: {'n_estimators': 492, 'max_depth': 2, 'learning_rate': 0.012579959865128231}. Best is trial 3 with value: 0.11723803051499349.\n",
            "[I 2025-02-08 18:50:31,274] Trial 6 finished with value: 0.10493045233079923 and parameters: {'n_estimators': 107, 'max_depth': 6, 'learning_rate': 0.05627021615428989}. Best is trial 3 with value: 0.11723803051499349.\n",
            "[I 2025-02-08 18:50:32,072] Trial 7 finished with value: 0.09598839642945711 and parameters: {'n_estimators': 761, 'max_depth': 6, 'learning_rate': 0.038319263105841536}. Best is trial 3 with value: 0.11723803051499349.\n",
            "[I 2025-02-08 18:50:32,899] Trial 8 finished with value: 0.11875548272922654 and parameters: {'n_estimators': 986, 'max_depth': 5, 'learning_rate': 0.010189481931641084}. Best is trial 8 with value: 0.11875548272922654.\n",
            "[I 2025-02-08 18:50:34,060] Trial 9 finished with value: 0.058408291772927945 and parameters: {'n_estimators': 709, 'max_depth': 8, 'learning_rate': 0.05857023460557696}. Best is trial 8 with value: 0.11875548272922654.\n",
            "[I 2025-02-08 18:50:34,368] Trial 10 finished with value: 0.03897431862664624 and parameters: {'n_estimators': 976, 'max_depth': 2, 'learning_rate': 0.08761679858876134}. Best is trial 8 with value: 0.11875548272922654.\n",
            "[I 2025-02-08 18:50:41,930] Trial 11 finished with value: 0.10067044051722229 and parameters: {'n_estimators': 907, 'max_depth': 12, 'learning_rate': 0.012815961750112681}. Best is trial 8 with value: 0.11875548272922654.\n",
            "[I 2025-02-08 18:50:42,353] Trial 12 finished with value: 0.10163973826190109 and parameters: {'n_estimators': 340, 'max_depth': 5, 'learning_rate': 0.023590225217796707}. Best is trial 8 with value: 0.11875548272922654.\n",
            "[I 2025-02-08 18:50:42,981] Trial 13 finished with value: 0.10860763231790282 and parameters: {'n_estimators': 691, 'max_depth': 4, 'learning_rate': 0.027869210697105157}. Best is trial 8 with value: 0.11875548272922654.\n",
            "[I 2025-02-08 18:50:44,944] Trial 14 finished with value: 0.042236655005567725 and parameters: {'n_estimators': 562, 'max_depth': 11, 'learning_rate': 0.07883468855349612}. Best is trial 8 with value: 0.11875548272922654.\n",
            "[I 2025-02-08 18:50:45,476] Trial 15 finished with value: 0.11523119373377677 and parameters: {'n_estimators': 310, 'max_depth': 8, 'learning_rate': 0.01014964306389773}. Best is trial 8 with value: 0.11875548272922654.\n",
            "[I 2025-02-08 18:50:50,689] Trial 16 finished with value: 0.08719060180538551 and parameters: {'n_estimators': 552, 'max_depth': 13, 'learning_rate': 0.03560081007065474}. Best is trial 8 with value: 0.11875548272922654.\n",
            "[I 2025-02-08 18:50:51,752] Trial 17 finished with value: 0.12070784892789488 and parameters: {'n_estimators': 811, 'max_depth': 7, 'learning_rate': 0.021642852480096057}. Best is trial 17 with value: 0.12070784892789488.\n",
            "[I 2025-02-08 18:50:52,316] Trial 18 finished with value: 0.08003931894002259 and parameters: {'n_estimators': 839, 'max_depth': 4, 'learning_rate': 0.09788175796154683}. Best is trial 17 with value: 0.12070784892789488.\n",
            "[I 2025-02-08 18:50:53,546] Trial 19 finished with value: 0.09942104905916904 and parameters: {'n_estimators': 979, 'max_depth': 7, 'learning_rate': 0.02109212632420314}. Best is trial 17 with value: 0.12070784892789488.\n",
            "[I 2025-02-08 18:50:53,939] Trial 20 finished with value: 0.10243870438716818 and parameters: {'n_estimators': 816, 'max_depth': 3, 'learning_rate': 0.06931526742841043}. Best is trial 17 with value: 0.12070784892789488.\n",
            "[I 2025-02-08 18:50:55,237] Trial 21 finished with value: 0.09100651509137614 and parameters: {'n_estimators': 617, 'max_depth': 9, 'learning_rate': 0.031271867502745535}. Best is trial 17 with value: 0.12070784892789488.\n",
            "[I 2025-02-08 18:50:55,852] Trial 22 finished with value: 0.11923132393659308 and parameters: {'n_estimators': 438, 'max_depth': 7, 'learning_rate': 0.019188464549624036}. Best is trial 17 with value: 0.12070784892789488.\n",
            "[I 2025-02-08 18:50:56,819] Trial 23 finished with value: 0.11141596917647001 and parameters: {'n_estimators': 899, 'max_depth': 6, 'learning_rate': 0.01984675617974762}. Best is trial 17 with value: 0.12070784892789488.\n",
            "[I 2025-02-08 18:50:57,638] Trial 24 finished with value: 0.1200658199832697 and parameters: {'n_estimators': 640, 'max_depth': 7, 'learning_rate': 0.01731828668984381}. Best is trial 17 with value: 0.12070784892789488.\n",
            "[I 2025-02-08 18:50:58,485] Trial 25 finished with value: 0.10258180611013179 and parameters: {'n_estimators': 639, 'max_depth': 7, 'learning_rate': 0.04379963476739517}. Best is trial 17 with value: 0.12070784892789488.\n",
            "[I 2025-02-08 18:50:59,125] Trial 26 finished with value: 0.1151510481575776 and parameters: {'n_estimators': 447, 'max_depth': 7, 'learning_rate': 0.017362380344869068}. Best is trial 17 with value: 0.12070784892789488.\n",
            "[I 2025-02-08 18:51:01,237] Trial 27 finished with value: 0.08404896693547981 and parameters: {'n_estimators': 447, 'max_depth': 11, 'learning_rate': 0.03478745078662203}. Best is trial 17 with value: 0.12070784892789488.\n",
            "[I 2025-02-08 18:51:02,411] Trial 28 finished with value: 0.06568572407235984 and parameters: {'n_estimators': 748, 'max_depth': 8, 'learning_rate': 0.05199644362391813}. Best is trial 17 with value: 0.12070784892789488.\n",
            "[I 2025-02-08 18:51:43,048] Trial 29 finished with value: 0.08976303844625144 and parameters: {'n_estimators': 597, 'max_depth': 16, 'learning_rate': 0.04793158484884367}. Best is trial 17 with value: 0.12070784892789488.\n",
            "[I 2025-02-08 18:51:43,500] Trial 30 finished with value: 0.11230795023436924 and parameters: {'n_estimators': 495, 'max_depth': 5, 'learning_rate': 0.01734414374017311}. Best is trial 17 with value: 0.12070784892789488.\n",
            "[I 2025-02-08 18:51:44,273] Trial 31 finished with value: 0.11679049741630732 and parameters: {'n_estimators': 868, 'max_depth': 5, 'learning_rate': 0.01537558274893848}. Best is trial 17 with value: 0.12070784892789488.\n",
            "[I 2025-02-08 18:51:44,809] Trial 32 finished with value: 0.11253075673118751 and parameters: {'n_estimators': 785, 'max_depth': 4, 'learning_rate': 0.010055141965878235}. Best is trial 17 with value: 0.12070784892789488.\n",
            "[I 2025-02-08 18:51:45,643] Trial 33 finished with value: 0.10806400448731313 and parameters: {'n_estimators': 660, 'max_depth': 7, 'learning_rate': 0.030058379098464028}. Best is trial 17 with value: 0.12070784892789488.\n",
            "[I 2025-02-08 18:51:47,865] Trial 34 finished with value: 0.07909029619916375 and parameters: {'n_estimators': 930, 'max_depth': 10, 'learning_rate': 0.03941502902906932}. Best is trial 17 with value: 0.12070784892789488.\n",
            "[I 2025-02-08 18:51:48,355] Trial 35 finished with value: 0.11299488463463736 and parameters: {'n_estimators': 424, 'max_depth': 6, 'learning_rate': 0.022848226767170528}. Best is trial 17 with value: 0.12070784892789488.\n",
            "[I 2025-02-08 18:51:48,773] Trial 36 finished with value: 0.10533125140475663 and parameters: {'n_estimators': 266, 'max_depth': 8, 'learning_rate': 0.017032347888189893}. Best is trial 17 with value: 0.12070784892789488.\n",
            "[I 2025-02-08 18:51:50,528] Trial 37 finished with value: 0.07279051666549574 and parameters: {'n_estimators': 720, 'max_depth': 10, 'learning_rate': 0.026416953770862873}. Best is trial 17 with value: 0.12070784892789488.\n",
            "[I 2025-02-08 18:51:51,197] Trial 38 finished with value: 0.11879448775165602 and parameters: {'n_estimators': 810, 'max_depth': 5, 'learning_rate': 0.03110799115068434}. Best is trial 17 with value: 0.12070784892789488.\n",
            "[I 2025-02-08 18:51:51,268] Trial 39 finished with value: 0.11198678499448089 and parameters: {'n_estimators': 166, 'max_depth': 3, 'learning_rate': 0.03084065660103287}. Best is trial 17 with value: 0.12070784892789488.\n",
            "[I 2025-02-08 18:51:51,832] Trial 40 finished with value: 0.10182213133821805 and parameters: {'n_estimators': 541, 'max_depth': 6, 'learning_rate': 0.03783666024517371}. Best is trial 17 with value: 0.12070784892789488.\n",
            "[I 2025-02-08 18:51:52,679] Trial 41 finished with value: 0.11021134781502873 and parameters: {'n_estimators': 1000, 'max_depth': 5, 'learning_rate': 0.021195822323363242}. Best is trial 17 with value: 0.12070784892789488.\n",
            "[I 2025-02-08 18:51:53,744] Trial 42 finished with value: 0.12194903846306637 and parameters: {'n_estimators': 813, 'max_depth': 7, 'learning_rate': 0.014218079690849286}. Best is trial 42 with value: 0.12194903846306637.\n",
            "[I 2025-02-08 18:51:55,051] Trial 43 finished with value: 0.08594991770062343 and parameters: {'n_estimators': 799, 'max_depth': 8, 'learning_rate': 0.025965790837162096}. Best is trial 42 with value: 0.12194903846306637.\n",
            "[I 2025-02-08 18:51:56,149] Trial 44 finished with value: 0.1061548611513985 and parameters: {'n_estimators': 852, 'max_depth': 7, 'learning_rate': 0.015366873968303989}. Best is trial 42 with value: 0.12194903846306637.\n",
            "[I 2025-02-08 18:51:57,674] Trial 45 finished with value: 0.08790376227955754 and parameters: {'n_estimators': 750, 'max_depth': 9, 'learning_rate': 0.03222374386958702}. Best is trial 42 with value: 0.12194903846306637.\n",
            "[I 2025-02-08 18:51:58,438] Trial 46 finished with value: 0.11252048784952606 and parameters: {'n_estimators': 676, 'max_depth': 6, 'learning_rate': 0.02048197851342781}. Best is trial 42 with value: 0.12194903846306637.\n",
            "[I 2025-02-08 18:52:00,494] Trial 47 finished with value: 0.10822986290034531 and parameters: {'n_estimators': 933, 'max_depth': 9, 'learning_rate': 0.013164803696795223}. Best is trial 42 with value: 0.12194903846306637.\n",
            "[I 2025-02-08 18:52:01,066] Trial 48 finished with value: 0.10766728733218833 and parameters: {'n_estimators': 409, 'max_depth': 7, 'learning_rate': 0.0244943911559576}. Best is trial 42 with value: 0.12194903846306637.\n",
            "[I 2025-02-08 18:52:01,258] Trial 49 finished with value: 0.12295776988013696 and parameters: {'n_estimators': 353, 'max_depth': 3, 'learning_rate': 0.027950521810936702}. Best is trial 49 with value: 0.12295776988013696.\n"
          ]
        },
        {
          "name": "stdout",
          "output_type": "stream",
          "text": [
            "FrozenTrial(number=49, state=1, values=[0.12295776988013696], datetime_start=datetime.datetime(2025, 2, 8, 18, 52, 1, 67157), datetime_complete=datetime.datetime(2025, 2, 8, 18, 52, 1, 258868), params={'n_estimators': 353, 'max_depth': 3, 'learning_rate': 0.027950521810936702}, user_attrs={}, system_attrs={}, intermediate_values={}, distributions={'n_estimators': IntDistribution(high=1000, log=False, low=10, step=1), 'max_depth': IntDistribution(high=16, log=False, low=2, step=1), 'learning_rate': FloatDistribution(high=0.1, log=False, low=0.01, step=None)}, trial_id=49, value=None)\n"
          ]
        }
      ],
      "source": [
        "import optuna\n",
        "\n",
        "def objective_cb(trial):\n",
        "\n",
        "    param = {\n",
        "        \"n_estimators\": trial.suggest_int(\"n_estimators\", 10, 1000),\n",
        "        \"max_depth\": trial.suggest_int(\"max_depth\", 2, 16),\n",
        "        \"learning_rate\": trial.suggest_float(\"learning_rate\", 0.01, 0.1),\n",
        "    }\n",
        "\n",
        "    estimator = CatBoostRegressor(**param, cat_features=cat_features, verbose=False)\n",
        "\n",
        "    estimator.fit(X_train, y_train)\n",
        "    _pred = estimator.predict(X_test)\n",
        "\n",
        "    return r2_score(y_test, _pred)\n",
        "\n",
        "study_cb = optuna.create_study(direction=\"maximize\")\n",
        "study_cb.optimize(objective_cb, n_trials=50)\n",
        "print(study_cb.best_trial)"
      ]
    },
    {
      "cell_type": "code",
      "execution_count": 517,
      "metadata": {},
      "outputs": [
        {
          "name": "stdout",
          "output_type": "stream",
          "text": [
            "{'test': 0.35506150380036217, 'train': 0.42238368990126207}\n"
          ]
        }
      ],
      "source": [
        "model_cb_best = CatBoostRegressor(**study_cb.best_trial.params, cat_features=cat_features, verbose=False)\n",
        "\n",
        "model_cb_best.fit(X_new, y)\n",
        "r2_scores[\"model_cb_best\"] = print_score(model_cb_best, X_train, y_train, X_test, y_test)\n",
        "pp(r2_scores[\"model_cb_best\"])\n"
      ]
    },
    {
      "cell_type": "markdown",
      "metadata": {},
      "source": [
        "Скромный результат. Но и его загрузим на Kaggle."
      ]
    },
    {
      "cell_type": "code",
      "execution_count": 456,
      "metadata": {},
      "outputs": [
        {
          "name": "stderr",
          "output_type": "stream",
          "text": [
            "98278.27s - pydevd: Sending message related to process being replaced timed-out after 5 seconds\n"
          ]
        },
        {
          "name": "stdout",
          "output_type": "stream",
          "text": [
            "100%|██████████████████████████████████████| 11.8k/11.8k [00:00<00:00, 15.6kB/s]\n",
            "Successfully submitted to Chocolate rating prediction [Ai Edu]"
          ]
        },
        {
          "name": "stderr",
          "output_type": "stream",
          "text": [
            "98286.57s - pydevd: Sending message related to process being replaced timed-out after 5 seconds\n"
          ]
        },
        {
          "name": "stdout",
          "output_type": "stream",
          "text": [
            "fileName                         date                 description                  status    publicScore  privateScore  \n",
            "-------------------------------  -------------------  ---------------------------  --------  -----------  ------------  \n",
            "submission_cb_best.csv           2025-02-08 14:37:39  submission_cb_best           complete  0.16985                    \n",
            "submission_cb_cat.csv            2025-02-08 13:56:20  submission_cb_cat            complete  0.21739                    \n",
            "submission_lgb_best.csv          2025-02-07 22:56:58  submission_lgb_best          complete  0.05762                    \n",
            "submission_cb_improved_good.csv  2025-02-07 22:52:36  submission_cb_improved_good  complete  0.02251                    \n",
            "submission_cb_improved.csv       2025-02-07 22:33:30  submission_cb_improved       complete  0.17161                    \n",
            "submission_4_copy_half.csv       2025-02-07 21:57:52  submission_4_copy_half       complete  0.13458                    \n",
            "submission_4_copy_q.csv          2025-02-07 21:55:30  submission_4_copy_q          complete  0.19402                    \n",
            "submission_stacking_q.csv        2025-02-07 21:52:46  submission_stacking_q        complete  0.02852                    \n",
            "submission_stacking.csv          2025-02-07 21:47:48  submission_stacking          complete  0.06192                    \n",
            "submission_6_cb2_2.csv           2025-02-07 17:23:51  submission_6_cb2_2           complete  0.21291                    \n",
            "submission_5.csv                 2025-02-07 11:38:54  submission_5                 complete  0.05796                    \n",
            "submission_4_copy3.csv           2025-02-07 11:36:10  submission_4_copy3           complete  0.22163                    \n",
            "submission_4_copy2.csv           2025-02-06 13:01:31  submission_4_copy2           complete  0.22163                    \n",
            "submission_4_copy.csv            2025-02-05 22:41:57  submission_4_copy            complete  0.22207                    \n",
            "submission_4.csv                 2025-02-04 21:44:51                               complete  0.22163                    \n",
            "submission_3.csv                 2025-02-03 22:53:49                               complete  0.16383                    \n",
            "submission_2.csv                 2025-02-02 23:23:33                               complete  0.17017                    \n",
            "baseline_submission.csv          2025-02-02 22:23:33  Baseline                     complete  0.16337                    \n"
          ]
        }
      ],
      "source": [
        "pred = model_cb_best.predict(X_test_transformed)\n",
        "save_and_submit(pred, model_cb_best, test_df, \"submission_cb_best\", submit = True)"
      ]
    },
    {
      "cell_type": "markdown",
      "metadata": {},
      "source": [
        "### LightGBM"
      ]
    },
    {
      "cell_type": "code",
      "execution_count": 468,
      "metadata": {},
      "outputs": [
        {
          "name": "stderr",
          "output_type": "stream",
          "text": [
            "[I 2025-02-08 18:10:25,413] A new study created in memory with name: no-name-a686d3e0-a358-48d0-b288-831852b27b4d\n",
            "[I 2025-02-08 18:10:37,690] Trial 0 finished with value: 0.218944719525819 and parameters: {'num_leaves': 53, 'max_depth': 6, 'learning_rate': 0.03301416621529571, 'n_estimators': 1370, 'min_child_samples': 28, 'subsample': 0.7316711372116471, 'colsample_bytree': 0.7953319563330108}. Best is trial 0 with value: 0.218944719525819.\n",
            "[I 2025-02-08 18:11:04,916] Trial 1 finished with value: 0.2538905799072512 and parameters: {'num_leaves': 40, 'max_depth': 11, 'learning_rate': 0.012036943096045976, 'n_estimators': 1089, 'min_child_samples': 11, 'subsample': 0.7812366386656331, 'colsample_bytree': 0.7212638350750366}. Best is trial 1 with value: 0.2538905799072512.\n",
            "[I 2025-02-08 18:11:35,790] Trial 2 finished with value: 0.20335465604755698 and parameters: {'num_leaves': 116, 'max_depth': 9, 'learning_rate': 0.01771557962537751, 'n_estimators': 1402, 'min_child_samples': 9, 'subsample': 0.8630440551265954, 'colsample_bytree': 0.8399936268628727}. Best is trial 1 with value: 0.2538905799072512.\n",
            "[I 2025-02-08 18:12:06,838] Trial 3 finished with value: 0.14724921178730385 and parameters: {'num_leaves': 73, 'max_depth': 7, 'learning_rate': 0.028777934839937278, 'n_estimators': 1904, 'min_child_samples': 8, 'subsample': 0.8470620868057608, 'colsample_bytree': 0.7630697362151894}. Best is trial 1 with value: 0.2538905799072512.\n",
            "[I 2025-02-08 18:12:38,963] Trial 4 finished with value: 0.20479172958271544 and parameters: {'num_leaves': 51, 'max_depth': 11, 'learning_rate': 0.018857427501294027, 'n_estimators': 1176, 'min_child_samples': 10, 'subsample': 0.8495997619031352, 'colsample_bytree': 0.8967506010620294}. Best is trial 1 with value: 0.2538905799072512.\n",
            "[I 2025-02-08 18:12:57,388] Trial 5 finished with value: 0.18330088070566322 and parameters: {'num_leaves': 107, 'max_depth': 7, 'learning_rate': 0.03530615030053751, 'n_estimators': 1339, 'min_child_samples': 12, 'subsample': 0.8138415815941573, 'colsample_bytree': 0.7783686301516622}. Best is trial 1 with value: 0.2538905799072512.\n",
            "[I 2025-02-08 18:13:13,938] Trial 6 finished with value: 0.22517356664622987 and parameters: {'num_leaves': 45, 'max_depth': 6, 'learning_rate': 0.02588105282435131, 'n_estimators': 1751, 'min_child_samples': 24, 'subsample': 0.7727246013563597, 'colsample_bytree': 0.7117574035149528}. Best is trial 1 with value: 0.2538905799072512.\n",
            "[I 2025-02-08 18:13:32,542] Trial 7 finished with value: 0.25538834587963366 and parameters: {'num_leaves': 116, 'max_depth': 7, 'learning_rate': 0.012794468587651365, 'n_estimators': 1534, 'min_child_samples': 22, 'subsample': 0.7693573652136989, 'colsample_bytree': 0.7650981065759161}. Best is trial 7 with value: 0.25538834587963366.\n",
            "[I 2025-02-08 18:14:09,870] Trial 8 finished with value: 0.23328292054228966 and parameters: {'num_leaves': 64, 'max_depth': 8, 'learning_rate': 0.01043711669063542, 'n_estimators': 1891, 'min_child_samples': 10, 'subsample': 0.8335246623327703, 'colsample_bytree': 0.7642305204748907}. Best is trial 7 with value: 0.25538834587963366.\n",
            "[I 2025-02-08 18:14:35,857] Trial 9 finished with value: 0.11360848003051924 and parameters: {'num_leaves': 110, 'max_depth': 11, 'learning_rate': 0.049206097068257904, 'n_estimators': 1646, 'min_child_samples': 30, 'subsample': 0.8124242081944482, 'colsample_bytree': 0.8821348560600303}. Best is trial 7 with value: 0.25538834587963366.\n",
            "[I 2025-02-08 18:15:01,923] Trial 10 finished with value: 0.1304023195781922 and parameters: {'num_leaves': 91, 'max_depth': 9, 'learning_rate': 0.040309139772467875, 'n_estimators': 1568, 'min_child_samples': 19, 'subsample': 0.700466426383709, 'colsample_bytree': 0.8366733377095522}. Best is trial 7 with value: 0.25538834587963366.\n",
            "[I 2025-02-08 18:15:25,013] Trial 11 finished with value: 0.26151999744522786 and parameters: {'num_leaves': 33, 'max_depth': 12, 'learning_rate': 0.010345362992659372, 'n_estimators': 1051, 'min_child_samples': 17, 'subsample': 0.7710776985960516, 'colsample_bytree': 0.7108703166519064}. Best is trial 11 with value: 0.26151999744522786.\n",
            "[I 2025-02-08 18:15:52,317] Trial 12 finished with value: 0.21063647660156537 and parameters: {'num_leaves': 127, 'max_depth': 12, 'learning_rate': 0.01988773025255173, 'n_estimators': 1209, 'min_child_samples': 18, 'subsample': 0.7536894161090327, 'colsample_bytree': 0.7348909878704697}. Best is trial 11 with value: 0.26151999744522786.\n",
            "[I 2025-02-08 18:16:17,339] Trial 13 finished with value: 0.23004775027357063 and parameters: {'num_leaves': 89, 'max_depth': 10, 'learning_rate': 0.015333572938709518, 'n_estimators': 1494, 'min_child_samples': 23, 'subsample': 0.7360778317888137, 'colsample_bytree': 0.7393259979143825}. Best is trial 11 with value: 0.26151999744522786.\n",
            "[I 2025-02-08 18:16:33,612] Trial 14 finished with value: 0.24177534158157893 and parameters: {'num_leaves': 34, 'max_depth': 8, 'learning_rate': 0.02388789221265524, 'n_estimators': 1001, 'min_child_samples': 15, 'subsample': 0.8997322237563635, 'colsample_bytree': 0.700267521749559}. Best is trial 11 with value: 0.26151999744522786.\n",
            "[I 2025-02-08 18:17:08,868] Trial 15 finished with value: 0.22641639245008033 and parameters: {'num_leaves': 95, 'max_depth': 12, 'learning_rate': 0.01087411411978074, 'n_estimators': 1730, 'min_child_samples': 22, 'subsample': 0.791023949447502, 'colsample_bytree': 0.8231332376876558}. Best is trial 11 with value: 0.26151999744522786.\n",
            "[I 2025-02-08 18:17:40,830] Trial 16 finished with value: 0.18173343450247864 and parameters: {'num_leaves': 67, 'max_depth': 8, 'learning_rate': 0.02251168080858184, 'n_estimators': 1222, 'min_child_samples': 5, 'subsample': 0.759192200745953, 'colsample_bytree': 0.7418897185500819}. Best is trial 11 with value: 0.26151999744522786.\n",
            "[I 2025-02-08 18:18:14,157] Trial 17 finished with value: 0.22241904551206915 and parameters: {'num_leaves': 83, 'max_depth': 10, 'learning_rate': 0.013999844642352995, 'n_estimators': 1554, 'min_child_samples': 14, 'subsample': 0.7114394354262594, 'colsample_bytree': 0.7939870761031352}. Best is trial 11 with value: 0.26151999744522786.\n",
            "[I 2025-02-08 18:18:30,766] Trial 18 finished with value: 0.16867750232353054 and parameters: {'num_leaves': 60, 'max_depth': 7, 'learning_rate': 0.04064179070998939, 'n_estimators': 1458, 'min_child_samples': 20, 'subsample': 0.7468184608506188, 'colsample_bytree': 0.7535306706362732}. Best is trial 11 with value: 0.26151999744522786.\n",
            "[I 2025-02-08 18:18:49,448] Trial 19 finished with value: 0.25077395750584713 and parameters: {'num_leaves': 100, 'max_depth': 9, 'learning_rate': 0.014915064949271157, 'n_estimators': 1306, 'min_child_samples': 26, 'subsample': 0.7684815748775086, 'colsample_bytree': 0.8181299939844229}. Best is trial 11 with value: 0.26151999744522786.\n"
          ]
        }
      ],
      "source": [
        "import lightgbm as lgb\n",
        "from sklearn.model_selection import RandomizedSearchCV, cross_val_score\n",
        "warnings.filterwarnings('ignore')\n",
        "\n",
        "def objective(trial):\n",
        "    lgb_params = {\n",
        "        'objective': 'regression',\n",
        "        'metric': 'rmse',\n",
        "        'n_jobs': -1,\n",
        "        'num_leaves': trial.suggest_int('num_leaves', 31, 127),\n",
        "        'max_depth': trial.suggest_int('max_depth', 6, 12),\n",
        "        'learning_rate': trial.suggest_float('learning_rate', 0.01, 0.05),\n",
        "        'n_estimators': trial.suggest_int('n_estimators', 1000, 2000),\n",
        "        'min_child_samples': trial.suggest_int('min_child_samples', 5, 30),\n",
        "        'subsample': trial.suggest_float('subsample', 0.7, 0.9),\n",
        "        'colsample_bytree': trial.suggest_float('colsample_bytree', 0.7, 0.9)\n",
        "    }\n",
        "    \n",
        "    _model = lgb.LGBMRegressor(**lgb_params)\n",
        "       \n",
        "    scores = cross_val_score(_model, X_new_good, y, cv=5, scoring='r2')\n",
        "    return scores.mean()\n",
        "\n",
        "study_lgbm = optuna.create_study(direction='maximize')\n",
        "study_lgbm.optimize(objective, n_trials=20)\n",
        "\n",
        "lgb_model = lgb.LGBMRegressor(**study_lgbm.best_params)\n"
      ]
    },
    {
      "cell_type": "code",
      "execution_count": 469,
      "metadata": {},
      "outputs": [
        {
          "name": "stdout",
          "output_type": "stream",
          "text": [
            "{'test': 0.5942050386170745, 'train': 0.2506873862303991}\n"
          ]
        }
      ],
      "source": [
        "lgb_model.fit(X_new_good, y)\n",
        "r2_scores[\"model_lgbm_best\"] = print_score(lgb_model, X_train_good, y_train, X_test_good, y_test)\n",
        "pp(r2_scores[\"model_lgbm_best\"])"
      ]
    },
    {
      "cell_type": "code",
      "execution_count": 470,
      "metadata": {},
      "outputs": [
        {
          "name": "stderr",
          "output_type": "stream",
          "text": [
            "100799.05s - pydevd: Sending message related to process being replaced timed-out after 5 seconds\n"
          ]
        },
        {
          "name": "stdout",
          "output_type": "stream",
          "text": [
            "100%|██████████████████████████████████████| 11.8k/11.8k [00:00<00:00, 15.1kB/s]\n",
            "Successfully submitted to Chocolate rating prediction [Ai Edu]"
          ]
        },
        {
          "name": "stderr",
          "output_type": "stream",
          "text": [
            "100807.15s - pydevd: Sending message related to process being replaced timed-out after 5 seconds\n"
          ]
        },
        {
          "name": "stdout",
          "output_type": "stream",
          "text": [
            "fileName                         date                 description                  status    publicScore  privateScore  \n",
            "-------------------------------  -------------------  ---------------------------  --------  -----------  ------------  \n",
            "submission_lgb_best.csv          2025-02-08 15:19:39  submission_lgb_best          complete  0.06066                    \n",
            "submission_stacking2.csv         2025-02-08 14:51:12  submission_stacking2         complete  0.09333                    \n",
            "submission_cb_best.csv           2025-02-08 14:37:39  submission_cb_best           complete  0.16985                    \n",
            "submission_cb_cat.csv            2025-02-08 13:56:20  submission_cb_cat            complete  0.21739                    \n",
            "submission_lgb_best.csv          2025-02-07 22:56:58  submission_lgb_best          complete  0.05762                    \n",
            "submission_cb_improved_good.csv  2025-02-07 22:52:36  submission_cb_improved_good  complete  0.02251                    \n",
            "submission_cb_improved.csv       2025-02-07 22:33:30  submission_cb_improved       complete  0.17161                    \n",
            "submission_4_copy_half.csv       2025-02-07 21:57:52  submission_4_copy_half       complete  0.13458                    \n",
            "submission_4_copy_q.csv          2025-02-07 21:55:30  submission_4_copy_q          complete  0.19402                    \n",
            "submission_stacking_q.csv        2025-02-07 21:52:46  submission_stacking_q        complete  0.02852                    \n",
            "submission_stacking.csv          2025-02-07 21:47:48  submission_stacking          complete  0.06192                    \n",
            "submission_6_cb2_2.csv           2025-02-07 17:23:51  submission_6_cb2_2           complete  0.21291                    \n",
            "submission_5.csv                 2025-02-07 11:38:54  submission_5                 complete  0.05796                    \n",
            "submission_4_copy3.csv           2025-02-07 11:36:10  submission_4_copy3           complete  0.22163                    \n",
            "submission_4_copy2.csv           2025-02-06 13:01:31  submission_4_copy2           complete  0.22163                    \n",
            "submission_4_copy.csv            2025-02-05 22:41:57  submission_4_copy            complete  0.22207                    \n",
            "submission_4.csv                 2025-02-04 21:44:51                               complete  0.22163                    \n",
            "submission_3.csv                 2025-02-03 22:53:49                               complete  0.16383                    \n",
            "submission_2.csv                 2025-02-02 23:23:33                               complete  0.17017                    \n",
            "baseline_submission.csv          2025-02-02 22:23:33  Baseline                     complete  0.16337                    \n"
          ]
        }
      ],
      "source": [
        "pred = lgb_model.predict(X_test_transformed_good)\n",
        "save_and_submit(pred, lgb_model, test_df, \"submission_lgb_best\", submit = True)"
      ]
    },
    {
      "cell_type": "markdown",
      "metadata": {},
      "source": [
        "### XGBoost"
      ]
    },
    {
      "cell_type": "code",
      "execution_count": 506,
      "metadata": {},
      "outputs": [
        {
          "name": "stderr",
          "output_type": "stream",
          "text": [
            "[I 2025-02-08 18:45:03,209] A new study created in memory with name: no-name-e047daaf-0c15-448a-95e8-57740a16ed53\n",
            "[I 2025-02-08 18:45:05,816] Trial 0 finished with value: 0.31665535777858944 and parameters: {'max_depth': 6, 'learning_rate': 0.03721472596044198, 'n_estimators': 1054, 'min_child_weight': 4, 'subsample': 0.8322980611091904, 'colsample_bytree': 0.8375384075775949, 'gamma': 0.7424003325579952, 'reg_alpha': 0.7210355781995549, 'reg_lambda': 0.9141829170413683, 'num_round': 2650}. Best is trial 0 with value: 0.31665535777858944.\n",
            "[I 2025-02-08 18:45:06,652] Trial 1 finished with value: 0.3133579016540311 and parameters: {'max_depth': 12, 'learning_rate': 0.08590294629442706, 'n_estimators': 1083, 'min_child_weight': 6, 'subsample': 0.9662098860494835, 'colsample_bytree': 0.9646772716755894, 'gamma': 0.7165153998553417, 'reg_alpha': 0.18652454048240075, 'reg_lambda': 0.32489601849455996, 'num_round': 2969}. Best is trial 0 with value: 0.31665535777858944.\n",
            "[I 2025-02-08 18:45:11,718] Trial 2 finished with value: 0.33632573927738435 and parameters: {'max_depth': 6, 'learning_rate': 0.010254376777176404, 'n_estimators': 1293, 'min_child_weight': 7, 'subsample': 0.7042572856555122, 'colsample_bytree': 0.7567865976465982, 'gamma': 0.42491248909417956, 'reg_alpha': 0.3204429239762201, 'reg_lambda': 0.41748242223034426, 'num_round': 1732}. Best is trial 2 with value: 0.33632573927738435.\n",
            "[I 2025-02-08 18:45:12,831] Trial 3 finished with value: 0.32531729129239617 and parameters: {'max_depth': 6, 'learning_rate': 0.07928064862141176, 'n_estimators': 2586, 'min_child_weight': 2, 'subsample': 0.617999546068485, 'colsample_bytree': 0.7272910869069384, 'gamma': 0.34900540721561657, 'reg_alpha': 0.9807026503453171, 'reg_lambda': 0.9070444317094406, 'num_round': 2157}. Best is trial 2 with value: 0.33632573927738435.\n",
            "[I 2025-02-08 18:45:14,081] Trial 4 finished with value: 0.31652106215339787 and parameters: {'max_depth': 9, 'learning_rate': 0.0501037514809111, 'n_estimators': 1268, 'min_child_weight': 6, 'subsample': 0.8259716388638215, 'colsample_bytree': 0.7774529837051316, 'gamma': 0.8554638130943145, 'reg_alpha': 0.7191162712522359, 'reg_lambda': 0.1877068617599067, 'num_round': 2632}. Best is trial 2 with value: 0.33632573927738435.\n",
            "[I 2025-02-08 18:45:15,144] Trial 5 finished with value: 0.32400289820085054 and parameters: {'max_depth': 10, 'learning_rate': 0.08138513895114337, 'n_estimators': 2673, 'min_child_weight': 4, 'subsample': 0.6740729251920353, 'colsample_bytree': 0.6463712540840553, 'gamma': 0.9128619741730079, 'reg_alpha': 0.6114644327377624, 'reg_lambda': 0.5009798131650676, 'num_round': 2623}. Best is trial 2 with value: 0.33632573927738435.\n",
            "[I 2025-02-08 18:45:18,081] Trial 6 finished with value: 0.3248110969080967 and parameters: {'max_depth': 9, 'learning_rate': 0.01669252719617951, 'n_estimators': 1518, 'min_child_weight': 3, 'subsample': 0.6776694621702308, 'colsample_bytree': 0.968325862806934, 'gamma': 0.672800776653841, 'reg_alpha': 0.7895654239033821, 'reg_lambda': 0.993038597871067, 'num_round': 2901}. Best is trial 2 with value: 0.33632573927738435.\n",
            "[I 2025-02-08 18:45:19,988] Trial 7 finished with value: 0.32363183801511924 and parameters: {'max_depth': 7, 'learning_rate': 0.031907512871627464, 'n_estimators': 1810, 'min_child_weight': 2, 'subsample': 0.643278495979611, 'colsample_bytree': 0.7180859104591087, 'gamma': 0.18902939667508034, 'reg_alpha': 0.029513959002870016, 'reg_lambda': 0.04587463421109228, 'num_round': 1818}. Best is trial 2 with value: 0.33632573927738435.\n",
            "[I 2025-02-08 18:45:20,925] Trial 8 finished with value: 0.3172995466549918 and parameters: {'max_depth': 9, 'learning_rate': 0.09885456550518791, 'n_estimators': 1800, 'min_child_weight': 2, 'subsample': 0.8985075555252429, 'colsample_bytree': 0.6726923665140844, 'gamma': 0.25192460420267315, 'reg_alpha': 0.004415463750456539, 'reg_lambda': 0.959845570880802, 'num_round': 1881}. Best is trial 2 with value: 0.33632573927738435.\n",
            "[I 2025-02-08 18:45:22,112] Trial 9 finished with value: 0.3175253440067039 and parameters: {'max_depth': 10, 'learning_rate': 0.08152654922663137, 'n_estimators': 1827, 'min_child_weight': 2, 'subsample': 0.8423494904892175, 'colsample_bytree': 0.8880051550557113, 'gamma': 0.5980777169914153, 'reg_alpha': 0.4745896203383453, 'reg_lambda': 0.8006883781788339, 'num_round': 2543}. Best is trial 2 with value: 0.33632573927738435.\n",
            "[I 2025-02-08 18:45:26,214] Trial 10 finished with value: 0.33179990290496714 and parameters: {'max_depth': 4, 'learning_rate': 0.010237718280186506, 'n_estimators': 2940, 'min_child_weight': 7, 'subsample': 0.7286556663670644, 'colsample_bytree': 0.8411795455574986, 'gamma': 0.44155514365791115, 'reg_alpha': 0.32308820306911185, 'reg_lambda': 0.6301090798156719, 'num_round': 1129}. Best is trial 2 with value: 0.33632573927738435.\n",
            "[I 2025-02-08 18:45:30,272] Trial 11 finished with value: 0.3324074801968122 and parameters: {'max_depth': 4, 'learning_rate': 0.010196119649717034, 'n_estimators': 2958, 'min_child_weight': 7, 'subsample': 0.7403141525493223, 'colsample_bytree': 0.8387267583938478, 'gamma': 0.019933892633881345, 'reg_alpha': 0.33273893211926353, 'reg_lambda': 0.595756141665336, 'num_round': 1068}. Best is trial 2 with value: 0.33632573927738435.\n",
            "[I 2025-02-08 18:45:32,499] Trial 12 finished with value: 0.32875549722674713 and parameters: {'max_depth': 4, 'learning_rate': 0.02439912672225849, 'n_estimators': 2296, 'min_child_weight': 7, 'subsample': 0.7472599817730762, 'colsample_bytree': 0.776977125715873, 'gamma': 0.12440777456916896, 'reg_alpha': 0.3596414105207256, 'reg_lambda': 0.5724612851569407, 'num_round': 1004}. Best is trial 2 with value: 0.33632573927738435.\n",
            "[I 2025-02-08 18:45:33,972] Trial 13 finished with value: 0.3014413853770728 and parameters: {'max_depth': 5, 'learning_rate': 0.05225222378689548, 'n_estimators': 2211, 'min_child_weight': 6, 'subsample': 0.7533792231183396, 'colsample_bytree': 0.885932904385753, 'gamma': 0.033401613131742044, 'reg_alpha': 0.24677912347412545, 'reg_lambda': 0.3392909559973889, 'num_round': 1427}. Best is trial 2 with value: 0.33632573927738435.\n",
            "[I 2025-02-08 18:45:35,694] Trial 14 finished with value: 0.3283466844998763 and parameters: {'max_depth': 6, 'learning_rate': 0.03867779362613612, 'n_estimators': 1493, 'min_child_weight': 5, 'subsample': 0.715747095004619, 'colsample_bytree': 0.7262908614605746, 'gamma': 0.4991962818029949, 'reg_alpha': 0.49328894019015046, 'reg_lambda': 0.7030890258466924, 'num_round': 1504}. Best is trial 2 with value: 0.33632573927738435.\n",
            "[I 2025-02-08 18:45:38,331] Trial 15 finished with value: 0.3171012265911646 and parameters: {'max_depth': 5, 'learning_rate': 0.022147188096921316, 'n_estimators': 2211, 'min_child_weight': 7, 'subsample': 0.7823510776026008, 'colsample_bytree': 0.9111187293173211, 'gamma': 0.00881652008244238, 'reg_alpha': 0.20769239691759786, 'reg_lambda': 0.313162493794801, 'num_round': 1389}. Best is trial 2 with value: 0.33632573927738435.\n",
            "[I 2025-02-08 18:45:39,719] Trial 16 finished with value: 0.3282836154839238 and parameters: {'max_depth': 7, 'learning_rate': 0.06347918523416703, 'n_estimators': 2796, 'min_child_weight': 5, 'subsample': 0.6957649671160465, 'colsample_bytree': 0.6004643878480598, 'gamma': 0.33563189893347517, 'reg_alpha': 0.38830717615258653, 'reg_lambda': 0.4298809135589127, 'num_round': 2171}. Best is trial 2 with value: 0.33632573927738435.\n",
            "[I 2025-02-08 18:45:44,423] Trial 17 finished with value: 0.34110175695332295 and parameters: {'max_depth': 4, 'learning_rate': 0.010272580564502622, 'n_estimators': 2470, 'min_child_weight': 5, 'subsample': 0.6013393237203681, 'colsample_bytree': 0.8292496888039322, 'gamma': 0.3824576934512028, 'reg_alpha': 0.1426626605073401, 'reg_lambda': 0.7200745281468351, 'num_round': 1666}. Best is trial 17 with value: 0.34110175695332295.\n",
            "[I 2025-02-08 18:45:46,237] Trial 18 finished with value: 0.3358396621642317 and parameters: {'max_depth': 5, 'learning_rate': 0.028459472855336856, 'n_estimators': 2435, 'min_child_weight': 5, 'subsample': 0.6202667250655666, 'colsample_bytree': 0.7964512660021276, 'gamma': 0.4092265623099701, 'reg_alpha': 0.11181391895919746, 'reg_lambda': 0.7900959423423818, 'num_round': 1585}. Best is trial 17 with value: 0.34110175695332295.\n",
            "[I 2025-02-08 18:45:47,534] Trial 19 finished with value: 0.3314601159164058 and parameters: {'max_depth': 7, 'learning_rate': 0.0641026778248295, 'n_estimators': 2044, 'min_child_weight': 1, 'subsample': 0.6525898186823437, 'colsample_bytree': 0.7587664868455684, 'gamma': 0.5823072799830695, 'reg_alpha': 0.12450187015246206, 'reg_lambda': 0.43512513802787395, 'num_round': 1724}. Best is trial 17 with value: 0.34110175695332295.\n",
            "[I 2025-02-08 18:45:48,858] Trial 20 finished with value: 0.32449303891418263 and parameters: {'max_depth': 5, 'learning_rate': 0.04290963159934808, 'n_estimators': 1533, 'min_child_weight': 4, 'subsample': 0.6065902836984484, 'colsample_bytree': 0.9308100353169237, 'gamma': 0.2950105630236922, 'reg_alpha': 0.10184501832933224, 'reg_lambda': 0.16532205723981563, 'num_round': 2094}. Best is trial 17 with value: 0.34110175695332295.\n",
            "[I 2025-02-08 18:45:50,689] Trial 21 finished with value: 0.33785784010109393 and parameters: {'max_depth': 5, 'learning_rate': 0.027443839337848747, 'n_estimators': 2369, 'min_child_weight': 5, 'subsample': 0.6313024448823795, 'colsample_bytree': 0.8115849821241485, 'gamma': 0.4282101268889759, 'reg_alpha': 0.12112994615719377, 'reg_lambda': 0.8130612760037954, 'num_round': 1665}. Best is trial 17 with value: 0.34110175695332295.\n",
            "[I 2025-02-08 18:45:53,088] Trial 22 finished with value: 0.33445033186383133 and parameters: {'max_depth': 4, 'learning_rate': 0.01858996345025516, 'n_estimators': 2490, 'min_child_weight': 5, 'subsample': 0.6053149090206126, 'colsample_bytree': 0.8226243345436492, 'gamma': 0.5199528325734896, 'reg_alpha': 0.26006220119344986, 'reg_lambda': 0.7919146277780884, 'num_round': 1695}. Best is trial 17 with value: 0.34110175695332295.\n",
            "[I 2025-02-08 18:45:55,865] Trial 23 finished with value: 0.33246559785670005 and parameters: {'max_depth': 6, 'learning_rate': 0.016291788124255614, 'n_estimators': 2045, 'min_child_weight': 6, 'subsample': 0.6535782512094993, 'colsample_bytree': 0.8652086813566946, 'gamma': 0.41539878252217366, 'reg_alpha': 0.16612649183288522, 'reg_lambda': 0.7065341640192787, 'num_round': 1285}. Best is trial 17 with value: 0.34110175695332295.\n",
            "[I 2025-02-08 18:45:57,926] Trial 24 finished with value: 0.3306374892614553 and parameters: {'max_depth': 5, 'learning_rate': 0.030756810999029296, 'n_estimators': 2418, 'min_child_weight': 4, 'subsample': 0.695193927896065, 'colsample_bytree': 0.8068387225161807, 'gamma': 0.1773424085295776, 'reg_alpha': 0.4302403178660094, 'reg_lambda': 0.8519360110390453, 'num_round': 1956}. Best is trial 17 with value: 0.34110175695332295.\n",
            "[I 2025-02-08 18:46:02,093] Trial 25 finished with value: 0.3375547163536224 and parameters: {'max_depth': 8, 'learning_rate': 0.012936835965193058, 'n_estimators': 2702, 'min_child_weight': 3, 'subsample': 0.6367891528567536, 'colsample_bytree': 0.755467156102368, 'gamma': 0.5054134510899739, 'reg_alpha': 0.27743928423671405, 'reg_lambda': 0.6786513381156845, 'num_round': 1615}. Best is trial 17 with value: 0.34110175695332295.\n",
            "[I 2025-02-08 18:46:04,505] Trial 26 finished with value: 0.3396343842607409 and parameters: {'max_depth': 12, 'learning_rate': 0.023438142569438908, 'n_estimators': 2740, 'min_child_weight': 3, 'subsample': 0.6468137710769374, 'colsample_bytree': 0.6792383675302237, 'gamma': 0.5583081005796113, 'reg_alpha': 0.06098051134131166, 'reg_lambda': 0.7053488709874679, 'num_round': 2303}. Best is trial 17 with value: 0.34110175695332295.\n",
            "[I 2025-02-08 18:46:07,266] Trial 27 finished with value: 0.32037168600550225 and parameters: {'max_depth': 12, 'learning_rate': 0.023345810177691485, 'n_estimators': 2835, 'min_child_weight': 3, 'subsample': 0.9776584378114274, 'colsample_bytree': 0.6714412358252512, 'gamma': 0.6171063938087701, 'reg_alpha': 0.06802455056813436, 'reg_lambda': 0.7602924489668372, 'num_round': 2453}. Best is trial 17 with value: 0.34110175695332295.\n",
            "[I 2025-02-08 18:46:08,751] Trial 28 finished with value: 0.32251162846297526 and parameters: {'max_depth': 11, 'learning_rate': 0.0435451662804367, 'n_estimators': 2587, 'min_child_weight': 3, 'subsample': 0.7804720227550164, 'colsample_bytree': 0.9983903675719592, 'gamma': 0.8046596155883494, 'reg_alpha': 0.00029503423892152103, 'reg_lambda': 0.533048971767814, 'num_round': 2385}. Best is trial 17 with value: 0.34110175695332295.\n",
            "[I 2025-02-08 18:46:11,117] Trial 29 finished with value: 0.3253090019151973 and parameters: {'max_depth': 8, 'learning_rate': 0.03159552154305735, 'n_estimators': 2315, 'min_child_weight': 4, 'subsample': 0.6653822883080709, 'colsample_bytree': 0.6001010060590034, 'gamma': 0.9918769886349253, 'reg_alpha': 0.17525814159076514, 'reg_lambda': 0.8745032259467347, 'num_round': 2279}. Best is trial 17 with value: 0.34110175695332295.\n",
            "[I 2025-02-08 18:46:12,576] Trial 30 finished with value: 0.3276572338326943 and parameters: {'max_depth': 10, 'learning_rate': 0.03717035021046475, 'n_estimators': 2562, 'min_child_weight': 5, 'subsample': 0.6334017097497535, 'colsample_bytree': 0.6949044351457946, 'gamma': 0.6692898611735478, 'reg_alpha': 0.577108688928327, 'reg_lambda': 0.6387543313048462, 'num_round': 2015}. Best is trial 17 with value: 0.34110175695332295.\n",
            "[I 2025-02-08 18:46:15,909] Trial 31 finished with value: 0.33749299361038065 and parameters: {'max_depth': 8, 'learning_rate': 0.017384315434523123, 'n_estimators': 2721, 'min_child_weight': 3, 'subsample': 0.6359998086680031, 'colsample_bytree': 0.6401895251025478, 'gamma': 0.49324625119267657, 'reg_alpha': 0.2671720724483484, 'reg_lambda': 0.7074131963037027, 'num_round': 1576}. Best is trial 17 with value: 0.34110175695332295.\n",
            "[I 2025-02-08 18:46:18,052] Trial 32 finished with value: 0.3355077437571775 and parameters: {'max_depth': 11, 'learning_rate': 0.025750194637179907, 'n_estimators': 2706, 'min_child_weight': 3, 'subsample': 0.6032470268133977, 'colsample_bytree': 0.7481294598517592, 'gamma': 0.523087658309188, 'reg_alpha': 0.06236184334863133, 'reg_lambda': 0.6758291268732275, 'num_round': 1254}. Best is trial 17 with value: 0.34110175695332295.\n",
            "[I 2025-02-08 18:46:21,429] Trial 33 finished with value: 0.3259722839079541 and parameters: {'max_depth': 11, 'learning_rate': 0.015276555025548623, 'n_estimators': 2816, 'min_child_weight': 4, 'subsample': 0.9317029551724358, 'colsample_bytree': 0.8599916557618631, 'gamma': 0.3677729318588026, 'reg_alpha': 0.14751961451375845, 'reg_lambda': 0.735782579246347, 'num_round': 1852}. Best is trial 17 with value: 0.34110175695332295.\n",
            "[I 2025-02-08 18:46:24,087] Trial 34 finished with value: 0.3280466681074679 and parameters: {'max_depth': 7, 'learning_rate': 0.0207296369082888, 'n_estimators': 2353, 'min_child_weight': 1, 'subsample': 0.6311457101403926, 'colsample_bytree': 0.7899349489901386, 'gamma': 0.7322245893213382, 'reg_alpha': 0.21515685297076262, 'reg_lambda': 0.8393017631553277, 'num_round': 1642}. Best is trial 17 with value: 0.34110175695332295.\n",
            "[I 2025-02-08 18:46:27,800] Trial 35 finished with value: 0.33561261404667286 and parameters: {'max_depth': 12, 'learning_rate': 0.014108077198787677, 'n_estimators': 2151, 'min_child_weight': 5, 'subsample': 0.6901130556266937, 'colsample_bytree': 0.8229391775743957, 'gamma': 0.4583924173740048, 'reg_alpha': 0.0815250305194166, 'reg_lambda': 0.9344840976707269, 'num_round': 2766}. Best is trial 17 with value: 0.34110175695332295.\n",
            "[I 2025-02-08 18:46:29,708] Trial 36 finished with value: 0.3266046560965501 and parameters: {'max_depth': 8, 'learning_rate': 0.0357094240780642, 'n_estimators': 2578, 'min_child_weight': 3, 'subsample': 0.659849468481149, 'colsample_bytree': 0.7053516259982836, 'gamma': 0.5700428064972579, 'reg_alpha': 0.9636429474579536, 'reg_lambda': 0.6291127995274964, 'num_round': 1468}. Best is trial 17 with value: 0.34110175695332295.\n",
            "[I 2025-02-08 18:46:32,213] Trial 37 finished with value: 0.3382517834426722 and parameters: {'max_depth': 6, 'learning_rate': 0.02683165103538843, 'n_estimators': 2667, 'min_child_weight': 4, 'subsample': 0.6756117395679782, 'colsample_bytree': 0.7620683220134752, 'gamma': 0.26876659469958164, 'reg_alpha': 0.284868121618758, 'reg_lambda': 0.8997326974955334, 'num_round': 2273}. Best is trial 17 with value: 0.34110175695332295.\n",
            "[I 2025-02-08 18:46:33,797] Trial 38 finished with value: 0.33190573816673724 and parameters: {'max_depth': 6, 'learning_rate': 0.04697603415243663, 'n_estimators': 2512, 'min_child_weight': 4, 'subsample': 0.8607400863718311, 'colsample_bytree': 0.7343211240299891, 'gamma': 0.2611614274336034, 'reg_alpha': 0.18014420165840006, 'reg_lambda': 0.916637934823792, 'num_round': 2212}. Best is trial 17 with value: 0.34110175695332295.\n",
            "[I 2025-02-08 18:46:36,143] Trial 39 finished with value: 0.3380466702777659 and parameters: {'max_depth': 4, 'learning_rate': 0.026959385872005963, 'n_estimators': 2874, 'min_child_weight': 6, 'subsample': 0.671878269077031, 'colsample_bytree': 0.7692735221877312, 'gamma': 0.3505965799497777, 'reg_alpha': 0.03726740571414808, 'reg_lambda': 0.8543743808961041, 'num_round': 2290}. Best is trial 17 with value: 0.34110175695332295.\n",
            "[I 2025-02-08 18:46:37,915] Trial 40 finished with value: 0.33338335203082947 and parameters: {'max_depth': 4, 'learning_rate': 0.034286719437600865, 'n_estimators': 2912, 'min_child_weight': 6, 'subsample': 0.6692765447515989, 'colsample_bytree': 0.7710869901692305, 'gamma': 0.20934582438449323, 'reg_alpha': 0.0447457959199542, 'reg_lambda': 0.9893217593935857, 'num_round': 2401}. Best is trial 17 with value: 0.34110175695332295.\n",
            "[I 2025-02-08 18:46:40,086] Trial 41 finished with value: 0.33492535537203644 and parameters: {'max_depth': 5, 'learning_rate': 0.02775708792354176, 'n_estimators': 2632, 'min_child_weight': 6, 'subsample': 0.7115880994181438, 'colsample_bytree': 0.8131233699692574, 'gamma': 0.34009664040568555, 'reg_alpha': 0.12085710050340226, 'reg_lambda': 0.8761213614975584, 'num_round': 2301}. Best is trial 17 with value: 0.34110175695332295.\n",
            "[I 2025-02-08 18:46:41,457] Trial 42 finished with value: 0.332198902175771 and parameters: {'max_depth': 4, 'learning_rate': 0.06418408901311821, 'n_estimators': 2995, 'min_child_weight': 6, 'subsample': 0.6776446676848082, 'colsample_bytree': 0.7843402559682029, 'gamma': 0.38159794308382616, 'reg_alpha': 0.038150335716481854, 'reg_lambda': 0.8140934376755209, 'num_round': 2102}. Best is trial 17 with value: 0.34110175695332295.\n",
            "[I 2025-02-08 18:46:43,149] Trial 43 finished with value: 0.32343964568769995 and parameters: {'max_depth': 6, 'learning_rate': 0.04045314156865222, 'n_estimators': 2859, 'min_child_weight': 5, 'subsample': 0.6220779330554538, 'colsample_bytree': 0.8633630783395596, 'gamma': 0.27395904365859614, 'reg_alpha': 0.1490343865943422, 'reg_lambda': 0.7544661528981755, 'num_round': 2521}. Best is trial 17 with value: 0.34110175695332295.\n",
            "[I 2025-02-08 18:46:45,801] Trial 44 finished with value: 0.3367623499379125 and parameters: {'max_depth': 4, 'learning_rate': 0.021251893002906825, 'n_estimators': 2759, 'min_child_weight': 4, 'subsample': 0.6522123257045218, 'colsample_bytree': 0.6659446308868284, 'gamma': 0.1331757656703887, 'reg_alpha': 0.20929908546447534, 'reg_lambda': 0.8891212181425558, 'num_round': 2004}. Best is trial 17 with value: 0.34110175695332295.\n",
            "[I 2025-02-08 18:46:46,717] Trial 45 finished with value: 0.3249569885776999 and parameters: {'max_depth': 5, 'learning_rate': 0.09380969477315286, 'n_estimators': 2417, 'min_child_weight': 5, 'subsample': 0.6001088045257594, 'colsample_bytree': 0.7414100871067043, 'gamma': 0.3118409002374449, 'reg_alpha': 0.07502285784087007, 'reg_lambda': 0.9568535370917826, 'num_round': 2338}. Best is trial 17 with value: 0.34110175695332295.\n",
            "[I 2025-02-08 18:46:48,795] Trial 46 finished with value: 0.3347989069754167 and parameters: {'max_depth': 4, 'learning_rate': 0.027265238298444874, 'n_estimators': 1904, 'min_child_weight': 4, 'subsample': 0.7200442485084191, 'colsample_bytree': 0.696091028101864, 'gamma': 0.4576360873459289, 'reg_alpha': 0.0030819867672226137, 'reg_lambda': 0.846274730686071, 'num_round': 1818}. Best is trial 17 with value: 0.34110175695332295.\n",
            "[I 2025-02-08 18:46:49,888] Trial 47 finished with value: 0.3231047724676932 and parameters: {'max_depth': 5, 'learning_rate': 0.06994370847598397, 'n_estimators': 2643, 'min_child_weight': 6, 'subsample': 0.7595706862380633, 'colsample_bytree': 0.8414163262145281, 'gamma': 0.3871960408691953, 'reg_alpha': 0.7282209400804138, 'reg_lambda': 0.5556194629266532, 'num_round': 2626}. Best is trial 17 with value: 0.34110175695332295.\n",
            "[I 2025-02-08 18:46:55,048] Trial 48 finished with value: 0.3387782353553538 and parameters: {'max_depth': 6, 'learning_rate': 0.010469590213284165, 'n_estimators': 2902, 'min_child_weight': 2, 'subsample': 0.6846871763955273, 'colsample_bytree': 0.7200358818284, 'gamma': 0.21578477129560683, 'reg_alpha': 0.5591913791499782, 'reg_lambda': 0.7653301237407271, 'num_round': 2859}. Best is trial 17 with value: 0.34110175695332295.\n",
            "[I 2025-02-08 18:47:00,031] Trial 49 finished with value: 0.3379912786998111 and parameters: {'max_depth': 9, 'learning_rate': 0.01210559852499707, 'n_estimators': 2872, 'min_child_weight': 2, 'subsample': 0.6828323383424002, 'colsample_bytree': 0.7196403648908863, 'gamma': 0.21657298631574928, 'reg_alpha': 0.5741537501518208, 'reg_lambda': 0.7575745831666915, 'num_round': 2997}. Best is trial 17 with value: 0.34110175695332295.\n"
          ]
        }
      ],
      "source": [
        "import optuna\n",
        "from sklearn.model_selection import cross_val_score, KFold\n",
        "import xgboost as xgb\n",
        "from xgboost import XGBRegressor\n",
        "\n",
        "def objective(trial):\n",
        "    params = {\n",
        "        'max_depth': trial.suggest_int('max_depth', 4, 12),\n",
        "        'learning_rate': trial.suggest_float('learning_rate', 0.01, 0.1),\n",
        "        'n_estimators': trial.suggest_int('n_estimators', 1000, 3000),\n",
        "        'min_child_weight': trial.suggest_int('min_child_weight', 1, 7),\n",
        "        'subsample': trial.suggest_float('subsample', 0.6, 1.0),\n",
        "        'colsample_bytree': trial.suggest_float('colsample_bytree', 0.6, 1.0),\n",
        "        'gamma': trial.suggest_float('gamma', 0, 1),\n",
        "        'reg_alpha': trial.suggest_float('reg_alpha', 0, 1),\n",
        "        'reg_lambda': trial.suggest_float('reg_lambda', 0, 1),\n",
        "    }\n",
        "\n",
        "    # Реализуем K-fold кросс-валидацию, т.к. \n",
        "    # XGBoost конфликтует с cross_val_score (и даже sklearn==1.6.1)\n",
        "    # https://github.com/scikit-learn/scikit-learn/pull/30516\n",
        "    kf = KFold(n_splits=5, shuffle=True, random_state=42)\n",
        "    scores = []\n",
        "    \n",
        "    for train_idx, val_idx in kf.split(X_new_good):\n",
        "        X_fold_train = X_new_good.iloc[train_idx]\n",
        "        y_fold_train = y.iloc[train_idx]\n",
        "        X_fold_val = X_new_good.iloc[val_idx]\n",
        "        y_fold_val = y.iloc[val_idx]\n",
        "        \n",
        "        # Преобразуем данные в формат DMatrix\n",
        "        dtrain = xgb.DMatrix(X_fold_train, label=y_fold_train)\n",
        "        dval = xgb.DMatrix(X_fold_val, label=y_fold_val)\n",
        "        \n",
        "        # Обучаем модель\n",
        "        num_round = trial.suggest_int('num_round', 1000, 3000)\n",
        "        model = xgb.train(\n",
        "            params,\n",
        "            dtrain,\n",
        "            num_round,\n",
        "            evals=[(dval, 'eval')],\n",
        "            early_stopping_rounds=100,\n",
        "            verbose_eval=False\n",
        "        )\n",
        "        \n",
        "        # Делаем предсказания и считаем R2\n",
        "        preds = model.predict(dval)\n",
        "        fold_score = r2_score(y_fold_val, preds)\n",
        "        scores.append(fold_score)\n",
        "    \n",
        "    # _model = XGBRegressor(**params)\n",
        "    # _pipeline = make_pipeline(_model)\n",
        "    # scores = cross_val_score(_model, X_new_good, y, cv=5, scoring='r2')\n",
        "\n",
        "\n",
        "    # Возвращаем среднее значение R2 по всем фолдам\n",
        "    return np.mean(scores)\n",
        "\n",
        "study = optuna.create_study(direction='maximize')\n",
        "study.optimize(objective, n_trials=50)\n",
        "\n",
        "best_xgb = xgb.XGBRegressor(**study.best_params, random_state=42)"
      ]
    },
    {
      "cell_type": "code",
      "execution_count": 507,
      "metadata": {},
      "outputs": [
        {
          "name": "stdout",
          "output_type": "stream",
          "text": [
            "{'test': 0.2880129492045922, 'train': 0.19491236186210326}\n"
          ]
        }
      ],
      "source": [
        "best_xgb.fit(X_new_good, y)\n",
        "r2_scores[\"best_xgb\"] = print_score(best_xgb, X_train_good, y_train, X_test_good, y_test)\n",
        "pp(r2_scores[\"best_xgb\"])"
      ]
    },
    {
      "cell_type": "markdown",
      "metadata": {},
      "source": [
        "## Стекинг"
      ]
    },
    {
      "cell_type": "code",
      "execution_count": 521,
      "metadata": {},
      "outputs": [],
      "source": [
        "from sklearn.ensemble import StackingRegressor\n",
        "from sklearn.pipeline import make_pipeline\n",
        "\n",
        "estimators = [\n",
        "    ('cb_best', model_cb_best),\n",
        "    ('cb', model),\n",
        "    ('rf_best', make_pipeline(data_pipeline, model_rf_best)),\n",
        "    ('lgbm_best', make_pipeline(data_pipeline, lgb_model)),\n",
        "    # ('xgb_best', make_pipeline(data_pipeline, best_xgb)),\n",
        "    ]\n",
        "\n",
        "stacking_model = StackingRegressor(\n",
        "    estimators=estimators,\n",
        "    final_estimator=RandomForestRegressor(n_estimators=10, random_state=42))"
      ]
    },
    {
      "cell_type": "code",
      "execution_count": 522,
      "metadata": {},
      "outputs": [
        {
          "name": "stdout",
          "output_type": "stream",
          "text": [
            "{'test': 0.32385150406033913, 'train': 0.35593806420778895}\n"
          ]
        }
      ],
      "source": [
        "stacking_model.fit(X_new, y)\n",
        "r2_scores[\"pred_stacking\"] = print_score(stacking_model, X_train, y_train, X_test, y_test)\n",
        "pp(r2_scores[\"pred_stacking\"])"
      ]
    },
    {
      "cell_type": "code",
      "execution_count": 476,
      "metadata": {},
      "outputs": [
        {
          "name": "stderr",
          "output_type": "stream",
          "text": [
            "101160.14s - pydevd: Sending message related to process being replaced timed-out after 5 seconds\n"
          ]
        },
        {
          "name": "stdout",
          "output_type": "stream",
          "text": [
            "100%|██████████████████████████████████████| 4.82k/4.82k [00:00<00:00, 5.92kB/s]\n",
            "Successfully submitted to Chocolate rating prediction [Ai Edu]"
          ]
        },
        {
          "name": "stderr",
          "output_type": "stream",
          "text": [
            "101168.25s - pydevd: Sending message related to process being replaced timed-out after 5 seconds\n"
          ]
        },
        {
          "name": "stdout",
          "output_type": "stream",
          "text": [
            "fileName                         date                 description                  status    publicScore  privateScore  \n",
            "-------------------------------  -------------------  ---------------------------  --------  -----------  ------------  \n",
            "submission_stacking3.csv         2025-02-08 15:25:41  submission_stacking3         complete  0.05148                    \n",
            "submission_stacking3.csv         2025-02-08 15:24:21  submission_stacking3         complete  0.12401                    \n",
            "submission_lgb_best.csv          2025-02-08 15:19:39  submission_lgb_best          complete  0.06066                    \n",
            "submission_stacking2.csv         2025-02-08 14:51:12  submission_stacking2         complete  0.09333                    \n",
            "submission_cb_best.csv           2025-02-08 14:37:39  submission_cb_best           complete  0.16985                    \n",
            "submission_cb_cat.csv            2025-02-08 13:56:20  submission_cb_cat            complete  0.21739                    \n",
            "submission_lgb_best.csv          2025-02-07 22:56:58  submission_lgb_best          complete  0.05762                    \n",
            "submission_cb_improved_good.csv  2025-02-07 22:52:36  submission_cb_improved_good  complete  0.02251                    \n",
            "submission_cb_improved.csv       2025-02-07 22:33:30  submission_cb_improved       complete  0.17161                    \n",
            "submission_4_copy_half.csv       2025-02-07 21:57:52  submission_4_copy_half       complete  0.13458                    \n",
            "submission_4_copy_q.csv          2025-02-07 21:55:30  submission_4_copy_q          complete  0.19402                    \n",
            "submission_stacking_q.csv        2025-02-07 21:52:46  submission_stacking_q        complete  0.02852                    \n",
            "submission_stacking.csv          2025-02-07 21:47:48  submission_stacking          complete  0.06192                    \n",
            "submission_6_cb2_2.csv           2025-02-07 17:23:51  submission_6_cb2_2           complete  0.21291                    \n",
            "submission_5.csv                 2025-02-07 11:38:54  submission_5                 complete  0.05796                    \n",
            "submission_4_copy3.csv           2025-02-07 11:36:10  submission_4_copy3           complete  0.22163                    \n",
            "submission_4_copy2.csv           2025-02-06 13:01:31  submission_4_copy2           complete  0.22163                    \n",
            "submission_4_copy.csv            2025-02-05 22:41:57  submission_4_copy            complete  0.22207                    \n",
            "submission_4.csv                 2025-02-04 21:44:51                               complete  0.22163                    \n",
            "submission_3.csv                 2025-02-03 22:53:49                               complete  0.16383                    \n",
            "submission_2.csv                 2025-02-02 23:23:33                               complete  0.17017                    \n",
            "baseline_submission.csv          2025-02-02 22:23:33  Baseline                     complete  0.16337                    \n"
          ]
        }
      ],
      "source": [
        "pred = stacking_model.predict(X_test_transformed)\n",
        "save_and_submit(pred, stacking_model, test_df, \"submission_stacking3\", submit = True)"
      ]
    },
    {
      "cell_type": "markdown",
      "metadata": {},
      "source": [
        "# Результаты"
      ]
    },
    {
      "cell_type": "markdown",
      "metadata": {},
      "source": [
        "Самый лучший результат на Kaggle 0.22163 показан моделью CatBoostRegressor с параметрами по умолчанию.  \n",
        "Все попытки улучшить результат при помощи оптимизации гиперпараметров или других моделей оказались неудачными."
      ]
    },
    {
      "cell_type": "code",
      "execution_count": 523,
      "metadata": {},
      "outputs": [
        {
          "name": "stderr",
          "output_type": "stream",
          "text": [
            "103738.76s - pydevd: Sending message related to process being replaced timed-out after 5 seconds\n"
          ]
        },
        {
          "name": "stdout",
          "output_type": "stream",
          "text": [
            "fileName                         date                 description                  status    publicScore  privateScore  \n",
            "-------------------------------  -------------------  ---------------------------  --------  -----------  ------------  \n",
            "submission_stacking3.csv         2025-02-08 15:25:41  submission_stacking3         complete  0.05148                    \n",
            "submission_stacking3.csv         2025-02-08 15:24:21  submission_stacking3         complete  0.12401                    \n",
            "submission_lgb_best.csv          2025-02-08 15:19:39  submission_lgb_best          complete  0.06066                    \n",
            "submission_stacking2.csv         2025-02-08 14:51:12  submission_stacking2         complete  0.09333                    \n",
            "submission_cb_best.csv           2025-02-08 14:37:39  submission_cb_best           complete  0.16985                    \n",
            "submission_cb_cat.csv            2025-02-08 13:56:20  submission_cb_cat            complete  0.21739                    \n",
            "submission_lgb_best.csv          2025-02-07 22:56:58  submission_lgb_best          complete  0.05762                    \n",
            "submission_cb_improved_good.csv  2025-02-07 22:52:36  submission_cb_improved_good  complete  0.02251                    \n",
            "submission_cb_improved.csv       2025-02-07 22:33:30  submission_cb_improved       complete  0.17161                    \n",
            "submission_4_copy_half.csv       2025-02-07 21:57:52  submission_4_copy_half       complete  0.13458                    \n",
            "submission_4_copy_q.csv          2025-02-07 21:55:30  submission_4_copy_q          complete  0.19402                    \n",
            "submission_stacking_q.csv        2025-02-07 21:52:46  submission_stacking_q        complete  0.02852                    \n",
            "submission_stacking.csv          2025-02-07 21:47:48  submission_stacking          complete  0.06192                    \n",
            "submission_6_cb2_2.csv           2025-02-07 17:23:51  submission_6_cb2_2           complete  0.21291                    \n",
            "submission_5.csv                 2025-02-07 11:38:54  submission_5                 complete  0.05796                    \n",
            "submission_4_copy3.csv           2025-02-07 11:36:10  submission_4_copy3           complete  0.22163                    \n",
            "submission_4_copy2.csv           2025-02-06 13:01:31  submission_4_copy2           complete  0.22163                    \n",
            "submission_4_copy.csv            2025-02-05 22:41:57  submission_4_copy            complete  0.22207                    \n",
            "submission_4.csv                 2025-02-04 21:44:51                               complete  0.22163                    \n",
            "submission_3.csv                 2025-02-03 22:53:49                               complete  0.16383                    \n",
            "submission_2.csv                 2025-02-02 23:23:33                               complete  0.17017                    \n",
            "baseline_submission.csv          2025-02-02 22:23:33  Baseline                     complete  0.16337                    \n"
          ]
        }
      ],
      "source": [
        "!kaggle competitions submissions -c chocolate-rating-prediction-ai-edu"
      ]
    }
  ],
  "metadata": {
    "colab": {
      "include_colab_link": true,
      "provenance": []
    },
    "kernelspec": {
      "display_name": ".venv",
      "language": "python",
      "name": "python3"
    },
    "language_info": {
      "codemirror_mode": {
        "name": "ipython",
        "version": 3
      },
      "file_extension": ".py",
      "mimetype": "text/x-python",
      "name": "python",
      "nbconvert_exporter": "python",
      "pygments_lexer": "ipython3",
      "version": "3.12.8"
    }
  },
  "nbformat": 4,
  "nbformat_minor": 0
}
