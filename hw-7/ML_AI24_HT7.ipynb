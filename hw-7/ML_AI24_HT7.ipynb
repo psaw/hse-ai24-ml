{
  "nbformat": 4,
  "nbformat_minor": 0,
  "metadata": {
    "colab": {
      "provenance": [],
      "include_colab_link": true
    },
    "kernelspec": {
      "name": "python3",
      "display_name": "Python 3"
    },
    "language_info": {
      "name": "python"
    }
  },
  "cells": [
    {
      "cell_type": "markdown",
      "metadata": {
        "id": "view-in-github",
        "colab_type": "text"
      },
      "source": [
        "<a href=\"https://colab.research.google.com/github/Murcha1990/ML_AI24/blob/main/Hometasks/Base/ML_AI24_HT7.ipynb\" target=\"_parent\"><img src=\"https://colab.research.google.com/assets/colab-badge.svg\" alt=\"Open In Colab\"/></a>"
      ]
    },
    {
      "cell_type": "markdown",
      "source": [
        "# **Домашнее задание 7: Fraud Detection Competition**\n",
        "\n",
        "Добро пожаловать на финальное домашнее задание курса! Домашнее задание направлено на систематизацию всех знаний, полученных в процессе учебы.\n",
        "\n",
        "В нём Вы потренируетесь применять навыки построения пайплайнов машинного обучения, приобретенные в курсе от точки разведочного анализа данных до построения и валидации моделей машинного обучения.\n",
        "\n",
        "## **Задача**\n",
        "**Вы будете решать задачу определения фрода:**\n",
        "\n",
        "https://www.kaggle.com/competitions/fraud-detection-24\n",
        "\n",
        "**Вам нужно будет:**\n",
        "- в jupyter notebook провести исследование данных;\n",
        "- в нём же построить модели и оценить их качество;\n",
        "- отправить посылку на Kaggle.\n",
        "\n",
        "Более подробное описание шагов - в ноутбуке ниже.\n",
        "\n",
        "## **Оценивание и баллы**\n",
        "- В EDA и во всей работе будут оцениваться полнота и **выводы**;\n",
        "- При обучении моделей старайтесь обоснованно подходить к их выбору, избегая простого перебора;\n",
        "\n",
        "**Максимальный балл** - 10 (+ бонусы за Kaggle, см. ниже).\n",
        "\n",
        "\n",
        "Мягкий дедлайн (окончание соревнования на Kaggle): **15 марта 23:59**\n"
      ],
      "metadata": {
        "id": "p7Vud7oB5y9q"
      }
    },
    {
      "cell_type": "markdown",
      "source": [
        "# **Базовое решение и пример формирования файла под submission**\n"
      ],
      "metadata": {
        "id": "T1oMvDTqqU3V"
      }
    },
    {
      "cell_type": "code",
      "source": [
        "!wget --no-check-certificate 'https://www.dropbox.com/s/5iuef7c9ljj84t6/train_transaction.csv?dl=0' -O train_transaction.csv\n",
        "!wget --no-check-certificate 'https://www.dropbox.com/s/cmy01z5fw7ohlmd/train_identity.csv?dl=0' -O train_identity.csv\n",
        "!wget --no-check-certificate 'https://www.dropbox.com/s/7thqkuxnwsa7njj/test_transaction.csv?dl=0' -O test_transaction.csv\n",
        "!wget --no-check-certificate 'https://www.dropbox.com/s/b40nvbb9e2usd5w/test_identity.csv?dl=0' -O test_identity.csv\n",
        "!wget --no-check-certificate 'https://www.dropbox.com/s/arkyoz0bel8z4d2/sample_submission.csv?dl=0' -O sample_submission.csv"
      ],
      "metadata": {
        "colab": {
          "base_uri": "https://localhost:8080/"
        },
        "id": "9tPZ6DjAqaW-",
        "outputId": "da044f5a-15d1-426f-89fb-077060794d24"
      },
      "execution_count": null,
      "outputs": [
        {
          "output_type": "stream",
          "name": "stdout",
          "text": [
            "--2025-02-20 09:39:55--  https://www.dropbox.com/s/5iuef7c9ljj84t6/train_transaction.csv?dl=0\n",
            "Resolving www.dropbox.com (www.dropbox.com)... 162.125.2.18, 2620:100:6016:18::a27d:112\n",
            "Connecting to www.dropbox.com (www.dropbox.com)|162.125.2.18|:443... connected.\n",
            "HTTP request sent, awaiting response... 302 Found\n",
            "Location: https://www.dropbox.com/scl/fi/puoen4suxjebjteenuwtm/train_transaction.csv?rlkey=madfflananln1b7qysdq8c54q&dl=0 [following]\n",
            "--2025-02-20 09:39:55--  https://www.dropbox.com/scl/fi/puoen4suxjebjteenuwtm/train_transaction.csv?rlkey=madfflananln1b7qysdq8c54q&dl=0\n",
            "Reusing existing connection to www.dropbox.com:443.\n",
            "HTTP request sent, awaiting response... 302 Found\n",
            "Location: https://ucb34bc770794cbfc3590777eb02.dl.dropboxusercontent.com/cd/0/inline/Ckf_rXRWty1zhhvcJctQm6ev-sOkkxgfzZOjLDgKSGad5jmTaxn6XD89_j3tCEhdEAhOZxdCCsfdWu1RiEREDOZDskgIQnNtbSRQJVEqFGgkdayI_GUYYIPmrcOGkSbqlpW0AUlqa5kCzt07UP9QrX2z/file# [following]\n",
            "--2025-02-20 09:39:56--  https://ucb34bc770794cbfc3590777eb02.dl.dropboxusercontent.com/cd/0/inline/Ckf_rXRWty1zhhvcJctQm6ev-sOkkxgfzZOjLDgKSGad5jmTaxn6XD89_j3tCEhdEAhOZxdCCsfdWu1RiEREDOZDskgIQnNtbSRQJVEqFGgkdayI_GUYYIPmrcOGkSbqlpW0AUlqa5kCzt07UP9QrX2z/file\n",
            "Resolving ucb34bc770794cbfc3590777eb02.dl.dropboxusercontent.com (ucb34bc770794cbfc3590777eb02.dl.dropboxusercontent.com)... 162.125.1.15, 2620:100:6016:15::a27d:10f\n",
            "Connecting to ucb34bc770794cbfc3590777eb02.dl.dropboxusercontent.com (ucb34bc770794cbfc3590777eb02.dl.dropboxusercontent.com)|162.125.1.15|:443... connected.\n",
            "HTTP request sent, awaiting response... 200 OK\n",
            "Length: 483921678 (462M) [text/plain]\n",
            "Saving to: ‘train_transaction.csv’\n",
            "\n",
            "train_transaction.c 100%[===================>] 461.50M   127MB/s    in 3.6s    \n",
            "\n",
            "2025-02-20 09:40:00 (128 MB/s) - ‘train_transaction.csv’ saved [483921678/483921678]\n",
            "\n",
            "--2025-02-20 09:40:00--  https://www.dropbox.com/s/cmy01z5fw7ohlmd/train_identity.csv?dl=0\n",
            "Resolving www.dropbox.com (www.dropbox.com)... 162.125.2.18, 2620:100:6016:18::a27d:112\n",
            "Connecting to www.dropbox.com (www.dropbox.com)|162.125.2.18|:443... connected.\n",
            "HTTP request sent, awaiting response... 302 Found\n",
            "Location: https://www.dropbox.com/scl/fi/by3x8jnqtllqpuh648gum/train_identity.csv?rlkey=mjcnbnj1kyecwl3ar54yxg9fu&dl=0 [following]\n",
            "--2025-02-20 09:40:00--  https://www.dropbox.com/scl/fi/by3x8jnqtllqpuh648gum/train_identity.csv?rlkey=mjcnbnj1kyecwl3ar54yxg9fu&dl=0\n",
            "Reusing existing connection to www.dropbox.com:443.\n",
            "HTTP request sent, awaiting response... 302 Found\n",
            "Location: https://uc8ab1d32a068a2544b8117a0893.dl.dropboxusercontent.com/cd/0/inline/Ckc47qX0JaDPLX9G8cdvjST0O_XhRPYRJkbi_mFQojRHqb7SnSjQBOIPMxV0hv4vMVUYXkShSNG_d3MTVeODDRhlEmSbvm1NVFwGlOAALPXBywbs8e_oTWqQiKLtKPfZSrLRzWjJjbUqGe1I12-EMF2G/file# [following]\n",
            "--2025-02-20 09:40:01--  https://uc8ab1d32a068a2544b8117a0893.dl.dropboxusercontent.com/cd/0/inline/Ckc47qX0JaDPLX9G8cdvjST0O_XhRPYRJkbi_mFQojRHqb7SnSjQBOIPMxV0hv4vMVUYXkShSNG_d3MTVeODDRhlEmSbvm1NVFwGlOAALPXBywbs8e_oTWqQiKLtKPfZSrLRzWjJjbUqGe1I12-EMF2G/file\n",
            "Resolving uc8ab1d32a068a2544b8117a0893.dl.dropboxusercontent.com (uc8ab1d32a068a2544b8117a0893.dl.dropboxusercontent.com)... 162.125.1.15, 2620:100:6016:15::a27d:10f\n",
            "Connecting to uc8ab1d32a068a2544b8117a0893.dl.dropboxusercontent.com (uc8ab1d32a068a2544b8117a0893.dl.dropboxusercontent.com)|162.125.1.15|:443... connected.\n",
            "HTTP request sent, awaiting response... 200 OK\n",
            "Length: 20431928 (19M) [text/plain]\n",
            "Saving to: ‘train_identity.csv’\n",
            "\n",
            "train_identity.csv  100%[===================>]  19.49M  85.4MB/s    in 0.2s    \n",
            "\n",
            "2025-02-20 09:40:02 (85.4 MB/s) - ‘train_identity.csv’ saved [20431928/20431928]\n",
            "\n",
            "--2025-02-20 09:40:02--  https://www.dropbox.com/s/7thqkuxnwsa7njj/test_transaction.csv?dl=0\n",
            "Resolving www.dropbox.com (www.dropbox.com)... 162.125.2.18, 2620:100:6016:18::a27d:112\n",
            "Connecting to www.dropbox.com (www.dropbox.com)|162.125.2.18|:443... connected.\n",
            "HTTP request sent, awaiting response... 302 Found\n",
            "Location: https://www.dropbox.com/scl/fi/1d5b08nurllnljbd5y0g6/test_transaction.csv?rlkey=y8mhfim796c8982xmm7pdtthn&dl=0 [following]\n",
            "--2025-02-20 09:40:02--  https://www.dropbox.com/scl/fi/1d5b08nurllnljbd5y0g6/test_transaction.csv?rlkey=y8mhfim796c8982xmm7pdtthn&dl=0\n",
            "Reusing existing connection to www.dropbox.com:443.\n",
            "HTTP request sent, awaiting response... 302 Found\n",
            "Location: https://uc8e76db4bdecafef05b662084fa.dl.dropboxusercontent.com/cd/0/inline/CkdBEgHOTap-LoMn-_vAAAO063dxSBV_34QnAeyNw8HmhANKCdMFIWNxvKGoCXSehXk0spsG1kOcxyw68yD0cAhlVuU40PAAGE-BJCUdYm_cTu9p112jbjgnXYAF_hxd9ojSwC6X-hb8JueWN6g9pua0/file# [following]\n",
            "--2025-02-20 09:40:02--  https://uc8e76db4bdecafef05b662084fa.dl.dropboxusercontent.com/cd/0/inline/CkdBEgHOTap-LoMn-_vAAAO063dxSBV_34QnAeyNw8HmhANKCdMFIWNxvKGoCXSehXk0spsG1kOcxyw68yD0cAhlVuU40PAAGE-BJCUdYm_cTu9p112jbjgnXYAF_hxd9ojSwC6X-hb8JueWN6g9pua0/file\n",
            "Resolving uc8e76db4bdecafef05b662084fa.dl.dropboxusercontent.com (uc8e76db4bdecafef05b662084fa.dl.dropboxusercontent.com)... 162.125.1.15, 2620:100:6016:15::a27d:10f\n",
            "Connecting to uc8e76db4bdecafef05b662084fa.dl.dropboxusercontent.com (uc8e76db4bdecafef05b662084fa.dl.dropboxusercontent.com)|162.125.1.15|:443... connected.\n",
            "HTTP request sent, awaiting response... 200 OK\n",
            "Length: 199272457 (190M) [text/plain]\n",
            "Saving to: ‘test_transaction.csv’\n",
            "\n",
            "test_transaction.cs 100%[===================>] 190.04M   105MB/s    in 1.8s    \n",
            "\n",
            "2025-02-20 09:40:05 (105 MB/s) - ‘test_transaction.csv’ saved [199272457/199272457]\n",
            "\n",
            "--2025-02-20 09:40:05--  https://www.dropbox.com/s/b40nvbb9e2usd5w/test_identity.csv?dl=0\n",
            "Resolving www.dropbox.com (www.dropbox.com)... 162.125.2.18, 2620:100:6016:18::a27d:112\n",
            "Connecting to www.dropbox.com (www.dropbox.com)|162.125.2.18|:443... connected.\n",
            "HTTP request sent, awaiting response... 302 Found\n",
            "Location: https://www.dropbox.com/scl/fi/jq783s9kwulu6vql75ju1/test_identity.csv?rlkey=yms7ev275avo85bb4tkxa041c&dl=0 [following]\n",
            "--2025-02-20 09:40:05--  https://www.dropbox.com/scl/fi/jq783s9kwulu6vql75ju1/test_identity.csv?rlkey=yms7ev275avo85bb4tkxa041c&dl=0\n",
            "Reusing existing connection to www.dropbox.com:443.\n",
            "HTTP request sent, awaiting response... 302 Found\n",
            "Location: https://uc2220f21dcf04c1d6fba7b23a76.dl.dropboxusercontent.com/cd/0/inline/CkdRVeAKGN9EbhjZTSRBYVq5TJNH87qrawPrw1BJxVoi7UpQYnJcmOy0pwFPZBMt-fIEtRB65pDcyQCG9VLYKEjz5hZ285OBPvJuFIBNkzwHK22Y-QAGVgbWsWy9mSuGTqCZcgaMKKAqcyT3fxYORQGu/file# [following]\n",
            "--2025-02-20 09:40:06--  https://uc2220f21dcf04c1d6fba7b23a76.dl.dropboxusercontent.com/cd/0/inline/CkdRVeAKGN9EbhjZTSRBYVq5TJNH87qrawPrw1BJxVoi7UpQYnJcmOy0pwFPZBMt-fIEtRB65pDcyQCG9VLYKEjz5hZ285OBPvJuFIBNkzwHK22Y-QAGVgbWsWy9mSuGTqCZcgaMKKAqcyT3fxYORQGu/file\n",
            "Resolving uc2220f21dcf04c1d6fba7b23a76.dl.dropboxusercontent.com (uc2220f21dcf04c1d6fba7b23a76.dl.dropboxusercontent.com)... 162.125.1.15, 2620:100:6016:15::a27d:10f\n",
            "Connecting to uc2220f21dcf04c1d6fba7b23a76.dl.dropboxusercontent.com (uc2220f21dcf04c1d6fba7b23a76.dl.dropboxusercontent.com)|162.125.1.15|:443... connected.\n",
            "HTTP request sent, awaiting response... 200 OK\n",
            "Length: 6098016 (5.8M) [text/plain]\n",
            "Saving to: ‘test_identity.csv’\n",
            "\n",
            "test_identity.csv   100%[===================>]   5.82M  --.-KB/s    in 0.07s   \n",
            "\n",
            "2025-02-20 09:40:06 (82.7 MB/s) - ‘test_identity.csv’ saved [6098016/6098016]\n",
            "\n",
            "--2025-02-20 09:40:06--  https://www.dropbox.com/s/arkyoz0bel8z4d2/sample_submission.csv?dl=0\n",
            "Resolving www.dropbox.com (www.dropbox.com)... 162.125.2.18, 2620:100:6016:18::a27d:112\n",
            "Connecting to www.dropbox.com (www.dropbox.com)|162.125.2.18|:443... connected.\n",
            "HTTP request sent, awaiting response... 302 Found\n",
            "Location: https://www.dropbox.com/scl/fi/o90mg3u12uvmqwzyph61o/sample_submission.csv?rlkey=58msbqvp3qb6xht7spi7hnmpw&dl=0 [following]\n",
            "--2025-02-20 09:40:07--  https://www.dropbox.com/scl/fi/o90mg3u12uvmqwzyph61o/sample_submission.csv?rlkey=58msbqvp3qb6xht7spi7hnmpw&dl=0\n",
            "Reusing existing connection to www.dropbox.com:443.\n",
            "HTTP request sent, awaiting response... 302 Found\n",
            "Location: https://ucbebf8ea129feac9c14828de947.dl.dropboxusercontent.com/cd/0/inline/Ckfxdj0wn7RJee43EHCepdvLexHQvLUePj6E0jzh6HfUMrCIJ11y4KISPrnpRJq8hCfV8nQjQqtVOXdAgIsvFJJdfxeJM9RWhspRr9CkGyJyH336wMom2M7qHVDMcWWyyGhLS8DxrEGFl-niDBne6QD0/file# [following]\n",
            "--2025-02-20 09:40:07--  https://ucbebf8ea129feac9c14828de947.dl.dropboxusercontent.com/cd/0/inline/Ckfxdj0wn7RJee43EHCepdvLexHQvLUePj6E0jzh6HfUMrCIJ11y4KISPrnpRJq8hCfV8nQjQqtVOXdAgIsvFJJdfxeJM9RWhspRr9CkGyJyH336wMom2M7qHVDMcWWyyGhLS8DxrEGFl-niDBne6QD0/file\n",
            "Resolving ucbebf8ea129feac9c14828de947.dl.dropboxusercontent.com (ucbebf8ea129feac9c14828de947.dl.dropboxusercontent.com)... 162.125.1.15, 2620:100:6016:15::a27d:10f\n",
            "Connecting to ucbebf8ea129feac9c14828de947.dl.dropboxusercontent.com (ucbebf8ea129feac9c14828de947.dl.dropboxusercontent.com)|162.125.1.15|:443... connected.\n",
            "HTTP request sent, awaiting response... 200 OK\n",
            "Length: 2075794 (2.0M) [text/plain]\n",
            "Saving to: ‘sample_submission.csv’\n",
            "\n",
            "sample_submission.c 100%[===================>]   1.98M  5.16MB/s    in 0.4s    \n",
            "\n",
            "2025-02-20 09:40:08 (5.16 MB/s) - ‘sample_submission.csv’ saved [2075794/2075794]\n",
            "\n"
          ]
        }
      ]
    },
    {
      "cell_type": "code",
      "source": [
        "!pip install catboost -q"
      ],
      "metadata": {
        "id": "YrOxS8n8q2v1"
      },
      "execution_count": null,
      "outputs": []
    },
    {
      "cell_type": "code",
      "source": [
        "from catboost import CatBoostClassifier\n",
        "import pandas as pd\n",
        "import os\n",
        "from tqdm import tqdm\n",
        "\n",
        "INPUT_DIR = '.'\n",
        "\n",
        "train_transaction = pd.read_csv(os.path.join(INPUT_DIR, 'train_transaction.csv'))\n",
        "train_identity = pd.read_csv(os.path.join(INPUT_DIR, 'train_identity.csv'))\n",
        "test_transaction = pd.read_csv(os.path.join(INPUT_DIR, 'test_transaction.csv'))\n",
        "test_identity = pd.read_csv(os.path.join(INPUT_DIR, 'test_identity.csv'))\n",
        "sample_submission = pd.read_csv(os.path.join(INPUT_DIR, 'sample_submission.csv'))\n",
        "\n",
        "df_train = train_transaction.merge(train_identity, how='left', on='TransactionID')\n",
        "\n",
        "df_test = test_transaction.merge(test_identity, how='left', on='TransactionID')"
      ],
      "metadata": {
        "id": "IdCmv4IoqxHJ"
      },
      "execution_count": null,
      "outputs": []
    },
    {
      "cell_type": "code",
      "source": [
        "df_train.drop(['TransactionID', 'TransactionDT'], axis=1, inplace=True)\n",
        "df_test.drop(['TransactionID', 'TransactionDT'], axis=1, inplace=True)\n",
        "df_train.shape, df_test.shape"
      ],
      "metadata": {
        "colab": {
          "base_uri": "https://localhost:8080/"
        },
        "id": "alfrJEFzrTp6",
        "outputId": "b4e8debe-4f72-4608-f706-c5ee872fa5de"
      },
      "execution_count": null,
      "outputs": [
        {
          "output_type": "execute_result",
          "data": {
            "text/plain": [
              "((417559, 432), (172981, 431))"
            ]
          },
          "metadata": {},
          "execution_count": 2
        }
      ]
    },
    {
      "cell_type": "code",
      "source": [
        "object_cols = []\n",
        "for idx, col in tqdm(enumerate(df_train.columns.drop('isFraud'))):\n",
        "    if df_train[col].dtype == 'O':\n",
        "      object_cols.append(idx)"
      ],
      "metadata": {
        "colab": {
          "base_uri": "https://localhost:8080/"
        },
        "id": "B24-pJJDsijB",
        "outputId": "cf80ff41-a810-4675-de5d-6a049300ade1"
      },
      "execution_count": null,
      "outputs": [
        {
          "output_type": "stream",
          "name": "stderr",
          "text": [
            "431it [00:00, 29656.56it/s]\n"
          ]
        }
      ]
    },
    {
      "cell_type": "code",
      "source": [
        "X_train = df_train.drop('isFraud', axis=1)\n",
        "X_train = X_train.fillna('')\n",
        "y_train = df_train['isFraud'].values\n",
        "\n",
        "cb = CatBoostClassifier(iterations=3)\n",
        "cb.fit(X_train, y_train, object_cols, )"
      ],
      "metadata": {
        "colab": {
          "base_uri": "https://localhost:8080/"
        },
        "id": "mkAxbs_qtC-b",
        "outputId": "34b8bd7f-019d-46db-a236-fb1bab7ca4c5"
      },
      "execution_count": null,
      "outputs": [
        {
          "output_type": "stream",
          "name": "stdout",
          "text": [
            "Learning rate set to 0.5\n",
            "0:\tlearn: 0.2082395\ttotal: 1.44s\tremaining: 2.87s\n",
            "1:\tlearn: 0.1360790\ttotal: 2.54s\tremaining: 1.27s\n",
            "2:\tlearn: 0.1180984\ttotal: 4.17s\tremaining: 0us\n"
          ]
        },
        {
          "output_type": "execute_result",
          "data": {
            "text/plain": [
              "<catboost.core.CatBoostClassifier at 0x79d665c6c6d0>"
            ]
          },
          "metadata": {},
          "execution_count": 4
        }
      ]
    },
    {
      "cell_type": "code",
      "source": [
        "predictions = cb.predict_proba(df_test.fillna(''))"
      ],
      "metadata": {
        "id": "a0y2SH1yvKy2"
      },
      "execution_count": null,
      "outputs": []
    },
    {
      "cell_type": "code",
      "source": [
        "sub = pd.DataFrame({'TransactionID': sample_submission['TransactionID'], 'isFraud': predictions[:, 0]})\n",
        "sub.head()"
      ],
      "metadata": {
        "colab": {
          "base_uri": "https://localhost:8080/",
          "height": 206
        },
        "id": "hGl-RlnSv0Vz",
        "outputId": "ddbe85dd-76e6-41b8-b08b-dfed4fad7d0b"
      },
      "execution_count": null,
      "outputs": [
        {
          "output_type": "execute_result",
          "data": {
            "text/plain": [
              "   TransactionID   isFraud\n",
              "0        3404559  0.978714\n",
              "1        3404560  0.935724\n",
              "2        3404561  0.946864\n",
              "3        3404562  0.978714\n",
              "4        3404563  0.970637"
            ],
            "text/html": [
              "\n",
              "  <div id=\"df-58a0790d-6386-46a3-867b-be623671506f\" class=\"colab-df-container\">\n",
              "    <div>\n",
              "<style scoped>\n",
              "    .dataframe tbody tr th:only-of-type {\n",
              "        vertical-align: middle;\n",
              "    }\n",
              "\n",
              "    .dataframe tbody tr th {\n",
              "        vertical-align: top;\n",
              "    }\n",
              "\n",
              "    .dataframe thead th {\n",
              "        text-align: right;\n",
              "    }\n",
              "</style>\n",
              "<table border=\"1\" class=\"dataframe\">\n",
              "  <thead>\n",
              "    <tr style=\"text-align: right;\">\n",
              "      <th></th>\n",
              "      <th>TransactionID</th>\n",
              "      <th>isFraud</th>\n",
              "    </tr>\n",
              "  </thead>\n",
              "  <tbody>\n",
              "    <tr>\n",
              "      <th>0</th>\n",
              "      <td>3404559</td>\n",
              "      <td>0.978714</td>\n",
              "    </tr>\n",
              "    <tr>\n",
              "      <th>1</th>\n",
              "      <td>3404560</td>\n",
              "      <td>0.935724</td>\n",
              "    </tr>\n",
              "    <tr>\n",
              "      <th>2</th>\n",
              "      <td>3404561</td>\n",
              "      <td>0.946864</td>\n",
              "    </tr>\n",
              "    <tr>\n",
              "      <th>3</th>\n",
              "      <td>3404562</td>\n",
              "      <td>0.978714</td>\n",
              "    </tr>\n",
              "    <tr>\n",
              "      <th>4</th>\n",
              "      <td>3404563</td>\n",
              "      <td>0.970637</td>\n",
              "    </tr>\n",
              "  </tbody>\n",
              "</table>\n",
              "</div>\n",
              "    <div class=\"colab-df-buttons\">\n",
              "\n",
              "  <div class=\"colab-df-container\">\n",
              "    <button class=\"colab-df-convert\" onclick=\"convertToInteractive('df-58a0790d-6386-46a3-867b-be623671506f')\"\n",
              "            title=\"Convert this dataframe to an interactive table.\"\n",
              "            style=\"display:none;\">\n",
              "\n",
              "  <svg xmlns=\"http://www.w3.org/2000/svg\" height=\"24px\" viewBox=\"0 -960 960 960\">\n",
              "    <path d=\"M120-120v-720h720v720H120Zm60-500h600v-160H180v160Zm220 220h160v-160H400v160Zm0 220h160v-160H400v160ZM180-400h160v-160H180v160Zm440 0h160v-160H620v160ZM180-180h160v-160H180v160Zm440 0h160v-160H620v160Z\"/>\n",
              "  </svg>\n",
              "    </button>\n",
              "\n",
              "  <style>\n",
              "    .colab-df-container {\n",
              "      display:flex;\n",
              "      gap: 12px;\n",
              "    }\n",
              "\n",
              "    .colab-df-convert {\n",
              "      background-color: #E8F0FE;\n",
              "      border: none;\n",
              "      border-radius: 50%;\n",
              "      cursor: pointer;\n",
              "      display: none;\n",
              "      fill: #1967D2;\n",
              "      height: 32px;\n",
              "      padding: 0 0 0 0;\n",
              "      width: 32px;\n",
              "    }\n",
              "\n",
              "    .colab-df-convert:hover {\n",
              "      background-color: #E2EBFA;\n",
              "      box-shadow: 0px 1px 2px rgba(60, 64, 67, 0.3), 0px 1px 3px 1px rgba(60, 64, 67, 0.15);\n",
              "      fill: #174EA6;\n",
              "    }\n",
              "\n",
              "    .colab-df-buttons div {\n",
              "      margin-bottom: 4px;\n",
              "    }\n",
              "\n",
              "    [theme=dark] .colab-df-convert {\n",
              "      background-color: #3B4455;\n",
              "      fill: #D2E3FC;\n",
              "    }\n",
              "\n",
              "    [theme=dark] .colab-df-convert:hover {\n",
              "      background-color: #434B5C;\n",
              "      box-shadow: 0px 1px 3px 1px rgba(0, 0, 0, 0.15);\n",
              "      filter: drop-shadow(0px 1px 2px rgba(0, 0, 0, 0.3));\n",
              "      fill: #FFFFFF;\n",
              "    }\n",
              "  </style>\n",
              "\n",
              "    <script>\n",
              "      const buttonEl =\n",
              "        document.querySelector('#df-58a0790d-6386-46a3-867b-be623671506f button.colab-df-convert');\n",
              "      buttonEl.style.display =\n",
              "        google.colab.kernel.accessAllowed ? 'block' : 'none';\n",
              "\n",
              "      async function convertToInteractive(key) {\n",
              "        const element = document.querySelector('#df-58a0790d-6386-46a3-867b-be623671506f');\n",
              "        const dataTable =\n",
              "          await google.colab.kernel.invokeFunction('convertToInteractive',\n",
              "                                                    [key], {});\n",
              "        if (!dataTable) return;\n",
              "\n",
              "        const docLinkHtml = 'Like what you see? Visit the ' +\n",
              "          '<a target=\"_blank\" href=https://colab.research.google.com/notebooks/data_table.ipynb>data table notebook</a>'\n",
              "          + ' to learn more about interactive tables.';\n",
              "        element.innerHTML = '';\n",
              "        dataTable['output_type'] = 'display_data';\n",
              "        await google.colab.output.renderOutput(dataTable, element);\n",
              "        const docLink = document.createElement('div');\n",
              "        docLink.innerHTML = docLinkHtml;\n",
              "        element.appendChild(docLink);\n",
              "      }\n",
              "    </script>\n",
              "  </div>\n",
              "\n",
              "\n",
              "<div id=\"df-afdf662a-5019-46ec-9568-14978bdc050e\">\n",
              "  <button class=\"colab-df-quickchart\" onclick=\"quickchart('df-afdf662a-5019-46ec-9568-14978bdc050e')\"\n",
              "            title=\"Suggest charts\"\n",
              "            style=\"display:none;\">\n",
              "\n",
              "<svg xmlns=\"http://www.w3.org/2000/svg\" height=\"24px\"viewBox=\"0 0 24 24\"\n",
              "     width=\"24px\">\n",
              "    <g>\n",
              "        <path d=\"M19 3H5c-1.1 0-2 .9-2 2v14c0 1.1.9 2 2 2h14c1.1 0 2-.9 2-2V5c0-1.1-.9-2-2-2zM9 17H7v-7h2v7zm4 0h-2V7h2v10zm4 0h-2v-4h2v4z\"/>\n",
              "    </g>\n",
              "</svg>\n",
              "  </button>\n",
              "\n",
              "<style>\n",
              "  .colab-df-quickchart {\n",
              "      --bg-color: #E8F0FE;\n",
              "      --fill-color: #1967D2;\n",
              "      --hover-bg-color: #E2EBFA;\n",
              "      --hover-fill-color: #174EA6;\n",
              "      --disabled-fill-color: #AAA;\n",
              "      --disabled-bg-color: #DDD;\n",
              "  }\n",
              "\n",
              "  [theme=dark] .colab-df-quickchart {\n",
              "      --bg-color: #3B4455;\n",
              "      --fill-color: #D2E3FC;\n",
              "      --hover-bg-color: #434B5C;\n",
              "      --hover-fill-color: #FFFFFF;\n",
              "      --disabled-bg-color: #3B4455;\n",
              "      --disabled-fill-color: #666;\n",
              "  }\n",
              "\n",
              "  .colab-df-quickchart {\n",
              "    background-color: var(--bg-color);\n",
              "    border: none;\n",
              "    border-radius: 50%;\n",
              "    cursor: pointer;\n",
              "    display: none;\n",
              "    fill: var(--fill-color);\n",
              "    height: 32px;\n",
              "    padding: 0;\n",
              "    width: 32px;\n",
              "  }\n",
              "\n",
              "  .colab-df-quickchart:hover {\n",
              "    background-color: var(--hover-bg-color);\n",
              "    box-shadow: 0 1px 2px rgba(60, 64, 67, 0.3), 0 1px 3px 1px rgba(60, 64, 67, 0.15);\n",
              "    fill: var(--button-hover-fill-color);\n",
              "  }\n",
              "\n",
              "  .colab-df-quickchart-complete:disabled,\n",
              "  .colab-df-quickchart-complete:disabled:hover {\n",
              "    background-color: var(--disabled-bg-color);\n",
              "    fill: var(--disabled-fill-color);\n",
              "    box-shadow: none;\n",
              "  }\n",
              "\n",
              "  .colab-df-spinner {\n",
              "    border: 2px solid var(--fill-color);\n",
              "    border-color: transparent;\n",
              "    border-bottom-color: var(--fill-color);\n",
              "    animation:\n",
              "      spin 1s steps(1) infinite;\n",
              "  }\n",
              "\n",
              "  @keyframes spin {\n",
              "    0% {\n",
              "      border-color: transparent;\n",
              "      border-bottom-color: var(--fill-color);\n",
              "      border-left-color: var(--fill-color);\n",
              "    }\n",
              "    20% {\n",
              "      border-color: transparent;\n",
              "      border-left-color: var(--fill-color);\n",
              "      border-top-color: var(--fill-color);\n",
              "    }\n",
              "    30% {\n",
              "      border-color: transparent;\n",
              "      border-left-color: var(--fill-color);\n",
              "      border-top-color: var(--fill-color);\n",
              "      border-right-color: var(--fill-color);\n",
              "    }\n",
              "    40% {\n",
              "      border-color: transparent;\n",
              "      border-right-color: var(--fill-color);\n",
              "      border-top-color: var(--fill-color);\n",
              "    }\n",
              "    60% {\n",
              "      border-color: transparent;\n",
              "      border-right-color: var(--fill-color);\n",
              "    }\n",
              "    80% {\n",
              "      border-color: transparent;\n",
              "      border-right-color: var(--fill-color);\n",
              "      border-bottom-color: var(--fill-color);\n",
              "    }\n",
              "    90% {\n",
              "      border-color: transparent;\n",
              "      border-bottom-color: var(--fill-color);\n",
              "    }\n",
              "  }\n",
              "</style>\n",
              "\n",
              "  <script>\n",
              "    async function quickchart(key) {\n",
              "      const quickchartButtonEl =\n",
              "        document.querySelector('#' + key + ' button');\n",
              "      quickchartButtonEl.disabled = true;  // To prevent multiple clicks.\n",
              "      quickchartButtonEl.classList.add('colab-df-spinner');\n",
              "      try {\n",
              "        const charts = await google.colab.kernel.invokeFunction(\n",
              "            'suggestCharts', [key], {});\n",
              "      } catch (error) {\n",
              "        console.error('Error during call to suggestCharts:', error);\n",
              "      }\n",
              "      quickchartButtonEl.classList.remove('colab-df-spinner');\n",
              "      quickchartButtonEl.classList.add('colab-df-quickchart-complete');\n",
              "    }\n",
              "    (() => {\n",
              "      let quickchartButtonEl =\n",
              "        document.querySelector('#df-afdf662a-5019-46ec-9568-14978bdc050e button');\n",
              "      quickchartButtonEl.style.display =\n",
              "        google.colab.kernel.accessAllowed ? 'block' : 'none';\n",
              "    })();\n",
              "  </script>\n",
              "</div>\n",
              "    </div>\n",
              "  </div>\n"
            ],
            "application/vnd.google.colaboratory.intrinsic+json": {
              "type": "dataframe",
              "variable_name": "sub"
            }
          },
          "metadata": {},
          "execution_count": 12
        }
      ]
    },
    {
      "cell_type": "code",
      "source": [
        "# Сохранение submission\n",
        "sub.to_csv('submission_baseline.csv', index=False)"
      ],
      "metadata": {
        "id": "c-NE7v4_v7jb"
      },
      "execution_count": null,
      "outputs": []
    },
    {
      "cell_type": "markdown",
      "source": [
        "### **Примечания:**\n",
        "\n",
        "**1. Оценка качества и Submission File**\n",
        "- Ответом является число от 0 до 1, метрикой качества - AUC-ROC.\n",
        "- Структура Submission File:\n",
        " - для каждого значения *TransactionID* в тестовых данных вы должны предсказать **вероятность** для столбца *isFraud*.\n",
        " - в файле у вас должно быть две колонки: `TransactionID` и`isFraud`  **для каждой транзакции в датасете**.\n",
        "\n",
        "**2. Объем данных**\n",
        "\n",
        "Поскольку набор данных объемный, могут быть проблемы с переполнением памяти в Collab. Для решения проблемы можете использовать функцию из [этого ноутбука](https://colab.research.google.com/drive/18u75eyFGEoyeWJ_MbsLkcPa6gv2tNI8G#scrollTo=V2L1Nl5CTMMl), разобравшись, что она делает с данными."
      ],
      "metadata": {
        "id": "ES0ZdLnfvPm-"
      }
    },
    {
      "cell_type": "markdown",
      "source": [
        "# **Задание 1 (2 балла)**\n",
        "\n",
        "Проведите EDA (разведочный анализ данных):\n",
        "* проанализируйте признаки, их особенности и связь с целевой переменной\n",
        "* проанализируйте целевую переменную\n",
        "* оцените степень попарной взаимосвязи признаков, а также связи признаков и целевой переменной\n",
        "* по результатам исследований сделайте необходимую обработку данных (удаление дублей, работа с пропусками, с категориальными столбцами (если они есть), работа с аномалиями, другие преобразования признаков)\n",
        "\n",
        "Важно, что EDA всегда сопровождается выводами - не забудьте об этом."
      ],
      "metadata": {
        "id": "_h-Grgsp64a_"
      }
    },
    {
      "cell_type": "code",
      "execution_count": null,
      "metadata": {
        "id": "6moN1PRa5wih"
      },
      "outputs": [],
      "source": [
        "# ваш EDA здесь"
      ]
    },
    {
      "cell_type": "markdown",
      "source": [
        "# **Задание 2 (3 балла)**\n",
        "\n",
        "Обучите несколько ML-моделей для решения поставленной задачи.\n",
        "Оцените их качество двумя способами:\n",
        "\n",
        "1) на кросс-валидации\n",
        "\n",
        "2) на лидерборде\n",
        "\n",
        "Подберите число фолдов на кросс-валидации так, чтобы метрики, которые вы видите, были максимально близки на кросс-валидации и на лидерборде.\n",
        "\n",
        "По результатам экспериментов постройте таблицу:\n",
        "* в каждой строке таблицы - результаты одной модели\n",
        "* по столбцам: качество на кросс-валидации, качество на лидерборде, модель с гиперпараметрами\n",
        "Полученную таблицу вставьте картинкой прямо в ноутбук после ячеек с кодом. Сделайте текстовые выводы."
      ],
      "metadata": {
        "id": "vWNI5i4S7VzN"
      }
    },
    {
      "cell_type": "code",
      "source": [
        "# ваши модели здесь"
      ],
      "metadata": {
        "id": "4yEMdMQv77og"
      },
      "execution_count": null,
      "outputs": []
    },
    {
      "cell_type": "markdown",
      "source": [
        "# **Задание 3 (2 балла)**\n",
        "\n",
        "Попробуйте подойти к задаче как к поиску аномалий.\n",
        "\n",
        "1) Поищите аномалии (фрод) различными рассмотренными в курсе методами и сделайте прогноз на тестовых данных.\n",
        "\n",
        "Результатом также будет таблица:\n",
        "* по строкам - методы поиска аномалий\n",
        "* по столбцам - качество вашего решения на leaderboard\n",
        "\n",
        "2) Попробуйте встроить поиск аномалий и их удаление в ML-пайплайн: найдите аномалии и что-нибудь с ними сделайте до обучения моделей (можно удалить их, а можно использовать в качестве дополнительных признаков - попробуйте разные стратегии). Результат проверьте на кросс-валидации и на лидерборде, сделайте выводы."
      ],
      "metadata": {
        "id": "qYedT0TJ79RC"
      }
    },
    {
      "cell_type": "code",
      "source": [
        "# ваша работа с аномалиями здесь"
      ],
      "metadata": {
        "id": "yjfDSPh-7-dh"
      },
      "execution_count": null,
      "outputs": []
    },
    {
      "cell_type": "markdown",
      "source": [
        "# **Задание 4 (1 балл)**\n",
        "\n",
        "Сделайте кластеризацию различными способами. Результаты кластеризации используйте для улучшения ML-решений:\n",
        "\n",
        "1) Номера кластеров закодируйте (OHE или target-encoding) и добавьте как новые признаки\n",
        "\n",
        "2) При использовании DBSCAN / HDBSCAN предсказанный шум можно трактовать как найденную аномалию и также добавить ее как новый признак\n",
        "\n",
        "Проведите различные эксперименты. Проверьте как эти подходы влияют на качество прогнозов по кросс-валидации и на лидерборде, сделайте выводы."
      ],
      "metadata": {
        "id": "LWokFc_n8qSR"
      }
    },
    {
      "cell_type": "code",
      "source": [
        "# ваши эксперименты с кластеризацией здесь"
      ],
      "metadata": {
        "id": "aS2aMVfg9G1h"
      },
      "execution_count": null,
      "outputs": []
    },
    {
      "cell_type": "markdown",
      "source": [
        "## **Задание 5 (1 балл)**\n",
        "\n",
        "Примените какой-нибудь (один любой) AutoML фреймворк для решения поставленной задачи.\n",
        "\n",
        "Отправьте AutoML-прогноз на kaggle и посмотрите на качество модели. Сделайте текстовые выводы."
      ],
      "metadata": {
        "id": "-cLx2cL--7MM"
      }
    },
    {
      "cell_type": "code",
      "source": [
        "# ваш AutoML здесь"
      ],
      "metadata": {
        "id": "Rhw85LDV_QJn"
      },
      "execution_count": null,
      "outputs": []
    },
    {
      "cell_type": "markdown",
      "source": [
        "# **Задание 6 (1 балл)**\n",
        "\n",
        "Весь курс мы работали в Google Colab. Но всегда должны быть запасные варианты, где Вы будете обучать модели.\n",
        "\n",
        "Среди вариантов есть:\n",
        "* ваша локальная машина\n",
        "* kaggle notebooks\n",
        "* yandex cloud\n",
        "и другие.\n",
        "\n",
        "Кроме привычного Google Colab выберите из списка выше один любой альтернативный вариант и проведите эксперимент:\n",
        "\n",
        "* Прогоните ваш лучший по качеству по результатам заданий 2-4 ML-пайплайн заново в Google Colab и с помощью библиотек (например, при помощи библиотеки time) замерьте время обучения и отдельно время инференса на тестовых данных\n",
        "\n",
        "* Прогоните этот пайплайн на выбранном альтернативном сервисе/локальной машине и также замерьте время обучения и инференса.\n",
        "\n",
        "Текстом напишите выводы: опишите, какое альтернативное место для обучения моделей Вы использовали? Прикрепите прямо в ноутбук скриншот с экраном кода в альтернативном сервисе/на локальной машине. Также в виде таблицы приведите сравнение времени обучения и инференса в колабе и в альтернативном месте. Сделайте выводы."
      ],
      "metadata": {
        "id": "mxUr8jaG9JxA"
      }
    },
    {
      "cell_type": "code",
      "source": [
        "# ваши эксперименты здесь"
      ],
      "metadata": {
        "id": "Os6aMaqS-MjX"
      },
      "execution_count": null,
      "outputs": []
    },
    {
      "cell_type": "markdown",
      "source": [
        "# **Бонус: за Kaggle и стремление к хорошим скорам (2 балла)**\n",
        "\n",
        "В этом домашнем задании Ваша цель - не просто выполнить шаги выше, но и построить максимально хорошую по качеству модель.\n",
        "\n",
        "**К 10 вы можете получить до двух дополнительных баллов:**\n",
        "\n",
        "* За попадание в топ-20% на private leaderboard — +1 дополнительный балл к оценке\n",
        "* За попадание в топ-5 мест на private leaderboard — + еще один дополнительный балл к оценке (то есть суммарно 2 дополнительных балла)\n",
        "\n",
        "**ВАЖНО!!!**\n",
        "\n",
        "Эти баллы ставятся до мягкого дедлайна по соревнованию. После мягкого дедлайна лидерборд не обновляется, и дополнительные баллы не ставятся.\n",
        "\n",
        "Успехов!"
      ],
      "metadata": {
        "id": "r-CI3PL9-P45"
      }
    },
    {
      "cell_type": "code",
      "source": [
        "# не забудьте прикрепить скриншоты лидерборда, пожалуйста"
      ],
      "metadata": {
        "id": "BywMmnkB-s3w"
      },
      "execution_count": null,
      "outputs": []
    }
  ]
}