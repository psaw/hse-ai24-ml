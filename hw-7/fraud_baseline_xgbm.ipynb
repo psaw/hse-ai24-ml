{
  "cells": [
    {
      "cell_type": "code",
      "execution_count": 1,
      "metadata": {
        "id": "sTl1xl6pRR5t"
      },
      "outputs": [],
      "source": [
        "import catboost as cb\n",
        "import matplotlib.pyplot as plt\n",
        "import numpy as np\n",
        "import os\n",
        "import pandas as pd\n",
        "import seaborn as sns\n",
        "from sklearn.metrics import roc_auc_score\n",
        "from sklearn.preprocessing import LabelEncoder\n",
        "from tqdm import tqdm\n",
        "\n",
        "sns.set()\n",
        "\n",
        "%matplotlib inline"
      ]
    },
    {
      "cell_type": "code",
      "execution_count": 2,
      "metadata": {
        "id": "Iz376nU4RqnN"
      },
      "outputs": [],
      "source": [
        "def reduce_mem_usage(df):\n",
        "    NAlist = [] # Keeps track of columns that have missing values filled in.\n",
        "    for col in tqdm(df.columns):\n",
        "        if df[col].dtype != object:  # Exclude strings\n",
        "\n",
        "            # make variables for Int, max and min\n",
        "            IsInt = False\n",
        "            col_max_value = df[col].max()\n",
        "            col_min_value = df[col].min()\n",
        "\n",
        "            # Integer does not support NA, therefore, NA needs to be filled\n",
        "            if not np.isfinite(df[col]).all():\n",
        "                NAlist.append(col)\n",
        "                df[col] = df[col].fillna(col_min_value - 1)\n",
        "                col_min_value -= 1\n",
        "\n",
        "            # test if column can be converted to an integer\n",
        "            col_as_int = df[col].fillna(0).astype(np.int64)\n",
        "            diff = (df[col] - col_as_int)\n",
        "            diff = diff.sum()\n",
        "            if np.abs(diff) < 0.01:\n",
        "                IsInt = True\n",
        "\n",
        "            # Make Integer/unsigned Integer datatypes\n",
        "            if IsInt:\n",
        "                try:\n",
        "                    if col_min_value >= 0:\n",
        "                        if col_max_value < 255:\n",
        "                            df[col] = df[col].astype(np.uint8)\n",
        "                        elif col_max_value < 65535:\n",
        "                            df[col] = df[col].astype(np.uint16)\n",
        "                        elif col_max_value < 4294967295:\n",
        "                            df[col] = df[col].astype(np.uint32)\n",
        "                        else:\n",
        "                            df[col] = df[col].astype(np.uint64)\n",
        "                    else:\n",
        "                        if col_min_value > np.iinfo(np.int8).min and col_max_value < np.iinfo(np.int8).max:\n",
        "                            df[col] = df[col].astype(np.int8)\n",
        "                        elif col_min_value > np.iinfo(np.int16).min and col_max_value < np.iinfo(np.int16).max:\n",
        "                            df[col] = df[col].astype(np.int16)\n",
        "                        elif col_min_value > np.iinfo(np.int32).min and col_max_value < np.iinfo(np.int32).max:\n",
        "                            df[col] = df[col].astype(np.int32)\n",
        "                        elif col_min_value > np.iinfo(np.int64).min and col_max_value < np.iinfo(np.int64).max:\n",
        "                            df[col] = df[col].astype(np.int64)\n",
        "                except Exception as e:\n",
        "                    print(f'Ошибка конвертации {col}: {e}')\n",
        "\n",
        "            # Make float datatypes 32 bit\n",
        "            else:\n",
        "                df[col] = df[col].astype(np.float32)\n",
        "\n",
        "    return df, NAlist"
      ]
    },
    {
      "cell_type": "code",
      "execution_count": 3,
      "metadata": {
        "colab": {
          "base_uri": "https://localhost:8080/",
          "height": 51
        },
        "id": "2AEkYpqqRoN1",
        "outputId": "5cbb817f-678d-40bf-b3eb-a96590d34490"
      },
      "outputs": [],
      "source": [
        "INPUT_DIR = 'data'\n",
        "\n",
        "train_transaction = pd.read_csv(os.path.join(INPUT_DIR, 'train_transaction.csv'))\n",
        "train_identity = pd.read_csv(os.path.join(INPUT_DIR, 'train_identity.csv'))\n",
        "test_transaction = pd.read_csv(os.path.join(INPUT_DIR, 'test_transaction.csv'))\n",
        "test_identity = pd.read_csv(os.path.join(INPUT_DIR, 'test_identity.csv'))\n",
        "sample_submission = pd.read_csv(os.path.join(INPUT_DIR, 'sample_submission.csv'))\n"
      ]
    },
    {
      "cell_type": "code",
      "execution_count": 4,
      "metadata": {},
      "outputs": [
        {
          "name": "stderr",
          "output_type": "stream",
          "text": [
            "100%|██████████| 434/434 [00:02<00:00, 195.20it/s]\n",
            "100%|██████████| 433/433 [00:00<00:00, 659.44it/s]\n"
          ]
        }
      ],
      "source": [
        "df_train = train_transaction.merge(train_identity, how='left', on='TransactionID')\n",
        "del train_transaction, train_identity\n",
        "df_train, df_train_NAlist = reduce_mem_usage(df_train)\n",
        "\n",
        "df_test = test_transaction.merge(test_identity, how='left', on='TransactionID')\n",
        "del test_transaction, test_identity\n",
        "df_test, df_test_NAlist = reduce_mem_usage(df_test)"
      ]
    },
    {
      "cell_type": "code",
      "execution_count": 5,
      "metadata": {},
      "outputs": [
        {
          "name": "stdout",
          "output_type": "stream",
          "text": [
            "<class 'pandas.core.frame.DataFrame'>\n",
            "RangeIndex: 417559 entries, 0 to 417558\n",
            "Columns: 434 entries, TransactionID to DeviceInfo\n",
            "dtypes: float32(80), int16(30), int8(202), object(31), uint16(22), uint32(3), uint8(66)\n",
            "memory usage: 379.1+ MB\n",
            "None\n",
            "<class 'pandas.core.frame.DataFrame'>\n",
            "RangeIndex: 172981 entries, 0 to 172980\n",
            "Columns: 433 entries, TransactionID to DeviceInfo\n",
            "dtypes: float32(78), int16(40), int8(229), object(31), uint16(24), uint32(3), uint8(28)\n",
            "memory usage: 157.9+ MB\n",
            "None\n"
          ]
        }
      ],
      "source": [
        "print(df_train.info())\n",
        "print(df_test.info())"
      ]
    },
    {
      "cell_type": "markdown",
      "metadata": {
        "id": "9erMcVENSZQ8"
      },
      "source": [
        "В данных есть пропуски:"
      ]
    },
    {
      "cell_type": "code",
      "execution_count": 6,
      "metadata": {
        "colab": {
          "base_uri": "https://localhost:8080/",
          "height": 51
        },
        "id": "U07plDYGSVGy",
        "outputId": "54b0f195-3f39-4cf4-a301-69e1393c038c"
      },
      "outputs": [
        {
          "name": "stdout",
          "output_type": "stream",
          "text": [
            "Missing data in train: 4.47002%\n",
            "Missing data in test: 4.33051%\n"
          ]
        }
      ],
      "source": [
        "print('Missing data in train: {:.5f}%'.format(df_train.isnull().sum().sum() / (df_train.shape[0] * df_train.shape[1]) * 100))\n",
        "print('Missing data in test: {:.5f}%'.format(df_test.isnull().sum().sum() / (df_test.shape[0] * df_test.shape[1]) * 100))"
      ]
    },
    {
      "cell_type": "markdown",
      "metadata": {
        "id": "UZkF-2XcScua"
      },
      "source": [
        "Заполним пропуски в столбцах, где значения выражаются числами - `-1`, а где строками - `'unseen_category'`."
      ]
    },
    {
      "cell_type": "code",
      "execution_count": 11,
      "metadata": {
        "colab": {
          "base_uri": "https://localhost:8080/",
          "height": 51
        },
        "id": "xlZJZWIfSbFl",
        "outputId": "7ea360d3-4c7b-49d6-d995-7e9a19804236"
      },
      "outputs": [
        {
          "name": "stdout",
          "output_type": "stream",
          "text": [
            "Missing data in train: 0.00000%\n",
            "Missing data in test: 0.00000%\n"
          ]
        }
      ],
      "source": [
        "for col in df_train.columns.drop('isFraud'):\n",
        "    if df_train[col].dtype == 'O':\n",
        "        df_train[col] = df_train[col].fillna('unseen_category')\n",
        "        df_test[col] = df_test[col].fillna('unseen_category')\n",
        "    else:\n",
        "        df_train[col] = df_train[col].fillna(-1)\n",
        "        df_test[col] = df_test[col].fillna(-1)\n",
        "\n",
        "print('Missing data in train: {:.5f}%'.format(df_train.isnull().sum().sum() / (df_train.shape[0] * df_train.shape[1]) * 100))\n",
        "print('Missing data in test: {:.5f}%'.format(df_test.isnull().sum().sum() / (df_test.shape[0] * df_test.shape[1]) * 100))"
      ]
    },
    {
      "cell_type": "code",
      "execution_count": 12,
      "metadata": {
        "colab": {
          "base_uri": "https://localhost:8080/",
          "height": 204
        },
        "id": "lmNtdwZYSlFM",
        "outputId": "48cbe44b-237e-4cd2-ccc0-0480a98b61cd"
      },
      "outputs": [
        {
          "name": "stdout",
          "output_type": "stream",
          "text": [
            "<class 'pandas.core.frame.DataFrame'>\n",
            "RangeIndex: 417559 entries, 0 to 417558\n",
            "Columns: 434 entries, TransactionID to DeviceInfo\n",
            "dtypes: float32(80), int16(30), int8(202), object(31), uint16(22), uint32(3), uint8(66)\n",
            "memory usage: 379.1+ MB\n",
            "<class 'pandas.core.frame.DataFrame'>\n",
            "RangeIndex: 172981 entries, 0 to 172980\n",
            "Columns: 433 entries, TransactionID to DeviceInfo\n",
            "dtypes: float32(78), int16(40), int8(229), object(31), uint16(24), uint32(3), uint8(28)\n",
            "memory usage: 157.9+ MB\n"
          ]
        },
        {
          "data": {
            "text/plain": [
              "(None, None)"
            ]
          },
          "execution_count": 12,
          "metadata": {},
          "output_type": "execute_result"
        }
      ],
      "source": [
        "df_train.info(), df_test.info()"
      ]
    },
    {
      "cell_type": "markdown",
      "metadata": {
        "id": "DzgpNQeGSnT0"
      },
      "source": [
        "Закодируем категориальные признаки с помощью [`LabelEncoder`](https://scikit-learn.org/stable/modules/generated/sklearn.preprocessing.LabelEncoder.html) и сконвертируем их в [`category`](https://pandas.pydata.org/pandas-docs/version/0.23.4/categorical.html)."
      ]
    },
    {
      "cell_type": "code",
      "execution_count": 13,
      "metadata": {
        "colab": {
          "base_uri": "https://localhost:8080/",
          "height": 221
        },
        "id": "VzqHjIi-S4yu",
        "outputId": "69d5e997-912a-43a0-8a75-9778f1833ed2"
      },
      "outputs": [
        {
          "name": "stderr",
          "output_type": "stream",
          "text": [
            "100%|██████████| 433/433 [00:10<00:00, 40.75it/s] "
          ]
        },
        {
          "name": "stdout",
          "output_type": "stream",
          "text": [
            "<class 'pandas.core.frame.DataFrame'>\n",
            "RangeIndex: 417559 entries, 0 to 417558\n",
            "Columns: 434 entries, TransactionID to DeviceInfo\n",
            "dtypes: category(31), float32(80), int16(30), int8(202), uint16(22), uint32(3), uint8(66)\n",
            "memory usage: 293.5 MB\n",
            "<class 'pandas.core.frame.DataFrame'>\n",
            "RangeIndex: 172981 entries, 0 to 172980\n",
            "Columns: 433 entries, TransactionID to DeviceInfo\n",
            "dtypes: category(31), float32(78), int16(40), int8(229), uint16(24), uint32(3), uint8(28)\n",
            "memory usage: 122.5 MB\n"
          ]
        },
        {
          "name": "stderr",
          "output_type": "stream",
          "text": [
            "\n"
          ]
        },
        {
          "data": {
            "text/plain": [
              "(None, None)"
            ]
          },
          "execution_count": 13,
          "metadata": {},
          "output_type": "execute_result"
        }
      ],
      "source": [
        "for col in tqdm(df_train.columns.drop('isFraud')):\n",
        "    if df_train[col].dtype == 'O':\n",
        "        le = LabelEncoder()\n",
        "        le.fit(list(df_train[col]) + list(df_test[col]))\n",
        "        df_train[col] = le.transform(df_train[col])\n",
        "        df_test[col] = le.transform(df_test[col])\n",
        "\n",
        "        df_train[col] = df_train[col].astype('category')\n",
        "        df_test[col] = df_test[col].astype('category')\n",
        "\n",
        "df_train.info(), df_test.info()"
      ]
    },
    {
      "cell_type": "markdown",
      "metadata": {
        "id": "D0jnIH1iS7xE"
      },
      "source": [
        "Перед тем, как обучать какие-либо модели, нужно настроить валидацию - для того, чтобы оценивать обобщающую способность без использования тестовой выборки. Несмотря на то, что модель можно применить к тестовой части и получить результат на лидерборде, отнюдь не факт, что такому результату можно доверять. Дело в том, что он рассчитывается по публичной части тестовой выборки - однако итоговый результат будет рассчитываться по приватной части после окончания соревнования. Распределение данных в публичной и приватной частях может различаться, и если вы будете оценивать качество только по результату на публичной части, может получиться так, что ваше итоговое место в соревновании будет сильно ниже того, что вы имели по ходу.\n",
        "\n",
        "Однако бывают случаи, когда можно занять топовые места в соревновании и без настройки валидации, доверяя лишь результату на публичной части тестовой выборки. Пример: [описание решения победителя соревнования по детекции диабетической ретинопатии](https://www.kaggle.com/c/aptos2019-blindness-detection/discussion/108065).\n",
        "\n",
        "Техники валидации могут быть очень разными - от разбиения на обучающую/валидационную часть до [разбиения на группы с перемешиванием](https://scikit-learn.org/stable/modules/generated/sklearn.model_selection.GroupShuffleSplit.html#sklearn.model_selection.GroupShuffleSplit). Для кросс-валидации может быть полезно воспользоваться модулем [cross_validation](https://scikit-learn.org/stable/modules/cross_validation.html) из библиотеки `scikit-learn`.\n",
        "\n",
        "Настройка корректной валидации очень зависит от поставленной задачи. Очевидно, в идеале нужно выбрать такой способ, который сможет отразить то, насколько хорошо модель справится с приватной частью тестовой выборки.\n",
        "\n",
        "В ноутбуке с EDA было выдвинуто следующее предположение: согласно поведению признака `TransactionDT`, в обучающей части выборки содержатся данные за 4 месяца. Давайте настроим кросс-валидацию с 4 фолдами, где в каждом случае будем брать в качестве валидационной части тот или иной месяц."
      ]
    },
    {
      "cell_type": "code",
      "execution_count": 14,
      "metadata": {
        "colab": {
          "base_uri": "https://localhost:8080/",
          "height": 34
        },
        "id": "JRxrhtG2S5fc",
        "outputId": "7ba907a0-c386-43bc-ec96-10ed191d9cb6"
      },
      "outputs": [
        {
          "data": {
            "text/plain": [
              "120.99996527777778"
            ]
          },
          "execution_count": 14,
          "metadata": {},
          "output_type": "execute_result"
        }
      ],
      "source": [
        "(df_train['TransactionDT'].max() - df_train['TransactionDT'].min()) / (3600 * 24)"
      ]
    },
    {
      "cell_type": "code",
      "execution_count": 15,
      "metadata": {
        "colab": {
          "base_uri": "https://localhost:8080/",
          "height": 34
        },
        "id": "RYxCoXhsS9t0",
        "outputId": "8eca57c8-88c4-4344-cadf-4c69faa22e50"
      },
      "outputs": [
        {
          "data": {
            "text/plain": [
              "(417559,)"
            ]
          },
          "execution_count": 15,
          "metadata": {},
          "output_type": "execute_result"
        }
      ],
      "source": [
        "month_length = 3600 * 24 * 30\n",
        "df_train['TransactionDT'].shape"
      ]
    },
    {
      "cell_type": "code",
      "execution_count": 16,
      "metadata": {
        "colab": {
          "base_uri": "https://localhost:8080/",
          "height": 85
        },
        "id": "L0wcKf28S-sl",
        "outputId": "4b0e1fbd-cfea-4a87-c105-503cb0f6038f"
      },
      "outputs": [
        {
          "name": "stdout",
          "output_type": "stream",
          "text": [
            "Validation set 0 length: 134339\n",
            "Validation set 1 length: 89399\n",
            "Validation set 2 length: 92189\n",
            "Validation set 3 length: 101632\n"
          ]
        }
      ],
      "source": [
        "fold0_idx = df_train[df_train['TransactionDT'] < df_train['TransactionDT'].min() + month_length].index\n",
        "fold1_idx = df_train[(df_train['TransactionDT'].min() + month_length <= df_train['TransactionDT']) & (df_train['TransactionDT'] < df_train['TransactionDT'].min() + 2 * month_length)].index\n",
        "fold2_idx = df_train[(df_train['TransactionDT'].min() + 2 * month_length <= df_train['TransactionDT']) & (df_train['TransactionDT'] < df_train['TransactionDT'].min() + 3 * month_length)].index\n",
        "fold3_idx = df_train[df_train['TransactionDT'].min() + 3 * month_length <= df_train['TransactionDT']].index\n",
        "print('Validation set 0 length:', len(fold0_idx))\n",
        "print('Validation set 1 length:', len(fold1_idx))\n",
        "print('Validation set 2 length:', len(fold2_idx))\n",
        "print('Validation set 3 length:', len(fold3_idx))"
      ]
    },
    {
      "cell_type": "code",
      "execution_count": 17,
      "metadata": {
        "id": "RNfmDyDFS_uk"
      },
      "outputs": [],
      "source": [
        "folds_idx = [fold0_idx, fold1_idx, fold2_idx, fold3_idx]"
      ]
    },
    {
      "cell_type": "code",
      "execution_count": 18,
      "metadata": {
        "colab": {
          "base_uri": "https://localhost:8080/",
          "height": 253
        },
        "id": "rqh9jT1zTAv8",
        "outputId": "3416bca9-8c00-45d2-d351-8fec31f0c51f"
      },
      "outputs": [
        {
          "data": {
            "text/html": [
              "<div>\n",
              "<style scoped>\n",
              "    .dataframe tbody tr th:only-of-type {\n",
              "        vertical-align: middle;\n",
              "    }\n",
              "\n",
              "    .dataframe tbody tr th {\n",
              "        vertical-align: top;\n",
              "    }\n",
              "\n",
              "    .dataframe thead th {\n",
              "        text-align: right;\n",
              "    }\n",
              "</style>\n",
              "<table border=\"1\" class=\"dataframe\">\n",
              "  <thead>\n",
              "    <tr style=\"text-align: right;\">\n",
              "      <th></th>\n",
              "      <th>TransactionID</th>\n",
              "      <th>isFraud</th>\n",
              "      <th>TransactionDT</th>\n",
              "      <th>TransactionAmt</th>\n",
              "      <th>ProductCD</th>\n",
              "      <th>card1</th>\n",
              "      <th>card2</th>\n",
              "      <th>card3</th>\n",
              "      <th>card4</th>\n",
              "      <th>card5</th>\n",
              "      <th>...</th>\n",
              "      <th>id_31</th>\n",
              "      <th>id_32</th>\n",
              "      <th>id_33</th>\n",
              "      <th>id_34</th>\n",
              "      <th>id_35</th>\n",
              "      <th>id_36</th>\n",
              "      <th>id_37</th>\n",
              "      <th>id_38</th>\n",
              "      <th>DeviceType</th>\n",
              "      <th>DeviceInfo</th>\n",
              "    </tr>\n",
              "  </thead>\n",
              "  <tbody>\n",
              "    <tr>\n",
              "      <th>0</th>\n",
              "      <td>2987000</td>\n",
              "      <td>0</td>\n",
              "      <td>86400</td>\n",
              "      <td>68.5</td>\n",
              "      <td>4</td>\n",
              "      <td>13926</td>\n",
              "      <td>99</td>\n",
              "      <td>150</td>\n",
              "      <td>1</td>\n",
              "      <td>142</td>\n",
              "      <td>...</td>\n",
              "      <td>129</td>\n",
              "      <td>-1</td>\n",
              "      <td>260</td>\n",
              "      <td>4</td>\n",
              "      <td>2</td>\n",
              "      <td>2</td>\n",
              "      <td>2</td>\n",
              "      <td>2</td>\n",
              "      <td>2</td>\n",
              "      <td>1774</td>\n",
              "    </tr>\n",
              "    <tr>\n",
              "      <th>1</th>\n",
              "      <td>2987001</td>\n",
              "      <td>0</td>\n",
              "      <td>86401</td>\n",
              "      <td>29.0</td>\n",
              "      <td>4</td>\n",
              "      <td>2755</td>\n",
              "      <td>404</td>\n",
              "      <td>150</td>\n",
              "      <td>2</td>\n",
              "      <td>102</td>\n",
              "      <td>...</td>\n",
              "      <td>129</td>\n",
              "      <td>-1</td>\n",
              "      <td>260</td>\n",
              "      <td>4</td>\n",
              "      <td>2</td>\n",
              "      <td>2</td>\n",
              "      <td>2</td>\n",
              "      <td>2</td>\n",
              "      <td>2</td>\n",
              "      <td>1774</td>\n",
              "    </tr>\n",
              "    <tr>\n",
              "      <th>2</th>\n",
              "      <td>2987002</td>\n",
              "      <td>0</td>\n",
              "      <td>86469</td>\n",
              "      <td>59.0</td>\n",
              "      <td>4</td>\n",
              "      <td>4663</td>\n",
              "      <td>490</td>\n",
              "      <td>150</td>\n",
              "      <td>4</td>\n",
              "      <td>166</td>\n",
              "      <td>...</td>\n",
              "      <td>129</td>\n",
              "      <td>-1</td>\n",
              "      <td>260</td>\n",
              "      <td>4</td>\n",
              "      <td>2</td>\n",
              "      <td>2</td>\n",
              "      <td>2</td>\n",
              "      <td>2</td>\n",
              "      <td>2</td>\n",
              "      <td>1774</td>\n",
              "    </tr>\n",
              "    <tr>\n",
              "      <th>3</th>\n",
              "      <td>2987003</td>\n",
              "      <td>0</td>\n",
              "      <td>86499</td>\n",
              "      <td>50.0</td>\n",
              "      <td>4</td>\n",
              "      <td>18132</td>\n",
              "      <td>567</td>\n",
              "      <td>150</td>\n",
              "      <td>2</td>\n",
              "      <td>117</td>\n",
              "      <td>...</td>\n",
              "      <td>129</td>\n",
              "      <td>-1</td>\n",
              "      <td>260</td>\n",
              "      <td>4</td>\n",
              "      <td>2</td>\n",
              "      <td>2</td>\n",
              "      <td>2</td>\n",
              "      <td>2</td>\n",
              "      <td>2</td>\n",
              "      <td>1774</td>\n",
              "    </tr>\n",
              "    <tr>\n",
              "      <th>4</th>\n",
              "      <td>2987004</td>\n",
              "      <td>0</td>\n",
              "      <td>86506</td>\n",
              "      <td>50.0</td>\n",
              "      <td>1</td>\n",
              "      <td>4497</td>\n",
              "      <td>514</td>\n",
              "      <td>150</td>\n",
              "      <td>2</td>\n",
              "      <td>102</td>\n",
              "      <td>...</td>\n",
              "      <td>123</td>\n",
              "      <td>32</td>\n",
              "      <td>164</td>\n",
              "      <td>3</td>\n",
              "      <td>1</td>\n",
              "      <td>0</td>\n",
              "      <td>1</td>\n",
              "      <td>1</td>\n",
              "      <td>1</td>\n",
              "      <td>954</td>\n",
              "    </tr>\n",
              "  </tbody>\n",
              "</table>\n",
              "<p>5 rows × 434 columns</p>\n",
              "</div>"
            ],
            "text/plain": [
              "   TransactionID  isFraud  TransactionDT  TransactionAmt ProductCD  card1  \\\n",
              "0        2987000        0          86400            68.5         4  13926   \n",
              "1        2987001        0          86401            29.0         4   2755   \n",
              "2        2987002        0          86469            59.0         4   4663   \n",
              "3        2987003        0          86499            50.0         4  18132   \n",
              "4        2987004        0          86506            50.0         1   4497   \n",
              "\n",
              "   card2  card3 card4  card5  ... id_31  id_32  id_33  id_34  id_35 id_36  \\\n",
              "0     99    150     1    142  ...   129     -1    260      4      2     2   \n",
              "1    404    150     2    102  ...   129     -1    260      4      2     2   \n",
              "2    490    150     4    166  ...   129     -1    260      4      2     2   \n",
              "3    567    150     2    117  ...   129     -1    260      4      2     2   \n",
              "4    514    150     2    102  ...   123     32    164      3      1     0   \n",
              "\n",
              "  id_37  id_38  DeviceType  DeviceInfo  \n",
              "0     2      2           2        1774  \n",
              "1     2      2           2        1774  \n",
              "2     2      2           2        1774  \n",
              "3     2      2           2        1774  \n",
              "4     1      1           1         954  \n",
              "\n",
              "[5 rows x 434 columns]"
            ]
          },
          "execution_count": 18,
          "metadata": {},
          "output_type": "execute_result"
        }
      ],
      "source": [
        "df_train.head()"
      ]
    },
    {
      "cell_type": "markdown",
      "metadata": {
        "id": "qs_WuPygTDa8"
      },
      "source": [
        "В данных есть признак-идентификатор объекта - `'TransactionID'`. Заметим, что его значения в обучающей и тестовых выборках не пересекаются:"
      ]
    },
    {
      "cell_type": "code",
      "execution_count": 19,
      "metadata": {
        "colab": {
          "base_uri": "https://localhost:8080/",
          "height": 34
        },
        "id": "6H9SAbaJTBqs",
        "outputId": "b133c398-c6b2-42b1-bd0d-51a862007717"
      },
      "outputs": [
        {
          "data": {
            "text/plain": [
              "set()"
            ]
          },
          "execution_count": 19,
          "metadata": {},
          "output_type": "execute_result"
        }
      ],
      "source": [
        "set(df_train['TransactionID']).intersection(set(df_test['TransactionID']))"
      ]
    },
    {
      "cell_type": "markdown",
      "metadata": {
        "id": "UeIe6SnmTF1F"
      },
      "source": [
        "Также не пересекаются значения признака, отвечающего за момент времени - `'TransactionDT'`:"
      ]
    },
    {
      "cell_type": "code",
      "execution_count": 20,
      "metadata": {
        "colab": {
          "base_uri": "https://localhost:8080/",
          "height": 34
        },
        "id": "LrUbzPCATEhM",
        "outputId": "0e1c258b-eba0-4e2f-9235-6cdf4692ab0d"
      },
      "outputs": [
        {
          "data": {
            "text/plain": [
              "set()"
            ]
          },
          "execution_count": 20,
          "metadata": {},
          "output_type": "execute_result"
        }
      ],
      "source": [
        "set(df_train['TransactionDT']).intersection(set(df_test['TransactionDT']))"
      ]
    },
    {
      "cell_type": "markdown",
      "metadata": {
        "id": "FZimwAzATLL8"
      },
      "source": [
        "В связи с этим удалим эти признаки, чтобы модель их не учитывала."
      ]
    },
    {
      "cell_type": "code",
      "execution_count": 21,
      "metadata": {
        "colab": {
          "base_uri": "https://localhost:8080/",
          "height": 34
        },
        "id": "9g5gHNv4THFV",
        "outputId": "35266220-0732-4268-bc3c-4774755a81b1"
      },
      "outputs": [
        {
          "data": {
            "text/plain": [
              "((417559, 432), (172981, 431))"
            ]
          },
          "execution_count": 21,
          "metadata": {},
          "output_type": "execute_result"
        }
      ],
      "source": [
        "df_train.drop(['TransactionID', 'TransactionDT'], axis=1, inplace=True)\n",
        "df_test.drop(['TransactionID', 'TransactionDT'], axis=1, inplace=True)\n",
        "df_train.shape, df_test.shape"
      ]
    },
    {
      "cell_type": "markdown",
      "metadata": {
        "id": "DL6xLvQMTPbl"
      },
      "source": [
        "Обучимся с помощью [`lightgbm`](https://lightgbm.readthedocs.io/en/latest/), и для каждой модели сделаем предсказание на тестовой выборке. Также будем сохранять важности признаков на каждом фолде.\n"
      ]
    },
    {
      "cell_type": "code",
      "execution_count": 24,
      "metadata": {},
      "outputs": [],
      "source": [
        "import catboost as cb\n",
        "from catboost import CatBoostClassifier, Pool"
      ]
    },
    {
      "cell_type": "code",
      "execution_count": 31,
      "metadata": {},
      "outputs": [],
      "source": []
    },
    {
      "cell_type": "code",
      "execution_count": 56,
      "metadata": {
        "colab": {
          "base_uri": "https://localhost:8080/",
          "height": 1000
        },
        "id": "V2L1Nl5CTMMl",
        "outputId": "966ca33b-9364-4cb7-c357-1da3f3648190"
      },
      "outputs": [
        {
          "name": "stderr",
          "output_type": "stream",
          "text": [
            "  0%|          | 0/4 [00:00<?, ?it/s]"
          ]
        },
        {
          "name": "stdout",
          "output_type": "stream",
          "text": [
            "0:\tlearn: 0.4095527\ttest: 0.4200374\tbest: 0.4200374 (0)\ttotal: 430ms\tremaining: 14m 19s\n",
            "200:\tlearn: 0.0737961\ttest: 0.0911515\tbest: 0.0872947 (152)\ttotal: 1m 9s\tremaining: 10m 23s\n",
            "400:\tlearn: 0.0628279\ttest: 0.0854194\tbest: 0.0847674 (387)\ttotal: 2m 19s\tremaining: 9m 15s\n"
          ]
        }
      ],
      "source": [
        "%%time\n",
        "\n",
        "cat_features = df_train.select_dtypes(include=['category']).columns.tolist()\n",
        "\n",
        "params = {\n",
        "    'objective': 'Logloss',\n",
        "    'learning_rate': 0.2,\n",
        "    'iterations': 2000,\n",
        "    'random_seed': 42,\n",
        "    'early_stopping_rounds': 200,\n",
        "    'verbose': 200,\n",
        "    # 'task_type': \"GPU\",\n",
        "}\n",
        "\n",
        "scores = []\n",
        "\n",
        "feature_importances = pd.DataFrame()\n",
        "feature_importances['feature'] = df_train.columns.drop('isFraud')\n",
        "\n",
        "test_preds = []\n",
        "\n",
        "for i in tqdm(range(len(folds_idx))):\n",
        "    X_train = df_train.drop(folds_idx[i], axis=0)\n",
        "    y_train = X_train['isFraud'].values\n",
        "    X_val = df_train.iloc[folds_idx[i]]\n",
        "    y_val = X_val['isFraud'].values\n",
        "    X_train = X_train.drop('isFraud', axis=1)\n",
        "    X_val = X_val.drop('isFraud', axis=1)\n",
        "\n",
        "    cb_train = cb.Pool(X_train, y_train, cat_features=cat_features)\n",
        "    cb_eval = cb.Pool(X_val, y_val, cat_features=cat_features)\n",
        "    \n",
        "    model = CatBoostClassifier(**params)\n",
        "    model.fit(cb_train, eval_set=cb_eval)\n",
        "\n",
        "    feature_importances['fold_{}'.format(i)] = model.feature_importances_\n",
        "\n",
        "    y_pred = model.predict_proba(X_val)[:, 1]\n",
        "    score_fold = roc_auc_score(y_val, y_pred)\n",
        "    scores.append(score_fold)\n",
        "    print(f'Fold {i}, AUC-ROC: {score_fold:.5f}')\n",
        "    y_test_pred = model.predict_proba(df_test)[:, 1]\n",
        "    test_preds.append(y_test_pred)\n",
        "\n",
        "for i in range(len(scores)):\n",
        "    print(f'Fold {i}, AUC-ROC: {scores[i]:.5f}')\n",
        "print(f'CV AUC-ROC: {np.mean(scores):.5f}')"
      ]
    },
    {
      "cell_type": "code",
      "execution_count": 40,
      "metadata": {
        "colab": {
          "base_uri": "https://localhost:8080/",
          "height": 204
        },
        "id": "sUdFuyekTXPk",
        "outputId": "7ec77633-27d5-4021-f069-6354ffbd6ad7"
      },
      "outputs": [
        {
          "data": {
            "text/html": [
              "<div>\n",
              "<style scoped>\n",
              "    .dataframe tbody tr th:only-of-type {\n",
              "        vertical-align: middle;\n",
              "    }\n",
              "\n",
              "    .dataframe tbody tr th {\n",
              "        vertical-align: top;\n",
              "    }\n",
              "\n",
              "    .dataframe thead th {\n",
              "        text-align: right;\n",
              "    }\n",
              "</style>\n",
              "<table border=\"1\" class=\"dataframe\">\n",
              "  <thead>\n",
              "    <tr style=\"text-align: right;\">\n",
              "      <th></th>\n",
              "      <th>feature</th>\n",
              "      <th>fold_0</th>\n",
              "      <th>fold_1</th>\n",
              "      <th>fold_2</th>\n",
              "      <th>fold_3</th>\n",
              "    </tr>\n",
              "  </thead>\n",
              "  <tbody>\n",
              "    <tr>\n",
              "      <th>0</th>\n",
              "      <td>TransactionAmt</td>\n",
              "      <td>3.298389</td>\n",
              "      <td>3.305623</td>\n",
              "      <td>3.535427</td>\n",
              "      <td>3.072422</td>\n",
              "    </tr>\n",
              "    <tr>\n",
              "      <th>1</th>\n",
              "      <td>ProductCD</td>\n",
              "      <td>0.288250</td>\n",
              "      <td>0.261268</td>\n",
              "      <td>0.365038</td>\n",
              "      <td>0.550113</td>\n",
              "    </tr>\n",
              "    <tr>\n",
              "      <th>2</th>\n",
              "      <td>card1</td>\n",
              "      <td>2.786398</td>\n",
              "      <td>4.497560</td>\n",
              "      <td>4.658848</td>\n",
              "      <td>4.107217</td>\n",
              "    </tr>\n",
              "    <tr>\n",
              "      <th>3</th>\n",
              "      <td>card2</td>\n",
              "      <td>3.692771</td>\n",
              "      <td>4.479248</td>\n",
              "      <td>4.682370</td>\n",
              "      <td>3.843060</td>\n",
              "    </tr>\n",
              "    <tr>\n",
              "      <th>4</th>\n",
              "      <td>card3</td>\n",
              "      <td>1.543990</td>\n",
              "      <td>0.957506</td>\n",
              "      <td>1.552379</td>\n",
              "      <td>1.050940</td>\n",
              "    </tr>\n",
              "  </tbody>\n",
              "</table>\n",
              "</div>"
            ],
            "text/plain": [
              "          feature    fold_0    fold_1    fold_2    fold_3\n",
              "0  TransactionAmt  3.298389  3.305623  3.535427  3.072422\n",
              "1       ProductCD  0.288250  0.261268  0.365038  0.550113\n",
              "2           card1  2.786398  4.497560  4.658848  4.107217\n",
              "3           card2  3.692771  4.479248  4.682370  3.843060\n",
              "4           card3  1.543990  0.957506  1.552379  1.050940"
            ]
          },
          "execution_count": 40,
          "metadata": {},
          "output_type": "execute_result"
        }
      ],
      "source": [
        "feature_importances.head()"
      ]
    },
    {
      "cell_type": "markdown",
      "metadata": {
        "id": "tyK0tMleTrT0"
      },
      "source": [
        "Для итоговой оценки важности признаков усредним важности признаков на фолдах."
      ]
    },
    {
      "cell_type": "code",
      "execution_count": 41,
      "metadata": {
        "colab": {
          "base_uri": "https://localhost:8080/",
          "height": 204
        },
        "id": "hA4MCAafTkOT",
        "outputId": "35bc3dec-4ae8-4403-b487-9aa20f07b43c"
      },
      "outputs": [
        {
          "data": {
            "text/html": [
              "<div>\n",
              "<style scoped>\n",
              "    .dataframe tbody tr th:only-of-type {\n",
              "        vertical-align: middle;\n",
              "    }\n",
              "\n",
              "    .dataframe tbody tr th {\n",
              "        vertical-align: top;\n",
              "    }\n",
              "\n",
              "    .dataframe thead th {\n",
              "        text-align: right;\n",
              "    }\n",
              "</style>\n",
              "<table border=\"1\" class=\"dataframe\">\n",
              "  <thead>\n",
              "    <tr style=\"text-align: right;\">\n",
              "      <th></th>\n",
              "      <th>feature</th>\n",
              "      <th>fold_0</th>\n",
              "      <th>fold_1</th>\n",
              "      <th>fold_2</th>\n",
              "      <th>fold_3</th>\n",
              "      <th>average</th>\n",
              "    </tr>\n",
              "  </thead>\n",
              "  <tbody>\n",
              "    <tr>\n",
              "      <th>0</th>\n",
              "      <td>TransactionAmt</td>\n",
              "      <td>3.298389</td>\n",
              "      <td>3.305623</td>\n",
              "      <td>3.535427</td>\n",
              "      <td>3.072422</td>\n",
              "      <td>3.302965</td>\n",
              "    </tr>\n",
              "    <tr>\n",
              "      <th>1</th>\n",
              "      <td>ProductCD</td>\n",
              "      <td>0.288250</td>\n",
              "      <td>0.261268</td>\n",
              "      <td>0.365038</td>\n",
              "      <td>0.550113</td>\n",
              "      <td>0.366167</td>\n",
              "    </tr>\n",
              "    <tr>\n",
              "      <th>2</th>\n",
              "      <td>card1</td>\n",
              "      <td>2.786398</td>\n",
              "      <td>4.497560</td>\n",
              "      <td>4.658848</td>\n",
              "      <td>4.107217</td>\n",
              "      <td>4.012506</td>\n",
              "    </tr>\n",
              "    <tr>\n",
              "      <th>3</th>\n",
              "      <td>card2</td>\n",
              "      <td>3.692771</td>\n",
              "      <td>4.479248</td>\n",
              "      <td>4.682370</td>\n",
              "      <td>3.843060</td>\n",
              "      <td>4.174362</td>\n",
              "    </tr>\n",
              "    <tr>\n",
              "      <th>4</th>\n",
              "      <td>card3</td>\n",
              "      <td>1.543990</td>\n",
              "      <td>0.957506</td>\n",
              "      <td>1.552379</td>\n",
              "      <td>1.050940</td>\n",
              "      <td>1.276204</td>\n",
              "    </tr>\n",
              "  </tbody>\n",
              "</table>\n",
              "</div>"
            ],
            "text/plain": [
              "          feature    fold_0    fold_1    fold_2    fold_3   average\n",
              "0  TransactionAmt  3.298389  3.305623  3.535427  3.072422  3.302965\n",
              "1       ProductCD  0.288250  0.261268  0.365038  0.550113  0.366167\n",
              "2           card1  2.786398  4.497560  4.658848  4.107217  4.012506\n",
              "3           card2  3.692771  4.479248  4.682370  3.843060  4.174362\n",
              "4           card3  1.543990  0.957506  1.552379  1.050940  1.276204"
            ]
          },
          "execution_count": 41,
          "metadata": {},
          "output_type": "execute_result"
        }
      ],
      "source": [
        "fold_cols = [col for col in feature_importances.columns if col.startswith('fold_')]\n",
        "feature_importances['average'] = feature_importances[fold_cols].mean(axis=1)\n",
        "feature_importances.head()"
      ]
    },
    {
      "cell_type": "code",
      "execution_count": 42,
      "metadata": {
        "colab": {
          "base_uri": "https://localhost:8080/",
          "height": 899
        },
        "id": "WGRvRqBoTuOd",
        "outputId": "b2ed5b58-4551-453a-c7a1-2c33394a3f13"
      },
      "outputs": [
        {
          "name": "stderr",
          "output_type": "stream",
          "text": [
            "/var/folders/f2/942c2cl91r9877yf8jj8c15xr94h9h/T/ipykernel_56645/175549146.py:2: FutureWarning: \n",
            "\n",
            "Passing `palette` without assigning `hue` is deprecated and will be removed in v0.14.0. Assign the `y` variable to `hue` and set `legend=False` for the same effect.\n",
            "\n",
            "  sns.barplot(data=feature_importances.sort_values(by='average', ascending=False).head(50), x='average', y='feature', palette=\"BuGn_r\")\n"
          ]
        },
        {
          "data": {
            "image/png": "[encoded data removed]",
            "text/plain": [
              "<Figure size 1500x1500 with 1 Axes>"
            ]
          },
          "metadata": {},
          "output_type": "display_data"
        }
      ],
      "source": [
        "plt.figure(figsize=(15, 15))\n",
        "sns.barplot(data=feature_importances.sort_values(by='average', ascending=False).head(50), x='average', y='feature', palette=\"BuGn_r\")\n",
        "plt.title('Top feature importances')\n",
        "plt.show()"
      ]
    },
    {
      "cell_type": "markdown",
      "metadata": {
        "id": "mjuaHlVwY0uq"
      },
      "source": [
        "Для получения итогового предсказания на тестовой выборке усредним предсказания моделей с разных фолдов."
      ]
    },
    {
      "cell_type": "code",
      "execution_count": 43,
      "metadata": {
        "colab": {
          "base_uri": "https://localhost:8080/",
          "height": 34
        },
        "id": "s_zK4A1sYwza",
        "outputId": "5536f430-9ef9-4cd5-9965-7d45c59d9575"
      },
      "outputs": [
        {
          "data": {
            "text/plain": [
              "(4, 172981)"
            ]
          },
          "execution_count": 43,
          "metadata": {},
          "output_type": "execute_result"
        }
      ],
      "source": [
        "np.array(test_preds).shape"
      ]
    },
    {
      "cell_type": "code",
      "execution_count": 44,
      "metadata": {
        "colab": {
          "base_uri": "https://localhost:8080/",
          "height": 51
        },
        "id": "anvL7VKgY1qB",
        "outputId": "4221e8c6-8d80-48d2-9268-f33574364f19"
      },
      "outputs": [
        {
          "data": {
            "text/plain": [
              "array([0.00905215, 0.11891511, 0.02737017, ..., 0.00314109, 0.02393854,\n",
              "       0.00987064])"
            ]
          },
          "execution_count": 44,
          "metadata": {},
          "output_type": "execute_result"
        }
      ],
      "source": [
        "final_pred = np.average(test_preds, axis=0)\n",
        "final_pred"
      ]
    },
    {
      "cell_type": "code",
      "execution_count": 45,
      "metadata": {
        "colab": {
          "base_uri": "https://localhost:8080/",
          "height": 204
        },
        "id": "Z-LPStWaY2bK",
        "outputId": "b94ea65d-47e3-4303-9c61-2c071f140985"
      },
      "outputs": [
        {
          "data": {
            "text/html": [
              "<div>\n",
              "<style scoped>\n",
              "    .dataframe tbody tr th:only-of-type {\n",
              "        vertical-align: middle;\n",
              "    }\n",
              "\n",
              "    .dataframe tbody tr th {\n",
              "        vertical-align: top;\n",
              "    }\n",
              "\n",
              "    .dataframe thead th {\n",
              "        text-align: right;\n",
              "    }\n",
              "</style>\n",
              "<table border=\"1\" class=\"dataframe\">\n",
              "  <thead>\n",
              "    <tr style=\"text-align: right;\">\n",
              "      <th></th>\n",
              "      <th>TransactionID</th>\n",
              "      <th>isFraud</th>\n",
              "    </tr>\n",
              "  </thead>\n",
              "  <tbody>\n",
              "    <tr>\n",
              "      <th>0</th>\n",
              "      <td>3404559</td>\n",
              "      <td>0.009052</td>\n",
              "    </tr>\n",
              "    <tr>\n",
              "      <th>1</th>\n",
              "      <td>3404560</td>\n",
              "      <td>0.118915</td>\n",
              "    </tr>\n",
              "    <tr>\n",
              "      <th>2</th>\n",
              "      <td>3404561</td>\n",
              "      <td>0.027370</td>\n",
              "    </tr>\n",
              "    <tr>\n",
              "      <th>3</th>\n",
              "      <td>3404562</td>\n",
              "      <td>0.015270</td>\n",
              "    </tr>\n",
              "    <tr>\n",
              "      <th>4</th>\n",
              "      <td>3404563</td>\n",
              "      <td>0.328061</td>\n",
              "    </tr>\n",
              "  </tbody>\n",
              "</table>\n",
              "</div>"
            ],
            "text/plain": [
              "   TransactionID   isFraud\n",
              "0        3404559  0.009052\n",
              "1        3404560  0.118915\n",
              "2        3404561  0.027370\n",
              "3        3404562  0.015270\n",
              "4        3404563  0.328061"
            ]
          },
          "execution_count": 45,
          "metadata": {},
          "output_type": "execute_result"
        }
      ],
      "source": [
        "sub = pd.DataFrame({'TransactionID': sample_submission['TransactionID'], 'isFraud': final_pred})\n",
        "sub.head()"
      ]
    },
    {
      "cell_type": "code",
      "execution_count": 46,
      "metadata": {
        "colab": {
          "base_uri": "https://localhost:8080/",
          "height": 204
        },
        "id": "7gy2H_XkY4JZ",
        "outputId": "f469a6f7-dd95-4dd9-9341-9e4e086e2412"
      },
      "outputs": [
        {
          "data": {
            "text/html": [
              "<div>\n",
              "<style scoped>\n",
              "    .dataframe tbody tr th:only-of-type {\n",
              "        vertical-align: middle;\n",
              "    }\n",
              "\n",
              "    .dataframe tbody tr th {\n",
              "        vertical-align: top;\n",
              "    }\n",
              "\n",
              "    .dataframe thead th {\n",
              "        text-align: right;\n",
              "    }\n",
              "</style>\n",
              "<table border=\"1\" class=\"dataframe\">\n",
              "  <thead>\n",
              "    <tr style=\"text-align: right;\">\n",
              "      <th></th>\n",
              "      <th>TransactionID</th>\n",
              "      <th>isFraud</th>\n",
              "    </tr>\n",
              "  </thead>\n",
              "  <tbody>\n",
              "    <tr>\n",
              "      <th>172976</th>\n",
              "      <td>3577535</td>\n",
              "      <td>0.018456</td>\n",
              "    </tr>\n",
              "    <tr>\n",
              "      <th>172977</th>\n",
              "      <td>3577536</td>\n",
              "      <td>0.014827</td>\n",
              "    </tr>\n",
              "    <tr>\n",
              "      <th>172978</th>\n",
              "      <td>3577537</td>\n",
              "      <td>0.003141</td>\n",
              "    </tr>\n",
              "    <tr>\n",
              "      <th>172979</th>\n",
              "      <td>3577538</td>\n",
              "      <td>0.023939</td>\n",
              "    </tr>\n",
              "    <tr>\n",
              "      <th>172980</th>\n",
              "      <td>3577539</td>\n",
              "      <td>0.009871</td>\n",
              "    </tr>\n",
              "  </tbody>\n",
              "</table>\n",
              "</div>"
            ],
            "text/plain": [
              "        TransactionID   isFraud\n",
              "172976        3577535  0.018456\n",
              "172977        3577536  0.014827\n",
              "172978        3577537  0.003141\n",
              "172979        3577538  0.023939\n",
              "172980        3577539  0.009871"
            ]
          },
          "execution_count": 46,
          "metadata": {},
          "output_type": "execute_result"
        }
      ],
      "source": [
        "sub.tail()"
      ]
    },
    {
      "cell_type": "markdown",
      "metadata": {
        "id": "hpK7-FSkgQ4Y"
      },
      "source": [
        "Сохраняем файл с предсказаниями - теперь его можно отправить в соревнование и посмотреть результат на публичной части."
      ]
    },
    {
      "cell_type": "code",
      "execution_count": 47,
      "metadata": {
        "id": "VZaOYJR5ZDY1"
      },
      "outputs": [],
      "source": [
        "sub.to_csv('data/submission_base_catboost.csv', index=False)  # Leaderboard: 0.90140"
      ]
    },
    {
      "cell_type": "markdown",
      "metadata": {
        "id": "JVVBk2XoZBA0"
      },
      "source": [
        "Наконец, построим распределение предсказаний для целевой переменной на тестовой выборке."
      ]
    },
    {
      "cell_type": "code",
      "execution_count": 48,
      "metadata": {},
      "outputs": [
        {
          "name": "stdout",
          "output_type": "stream",
          "text": [
            "Warning: Looks like you're using an outdated API Version, please consider updating (server 1.7.4 / client 1.6.17)\n",
            "100%|██████████████████████████████████████| 4.75M/4.75M [00:02<00:00, 2.12MB/s]\n",
            "Successfully submitted to Fraud Detection Competition"
          ]
        }
      ],
      "source": [
        "# Отправка файла на соревнование\n",
        "!kaggle competitions submit -c fraud-detection-24 -f data/submission_base_catboost.csv -m \"Базовая модель CatBoost\""
      ]
    },
    {
      "cell_type": "markdown",
      "metadata": {},
      "source": [
        "Кaggle score 0.90140"
      ]
    },
    {
      "cell_type": "code",
      "execution_count": 48,
      "metadata": {
        "colab": {
          "base_uri": "https://localhost:8080/",
          "height": 501
        },
        "id": "59JXv7XLZCEw",
        "outputId": "51cc4ef6-b802-4b19-aa57-ffc38f29f905"
      },
      "outputs": [
        {
          "data": {
            "image/png": "[encoded data removed]",
            "text/plain": [
              "<Figure size 1100x800 with 1 Axes>"
            ]
          },
          "metadata": {},
          "output_type": "display_data"
        }
      ],
      "source": [
        "plt.figure(figsize=(11, 8))\n",
        "plt.hist(sub['isFraud'], bins=30)\n",
        "plt.title('Distribution of isFraud prediction on test')\n",
        "plt.show()"
      ]
    }
  ],
  "metadata": {
    "colab": {
      "provenance": []
    },
    "kernelspec": {
      "display_name": ".venv",
      "language": "python",
      "name": "python3"
    },
    "language_info": {
      "codemirror_mode": {
        "name": "ipython",
        "version": 3
      },
      "file_extension": ".py",
      "mimetype": "text/x-python",
      "name": "python",
      "nbconvert_exporter": "python",
      "pygments_lexer": "ipython3",
      "version": "3.12.9"
    }
  },
  "nbformat": 4,
  "nbformat_minor": 0
}
