{
 "cells": [
  {
   "cell_type": "markdown",
   "metadata": {},
   "source": [
    "### Объединим лучшие прогнозы нескольких моделей (усредним) "
   ]
  },
  {
   "cell_type": "code",
   "execution_count": 7,
   "metadata": {},
   "outputs": [],
   "source": [
    "import pandas as pd\n",
    "\n",
    "files = [\n",
    "    './data/submission_lgbm2.csv',\n",
    "    './data/submission_lgbm4_20250316_150808.csv',\n",
    "    './data/submission_lgbm4_20250316_150808.csv',\n",
    "    './data/submission_lgbm4.csv',\n",
    "    './data/submission_lgbm4.csv',\n",
    "    './data/submission_lgbm4.csv',\n",
    "    './data/submission_avg_2.csv',\n",
    "]\n",
    "\n",
    "dfs = []\n",
    "for file in files:\n",
    "    dfs.append(pd.read_csv(file))\n",
    "\n",
    "# Вычисляем среднее значение колонки isFraud для всех датафреймов\n",
    "sub = pd.DataFrame()\n",
    "sub['TransactionID'] = dfs[0]['TransactionID']  # ID транзакций берем из первого датафрейма\n",
    "sub['isFraud'] = sum(df['isFraud'] for df in dfs) / len(dfs)  # Считаем среднее по всем предсказаниям\n"
   ]
  },
  {
   "cell_type": "code",
   "execution_count": 8,
   "metadata": {},
   "outputs": [
    {
     "data": {
      "text/html": [
       "<div>\n",
       "<style scoped>\n",
       "    .dataframe tbody tr th:only-of-type {\n",
       "        vertical-align: middle;\n",
       "    }\n",
       "\n",
       "    .dataframe tbody tr th {\n",
       "        vertical-align: top;\n",
       "    }\n",
       "\n",
       "    .dataframe thead th {\n",
       "        text-align: right;\n",
       "    }\n",
       "</style>\n",
       "<table border=\"1\" class=\"dataframe\">\n",
       "  <thead>\n",
       "    <tr style=\"text-align: right;\">\n",
       "      <th></th>\n",
       "      <th>TransactionID</th>\n",
       "      <th>isFraud</th>\n",
       "    </tr>\n",
       "  </thead>\n",
       "  <tbody>\n",
       "    <tr>\n",
       "      <th>0</th>\n",
       "      <td>3404559</td>\n",
       "      <td>0.004080</td>\n",
       "    </tr>\n",
       "    <tr>\n",
       "      <th>1</th>\n",
       "      <td>3404560</td>\n",
       "      <td>0.067969</td>\n",
       "    </tr>\n",
       "    <tr>\n",
       "      <th>2</th>\n",
       "      <td>3404561</td>\n",
       "      <td>0.020291</td>\n",
       "    </tr>\n",
       "    <tr>\n",
       "      <th>3</th>\n",
       "      <td>3404562</td>\n",
       "      <td>0.006804</td>\n",
       "    </tr>\n",
       "    <tr>\n",
       "      <th>4</th>\n",
       "      <td>3404563</td>\n",
       "      <td>0.462168</td>\n",
       "    </tr>\n",
       "  </tbody>\n",
       "</table>\n",
       "</div>"
      ],
      "text/plain": [
       "   TransactionID   isFraud\n",
       "0        3404559  0.004080\n",
       "1        3404560  0.067969\n",
       "2        3404561  0.020291\n",
       "3        3404562  0.006804\n",
       "4        3404563  0.462168"
      ]
     },
     "execution_count": 8,
     "metadata": {},
     "output_type": "execute_result"
    }
   ],
   "source": [
    "sub.head()"
   ]
  },
  {
   "cell_type": "code",
   "execution_count": 9,
   "metadata": {},
   "outputs": [
    {
     "data": {
      "text/html": [
       "<div>\n",
       "<style scoped>\n",
       "    .dataframe tbody tr th:only-of-type {\n",
       "        vertical-align: middle;\n",
       "    }\n",
       "\n",
       "    .dataframe tbody tr th {\n",
       "        vertical-align: top;\n",
       "    }\n",
       "\n",
       "    .dataframe thead th {\n",
       "        text-align: right;\n",
       "    }\n",
       "</style>\n",
       "<table border=\"1\" class=\"dataframe\">\n",
       "  <thead>\n",
       "    <tr style=\"text-align: right;\">\n",
       "      <th></th>\n",
       "      <th>TransactionID</th>\n",
       "      <th>isFraud</th>\n",
       "    </tr>\n",
       "  </thead>\n",
       "  <tbody>\n",
       "    <tr>\n",
       "      <th>172976</th>\n",
       "      <td>3577535</td>\n",
       "      <td>0.015523</td>\n",
       "    </tr>\n",
       "    <tr>\n",
       "      <th>172977</th>\n",
       "      <td>3577536</td>\n",
       "      <td>0.011218</td>\n",
       "    </tr>\n",
       "    <tr>\n",
       "      <th>172978</th>\n",
       "      <td>3577537</td>\n",
       "      <td>0.002634</td>\n",
       "    </tr>\n",
       "    <tr>\n",
       "      <th>172979</th>\n",
       "      <td>3577538</td>\n",
       "      <td>0.023678</td>\n",
       "    </tr>\n",
       "    <tr>\n",
       "      <th>172980</th>\n",
       "      <td>3577539</td>\n",
       "      <td>0.005234</td>\n",
       "    </tr>\n",
       "  </tbody>\n",
       "</table>\n",
       "</div>"
      ],
      "text/plain": [
       "        TransactionID   isFraud\n",
       "172976        3577535  0.015523\n",
       "172977        3577536  0.011218\n",
       "172978        3577537  0.002634\n",
       "172979        3577538  0.023678\n",
       "172980        3577539  0.005234"
      ]
     },
     "execution_count": 9,
     "metadata": {},
     "output_type": "execute_result"
    }
   ],
   "source": [
    "sub.tail()"
   ]
  },
  {
   "cell_type": "code",
   "execution_count": 10,
   "metadata": {},
   "outputs": [],
   "source": [
    "sub.to_csv('data/submission_avg_3.csv', index=False)  # Leaderboard: 0.90140\n"
   ]
  },
  {
   "cell_type": "code",
   "execution_count": 11,
   "metadata": {},
   "outputs": [
    {
     "name": "stdout",
     "output_type": "stream",
     "text": [
      "100%|██████████████████████████████████████| 4.77M/4.77M [00:01<00:00, 3.08MB/s]\n",
      "Successfully submitted to Fraud Detection Competition"
     ]
    }
   ],
   "source": [
    "# Отправка файла на соревнование\n",
    "!kaggle competitions submit -c fraud-detection-24 -f data/submission_avg_3.csv -m \"AVG 2\""
   ]
  }
 ],
 "metadata": {
  "kernelspec": {
   "display_name": ".venv",
   "language": "python",
   "name": "python3"
  },
  "language_info": {
   "codemirror_mode": {
    "name": "ipython",
    "version": 3
   },
   "file_extension": ".py",
   "mimetype": "text/x-python",
   "name": "python",
   "nbconvert_exporter": "python",
   "pygments_lexer": "ipython3",
   "version": "3.12.9"
  }
 },
 "nbformat": 4,
 "nbformat_minor": 2
}
