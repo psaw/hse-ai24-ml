{
  "nbformat": 4,
  "nbformat_minor": 0,
  "metadata": {
    "colab": {
      "provenance": [],
      "include_colab_link": true
    },
    "kernelspec": {
      "name": "python3",
      "display_name": "Python 3"
    },
    "language_info": {
      "name": "python"
    }
  },
  "cells": [
    {
      "cell_type": "markdown",
      "metadata": {
        "id": "view-in-github",
        "colab_type": "text"
      },
      "source": [
        "<a href=\"https://colab.research.google.com/github/psaw/hse-ai24-ml/blob/main/BVD_screencast.ipynb\" target=\"_parent\"><img src=\"https://colab.research.google.com/assets/colab-badge.svg\" alt=\"Open In Colab\"/></a>"
      ]
    },
    {
      "cell_type": "markdown",
      "source": [
        "# Разложение ошибки"
      ],
      "metadata": {
        "id": "k5pBjsriex9P"
      }
    },
    {
      "cell_type": "code",
      "source": [
        "import pandas as pd\n",
        "import numpy as np\n",
        "\n",
        "from sklearn.preprocessing import StandardScaler\n",
        "from sklearn.model_selection import train_test_split\n",
        "from sklearn.datasets import fetch_california_housing\n",
        "from sklearn.linear_model import LinearRegression\n",
        "from sklearn.tree import DecisionTreeRegressor"
      ],
      "metadata": {
        "id": "W2Icd9gOeVjs"
      },
      "execution_count": null,
      "outputs": []
    },
    {
      "cell_type": "code",
      "source": [
        "RANDOM_STATE = 42"
      ],
      "metadata": {
        "id": "m_UL-Xqtc2jm"
      },
      "execution_count": null,
      "outputs": []
    },
    {
      "cell_type": "code",
      "source": [
        "data = fetch_california_housing(as_frame=True)\n",
        "\n",
        "X = data.data\n",
        "y = data.target"
      ],
      "metadata": {
        "id": "ZxMnrUDQ3Zzb"
      },
      "execution_count": null,
      "outputs": []
    },
    {
      "cell_type": "code",
      "source": [
        "Xtrain, Xtest, ytrain, ytest = train_test_split(X, y, test_size = 0.3, random_state = RANDOM_STATE)"
      ],
      "metadata": {
        "id": "Xe8OYaC43ccT"
      },
      "execution_count": null,
      "outputs": []
    },
    {
      "cell_type": "code",
      "source": [
        "scaler = StandardScaler()\n",
        "scaler.fit(Xtrain)\n",
        "\n",
        "Xtrain = pd.DataFrame(data = scaler.transform(Xtrain), columns = X.columns)\n",
        "Xtest = pd.DataFrame(data = scaler.transform(Xtest), columns = X.columns)"
      ],
      "metadata": {
        "id": "ceOULCLRcudb"
      },
      "execution_count": null,
      "outputs": []
    },
    {
      "cell_type": "markdown",
      "source": [
        "## Bias-variance decomposition\n",
        "\n",
        "В библиотеке `mlxtend` есть функция `bias_variance_decomp` для оценки компонент разложения ошибки."
      ],
      "metadata": {
        "id": "DKldEjCidFuE"
      }
    },
    {
      "cell_type": "code",
      "source": [
        "%%capture\n",
        "!pip install mlxtend --upgrade"
      ],
      "metadata": {
        "id": "iHEOMpwPeUpR"
      },
      "execution_count": null,
      "outputs": []
    },
    {
      "cell_type": "markdown",
      "source": [
        "### Гиперпараметры\n",
        "* `estimator` - семейство моделей\n",
        "* `X_train, y_train` - обучающие данные\n",
        "* `X_test, y_test` - тестовые данные\n",
        "* `loss` - функция потерь (MSE для регрессии, 0-1 loss (доля ошибок модели) для классификации)\n",
        "* `num_rounds=200` - число случайных подвыборок из `X_train` для обучения модели"
      ],
      "metadata": {
        "id": "LtXZLXa-axra"
      }
    },
    {
      "cell_type": "markdown",
      "source": [
        "### Возвращаемые значения\n",
        "\n",
        "* `avg_expected_loss` - ошибка на тестовых данных\n",
        "* `avg_expected_bias` - смещение\n",
        "* `avg_expected_variance` - разброс"
      ],
      "metadata": {
        "id": "8XdrlWzvbvq-"
      }
    },
    {
      "cell_type": "code",
      "source": [
        "from mlxtend.evaluate import bias_variance_decomp\n",
        "\n",
        "X_train = Xtrain.values\n",
        "y_train = ytrain.values\n",
        "X_test = Xtest.values\n",
        "y_test = ytest.values"
      ],
      "metadata": {
        "id": "3PpHLFd2ZXu3"
      },
      "execution_count": null,
      "outputs": []
    },
    {
      "cell_type": "code",
      "source": [
        "avg_mse, avg_bias, avg_var = bias_variance_decomp(LinearRegression(), X_train, y_train,\n",
        "                                                  X_test, y_test, loss = 'mse',\n",
        "                                                  random_seed=np.random.seed(RANDOM_STATE))"
      ],
      "metadata": {
        "id": "diFVb_hF3kgx"
      },
      "execution_count": null,
      "outputs": []
    },
    {
      "cell_type": "code",
      "source": [
        "print('Loss:', avg_mse)\n",
        "print('Bias:', avg_bias)\n",
        "print('Variance:', avg_var)"
      ],
      "metadata": {
        "id": "6CcMdeDydgnJ",
        "colab": {
          "base_uri": "https://localhost:8080/"
        },
        "outputId": "32f99d9c-559a-4c7b-ae28-87eb5cc43bbe"
      },
      "execution_count": null,
      "outputs": [
        {
          "output_type": "stream",
          "name": "stdout",
          "text": [
            "Loss: 0.5311442880444522\n",
            "Bias: 0.5282182136689957\n",
            "Variance: 0.0029260743754565798\n"
          ]
        }
      ]
    },
    {
      "cell_type": "code",
      "source": [
        "avg_mse, avg_bias, avg_var = bias_variance_decomp(DecisionTreeRegressor(), X_train, y_train,\n",
        "                                                  X_test, y_test, loss = 'mse',\n",
        "                                                  random_seed=np.random.seed(RANDOM_STATE))"
      ],
      "metadata": {
        "id": "DgA9ONlSZdcQ"
      },
      "execution_count": null,
      "outputs": []
    },
    {
      "cell_type": "code",
      "source": [
        "print('Loss:', avg_mse)\n",
        "print('Bias:', avg_bias)\n",
        "print('Variance:', avg_var)"
      ],
      "metadata": {
        "id": "MWuj19GoZeI4",
        "colab": {
          "base_uri": "https://localhost:8080/"
        },
        "outputId": "1d5ff20e-face-4041-8b81-7074939cce55"
      },
      "execution_count": null,
      "outputs": [
        {
          "output_type": "stream",
          "name": "stdout",
          "text": [
            "Loss: 0.5662872207084668\n",
            "Bias: 0.2510460794697548\n",
            "Variance: 0.31524114123871183\n"
          ]
        }
      ]
    },
    {
      "cell_type": "markdown",
      "source": [
        "Мы видим, что решающее дерево гораздо точнее предсказывает целевую переменную, чем линейная регрессия  \n",
        "(*bias* гораздо меньше), но при этом гораздо сильнее переобучено (*variance* гораздо больше).  \n",
        "За счет этого суммарная ошибка у дерева чуть больше, чем у линейной регрессии.\n",
        "\n",
        "Путем подбора гиперпараметров дерева можно снизить переобучение и суммарную ошибку."
      ],
      "metadata": {
        "id": "B2V1gqwqedEQ"
      }
    }
  ]
}