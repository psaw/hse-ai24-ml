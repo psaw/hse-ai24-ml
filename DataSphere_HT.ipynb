{
  "nbformat": 4,
  "nbformat_minor": 0,
  "metadata": {
    "colab": {
      "provenance": []
    },
    "kernelspec": {
      "name": "python3",
      "display_name": "Python 3"
    },
    "language_info": {
      "name": "python"
    }
  },
  "cells": [
    {
      "cell_type": "markdown",
      "source": [
        "# Домашнее задание\n",
        "\n",
        "В этом домашнем задании вам предлагается попрактиковаться в обучении моделей в Yandex DataSphere!\n",
        "\n",
        "Вы будете решать задачу на части датасета Epsilon — это один из стандартных наборов данных, который часто используется для тестирования алгоритмов машинного обучения. Он был создан для задач регрессии и содержит сгенерированные данные, которые позволяют оценивать производительность моделей.\n",
        "\n",
        "▎Описание датасета Epsilon:\n",
        "\n",
        "• Цель: Задача регрессии, где цель состоит в предсказании целевой переменной на основе набора признаков.\n",
        "\n",
        "• Признаки: Датасет содержит 2000 признаков, из которых 100 являются полезными для предсказания целевой переменной, а остальные 1900 — шумовыми (неинформативными).\n",
        "\n",
        "• Целевая переменная: Целевая переменная представляет собой линейную комбинацию полезных признаков с добавлением случайного шума."
      ],
      "metadata": {
        "id": "D_X4O8o98hvT"
      }
    },
    {
      "cell_type": "markdown",
      "source": [
        "## Задание 1\n",
        "\n",
        "Создайте новый проект в DataSphere.\n",
        "Откройте Jupyter Notebook.\n",
        "Запишите в первой ячейке строки ниже и запустите код.\n",
        "При запуске выберите самую дешевую машину с 1 GPU (T4)."
      ],
      "metadata": {
        "id": "IsS2B2ZI9Cyv"
      }
    },
    {
      "cell_type": "code",
      "source": [
        "# !pip install catboost -q"
      ],
      "metadata": {
        "id": "YNeKj0e_woxV"
      },
      "execution_count": null,
      "outputs": []
    },
    {
      "cell_type": "code",
      "source": [
        "from catboost import CatBoostRegressor\n",
        "import pandas as pd\n",
        "import timeit"
      ],
      "metadata": {
        "id": "m3RstkGGwpel"
      },
      "execution_count": null,
      "outputs": []
    },
    {
      "cell_type": "markdown",
      "source": [
        "## Задание 2\n",
        "\n",
        "Скачайте данные для задачи из Yandex Object Storage по ссылке.\n",
        "\n",
        "Далее выделите матрицу объект-признак X и вектор с целевой переменной y (это столбец 0 в исходных данных).\n",
        "\n",
        "Сколько строк в датасете?"
      ],
      "metadata": {
        "id": "e-yjPfVw9aMz"
      }
    },
    {
      "cell_type": "code",
      "source": [
        "Data = pd.read_csv(\"https://storage.yandexcloud.net/epsilon/epsilon.csv\")\n",
        "Data.head()"
      ],
      "metadata": {
        "id": "WlM7AfYxwtp9"
      },
      "execution_count": null,
      "outputs": []
    },
    {
      "cell_type": "markdown",
      "source": [
        "## Задание 3\n",
        "\n",
        "При помощи train_test_split разбейте данные на тренировочную и тестовую часть в пропорции train : test = 3 : 1 и фиксируйте random_state = 42.\n",
        "\n",
        "Сколько строк попало в test?"
      ],
      "metadata": {
        "id": "PQ6sg6VN9n0h"
      }
    },
    {
      "cell_type": "code",
      "source": [
        "# ваш код здесь"
      ],
      "metadata": {
        "id": "yHlorZtqw2zE"
      },
      "execution_count": null,
      "outputs": []
    },
    {
      "cell_type": "markdown",
      "source": [
        "## Задание 4\n",
        "\n",
        "Запустите функции train_on_cpu и train_on_gpu из урока на данных из задания и замерьте время выполнения. Во сколько раз быстрее модель обучается на GPU?"
      ],
      "metadata": {
        "id": "0UIr8XFo90x4"
      }
    },
    {
      "cell_type": "code",
      "execution_count": null,
      "metadata": {
        "id": "I0tHGIECwjye"
      },
      "outputs": [],
      "source": [
        "def train_on_cpu():\n",
        "    model = CatBoostRegressor(\n",
        "    iterations=100,\n",
        "    learning_rate=0.03\n",
        "  )\n",
        "\n",
        "    model.fit(\n",
        "      X_train, y_train,\n",
        "      eval_set=(X_test, y_test),\n",
        "      verbose=10\n",
        "  );\n",
        "\n",
        "cpu_time = timeit.timeit('train_on_cpu()',\n",
        "                         setup=\"from __main__ import train_on_cpu\",\n",
        "                         number=1)\n",
        "\n",
        "print('Time to fit model on CPU: {} sec'.format(int(cpu_time)))"
      ]
    },
    {
      "cell_type": "code",
      "source": [
        "def train_on_gpu():\n",
        "    model = CatBoostRegressor(\n",
        "    iterations=100,\n",
        "    learning_rate=0.03,\n",
        "    task_type='GPU'\n",
        "  )\n",
        "\n",
        "    model.fit(\n",
        "      X_train, y_train,\n",
        "      eval_set=(X_test, y_test),\n",
        "      verbose=10\n",
        "  )\n",
        "\n",
        "gpu_time = timeit.timeit('train_on_gpu()',\n",
        "                         setup=\"from __main__ import train_on_gpu\",\n",
        "                         number=1)\n",
        "\n",
        "print('Time to fit model on GPU: {} sec'.format(int(gpu_time)))"
      ],
      "metadata": {
        "id": "ACGfZxEWzcMy"
      },
      "execution_count": null,
      "outputs": []
    },
    {
      "cell_type": "markdown",
      "source": [
        "## Задание 5\n",
        "\n",
        "Модифицируйте функцию train_on_gpu() так, чтобы она возвращала обученную модель. С помощью обученной на тренировочных данных модели сделайте прогноз на тесте и вычислите значение метрики r2-score.\n",
        "\n",
        "Округлите ответ до сотых. Какое число получилось?"
      ],
      "metadata": {
        "id": "qlE5c56b-dMi"
      }
    },
    {
      "cell_type": "code",
      "source": [
        "# ваш код здесь"
      ],
      "metadata": {
        "id": "pcztkIc2-puK"
      },
      "execution_count": null,
      "outputs": []
    },
    {
      "cell_type": "markdown",
      "source": [
        "## Задание 6\n",
        "\n",
        "При помощи GridSearchCV подберите гиперпараметры CatBoost на тренировочных данных:\n",
        "* n_estimators: [10, 100, 200]\n",
        "* max_depth: [4, 6, 8]\n",
        "\n",
        "Примените обученную методом лучшую модель (best_estimator_) на тестовых данных и выведите r2-score. Округлите его до сотых. Чему он равен?\n",
        "\n",
        "ВАЖНО! При подборе гиперпараметров может не хватать памяти, поэтому в этом случае в CatBoost поставьте `gpu_ram_part=0.5` - это будет означать, что вы ограничиваете использование памяти GPU 50-ю процентами (по умолчанию стоит 95%)."
      ],
      "metadata": {
        "id": "QRAlLQah-ClE"
      }
    },
    {
      "cell_type": "code",
      "source": [
        "# ваш код здесь"
      ],
      "metadata": {
        "id": "CkDVMB03z1F7"
      },
      "execution_count": null,
      "outputs": []
    },
    {
      "cell_type": "code",
      "source": [],
      "metadata": {
        "id": "WaEoEWeyALzs"
      },
      "execution_count": null,
      "outputs": []
    }
  ]
}