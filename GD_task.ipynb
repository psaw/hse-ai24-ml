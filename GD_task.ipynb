{
  "nbformat": 4,
  "nbformat_minor": 0,
  "metadata": {
    "colab": {
      "provenance": [],
      "include_colab_link": true
    },
    "kernelspec": {
      "name": "python3",
      "display_name": "Python 3"
    },
    "language_info": {
      "name": "python"
    }
  },
  "cells": [
    {
      "cell_type": "markdown",
      "metadata": {
        "id": "view-in-github",
        "colab_type": "text"
      },
      "source": [
        "<a href=\"https://colab.research.google.com/github/psaw/hse-ai24-ml/blob/main/GD_task.ipynb\" target=\"_parent\"><img src=\"https://colab.research.google.com/assets/colab-badge.svg\" alt=\"Open In Colab\"/></a>"
      ]
    },
    {
      "cell_type": "markdown",
      "source": [
        "# Градиентный спуск. Практика"
      ],
      "metadata": {
        "id": "2rIeJvNmzPJy"
      }
    },
    {
      "cell_type": "markdown",
      "source": [
        "## Импорт библиотек, установка константных значений"
      ],
      "metadata": {
        "id": "krXvdp0bzfJK"
      }
    },
    {
      "cell_type": "code",
      "source": [
        "import pandas as pd\n",
        "import numpy as np\n",
        "\n",
        "from sklearn.datasets import make_regression, fetch_california_housing\n",
        "from sklearn.metrics import r2_score\n",
        "from sklearn.model_selection import train_test_split"
      ],
      "metadata": {
        "id": "X6AuQbUpziB8"
      },
      "execution_count": 1,
      "outputs": []
    },
    {
      "cell_type": "code",
      "source": [
        "RANDOM_STATE = 123\n",
        "TRAIN_SIZE = 0.75"
      ],
      "metadata": {
        "id": "47ZRimlw6TEp"
      },
      "execution_count": 2,
      "outputs": []
    },
    {
      "cell_type": "code",
      "source": [
        "np.random.RandomState(RANDOM_STATE)"
      ],
      "metadata": {
        "id": "as1sEBKJt_Yb",
        "colab": {
          "base_uri": "https://localhost:8080/"
        },
        "outputId": "83d678ed-e640-48ca-d086-ed8edeb87224"
      },
      "execution_count": 3,
      "outputs": [
        {
          "output_type": "execute_result",
          "data": {
            "text/plain": [
              "RandomState(MT19937) at 0x7DD3CF7C8D40"
            ]
          },
          "metadata": {},
          "execution_count": 3
        }
      ]
    },
    {
      "cell_type": "code",
      "source": [
        "np.random.seed(RANDOM_STATE)\n",
        "\n",
        "X, y, _ = make_regression(n_samples=100000,              # число объектов\n",
        "                          n_features=10,                 # число признаков\n",
        "                          n_informative=8,               # число информативных признаков\n",
        "                          noise=100,                     # уровень шума в данных\n",
        "                          coef=True,                     # значение True используется при генерации данных\n",
        "                          random_state=RANDOM_STATE)\n",
        "\n",
        "X = pd.DataFrame(data=X, columns=np.arange(0, X.shape[1]))\n",
        "X[10] = X[6] + X[7] + np.random.random()*0.01"
      ],
      "metadata": {
        "id": "S6nTuMqGGqp2"
      },
      "execution_count": 22,
      "outputs": []
    },
    {
      "cell_type": "markdown",
      "source": [
        "## Практика"
      ],
      "metadata": {
        "id": "ii1alV-Mtheh"
      }
    },
    {
      "cell_type": "markdown",
      "source": [
        "Реализуем метод градиентного спуска для обучения линейной регрессии."
      ],
      "metadata": {
        "id": "QvAfKSZkttN6"
      }
    },
    {
      "cell_type": "markdown",
      "source": [
        "### Задание 1 (1 балл)"
      ],
      "metadata": {
        "id": "oeueMbAitu84"
      }
    },
    {
      "cell_type": "markdown",
      "source": [
        "\n",
        "Напишите функцию, вычисляющую значение весов в линейной регрессии по точной (аналитически найденной) формуле:\n",
        "\n",
        "$$w = (X^TX)^{-1}X^Ty$$\n",
        "\n",
        "Комментарий: для поиска решения в векторном виде сначала необходимо добавить единичный столбец к матрице $X$.\n",
        "Это сделано в коде."
      ],
      "metadata": {
        "id": "lm6_Ln0GoliG"
      }
    },
    {
      "cell_type": "code",
      "source": [
        "def ols_solution(X, y):\n",
        "    X = np.hstack((np.ones((X.shape[0], 1)), X))\n",
        "    # ваш код здесь\n",
        "    w = np.linalg.inv(X.T @ X) @ X.T @ y\n",
        "\n",
        "    return w"
      ],
      "metadata": {
        "id": "ZrVvpU9miOga"
      },
      "execution_count": 23,
      "outputs": []
    },
    {
      "cell_type": "markdown",
      "source": [
        "### Задание 2 (1 балл)"
      ],
      "metadata": {
        "id": "1dzeu5eRtz6Z"
      }
    },
    {
      "cell_type": "markdown",
      "source": [
        "Заполните функцию для предсказания модели по формуле\n",
        "$$a(X)=Xw$$"
      ],
      "metadata": {
        "id": "AMBKhU7Zhaev"
      }
    },
    {
      "cell_type": "code",
      "source": [
        "def prediction(X, w):\n",
        "    X = np.hstack((np.ones((X.shape[0], 1)), X))\n",
        "    # ваш код здесь\n",
        "    predictions = X @ w\n",
        "\n",
        "    return predictions"
      ],
      "metadata": {
        "id": "CI63O1eUhmyx"
      },
      "execution_count": 24,
      "outputs": []
    },
    {
      "cell_type": "markdown",
      "source": [
        "Продублируем функцию для вычисления значения MSE из урока"
      ],
      "metadata": {
        "id": "OaPciXsEmznh"
      }
    },
    {
      "cell_type": "code",
      "source": [
        "def compute_cost(X, y, theta):\n",
        "    m = len(y)\n",
        "    cost = (1./m) * (np.linalg.norm(X @ theta - y) ** 2)\n",
        "    return cost"
      ],
      "metadata": {
        "id": "PqzBobT-m28D"
      },
      "execution_count": 25,
      "outputs": []
    },
    {
      "cell_type": "markdown",
      "source": [
        "### Задание 3"
      ],
      "metadata": {
        "id": "y592oWsDuJ9R"
      }
    },
    {
      "cell_type": "markdown",
      "source": [
        "Скопируйте метод градиентного спуска из [урока](https://colab.research.google.com/drive/1Bos0LeQP9AAB-nrS0z8b-8ag5xRSEdty?usp=sharing) в этот ноутбук.\n"
      ],
      "metadata": {
        "id": "VFANmcnV5DWz"
      }
    },
    {
      "cell_type": "code",
      "source": [
        "# ваш код здесь\n",
        "def gradient_descent(X, y, learning_rate, iterations):\n",
        "\n",
        "    X_b = np.hstack((np.ones((X.shape[0], 1)), X)) # добавляем к Х столбец из 1\n",
        "    params = np.random.rand(X_b.shape[1])\n",
        "\n",
        "    m = len(y)\n",
        "\n",
        "    cost_track = np.zeros((iterations,1))\n",
        "\n",
        "    for i in range(iterations):\n",
        "        params = params - 2./m * learning_rate * (X_b.T @ ((X_b @ params) - y))\n",
        "        cost_track[i] = compute_cost(X_b, y, params)\n",
        "\n",
        "    return cost_track, params\n",
        "\n",
        "def predict(X, params):\n",
        "    X_b = np.hstack((np.ones((X_b.shape[0], 1)), X_b))\n",
        "    return X_b @ params"
      ],
      "metadata": {
        "id": "VB9oE8Sg1WG9"
      },
      "execution_count": 28,
      "outputs": []
    },
    {
      "cell_type": "markdown",
      "source": [
        "### Бонус для отважных"
      ],
      "metadata": {
        "id": "X_3A_UGWztbY"
      }
    },
    {
      "cell_type": "markdown",
      "source": [
        "Если чувствуете в себе силы, попробуйте написать SGD сами."
      ],
      "metadata": {
        "id": "GMujXdy75Lb2"
      }
    },
    {
      "cell_type": "markdown",
      "source": [
        "Модифицируйте метод градиентного спуска из урока так, чтобы это теперь был метод стохастического градиентного спуска:\n",
        "\n",
        "* на каждой итерации выбирайте один случайный индекс `j` при помощи функции `random.randint`\n",
        "\n",
        "* градиент на каждой итерации градиентного спуска считайте не как сумму градиентов по всем объектам, а только по одному объекту с индексом `j`\n",
        "\n",
        "* на каждой итерации вычисляйте значение функции потерь и сохраняйте в список `cost_track`, который верните вместе с результатом работы функции"
      ],
      "metadata": {
        "id": "_shCsTQ1pVcU"
      }
    },
    {
      "cell_type": "code",
      "source": [
        "import random\n",
        "\n",
        "def stochastic_gradient_descent(X, y, learning_rate, iterations):\n",
        "    # Добавляем единичный столбец к матрице X\n",
        "    X_b = np.hstack((np.ones((X.shape[0], 1)), X))\n",
        "    # Инициализация параметров случайными значениями\n",
        "    params = np.random.rand(X_b.shape[1])\n",
        "\n",
        "    j = 0\n",
        "\n",
        "    cost_track = np.zeros((iterations,1))\n",
        "\n",
        "    for i in range(iterations):\n",
        "\n",
        "        # выберите случайный индекс в диапазон от 0 до len(X)-1 включительно при помощи функции random.randint\n",
        "        j = random.randint(0, len(y) - 1)\n",
        "\n",
        "        # обновите веса, используя сдвиг по градиенту только по объекту X[j] (делить на m в данном случае не нужно)\n",
        "        gradient = X_b[j] @ params\n",
        "        gradient = gradient - y[j]\n",
        "        gradient = X_b[j].T * gradient\n",
        "\n",
        "        params -= learning_rate * gradient              # Обновление параметров\n",
        "        cost_track[i] = compute_cost(X_b, y, params)\n",
        "\n",
        "    return cost_track, params"
      ],
      "metadata": {
        "id": "fTZWxz1zpb9R"
      },
      "execution_count": 65,
      "outputs": []
    },
    {
      "cell_type": "code",
      "source": [
        "import random\n",
        "\n",
        "def stochastic_gradient_descent(X, y, learning_rate, iterations):\n",
        "    X_b = np.c_[np.ones((X.shape[0], 1)), X]  # Добавляем столбец единиц\n",
        "    m = len(y)\n",
        "    params = np.random.rand(X_b.shape[1])\n",
        "    cost_track = np.zeros(iterations)\n",
        "\n",
        "    for i in range(iterations):\n",
        "        j = random.randint(0, m - 1)  # Случайный индекс\n",
        "        gradient = (X_b[j].T @ (X_b[j] @ params - y[j]))  # Градиент для одного примера\n",
        "        params -= learning_rate * gradient\n",
        "        cost_track[i] = compute_cost(X_b, y, params)\n",
        "\n",
        "    return cost_track, params"
      ],
      "metadata": {
        "id": "gyVH122WyggA"
      },
      "execution_count": 48,
      "outputs": []
    },
    {
      "cell_type": "markdown",
      "source": [
        "- Обучите линейную регрессию тремя методами (по точной формуле, с помощью GD и с помощью SGD) на данных для задачи регрессии ($X, y$). Для GD и самостоятельно написанного SGD используйте `learning_rate = 0.01, iterations = 10000`.\n",
        "\n",
        "*P.S. Если же вы используете не самописный SGD, а SGDRegressor из библиотеки sklearn.linear_model, то его объявляйте с гиперпараметрами по умолчанию, то есть в скобках при объявлении модели ничего не указывайте.*\n",
        "\n",
        "- С помощью каждого метода сделайте предсказание (на всех данных), вычислите качество предсказания r2 (`from sklearn.metrics import r2_score`). Для получения предсказания использовуйте функцию `predict`.\n"
      ],
      "metadata": {
        "id": "WnRlUa9Npi9o"
      }
    },
    {
      "cell_type": "code",
      "source": [
        "# Параметры обучения\n",
        "\n",
        "# 1 - находим веса одним из методов\n",
        "\n",
        "# 2 - применяем функцию prediction для получения предсказаний с найденными весами (либо predict в случае использования SGDRegressor из библиотеки sklearn)\n",
        "\n",
        "# 3 - вычисляем значение метрики r2"
      ],
      "metadata": {
        "id": "2TkO2mh5ky0m"
      },
      "execution_count": null,
      "outputs": []
    },
    {
      "cell_type": "code",
      "source": [
        "from sklearn.metrics import r2_score"
      ],
      "metadata": {
        "id": "zer-Ar_ekU7q"
      },
      "execution_count": 30,
      "outputs": []
    },
    {
      "cell_type": "code",
      "source": [
        "# your code for OLS here\n",
        "learning_rate = 0.01\n",
        "iterations = 10000\n"
      ],
      "metadata": {
        "id": "5cVilZVsmAys"
      },
      "execution_count": 31,
      "outputs": []
    },
    {
      "cell_type": "markdown",
      "source": [
        "## Quiz\n",
        "\n",
        "Чему равно значение метрики $R^2$ для аналитического подхода?\n",
        "\n",
        "Ответ округлите до сотых."
      ],
      "metadata": {
        "id": "ezvQOKaEkaLX"
      }
    },
    {
      "cell_type": "code",
      "source": [
        "# Обучение по точной формуле\n",
        "w_exact = ols_solution(X, y)\n",
        "y_exact = prediction(X, w_exact)\n",
        "r2_exact = r2_score(y, y_exact)\n",
        "print(f'{r2_exact=}')"
      ],
      "metadata": {
        "id": "O_MDhoXs5tkd",
        "colab": {
          "base_uri": "https://localhost:8080/"
        },
        "outputId": "4416ce9a-e057-4079-8a50-198809a7f29d"
      },
      "execution_count": 32,
      "outputs": [
        {
          "output_type": "stream",
          "name": "stdout",
          "text": [
            "r2_exact=0.7545372732317198\n"
          ]
        }
      ]
    },
    {
      "cell_type": "code",
      "source": [
        "# Обучение с помощью GD\n",
        "cost_gd, w_gd = gradient_descent(X, y, learning_rate, iterations)\n",
        "y_gd = prediction(X, w_gd)\n",
        "r2_gd = r2_score(y, y_gd)\n",
        "print(f'{r2_gd=}')"
      ],
      "metadata": {
        "id": "SzzX_Fxfyqjn",
        "outputId": "bb2e488b-2207-4833-f0f0-b1302ba825bc",
        "colab": {
          "base_uri": "https://localhost:8080/"
        }
      },
      "execution_count": 33,
      "outputs": [
        {
          "output_type": "stream",
          "name": "stdout",
          "text": [
            "r2_gd=0.7554626185750483\n"
          ]
        }
      ]
    },
    {
      "cell_type": "code",
      "source": [
        "\n",
        "# Обучение с помощью SGD\n",
        "cost_sgd, w_sgd = stochastic_gradient_descent(X, y, learning_rate, iterations)\n",
        "y_sgd = prediction(X, w_sgd)\n",
        "r2_sgd = r2_score(y, y_sgd)\n",
        "print(f'{r2_sgd=}')"
      ],
      "metadata": {
        "id": "8MGJmCCcyq59",
        "outputId": "4ebe42e7-5977-4b39-c5c2-002665b12d9f",
        "colab": {
          "base_uri": "https://localhost:8080/",
          "height": 460
        }
      },
      "execution_count": 66,
      "outputs": [
        {
          "output_type": "stream",
          "name": "stderr",
          "text": [
            "<ipython-input-25-0b3fc56398f9>:3: RuntimeWarning: overflow encountered in matmul\n",
            "  cost = (1./m) * (np.linalg.norm(X @ theta - y) ** 2)\n",
            "<ipython-input-65-2f2421c39d31>:21: RuntimeWarning: overflow encountered in multiply\n",
            "  gradient = X_b[j].T * gradient\n",
            "<ipython-input-65-2f2421c39d31>:23: RuntimeWarning: invalid value encountered in subtract\n",
            "  params -= learning_rate * gradient              # Обновление параметров\n"
          ]
        },
        {
          "output_type": "error",
          "ename": "ValueError",
          "evalue": "Input contains NaN.",
          "traceback": [
            "\u001b[0;31m---------------------------------------------------------------------------\u001b[0m",
            "\u001b[0;31mValueError\u001b[0m                                Traceback (most recent call last)",
            "\u001b[0;32m<ipython-input-66-3383e538f5cc>\u001b[0m in \u001b[0;36m<cell line: 4>\u001b[0;34m()\u001b[0m\n\u001b[1;32m      2\u001b[0m \u001b[0mcost_sgd\u001b[0m\u001b[0;34m,\u001b[0m \u001b[0mw_sgd\u001b[0m \u001b[0;34m=\u001b[0m \u001b[0mstochastic_gradient_descent\u001b[0m\u001b[0;34m(\u001b[0m\u001b[0mX\u001b[0m\u001b[0;34m,\u001b[0m \u001b[0my\u001b[0m\u001b[0;34m,\u001b[0m \u001b[0mlearning_rate\u001b[0m\u001b[0;34m,\u001b[0m \u001b[0miterations\u001b[0m\u001b[0;34m)\u001b[0m\u001b[0;34m\u001b[0m\u001b[0;34m\u001b[0m\u001b[0m\n\u001b[1;32m      3\u001b[0m \u001b[0my_sgd\u001b[0m \u001b[0;34m=\u001b[0m \u001b[0mprediction\u001b[0m\u001b[0;34m(\u001b[0m\u001b[0mX\u001b[0m\u001b[0;34m,\u001b[0m \u001b[0mw_sgd\u001b[0m\u001b[0;34m)\u001b[0m\u001b[0;34m\u001b[0m\u001b[0;34m\u001b[0m\u001b[0m\n\u001b[0;32m----> 4\u001b[0;31m \u001b[0mr2_sgd\u001b[0m \u001b[0;34m=\u001b[0m \u001b[0mr2_score\u001b[0m\u001b[0;34m(\u001b[0m\u001b[0my\u001b[0m\u001b[0;34m,\u001b[0m \u001b[0my_sgd\u001b[0m\u001b[0;34m)\u001b[0m\u001b[0;34m\u001b[0m\u001b[0;34m\u001b[0m\u001b[0m\n\u001b[0m\u001b[1;32m      5\u001b[0m \u001b[0mprint\u001b[0m\u001b[0;34m(\u001b[0m\u001b[0;34mf'{r2_sgd=}'\u001b[0m\u001b[0;34m)\u001b[0m\u001b[0;34m\u001b[0m\u001b[0;34m\u001b[0m\u001b[0m\n",
            "\u001b[0;32m/usr/local/lib/python3.10/dist-packages/sklearn/utils/_param_validation.py\u001b[0m in \u001b[0;36mwrapper\u001b[0;34m(*args, **kwargs)\u001b[0m\n\u001b[1;32m    211\u001b[0m                     )\n\u001b[1;32m    212\u001b[0m                 ):\n\u001b[0;32m--> 213\u001b[0;31m                     \u001b[0;32mreturn\u001b[0m \u001b[0mfunc\u001b[0m\u001b[0;34m(\u001b[0m\u001b[0;34m*\u001b[0m\u001b[0margs\u001b[0m\u001b[0;34m,\u001b[0m \u001b[0;34m**\u001b[0m\u001b[0mkwargs\u001b[0m\u001b[0;34m)\u001b[0m\u001b[0;34m\u001b[0m\u001b[0;34m\u001b[0m\u001b[0m\n\u001b[0m\u001b[1;32m    214\u001b[0m             \u001b[0;32mexcept\u001b[0m \u001b[0mInvalidParameterError\u001b[0m \u001b[0;32mas\u001b[0m \u001b[0me\u001b[0m\u001b[0;34m:\u001b[0m\u001b[0;34m\u001b[0m\u001b[0;34m\u001b[0m\u001b[0m\n\u001b[1;32m    215\u001b[0m                 \u001b[0;31m# When the function is just a wrapper around an estimator, we allow\u001b[0m\u001b[0;34m\u001b[0m\u001b[0;34m\u001b[0m\u001b[0m\n",
            "\u001b[0;32m/usr/local/lib/python3.10/dist-packages/sklearn/metrics/_regression.py\u001b[0m in \u001b[0;36mr2_score\u001b[0;34m(y_true, y_pred, sample_weight, multioutput, force_finite)\u001b[0m\n\u001b[1;32m   1202\u001b[0m     \u001b[0mdtype\u001b[0m \u001b[0;34m=\u001b[0m \u001b[0m_find_matching_floating_dtype\u001b[0m\u001b[0;34m(\u001b[0m\u001b[0my_true\u001b[0m\u001b[0;34m,\u001b[0m \u001b[0my_pred\u001b[0m\u001b[0;34m,\u001b[0m \u001b[0msample_weight\u001b[0m\u001b[0;34m,\u001b[0m \u001b[0mxp\u001b[0m\u001b[0;34m=\u001b[0m\u001b[0mxp\u001b[0m\u001b[0;34m)\u001b[0m\u001b[0;34m\u001b[0m\u001b[0;34m\u001b[0m\u001b[0m\n\u001b[1;32m   1203\u001b[0m \u001b[0;34m\u001b[0m\u001b[0m\n\u001b[0;32m-> 1204\u001b[0;31m     _, y_true, y_pred, multioutput = _check_reg_targets(\n\u001b[0m\u001b[1;32m   1205\u001b[0m         \u001b[0my_true\u001b[0m\u001b[0;34m,\u001b[0m \u001b[0my_pred\u001b[0m\u001b[0;34m,\u001b[0m \u001b[0mmultioutput\u001b[0m\u001b[0;34m,\u001b[0m \u001b[0mdtype\u001b[0m\u001b[0;34m=\u001b[0m\u001b[0mdtype\u001b[0m\u001b[0;34m,\u001b[0m \u001b[0mxp\u001b[0m\u001b[0;34m=\u001b[0m\u001b[0mxp\u001b[0m\u001b[0;34m\u001b[0m\u001b[0;34m\u001b[0m\u001b[0m\n\u001b[1;32m   1206\u001b[0m     )\n",
            "\u001b[0;32m/usr/local/lib/python3.10/dist-packages/sklearn/metrics/_regression.py\u001b[0m in \u001b[0;36m_check_reg_targets\u001b[0;34m(y_true, y_pred, multioutput, dtype, xp)\u001b[0m\n\u001b[1;32m    111\u001b[0m     \u001b[0mcheck_consistent_length\u001b[0m\u001b[0;34m(\u001b[0m\u001b[0my_true\u001b[0m\u001b[0;34m,\u001b[0m \u001b[0my_pred\u001b[0m\u001b[0;34m)\u001b[0m\u001b[0;34m\u001b[0m\u001b[0;34m\u001b[0m\u001b[0m\n\u001b[1;32m    112\u001b[0m     \u001b[0my_true\u001b[0m \u001b[0;34m=\u001b[0m \u001b[0mcheck_array\u001b[0m\u001b[0;34m(\u001b[0m\u001b[0my_true\u001b[0m\u001b[0;34m,\u001b[0m \u001b[0mensure_2d\u001b[0m\u001b[0;34m=\u001b[0m\u001b[0;32mFalse\u001b[0m\u001b[0;34m,\u001b[0m \u001b[0mdtype\u001b[0m\u001b[0;34m=\u001b[0m\u001b[0mdtype\u001b[0m\u001b[0;34m)\u001b[0m\u001b[0;34m\u001b[0m\u001b[0;34m\u001b[0m\u001b[0m\n\u001b[0;32m--> 113\u001b[0;31m     \u001b[0my_pred\u001b[0m \u001b[0;34m=\u001b[0m \u001b[0mcheck_array\u001b[0m\u001b[0;34m(\u001b[0m\u001b[0my_pred\u001b[0m\u001b[0;34m,\u001b[0m \u001b[0mensure_2d\u001b[0m\u001b[0;34m=\u001b[0m\u001b[0;32mFalse\u001b[0m\u001b[0;34m,\u001b[0m \u001b[0mdtype\u001b[0m\u001b[0;34m=\u001b[0m\u001b[0mdtype\u001b[0m\u001b[0;34m)\u001b[0m\u001b[0;34m\u001b[0m\u001b[0;34m\u001b[0m\u001b[0m\n\u001b[0m\u001b[1;32m    114\u001b[0m \u001b[0;34m\u001b[0m\u001b[0m\n\u001b[1;32m    115\u001b[0m     \u001b[0;32mif\u001b[0m \u001b[0my_true\u001b[0m\u001b[0;34m.\u001b[0m\u001b[0mndim\u001b[0m \u001b[0;34m==\u001b[0m \u001b[0;36m1\u001b[0m\u001b[0;34m:\u001b[0m\u001b[0;34m\u001b[0m\u001b[0;34m\u001b[0m\u001b[0m\n",
            "\u001b[0;32m/usr/local/lib/python3.10/dist-packages/sklearn/utils/validation.py\u001b[0m in \u001b[0;36mcheck_array\u001b[0;34m(array, accept_sparse, accept_large_sparse, dtype, order, copy, force_writeable, force_all_finite, ensure_2d, allow_nd, ensure_min_samples, ensure_min_features, estimator, input_name)\u001b[0m\n\u001b[1;32m   1062\u001b[0m \u001b[0;34m\u001b[0m\u001b[0m\n\u001b[1;32m   1063\u001b[0m         \u001b[0;32mif\u001b[0m \u001b[0mforce_all_finite\u001b[0m\u001b[0;34m:\u001b[0m\u001b[0;34m\u001b[0m\u001b[0;34m\u001b[0m\u001b[0m\n\u001b[0;32m-> 1064\u001b[0;31m             _assert_all_finite(\n\u001b[0m\u001b[1;32m   1065\u001b[0m                 \u001b[0marray\u001b[0m\u001b[0;34m,\u001b[0m\u001b[0;34m\u001b[0m\u001b[0;34m\u001b[0m\u001b[0m\n\u001b[1;32m   1066\u001b[0m                 \u001b[0minput_name\u001b[0m\u001b[0;34m=\u001b[0m\u001b[0minput_name\u001b[0m\u001b[0;34m,\u001b[0m\u001b[0;34m\u001b[0m\u001b[0;34m\u001b[0m\u001b[0m\n",
            "\u001b[0;32m/usr/local/lib/python3.10/dist-packages/sklearn/utils/validation.py\u001b[0m in \u001b[0;36m_assert_all_finite\u001b[0;34m(X, allow_nan, msg_dtype, estimator_name, input_name)\u001b[0m\n\u001b[1;32m    121\u001b[0m         \u001b[0;32mreturn\u001b[0m\u001b[0;34m\u001b[0m\u001b[0;34m\u001b[0m\u001b[0m\n\u001b[1;32m    122\u001b[0m \u001b[0;34m\u001b[0m\u001b[0m\n\u001b[0;32m--> 123\u001b[0;31m     _assert_all_finite_element_wise(\n\u001b[0m\u001b[1;32m    124\u001b[0m         \u001b[0mX\u001b[0m\u001b[0;34m,\u001b[0m\u001b[0;34m\u001b[0m\u001b[0;34m\u001b[0m\u001b[0m\n\u001b[1;32m    125\u001b[0m         \u001b[0mxp\u001b[0m\u001b[0;34m=\u001b[0m\u001b[0mxp\u001b[0m\u001b[0;34m,\u001b[0m\u001b[0;34m\u001b[0m\u001b[0;34m\u001b[0m\u001b[0m\n",
            "\u001b[0;32m/usr/local/lib/python3.10/dist-packages/sklearn/utils/validation.py\u001b[0m in \u001b[0;36m_assert_all_finite_element_wise\u001b[0;34m(X, xp, allow_nan, msg_dtype, estimator_name, input_name)\u001b[0m\n\u001b[1;32m    170\u001b[0m                 \u001b[0;34m\"#estimators-that-handle-nan-values\"\u001b[0m\u001b[0;34m\u001b[0m\u001b[0;34m\u001b[0m\u001b[0m\n\u001b[1;32m    171\u001b[0m             )\n\u001b[0;32m--> 172\u001b[0;31m         \u001b[0;32mraise\u001b[0m \u001b[0mValueError\u001b[0m\u001b[0;34m(\u001b[0m\u001b[0mmsg_err\u001b[0m\u001b[0;34m)\u001b[0m\u001b[0;34m\u001b[0m\u001b[0;34m\u001b[0m\u001b[0m\n\u001b[0m\u001b[1;32m    173\u001b[0m \u001b[0;34m\u001b[0m\u001b[0m\n\u001b[1;32m    174\u001b[0m \u001b[0;34m\u001b[0m\u001b[0m\n",
            "\u001b[0;31mValueError\u001b[0m: Input contains NaN."
          ]
        }
      ]
    },
    {
      "cell_type": "markdown",
      "source": [
        "## Quiz\n",
        "\n",
        "Нарисуйте траекторию уменьшения ошибки при обучении градиентного спуска (это параметр `cost_track`, возвращаемый функцией).\n",
        "\n",
        "Чему приблизительно равен loss модели на последних итерациях?\n",
        "\n",
        "Выберите наиболее близкий к полученному вами ответ."
      ],
      "metadata": {
        "id": "HaasnKmj2Eje"
      }
    },
    {
      "cell_type": "code",
      "source": [
        "import matplotlib.pyplot as plt\n",
        "# your code here\n",
        "# Визуализация траектории уменьшения ошибки\n",
        "plt.figure(figsize=(10, 6))\n",
        "plt.plot(cost_gd[:100], label='Cost (GD)', color='blue')  # Показываем только первые 100 итераций для наглядности\n",
        "plt.title('Траектория уменьшения ошибки при обучении градиентного спуска')\n",
        "plt.xlabel('Итерации')\n",
        "plt.ylabel('Стоимость')\n",
        "plt.legend()\n",
        "plt.grid()\n",
        "plt.show()"
      ],
      "metadata": {
        "id": "CNTHJzS22QeT",
        "colab": {
          "base_uri": "https://localhost:8080/",
          "height": 564
        },
        "outputId": "233a2373-9a2b-4dbc-ccc9-6d7475457755"
      },
      "execution_count": 57,
      "outputs": [
        {
          "output_type": "display_data",
          "data": {
            "text/plain": [
              "<Figure size 1000x600 with 1 Axes>"
            ],
            "image/png": "[encoded data removed]"
          },
          "metadata": {}
        }
      ]
    },
    {
      "cell_type": "code",
      "source": [
        "# your code for SGD here\n"
      ],
      "metadata": {
        "id": "6yLEdtQOmCYL"
      },
      "execution_count": null,
      "outputs": []
    },
    {
      "cell_type": "markdown",
      "source": [
        "## Quiz\n",
        "\n",
        "Измерьте время работы аналитического подхода, а также GD и SGD (используйте magic command [`%%time`](https://ipython.readthedocs.io/en/stable/interactive/magics.html)).\n",
        "\n",
        "Упорядочите результаты по возрастанию."
      ],
      "metadata": {
        "id": "hE7jBuyWkePj"
      }
    },
    {
      "cell_type": "code",
      "source": [
        "%%time\n"
      ],
      "metadata": {
        "id": "jRLFaI8vxBLp"
      },
      "execution_count": null,
      "outputs": []
    },
    {
      "cell_type": "markdown",
      "source": [
        "## Тестирование моделей на реальных данных\n",
        "\n",
        "В реальных задачах никто не пишет методы с нуля, если они уже реализованы в python. Самостоятельная реализация методов полезна для получения навыков программирования и более глубокого понимания алгоритмов.\n",
        "\n",
        "Давайте применим уже готовые методы из `sklearn` для решения задачи регрессии."
      ],
      "metadata": {
        "id": "7Lne3c3I1swS"
      }
    },
    {
      "cell_type": "code",
      "source": [
        "data = fetch_california_housing(as_frame=True)\n",
        "\n",
        "X = data.data\n",
        "y = data.target"
      ],
      "metadata": {
        "id": "qUhkRgYm1usp"
      },
      "execution_count": 58,
      "outputs": []
    },
    {
      "cell_type": "markdown",
      "source": [
        "Разобъем данные на трейн и тест"
      ],
      "metadata": {
        "id": "BlsxS_mb18A8"
      }
    },
    {
      "cell_type": "code",
      "source": [
        "X_train, X_test, y_train, y_test = train_test_split(\n",
        "    X,\n",
        "    y,\n",
        "    train_size=TRAIN_SIZE,\n",
        "    random_state=RANDOM_STATE\n",
        "    )"
      ],
      "metadata": {
        "id": "tKKC-nWE13ek"
      },
      "execution_count": 59,
      "outputs": []
    },
    {
      "cell_type": "markdown",
      "source": [
        "Для решения этой задачи попробуйте следующие модели:\n",
        "\n",
        "* `LinearRegression` из `sklearn`\n",
        "* `SGDRegressor` из `sklearn`\n",
        "\n",
        "Обучите модели на тренировочных данных с параметрами по умолчанию и сделайте предсказание на тесте.\n",
        "Вычислите значение $R^2$"
      ],
      "metadata": {
        "id": "1nxiq6Uq2K47"
      }
    },
    {
      "cell_type": "code",
      "source": [
        "# ваш код здесь (Linear Regression)\n",
        "from sklearn.linear_model import LinearRegression, SGDRegressor\n",
        "\n",
        "lr = LinearRegression()\n",
        "lr = lr.fit(X_train, y_train)\n",
        "y_pred = lr.predict(X_test)\n",
        "r2_lr = r2_score(y_test, y_pred)\n",
        "print(r2_lr)"
      ],
      "metadata": {
        "id": "PdoNyLJy165x",
        "colab": {
          "base_uri": "https://localhost:8080/"
        },
        "outputId": "e93e5b86-8918-4f04-871d-a3467ce9fc64"
      },
      "execution_count": 61,
      "outputs": [
        {
          "output_type": "stream",
          "name": "stdout",
          "text": [
            "0.6078944086580236\n"
          ]
        }
      ]
    },
    {
      "cell_type": "code",
      "source": [
        "sgdr = SGDRegressor()\n",
        "sgdr = sgdr.fit(X_train, y_train)\n",
        "y_pred2 = sgdr.predict(X_test)\n",
        "r2_sgdr = r2_score(y_test, y_pred2)\n",
        "print(r2_sgdr)"
      ],
      "metadata": {
        "id": "IxRwnO0T6YY5",
        "outputId": "71a356c1-f871-472d-cbdb-ad698e762be3",
        "colab": {
          "base_uri": "https://localhost:8080/"
        }
      },
      "execution_count": 62,
      "outputs": [
        {
          "output_type": "stream",
          "name": "stdout",
          "text": [
            "-3.740074981050064e+29\n"
          ]
        }
      ]
    },
    {
      "cell_type": "markdown",
      "source": [
        "## Quiz\n",
        "\n",
        "Чему равно значение $R^2$ для модели LinearRegression на тестовых данных?\n",
        "\n",
        "Ответ округлите до сотых."
      ],
      "metadata": {
        "id": "hq6lwN9ZmNgL"
      }
    },
    {
      "cell_type": "code",
      "source": [
        "# ваш код здесь (SGD Regressor)\n",
        "..."
      ],
      "metadata": {
        "id": "atfZE2L0mNwz"
      },
      "execution_count": null,
      "outputs": []
    },
    {
      "cell_type": "markdown",
      "source": [
        "## Quiz\n",
        "\n",
        "Какая модель с параметрами по умолчанию лучше справилась с предсказанием стоимости домов в Калифорнии?"
      ],
      "metadata": {
        "id": "BH56-5XHl9qg"
      }
    },
    {
      "cell_type": "markdown",
      "source": [
        "## Quiz\n",
        "\n",
        "Проинтерпретируйте качество метода SGDRegressor. Выберите наиболее подходящий вариант."
      ],
      "metadata": {
        "id": "W2yCxAIL37e7"
      }
    },
    {
      "cell_type": "code",
      "source": [],
      "metadata": {
        "id": "ce6Fbt_l6HAU"
      },
      "execution_count": null,
      "outputs": []
    }
  ]
}