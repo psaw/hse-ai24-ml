{
 "cells": [
  {
   "cell_type": "code",
   "execution_count": 1,
   "metadata": {},
   "outputs": [
    {
     "name": "stdout",
     "output_type": "stream",
     "text": [
      "[5, 7, 9]\n"
     ]
    }
   ],
   "source": [
    "result = list(map(lambda x, y: x + y, [1, 2, 3], [4, 5, 6]))\n",
    "print(result)"
   ]
  },
  {
   "cell_type": "code",
   "execution_count": 7,
   "metadata": {},
   "outputs": [
    {
     "name": "stdout",
     "output_type": "stream",
     "text": [
      "42\n"
     ]
    }
   ],
   "source": [
    "# input_str = \"8 11 2 -1 42\"\n",
    "input_str = input()\n",
    "nums = map(int, input_str.split())\n",
    "print(max(nums))"
   ]
  },
  {
   "cell_type": "code",
   "execution_count": null,
   "metadata": {},
   "outputs": [],
   "source": [
    "# input_str = \"8 11 2 -1 42\"\n",
    "from sys import stdin\n",
    "input_str = stdin.readline().strip()\n",
    "nums = input_str.split()\n",
    "nums = [int(num) for num in nums]\n",
    "nums.sort()\n",
    "print(nums[-1])"
   ]
  },
  {
   "cell_type": "code",
   "execution_count": null,
   "metadata": {},
   "outputs": [
    {
     "name": "stdout",
     "output_type": "stream",
     "text": [
      "True\n"
     ]
    }
   ],
   "source": [
    "'''Напишите программу, которая определяет, является ли введенный год високосным.\n",
    "В качестве ответа программа должна вывести True или False.\n",
    "\n",
    "Ввод\n",
    "На вход подается строка, состоящая из одного числа\n",
    "\n",
    "Вывод\n",
    "В единственной строке выводится значение True или False\n",
    "'''\n",
    "\n",
    "def solution(year: int) -> bool:\n",
    "    return year % 4 == 0 and (year % 100 != 0 or year % 400 == 0)\n",
    "\n",
    "print(solution(int(input())))"
   ]
  },
  {
   "cell_type": "code",
   "execution_count": 36,
   "metadata": {},
   "outputs": [
    {
     "name": "stdout",
     "output_type": "stream",
     "text": [
      "12586269025\n"
     ]
    }
   ],
   "source": [
    "\"\"\"Напишите программу, которая выводит n-ое число ряда Фибоначчи.\n",
    "\n",
    "Ввод\n",
    "На вход подается строка, состоящая из одного неотрицательного целого числа (n)\n",
    "\n",
    "Вывод\n",
    "В единственной строке выводится значение n-ого числа Фибоначчи (F_n)\n",
    "\"\"\"\n",
    "fib = [0, 1]\n",
    "\n",
    "def solution(n: int) -> int:\n",
    "    # put your python code here \n",
    "    if len(fib) <= n:\n",
    "        fib.append(solution(n - 1) + solution(n - 2))\n",
    "    return fib[n]\n",
    "\n",
    "print(solution(int(input())))"
   ]
  },
  {
   "cell_type": "code",
   "execution_count": 37,
   "metadata": {},
   "outputs": [
    {
     "name": "stdout",
     "output_type": "stream",
     "text": [
      "True\n"
     ]
    }
   ],
   "source": [
    "'''\n",
    "Напишите программу, которая определяет, является ли введенная строка палиндромом.\n",
    "В качестве ответа программа должна вывести True или False.\n",
    "\n",
    "Ввод\n",
    "На вход подается строка, состоящая из нескольких слов, разделенных пробелом и / или знаками пунктуации. Словом будем считать последовательность букв и чисел.\n",
    "P.S. Несколько слов — количество слов в строке может быть от нуля до n\n",
    "\n",
    "Вывод\n",
    "В единственной строке выводится значение True или False\n",
    "'''\n",
    "\n",
    "def solution(a_string: str) -> bool:\n",
    "    # put your python code here \n",
    "    a_string = a_string.lower()\n",
    "    a_string = ''.join(filter(str.isalnum, a_string))\n",
    "    return a_string == a_string[::-1]\n",
    "\n",
    "\n",
    "print(solution(input()))\n"
   ]
  }
 ],
 "metadata": {
  "kernelspec": {
   "display_name": ".venv",
   "language": "python",
   "name": "python3"
  },
  "language_info": {
   "codemirror_mode": {
    "name": "ipython",
    "version": 3
   },
   "file_extension": ".py",
   "mimetype": "text/x-python",
   "name": "python",
   "nbconvert_exporter": "python",
   "pygments_lexer": "ipython3",
   "version": "3.12.6"
  }
 },
 "nbformat": 4,
 "nbformat_minor": 2
}
