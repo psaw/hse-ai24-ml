{
 "cells": [
  {
   "cell_type": "markdown",
   "metadata": {
    "colab_type": "text",
    "id": "view-in-github"
   },
   "source": [
    "<a href=\"https://colab.research.google.com/github/psaw/hse-ai24-ml/blob/main/ai_hw1_regression_with_inference_base.ipynb\" target=\"_parent\"><img src=\"https://colab.research.google.com/assets/colab-badge.svg\" alt=\"Open In Colab\"/></a>"
   ]
  },
  {
   "cell_type": "markdown",
   "metadata": {
    "id": "IsPer4g5FgRB"
   },
   "source": [
    "# **Домашнее задание №1 (base)**\n",
    "\n",
    "В этом домашнем задании вам будет необходимо:\n",
    "*  обучить модель регрессии для предсказания стоимости автомобилей;\n",
    "* реализовать веб-сервис для применения построенной модели на новых данных\n",
    "\n",
    "**Максимальная оценка за дз**\n",
    "> Оценка за домашку = $min(\\text{ваш балл}, 11)$\n",
    "\n",
    "**Мягкий дедлайн: 27 ноября 23:59**\n",
    "\n",
    "**Жесткий дедлайн: 20 декабря 23:59 (конец модуля)**\n"
   ]
  },
  {
   "cell_type": "markdown",
   "metadata": {
    "id": "RBxaROjhnExd"
   },
   "source": [
    "**Примечание**\n",
    "\n",
    "В каждой части оцениваются как код, **так и ответы на вопросы.** Вопросы подсвечены синим цветом.\n",
    "\n",
    "Если нет одного и/или другого, то часть баллов за соответствующее задание снимается."
   ]
  },
  {
   "cell_type": "code",
   "execution_count": 2,
   "metadata": {
    "id": "bKXD33FOsnGd"
   },
   "outputs": [],
   "source": [
    "import pandas as pd\n",
    "import numpy as np\n",
    "import matplotlib.pyplot as plt\n",
    "import random\n",
    "import seaborn as sns\n",
    "\n",
    "random.seed(42)\n",
    "np.random.seed(42)"
   ]
  },
  {
   "cell_type": "markdown",
   "metadata": {
    "id": "GAzbEw1ctU4f"
   },
   "source": [
    "**Задание 0 (0 баллов).**\n",
    "Для чего фиксируем сиды в домашках?"
   ]
  },
  {
   "cell_type": "markdown",
   "metadata": {
    "id": "gNtt7mM9eAY4"
   },
   "source": [
    "Сиды фиксируются для того, чтобы результаты были повторяемыми при повторных запусках и сравнении с эталонными результатами.\n",
    "От ГСЧ зависят, в частности, разбиения данных на обучающую и тестовую выборки."
   ]
  },
  {
   "cell_type": "markdown",
   "metadata": {
    "id": "ykzSVgN7q-xZ"
   },
   "source": [
    "# **Часть 1 | EDA и визуализация**\n",
    "\n",
    "Первая часть состоит из классических шагов EDA:\n",
    "\n",
    "- Базовый EDA и обработка признаков (2.5 балла)\n",
    "- Визуализации признаков и их анализ (1 балл)\n",
    "\n",
    "Всего можно набрать 3.5 основных балла и 0.65 бонусных. Бонусные задания выделены как **Дополнительное задание/Бонус**. Вы можете выполнять их, чтобы в случае ошибок в основных задачах всё равно набрать за работу максимум. Кроме того, дополнительные задания позволяют вам углубить знания.\n",
    "\n",
    "Призываем активно использовать их!"
   ]
  },
  {
   "cell_type": "markdown",
   "metadata": {
    "id": "e-4bM9CKAtCj"
   },
   "source": [
    "## **Простейший EDA и обработка признаков (2.5 балла)**"
   ]
  },
  {
   "cell_type": "code",
   "execution_count": 3,
   "metadata": {
    "colab": {
     "base_uri": "https://localhost:8080/"
    },
    "id": "FniH6eCGFSi_",
    "outputId": "4fd8379a-e20e-4e8a-c737-14bc17dedad0"
   },
   "outputs": [
    {
     "name": "stdout",
     "output_type": "stream",
     "text": [
      "Train data shape: (6999, 13)\n",
      "Test data shape:  (1000, 13)\n"
     ]
    }
   ],
   "source": [
    "df_train = pd.read_csv('https://raw.githubusercontent.com/Murcha1990/MLDS_ML_2022/main/Hometasks/HT1/cars_train.csv')\n",
    "df_test = pd.read_csv('https://raw.githubusercontent.com/Murcha1990/MLDS_ML_2022/main/Hometasks/HT1/cars_test.csv')\n",
    "\n",
    "print(\"Train data shape:\", df_train.shape)\n",
    "print(\"Test data shape: \", df_test.shape)"
   ]
  },
  {
   "cell_type": "markdown",
   "metadata": {
    "id": "CPe2gY1agYfp"
   },
   "source": [
    "### **Задание 1 (0.55 балла)**\n",
    "\n",
    "Выполните операции, направленные на практику основных действий с `pandas`:\n",
    "- [ ] Отобразите 10 случайных строк тренировочного датасета (0.15 балла)\n",
    "- [ ] Отобразите первые 5 и последние 5 объектов тестового датасета (0.1 балла)\n",
    "- [ ] Посмотрите, есть ли в датасете пропуски. Запишите/выведите названия колонок, для которых есть пропущенные значения (0.1 балла)\n",
    "- [ ] Посмотрите, есть ли в данных явные дубликаты (0.05 балла)\n",
    "\n",
    "\n",
    "**Бонус**\n",
    "- [ ] Постройте дашборд, используя [ydata-profilling](https://github.com/ydataai/ydata-profiling)(0.15 балла)"
   ]
  },
  {
   "cell_type": "code",
   "execution_count": 4,
   "metadata": {
    "id": "_Saw94eMhP5E"
   },
   "outputs": [
    {
     "data": {
      "text/html": [
       "<div>\n",
       "<style scoped>\n",
       "    .dataframe tbody tr th:only-of-type {\n",
       "        vertical-align: middle;\n",
       "    }\n",
       "\n",
       "    .dataframe tbody tr th {\n",
       "        vertical-align: top;\n",
       "    }\n",
       "\n",
       "    .dataframe thead th {\n",
       "        text-align: right;\n",
       "    }\n",
       "</style>\n",
       "<table border=\"1\" class=\"dataframe\">\n",
       "  <thead>\n",
       "    <tr style=\"text-align: right;\">\n",
       "      <th></th>\n",
       "      <th>name</th>\n",
       "      <th>year</th>\n",
       "      <th>selling_price</th>\n",
       "      <th>km_driven</th>\n",
       "      <th>fuel</th>\n",
       "      <th>seller_type</th>\n",
       "      <th>transmission</th>\n",
       "      <th>owner</th>\n",
       "      <th>mileage</th>\n",
       "      <th>engine</th>\n",
       "      <th>max_power</th>\n",
       "      <th>torque</th>\n",
       "      <th>seats</th>\n",
       "    </tr>\n",
       "  </thead>\n",
       "  <tbody>\n",
       "    <tr>\n",
       "      <th>995</th>\n",
       "      <td>Hyundai i10 Magna 1.1L</td>\n",
       "      <td>2008</td>\n",
       "      <td>250000</td>\n",
       "      <td>100000</td>\n",
       "      <td>Petrol</td>\n",
       "      <td>Individual</td>\n",
       "      <td>Manual</td>\n",
       "      <td>Second Owner</td>\n",
       "      <td>19.81 kmpl</td>\n",
       "      <td>1086 CC</td>\n",
       "      <td>68.05 bhp</td>\n",
       "      <td>99.04Nm@ 4500rpm</td>\n",
       "      <td>5.0</td>\n",
       "    </tr>\n",
       "    <tr>\n",
       "      <th>996</th>\n",
       "      <td>Hyundai i20 2015-2017 Sportz 1.2</td>\n",
       "      <td>2017</td>\n",
       "      <td>440000</td>\n",
       "      <td>50000</td>\n",
       "      <td>Petrol</td>\n",
       "      <td>Individual</td>\n",
       "      <td>Manual</td>\n",
       "      <td>Second Owner</td>\n",
       "      <td>18.6 kmpl</td>\n",
       "      <td>1197 CC</td>\n",
       "      <td>81.83 bhp</td>\n",
       "      <td>114.7Nm@ 4000rpm</td>\n",
       "      <td>5.0</td>\n",
       "    </tr>\n",
       "    <tr>\n",
       "      <th>997</th>\n",
       "      <td>Hyundai i20 Era Diesel</td>\n",
       "      <td>2009</td>\n",
       "      <td>340000</td>\n",
       "      <td>40000</td>\n",
       "      <td>Diesel</td>\n",
       "      <td>Individual</td>\n",
       "      <td>Manual</td>\n",
       "      <td>First Owner</td>\n",
       "      <td>23.0 kmpl</td>\n",
       "      <td>1396 CC</td>\n",
       "      <td>90 bhp</td>\n",
       "      <td>22.4 kgm at 1750-2750rpm</td>\n",
       "      <td>5.0</td>\n",
       "    </tr>\n",
       "    <tr>\n",
       "      <th>998</th>\n",
       "      <td>Hyundai i10 Asta</td>\n",
       "      <td>2012</td>\n",
       "      <td>350000</td>\n",
       "      <td>25000</td>\n",
       "      <td>Petrol</td>\n",
       "      <td>Individual</td>\n",
       "      <td>Manual</td>\n",
       "      <td>First Owner</td>\n",
       "      <td>20.36 kmpl</td>\n",
       "      <td>1197 CC</td>\n",
       "      <td>78.9 bhp</td>\n",
       "      <td>111.8Nm@ 4000rpm</td>\n",
       "      <td>5.0</td>\n",
       "    </tr>\n",
       "    <tr>\n",
       "      <th>999</th>\n",
       "      <td>Honda City i DTec SV</td>\n",
       "      <td>2016</td>\n",
       "      <td>700000</td>\n",
       "      <td>110000</td>\n",
       "      <td>Diesel</td>\n",
       "      <td>Individual</td>\n",
       "      <td>Manual</td>\n",
       "      <td>First Owner</td>\n",
       "      <td>26.0 kmpl</td>\n",
       "      <td>1498 CC</td>\n",
       "      <td>98.6 bhp</td>\n",
       "      <td>200Nm@ 1750rpm</td>\n",
       "      <td>5.0</td>\n",
       "    </tr>\n",
       "  </tbody>\n",
       "</table>\n",
       "</div>"
      ],
      "text/plain": [
       "                                 name  year  selling_price  km_driven    fuel  \\\n",
       "995            Hyundai i10 Magna 1.1L  2008         250000     100000  Petrol   \n",
       "996  Hyundai i20 2015-2017 Sportz 1.2  2017         440000      50000  Petrol   \n",
       "997            Hyundai i20 Era Diesel  2009         340000      40000  Diesel   \n",
       "998                  Hyundai i10 Asta  2012         350000      25000  Petrol   \n",
       "999              Honda City i DTec SV  2016         700000     110000  Diesel   \n",
       "\n",
       "    seller_type transmission         owner     mileage   engine  max_power  \\\n",
       "995  Individual       Manual  Second Owner  19.81 kmpl  1086 CC  68.05 bhp   \n",
       "996  Individual       Manual  Second Owner   18.6 kmpl  1197 CC  81.83 bhp   \n",
       "997  Individual       Manual   First Owner   23.0 kmpl  1396 CC     90 bhp   \n",
       "998  Individual       Manual   First Owner  20.36 kmpl  1197 CC   78.9 bhp   \n",
       "999  Individual       Manual   First Owner   26.0 kmpl  1498 CC   98.6 bhp   \n",
       "\n",
       "                       torque  seats  \n",
       "995          99.04Nm@ 4500rpm    5.0  \n",
       "996          114.7Nm@ 4000rpm    5.0  \n",
       "997  22.4 kgm at 1750-2750rpm    5.0  \n",
       "998          111.8Nm@ 4000rpm    5.0  \n",
       "999            200Nm@ 1750rpm    5.0  "
      ]
     },
     "execution_count": 4,
     "metadata": {},
     "output_type": "execute_result"
    }
   ],
   "source": [
    "# your code here\n",
    "df_train.sample(10)\n",
    "df_test.head(5)\n",
    "df_test.tail(5)"
   ]
  },
  {
   "cell_type": "code",
   "execution_count": 5,
   "metadata": {},
   "outputs": [
    {
     "name": "stdout",
     "output_type": "stream",
     "text": [
      "<class 'pandas.core.frame.DataFrame'>\n",
      "RangeIndex: 6999 entries, 0 to 6998\n",
      "Data columns (total 13 columns):\n",
      " #   Column         Non-Null Count  Dtype  \n",
      "---  ------         --------------  -----  \n",
      " 0   name           6999 non-null   object \n",
      " 1   year           6999 non-null   int64  \n",
      " 2   selling_price  6999 non-null   int64  \n",
      " 3   km_driven      6999 non-null   int64  \n",
      " 4   fuel           6999 non-null   object \n",
      " 5   seller_type    6999 non-null   object \n",
      " 6   transmission   6999 non-null   object \n",
      " 7   owner          6999 non-null   object \n",
      " 8   mileage        6797 non-null   object \n",
      " 9   engine         6797 non-null   object \n",
      " 10  max_power      6803 non-null   object \n",
      " 11  torque         6796 non-null   object \n",
      " 12  seats          6797 non-null   float64\n",
      "dtypes: float64(1), int64(3), object(9)\n",
      "memory usage: 711.0+ KB\n"
     ]
    }
   ],
   "source": [
    "# Посмотрите, есть ли в датасете пропуски\n",
    "df_train.info()\n",
    "# пропуски есть"
   ]
  },
  {
   "cell_type": "code",
   "execution_count": 6,
   "metadata": {},
   "outputs": [
    {
     "name": "stdout",
     "output_type": "stream",
     "text": [
      "Index(['mileage', 'engine', 'max_power', 'torque', 'seats'], dtype='object')\n"
     ]
    }
   ],
   "source": [
    "#  Запишите/выведите названия колонок, для которых есть пропущенные значения\n",
    "cols_null = df_train.columns[df_train.isnull().any()]\n",
    "print(cols_null)"
   ]
  },
  {
   "cell_type": "code",
   "execution_count": 20,
   "metadata": {},
   "outputs": [
    {
     "data": {
      "text/plain": [
       "np.int64(985)"
      ]
     },
     "execution_count": 20,
     "metadata": {},
     "output_type": "execute_result"
    }
   ],
   "source": [
    "# Посмотрите, есть ли в данных явные дубликаты \n",
    "df_train.duplicated().sum()  # есть дубликаты\n"
   ]
  },
  {
   "cell_type": "code",
   "execution_count": null,
   "metadata": {},
   "outputs": [
    {
     "name": "stderr",
     "output_type": "stream",
     "text": [
      "Summarize dataset: 100%|██████████| 39/39 [00:01<00:00, 31.08it/s, Completed]                           \n",
      "Generate report structure: 100%|██████████| 1/1 [00:02<00:00,  2.96s/it]\n",
      "Render HTML: 100%|██████████| 1/1 [00:00<00:00,  2.59it/s]\n",
      "Export report to file: 100%|██████████| 1/1 [00:00<00:00, 215.47it/s]\n"
     ]
    }
   ],
   "source": [
    "# Постройте дашборд, используя [ydata-profilling](https://github.com/ydataai/ydata-profiling)(0.15 балла)\n",
    "import numpy as np\n",
    "import pandas as pd\n",
    "from ydata_profiling import ProfileReport\n",
    "'''\n",
    "Cчитаю, что за установку ydata-profiling нужно давать больше баллов, т.к.\n",
    "оно требует numba, которая требует numpy<2.1, а текущая версия уже 2.1.\n",
    "'''\n",
    "\n",
    "profile_report = ProfileReport(df_train, title = \"Отчет о тренировочном датасете\")\n",
    "profile_report.to_file(\"df_train-report.html\")"
   ]
  },
  {
   "cell_type": "markdown",
   "metadata": {
    "id": "KF6L8XVejuEe"
   },
   "source": [
    "Мы обнаружили пропуски. Давайте избавимся от них.\n",
    "\n",
    "- [ ] Заполните пропуски в столбцах медианами. Убедитесь, что после заполнения пропусков не осталось. Заполнение пропусков проводите для обоих наборов данных, если необходимо\n",
    "\n",
    "**Важно!**\n",
    "\n",
    "При заполнении пропусков и в тестовом, и тренировочном наборах данных вы определяетесь со стратегией предобработки пропущенных значений при потенциальной работе модели.\n",
    "\n",
    "Так как в теоретическом случае вы не имеете доступа к тестовой выборке, то заполняемой значение (у нас — медиана) вы считаете про *тренировочному* набору данных и им же заполняете *тестовый*."
   ]
  },
  {
   "cell_type": "markdown",
   "metadata": {},
   "source": [
    "**Важно 2**\n",
    ">Заполнять пропуски медианами на этом этапе не имеет смысла, т.к. сейчас они текстовые вида \"значение единица_измерения\".  \n",
    ">Буду это делать после выполнения задания №3, где нужно разобрать эти поля на значение и единицы измерения."
   ]
  },
  {
   "cell_type": "markdown",
   "metadata": {
    "id": "VE_ecCD7hRFV"
   },
   "source": [
    "### **Задание 2 (0.5 балла)**\n",
    "\n",
    "- [ ] Посмотрите, есть ли в трейне объекты с одинаковым признаковым описанием (целевую переменную следует исключить). Если есть, то сколько? (0.1 балла)\n",
    "- [ ] Отобразите такие объекты (0.15 балла)\n",
    "- [ ] Удалите повторяющиеся строки. Если при одинаковом признаковом описании цены на автомобили отличаются, то оставьте первую строку по этому автомобилю (0.15 балла)\n",
    "- [ ] Обновите индексы строк таким образом, чтобы они шли от 0 без пропусков (0.1 балла)\n"
   ]
  },
  {
   "cell_type": "code",
   "execution_count": null,
   "metadata": {
    "id": "SkyrBlHWiGY6"
   },
   "outputs": [
    {
     "data": {
      "text/plain": [
       "np.int64(1159)"
      ]
     },
     "execution_count": 38,
     "metadata": {},
     "output_type": "execute_result"
    }
   ],
   "source": [
    "# Посмотрите, есть ли в трейне объекты с одинаковым признаковым описанием (целевую переменную следует исключить). Если есть, то сколько? (0.1 балла)\n",
    "cols_all = df_train.columns\n",
    "df_train.duplicated(subset=cols_all.drop('selling_price')).sum()  # 1159 повторных строк, всего 1799 дубликатов (включая \"оригинал\" = keep=False)"
   ]
  },
  {
   "cell_type": "code",
   "execution_count": null,
   "metadata": {},
   "outputs": [
    {
     "data": {
      "text/html": [
       "<div>\n",
       "<style scoped>\n",
       "    .dataframe tbody tr th:only-of-type {\n",
       "        vertical-align: middle;\n",
       "    }\n",
       "\n",
       "    .dataframe tbody tr th {\n",
       "        vertical-align: top;\n",
       "    }\n",
       "\n",
       "    .dataframe thead th {\n",
       "        text-align: right;\n",
       "    }\n",
       "</style>\n",
       "<table border=\"1\" class=\"dataframe\">\n",
       "  <thead>\n",
       "    <tr style=\"text-align: right;\">\n",
       "      <th></th>\n",
       "      <th>name</th>\n",
       "      <th>year</th>\n",
       "      <th>selling_price</th>\n",
       "      <th>km_driven</th>\n",
       "      <th>fuel</th>\n",
       "      <th>seller_type</th>\n",
       "      <th>transmission</th>\n",
       "      <th>owner</th>\n",
       "      <th>mileage</th>\n",
       "      <th>engine</th>\n",
       "      <th>max_power</th>\n",
       "      <th>torque</th>\n",
       "      <th>seats</th>\n",
       "    </tr>\n",
       "  </thead>\n",
       "  <tbody>\n",
       "    <tr>\n",
       "      <th>22</th>\n",
       "      <td>Maruti Baleno Delta 1.2</td>\n",
       "      <td>2016</td>\n",
       "      <td>575000</td>\n",
       "      <td>45000</td>\n",
       "      <td>Petrol</td>\n",
       "      <td>Individual</td>\n",
       "      <td>Manual</td>\n",
       "      <td>First Owner</td>\n",
       "      <td>21.4 kmpl</td>\n",
       "      <td>1197 CC</td>\n",
       "      <td>83.1 bhp</td>\n",
       "      <td>115Nm@ 4000rpm</td>\n",
       "      <td>5.0</td>\n",
       "    </tr>\n",
       "    <tr>\n",
       "      <th>26</th>\n",
       "      <td>Maruti Omni E MPI STD BS IV</td>\n",
       "      <td>2018</td>\n",
       "      <td>254999</td>\n",
       "      <td>25000</td>\n",
       "      <td>Petrol</td>\n",
       "      <td>Individual</td>\n",
       "      <td>Manual</td>\n",
       "      <td>First Owner</td>\n",
       "      <td>16.8 kmpl</td>\n",
       "      <td>796 CC</td>\n",
       "      <td>34.2 bhp</td>\n",
       "      <td>59Nm@ 2500rpm</td>\n",
       "      <td>8.0</td>\n",
       "    </tr>\n",
       "    <tr>\n",
       "      <th>27</th>\n",
       "      <td>Maruti Vitara Brezza LDi Option</td>\n",
       "      <td>2017</td>\n",
       "      <td>670000</td>\n",
       "      <td>70000</td>\n",
       "      <td>Diesel</td>\n",
       "      <td>Individual</td>\n",
       "      <td>Manual</td>\n",
       "      <td>First Owner</td>\n",
       "      <td>24.3 kmpl</td>\n",
       "      <td>1248 CC</td>\n",
       "      <td>88.5 bhp</td>\n",
       "      <td>200Nm@ 1750rpm</td>\n",
       "      <td>5.0</td>\n",
       "    </tr>\n",
       "    <tr>\n",
       "      <th>28</th>\n",
       "      <td>Fiat Palio 1.2 ELX</td>\n",
       "      <td>2003</td>\n",
       "      <td>70000</td>\n",
       "      <td>50000</td>\n",
       "      <td>Petrol</td>\n",
       "      <td>Individual</td>\n",
       "      <td>Manual</td>\n",
       "      <td>Second Owner</td>\n",
       "      <td>NaN</td>\n",
       "      <td>NaN</td>\n",
       "      <td>NaN</td>\n",
       "      <td>NaN</td>\n",
       "      <td>NaN</td>\n",
       "    </tr>\n",
       "    <tr>\n",
       "      <th>29</th>\n",
       "      <td>Maruti Omni 8 Seater BSIV</td>\n",
       "      <td>2012</td>\n",
       "      <td>150000</td>\n",
       "      <td>35000</td>\n",
       "      <td>Petrol</td>\n",
       "      <td>Individual</td>\n",
       "      <td>Manual</td>\n",
       "      <td>Second Owner</td>\n",
       "      <td>14.0 kmpl</td>\n",
       "      <td>796 CC</td>\n",
       "      <td>35 bhp</td>\n",
       "      <td>6.1kgm@ 3000rpm</td>\n",
       "      <td>5.0</td>\n",
       "    </tr>\n",
       "    <tr>\n",
       "      <th>...</th>\n",
       "      <td>...</td>\n",
       "      <td>...</td>\n",
       "      <td>...</td>\n",
       "      <td>...</td>\n",
       "      <td>...</td>\n",
       "      <td>...</td>\n",
       "      <td>...</td>\n",
       "      <td>...</td>\n",
       "      <td>...</td>\n",
       "      <td>...</td>\n",
       "      <td>...</td>\n",
       "      <td>...</td>\n",
       "      <td>...</td>\n",
       "    </tr>\n",
       "    <tr>\n",
       "      <th>6981</th>\n",
       "      <td>Ford Freestyle Titanium Plus Diesel BSIV</td>\n",
       "      <td>2018</td>\n",
       "      <td>750000</td>\n",
       "      <td>24000</td>\n",
       "      <td>Diesel</td>\n",
       "      <td>Individual</td>\n",
       "      <td>Manual</td>\n",
       "      <td>First Owner</td>\n",
       "      <td>24.4 kmpl</td>\n",
       "      <td>1498 CC</td>\n",
       "      <td>98.63 bhp</td>\n",
       "      <td>215Nm@ 1750-3000rpm</td>\n",
       "      <td>5.0</td>\n",
       "    </tr>\n",
       "    <tr>\n",
       "      <th>6984</th>\n",
       "      <td>Ford Freestyle Titanium Plus Diesel BSIV</td>\n",
       "      <td>2018</td>\n",
       "      <td>746000</td>\n",
       "      <td>24000</td>\n",
       "      <td>Diesel</td>\n",
       "      <td>Individual</td>\n",
       "      <td>Manual</td>\n",
       "      <td>First Owner</td>\n",
       "      <td>24.4 kmpl</td>\n",
       "      <td>1498 CC</td>\n",
       "      <td>98.63 bhp</td>\n",
       "      <td>215Nm@ 1750-3000rpm</td>\n",
       "      <td>5.0</td>\n",
       "    </tr>\n",
       "    <tr>\n",
       "      <th>6989</th>\n",
       "      <td>Maruti Swift Dzire VDI</td>\n",
       "      <td>2015</td>\n",
       "      <td>625000</td>\n",
       "      <td>50000</td>\n",
       "      <td>Diesel</td>\n",
       "      <td>Individual</td>\n",
       "      <td>Manual</td>\n",
       "      <td>First Owner</td>\n",
       "      <td>26.59 kmpl</td>\n",
       "      <td>1248 CC</td>\n",
       "      <td>74 bhp</td>\n",
       "      <td>190Nm@ 2000rpm</td>\n",
       "      <td>5.0</td>\n",
       "    </tr>\n",
       "    <tr>\n",
       "      <th>6997</th>\n",
       "      <td>Tata Indigo CR4</td>\n",
       "      <td>2013</td>\n",
       "      <td>290000</td>\n",
       "      <td>25000</td>\n",
       "      <td>Diesel</td>\n",
       "      <td>Individual</td>\n",
       "      <td>Manual</td>\n",
       "      <td>First Owner</td>\n",
       "      <td>23.57 kmpl</td>\n",
       "      <td>1396 CC</td>\n",
       "      <td>70 bhp</td>\n",
       "      <td>140Nm@ 1800-3000rpm</td>\n",
       "      <td>5.0</td>\n",
       "    </tr>\n",
       "    <tr>\n",
       "      <th>6998</th>\n",
       "      <td>Tata Indigo CR4</td>\n",
       "      <td>2013</td>\n",
       "      <td>290000</td>\n",
       "      <td>25000</td>\n",
       "      <td>Diesel</td>\n",
       "      <td>Individual</td>\n",
       "      <td>Manual</td>\n",
       "      <td>First Owner</td>\n",
       "      <td>23.57 kmpl</td>\n",
       "      <td>1396 CC</td>\n",
       "      <td>70 bhp</td>\n",
       "      <td>140Nm@ 1800-3000rpm</td>\n",
       "      <td>5.0</td>\n",
       "    </tr>\n",
       "  </tbody>\n",
       "</table>\n",
       "<p>1799 rows × 13 columns</p>\n",
       "</div>"
      ],
      "text/plain": [
       "                                          name  year  selling_price  \\\n",
       "22                     Maruti Baleno Delta 1.2  2016         575000   \n",
       "26                 Maruti Omni E MPI STD BS IV  2018         254999   \n",
       "27             Maruti Vitara Brezza LDi Option  2017         670000   \n",
       "28                          Fiat Palio 1.2 ELX  2003          70000   \n",
       "29                   Maruti Omni 8 Seater BSIV  2012         150000   \n",
       "...                                        ...   ...            ...   \n",
       "6981  Ford Freestyle Titanium Plus Diesel BSIV  2018         750000   \n",
       "6984  Ford Freestyle Titanium Plus Diesel BSIV  2018         746000   \n",
       "6989                    Maruti Swift Dzire VDI  2015         625000   \n",
       "6997                           Tata Indigo CR4  2013         290000   \n",
       "6998                           Tata Indigo CR4  2013         290000   \n",
       "\n",
       "      km_driven    fuel seller_type transmission         owner     mileage  \\\n",
       "22        45000  Petrol  Individual       Manual   First Owner   21.4 kmpl   \n",
       "26        25000  Petrol  Individual       Manual   First Owner   16.8 kmpl   \n",
       "27        70000  Diesel  Individual       Manual   First Owner   24.3 kmpl   \n",
       "28        50000  Petrol  Individual       Manual  Second Owner         NaN   \n",
       "29        35000  Petrol  Individual       Manual  Second Owner   14.0 kmpl   \n",
       "...         ...     ...         ...          ...           ...         ...   \n",
       "6981      24000  Diesel  Individual       Manual   First Owner   24.4 kmpl   \n",
       "6984      24000  Diesel  Individual       Manual   First Owner   24.4 kmpl   \n",
       "6989      50000  Diesel  Individual       Manual   First Owner  26.59 kmpl   \n",
       "6997      25000  Diesel  Individual       Manual   First Owner  23.57 kmpl   \n",
       "6998      25000  Diesel  Individual       Manual   First Owner  23.57 kmpl   \n",
       "\n",
       "       engine  max_power               torque  seats  \n",
       "22    1197 CC   83.1 bhp       115Nm@ 4000rpm    5.0  \n",
       "26     796 CC   34.2 bhp        59Nm@ 2500rpm    8.0  \n",
       "27    1248 CC   88.5 bhp       200Nm@ 1750rpm    5.0  \n",
       "28        NaN        NaN                  NaN    NaN  \n",
       "29     796 CC     35 bhp      6.1kgm@ 3000rpm    5.0  \n",
       "...       ...        ...                  ...    ...  \n",
       "6981  1498 CC  98.63 bhp  215Nm@ 1750-3000rpm    5.0  \n",
       "6984  1498 CC  98.63 bhp  215Nm@ 1750-3000rpm    5.0  \n",
       "6989  1248 CC     74 bhp       190Nm@ 2000rpm    5.0  \n",
       "6997  1396 CC     70 bhp  140Nm@ 1800-3000rpm    5.0  \n",
       "6998  1396 CC     70 bhp  140Nm@ 1800-3000rpm    5.0  \n",
       "\n",
       "[1799 rows x 13 columns]"
      ]
     },
     "execution_count": 37,
     "metadata": {},
     "output_type": "execute_result"
    }
   ],
   "source": [
    "# Отобразите такие объекты (0.15 балла)\n",
    "df_train[df_train.duplicated(subset=cols_all.drop('selling_price'), keep=False)]"
   ]
  },
  {
   "cell_type": "code",
   "execution_count": null,
   "metadata": {},
   "outputs": [],
   "source": [
    "# Удалите повторяющиеся строки. Если при одинаковом признаковом описании цены на автомобили отличаются, то оставьте первую строку по этому автомобилю (0.15 балла)\n",
    "df_train.drop_duplicates(subset=cols_all.drop('selling_price'), keep='first', inplace=True)"
   ]
  },
  {
   "cell_type": "code",
   "execution_count": null,
   "metadata": {},
   "outputs": [],
   "source": [
    "# Обновите индексы строк таким образом, чтобы они шли от 0 без пропусков (0.1 балла)\n",
    "df_train.reset_index(drop=True, inplace=True)"
   ]
  },
  {
   "cell_type": "code",
   "execution_count": 42,
   "metadata": {
    "id": "955cO__niGyz"
   },
   "outputs": [],
   "source": [
    "assert df_train.shape == (5840, 13)"
   ]
  },
  {
   "cell_type": "markdown",
   "metadata": {
    "id": "sam1Pzn-iU86"
   },
   "source": [
    "Отлично! Мы избавились от маленьких и явных проблем. Теперь перейдем к более сложным недостаткам полученной таблицы.\n",
    "\n",
    "### **Задание 3 (0.25 балла)**\n",
    "\n",
    "Вы могли заметить, что с признаками ``mileage, engine, max_power и torque`` всё не очень хорошо. Они распознаются как строки (можно убедиться в этом, вызвав `data.dtypes`). Однако эти переменные не являются категориальными — они — числа. Соответственно, нужно привести их к числовому виду.\n",
    "\n",
    "**Задача :**\n",
    "* [ ] Уберите единицы измерения для признаков ``mileage, engine, max_power``.\n",
    "* [ ] Приведите тип данных к ``float``.\n",
    "* [ ] Удалите столбец ``torque``\n",
    "\n",
    "\n",
    "**Важно**\n",
    "- Все действия нужно производить над обоими датасетами — `train` и `test`.\n",
    "- Стобец ``torque`` мы удаляем для простоты. В идеальном случае, его также стоило бы предобработать."
   ]
  },
  {
   "cell_type": "code",
   "execution_count": null,
   "metadata": {
    "id": "Mi1RSmFjlAm7"
   },
   "outputs": [],
   "source": [
    "# your code here\n",
    "\n",
    "cols_null\n",
    "# your code here\n",
    "\n",
    "# Выделим вещественную часть из признаков 'mileage', 'engine' и 'max_power', чтобы заполнить отсутствующие значения медианой\n",
    "# df_train[['mileage_value', 'mileage_unit']] = df_train['mileage'].str.split(' ', expand=True)\n",
    "# df_train[['engine_value', 'engine_unit']] = df_train['engine'].str.split(' ', expand=True)\n",
    "# df_train[['max_power_value', 'max_power_unit']] = df_train['max_power'].str.split(' ', expand=True)\n",
    "df_train[['max_power_value', 'max_power_unit']] = df_train['max_power'].str.split(' ', expand=True)\n",
    "\n",
    "# Столбец 'torque' потребуется удалить в Задании 3, поэтому его пропустим\n",
    "\n",
    "\n",
    "df_train['max_power_unit'].value_counts()"
   ]
  },
  {
   "cell_type": "markdown",
   "metadata": {
    "id": "_r9cXKx9lDaZ"
   },
   "source": [
    "### **Задание 4 (0.1 балла)**\n",
    "\n",
    "Теперь, когда не осталось пропусков, давайте преобразуем столбцы к более подходящим типам. А именно столбцы ``engnine`` и ``seats`` к приведем к `int`.\n",
    "\n",
    "- [ ] Осуществите приведение столбцов к необходимому типу."
   ]
  },
  {
   "cell_type": "code",
   "execution_count": null,
   "metadata": {
    "id": "JUT8mOQNlmlN"
   },
   "outputs": [],
   "source": [
    "# your code here"
   ]
  },
  {
   "cell_type": "markdown",
   "metadata": {
    "id": "DFuQ_PsulqCs"
   },
   "source": [
    "### **Задание 5 (0.1 балла)**\n",
    "\n",
    "Отлично! Мы провели \"косметическую\" предобработку и теперь готовы сделать важный шаг в контексте анализа данных. А именно — посмотреть на статистики!\n",
    "\n",
    "**Ваша задача:**\n",
    "- [ ] Посчитайте основные статистики по числовым столбцам для трейна и теста\n",
    "- [ ] Посчитайте основные статистики по категориальным столбцам для трейна и теста\n",
    "\n",
    "**Подсказка:**\n",
    "\n",
    "Используте ``.describe()`` с нужным(и) аргументом(-ами).\n",
    "\n",
    "**Примечание:**\n",
    "\n",
    "Более корректно рассматривать статистики до заполнения пропусков и после, чтобы убедиться, что мы не внесли каких-либо серьезных сдвигов в изначальные рапсределения."
   ]
  },
  {
   "cell_type": "code",
   "execution_count": null,
   "metadata": {
    "id": "kYKWyjsLYQuz"
   },
   "outputs": [],
   "source": [
    "# your code here"
   ]
  },
  {
   "cell_type": "code",
   "execution_count": null,
   "metadata": {
    "id": "vF0yfzMOkEn8"
   },
   "outputs": [],
   "source": [
    "assert df_train.shape == (5840, 13)"
   ]
  },
  {
   "cell_type": "markdown",
   "metadata": {
    "id": "OmV784QWZOpO"
   },
   "source": [
    "## **Визуализации (1 балл + 0.5 бонус)**\n",
    "\n"
   ]
  },
  {
   "cell_type": "markdown",
   "metadata": {
    "id": "6p2L60ngZueT"
   },
   "source": [
    "Визуализация данных — важный шаг в работе. Визуализировать данные необходимо, например, чтобы:\n",
    "\n",
    "- Оценить распределения признаков самих по себе (это может натоклнуть вас на мысли о модели, которую можно использовать)\n",
    "- Сравнить распределения на `train` и `test` — чтобы проверить, насколько информация, на которой вы будете обучаться согласуется с той, на которой модель должна работать\n",
    "- Оценить есть ли явная связь признаков с целевой переменной\n",
    "\n",
    "**Важно:**\n",
    "\n",
    "Если распределения на `train` и `test` не совпадают, это не значит, что нужно перемешивать данные! Более корректно актуализировать задачу и уточнить, а не устарели ли данные `train`. Также полезным может быть собрать новую тестовую выборку, смешав те, что имеются сейчас.\n",
    "\n",
    "**Если вы будете подгонять распределения, то можете встретиться с переобучением!**"
   ]
  },
  {
   "cell_type": "markdown",
   "metadata": {
    "id": "bNjHoAt7nlOa"
   },
   "source": [
    "### **Задание 6 (0.5 балла)**\n",
    "\n",
    "Шаг 1.\n",
    "- [ ] Воспользуйтесь `pairplot` из библиотеки `seabron`, чтобы визуализировать попарные распределения числовых признаков для `train`\n",
    "- [ ] По полученному графику ответьте на вопросы:\n",
    " - Можно ли предположить на основе распределений связь признаков с целевой переменной?\n",
    " - Можно ли предположить на основе распределений выдвинуть гипотезу о корреляциях признаков?\n",
    "\n",
    "Шаг 2.\n",
    "\n",
    "- [ ] Постройте pairplot по тестовым данным\n",
    "- [ ] Ответьте на вопрос \"Похожими ли оказались совокупности при разделении на трейн и тест?\""
   ]
  },
  {
   "cell_type": "code",
   "execution_count": null,
   "metadata": {
    "id": "0car89hFaby1"
   },
   "outputs": [],
   "source": [
    "# your code here"
   ]
  },
  {
   "cell_type": "code",
   "execution_count": null,
   "metadata": {
    "id": "NK9l6SrAeHK1"
   },
   "outputs": [],
   "source": [
    "# your code here"
   ]
  },
  {
   "cell_type": "markdown",
   "metadata": {
    "id": "9Nrf9A_Mohgz"
   },
   "source": [
    "`Your answer here`"
   ]
  },
  {
   "cell_type": "markdown",
   "metadata": {
    "id": "1G4nG3GWoniC"
   },
   "source": [
    "### **Задание 7 (0.5 балла)**\n",
    "\n",
    "И так, вы выдвинули гипотезы о наличии связи. Теперь давайте оценим эту связь в числах.\n",
    "\n",
    "**Задание:**\n",
    "- [ ] Получите значения коэффициента корреляции Пирсона для тренировочного набора данных при помощи `pd.corr()`\n",
    "- [ ] По полученным корреляциям постройте тепловую карту (`heatmap` из бибилотеки seaborn)\n"
   ]
  },
  {
   "cell_type": "code",
   "execution_count": null,
   "metadata": {
    "id": "E99LVAN2fMVH"
   },
   "outputs": [],
   "source": [
    "# your code here"
   ]
  },
  {
   "cell_type": "markdown",
   "metadata": {
    "id": "w24a_oXqf12H"
   },
   "source": [
    "- [ ] Ответьте на вопросы:\n",
    " - Какие 2 признака наименее скоррелированы между собой?\n",
    " - Между какими наблюдается довольно сильная положительная линейная зависимость?\n",
    " - Правильно ли, опираясь на данные, утверждать, что чем меньше год, тем, скорее всего, больше километров проехала машина к дате продажи?"
   ]
  },
  {
   "cell_type": "markdown",
   "metadata": {
    "id": "asliCDvapsEe"
   },
   "source": [
    "`Your answer here`"
   ]
  },
  {
   "cell_type": "markdown",
   "metadata": {
    "id": "ru1In410pieq"
   },
   "source": [
    "### **Бонус (0.5 балла)**\n",
    "\n",
    "Если вам кажется, что мы не попросили вас нарисовать какие-то очень важные зависимости, нарисуйте их **и поясните.**"
   ]
  },
  {
   "cell_type": "code",
   "execution_count": null,
   "metadata": {
    "id": "HwlwJhDIp_2L"
   },
   "outputs": [],
   "source": [
    "# your code here"
   ]
  },
  {
   "cell_type": "markdown",
   "metadata": {
    "id": "uS2CQ1LzrP_U"
   },
   "source": [
    "# **Часть 2 | Модель только на вещественных признаках**\n",
    "\n",
    "В этой части вам предстоит обучить модель только на вещественных признаках. Почему только на них?\n",
    "\n",
    "Чем больше признаковое пространство — чем сложнее модель. А чем модель проще — тем лучше для скорости работы и интерпретации признаков.\n",
    "\n",
    "За задания этой части вы можете набрать 1.25 балла;"
   ]
  },
  {
   "cell_type": "markdown",
   "metadata": {
    "id": "KrsL99SsqWIz"
   },
   "source": [
    "### **Задание 8 (0.05 балла)**\n",
    "\n",
    "Разбейте данные на тренировочный и тестовый наборы. Перед разбиением создайте копию датафрейма, который будет хранить только вещественные признаки и используйте его (то есть категориальные столбцы (все, кроме seats) необходимо удалить).\n",
    "\n",
    "В переменные y_train и y_test запишите значения целевых переменных."
   ]
  },
  {
   "cell_type": "code",
   "execution_count": null,
   "metadata": {
    "id": "cGxjJSSUg2na"
   },
   "outputs": [],
   "source": [
    "y_train = # your code here\n",
    "X_train = # your code here"
   ]
  },
  {
   "cell_type": "code",
   "execution_count": null,
   "metadata": {
    "id": "fyMyARKem5wl"
   },
   "outputs": [],
   "source": [
    "assert X_train.shape == (5840, 6)"
   ]
  },
  {
   "cell_type": "code",
   "execution_count": null,
   "metadata": {
    "id": "xKRmqiJ5rbSx"
   },
   "outputs": [],
   "source": [
    "y_test = # your code here\n",
    "X_test = # your code here"
   ]
  },
  {
   "cell_type": "code",
   "execution_count": null,
   "metadata": {
    "id": "-JepTZ36y-h-"
   },
   "outputs": [],
   "source": [
    "assert X_test.shape == (1000, 6)"
   ]
  },
  {
   "cell_type": "markdown",
   "metadata": {
    "id": "U5b4TfLtq-FC"
   },
   "source": [
    "### **Задание 9 (0.2 балла)**\n",
    "\n",
    "Построим нашу первую модель!\n",
    "- [ ] Обучите классическую линейную регрессию с дефолтными параметрами. Посчтитайте $R^2$ и $MSE$ для трейна и для теста.\n",
    "- [ ] Сделайте выводы по значениям метрик качества.\n",
    "\n",
    "**Примечание:**\n",
    "\n",
    "Здесь и далее $R^2$ и $MSE$ для трейна и для теста выводите везде, где требуется обучать модели, даже если в явном виде этого не просят. Иначе непонятно, как понять, насколько успешны наши эксперименты."
   ]
  },
  {
   "cell_type": "code",
   "execution_count": null,
   "metadata": {
    "id": "hVYXaeTgrb3d"
   },
   "outputs": [],
   "source": [
    "from sklearn.linear_model import LinearRegression\n",
    "from sklearn.metrics import r2_score, mean_squared_error as MSE\n",
    "\n",
    "# your code here"
   ]
  },
  {
   "cell_type": "markdown",
   "metadata": {
    "id": "HpQ8EG2Uk_Dn"
   },
   "source": [
    "### **Задание 10 (0.15 балла)**\n",
    "\n",
    "Всегда есть место совершенству. Поэтому давайте попробуем улучшить модель. При помощи стандартизации признаков.\n",
    "\n",
    "- [ ] Стандартизируйте значения в тренировочных и тестовых данных. Стандартизатор **обучайте только на `train`**."
   ]
  },
  {
   "cell_type": "code",
   "execution_count": null,
   "metadata": {
    "id": "o6FB80C2rciK"
   },
   "outputs": [],
   "source": [
    "from sklearn.preprocessing import StandardScaler\n",
    "\n",
    "# your code here"
   ]
  },
  {
   "cell_type": "markdown",
   "metadata": {
    "id": "oQZi8LYVmiPv"
   },
   "source": [
    "### **Задание 11 (0.1 балла)**\n",
    "\n",
    "Хотя стандартизация не помогла сильно прибавить в качестве она открыла возможность интерпретировать важность признаков в модели. Правило интерпретации такое:\n",
    "\n",
    "Чем больше коэффициент $\\beta_i$ по модулю, тем важнее признак.\n",
    "\n",
    "**Ответьте на вопрос:**\n",
    "\n",
    "- [ ] Какой признак оказался наиболее информативным в предсказании цены?"
   ]
  },
  {
   "cell_type": "code",
   "execution_count": null,
   "metadata": {
    "id": "u9onBNrhmt1r"
   },
   "outputs": [],
   "source": [
    "# your code here"
   ]
  },
  {
   "cell_type": "markdown",
   "metadata": {
    "id": "5BR3XLXUsm1q"
   },
   "source": [
    "### **Задание 12 (0.25 балла)**\n",
    "\n",
    "Попробуем улучшить нашу модель с помощью применения регуляризации. Для этого воспльзуемся `Lasso` регрессией.  Кроме того, попробуйте использовать её теоретическое свойство отбора признаков, за счет зануления незначимых коэффициентов.\n",
    "\n",
    "**Задание:**\n",
    "\n",
    "- [ ] Обучите Lasso регрессию на тренировочном наборе данных с нормализованными признаками. Оцените её качество\n",
    "- [ ] Проверьте, занулила ли L1-регуляризация с параметрами по умолчанию какие-нибудь веса? Предположите почему."
   ]
  },
  {
   "cell_type": "code",
   "execution_count": null,
   "metadata": {
    "id": "yhR5eajPn0kl"
   },
   "outputs": [],
   "source": [
    "from sklearn.linear_model import Lasso\n",
    "\n",
    "# your code here"
   ]
  },
  {
   "cell_type": "code",
   "execution_count": null,
   "metadata": {
    "id": "EBJKIp6FouYw"
   },
   "outputs": [],
   "source": [
    "# your code here"
   ]
  },
  {
   "cell_type": "markdown",
   "metadata": {
    "id": "YYWLInilqQTE"
   },
   "source": [
    "### **Задание 13 Финальный рывок (0.5 балла)**\n",
    "\n",
    "До этого мы с вами использовали `train` для обучения и `test` для прогнозирования. Но у нас есть ещё одна задача — подобрать оптимальные параметры модели. Для этого используем кросс-валидацию, описанную на семинарах.\n",
    "\n",
    "Кроме того, выжмем максимум из модификаций регрессии. Построим `ElasticNet`. И сделаем всё по порядку.\n",
    "\n",
    "**Ваша задача 1:**\n",
    "\n",
    "- [ ] Перебором по сетке (c 10-ю фолдами) подберите оптимальные параметры для Lasso-регрессии. Вам пригодится класс [GridSearchCV](https://scikit-learn.org/stable/modules/generated/sklearn.model_selection.GridSearchCV.html).\n",
    "- [ ] Ответьте на вопросы:\n",
    " - Сколько грид-сёрчу пришлось обучать моделей?\n",
    " - Какой коэффициент регуляризации у лучшей из перебранных моделей? Занулились ли какие-нибудь из весов при такой регуляризации?"
   ]
  },
  {
   "cell_type": "code",
   "execution_count": null,
   "metadata": {
    "id": "mdGQ6CvApr_P"
   },
   "outputs": [],
   "source": [
    "from sklearn.model_selection import GridSearchCV\n",
    "\n",
    "# your code here"
   ]
  },
  {
   "cell_type": "code",
   "execution_count": null,
   "metadata": {
    "id": "joyYE2Q5shu5"
   },
   "outputs": [],
   "source": [
    "# your code here"
   ]
  },
  {
   "cell_type": "markdown",
   "metadata": {
    "id": "05579aJCuY2A"
   },
   "source": [
    "**Ваша задача 2:**\n",
    "\n",
    "- [ ] Перебором по сетке (c 10-ю фолдами) подберите оптимальные параметры для [ElasticNet](https://scikit-learn.org/stable/modules/generated/sklearn.linear_model.ElasticNet.html) регрессии.\n",
    "- [ ] Ответьте на вопрос:\n",
    " - Сколько грид-сёрчу пришлось обучать моделей?\n",
    " - Какие гиперпараметры соответствуют лучшей (по выбранной метрике качества) из перебранных моделей?"
   ]
  },
  {
   "cell_type": "code",
   "execution_count": null,
   "metadata": {
    "id": "F3e5MGZMoeCR"
   },
   "outputs": [],
   "source": [
    "from sklearn.linear_model import ElasticNet\n",
    "\n",
    "# your code here"
   ]
  },
  {
   "cell_type": "markdown",
   "metadata": {
    "id": "Y2y-_PCHrevF"
   },
   "source": [
    "# **Часть 3| Добавляем категориальные фичи**\n",
    "\n",
    "Попробуем для улучшения модели дать ей больше признаков. Добавим категориальные фичи.\n",
    "\n",
    "За эту часть можно набрать 0.75 основных балла и 0.25 бонусных.\n"
   ]
  },
  {
   "cell_type": "markdown",
   "metadata": {
    "id": "frLASc5L8Tu5"
   },
   "source": [
    "### **Задание 14 (0.1 балла)** Проанализируйте столбец `name`. Очевидно, что эта переменная является категориальной, однако категорий в ней много.\n",
    "\n",
    "В этом домашнем задании мы предлагаем удалить его.\n",
    "\n",
    "**Ваша задача:**\n",
    "- [ ] Удалить столбец`name`"
   ]
  },
  {
   "cell_type": "code",
   "execution_count": null,
   "metadata": {
    "id": "jsXiFjaFrng-"
   },
   "outputs": [],
   "source": [
    "# your code here"
   ]
  },
  {
   "cell_type": "markdown",
   "metadata": {
    "id": "1hF3g5g7vodJ"
   },
   "source": [
    "В другом случае, конечно, мы могли бы предобработать данный столбец. В качестве бонуса предлагаем вам придумать и реализовать алгоритм предобработки.\n",
    "\n",
    "### **Бонус 0.5 балла**\n",
    "- [ ] Предобработайте столбец `name`, чтобы избежать его удаления"
   ]
  },
  {
   "cell_type": "code",
   "execution_count": null,
   "metadata": {
    "id": "SqDhrd6Q8k-S"
   },
   "outputs": [],
   "source": [
    "assert X_train_cat.shape == (5840, 10)"
   ]
  },
  {
   "cell_type": "code",
   "execution_count": null,
   "metadata": {
    "id": "JyGl7KQQx_Ax"
   },
   "outputs": [],
   "source": [
    "X_train_cat.describe(include='object')"
   ]
  },
  {
   "cell_type": "markdown",
   "metadata": {
    "id": "wrGfeTnjv9Vx"
   },
   "source": [
    "### **Задание 15 (0.4 балла)**\n",
    "\n",
    "- [ ] Закодируйте категориалльные фичи и ``seats`` методом OneHot-кодирования. Обратите внимание, что во избежание мультиколлинеарности следует избавиться от одного из полученных столбцов при кодировании каждого признака методом OneHot."
   ]
  },
  {
   "cell_type": "code",
   "execution_count": null,
   "metadata": {
    "id": "wbN4yM2Frob7"
   },
   "outputs": [],
   "source": [
    "from sklearn.preprocessing import OneHotEncoder # или можно использовать get_dummies из библиотеки pandas\n",
    "\n",
    "# your code here"
   ]
  },
  {
   "cell_type": "markdown",
   "metadata": {
    "id": "rCrVls8SwJJX"
   },
   "source": []
  },
  {
   "cell_type": "markdown",
   "metadata": {
    "id": "b8fI5dQT-Fvx"
   },
   "source": [
    "### **Задание 16 (0.25 балла)**\n",
    "Повторим то, что делали на прошлом шаге для моделей на вещественных признаках, однако теперь с моделью `Ridge`.\n",
    "\n",
    "\n",
    "**Ваша задача:**\n",
    "- [ ] Переберите параметр регуляризации `alpha` для гребневой (ridge) регрессии с помощью класса `GridSearchCV` В качестве параметров при объявлении GridSearchCV кроме модели укажите метрику качества $R^2$. Кроссвалидируйтесь по 10-ти фолдам.\n",
    "- [ ] Ответье на вопрос: Удалось ли улучшить качество прогнозов?"
   ]
  },
  {
   "cell_type": "code",
   "execution_count": null,
   "metadata": {
    "id": "SLXCtme53Oup"
   },
   "outputs": [],
   "source": [
    "from sklearn.linear_model import Ridge\n",
    "from sklearn.model_selection import GridSearchCV\n",
    "\n",
    "# your code here"
   ]
  },
  {
   "cell_type": "markdown",
   "metadata": {
    "id": "mw6LOYJTL2x1"
   },
   "source": [
    "# **Часть 4. | Бизнесовая (0.5 балла)**\n",
    "\n",
    "### **Задание 17 (0.5 балла)**\n",
    "\n",
    "В мире бизнеса очень важно давать оценку качества модели понятную бизнесу, поэтому иногда заказчики приходят с кастомными метриками. Попробуем сделать такую для нашей задачи.\n",
    "\n",
    "**Описание метрики:**\n",
    "\n",
    "Среди всех предсказанных цен на авто нужно посчитать долю прогнозов, отличающихся от реальных цен на эти авто не более чем на 10% (в одну или другую сторону)\n",
    "\n",
    "**Ваша задача:**\n",
    "\n",
    "- [ ] Реализуйте метрику `business_metric`\n",
    "- [ ] Посчитайте метрику для всех обученных моделей и определеите, какаю лучше всего решает задачу бизнеса"
   ]
  },
  {
   "cell_type": "code",
   "execution_count": null,
   "metadata": {
    "id": "YrcaGhO7MnMR"
   },
   "outputs": [],
   "source": [
    "def business_metric(y_true, y_pred):\n",
    "    # your code here\n",
    "\n",
    "business_metric(# your code here)"
   ]
  },
  {
   "cell_type": "markdown",
   "metadata": {
    "id": "TZk-Tfr7xLsm"
   },
   "source": [
    "`Your answer here`"
   ]
  },
  {
   "cell_type": "markdown",
   "metadata": {
    "id": "ARi0hYPrsI4x"
   },
   "source": [
    "# **Часть 5 (3 балла) | Реализация сервиса на FastAPI**\n",
    "\n",
    "### **Задание 18 (3 балла)**\n"
   ]
  },
  {
   "cell_type": "markdown",
   "metadata": {
    "id": "03rHiCmGKGU8"
   },
   "source": [
    "Cделайте с помощью FastAPI сервис, который с точки зрения пользователя реализует две функции:\n",
    "\n",
    "1. на вход в формате json подаются признаки одного объекта, на выходе сервис выдает предсказанную стоимость машины\n",
    "2. на вход подается csv-файл с признаками тестовых объектов, на выходе получаем файл с +1 столбцом - предсказаниями на этих объектах\n",
    "\n",
    "С точки зрения реализации это означает следующее:\n",
    "- средствами pydantic должен быть описан класс базового объекта\n",
    "- класс с коллецией объектов\n",
    "- метод post, который получает на вход один объект описанного класса\n",
    "- метод post, который получает на вход коллекцию объектов описанного класса\n",
    "\n",
    "Шаблон для сервисной части дан ниже. Код необходимо дополнить и оформить в виде отдельного .py-файла."
   ]
  },
  {
   "cell_type": "code",
   "execution_count": null,
   "metadata": {
    "id": "6Qq8zyxNsYC3"
   },
   "outputs": [],
   "source": [
    "from fastapi import FastAPI\n",
    "from pydantic import BaseModel\n",
    "from typing import List\n",
    "\n",
    "app = FastAPI()\n",
    "\n",
    "\n",
    "class Item(BaseModel):\n",
    "    name: str\n",
    "    year: int\n",
    "    selling_price: int\n",
    "    km_driven: int\n",
    "    fuel: str\n",
    "    seller_type: str\n",
    "    transmission: str\n",
    "    owner: str\n",
    "    mileage: str\n",
    "    engine: str\n",
    "    max_power: str\n",
    "    torque: str\n",
    "    seats: float\n",
    "\n",
    "\n",
    "class Items(BaseModel):\n",
    "    objects: List[Item]\n",
    "\n",
    "\n",
    "@app.post(\"/predict_item\")\n",
    "def predict_item(item: Item) -> float:\n",
    "    return ...\n",
    "\n",
    "\n",
    "@app.post(\"/predict_items\")\n",
    "def predict_items(items: List[Item]) -> List[float]:\n",
    "    return ..."
   ]
  },
  {
   "cell_type": "markdown",
   "metadata": {
    "id": "3U29qIjog18v"
   },
   "source": [
    "Протестируйте сервис на корректность работы и приложите скриншоты (см. ниже)."
   ]
  },
  {
   "cell_type": "markdown",
   "metadata": {
    "id": "V4fq_10xsaHg"
   },
   "source": [
    "# **Часть 6 (1 балл) | Оформление результатов**\n",
    "\n",
    "### **Задание 19 (1 балл)**\n"
   ]
  },
  {
   "cell_type": "markdown",
   "metadata": {
    "id": "nmwf-ZrEKZy6"
   },
   "source": [
    "**Результаты вашей работы** необходимо разместить в своем Гитхабе. Под результатами понимаем следующее:\n",
    "* ``.ipynb``-ноутбук со всеми проведёнными вами экспериментами (output'ы ячеек, разумеется, сохранить)\n",
    "* сохраненный дашборд в любом формате\n",
    "* ``.py``-файл с реализацией сервиса\n",
    "* ``.pickle``-файл с сохранёнными весами модели, коэффициентами скейлинга и прочими числовыми значениями, которые могут понадобиться для инференса\n",
    "* ``.md``-файл с выводами про проделанной вами работе:\n",
    "    * что было сделано\n",
    "    * с какими результатами\n",
    "    * что дало наибольший буст в качестве\n",
    "    * что сделать не вышло и почему (это нормально, даже хорошо😀)\n",
    "\n",
    "**За что могут быть сняты баллы в этом пункте:**\n",
    "* за отсутствие ``.pickle``-файла с весами использованной модели\n",
    "* за недостаточную аналитику в ``.md``-файле\n",
    "* за оформление и логику кода (в определённом смысле это тоже элемент оформления решения)\n",
    "\n",
    "**Как будет выглядет проверка всего домашнего задания?**\n",
    "1. Ассистент проходит по ссылке на (**открытый**) репозиторий из Энитаска\n",
    "2. Смотрит ``readme.md``:\n",
    "    * пожалуйста, приложите в него же скрины работы вашего сервиса -- собирать ваши проекты довольно времязатратно, но хочется убедиться, что всё работает\n",
    "    * можете в md-файл приложить ссылку на screencast с демонстрацией\n",
    "3. Просматривает ноутбук с DS-частью\n",
    "4. Заглядывает в код сервиса\n",
    "5. Хвалит"
   ]
  },
  {
   "cell_type": "markdown",
   "metadata": {
    "id": "QSIEzw6sN8Zp"
   },
   "source": [
    "# **Часть Благодарственная**"
   ]
  },
  {
   "cell_type": "markdown",
   "metadata": {
    "id": "lWOSqmLWOAr-"
   },
   "source": [
    "Надеемся, вы честно проделали все пункты, а не просто пролистали досюда. Потому что здесь награда за старания. Пожалуйста, не стоит награждать себя до того, как закончите работать над домашкой!\n",
    "\n",
    "<details>\n",
    "<summary><b>Что-то приятное</b></summary>\n",
    "\n",
    "**Напоминаем, что нашем курсе действует система кото-бонусов** 🐈\n",
    "\n",
    "На фото по ссылке — сэр кот кого-то из команды курса (преподаватель, помощник преподавателя, ассистенты).\n",
    "\n",
    "Предлагаем вам угадать — чей это товарищ!\n",
    "\n",
    "[Первый кот](https://ibb.co/XbnpCTg)\n",
    "\n",
    "</details>\n",
    "\n"
   ]
  }
 ],
 "metadata": {
  "colab": {
   "include_colab_link": true,
   "provenance": []
  },
  "kernelspec": {
   "display_name": ".venv",
   "language": "python",
   "name": "python3"
  },
  "language_info": {
   "codemirror_mode": {
    "name": "ipython",
    "version": 3
   },
   "file_extension": ".py",
   "mimetype": "text/x-python",
   "name": "python",
   "nbconvert_exporter": "python",
   "pygments_lexer": "ipython3",
   "version": "3.10.15"
  }
 },
 "nbformat": 4,
 "nbformat_minor": 0
}
