{
  "nbformat": 4,
  "nbformat_minor": 0,
  "metadata": {
    "colab": {
      "provenance": [],
      "include_colab_link": true
    },
    "kernelspec": {
      "name": "python3",
      "display_name": "Python 3"
    },
    "language_info": {
      "name": "python"
    }
  },
  "cells": [
    {
      "cell_type": "markdown",
      "metadata": {
        "id": "view-in-github",
        "colab_type": "text"
      },
      "source": [
        "<a href=\"https://colab.research.google.com/github/psaw/hse-ai24-ml/blob/main/Optuna_screencast.ipynb\" target=\"_parent\"><img src=\"https://colab.research.google.com/assets/colab-badge.svg\" alt=\"Open In Colab\"/></a>"
      ]
    },
    {
      "cell_type": "markdown",
      "source": [
        "## Общий алгоритм работы с Optuna"
      ],
      "metadata": {
        "id": "ul3rzuwwsxr8"
      }
    },
    {
      "cell_type": "code",
      "source": [
        "!pip install optuna -q"
      ],
      "metadata": {
        "id": "_LL7Hsx7tDJZ",
        "colab": {
          "base_uri": "https://localhost:8080/"
        },
        "outputId": "c3012c09-35a6-4562-f4f1-678a2aae5ad6"
      },
      "execution_count": null,
      "outputs": [
        {
          "output_type": "stream",
          "name": "stdout",
          "text": [
            "\u001b[2K     \u001b[90m━━━━━━━━━━━━━━━━━━━━━━━━━━━━━━━━━━━━━━━\u001b[0m \u001b[32m365.7/365.7 kB\u001b[0m \u001b[31m5.4 MB/s\u001b[0m eta \u001b[36m0:00:00\u001b[0m\n",
            "\u001b[2K     \u001b[90m━━━━━━━━━━━━━━━━━━━━━━━━━━━━━━━━━━━━━━━\u001b[0m \u001b[32m212.3/212.3 kB\u001b[0m \u001b[31m6.3 MB/s\u001b[0m eta \u001b[36m0:00:00\u001b[0m\n",
            "\u001b[2K     \u001b[90m━━━━━━━━━━━━━━━━━━━━━━━━━━━━━━━━━━━━━━━━\u001b[0m \u001b[32m78.7/78.7 kB\u001b[0m \u001b[31m5.5 MB/s\u001b[0m eta \u001b[36m0:00:00\u001b[0m\n",
            "\u001b[?25h"
          ]
        }
      ]
    },
    {
      "cell_type": "markdown",
      "source": [
        "1. Определяем целевую функцию objective, через аргументы она будет получать специальный объект trial. С его помощью можно назначать различные гипермараметры, Например, как в примере ниже, мы задаем x в интервале [-10,10].\n",
        "\n",
        "2. Далее создаем объект обучения с помощью метода optuna.create_study.\n",
        "\n",
        "3. Запускаем оптимизацию целевой функции objective на 10 итераций n_trials=10. Происходит 10 вызовов нашей функции с различными параметрами от -10 до 10. Какие именно параметры выбирает optuna будет описано ниже."
      ],
      "metadata": {
        "id": "FSX_n4jEs4bV"
      }
    },
    {
      "cell_type": "code",
      "source": [
        "import optuna\n",
        "\n",
        "def objective(trial):\n",
        "    x = trial.suggest_float('x', -10, 10)\n",
        "    return (x - 2) ** 2\n",
        "\n",
        "study = optuna.create_study()\n",
        "study.optimize(objective, n_trials=40)\n",
        "\n",
        "study.best_params"
      ],
      "metadata": {
        "colab": {
          "base_uri": "https://localhost:8080/"
        },
        "id": "38XypFszs1Ym",
        "outputId": "91e64ee4-862f-4bc6-c7e7-bdcfca0f4c56"
      },
      "execution_count": null,
      "outputs": [
        {
          "output_type": "stream",
          "name": "stderr",
          "text": [
            "\u001b[32m[I 2023-04-19 18:47:54,785]\u001b[0m A new study created in memory with name: no-name-f96dfb93-34ed-49ce-84f0-5d3246ad513c\u001b[0m\n",
            "\u001b[32m[I 2023-04-19 18:47:54,802]\u001b[0m Trial 0 finished with value: 18.45675720414344 and parameters: {'x': 6.296132819658098}. Best is trial 0 with value: 18.45675720414344.\u001b[0m\n",
            "\u001b[32m[I 2023-04-19 18:47:54,809]\u001b[0m Trial 1 finished with value: 24.75951211512401 and parameters: {'x': -2.975893097236315}. Best is trial 0 with value: 18.45675720414344.\u001b[0m\n",
            "\u001b[32m[I 2023-04-19 18:47:54,837]\u001b[0m Trial 2 finished with value: 32.76221902653796 and parameters: {'x': 7.723829052875178}. Best is trial 0 with value: 18.45675720414344.\u001b[0m\n",
            "\u001b[32m[I 2023-04-19 18:47:54,842]\u001b[0m Trial 3 finished with value: 64.44069057392396 and parameters: {'x': -6.027495909305962}. Best is trial 0 with value: 18.45675720414344.\u001b[0m\n",
            "\u001b[32m[I 2023-04-19 18:47:54,849]\u001b[0m Trial 4 finished with value: 51.91574732535013 and parameters: {'x': -5.205258310799838}. Best is trial 0 with value: 18.45675720414344.\u001b[0m\n",
            "\u001b[32m[I 2023-04-19 18:47:54,854]\u001b[0m Trial 5 finished with value: 1.9125099395020688 and parameters: {'x': 3.382935262223821}. Best is trial 5 with value: 1.9125099395020688.\u001b[0m\n",
            "\u001b[32m[I 2023-04-19 18:47:54,873]\u001b[0m Trial 6 finished with value: 33.353972689840965 and parameters: {'x': 7.775289836003122}. Best is trial 5 with value: 1.9125099395020688.\u001b[0m\n",
            "\u001b[32m[I 2023-04-19 18:47:54,877]\u001b[0m Trial 7 finished with value: 0.015406035026393448 and parameters: {'x': 1.8758789501075928}. Best is trial 7 with value: 0.015406035026393448.\u001b[0m\n",
            "\u001b[32m[I 2023-04-19 18:47:54,884]\u001b[0m Trial 8 finished with value: 5.253516780534552 and parameters: {'x': -0.29205514343231975}. Best is trial 7 with value: 0.015406035026393448.\u001b[0m\n",
            "\u001b[32m[I 2023-04-19 18:47:54,901]\u001b[0m Trial 9 finished with value: 0.01341506482834239 and parameters: {'x': 1.8841765791027463}. Best is trial 9 with value: 0.01341506482834239.\u001b[0m\n",
            "\u001b[32m[I 2023-04-19 18:47:54,941]\u001b[0m Trial 10 finished with value: 128.7023549085609 and parameters: {'x': -9.344706030063577}. Best is trial 9 with value: 0.01341506482834239.\u001b[0m\n",
            "\u001b[32m[I 2023-04-19 18:47:54,959]\u001b[0m Trial 11 finished with value: 0.6656935388558318 and parameters: {'x': 2.8159004466574533}. Best is trial 9 with value: 0.01341506482834239.\u001b[0m\n",
            "\u001b[32m[I 2023-04-19 18:47:54,991]\u001b[0m Trial 12 finished with value: 0.8872864837069208 and parameters: {'x': 1.0580411454278267}. Best is trial 9 with value: 0.01341506482834239.\u001b[0m\n",
            "\u001b[32m[I 2023-04-19 18:47:55,010]\u001b[0m Trial 13 finished with value: 6.7251978128111665 and parameters: {'x': 4.5932986354855405}. Best is trial 9 with value: 0.01341506482834239.\u001b[0m\n",
            "\u001b[32m[I 2023-04-19 18:47:55,024]\u001b[0m Trial 14 finished with value: 2.9744674791705417 and parameters: {'x': 0.2753355459189919}. Best is trial 9 with value: 0.01341506482834239.\u001b[0m\n",
            "\u001b[32m[I 2023-04-19 18:47:55,039]\u001b[0m Trial 15 finished with value: 62.226274948848705 and parameters: {'x': 9.888363261719677}. Best is trial 9 with value: 0.01341506482834239.\u001b[0m\n",
            "\u001b[32m[I 2023-04-19 18:47:55,053]\u001b[0m Trial 16 finished with value: 0.0072898823185595886 and parameters: {'x': 2.0853808076710427}. Best is trial 16 with value: 0.0072898823185595886.\u001b[0m\n",
            "\u001b[32m[I 2023-04-19 18:47:55,069]\u001b[0m Trial 17 finished with value: 10.46513580999942 and parameters: {'x': -1.2349862148082518}. Best is trial 16 with value: 0.0072898823185595886.\u001b[0m\n",
            "\u001b[32m[I 2023-04-19 18:47:55,081]\u001b[0m Trial 18 finished with value: 9.003637851561885 and parameters: {'x': 5.000606247337675}. Best is trial 16 with value: 0.0072898823185595886.\u001b[0m\n",
            "\u001b[32m[I 2023-04-19 18:47:55,095]\u001b[0m Trial 19 finished with value: 2.7403350755339058 and parameters: {'x': 3.6553957458970063}. Best is trial 16 with value: 0.0072898823185595886.\u001b[0m\n",
            "\u001b[32m[I 2023-04-19 18:47:55,110]\u001b[0m Trial 20 finished with value: 0.0077415823322640335 and parameters: {'x': 2.0879862621791836}. Best is trial 16 with value: 0.0072898823185595886.\u001b[0m\n",
            "\u001b[32m[I 2023-04-19 18:47:55,123]\u001b[0m Trial 21 finished with value: 0.0068134161566966184 and parameters: {'x': 1.9174565801732408}. Best is trial 21 with value: 0.0068134161566966184.\u001b[0m\n",
            "\u001b[32m[I 2023-04-19 18:47:55,136]\u001b[0m Trial 22 finished with value: 12.036335037343264 and parameters: {'x': -1.4693421620450275}. Best is trial 21 with value: 0.0068134161566966184.\u001b[0m\n",
            "\u001b[32m[I 2023-04-19 18:47:55,153]\u001b[0m Trial 23 finished with value: 0.00545138657366261 and parameters: {'x': 1.9261664942342394}. Best is trial 23 with value: 0.00545138657366261.\u001b[0m\n",
            "\u001b[32m[I 2023-04-19 18:47:55,166]\u001b[0m Trial 24 finished with value: 0.6895068523430721 and parameters: {'x': 1.169634506772426}. Best is trial 23 with value: 0.00545138657366261.\u001b[0m\n",
            "\u001b[32m[I 2023-04-19 18:47:55,182]\u001b[0m Trial 25 finished with value: 5.057953404485358 and parameters: {'x': 4.248989418491194}. Best is trial 23 with value: 0.00545138657366261.\u001b[0m\n",
            "\u001b[32m[I 2023-04-19 18:47:55,196]\u001b[0m Trial 26 finished with value: 0.619208207306876 and parameters: {'x': 2.7868978379096463}. Best is trial 23 with value: 0.00545138657366261.\u001b[0m\n",
            "\u001b[32m[I 2023-04-19 18:47:55,211]\u001b[0m Trial 27 finished with value: 3.262187061409205 and parameters: {'x': 0.19384744237669538}. Best is trial 23 with value: 0.00545138657366261.\u001b[0m\n",
            "\u001b[32m[I 2023-04-19 18:47:55,228]\u001b[0m Trial 28 finished with value: 14.938924291839871 and parameters: {'x': 5.865090463603649}. Best is trial 23 with value: 0.00545138657366261.\u001b[0m\n",
            "\u001b[32m[I 2023-04-19 18:47:55,243]\u001b[0m Trial 29 finished with value: 13.950861045887306 and parameters: {'x': 5.735085145734606}. Best is trial 23 with value: 0.00545138657366261.\u001b[0m\n",
            "\u001b[32m[I 2023-04-19 18:47:55,259]\u001b[0m Trial 30 finished with value: 4.796070362127938 and parameters: {'x': 4.189993233352089}. Best is trial 23 with value: 0.00545138657366261.\u001b[0m\n",
            "\u001b[32m[I 2023-04-19 18:47:55,272]\u001b[0m Trial 31 finished with value: 0.07677622882089893 and parameters: {'x': 2.2770852374647537}. Best is trial 23 with value: 0.00545138657366261.\u001b[0m\n",
            "\u001b[32m[I 2023-04-19 18:47:55,287]\u001b[0m Trial 32 finished with value: 0.30710409352802703 and parameters: {'x': 1.4458302664994893}. Best is trial 23 with value: 0.00545138657366261.\u001b[0m\n",
            "\u001b[32m[I 2023-04-19 18:47:55,305]\u001b[0m Trial 33 finished with value: 9.442500017369479 and parameters: {'x': -1.0728651153881583}. Best is trial 23 with value: 0.00545138657366261.\u001b[0m\n",
            "\u001b[32m[I 2023-04-19 18:47:55,319]\u001b[0m Trial 34 finished with value: 0.5015027359143291 and parameters: {'x': 2.7081685787397864}. Best is trial 23 with value: 0.00545138657366261.\u001b[0m\n",
            "\u001b[32m[I 2023-04-19 18:47:55,335]\u001b[0m Trial 35 finished with value: 1.3396533934012207 and parameters: {'x': 0.8425660306517608}. Best is trial 23 with value: 0.00545138657366261.\u001b[0m\n",
            "\u001b[32m[I 2023-04-19 18:47:55,349]\u001b[0m Trial 36 finished with value: 18.722104896292134 and parameters: {'x': -2.326904770883239}. Best is trial 23 with value: 0.00545138657366261.\u001b[0m\n",
            "\u001b[32m[I 2023-04-19 18:47:55,363]\u001b[0m Trial 37 finished with value: 2.6218856594470195 and parameters: {'x': 3.619223783004381}. Best is trial 23 with value: 0.00545138657366261.\u001b[0m\n",
            "\u001b[32m[I 2023-04-19 18:47:55,380]\u001b[0m Trial 38 finished with value: 4.43739037747124 and parameters: {'x': -0.10651142353210097}. Best is trial 23 with value: 0.00545138657366261.\u001b[0m\n",
            "\u001b[32m[I 2023-04-19 18:47:55,396]\u001b[0m Trial 39 finished with value: 7.528212175084664e-05 and parameters: {'x': 1.991323472944153}. Best is trial 39 with value: 7.528212175084664e-05.\u001b[0m\n"
          ]
        },
        {
          "output_type": "execute_result",
          "data": {
            "text/plain": [
              "{'x': 1.991323472944153}"
            ]
          },
          "metadata": {},
          "execution_count": 3
        }
      ]
    },
    {
      "cell_type": "markdown",
      "source": [
        "## Загрузка данных и импорт библиотек"
      ],
      "metadata": {
        "id": "nOQp8no8gSN-"
      }
    },
    {
      "cell_type": "code",
      "source": [
        "from sklearn.model_selection import cross_val_score, train_test_split\n",
        "from sklearn.metrics import r2_score\n",
        "\n",
        "from sklearn.datasets import fetch_california_housing"
      ],
      "metadata": {
        "id": "oZyZjRRMew4L"
      },
      "execution_count": null,
      "outputs": []
    },
    {
      "cell_type": "code",
      "source": [
        "RANDOM_STATE = 42"
      ],
      "metadata": {
        "id": "H1qNhioLgPbo"
      },
      "execution_count": null,
      "outputs": []
    },
    {
      "cell_type": "code",
      "source": [
        "!pip install lightgbm -q"
      ],
      "metadata": {
        "id": "5wBR-CrirYoA"
      },
      "execution_count": null,
      "outputs": []
    },
    {
      "cell_type": "code",
      "source": [
        "from lightgbm import LGBMRegressor"
      ],
      "metadata": {
        "id": "gkk84uFzr663"
      },
      "execution_count": null,
      "outputs": []
    },
    {
      "cell_type": "code",
      "source": [
        "data = fetch_california_housing(as_frame=True)\n",
        "\n",
        "X = data.data\n",
        "y = data.target"
      ],
      "metadata": {
        "id": "ovU_nNxQroO3"
      },
      "execution_count": null,
      "outputs": []
    },
    {
      "cell_type": "code",
      "source": [
        "Xtrain, Xtest, ytrain, ytest = train_test_split(X, y, test_size=0.25, random_state=RANDOM_STATE)"
      ],
      "metadata": {
        "id": "W7wTqHnWgJCl"
      },
      "execution_count": null,
      "outputs": []
    },
    {
      "cell_type": "markdown",
      "source": [
        "## Подбор гиперпараметров с Optuna"
      ],
      "metadata": {
        "id": "q7lbcbZ-fiz_"
      }
    },
    {
      "cell_type": "markdown",
      "source": [
        "Разобъем данные на тренировочную и тестовую часть. На тренировочной части по кросс-валидации подберем гиперпараметры моделей, а затем проверим качество на тестовой части."
      ],
      "metadata": {
        "id": "o56djzYIhrKB"
      }
    },
    {
      "cell_type": "code",
      "source": [
        "def objective_lgbm(trial):\n",
        "    max_depth = trial.suggest_int(\"max_depth\", 2, 20)\n",
        "    learning_rate = trial.suggest_float(\"learning_rate\", 1e-5, 1, log=True)\n",
        "    n_estimators = trial.suggest_int(\"n_estimators\", 10, 1000)\n",
        "\n",
        "    score = cross_val_score(LGBMRegressor(max_depth=max_depth, learning_rate=learning_rate, n_estimators=n_estimators),\n",
        "                            Xtrain, ytrain, cv=3, scoring='r2', n_jobs=-1).mean()\n",
        "    return score\n",
        "\n",
        "\n",
        "study = optuna.create_study(direction=\"maximize\")\n",
        "study.optimize(objective_lgbm, n_trials=30)"
      ],
      "metadata": {
        "colab": {
          "base_uri": "https://localhost:8080/"
        },
        "id": "ZVuWYnXzqlzx",
        "outputId": "40c96825-bf85-492f-d358-4f6a4f11d331"
      },
      "execution_count": null,
      "outputs": [
        {
          "output_type": "stream",
          "name": "stderr",
          "text": [
            "\u001b[32m[I 2023-04-19 18:50:23,367]\u001b[0m A new study created in memory with name: no-name-3bb37c17-e0e3-4d16-8831-90301daf80b4\u001b[0m\n",
            "\u001b[32m[I 2023-04-19 18:50:27,118]\u001b[0m Trial 0 finished with value: 0.8171232497662545 and parameters: {'max_depth': 20, 'learning_rate': 0.038605092793381104, 'n_estimators': 129}. Best is trial 0 with value: 0.8171232497662545.\u001b[0m\n",
            "\u001b[32m[I 2023-04-19 18:50:32,280]\u001b[0m Trial 1 finished with value: 0.8423702466775841 and parameters: {'max_depth': 13, 'learning_rate': 0.04232599692911454, 'n_estimators': 974}. Best is trial 1 with value: 0.8423702466775841.\u001b[0m\n",
            "\u001b[32m[I 2023-04-19 18:50:37,546]\u001b[0m Trial 2 finished with value: 0.056222277804752606 and parameters: {'max_depth': 5, 'learning_rate': 6.500600015349346e-05, 'n_estimators': 730}. Best is trial 1 with value: 0.8423702466775841.\u001b[0m\n",
            "\u001b[32m[I 2023-04-19 18:50:39,548]\u001b[0m Trial 3 finished with value: 0.27458346288125873 and parameters: {'max_depth': 3, 'learning_rate': 0.0003971906418508838, 'n_estimators': 882}. Best is trial 1 with value: 0.8423702466775841.\u001b[0m\n",
            "\u001b[32m[I 2023-04-19 18:50:42,888]\u001b[0m Trial 4 finished with value: 0.059801680497143704 and parameters: {'max_depth': 6, 'learning_rate': 8.292021074131897e-05, 'n_estimators': 591}. Best is trial 1 with value: 0.8423702466775841.\u001b[0m\n",
            "\u001b[32m[I 2023-04-19 18:50:44,424]\u001b[0m Trial 5 finished with value: 0.02056842234856689 and parameters: {'max_depth': 9, 'learning_rate': 6.230222008660737e-05, 'n_estimators': 262}. Best is trial 1 with value: 0.8423702466775841.\u001b[0m\n",
            "\u001b[32m[I 2023-04-19 18:50:46,188]\u001b[0m Trial 6 finished with value: 0.009341927333634517 and parameters: {'max_depth': 5, 'learning_rate': 2.1427789312394755e-05, 'n_estimators': 359}. Best is trial 1 with value: 0.8423702466775841.\u001b[0m\n",
            "\u001b[32m[I 2023-04-19 18:50:48,561]\u001b[0m Trial 7 finished with value: 0.026908108464826237 and parameters: {'max_depth': 13, 'learning_rate': 8.783557337106696e-05, 'n_estimators': 244}. Best is trial 1 with value: 0.8423702466775841.\u001b[0m\n",
            "\u001b[32m[I 2023-04-19 18:50:51,806]\u001b[0m Trial 8 finished with value: 0.37104554699348063 and parameters: {'max_depth': 6, 'learning_rate': 0.0008146936849636615, 'n_estimators': 506}. Best is trial 1 with value: 0.8423702466775841.\u001b[0m\n",
            "\u001b[32m[I 2023-04-19 18:50:55,526]\u001b[0m Trial 9 finished with value: 0.8290882783512717 and parameters: {'max_depth': 15, 'learning_rate': 0.01352419197750582, 'n_estimators': 610}. Best is trial 1 with value: 0.8423702466775841.\u001b[0m\n",
            "\u001b[32m[I 2023-04-19 18:51:00,551]\u001b[0m Trial 10 finished with value: 0.7683848859053978 and parameters: {'max_depth': 17, 'learning_rate': 0.7317935956229591, 'n_estimators': 984}. Best is trial 1 with value: 0.8423702466775841.\u001b[0m\n",
            "\u001b[32m[I 2023-04-19 18:51:06,118]\u001b[0m Trial 11 finished with value: 0.8298502061899979 and parameters: {'max_depth': 14, 'learning_rate': 0.01249831758127485, 'n_estimators': 713}. Best is trial 1 with value: 0.8423702466775841.\u001b[0m\n",
            "\u001b[32m[I 2023-04-19 18:51:11,043]\u001b[0m Trial 12 finished with value: 0.8297954804913887 and parameters: {'max_depth': 11, 'learning_rate': 0.01112910685918899, 'n_estimators': 800}. Best is trial 1 with value: 0.8423702466775841.\u001b[0m\n",
            "\u001b[32m[I 2023-04-19 18:51:17,297]\u001b[0m Trial 13 finished with value: 0.8404800180191486 and parameters: {'max_depth': 16, 'learning_rate': 0.10030778751466128, 'n_estimators': 979}. Best is trial 1 with value: 0.8423702466775841.\u001b[0m\n",
            "\u001b[32m[I 2023-04-19 18:51:22,117]\u001b[0m Trial 14 finished with value: 0.8341670362565416 and parameters: {'max_depth': 18, 'learning_rate': 0.1704745638774985, 'n_estimators': 973}. Best is trial 1 with value: 0.8423702466775841.\u001b[0m\n",
            "\u001b[32m[I 2023-04-19 18:51:26,539]\u001b[0m Trial 15 finished with value: 0.8417830303121127 and parameters: {'max_depth': 10, 'learning_rate': 0.08189352137321236, 'n_estimators': 859}. Best is trial 1 with value: 0.8423702466775841.\u001b[0m\n",
            "\u001b[32m[I 2023-04-19 18:51:32,267]\u001b[0m Trial 16 finished with value: 0.7560443981715479 and parameters: {'max_depth': 10, 'learning_rate': 0.7603317748776858, 'n_estimators': 834}. Best is trial 1 with value: 0.8423702466775841.\u001b[0m\n",
            "\u001b[32m[I 2023-04-19 18:51:36,647]\u001b[0m Trial 17 finished with value: 0.768449099026169 and parameters: {'max_depth': 8, 'learning_rate': 0.00373705658858536, 'n_estimators': 685}. Best is trial 1 with value: 0.8423702466775841.\u001b[0m\n",
            "\u001b[32m[I 2023-04-19 18:51:41,222]\u001b[0m Trial 18 finished with value: 0.8393226225926615 and parameters: {'max_depth': 13, 'learning_rate': 0.11814185810387809, 'n_estimators': 889}. Best is trial 1 with value: 0.8423702466775841.\u001b[0m\n",
            "\u001b[32m[I 2023-04-19 18:51:44,646]\u001b[0m Trial 19 finished with value: 0.8392432066016463 and parameters: {'max_depth': 12, 'learning_rate': 0.051612202221449105, 'n_estimators': 420}. Best is trial 1 with value: 0.8423702466775841.\u001b[0m\n",
            "\u001b[32m[I 2023-04-19 18:51:44,952]\u001b[0m Trial 20 finished with value: 0.823572524457247 and parameters: {'max_depth': 8, 'learning_rate': 0.3077671656902839, 'n_estimators': 42}. Best is trial 1 with value: 0.8423702466775841.\u001b[0m\n",
            "\u001b[32m[I 2023-04-19 18:51:50,039]\u001b[0m Trial 21 finished with value: 0.8416537207794864 and parameters: {'max_depth': 16, 'learning_rate': 0.060777547448801754, 'n_estimators': 1000}. Best is trial 1 with value: 0.8423702466775841.\u001b[0m\n",
            "\u001b[32m[I 2023-04-19 18:51:55,249]\u001b[0m Trial 22 finished with value: 0.841557357373726 and parameters: {'max_depth': 19, 'learning_rate': 0.03521382095309793, 'n_estimators': 904}. Best is trial 1 with value: 0.8423702466775841.\u001b[0m\n",
            "\u001b[32m[I 2023-04-19 18:52:00,080]\u001b[0m Trial 23 finished with value: 0.8302722094275977 and parameters: {'max_depth': 15, 'learning_rate': 0.2339003707523473, 'n_estimators': 771}. Best is trial 1 with value: 0.8423702466775841.\u001b[0m\n",
            "\u001b[32m[I 2023-04-19 18:52:05,239]\u001b[0m Trial 24 finished with value: 0.8408875908311031 and parameters: {'max_depth': 11, 'learning_rate': 0.0678616723295148, 'n_estimators': 1000}. Best is trial 1 with value: 0.8423702466775841.\u001b[0m\n",
            "\u001b[32m[I 2023-04-19 18:52:12,108]\u001b[0m Trial 25 finished with value: 0.8377657275299767 and parameters: {'max_depth': 16, 'learning_rate': 0.018220110401554725, 'n_estimators': 879}. Best is trial 1 with value: 0.8423702466775841.\u001b[0m\n",
            "\u001b[32m[I 2023-04-19 18:52:16,249]\u001b[0m Trial 26 finished with value: 0.7777131982935007 and parameters: {'max_depth': 13, 'learning_rate': 0.004162182634213085, 'n_estimators': 640}. Best is trial 1 with value: 0.8423702466775841.\u001b[0m\n",
            "\u001b[32m[I 2023-04-19 18:52:20,138]\u001b[0m Trial 27 finished with value: 0.8230979218547573 and parameters: {'max_depth': 10, 'learning_rate': 0.3282726468078567, 'n_estimators': 812}. Best is trial 1 with value: 0.8423702466775841.\u001b[0m\n",
            "\u001b[32m[I 2023-04-19 18:52:26,963]\u001b[0m Trial 28 finished with value: 0.8407759841596231 and parameters: {'max_depth': 18, 'learning_rate': 0.026361902657171702, 'n_estimators': 947}. Best is trial 1 with value: 0.8423702466775841.\u001b[0m\n",
            "\u001b[32m[I 2023-04-19 18:52:31,420]\u001b[0m Trial 29 finished with value: 0.8414782609213814 and parameters: {'max_depth': 20, 'learning_rate': 0.055139477151591294, 'n_estimators': 849}. Best is trial 1 with value: 0.8423702466775841.\u001b[0m\n"
          ]
        }
      ]
    },
    {
      "cell_type": "code",
      "source": [
        "study.best_params"
      ],
      "metadata": {
        "colab": {
          "base_uri": "https://localhost:8080/"
        },
        "id": "beUZXBdUtLsT",
        "outputId": "1e947f45-ebff-46ee-ef26-ec9d74f404e3"
      },
      "execution_count": null,
      "outputs": [
        {
          "output_type": "execute_result",
          "data": {
            "text/plain": [
              "{'max_depth': 13, 'learning_rate': 0.04232599692911454, 'n_estimators': 974}"
            ]
          },
          "metadata": {},
          "execution_count": 11
        }
      ]
    },
    {
      "cell_type": "code",
      "source": [
        "model = LGBMRegressor(**study.best_params)\n",
        "model.fit(Xtrain, ytrain)\n",
        "\n",
        "pred = model.predict(Xtest)\n",
        "\n",
        "r2_score(ytest, pred)"
      ],
      "metadata": {
        "colab": {
          "base_uri": "https://localhost:8080/"
        },
        "id": "ecgWbLiRgruR",
        "outputId": "c5fe467e-1abb-43bb-a609-429320adbf41"
      },
      "execution_count": null,
      "outputs": [
        {
          "output_type": "execute_result",
          "data": {
            "text/plain": [
              "0.855095804413975"
            ]
          },
          "metadata": {},
          "execution_count": 12
        }
      ]
    },
    {
      "cell_type": "code",
      "source": [],
      "metadata": {
        "id": "azqbRUqn3MaN"
      },
      "execution_count": null,
      "outputs": []
    }
  ]
}