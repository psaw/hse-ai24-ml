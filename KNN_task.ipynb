{
  "cells": [
    {
      "cell_type": "markdown",
      "metadata": {
        "colab_type": "text",
        "id": "view-in-github"
      },
      "source": [
        "<a href=\"https://colab.research.google.com/github/psaw/hse-ai24-ml/blob/main/KNN_task.ipynb\" target=\"_parent\"><img src=\"https://colab.research.google.com/assets/colab-badge.svg\" alt=\"Open In Colab\"/></a>"
      ]
    },
    {
      "cell_type": "markdown",
      "metadata": {
        "id": "AkS7Lxm8nTLB"
      },
      "source": [
        "# Метрические алгоритмы. Практика"
      ]
    },
    {
      "cell_type": "markdown",
      "metadata": {
        "id": "3jgxaKLXynLQ"
      },
      "source": [
        "В этом домашнем задании вы будете решать задачу классификации бутылок вина по различным характеристикам."
      ]
    },
    {
      "cell_type": "markdown",
      "metadata": {
        "id": "ow7CdXlWyrfI"
      },
      "source": [
        "## Импорт библиотек, установка константных значений"
      ]
    },
    {
      "cell_type": "code",
      "execution_count": 14,
      "metadata": {
        "id": "shgV5ZT-oLG2"
      },
      "outputs": [],
      "source": [
        "import pandas as pd\n",
        "import numpy as np"
      ]
    },
    {
      "cell_type": "code",
      "execution_count": 15,
      "metadata": {
        "id": "85Rgp6ivyvZq"
      },
      "outputs": [],
      "source": [
        "RANDOM_STATE = 42\n",
        "TRAIN_SIZE = 0.75"
      ]
    },
    {
      "cell_type": "code",
      "execution_count": 16,
      "metadata": {
        "id": "QGpwI1GxyySs"
      },
      "outputs": [],
      "source": [
        "rng = np.random.default_rng(RANDOM_STATE)"
      ]
    },
    {
      "cell_type": "markdown",
      "metadata": {
        "id": "uOk2Swygyxho"
      },
      "source": [
        "## Загрузка данных"
      ]
    },
    {
      "cell_type": "code",
      "execution_count": 17,
      "metadata": {
        "id": "_8RhxtHwwzTG"
      },
      "outputs": [
        {
          "data": {
            "text/html": [
              "<div>\n",
              "<style scoped>\n",
              "    .dataframe tbody tr th:only-of-type {\n",
              "        vertical-align: middle;\n",
              "    }\n",
              "\n",
              "    .dataframe tbody tr th {\n",
              "        vertical-align: top;\n",
              "    }\n",
              "\n",
              "    .dataframe thead th {\n",
              "        text-align: right;\n",
              "    }\n",
              "</style>\n",
              "<table border=\"1\" class=\"dataframe\">\n",
              "  <thead>\n",
              "    <tr style=\"text-align: right;\">\n",
              "      <th></th>\n",
              "      <th>alcohol</th>\n",
              "      <th>malic_acid</th>\n",
              "      <th>ash</th>\n",
              "      <th>alcalinity_of_ash</th>\n",
              "      <th>magnesium</th>\n",
              "      <th>total_phenols</th>\n",
              "      <th>flavanoids</th>\n",
              "      <th>nonflavanoid_phenols</th>\n",
              "      <th>proanthocyanins</th>\n",
              "      <th>color_intensity</th>\n",
              "      <th>hue</th>\n",
              "      <th>od280/od315_of_diluted_wines</th>\n",
              "      <th>proline</th>\n",
              "    </tr>\n",
              "  </thead>\n",
              "  <tbody>\n",
              "    <tr>\n",
              "      <th>0</th>\n",
              "      <td>14.23</td>\n",
              "      <td>1.71</td>\n",
              "      <td>2.43</td>\n",
              "      <td>15.6</td>\n",
              "      <td>127.0</td>\n",
              "      <td>2.80</td>\n",
              "      <td>3.06</td>\n",
              "      <td>0.28</td>\n",
              "      <td>2.29</td>\n",
              "      <td>5.64</td>\n",
              "      <td>1.04</td>\n",
              "      <td>3.92</td>\n",
              "      <td>1065.0</td>\n",
              "    </tr>\n",
              "    <tr>\n",
              "      <th>1</th>\n",
              "      <td>13.20</td>\n",
              "      <td>1.78</td>\n",
              "      <td>2.14</td>\n",
              "      <td>11.2</td>\n",
              "      <td>100.0</td>\n",
              "      <td>2.65</td>\n",
              "      <td>2.76</td>\n",
              "      <td>0.26</td>\n",
              "      <td>1.28</td>\n",
              "      <td>4.38</td>\n",
              "      <td>1.05</td>\n",
              "      <td>3.40</td>\n",
              "      <td>1050.0</td>\n",
              "    </tr>\n",
              "    <tr>\n",
              "      <th>2</th>\n",
              "      <td>13.16</td>\n",
              "      <td>2.36</td>\n",
              "      <td>2.67</td>\n",
              "      <td>18.6</td>\n",
              "      <td>101.0</td>\n",
              "      <td>2.80</td>\n",
              "      <td>3.24</td>\n",
              "      <td>0.30</td>\n",
              "      <td>2.81</td>\n",
              "      <td>5.68</td>\n",
              "      <td>1.03</td>\n",
              "      <td>3.17</td>\n",
              "      <td>1185.0</td>\n",
              "    </tr>\n",
              "    <tr>\n",
              "      <th>3</th>\n",
              "      <td>14.37</td>\n",
              "      <td>1.95</td>\n",
              "      <td>2.50</td>\n",
              "      <td>16.8</td>\n",
              "      <td>113.0</td>\n",
              "      <td>3.85</td>\n",
              "      <td>3.49</td>\n",
              "      <td>0.24</td>\n",
              "      <td>2.18</td>\n",
              "      <td>7.80</td>\n",
              "      <td>0.86</td>\n",
              "      <td>3.45</td>\n",
              "      <td>1480.0</td>\n",
              "    </tr>\n",
              "    <tr>\n",
              "      <th>4</th>\n",
              "      <td>13.24</td>\n",
              "      <td>2.59</td>\n",
              "      <td>2.87</td>\n",
              "      <td>21.0</td>\n",
              "      <td>118.0</td>\n",
              "      <td>2.80</td>\n",
              "      <td>2.69</td>\n",
              "      <td>0.39</td>\n",
              "      <td>1.82</td>\n",
              "      <td>4.32</td>\n",
              "      <td>1.04</td>\n",
              "      <td>2.93</td>\n",
              "      <td>735.0</td>\n",
              "    </tr>\n",
              "  </tbody>\n",
              "</table>\n",
              "</div>"
            ],
            "text/plain": [
              "   alcohol  malic_acid   ash  alcalinity_of_ash  magnesium  total_phenols  \\\n",
              "0    14.23        1.71  2.43               15.6      127.0           2.80   \n",
              "1    13.20        1.78  2.14               11.2      100.0           2.65   \n",
              "2    13.16        2.36  2.67               18.6      101.0           2.80   \n",
              "3    14.37        1.95  2.50               16.8      113.0           3.85   \n",
              "4    13.24        2.59  2.87               21.0      118.0           2.80   \n",
              "\n",
              "   flavanoids  nonflavanoid_phenols  proanthocyanins  color_intensity   hue  \\\n",
              "0        3.06                  0.28             2.29             5.64  1.04   \n",
              "1        2.76                  0.26             1.28             4.38  1.05   \n",
              "2        3.24                  0.30             2.81             5.68  1.03   \n",
              "3        3.49                  0.24             2.18             7.80  0.86   \n",
              "4        2.69                  0.39             1.82             4.32  1.04   \n",
              "\n",
              "   od280/od315_of_diluted_wines  proline  \n",
              "0                          3.92   1065.0  \n",
              "1                          3.40   1050.0  \n",
              "2                          3.17   1185.0  \n",
              "3                          3.45   1480.0  \n",
              "4                          2.93    735.0  "
            ]
          },
          "execution_count": 17,
          "metadata": {},
          "output_type": "execute_result"
        }
      ],
      "source": [
        "from sklearn.datasets import load_wine\n",
        "\n",
        "data = load_wine(as_frame=True)\n",
        "\n",
        "X = data.data\n",
        "y = data.target\n",
        "\n",
        "X.head()"
      ]
    },
    {
      "cell_type": "markdown",
      "metadata": {
        "id": "KvNTy4_yzOwY"
      },
      "source": [
        "## Задание 1"
      ]
    },
    {
      "cell_type": "markdown",
      "metadata": {
        "id": "PNKeCjtEncob"
      },
      "source": [
        "Посмотрите на количество классов и количество объектов каждого класса в датасете."
      ]
    },
    {
      "cell_type": "markdown",
      "metadata": {
        "id": "1O1xV6KWzW8e"
      },
      "source": [
        "**Вопрос**:  \n",
        "Сколько классов в задаче?  \n",
        "**Ответ**:\n",
        "0 - 59, 1 - 71, 2 - 48"
      ]
    },
    {
      "cell_type": "code",
      "execution_count": 18,
      "metadata": {
        "id": "vnIXJMT9nh78"
      },
      "outputs": [
        {
          "name": "stdout",
          "output_type": "stream",
          "text": [
            "target\n",
            "1    71\n",
            "0    59\n",
            "2    48\n",
            "Name: count, dtype: int64\n"
          ]
        }
      ],
      "source": [
        "# ваш код здесь\n",
        "print(y.value_counts())"
      ]
    },
    {
      "cell_type": "markdown",
      "metadata": {
        "id": "jk9RqS69z6af"
      },
      "source": [
        "## Задание 2"
      ]
    },
    {
      "cell_type": "markdown",
      "metadata": {
        "id": "S8dnUB81nkG0"
      },
      "source": [
        "Мы имеем дело с многоклассовой классификацией. Кроме того, классы не очень хорошо сбалансированы, поэтому для оценки качества модели метрика *accuracy* не подойдет."
      ]
    },
    {
      "cell_type": "markdown",
      "metadata": {
        "id": "qM6ZTfphyL8W"
      },
      "source": [
        "Разбейте данные на тренировочную и тестовую части:  \n",
        "тестовая часть - 25% от всех данных, зафиксируйте `random_state = RANDOM_STATE`."
      ]
    },
    {
      "cell_type": "code",
      "execution_count": 19,
      "metadata": {
        "id": "f16RkGUaxUh4"
      },
      "outputs": [],
      "source": [
        "from sklearn.model_selection import train_test_split\n",
        "\n",
        "X_train, X_test, y_train, y_test = train_test_split(X, y, train_size=TRAIN_SIZE, random_state=RANDOM_STATE)"
      ]
    },
    {
      "cell_type": "markdown",
      "metadata": {
        "id": "bX6Vv4dryREe"
      },
      "source": [
        "**Вопрос:**\n",
        "\n",
        "Все ли признаки в данных одного масштаба?  \n",
        "Проверьте это, выведя основные числовые характеристики матрицы `X_train` методом `describe` из библиотеки `pandas`.\n",
        "\n",
        "По полученной таблице числовых характеристик определите, какой признак измеряется в сотнях?  \n",
        "(если вариантов несколько, выберите признак с наибольшим средним значением).\n",
        "\n",
        "**Ответ:**  `proline`"
      ]
    },
    {
      "cell_type": "code",
      "execution_count": 20,
      "metadata": {
        "id": "VTOG8ggByUSZ"
      },
      "outputs": [
        {
          "data": {
            "text/html": [
              "<div>\n",
              "<style scoped>\n",
              "    .dataframe tbody tr th:only-of-type {\n",
              "        vertical-align: middle;\n",
              "    }\n",
              "\n",
              "    .dataframe tbody tr th {\n",
              "        vertical-align: top;\n",
              "    }\n",
              "\n",
              "    .dataframe thead th {\n",
              "        text-align: right;\n",
              "    }\n",
              "</style>\n",
              "<table border=\"1\" class=\"dataframe\">\n",
              "  <thead>\n",
              "    <tr style=\"text-align: right;\">\n",
              "      <th></th>\n",
              "      <th>alcohol</th>\n",
              "      <th>malic_acid</th>\n",
              "      <th>ash</th>\n",
              "      <th>alcalinity_of_ash</th>\n",
              "      <th>magnesium</th>\n",
              "      <th>total_phenols</th>\n",
              "      <th>flavanoids</th>\n",
              "      <th>nonflavanoid_phenols</th>\n",
              "      <th>proanthocyanins</th>\n",
              "      <th>color_intensity</th>\n",
              "      <th>hue</th>\n",
              "      <th>od280/od315_of_diluted_wines</th>\n",
              "      <th>proline</th>\n",
              "    </tr>\n",
              "  </thead>\n",
              "  <tbody>\n",
              "    <tr>\n",
              "      <th>count</th>\n",
              "      <td>133.000000</td>\n",
              "      <td>133.000000</td>\n",
              "      <td>133.000000</td>\n",
              "      <td>133.000000</td>\n",
              "      <td>133.000000</td>\n",
              "      <td>133.000000</td>\n",
              "      <td>133.000000</td>\n",
              "      <td>133.000000</td>\n",
              "      <td>133.000000</td>\n",
              "      <td>133.000000</td>\n",
              "      <td>133.000000</td>\n",
              "      <td>133.000000</td>\n",
              "      <td>133.000000</td>\n",
              "    </tr>\n",
              "    <tr>\n",
              "      <th>mean</th>\n",
              "      <td>12.972857</td>\n",
              "      <td>2.386842</td>\n",
              "      <td>2.362180</td>\n",
              "      <td>19.433835</td>\n",
              "      <td>100.759398</td>\n",
              "      <td>2.277068</td>\n",
              "      <td>2.021203</td>\n",
              "      <td>0.363534</td>\n",
              "      <td>1.608647</td>\n",
              "      <td>5.017594</td>\n",
              "      <td>0.959444</td>\n",
              "      <td>2.610000</td>\n",
              "      <td>742.992481</td>\n",
              "    </tr>\n",
              "    <tr>\n",
              "      <th>std</th>\n",
              "      <td>0.829993</td>\n",
              "      <td>1.098905</td>\n",
              "      <td>0.280606</td>\n",
              "      <td>3.467312</td>\n",
              "      <td>14.999571</td>\n",
              "      <td>0.645696</td>\n",
              "      <td>1.005537</td>\n",
              "      <td>0.126923</td>\n",
              "      <td>0.576964</td>\n",
              "      <td>2.202516</td>\n",
              "      <td>0.234545</td>\n",
              "      <td>0.729961</td>\n",
              "      <td>306.867593</td>\n",
              "    </tr>\n",
              "    <tr>\n",
              "      <th>min</th>\n",
              "      <td>11.030000</td>\n",
              "      <td>0.890000</td>\n",
              "      <td>1.360000</td>\n",
              "      <td>10.600000</td>\n",
              "      <td>70.000000</td>\n",
              "      <td>0.980000</td>\n",
              "      <td>0.340000</td>\n",
              "      <td>0.130000</td>\n",
              "      <td>0.420000</td>\n",
              "      <td>1.740000</td>\n",
              "      <td>0.480000</td>\n",
              "      <td>1.270000</td>\n",
              "      <td>278.000000</td>\n",
              "    </tr>\n",
              "    <tr>\n",
              "      <th>25%</th>\n",
              "      <td>12.290000</td>\n",
              "      <td>1.640000</td>\n",
              "      <td>2.210000</td>\n",
              "      <td>17.200000</td>\n",
              "      <td>88.000000</td>\n",
              "      <td>1.700000</td>\n",
              "      <td>1.200000</td>\n",
              "      <td>0.260000</td>\n",
              "      <td>1.250000</td>\n",
              "      <td>3.250000</td>\n",
              "      <td>0.780000</td>\n",
              "      <td>1.830000</td>\n",
              "      <td>500.000000</td>\n",
              "    </tr>\n",
              "    <tr>\n",
              "      <th>50%</th>\n",
              "      <td>12.990000</td>\n",
              "      <td>1.900000</td>\n",
              "      <td>2.360000</td>\n",
              "      <td>19.400000</td>\n",
              "      <td>98.000000</td>\n",
              "      <td>2.230000</td>\n",
              "      <td>2.140000</td>\n",
              "      <td>0.340000</td>\n",
              "      <td>1.560000</td>\n",
              "      <td>4.800000</td>\n",
              "      <td>0.970000</td>\n",
              "      <td>2.810000</td>\n",
              "      <td>675.000000</td>\n",
              "    </tr>\n",
              "    <tr>\n",
              "      <th>75%</th>\n",
              "      <td>13.690000</td>\n",
              "      <td>3.170000</td>\n",
              "      <td>2.540000</td>\n",
              "      <td>21.500000</td>\n",
              "      <td>108.000000</td>\n",
              "      <td>2.800000</td>\n",
              "      <td>2.880000</td>\n",
              "      <td>0.450000</td>\n",
              "      <td>1.960000</td>\n",
              "      <td>6.130000</td>\n",
              "      <td>1.120000</td>\n",
              "      <td>3.200000</td>\n",
              "      <td>970.000000</td>\n",
              "    </tr>\n",
              "    <tr>\n",
              "      <th>max</th>\n",
              "      <td>14.830000</td>\n",
              "      <td>5.800000</td>\n",
              "      <td>3.230000</td>\n",
              "      <td>30.000000</td>\n",
              "      <td>162.000000</td>\n",
              "      <td>3.880000</td>\n",
              "      <td>5.080000</td>\n",
              "      <td>0.660000</td>\n",
              "      <td>3.580000</td>\n",
              "      <td>10.800000</td>\n",
              "      <td>1.710000</td>\n",
              "      <td>4.000000</td>\n",
              "      <td>1547.000000</td>\n",
              "    </tr>\n",
              "  </tbody>\n",
              "</table>\n",
              "</div>"
            ],
            "text/plain": [
              "          alcohol  malic_acid         ash  alcalinity_of_ash   magnesium  \\\n",
              "count  133.000000  133.000000  133.000000         133.000000  133.000000   \n",
              "mean    12.972857    2.386842    2.362180          19.433835  100.759398   \n",
              "std      0.829993    1.098905    0.280606           3.467312   14.999571   \n",
              "min     11.030000    0.890000    1.360000          10.600000   70.000000   \n",
              "25%     12.290000    1.640000    2.210000          17.200000   88.000000   \n",
              "50%     12.990000    1.900000    2.360000          19.400000   98.000000   \n",
              "75%     13.690000    3.170000    2.540000          21.500000  108.000000   \n",
              "max     14.830000    5.800000    3.230000          30.000000  162.000000   \n",
              "\n",
              "       total_phenols  flavanoids  nonflavanoid_phenols  proanthocyanins  \\\n",
              "count     133.000000  133.000000            133.000000       133.000000   \n",
              "mean        2.277068    2.021203              0.363534         1.608647   \n",
              "std         0.645696    1.005537              0.126923         0.576964   \n",
              "min         0.980000    0.340000              0.130000         0.420000   \n",
              "25%         1.700000    1.200000              0.260000         1.250000   \n",
              "50%         2.230000    2.140000              0.340000         1.560000   \n",
              "75%         2.800000    2.880000              0.450000         1.960000   \n",
              "max         3.880000    5.080000              0.660000         3.580000   \n",
              "\n",
              "       color_intensity         hue  od280/od315_of_diluted_wines      proline  \n",
              "count       133.000000  133.000000                    133.000000   133.000000  \n",
              "mean          5.017594    0.959444                      2.610000   742.992481  \n",
              "std           2.202516    0.234545                      0.729961   306.867593  \n",
              "min           1.740000    0.480000                      1.270000   278.000000  \n",
              "25%           3.250000    0.780000                      1.830000   500.000000  \n",
              "50%           4.800000    0.970000                      2.810000   675.000000  \n",
              "75%           6.130000    1.120000                      3.200000   970.000000  \n",
              "max          10.800000    1.710000                      4.000000  1547.000000  "
            ]
          },
          "execution_count": 20,
          "metadata": {},
          "output_type": "execute_result"
        }
      ],
      "source": [
        "# ваш код здесь\n",
        "X_train.describe()"
      ]
    },
    {
      "cell_type": "markdown",
      "metadata": {
        "id": "6VANARbT0Vu5"
      },
      "source": [
        "## Задание 3"
      ]
    },
    {
      "cell_type": "markdown",
      "metadata": {
        "id": "e1dfCiISo_GH"
      },
      "source": [
        "KNN требует того, чтобы все признаки были одного масштаба, поэтому масштабируйте данные при помощи `StandardScaler`.\n",
        "\n",
        "Напоминаем, что обучать метод нужно только по тренировочным данным, а применять и к трейну, и к тесту.\n",
        "\n",
        "После применения `StandardScaler` преобразуйте `X_train` и `X_test` к типу `pd.DataFrame`, названия новых объектов оставьте `X_train` и `X_test`."
      ]
    },
    {
      "cell_type": "code",
      "execution_count": 21,
      "metadata": {
        "id": "IMWxZOLMpLg_"
      },
      "outputs": [
        {
          "data": {
            "text/html": [
              "<div>\n",
              "<style scoped>\n",
              "    .dataframe tbody tr th:only-of-type {\n",
              "        vertical-align: middle;\n",
              "    }\n",
              "\n",
              "    .dataframe tbody tr th {\n",
              "        vertical-align: top;\n",
              "    }\n",
              "\n",
              "    .dataframe thead th {\n",
              "        text-align: right;\n",
              "    }\n",
              "</style>\n",
              "<table border=\"1\" class=\"dataframe\">\n",
              "  <thead>\n",
              "    <tr style=\"text-align: right;\">\n",
              "      <th></th>\n",
              "      <th>alcohol</th>\n",
              "      <th>malic_acid</th>\n",
              "      <th>ash</th>\n",
              "      <th>alcalinity_of_ash</th>\n",
              "      <th>magnesium</th>\n",
              "      <th>total_phenols</th>\n",
              "      <th>flavanoids</th>\n",
              "      <th>nonflavanoid_phenols</th>\n",
              "      <th>proanthocyanins</th>\n",
              "      <th>color_intensity</th>\n",
              "      <th>hue</th>\n",
              "      <th>od280/od315_of_diluted_wines</th>\n",
              "      <th>proline</th>\n",
              "    </tr>\n",
              "  </thead>\n",
              "  <tbody>\n",
              "    <tr>\n",
              "      <th>0</th>\n",
              "      <td>0.226328</td>\n",
              "      <td>-0.024519</td>\n",
              "      <td>1.101127</td>\n",
              "      <td>-0.241394</td>\n",
              "      <td>0.016101</td>\n",
              "      <td>0.812935</td>\n",
              "      <td>1.216668</td>\n",
              "      <td>-0.502463</td>\n",
              "      <td>2.090070</td>\n",
              "      <td>0.301887</td>\n",
              "      <td>0.301960</td>\n",
              "      <td>0.770065</td>\n",
              "      <td>1.445831</td>\n",
              "    </tr>\n",
              "    <tr>\n",
              "      <th>1</th>\n",
              "      <td>-1.079807</td>\n",
              "      <td>-0.280281</td>\n",
              "      <td>-2.368742</td>\n",
              "      <td>-0.559842</td>\n",
              "      <td>-0.251581</td>\n",
              "      <td>-0.073170</td>\n",
              "      <td>0.148537</td>\n",
              "      <td>-0.818807</td>\n",
              "      <td>-0.362996</td>\n",
              "      <td>-0.782781</td>\n",
              "      <td>1.329088</td>\n",
              "      <td>0.481291</td>\n",
              "      <td>-0.107920</td>\n",
              "    </tr>\n",
              "    <tr>\n",
              "      <th>2</th>\n",
              "      <td>-0.668617</td>\n",
              "      <td>1.866297</td>\n",
              "      <td>1.315759</td>\n",
              "      <td>2.045642</td>\n",
              "      <td>0.083022</td>\n",
              "      <td>-0.119807</td>\n",
              "      <td>0.108607</td>\n",
              "      <td>0.525654</td>\n",
              "      <td>0.176331</td>\n",
              "      <td>-1.338787</td>\n",
              "      <td>-0.168807</td>\n",
              "      <td>0.701309</td>\n",
              "      <td>-1.236434</td>\n",
              "    </tr>\n",
              "    <tr>\n",
              "      <th>3</th>\n",
              "      <td>-0.475115</td>\n",
              "      <td>-1.001897</td>\n",
              "      <td>-0.937868</td>\n",
              "      <td>0.163904</td>\n",
              "      <td>0.149942</td>\n",
              "      <td>-1.239098</td>\n",
              "      <td>-1.438686</td>\n",
              "      <td>1.316514</td>\n",
              "      <td>-0.362996</td>\n",
              "      <td>1.176913</td>\n",
              "      <td>-1.623905</td>\n",
              "      <td>-1.457623</td>\n",
              "      <td>-0.336894</td>\n",
              "    </tr>\n",
              "    <tr>\n",
              "      <th>4</th>\n",
              "      <td>1.036615</td>\n",
              "      <td>-0.673059</td>\n",
              "      <td>0.850725</td>\n",
              "      <td>-0.646691</td>\n",
              "      <td>-0.452343</td>\n",
              "      <td>0.268836</td>\n",
              "      <td>0.967105</td>\n",
              "      <td>-1.135151</td>\n",
              "      <td>1.185393</td>\n",
              "      <td>0.265427</td>\n",
              "      <td>1.200697</td>\n",
              "      <td>1.045088</td>\n",
              "      <td>1.707515</td>\n",
              "    </tr>\n",
              "  </tbody>\n",
              "</table>\n",
              "</div>"
            ],
            "text/plain": [
              "    alcohol  malic_acid       ash  alcalinity_of_ash  magnesium  \\\n",
              "0  0.226328   -0.024519  1.101127          -0.241394   0.016101   \n",
              "1 -1.079807   -0.280281 -2.368742          -0.559842  -0.251581   \n",
              "2 -0.668617    1.866297  1.315759           2.045642   0.083022   \n",
              "3 -0.475115   -1.001897 -0.937868           0.163904   0.149942   \n",
              "4  1.036615   -0.673059  0.850725          -0.646691  -0.452343   \n",
              "\n",
              "   total_phenols  flavanoids  nonflavanoid_phenols  proanthocyanins  \\\n",
              "0       0.812935    1.216668             -0.502463         2.090070   \n",
              "1      -0.073170    0.148537             -0.818807        -0.362996   \n",
              "2      -0.119807    0.108607              0.525654         0.176331   \n",
              "3      -1.239098   -1.438686              1.316514        -0.362996   \n",
              "4       0.268836    0.967105             -1.135151         1.185393   \n",
              "\n",
              "   color_intensity       hue  od280/od315_of_diluted_wines   proline  \n",
              "0         0.301887  0.301960                      0.770065  1.445831  \n",
              "1        -0.782781  1.329088                      0.481291 -0.107920  \n",
              "2        -1.338787 -0.168807                      0.701309 -1.236434  \n",
              "3         1.176913 -1.623905                     -1.457623 -0.336894  \n",
              "4         0.265427  1.200697                      1.045088  1.707515  "
            ]
          },
          "execution_count": 21,
          "metadata": {},
          "output_type": "execute_result"
        }
      ],
      "source": [
        "from sklearn.preprocessing import StandardScaler\n",
        "\n",
        "# ваш код здесь\n",
        "scaler = StandardScaler()\n",
        "scaler.fit(X_train)\n",
        "X_train = pd.DataFrame(scaler.transform(X_train), columns=X_train.columns)\n",
        "X_test = pd.DataFrame(scaler.transform(X_test), columns=X_test.columns)\n",
        "X_train.head()"
      ]
    },
    {
      "cell_type": "markdown",
      "metadata": {
        "id": "wfjxuX1hyOpd"
      },
      "source": [
        "Обучите KNN с параметрами по умолчанию на тренировочных данных и сделайте предсказание на тесте."
      ]
    },
    {
      "cell_type": "code",
      "execution_count": 22,
      "metadata": {
        "id": "VeyYEAO2yQhL"
      },
      "outputs": [],
      "source": [
        "from sklearn.neighbors import KNeighborsClassifier\n",
        "\n",
        "# ваш код здесь\n",
        "knn = KNeighborsClassifier()\n",
        "knn.fit(X_train, y_train)\n",
        "y_pred = knn.predict(X_test)\n"
      ]
    },
    {
      "cell_type": "markdown",
      "metadata": {
        "id": "E18N3QNMrQLw"
      },
      "source": [
        "Будем измерять качество модели по метрике **weighted** $f1$-score.\n",
        "\n",
        "Чтобы выбрать тип усреднения (micro, macro, weighted) в функции `f1_score` необходимо задать этот тип в гиперпараметре `average`.\n",
        "\n",
        "Вычислите $f1$-score на тестовых данных."
      ]
    },
    {
      "cell_type": "markdown",
      "metadata": {
        "id": "aLaSCeCf0uPd"
      },
      "source": [
        "**Вопрос:**\n",
        "\n",
        "Чему равен $f1$-score на тестовых данных?\n",
        "\n",
        "**Ответ:**\n",
        "\n",
        "f1 (weighted) = 0.9550512333965844"
      ]
    },
    {
      "cell_type": "code",
      "execution_count": 32,
      "metadata": {
        "id": "TdhIWbULrnPv"
      },
      "outputs": [
        {
          "name": "stdout",
          "output_type": "stream",
          "text": [
            "f1 (weighted) = 0.9550512333965844\n"
          ]
        }
      ],
      "source": [
        "from sklearn.metrics import f1_score\n",
        "\n",
        "# ваш код здесь\n",
        "print(f\"f1 (weighted) = {f1_score(y_test, y_pred, average='weighted')}\")"
      ]
    },
    {
      "cell_type": "markdown",
      "metadata": {
        "id": "kco77ab200s9"
      },
      "source": [
        "## Задание 4"
      ]
    },
    {
      "cell_type": "markdown",
      "metadata": {
        "id": "BONbGWi1yVIQ"
      },
      "source": [
        "Попробуем улучшить модель.\n",
        "\n",
        "Подберите оптимальное количество соседей (`n_neighbors`) из диапазона *от 3 до 30 с шагом 2* и веса соседей (`weights`):  \n",
        "`uniform`, `distance` по кросс-валидации с тремя фолдами на тренировочных данных.\n",
        "\n",
        "Используйте `GridSearchCV` и метрику `f1_weighted`."
      ]
    },
    {
      "cell_type": "code",
      "execution_count": 37,
      "metadata": {
        "id": "6nM_wc6iydB-"
      },
      "outputs": [
        {
          "name": "stdout",
          "output_type": "stream",
          "text": [
            "0.9624902376605162\n",
            "{'n_neighbors': np.int64(19), 'weights': 'uniform'}\n"
          ]
        }
      ],
      "source": [
        "from sklearn.model_selection import GridSearchCV\n",
        "\n",
        "# ваш код здесь\n",
        "grid = {\n",
        "    'n_neighbors': np.arange(3, 20, 2),\n",
        "    'weights': ['uniform', 'distance'],\n",
        "}\n",
        "\n",
        "knn = KNeighborsClassifier()\n",
        "\n",
        "grid_search = GridSearchCV(knn, grid, cv=5, scoring='f1_weighted', n_jobs=-1)\n",
        "grid_search.fit(X_train, y_train)\n",
        "\n",
        "print(grid_search.best_score_)\n",
        "print(grid_search.best_params_)\n",
        "\n",
        "# 0.9624902376605162\n",
        "# {'n_neighbors': np.int64(19), 'weights': 'uniform'}"
      ]
    },
    {
      "cell_type": "markdown",
      "metadata": {
        "id": "b6mM-XXps5Af"
      },
      "source": [
        "Возьмите best_estimator_, полученный при обучении GridSearchCV и с помощью него  \n",
        "сделайте предсказание на тесте и вычислите метрику `f1_weighted`."
      ]
    },
    {
      "cell_type": "code",
      "execution_count": 38,
      "metadata": {
        "id": "6Sn00daNtGWd"
      },
      "outputs": [
        {
          "name": "stdout",
          "output_type": "stream",
          "text": [
            "f1 (weighted) with best estimator = 0.9550512333965844\n"
          ]
        }
      ],
      "source": [
        "# ваш код здесь\n",
        "best_knn = grid_search.best_estimator_\n",
        "y_pred_best = best_knn.predict(X_test)\n",
        "f1_best = f1_score(y_test, y_pred_best, average='weighted')\n",
        "print(f\"f1 (weighted) with best estimator = {f1_best}\")"
      ]
    },
    {
      "cell_type": "markdown",
      "metadata": {
        "id": "HzAQzK3JtT7h"
      },
      "source": [
        "**Вопрос:**\n",
        "\n",
        "Удалось ли при помощи подбора гиперпараметров улучшить качество модели на тестовых данных?\n",
        "\n",
        "**Ответ:**  НЕТ"
      ]
    },
    {
      "cell_type": "markdown",
      "metadata": {
        "id": "iLzHwlkj1cjs"
      },
      "source": [
        "## Задание 5"
      ]
    },
    {
      "cell_type": "markdown",
      "metadata": {
        "id": "tdm2A5SSylYQ"
      },
      "source": [
        "Выведите на экран матрицу ошибок.\n",
        "\n",
        "Используйте модель с подобранными при помощи `GridSearch` гиперпараметрами.\n"
      ]
    },
    {
      "cell_type": "markdown",
      "metadata": {
        "id": "FHgD2EQG1i1V"
      },
      "source": [
        "**Вопрос:**  \n",
        "По этой матрице определите, какие классы между собой путает модель?\n",
        "\n",
        "**Ответ:**  \n",
        "\"0 и 1\" и \"1 и 2\"  (по второй строке таблицы - это про реальный 1 класс, 1 раз его определили как 0, и 1 раз - как 2)"
      ]
    },
    {
      "cell_type": "code",
      "execution_count": 39,
      "metadata": {
        "id": "I5u0A5a0yqge"
      },
      "outputs": [
        {
          "data": {
            "text/plain": [
              "array([[15,  0,  0],\n",
              "       [ 1, 16,  1],\n",
              "       [ 0,  0, 12]])"
            ]
          },
          "execution_count": 39,
          "metadata": {},
          "output_type": "execute_result"
        }
      ],
      "source": [
        "from sklearn.metrics import confusion_matrix\n",
        "\n",
        "# ваш код здесь\n",
        "confusion_matrix(y_test, y_pred_best)"
      ]
    },
    {
      "cell_type": "markdown",
      "metadata": {
        "id": "9qKKGd2eyq6E"
      },
      "source": [
        "## Бонус (эксперименты с LSH)"
      ]
    },
    {
      "cell_type": "markdown",
      "metadata": {
        "id": "l-_YTZzg1qnq"
      },
      "source": [
        "Скопируйте все функции из [ноутбука в уроке \"Быстрый поиск соседей\"](https://colab.research.google.com/drive/181MMOcTnzdMVzJr0pWzqtEG0-BV9BIHH)."
      ]
    },
    {
      "cell_type": "code",
      "execution_count": 40,
      "metadata": {
        "id": "ia2GsrwKy5co"
      },
      "outputs": [],
      "source": [
        "# ваш код здесь\n",
        "def knn_search(query, data, k=5):\n",
        "\n",
        "    dists = np.sqrt(np.sum((data - query) ** 2, axis=1))  # вычисляем расстояния от объекта query до всех точек датасета\n",
        "    inds = np.argsort(dists)  # сортируем по возрастанию расстояний\n",
        "    inds_k = inds[:k]         # берем top-k точек с наименьшими расстояниями\n",
        "\n",
        "    return data[inds_k], dists[inds_k]\n",
        "\n",
        "\n",
        "def generate_hyperplanes(data, bucket_size=16):\n",
        "    m = data.shape[0]            # число объектов\n",
        "    n = data.shape[1]            # число признаков\n",
        "    b = m // bucket_size         # количество корзин\n",
        "    h = int(np.log2(b))          # количество гиперплоскостей\n",
        "    H = rng.normal(size=(h, n))  # гиперплоскости, заданные своими нормалями\n",
        "    return H\n",
        "\n",
        "\n",
        "def hamming_hash(data, hyperplanes):\n",
        "    b = len(hyperplanes)\n",
        "    hash_key = (data @ hyperplanes.T) >= 0\n",
        "\n",
        "    dec_vals = np.array([2 ** i for i in range(b)], dtype=int)\n",
        "    hash_key = hash_key @ dec_vals\n",
        "\n",
        "    return hash_key\n",
        "\n",
        "\n",
        "def locality_sensitive_hash(data, hyperplanes):\n",
        "    hash_vals = hamming_hash(data, hyperplanes)\n",
        "    hash_table = {}\n",
        "    for i, v in enumerate(hash_vals):\n",
        "        if v not in hash_table:\n",
        "            hash_table[v] = set()\n",
        "        hash_table[v].add(i)\n",
        "\n",
        "    return hash_table\n",
        "\n",
        "\n",
        "def approx_knn_search(query, data, k=5, bucket_size=16):\n",
        "    candidates = set()\n",
        "\n",
        "    hyperplanes = generate_hyperplanes(data)\n",
        "    hash_table = locality_sensitive_hash(data, hyperplanes) # формируем хеш-таблицу по датасету\n",
        "\n",
        "    query_hash = hamming_hash(query, hyperplanes)\n",
        "    if query_hash in hash_table:\n",
        "        candidates = candidates.union(hash_table[query_hash])\n",
        "    candidates = np.stack([data[i] for i in candidates], axis=0) # находим кандидатов = объекты, попадающие с query в одну корзину\n",
        "\n",
        "    return knn_search(query, candidates, k=k) # с помощью KNN ищем ближайших соседей только из найденных кандидатов"
      ]
    },
    {
      "cell_type": "markdown",
      "metadata": {
        "id": "nYFSYav3vzVC"
      },
      "source": [
        "При помощи `knn_search` найдите ближайших соседей к вину `X_test.iloc[0]` в **тренировочных** данных.\n",
        "\n",
        "Обратите внимание, что функция `knn_search` принимает на вход `np.array`, а не `pd.DataFrame`. Поэтому переведите аргументы в `np.array`, приписав к необходимому объекту $X$: `X.values`."
      ]
    },
    {
      "cell_type": "code",
      "execution_count": 46,
      "metadata": {},
      "outputs": [
        {
          "data": {
            "text/plain": [
              "numpy.ndarray"
            ]
          },
          "execution_count": 46,
          "metadata": {},
          "output_type": "execute_result"
        }
      ],
      "source": [
        "type(X_test.to_numpy())"
      ]
    },
    {
      "cell_type": "code",
      "execution_count": 99,
      "metadata": {
        "id": "NB-UNOgUunot"
      },
      "outputs": [
        {
          "name": "stdout",
          "output_type": "stream",
          "text": [
            "[[ 1.50827494  1.46438454  0.52877788 -1.80468392  1.82295821  1.12384935\n",
            "   1.01701759 -1.2933229   0.82004316  0.03755595 -0.29719787  1.26510707\n",
            "   0.05563253]\n",
            " [ 0.92777049 -0.65479046 -0.40129023 -0.87828967  1.15375191  0.50202111\n",
            "   0.87726211 -1.21423695  0.0197522   0.37936305 -0.16880684  0.81131867\n",
            "   1.03694899]\n",
            " [-0.05183075  1.29083141  1.02958379 -0.24139362  0.08302183  0.20665269\n",
            "   0.38811793 -0.89789314  0.64606686 -0.23588973  0.30196024  1.25135591\n",
            "   0.08834308]\n",
            " [ 1.50827494 -0.62738734 -0.22243098 -0.90723949  1.15375191  1.43476348\n",
            "   0.97708746 -0.81880719  0.73305501  0.62090673 -0.08321283  0.96258147\n",
            "   0.74255405]\n",
            " [ 1.31477345 -0.69132796 -0.29397468 -0.99408895  1.68911695  1.12384935\n",
            "   1.14679054 -0.97697909  0.85483842  0.28821449  0.55874228  1.51262802\n",
            "   0.12105362]]\n",
            "[1.7873321  1.98096241 2.16010164 2.27097456 2.31179552]\n",
            "CPU times: user 445 μs, sys: 31 μs, total: 476 μs\n",
            "Wall time: 459 μs\n"
          ]
        }
      ],
      "source": [
        "%%time\n",
        "\n",
        "# ваш код здесь\n",
        "top5, distanses = knn_search(X_test.to_numpy()[0], X_train.to_numpy(), k=5)\n",
        "print(top5)\n",
        "print(distanses)"
      ]
    },
    {
      "cell_type": "markdown",
      "metadata": {
        "id": "y86BRzABvLHB"
      },
      "source": [
        "Выведите на экран признаки объекта `X_test.iloc[0]` и признаки ближайшего найденного соседа."
      ]
    },
    {
      "cell_type": "code",
      "execution_count": 100,
      "metadata": {
        "id": "Mi18Sp2WvQYE"
      },
      "outputs": [
        {
          "name": "stdout",
          "output_type": "stream",
          "text": [
            "[ 0.80683207  0.65142516  0.70763713 -1.22568751  1.01991065  0.65747817\n",
            "  1.00703506 -1.53058075  0.08934271  0.03755595  0.00238119  1.03133729\n",
            "  0.33367219]\n",
            "[ 1.50827494  1.46438454  0.52877788 -1.80468392  1.82295821  1.12384935\n",
            "  1.01701759 -1.2933229   0.82004316  0.03755595 -0.29719787  1.26510707\n",
            "  0.05563253]\n",
            "1.7873320988662762\n"
          ]
        }
      ],
      "source": [
        "# ваш код здесь\n",
        "print(X_test.to_numpy()[0])\n",
        "print(top5[0])\n",
        "print(distanses[0])"
      ]
    },
    {
      "cell_type": "markdown",
      "metadata": {
        "id": "3aeCTiYnx2_q"
      },
      "source": [
        "**Вопрос:**\n",
        "\n",
        "Можно ли сказать, что в тренировочных данных есть вино, почти такое же как `X_test.iloc[0]`? (все признаки почти одинаковые)\n",
        "\n",
        "Какое расстояние между объектом запроса и первым ближайшим соседом?\n",
        "\n",
        "**Ответ:**\n",
        "- нет похожего вина, т.к. расстояние 1.79, а это очень много, т.к. признаки все были нормализованы в [-1, 1]\n",
        "- расстояние между объектом запроса и первым ближайшим соседом равно 1.7873320988662762."
      ]
    },
    {
      "cell_type": "markdown",
      "metadata": {
        "id": "zWEBfyAay53O"
      },
      "source": [
        "Теперь найдите ближайшего соседа при помощи `approx_knn_search`."
      ]
    },
    {
      "cell_type": "code",
      "execution_count": 121,
      "metadata": {
        "id": "ezxEITyiy-1a"
      },
      "outputs": [
        {
          "name": "stdout",
          "output_type": "stream",
          "text": [
            "CPU times: user 415 μs, sys: 25 μs, total: 440 μs\n",
            "Wall time: 426 μs\n"
          ]
        },
        {
          "data": {
            "text/plain": [
              "(array([[ 1.50827494,  1.46438454,  0.52877788, -1.80468392,  1.82295821,\n",
              "          1.12384935,  1.01701759, -1.2933229 ,  0.82004316,  0.03755595,\n",
              "         -0.29719787,  1.26510707,  0.05563253],\n",
              "        [ 0.32307837,  1.45525016, -0.25820283, -0.55984164,  0.14994246,\n",
              "          0.56420393,  0.60773369, -0.34429147,  0.08934271, -0.29969372,\n",
              "         -0.59677692,  0.53629539, -0.20605186],\n",
              "        [ 0.86730128,  0.79757516,  0.63609343,  0.16390387,  0.41762498,\n",
              "         -0.69499826, -1.45865091,  1.07925566, -1.40685343,  0.39303533,\n",
              "          0.00238119, -1.08634194, -0.20605186],\n",
              "        [ 0.73426901,  0.17643766,  1.17267119,  1.46664579,  0.28378372,\n",
              "         -1.13027803, -1.17913995,  0.20931019, -0.11942884,  1.66000032,\n",
              "         -0.93915298, -1.11384427,  0.02292198],\n",
              "        [ 0.12957688,  1.38217516, -0.00779988,  0.59815118,  0.81914876,\n",
              "         -1.34791792, -0.63010057, -0.18611957, -0.81533402,  1.99724999,\n",
              "         -1.6667021 , -1.76014897, -0.63128899]]),\n",
              " array([1.7873321 , 2.36594901, 4.91779716, 5.24414894, 5.43588456]))"
            ]
          },
          "execution_count": 121,
          "metadata": {},
          "output_type": "execute_result"
        }
      ],
      "source": [
        "%%time\n",
        "\n",
        "# ваш код здесь\n",
        "approx_knn_search(X_test.to_numpy()[0], X_train.to_numpy(), k=5, bucket_size=16)"
      ]
    },
    {
      "cell_type": "markdown",
      "metadata": {
        "id": "sCPx6pgnwRqX"
      },
      "source": [
        "Ближайший сосед при помощи KNN+LSH может быть найден не точно или не с первого запуска.  \n",
        "Запустите последнюю ячейку несколько раз и убедитесь, что ближайший сосед находится верно за несколько запусков."
      ]
    },
    {
      "cell_type": "markdown",
      "metadata": {
        "id": "Rpj5qiwi2IJq"
      },
      "source": [
        "**Вопрос:**\n",
        "\n",
        "Запустите `knn_search` и `appox_knn_search` несколько раз и сравните время запусков. Какой из подходов в этой задаче работает быстрее?"
      ]
    },
    {
      "cell_type": "code",
      "execution_count": 157,
      "metadata": {},
      "outputs": [],
      "source": [
        "RUNS = 400\n",
        "\n",
        "X_0 = X_test.to_numpy()[0]\n",
        "X_t = X_train.to_numpy()"
      ]
    },
    {
      "cell_type": "code",
      "execution_count": 170,
      "metadata": {},
      "outputs": [
        {
          "name": "stdout",
          "output_type": "stream",
          "text": [
            "CPU times: user 6.37 ms, sys: 3.38 ms, total: 9.74 ms\n",
            "Wall time: 8.55 ms\n"
          ]
        }
      ],
      "source": [
        "%%time\n",
        "# Measure time for knn_search\n",
        "for _ in range(RUNS):\n",
        "    knn_search(X_0, X_t, k=5)\n",
        "\n",
        "# CPU times: user 6.37 ms, sys: 3.38 ms, total: 9.74 ms\n",
        "# Wall time: 8.55 ms"
      ]
    },
    {
      "cell_type": "code",
      "execution_count": 168,
      "metadata": {},
      "outputs": [
        {
          "name": "stdout",
          "output_type": "stream",
          "text": [
            "CPU times: user 21.9 ms, sys: 1.97 ms, total: 23.9 ms\n",
            "Wall time: 22.6 ms\n"
          ]
        }
      ],
      "source": [
        "%%time\n",
        "# Measure time for approx_knn_search\n",
        "for _ in range(RUNS):\n",
        "    approx_knn_search(X_0, X_t, k=5, bucket_size=16)\n",
        "\n",
        "# CPU times: user 21.9 ms, sys: 1.97 ms, total: 23.9 ms\n",
        "# Wall time: 22.6 ms"
      ]
    }
  ],
  "metadata": {
    "colab": {
      "include_colab_link": true,
      "provenance": []
    },
    "kernelspec": {
      "display_name": ".venv",
      "language": "python",
      "name": "python3"
    },
    "language_info": {
      "codemirror_mode": {
        "name": "ipython",
        "version": 3
      },
      "file_extension": ".py",
      "mimetype": "text/x-python",
      "name": "python",
      "nbconvert_exporter": "python",
      "pygments_lexer": "ipython3",
      "version": "3.12.8"
    }
  },
  "nbformat": 4,
  "nbformat_minor": 0
}
