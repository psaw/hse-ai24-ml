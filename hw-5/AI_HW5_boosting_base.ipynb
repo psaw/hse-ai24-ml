{
  "cells": [
    {
      "cell_type": "markdown",
      "metadata": {
        "colab_type": "text",
        "id": "view-in-github"
      },
      "source": [
        "<a href=\"https://colab.research.google.com/github/Murcha1990/ML_AI24/blob/main/Hometasks/Base/AI_HW5_boosting_base.ipynb\" target=\"_parent\"><img src=\"https://colab.research.google.com/assets/colab-badge.svg\" alt=\"Open In Colab\"/></a>"
      ]
    },
    {
      "cell_type": "markdown",
      "id": "047674ee",
      "metadata": {
        "id": "047674ee"
      },
      "source": [
        "# **Домашняя работа: прогнозирование заработной платы и кластеризация типов движений**"
      ]
    },
    {
      "cell_type": "markdown",
      "id": "d8461109",
      "metadata": {
        "id": "d8461109"
      },
      "source": [
        "### **Постановка задачи:**\n",
        "\n",
        "В этой работе две части:\n",
        "\n",
        "*   В первой части вам предстоит построить алгоритм на основе бустинга для прогнозирования зарплаты\n",
        "*   Во второй части вам предстоит кластеризовать типы движений по имеющимся данным с акселерометров и гироскопов\n",
        "\n",
        "### **Оценивание:**\n",
        "\n",
        "- Как всегда оцениваются как код, так и ответы на вопросы. Если нет одного и/или другого, то часть баллов за соответствующее задание без колебаний снимается.\n",
        "- Брать код из открытых источников позволительно. Следование культуре цитирования **обязательно.**\n",
        "\n",
        "### **Баллы:**\n",
        "\n",
        "Суммарно за задание можно получить 10 основных и 1 бонусный балл.\n",
        "\n",
        "Оценка за ДЗ = min{ваш балл, 10}\n",
        "\n",
        "**Мягкий дедлайн: 16 февраля 23:59**\n",
        "\n",
        "**Интересной вам работы!**\n"
      ]
    },
    {
      "cell_type": "markdown",
      "id": "60JI9WQfyu5e",
      "metadata": {
        "id": "60JI9WQfyu5e"
      },
      "source": [
        "# **Часть 1. Прогнозирование заработной платы при помощи бустинга**\n",
        "\n",
        "**Количество баллов:** 7"
      ]
    },
    {
      "cell_type": "markdown",
      "id": "1651e8dd",
      "metadata": {
        "id": "1651e8dd"
      },
      "source": [
        "## **Постановка задачи:**\n",
        "\n",
        "Данные выгружены и лежат в файле `ds_salary.csv`. Вам доступны описания признаков и значения целевой переменной.\n",
        "\n",
        "**Ваша задача:** построение модели бустинга и оценка данной модели.\n",
        "\n",
        "## **Описание даных**\n",
        "\n",
        "- work_year: год, в который взяты данные;\n",
        "- experience_level: уровень опыта, кодируемый как SE, MI EN или EX\n",
        "- employment_type: тип занятости (FT, PT, CT, FL)\n",
        "- job_title: название рабочей позиции в компании;\n",
        "- salary: зараплата на позиции;\n",
        "- salary_currency: валюта в которой начисляют зарплату;\n",
        "- employee_residence: страна или регион проживания сотрудника\n",
        "- remote_ratio: процент удаленки, предлагаемый в компании (0, 50, 100)\n",
        "- company_location: местоположение компании\n",
        "- company_size: размер компании, оцененный как S, M, L\n",
        "- salary_in_usd: целевая переменная\n"
      ]
    },
    {
      "cell_type": "markdown",
      "id": "NualIozb1bhS",
      "metadata": {
        "id": "NualIozb1bhS"
      },
      "source": [
        "Как всегда, загрузим набор данных."
      ]
    },
    {
      "cell_type": "code",
      "execution_count": 1,
      "id": "dbf7595c",
      "metadata": {
        "id": "dbf7595c"
      },
      "outputs": [],
      "source": [
        "import pandas as pd"
      ]
    },
    {
      "cell_type": "code",
      "execution_count": 2,
      "id": "792d14c9",
      "metadata": {
        "id": "792d14c9"
      },
      "outputs": [],
      "source": [
        "df = pd.read_csv(\"https://github.com/hse-ds/iad-intro-ds/raw/refs/heads/master/2023/homeworks/hw-08-boosting/ds_salaries.csv\")"
      ]
    },
    {
      "cell_type": "code",
      "execution_count": 3,
      "id": "02f4b285",
      "metadata": {},
      "outputs": [
        {
          "data": {
            "text/plain": [
              "(3755, 11)"
            ]
          },
          "execution_count": 3,
          "metadata": {},
          "output_type": "execute_result"
        }
      ],
      "source": [
        "df.shape"
      ]
    },
    {
      "cell_type": "code",
      "execution_count": 4,
      "id": "e22a11f3",
      "metadata": {},
      "outputs": [
        {
          "data": {
            "text/html": [
              "<div>\n",
              "<style scoped>\n",
              "    .dataframe tbody tr th:only-of-type {\n",
              "        vertical-align: middle;\n",
              "    }\n",
              "\n",
              "    .dataframe tbody tr th {\n",
              "        vertical-align: top;\n",
              "    }\n",
              "\n",
              "    .dataframe thead th {\n",
              "        text-align: right;\n",
              "    }\n",
              "</style>\n",
              "<table border=\"1\" class=\"dataframe\">\n",
              "  <thead>\n",
              "    <tr style=\"text-align: right;\">\n",
              "      <th></th>\n",
              "      <th>work_year</th>\n",
              "      <th>experience_level</th>\n",
              "      <th>employment_type</th>\n",
              "      <th>job_title</th>\n",
              "      <th>salary</th>\n",
              "      <th>salary_currency</th>\n",
              "      <th>salary_in_usd</th>\n",
              "      <th>employee_residence</th>\n",
              "      <th>remote_ratio</th>\n",
              "      <th>company_location</th>\n",
              "      <th>company_size</th>\n",
              "    </tr>\n",
              "  </thead>\n",
              "  <tbody>\n",
              "    <tr>\n",
              "      <th>0</th>\n",
              "      <td>2023</td>\n",
              "      <td>SE</td>\n",
              "      <td>FT</td>\n",
              "      <td>Principal Data Scientist</td>\n",
              "      <td>80000</td>\n",
              "      <td>EUR</td>\n",
              "      <td>85847</td>\n",
              "      <td>ES</td>\n",
              "      <td>100</td>\n",
              "      <td>ES</td>\n",
              "      <td>L</td>\n",
              "    </tr>\n",
              "    <tr>\n",
              "      <th>1</th>\n",
              "      <td>2023</td>\n",
              "      <td>MI</td>\n",
              "      <td>CT</td>\n",
              "      <td>ML Engineer</td>\n",
              "      <td>30000</td>\n",
              "      <td>USD</td>\n",
              "      <td>30000</td>\n",
              "      <td>US</td>\n",
              "      <td>100</td>\n",
              "      <td>US</td>\n",
              "      <td>S</td>\n",
              "    </tr>\n",
              "    <tr>\n",
              "      <th>2</th>\n",
              "      <td>2023</td>\n",
              "      <td>MI</td>\n",
              "      <td>CT</td>\n",
              "      <td>ML Engineer</td>\n",
              "      <td>25500</td>\n",
              "      <td>USD</td>\n",
              "      <td>25500</td>\n",
              "      <td>US</td>\n",
              "      <td>100</td>\n",
              "      <td>US</td>\n",
              "      <td>S</td>\n",
              "    </tr>\n",
              "    <tr>\n",
              "      <th>3</th>\n",
              "      <td>2023</td>\n",
              "      <td>SE</td>\n",
              "      <td>FT</td>\n",
              "      <td>Data Scientist</td>\n",
              "      <td>175000</td>\n",
              "      <td>USD</td>\n",
              "      <td>175000</td>\n",
              "      <td>CA</td>\n",
              "      <td>100</td>\n",
              "      <td>CA</td>\n",
              "      <td>M</td>\n",
              "    </tr>\n",
              "    <tr>\n",
              "      <th>4</th>\n",
              "      <td>2023</td>\n",
              "      <td>SE</td>\n",
              "      <td>FT</td>\n",
              "      <td>Data Scientist</td>\n",
              "      <td>120000</td>\n",
              "      <td>USD</td>\n",
              "      <td>120000</td>\n",
              "      <td>CA</td>\n",
              "      <td>100</td>\n",
              "      <td>CA</td>\n",
              "      <td>M</td>\n",
              "    </tr>\n",
              "  </tbody>\n",
              "</table>\n",
              "</div>"
            ],
            "text/plain": [
              "   work_year experience_level employment_type                 job_title  \\\n",
              "0       2023               SE              FT  Principal Data Scientist   \n",
              "1       2023               MI              CT               ML Engineer   \n",
              "2       2023               MI              CT               ML Engineer   \n",
              "3       2023               SE              FT            Data Scientist   \n",
              "4       2023               SE              FT            Data Scientist   \n",
              "\n",
              "   salary salary_currency  salary_in_usd employee_residence  remote_ratio  \\\n",
              "0   80000             EUR          85847                 ES           100   \n",
              "1   30000             USD          30000                 US           100   \n",
              "2   25500             USD          25500                 US           100   \n",
              "3  175000             USD         175000                 CA           100   \n",
              "4  120000             USD         120000                 CA           100   \n",
              "\n",
              "  company_location company_size  \n",
              "0               ES            L  \n",
              "1               US            S  \n",
              "2               US            S  \n",
              "3               CA            M  \n",
              "4               CA            M  "
            ]
          },
          "execution_count": 4,
          "metadata": {},
          "output_type": "execute_result"
        }
      ],
      "source": [
        "df.head()"
      ]
    },
    {
      "cell_type": "markdown",
      "id": "FfyDFPh62ow_",
      "metadata": {
        "id": "FfyDFPh62ow_"
      },
      "source": [
        "## **Задание 1 (0.3 балла)**\n",
        "\n",
        "Вам даны описания переменных. Проверьте, что категориальные признаки, категории которых перечислены, не имеют ошибочных значений. Для этого:\n",
        "\n",
        "- Напишите цикл, пробегающий по выбранным признакам и оценивающий, что в них нет лишних значений;"
      ]
    },
    {
      "cell_type": "code",
      "execution_count": 5,
      "id": "7In340ig3Bir",
      "metadata": {
        "id": "7In340ig3Bir"
      },
      "outputs": [
        {
          "name": "stdout",
          "output_type": "stream",
          "text": [
            "experience_level - OK\n",
            "employment_type - OK\n",
            "remote_ratio - OK\n",
            "company_size - OK\n"
          ]
        }
      ],
      "source": [
        "# Ваш код здесь\n",
        "# Создаем словарь с допустимыми значениями для каждого признака\n",
        "valid_values = {\n",
        "    'experience_level': ['SE', 'MI', 'EN', 'EX'],\n",
        "    'employment_type': ['FT', 'PT', 'CT', 'FL'],\n",
        "    'remote_ratio': [0, 50, 100],\n",
        "    'company_size': ['S', 'M', 'L']\n",
        "}\n",
        "\n",
        "# Проверяем каждый признак\n",
        "for column, valid in valid_values.items():\n",
        "    actual_values = df[column].unique()\n",
        "    invalid_values = set(actual_values) - set(valid)\n",
        "    \n",
        "    if len(invalid_values) > 0:\n",
        "        print(f'{column} - недопустимые значения: {invalid_values}')\n",
        "    else:\n",
        "        print(f'{column} - OK')"
      ]
    },
    {
      "cell_type": "markdown",
      "id": "6696e77a",
      "metadata": {
        "id": "6696e77a"
      },
      "source": [
        "## **Задание 2 (0.3 балла)**\n",
        "\n",
        "Проведите базовые шаги оценки качества данных.\n",
        "- Есть есть проблемы, устраните их;\n",
        "- Если нет проблем, кратко опишите это."
      ]
    },
    {
      "cell_type": "markdown",
      "id": "77ef48a8",
      "metadata": {},
      "source": [
        "#### Пропуски"
      ]
    },
    {
      "cell_type": "code",
      "execution_count": 6,
      "id": "tGEbLm0x4iax",
      "metadata": {
        "id": "tGEbLm0x4iax"
      },
      "outputs": [
        {
          "data": {
            "text/plain": [
              "work_year             0\n",
              "experience_level      0\n",
              "employment_type       0\n",
              "job_title             0\n",
              "salary                0\n",
              "salary_currency       0\n",
              "salary_in_usd         0\n",
              "employee_residence    0\n",
              "remote_ratio          0\n",
              "company_location      0\n",
              "company_size          0\n",
              "dtype: int64"
            ]
          },
          "execution_count": 6,
          "metadata": {},
          "output_type": "execute_result"
        }
      ],
      "source": [
        "# Ваш код здесь\n",
        "df.isnull().sum()\n"
      ]
    },
    {
      "cell_type": "markdown",
      "id": "e8885ae6",
      "metadata": {},
      "source": [
        "✅ Пропусков нет."
      ]
    },
    {
      "cell_type": "markdown",
      "id": "5d6743df",
      "metadata": {},
      "source": [
        "#### Дубликаты"
      ]
    },
    {
      "cell_type": "code",
      "execution_count": 7,
      "id": "c1b408ed",
      "metadata": {},
      "outputs": [
        {
          "name": "stdout",
          "output_type": "stream",
          "text": [
            "Количество дубликатов: 1171\n"
          ]
        }
      ],
      "source": [
        "print(\"Количество дубликатов:\", df.duplicated().sum())"
      ]
    },
    {
      "cell_type": "markdown",
      "id": "c61c432b",
      "metadata": {},
      "source": [
        "Удалим полные дубликаты"
      ]
    },
    {
      "cell_type": "code",
      "execution_count": 8,
      "id": "fd8f2083",
      "metadata": {},
      "outputs": [
        {
          "name": "stdout",
          "output_type": "stream",
          "text": [
            "Размер датасета после удаления дубликатов: (2584, 11)\n"
          ]
        }
      ],
      "source": [
        "df = df.drop_duplicates()\n",
        "print(f\"Размер датасета после удаления дубликатов: {df.shape}\")"
      ]
    },
    {
      "cell_type": "markdown",
      "id": "cc8a2959",
      "metadata": {},
      "source": [
        "#### Типы данных"
      ]
    },
    {
      "cell_type": "code",
      "execution_count": 9,
      "id": "43dc0189",
      "metadata": {},
      "outputs": [
        {
          "data": {
            "text/plain": [
              "work_year              int64\n",
              "experience_level      object\n",
              "employment_type       object\n",
              "job_title             object\n",
              "salary                 int64\n",
              "salary_currency       object\n",
              "salary_in_usd          int64\n",
              "employee_residence    object\n",
              "remote_ratio           int64\n",
              "company_location      object\n",
              "company_size          object\n",
              "dtype: object"
            ]
          },
          "execution_count": 9,
          "metadata": {},
          "output_type": "execute_result"
        }
      ],
      "source": [
        "df.dtypes"
      ]
    },
    {
      "cell_type": "markdown",
      "id": "92692caf",
      "metadata": {},
      "source": [
        "✅ Типы данных корректны.  \n",
        "На следующих шагах, возможно, переведем тип `object` в `category`."
      ]
    },
    {
      "cell_type": "markdown",
      "id": "b48e333e",
      "metadata": {},
      "source": [
        "#### Базовая статистика для числовых столбцов"
      ]
    },
    {
      "cell_type": "code",
      "execution_count": 10,
      "id": "5c28f196",
      "metadata": {},
      "outputs": [
        {
          "name": "stdout",
          "output_type": "stream",
          "text": [
            "Статистика по числовым признакам:\n"
          ]
        },
        {
          "data": {
            "text/html": [
              "<div>\n",
              "<style scoped>\n",
              "    .dataframe tbody tr th:only-of-type {\n",
              "        vertical-align: middle;\n",
              "    }\n",
              "\n",
              "    .dataframe tbody tr th {\n",
              "        vertical-align: top;\n",
              "    }\n",
              "\n",
              "    .dataframe thead th {\n",
              "        text-align: right;\n",
              "    }\n",
              "</style>\n",
              "<table border=\"1\" class=\"dataframe\">\n",
              "  <thead>\n",
              "    <tr style=\"text-align: right;\">\n",
              "      <th></th>\n",
              "      <th>work_year</th>\n",
              "      <th>salary</th>\n",
              "      <th>salary_in_usd</th>\n",
              "      <th>remote_ratio</th>\n",
              "    </tr>\n",
              "  </thead>\n",
              "  <tbody>\n",
              "    <tr>\n",
              "      <th>count</th>\n",
              "      <td>2584.000000</td>\n",
              "      <td>2.584000e+03</td>\n",
              "      <td>2584.000000</td>\n",
              "      <td>2584.000000</td>\n",
              "    </tr>\n",
              "    <tr>\n",
              "      <th>mean</th>\n",
              "      <td>2022.301084</td>\n",
              "      <td>2.103653e+05</td>\n",
              "      <td>133409.280186</td>\n",
              "      <td>50.483746</td>\n",
              "    </tr>\n",
              "    <tr>\n",
              "      <th>std</th>\n",
              "      <td>0.749179</td>\n",
              "      <td>8.080375e+05</td>\n",
              "      <td>67136.837329</td>\n",
              "      <td>48.163707</td>\n",
              "    </tr>\n",
              "    <tr>\n",
              "      <th>min</th>\n",
              "      <td>2020.000000</td>\n",
              "      <td>6.000000e+03</td>\n",
              "      <td>5132.000000</td>\n",
              "      <td>0.000000</td>\n",
              "    </tr>\n",
              "    <tr>\n",
              "      <th>25%</th>\n",
              "      <td>2022.000000</td>\n",
              "      <td>9.000000e+04</td>\n",
              "      <td>84975.000000</td>\n",
              "      <td>0.000000</td>\n",
              "    </tr>\n",
              "    <tr>\n",
              "      <th>50%</th>\n",
              "      <td>2022.000000</td>\n",
              "      <td>1.346300e+05</td>\n",
              "      <td>130000.000000</td>\n",
              "      <td>50.000000</td>\n",
              "    </tr>\n",
              "    <tr>\n",
              "      <th>75%</th>\n",
              "      <td>2023.000000</td>\n",
              "      <td>1.825625e+05</td>\n",
              "      <td>175000.000000</td>\n",
              "      <td>100.000000</td>\n",
              "    </tr>\n",
              "    <tr>\n",
              "      <th>max</th>\n",
              "      <td>2023.000000</td>\n",
              "      <td>3.040000e+07</td>\n",
              "      <td>450000.000000</td>\n",
              "      <td>100.000000</td>\n",
              "    </tr>\n",
              "  </tbody>\n",
              "</table>\n",
              "</div>"
            ],
            "text/plain": [
              "         work_year        salary  salary_in_usd  remote_ratio\n",
              "count  2584.000000  2.584000e+03    2584.000000   2584.000000\n",
              "mean   2022.301084  2.103653e+05  133409.280186     50.483746\n",
              "std       0.749179  8.080375e+05   67136.837329     48.163707\n",
              "min    2020.000000  6.000000e+03    5132.000000      0.000000\n",
              "25%    2022.000000  9.000000e+04   84975.000000      0.000000\n",
              "50%    2022.000000  1.346300e+05  130000.000000     50.000000\n",
              "75%    2023.000000  1.825625e+05  175000.000000    100.000000\n",
              "max    2023.000000  3.040000e+07  450000.000000    100.000000"
            ]
          },
          "execution_count": 10,
          "metadata": {},
          "output_type": "execute_result"
        }
      ],
      "source": [
        "print(\"Статистика по числовым признакам:\")\n",
        "df.describe()\n"
      ]
    },
    {
      "cell_type": "code",
      "execution_count": 11,
      "id": "cd50ad32",
      "metadata": {},
      "outputs": [
        {
          "data": {
            "text/html": [
              "<div>\n",
              "<style scoped>\n",
              "    .dataframe tbody tr th:only-of-type {\n",
              "        vertical-align: middle;\n",
              "    }\n",
              "\n",
              "    .dataframe tbody tr th {\n",
              "        vertical-align: top;\n",
              "    }\n",
              "\n",
              "    .dataframe thead th {\n",
              "        text-align: right;\n",
              "    }\n",
              "</style>\n",
              "<table border=\"1\" class=\"dataframe\">\n",
              "  <thead>\n",
              "    <tr style=\"text-align: right;\">\n",
              "      <th></th>\n",
              "      <th>work_year</th>\n",
              "      <th>experience_level</th>\n",
              "      <th>employment_type</th>\n",
              "      <th>job_title</th>\n",
              "      <th>salary</th>\n",
              "      <th>salary_currency</th>\n",
              "      <th>salary_in_usd</th>\n",
              "      <th>employee_residence</th>\n",
              "      <th>remote_ratio</th>\n",
              "      <th>company_location</th>\n",
              "      <th>company_size</th>\n",
              "    </tr>\n",
              "  </thead>\n",
              "  <tbody>\n",
              "    <tr>\n",
              "      <th>0</th>\n",
              "      <td>2023</td>\n",
              "      <td>SE</td>\n",
              "      <td>FT</td>\n",
              "      <td>Principal Data Scientist</td>\n",
              "      <td>80000</td>\n",
              "      <td>EUR</td>\n",
              "      <td>85847</td>\n",
              "      <td>ES</td>\n",
              "      <td>100</td>\n",
              "      <td>ES</td>\n",
              "      <td>L</td>\n",
              "    </tr>\n",
              "    <tr>\n",
              "      <th>1</th>\n",
              "      <td>2023</td>\n",
              "      <td>MI</td>\n",
              "      <td>CT</td>\n",
              "      <td>ML Engineer</td>\n",
              "      <td>30000</td>\n",
              "      <td>USD</td>\n",
              "      <td>30000</td>\n",
              "      <td>US</td>\n",
              "      <td>100</td>\n",
              "      <td>US</td>\n",
              "      <td>S</td>\n",
              "    </tr>\n",
              "    <tr>\n",
              "      <th>2</th>\n",
              "      <td>2023</td>\n",
              "      <td>MI</td>\n",
              "      <td>CT</td>\n",
              "      <td>ML Engineer</td>\n",
              "      <td>25500</td>\n",
              "      <td>USD</td>\n",
              "      <td>25500</td>\n",
              "      <td>US</td>\n",
              "      <td>100</td>\n",
              "      <td>US</td>\n",
              "      <td>S</td>\n",
              "    </tr>\n",
              "    <tr>\n",
              "      <th>3</th>\n",
              "      <td>2023</td>\n",
              "      <td>SE</td>\n",
              "      <td>FT</td>\n",
              "      <td>Data Scientist</td>\n",
              "      <td>175000</td>\n",
              "      <td>USD</td>\n",
              "      <td>175000</td>\n",
              "      <td>CA</td>\n",
              "      <td>100</td>\n",
              "      <td>CA</td>\n",
              "      <td>M</td>\n",
              "    </tr>\n",
              "    <tr>\n",
              "      <th>4</th>\n",
              "      <td>2023</td>\n",
              "      <td>SE</td>\n",
              "      <td>FT</td>\n",
              "      <td>Data Scientist</td>\n",
              "      <td>120000</td>\n",
              "      <td>USD</td>\n",
              "      <td>120000</td>\n",
              "      <td>CA</td>\n",
              "      <td>100</td>\n",
              "      <td>CA</td>\n",
              "      <td>M</td>\n",
              "    </tr>\n",
              "  </tbody>\n",
              "</table>\n",
              "</div>"
            ],
            "text/plain": [
              "   work_year experience_level employment_type                 job_title  \\\n",
              "0       2023               SE              FT  Principal Data Scientist   \n",
              "1       2023               MI              CT               ML Engineer   \n",
              "2       2023               MI              CT               ML Engineer   \n",
              "3       2023               SE              FT            Data Scientist   \n",
              "4       2023               SE              FT            Data Scientist   \n",
              "\n",
              "   salary salary_currency  salary_in_usd employee_residence  remote_ratio  \\\n",
              "0   80000             EUR          85847                 ES           100   \n",
              "1   30000             USD          30000                 US           100   \n",
              "2   25500             USD          25500                 US           100   \n",
              "3  175000             USD         175000                 CA           100   \n",
              "4  120000             USD         120000                 CA           100   \n",
              "\n",
              "  company_location company_size  \n",
              "0               ES            L  \n",
              "1               US            S  \n",
              "2               US            S  \n",
              "3               CA            M  \n",
              "4               CA            M  "
            ]
          },
          "execution_count": 11,
          "metadata": {},
          "output_type": "execute_result"
        }
      ],
      "source": [
        "df.head()"
      ]
    },
    {
      "cell_type": "markdown",
      "id": "69d42bd8",
      "metadata": {},
      "source": [
        "✅ Диапазоны значений корректны.  \n",
        "Вызывает сомнение согласованность признаков `salary` и `salary_in_usd`. Проверим это."
      ]
    },
    {
      "cell_type": "markdown",
      "id": "a1e69224",
      "metadata": {},
      "source": [
        "#### Курсы валют"
      ]
    },
    {
      "cell_type": "markdown",
      "id": "755e768e",
      "metadata": {},
      "source": [
        "Введем новый признак `usd_rate` - курс валюты к доллару.  \n",
        "Проверим нет ли несоответствий в значениях признаков `salary`, `salary_in_usd` и `usd_rate`."
      ]
    },
    {
      "cell_type": "code",
      "execution_count": 12,
      "id": "f8650fe9",
      "metadata": {},
      "outputs": [
        {
          "name": "stdout",
          "output_type": "stream",
          "text": [
            "                                  min         max        mean\n",
            "salary_currency work_year                                    \n",
            "AUD             2021         1.332445    1.332445    1.332445\n",
            "                2022         1.442811    1.442841    1.442817\n",
            "                2023         1.463743    1.463743    1.463743\n",
            "BRL             2021         5.394827    5.394931    5.394879\n",
            "                2022         5.167329    5.167464    5.167399\n",
            "                2023         5.194140    5.194140    5.194140\n",
            "CAD             2020         1.340689    1.340689    1.340689\n",
            "                2021         1.253721    1.253734    1.253727\n",
            "                2022         1.301832    1.301854    1.301839\n",
            "                2023         1.352577    1.352581    1.352579\n",
            "CHF             2022         0.955134    0.955144    0.955138\n",
            "                2023         0.924909    0.924909    0.924909\n",
            "CLP             2021       759.278685  759.278685  759.278685\n",
            "CZK             2022        23.382697   23.382697   23.382697\n",
            "DKK             2020         6.536517    6.536517    6.536517\n",
            "                2021         6.291616    6.291726    6.291671\n",
            "EUR             2020         0.876829    0.876863    0.876837\n",
            "                2021         0.845982    0.846050    0.845991\n",
            "                2022         0.951775    0.951792    0.951781\n",
            "                2023         0.931886    0.931923    0.931893\n",
            "GBP             2020         0.779644    0.779646    0.779645\n",
            "                2021         0.727026    0.727034    0.727029\n",
            "                2022         0.812127    0.812140    0.812132\n",
            "                2023         0.822887    0.822903    0.822892\n",
            "HKD             2023         7.838677    7.838677    7.838677\n",
            "HUF             2020       307.821464  307.821464  307.821464\n",
            "                2021       303.372956  303.372956  303.372956\n",
            "                2022       373.218729  373.218729  373.218729\n",
            "ILS             2023         3.539121    3.539121    3.539121\n",
            "INR             2020        74.108841   74.119502   74.112438\n",
            "                2021        73.944964   73.956683   73.947628\n",
            "                2022        78.627685   78.633540   78.629774\n",
            "                2023        82.243283   82.247248   82.245494\n",
            "JPY             2020       106.742786  106.742786  106.742786\n",
            "                2021       109.870224  109.871137  109.870680\n",
            "MXN             2020        21.485482   21.485482   21.485482\n",
            "PLN             2021         3.862902    3.862910    3.862906\n",
            "                2022         4.462978    4.463090    4.463034\n",
            "                2023         4.387198    4.387198    4.387198\n",
            "SGD             2021         1.343872    1.343885    1.343877\n",
            "                2022         1.379162    1.379162    1.379162\n",
            "                2023         1.332978    1.332978    1.332978\n",
            "THB             2023        33.952399   33.953112   33.952756\n",
            "TRY             2021         8.923407    8.923702    8.923527\n",
            "USD             2020         1.000000    1.000000    1.000000\n",
            "                2021         1.000000    1.000000    1.000000\n",
            "                2022         1.000000    1.000000    1.000000\n",
            "                2023         1.000000    1.000000    1.000000\n"
          ]
        }
      ],
      "source": [
        "df['usd_rate'] = df['salary'] / df['salary_in_usd']\n",
        "\n",
        "# Группируем по валютам и годам и смотрим диапазоны usd_rate для каждой группы\n",
        "print(df.groupby(['salary_currency', 'work_year'])['usd_rate'].agg(['min', 'max', 'mean']))"
      ]
    },
    {
      "cell_type": "markdown",
      "id": "05ac6a15",
      "metadata": {},
      "source": [
        "✅ Курсы валют корректны - нет несоответствий в зарплатах в валюте и в долларах."
      ]
    },
    {
      "cell_type": "markdown",
      "id": "3a3f0eb6",
      "metadata": {},
      "source": [
        "#### Статистика для категориальных столбцов"
      ]
    },
    {
      "cell_type": "code",
      "execution_count": 13,
      "id": "f9ce5761",
      "metadata": {},
      "outputs": [
        {
          "data": {
            "text/html": [
              "<div>\n",
              "<style scoped>\n",
              "    .dataframe tbody tr th:only-of-type {\n",
              "        vertical-align: middle;\n",
              "    }\n",
              "\n",
              "    .dataframe tbody tr th {\n",
              "        vertical-align: top;\n",
              "    }\n",
              "\n",
              "    .dataframe thead th {\n",
              "        text-align: right;\n",
              "    }\n",
              "</style>\n",
              "<table border=\"1\" class=\"dataframe\">\n",
              "  <thead>\n",
              "    <tr style=\"text-align: right;\">\n",
              "      <th></th>\n",
              "      <th>experience_level</th>\n",
              "      <th>employment_type</th>\n",
              "      <th>job_title</th>\n",
              "      <th>salary_currency</th>\n",
              "      <th>employee_residence</th>\n",
              "      <th>company_location</th>\n",
              "      <th>company_size</th>\n",
              "    </tr>\n",
              "  </thead>\n",
              "  <tbody>\n",
              "    <tr>\n",
              "      <th>count</th>\n",
              "      <td>2584</td>\n",
              "      <td>2584</td>\n",
              "      <td>2584</td>\n",
              "      <td>2584</td>\n",
              "      <td>2584</td>\n",
              "      <td>2584</td>\n",
              "      <td>2584</td>\n",
              "    </tr>\n",
              "    <tr>\n",
              "      <th>unique</th>\n",
              "      <td>4</td>\n",
              "      <td>4</td>\n",
              "      <td>93</td>\n",
              "      <td>20</td>\n",
              "      <td>78</td>\n",
              "      <td>72</td>\n",
              "      <td>3</td>\n",
              "    </tr>\n",
              "    <tr>\n",
              "      <th>top</th>\n",
              "      <td>SE</td>\n",
              "      <td>FT</td>\n",
              "      <td>Data Engineer</td>\n",
              "      <td>USD</td>\n",
              "      <td>US</td>\n",
              "      <td>US</td>\n",
              "      <td>M</td>\n",
              "    </tr>\n",
              "    <tr>\n",
              "      <th>freq</th>\n",
              "      <td>1554</td>\n",
              "      <td>2547</td>\n",
              "      <td>598</td>\n",
              "      <td>2107</td>\n",
              "      <td>1893</td>\n",
              "      <td>1929</td>\n",
              "      <td>2028</td>\n",
              "    </tr>\n",
              "  </tbody>\n",
              "</table>\n",
              "</div>"
            ],
            "text/plain": [
              "       experience_level employment_type      job_title salary_currency  \\\n",
              "count              2584            2584           2584            2584   \n",
              "unique                4               4             93              20   \n",
              "top                  SE              FT  Data Engineer             USD   \n",
              "freq               1554            2547            598            2107   \n",
              "\n",
              "       employee_residence company_location company_size  \n",
              "count                2584             2584         2584  \n",
              "unique                 78               72            3  \n",
              "top                    US               US            M  \n",
              "freq                 1893             1929         2028  "
            ]
          },
          "execution_count": 13,
          "metadata": {},
          "output_type": "execute_result"
        }
      ],
      "source": [
        "# Базовая статистика \n",
        "df.describe(include='object')"
      ]
    },
    {
      "cell_type": "markdown",
      "id": "ed8820d1",
      "metadata": {},
      "source": [
        "❌ Есть признаки с большим количеством уникальных значений."
      ]
    },
    {
      "cell_type": "markdown",
      "id": "c-Q50P1G4wHx",
      "metadata": {
        "id": "c-Q50P1G4wHx"
      },
      "source": [
        "## **Задание 3 (0.3 балла)**\n",
        "\n",
        "Вернитесь к описанию признаков.\n",
        "- Проверьте, все ли признаки соответствуют постановке задачи? Если есть лишние признаки, удалите их и обоснуйте удаление, если нет, сделайте вывод о релевантности (достаточно в одну-две строки)\n",
        "- Зафиксируйте, в каких признаках много категорий."
      ]
    },
    {
      "cell_type": "markdown",
      "id": "ea2a538c",
      "metadata": {},
      "source": [
        "Все признаки по-сути соответствуют постановке задачи.  \n",
        "\n",
        "Однако, данные о зарплате продублированы в разных валютах, что кажется избыточным.  \n",
        "Поэтому удалим признак `salary`, `salary_currency` и, созданный нами ранее, признак `usd_rate`, оставим только `salary_in_usd`, чтобы все наблюдения были в одной размерности и масштабе."
      ]
    },
    {
      "cell_type": "code",
      "execution_count": 14,
      "id": "58-KHHjT5vzT",
      "metadata": {
        "id": "58-KHHjT5vzT"
      },
      "outputs": [],
      "source": [
        "# Ваш код здесь\n",
        "df = df.drop(columns=['salary', 'usd_rate', 'salary_currency'])"
      ]
    },
    {
      "cell_type": "markdown",
      "id": "8cf2add1",
      "metadata": {},
      "source": [
        "Признаки, в которых много категорий"
      ]
    },
    {
      "cell_type": "code",
      "execution_count": 15,
      "id": "1f1273e1",
      "metadata": {},
      "outputs": [],
      "source": [
        "cols_cat = df.select_dtypes(include='object').columns.to_list()"
      ]
    },
    {
      "cell_type": "code",
      "execution_count": 16,
      "id": "7205b255",
      "metadata": {},
      "outputs": [
        {
          "data": {
            "text/plain": [
              "job_title             93\n",
              "employee_residence    78\n",
              "company_location      72\n",
              "experience_level       4\n",
              "employment_type        4\n",
              "company_size           3\n",
              "dtype: int64"
            ]
          },
          "execution_count": 16,
          "metadata": {},
          "output_type": "execute_result"
        }
      ],
      "source": [
        "df[cols_cat].nunique().sort_values(ascending=False)"
      ]
    },
    {
      "cell_type": "markdown",
      "id": "89b4bb76",
      "metadata": {},
      "source": [
        "Проверим соответствуют ли стандарту ISO 3166-1 Alpha-2 признаки `employee_residence` и `company_location`."
      ]
    },
    {
      "cell_type": "code",
      "execution_count": 17,
      "id": "4ae17b4d",
      "metadata": {},
      "outputs": [
        {
          "name": "stdout",
          "output_type": "stream",
          "text": [
            "set()\n",
            "set()\n"
          ]
        }
      ],
      "source": [
        "import urllib.request\n",
        "import json\n",
        "\n",
        "url = 'https://gist.githubusercontent.com/ssskip/5a94bfcd2835bf1dea52/raw/59272a2d1c2122f0cedd83a76780a01d50726d98/ISO3166-1.alpha2.json'\n",
        "with urllib.request.urlopen(url) as response:\n",
        "    iso3166 = json.loads(response.read())\n",
        "\n",
        "residence_codes = set(df['employee_residence'].unique())\n",
        "location_codes = set(df['company_location'].unique())\n",
        "\n",
        "print(residence_codes - set(iso3166.keys()))\n",
        "print(location_codes - set(iso3166.keys()))"
      ]
    },
    {
      "cell_type": "markdown",
      "id": "e030a50f",
      "metadata": {},
      "source": [
        "Все коды соответствуют стандарту ISO 3166-1 Alpha-2.  \n",
        "Поэтому признаки `employee_residence` и `company_location` можно оставить как есть."
      ]
    },
    {
      "cell_type": "markdown",
      "id": "301a6476",
      "metadata": {},
      "source": [
        "Посмотрим на признак `job_title`."
      ]
    },
    {
      "cell_type": "code",
      "execution_count": 18,
      "id": "c2eaa04c",
      "metadata": {},
      "outputs": [
        {
          "data": {
            "text/plain": [
              "job_title\n",
              "Data Engineer                598\n",
              "Data Scientist               538\n",
              "Data Analyst                 396\n",
              "Machine Learning Engineer    206\n",
              "Analytics Engineer            91\n",
              "                            ... \n",
              "Compliance Data Analyst        1\n",
              "Deep Learning Researcher       1\n",
              "Staff Data Analyst             1\n",
              "Data DevOps Engineer           1\n",
              "Finance Data Analyst           1\n",
              "Name: count, Length: 93, dtype: int64"
            ]
          },
          "execution_count": 18,
          "metadata": {},
          "output_type": "execute_result"
        }
      ],
      "source": [
        "_jobs = df['job_title'].value_counts()\n",
        "_jobs"
      ]
    },
    {
      "cell_type": "code",
      "execution_count": 19,
      "id": "3eaf6990",
      "metadata": {},
      "outputs": [
        {
          "data": {
            "text/plain": [
              "job_title\n",
              "Business Intelligence Engineer         4\n",
              "Machine Learning Research Engineer     4\n",
              "MLOps Engineer                         4\n",
              "3D Computer Vision Researcher          4\n",
              "Data Operations Analyst                4\n",
              "Lead Machine Learning Engineer         3\n",
              "Machine Learning Manager               3\n",
              "Financial Data Analyst                 3\n",
              "Cloud Data Engineer                    3\n",
              "Data Analytics Consultant              2\n",
              "Data Scientist Lead                    2\n",
              "Data Lead                              2\n",
              "Data Analytics Lead                    2\n",
              "Data Modeler                           2\n",
              "Principal Data Analyst                 2\n",
              "Big Data Architect                     2\n",
              "Autonomous Vehicle Technician          2\n",
              "Software Data Engineer                 2\n",
              "AI Programmer                          2\n",
              "ETL Engineer                           2\n",
              "Principal Data Engineer                2\n",
              "Marketing Data Analyst                 2\n",
              "Applied Machine Learning Engineer      2\n",
              "Data Analytics Specialist              2\n",
              "Data Strategist                        2\n",
              "Insight Analyst                        2\n",
              "Head of Machine Learning               1\n",
              "Principal Data Architect               1\n",
              "Staff Data Scientist                   1\n",
              "Product Data Scientist                 1\n",
              "Cloud Data Architect                   1\n",
              "BI Data Engineer                       1\n",
              "Power BI Developer                     1\n",
              "Data Science Tech Lead                 1\n",
              "Data Management Specialist             1\n",
              "Principal Machine Learning Engineer    1\n",
              "Manager Data Management                1\n",
              "Marketing Data Engineer                1\n",
              "Azure Data Engineer                    1\n",
              "Compliance Data Analyst                1\n",
              "Deep Learning Researcher               1\n",
              "Staff Data Analyst                     1\n",
              "Data DevOps Engineer                   1\n",
              "Finance Data Analyst                   1\n",
              "Name: count, dtype: int64"
            ]
          },
          "execution_count": 19,
          "metadata": {},
          "output_type": "execute_result"
        }
      ],
      "source": [
        "_jobs[_jobs < 5]"
      ]
    },
    {
      "cell_type": "markdown",
      "id": "21tU88sZ5z3y",
      "metadata": {
        "id": "21tU88sZ5z3y"
      },
      "source": [
        "**Ваши выводы здесь**"
      ]
    },
    {
      "cell_type": "markdown",
      "id": "76ed29be",
      "metadata": {},
      "source": [
        "В признаке `job_title` 93 уникальных значения и много редких.  \n",
        "В задании 11 сконструируем новые признаки, выделяя общие свойства ролей."
      ]
    },
    {
      "cell_type": "markdown",
      "id": "RTS28VQy6Hz8",
      "metadata": {
        "id": "RTS28VQy6Hz8"
      },
      "source": [
        "## **Задание 4 (0.2 балла)**\n",
        "\n",
        "Разделите выборку на train, test (80%, 20%)."
      ]
    },
    {
      "cell_type": "code",
      "execution_count": 20,
      "id": "-PWyMQ1N6NAc",
      "metadata": {
        "id": "-PWyMQ1N6NAc"
      },
      "outputs": [],
      "source": [
        "from sklearn.model_selection import train_test_split\n",
        "\n",
        "y = df['salary_in_usd']\n",
        "df = df.drop(columns=['salary_in_usd'], axis=1)\n",
        "X_train, X_test, y_train, y_test = train_test_split(df, y, test_size=0.2, random_state=42)\n"
      ]
    },
    {
      "cell_type": "code",
      "execution_count": 21,
      "id": "c0e68473",
      "metadata": {},
      "outputs": [],
      "source": [
        "from sklearn.metrics import mean_absolute_percentage_error, root_mean_squared_error\n",
        "\n",
        "def evaluate_model(y_test, y_pred, printout = True):\n",
        "    mape = mean_absolute_percentage_error(y_test, y_pred)\n",
        "    rmse = root_mean_squared_error(y_test, y_pred)\n",
        "    if printout:\n",
        "        print(f\"MAPE: {mape}\")\n",
        "        print(f\"RMSE: {rmse}\")\n",
        "    return mape, rmse"
      ]
    },
    {
      "cell_type": "markdown",
      "id": "m2dNbigN52YC",
      "metadata": {
        "id": "m2dNbigN52YC"
      },
      "source": [
        "## **Задание 5 (0.3 балла)**\n",
        "\n",
        "Будем проверять два сценария. Первый — построение модели только на непрерывных признаках, а второй — построение с категориальными. В этом задании подготовьте всё, чтобы проверить валидность обоих сценариев. А именно:\n",
        "\n",
        "- Выделите данные для тренировки и теста для непрерывных признаков\n",
        "- Выделите данные для тренировки и теста для непрерывных + категориальных признаков, пока ничего не кодируйте."
      ]
    },
    {
      "cell_type": "code",
      "execution_count": 22,
      "id": "4i5DhaS87Sir",
      "metadata": {
        "id": "4i5DhaS87Sir"
      },
      "outputs": [],
      "source": [
        "# Ваш код здесь\n",
        "# Непрерывные признаки\n",
        "# Точнее - количественные, т.к. они легко станут категориальными после кодирования\n",
        "num_features = ['work_year', 'remote_ratio']\n",
        "\n",
        "# Создаем наборы данных только с непрерывными признаками\n",
        "X_train_num = X_train[num_features]\n",
        "X_test_num = X_test[num_features]\n",
        "\n",
        "# Выделяем все признаки (непрерывные + категориальные) для второго сценария\n",
        "X_train_all = X_train.copy()\n",
        "X_test_all = X_test.copy()\n"
      ]
    },
    {
      "cell_type": "markdown",
      "id": "f63cb01a",
      "metadata": {
        "id": "f63cb01a"
      },
      "source": [
        "## **Задание 6 (0.2 балла)**\n",
        "\n",
        "- Обучите модель линейной регресии на числовых признаках и оцените её качество через mape и rmse;\n",
        "- Сделайте вывод о качестве построенной модели;"
      ]
    },
    {
      "cell_type": "code",
      "execution_count": 23,
      "id": "7jdkJ8Ji7R_L",
      "metadata": {
        "id": "7jdkJ8Ji7R_L"
      },
      "outputs": [
        {
          "name": "stdout",
          "output_type": "stream",
          "text": [
            "MAPE: 0.8290566399558054\n",
            "RMSE: 64000.53262564963\n"
          ]
        }
      ],
      "source": [
        "# Ваш код здесь\n",
        "from sklearn.linear_model import LinearRegression\n",
        "\n",
        "\n",
        "model_num = LinearRegression()\n",
        "model_num.fit(X_train_num, y_train)\n",
        "\n",
        "# Оценка качества модели\n",
        "y_pred_num = model_num.predict(X_test_num)\n",
        "_ = evaluate_model(y_test, y_pred_num)\n"
      ]
    },
    {
      "cell_type": "markdown",
      "id": "9a42bb65",
      "metadata": {},
      "source": [
        "**Вывод**:  \n",
        "Модель, построенная только на числовых признаках, показывает достаточно слабые результаты. \n",
        "Высокие значения MAPE и RMSE говорят о том, что модель плохо предсказывает зарплаты, \n",
        "что вполне ожидаемо, так как мы используем только два признака (`work_year` и `remote_ratio`) из всего набора данных. \n",
        "Для улучшения качества предсказаний необходимо добавить категориальные признаки,\n",
        "которые, содержат важную информацию (должность, опыт работы, локацию).\n"
      ]
    },
    {
      "cell_type": "markdown",
      "id": "8bf8374f",
      "metadata": {
        "id": "8bf8374f"
      },
      "source": [
        "## **Задание 8 (0.2 балла)**\n",
        "\n",
        "- Обучите модель бустинга (любую из трех библиотек catboost, xgboost, lightgbm) с гиперпараметрами по умолчанию на непрерывных признаках и оцените её качество через mape и rmse;\n",
        "- Сделайте вывод о качестве построенной модели;"
      ]
    },
    {
      "cell_type": "code",
      "execution_count": 24,
      "id": "0a18a0b2",
      "metadata": {},
      "outputs": [
        {
          "name": "stdout",
          "output_type": "stream",
          "text": [
            "Note: you may need to restart the kernel to use updated packages.\n",
            "Note: you may need to restart the kernel to use updated packages.\n",
            "Note: you may need to restart the kernel to use updated packages.\n"
          ]
        }
      ],
      "source": [
        "%pip install catboost -q\n",
        "%pip install xgboost -q\n",
        "%pip install lightgbm -q"
      ]
    },
    {
      "cell_type": "code",
      "execution_count": 25,
      "id": "5vOPjwnZ7Pud",
      "metadata": {
        "id": "5vOPjwnZ7Pud"
      },
      "outputs": [
        {
          "name": "stdout",
          "output_type": "stream",
          "text": [
            "MAPE: 0.7708443769690151\n",
            "RMSE: 62433.34798150249\n"
          ]
        }
      ],
      "source": [
        "# Ваш код здесь\n",
        "from catboost import CatBoostRegressor\n",
        "\n",
        "# CatBoost с параметрами по умолчанию\n",
        "model_num_boost = CatBoostRegressor(verbose=False, random_state=42)\n",
        "model_num_boost.fit(X_train_num, y_train)\n",
        "\n",
        "# Оценка качества\n",
        "y_pred_num_boost = model_num_boost.predict(X_test_num)\n",
        "\n",
        "_ = evaluate_model(y_test, y_pred_num_boost)\n"
      ]
    },
    {
      "cell_type": "markdown",
      "id": "bb2040f5",
      "metadata": {},
      "source": [
        "**Вывод**:  \n",
        "Модель бустинга, построенная только на числовых признаках (`work_year` и `remote_ratio`), также показывает слабые результаты, хотя и немного лучше, чем линейная регрессия.\n",
        "Это подтверждает предыдущий вывод о том, что необходимо использовать категориальные признаки, которые несут в себе важную информацию.\n"
      ]
    },
    {
      "cell_type": "markdown",
      "id": "17b76f89",
      "metadata": {
        "id": "17b76f89"
      },
      "source": [
        "## **Задание 9 (0.8 балла)**\n",
        "\n",
        "Теперь подключим категориальные признаки. Но попроубем разные стратегии предобработки.\n",
        "\n",
        "**1:**\n",
        "- Предобработайте категориальные признаки при помощи OHE\n",
        "- Постройте модель бустинга и линейную регрессию\n",
        "- Оцените качество обеих моделей\n",
        "\n",
        "**2:**\n",
        "- Предобработайте категориальные признаки при помощи LabelEncoding\n",
        "- Постройте модель бустинга и линейную регрессию\n",
        "- Оцените качество обеих моделей\n",
        "\n",
        "**3:**\n",
        "- Предобработайте категориальные признаки при помощи MeanTargetEnc\n",
        "- Постройте модель бустинга и линейную регрессию\n",
        "- Оцените качество обеих моделей\n",
        "\n",
        "Сделайте выводы по построениям 1-3. Выберите лучшую модель и дальше поработайте с ней."
      ]
    },
    {
      "cell_type": "code",
      "execution_count": 26,
      "id": "jydpMYVO8GfK",
      "metadata": {
        "id": "jydpMYVO8GfK"
      },
      "outputs": [],
      "source": [
        "# Ваш код здесь\n",
        "from sklearn.compose import ColumnTransformer\n",
        "from sklearn.pipeline import Pipeline\n",
        "from sklearn.preprocessing import OneHotEncoder, LabelEncoder, OrdinalEncoder, TargetEncoder\n",
        "\n",
        "# пайплайны с OneHotEncoder\n",
        "p_ohe = ColumnTransformer([\n",
        "    ('encode', OneHotEncoder(sparse_output=False, handle_unknown='ignore', drop='first'), cols_cat),\n",
        "], remainder='passthrough')\n",
        "\n",
        "p1 = Pipeline([\n",
        "    ('ohe', p_ohe),\n",
        "    ('boost', CatBoostRegressor(verbose=False, random_state=42))\n",
        "])\n",
        "\n",
        "p2 = Pipeline([\n",
        "    ('ohe', p_ohe),\n",
        "    ('linreg', LinearRegression())\n",
        "])\n",
        "\n",
        "# пайплайны OrdinalEncoder\n",
        "#\n",
        "# ВНИМАНИЮ проверяющего!\n",
        "#\n",
        "# LabelEncoder предназначен для кодирования ЦЕЛЕВОЙ ПЕРЕМЕННОЙ!\n",
        "# https://scikit-learn.org/stable/modules/generated/sklearn.preprocessing.LabelEncoder.html\n",
        "#\n",
        "# Поэтому используем аналог - OrdinalEncoder\n",
        "# Но в чате сказали, что надо использовать LabelEncoder. Ок, см. ниже\n",
        "#\n",
        "p_ord = ColumnTransformer([\n",
        "    ('encode', OrdinalEncoder(handle_unknown='use_encoded_value', unknown_value=-1, encoded_missing_value = -2), cols_cat),\n",
        "], remainder='passthrough')\n",
        "\n",
        "p3 = Pipeline([\n",
        "    ('label', p_ord),\n",
        "    ('boost', CatBoostRegressor(verbose=False, random_state=42))\n",
        "])\n",
        "\n",
        "p4 = Pipeline([\n",
        "    ('label', p_ord),\n",
        "    ('linreg', LinearRegression())\n",
        "])\n",
        "\n",
        "\n",
        "# пайплайны с TargetEncoder\n",
        "p_tgt = ColumnTransformer([\n",
        "    ('mean', TargetEncoder(target_type='continuous', random_state=42), cols_cat),\n",
        "], remainder='passthrough')\n",
        "\n",
        "p5 = Pipeline([\n",
        "    ('mean', p_tgt),\n",
        "    ('boost', CatBoostRegressor(verbose=False, random_state=42))\n",
        "])\n",
        "\n",
        "p6 = Pipeline([\n",
        "    ('mean', p_tgt),\n",
        "    ('linreg', LinearRegression())\n",
        "])\n",
        "\n",
        "# Бонус - CatBoost БЕЗ кодирования категориальных признаков\n",
        "p7 = Pipeline([\n",
        "    ('boost', CatBoostRegressor(verbose=False, random_state=42, cat_features=cols_cat))\n",
        "])\n"
      ]
    },
    {
      "cell_type": "code",
      "execution_count": 27,
      "id": "dfaa07e5",
      "metadata": {},
      "outputs": [
        {
          "name": "stderr",
          "output_type": "stream",
          "text": [
            "/Users/ykonov/Documents/code/hse_ai_24/hse-ai24-ml/.venv/lib/python3.12/site-packages/sklearn/preprocessing/_encoders.py:246: UserWarning: Found unknown categories in columns [2, 3, 4] during transform. These unknown categories will be encoded as all zeros\n",
            "  warnings.warn(\n",
            "/Users/ykonov/Documents/code/hse_ai_24/hse-ai24-ml/.venv/lib/python3.12/site-packages/sklearn/preprocessing/_encoders.py:246: UserWarning: Found unknown categories in columns [2, 3, 4] during transform. These unknown categories will be encoded as all zeros\n",
            "  warnings.warn(\n"
          ]
        },
        {
          "name": "stdout",
          "output_type": "stream",
          "text": [
            "Pipeline 1: MAPE: 0.42, RMSE: 51672\n",
            "Pipeline 2: MAPE: 0.46, RMSE: 53521\n",
            "Pipeline 3: MAPE: 0.57, RMSE: 55509\n",
            "Pipeline 4: MAPE: 0.57, RMSE: 55932\n",
            "Pipeline 5: MAPE: 0.43, RMSE: 51841\n",
            "Pipeline 6: MAPE: 0.43, RMSE: 50882\n",
            "Pipeline 7: MAPE: 0.48, RMSE: 52741\n"
          ]
        }
      ],
      "source": [
        "\n",
        "pipes_to_test = [p1, p2, p3, p4, p5, p6, p7]\n",
        "for i, pipeline in enumerate(pipes_to_test, 1):\n",
        "    pipeline.fit(X_train, y_train)\n",
        "    pred = pipeline.predict(X_test)\n",
        "    mape, rmse = evaluate_model(y_test, pred, printout=False)\n",
        "    print(f\"Pipeline {i}: MAPE: {mape:.2f}, RMSE: {rmse:.0f}\")\n",
        "\n"
      ]
    },
    {
      "cell_type": "code",
      "execution_count": 28,
      "id": "91aa86cf",
      "metadata": {},
      "outputs": [
        {
          "name": "stdout",
          "output_type": "stream",
          "text": [
            "Pipeline 8: MAPE: 0.57, RMSE: 76601\n",
            "Pipeline 9: MAPE: 0.47, RMSE: 74313\n"
          ]
        }
      ],
      "source": [
        "# пайплайны с LabelEncoder\n",
        "# реализованы отдельно, т.к. нельзя использовать ColumnTransformer\n",
        "X_train_lbl = X_train.copy()\n",
        "X_test_lbl = X_test.copy()\n",
        "\n",
        "X_train_lbl[cols_cat] = X_train_lbl[cols_cat].apply(LabelEncoder().fit_transform)\n",
        "X_test_lbl[cols_cat] = X_test_lbl[cols_cat].apply(LabelEncoder().fit_transform)\n",
        "\n",
        "p8 = Pipeline([\n",
        "    ('boost', CatBoostRegressor(verbose=False, random_state=42))\n",
        "])\n",
        "\n",
        "p9 = Pipeline([\n",
        "    ('linreg', LinearRegression())\n",
        "])\n",
        "\n",
        "pipes_to_test = [p8, p9]\n",
        "for i, pipeline in enumerate(pipes_to_test, 8):\n",
        "    pipeline.fit(X_train_lbl, y_train)\n",
        "    pred = pipeline.predict(X_test_lbl)\n",
        "    mape, rmse = evaluate_model(y_test, pred, printout=False)\n",
        "    print(f\"Pipeline {i}: MAPE: {mape:.2f}, RMSE: {rmse:.0f}\")\n"
      ]
    },
    {
      "cell_type": "markdown",
      "id": "003f485a",
      "metadata": {},
      "source": [
        "### Выводы"
      ]
    },
    {
      "cell_type": "markdown",
      "id": "57571cba",
      "metadata": {},
      "source": [
        "**Результаты:**\n",
        "| # | MAPE  | RMSE  | Прим.                       |\n",
        "|---|-------|-------|-----------------------------|\n",
        "| 1 | 0.42  | 51672 | CatBoost + OHE              |\n",
        "| 2 | 0.46  | 53521 | LinReg + OHE                |\n",
        "| 3 | 0.57  | 55509 | CatBoost + OrdinalEncoder   |\n",
        "| 4 | 0.57  | 55932 | LinReg + OrdinalEncoder     |\n",
        "| 5 | 0.43  | 51841 | CatBoost + TargetEncoder    |\n",
        "| 6 | 0.43  | 50882 | LinReg + TargetEncoder      |\n",
        "| 7 | 0.48  | 52741 | CatBoost + без кодирования  |\n",
        "| 8 | 0.57  | 76601 | CatBoost + LabelEncoder     |\n",
        "| 9 | 0.47  | 74313 | LinReg + LabelEncoder       |\n",
        "\n",
        "**Ключевые выводы**:\n",
        "- `LabelEncoder` показал наихудшие результаты для обеих моделей;\n",
        "- Лучшая стратегия обработки категориальных признаков для `CatBoost` - это `OHE` (MAPE 0.42);\n",
        "- Лучшая стратегия обработки категориальных признаков для `LinReg` - это `TargetEncoder` (MAPE 0.43);\n",
        "- `OrdinalEncoder` показал плохие результаты для обеих моделей;\n",
        "- `CatBoost` с родной обработкой категорий уступает `CatBoost+OHE`.\n",
        "\n",
        "**Парадокс LinReg**:  \n",
        "При TargetEncoder кодировании линейная регрессия показывает лучший RMSE (50651), но это может быть связано с:\n",
        "- Утечкой информации при кодировании,\n",
        "- Переобучением на целевую переменную,\n",
        "- Особенностями распределения данных.\n",
        "\n",
        "**Решение**:\n",
        "- Для бустингов: использовать OHE как наиболее стабильный вариант.\n",
        "- Для линейных моделей: осторожно применять TargetEncoder с контролем переобучения.\n",
        "- Отказаться от OrdinalEncoder и, тем более, LabelEncoding для этих данных.\n",
        "- **Дальше работать с `CatBoost+OHE` как с лучшей моделью (MAPE 0.42)**.\n",
        "\n",
        "\n",
        "> Несмотря на лучший RMSE у `LinReg+TargetEncoder`, `CatBoost+OHE` предпочтительнее из-за:\n",
        "> - Меньшего MAPE (более важная метрика для зарплат),\n",
        "> - Устойчивости к переобучению,\n",
        "> - Возможности улучшения через настройку гиперпараметров.\n"
      ]
    },
    {
      "cell_type": "markdown",
      "id": "119b89f1",
      "metadata": {
        "id": "119b89f1"
      },
      "source": [
        "## **Задание 10 (0.5 балла)**\n",
        "\n",
        "Покажите, где ошибается ваша модель. Выведите топ 20 примеров с наибольшей ошибкой. Проанализируйте их. Какие выводы можно сделать? Что стоит изменить в данных чтобы улучшить качество модели?"
      ]
    },
    {
      "cell_type": "code",
      "execution_count": 29,
      "id": "rfINOy6o8SvL",
      "metadata": {
        "id": "rfINOy6o8SvL"
      },
      "outputs": [
        {
          "name": "stderr",
          "output_type": "stream",
          "text": [
            "/Users/ykonov/Documents/code/hse_ai_24/hse-ai24-ml/.venv/lib/python3.12/site-packages/sklearn/preprocessing/_encoders.py:246: UserWarning: Found unknown categories in columns [2, 3, 4] during transform. These unknown categories will be encoded as all zeros\n",
            "  warnings.warn(\n"
          ]
        },
        {
          "data": {
            "image/png": "[encoded data removed]",
            "text/plain": [
              "<Figure size 1200x600 with 1 Axes>"
            ]
          },
          "metadata": {},
          "output_type": "display_data"
        },
        {
          "data": {
            "text/html": [
              "<div>\n",
              "<style scoped>\n",
              "    .dataframe tbody tr th:only-of-type {\n",
              "        vertical-align: middle;\n",
              "    }\n",
              "\n",
              "    .dataframe tbody tr th {\n",
              "        vertical-align: top;\n",
              "    }\n",
              "\n",
              "    .dataframe thead th {\n",
              "        text-align: right;\n",
              "    }\n",
              "</style>\n",
              "<table border=\"1\" class=\"dataframe\">\n",
              "  <thead>\n",
              "    <tr style=\"text-align: right;\">\n",
              "      <th></th>\n",
              "      <th>work_year</th>\n",
              "      <th>remote_ratio</th>\n",
              "      <th>job_title</th>\n",
              "      <th>experience_level</th>\n",
              "      <th>employee_residence</th>\n",
              "      <th>company_location</th>\n",
              "      <th>actual_salary</th>\n",
              "      <th>predicted_salary</th>\n",
              "      <th>abs_error</th>\n",
              "      <th>error_percent</th>\n",
              "    </tr>\n",
              "  </thead>\n",
              "  <tbody>\n",
              "    <tr>\n",
              "      <th>2022</th>\n",
              "      <td>2022</td>\n",
              "      <td>50</td>\n",
              "      <td>3D Computer Vision Researcher</td>\n",
              "      <td>SE</td>\n",
              "      <td>CA</td>\n",
              "      <td>AL</td>\n",
              "      <td>10000</td>\n",
              "      <td>112898.115589</td>\n",
              "      <td>102898.115589</td>\n",
              "      <td>1028.981156</td>\n",
              "    </tr>\n",
              "    <tr>\n",
              "      <th>3667</th>\n",
              "      <td>2021</td>\n",
              "      <td>100</td>\n",
              "      <td>Data Scientist</td>\n",
              "      <td>MI</td>\n",
              "      <td>IN</td>\n",
              "      <td>US</td>\n",
              "      <td>5679</td>\n",
              "      <td>37997.205349</td>\n",
              "      <td>32318.205349</td>\n",
              "      <td>569.082679</td>\n",
              "    </tr>\n",
              "    <tr>\n",
              "      <th>1257</th>\n",
              "      <td>2023</td>\n",
              "      <td>0</td>\n",
              "      <td>Data Engineer</td>\n",
              "      <td>EN</td>\n",
              "      <td>VN</td>\n",
              "      <td>VN</td>\n",
              "      <td>12000</td>\n",
              "      <td>65170.052094</td>\n",
              "      <td>53170.052094</td>\n",
              "      <td>443.083767</td>\n",
              "    </tr>\n",
              "    <tr>\n",
              "      <th>3485</th>\n",
              "      <td>2021</td>\n",
              "      <td>100</td>\n",
              "      <td>Applied Machine Learning Scientist</td>\n",
              "      <td>MI</td>\n",
              "      <td>VN</td>\n",
              "      <td>US</td>\n",
              "      <td>38400</td>\n",
              "      <td>196214.750587</td>\n",
              "      <td>157814.750587</td>\n",
              "      <td>410.975913</td>\n",
              "    </tr>\n",
              "    <tr>\n",
              "      <th>3434</th>\n",
              "      <td>2022</td>\n",
              "      <td>100</td>\n",
              "      <td>Computer Vision Engineer</td>\n",
              "      <td>EN</td>\n",
              "      <td>PT</td>\n",
              "      <td>LU</td>\n",
              "      <td>10000</td>\n",
              "      <td>39245.984170</td>\n",
              "      <td>29245.984170</td>\n",
              "      <td>292.459842</td>\n",
              "    </tr>\n",
              "    <tr>\n",
              "      <th>2578</th>\n",
              "      <td>2021</td>\n",
              "      <td>50</td>\n",
              "      <td>Power BI Developer</td>\n",
              "      <td>EN</td>\n",
              "      <td>IN</td>\n",
              "      <td>IN</td>\n",
              "      <td>5409</td>\n",
              "      <td>21194.642662</td>\n",
              "      <td>15785.642662</td>\n",
              "      <td>291.840315</td>\n",
              "    </tr>\n",
              "    <tr>\n",
              "      <th>3537</th>\n",
              "      <td>2021</td>\n",
              "      <td>50</td>\n",
              "      <td>3D Computer Vision Researcher</td>\n",
              "      <td>MI</td>\n",
              "      <td>IN</td>\n",
              "      <td>IN</td>\n",
              "      <td>5409</td>\n",
              "      <td>19990.517636</td>\n",
              "      <td>14581.517636</td>\n",
              "      <td>269.578806</td>\n",
              "    </tr>\n",
              "    <tr>\n",
              "      <th>3696</th>\n",
              "      <td>2021</td>\n",
              "      <td>0</td>\n",
              "      <td>Data Engineer</td>\n",
              "      <td>MI</td>\n",
              "      <td>IT</td>\n",
              "      <td>US</td>\n",
              "      <td>20000</td>\n",
              "      <td>69597.609391</td>\n",
              "      <td>49597.609391</td>\n",
              "      <td>247.988047</td>\n",
              "    </tr>\n",
              "    <tr>\n",
              "      <th>2840</th>\n",
              "      <td>2022</td>\n",
              "      <td>100</td>\n",
              "      <td>Data Analyst</td>\n",
              "      <td>EN</td>\n",
              "      <td>BR</td>\n",
              "      <td>BR</td>\n",
              "      <td>7799</td>\n",
              "      <td>25005.773493</td>\n",
              "      <td>17206.773493</td>\n",
              "      <td>220.627946</td>\n",
              "    </tr>\n",
              "    <tr>\n",
              "      <th>1695</th>\n",
              "      <td>2023</td>\n",
              "      <td>0</td>\n",
              "      <td>Applied Scientist</td>\n",
              "      <td>SE</td>\n",
              "      <td>US</td>\n",
              "      <td>US</td>\n",
              "      <td>72000</td>\n",
              "      <td>225100.490073</td>\n",
              "      <td>153100.490073</td>\n",
              "      <td>212.639570</td>\n",
              "    </tr>\n",
              "    <tr>\n",
              "      <th>2923</th>\n",
              "      <td>2021</td>\n",
              "      <td>50</td>\n",
              "      <td>Computer Vision Software Engineer</td>\n",
              "      <td>EN</td>\n",
              "      <td>DK</td>\n",
              "      <td>DK</td>\n",
              "      <td>19073</td>\n",
              "      <td>56057.483241</td>\n",
              "      <td>36984.483241</td>\n",
              "      <td>193.910152</td>\n",
              "    </tr>\n",
              "    <tr>\n",
              "      <th>2358</th>\n",
              "      <td>2022</td>\n",
              "      <td>100</td>\n",
              "      <td>Data Scientist</td>\n",
              "      <td>EN</td>\n",
              "      <td>HU</td>\n",
              "      <td>HU</td>\n",
              "      <td>17684</td>\n",
              "      <td>51901.854678</td>\n",
              "      <td>34217.854678</td>\n",
              "      <td>193.496125</td>\n",
              "    </tr>\n",
              "    <tr>\n",
              "      <th>3664</th>\n",
              "      <td>2021</td>\n",
              "      <td>0</td>\n",
              "      <td>Data Engineer</td>\n",
              "      <td>MI</td>\n",
              "      <td>RO</td>\n",
              "      <td>US</td>\n",
              "      <td>26005</td>\n",
              "      <td>75016.258364</td>\n",
              "      <td>49011.258364</td>\n",
              "      <td>188.468596</td>\n",
              "    </tr>\n",
              "    <tr>\n",
              "      <th>3455</th>\n",
              "      <td>2020</td>\n",
              "      <td>0</td>\n",
              "      <td>Product Data Analyst</td>\n",
              "      <td>MI</td>\n",
              "      <td>HN</td>\n",
              "      <td>HN</td>\n",
              "      <td>20000</td>\n",
              "      <td>56363.765047</td>\n",
              "      <td>36363.765047</td>\n",
              "      <td>181.818825</td>\n",
              "    </tr>\n",
              "    <tr>\n",
              "      <th>1166</th>\n",
              "      <td>2023</td>\n",
              "      <td>100</td>\n",
              "      <td>Data Scientist</td>\n",
              "      <td>EN</td>\n",
              "      <td>BR</td>\n",
              "      <td>BR</td>\n",
              "      <td>19522</td>\n",
              "      <td>51098.715136</td>\n",
              "      <td>31576.715136</td>\n",
              "      <td>161.749386</td>\n",
              "    </tr>\n",
              "    <tr>\n",
              "      <th>998</th>\n",
              "      <td>2023</td>\n",
              "      <td>50</td>\n",
              "      <td>Data Science Consultant</td>\n",
              "      <td>SE</td>\n",
              "      <td>TH</td>\n",
              "      <td>TH</td>\n",
              "      <td>29453</td>\n",
              "      <td>76149.266248</td>\n",
              "      <td>46696.266248</td>\n",
              "      <td>158.545025</td>\n",
              "    </tr>\n",
              "    <tr>\n",
              "      <th>1037</th>\n",
              "      <td>2023</td>\n",
              "      <td>0</td>\n",
              "      <td>Data Engineer</td>\n",
              "      <td>SE</td>\n",
              "      <td>US</td>\n",
              "      <td>US</td>\n",
              "      <td>65000</td>\n",
              "      <td>165363.609413</td>\n",
              "      <td>100363.609413</td>\n",
              "      <td>154.405553</td>\n",
              "    </tr>\n",
              "    <tr>\n",
              "      <th>1852</th>\n",
              "      <td>2022</td>\n",
              "      <td>100</td>\n",
              "      <td>Data Engineer</td>\n",
              "      <td>SE</td>\n",
              "      <td>US</td>\n",
              "      <td>US</td>\n",
              "      <td>63000</td>\n",
              "      <td>159208.955296</td>\n",
              "      <td>96208.955296</td>\n",
              "      <td>152.712627</td>\n",
              "    </tr>\n",
              "    <tr>\n",
              "      <th>1134</th>\n",
              "      <td>2023</td>\n",
              "      <td>100</td>\n",
              "      <td>Data Engineer</td>\n",
              "      <td>SE</td>\n",
              "      <td>US</td>\n",
              "      <td>US</td>\n",
              "      <td>66000</td>\n",
              "      <td>164808.301910</td>\n",
              "      <td>98808.301910</td>\n",
              "      <td>149.709548</td>\n",
              "    </tr>\n",
              "    <tr>\n",
              "      <th>3694</th>\n",
              "      <td>2021</td>\n",
              "      <td>50</td>\n",
              "      <td>Machine Learning Engineer</td>\n",
              "      <td>MI</td>\n",
              "      <td>SI</td>\n",
              "      <td>SI</td>\n",
              "      <td>24823</td>\n",
              "      <td>61308.630413</td>\n",
              "      <td>36485.630413</td>\n",
              "      <td>146.983162</td>\n",
              "    </tr>\n",
              "  </tbody>\n",
              "</table>\n",
              "</div>"
            ],
            "text/plain": [
              "      work_year  remote_ratio                           job_title  \\\n",
              "2022       2022            50       3D Computer Vision Researcher   \n",
              "3667       2021           100                      Data Scientist   \n",
              "1257       2023             0                       Data Engineer   \n",
              "3485       2021           100  Applied Machine Learning Scientist   \n",
              "3434       2022           100            Computer Vision Engineer   \n",
              "2578       2021            50                  Power BI Developer   \n",
              "3537       2021            50       3D Computer Vision Researcher   \n",
              "3696       2021             0                       Data Engineer   \n",
              "2840       2022           100                        Data Analyst   \n",
              "1695       2023             0                   Applied Scientist   \n",
              "2923       2021            50   Computer Vision Software Engineer   \n",
              "2358       2022           100                      Data Scientist   \n",
              "3664       2021             0                       Data Engineer   \n",
              "3455       2020             0                Product Data Analyst   \n",
              "1166       2023           100                      Data Scientist   \n",
              "998        2023            50             Data Science Consultant   \n",
              "1037       2023             0                       Data Engineer   \n",
              "1852       2022           100                       Data Engineer   \n",
              "1134       2023           100                       Data Engineer   \n",
              "3694       2021            50           Machine Learning Engineer   \n",
              "\n",
              "     experience_level employee_residence company_location  actual_salary  \\\n",
              "2022               SE                 CA               AL          10000   \n",
              "3667               MI                 IN               US           5679   \n",
              "1257               EN                 VN               VN          12000   \n",
              "3485               MI                 VN               US          38400   \n",
              "3434               EN                 PT               LU          10000   \n",
              "2578               EN                 IN               IN           5409   \n",
              "3537               MI                 IN               IN           5409   \n",
              "3696               MI                 IT               US          20000   \n",
              "2840               EN                 BR               BR           7799   \n",
              "1695               SE                 US               US          72000   \n",
              "2923               EN                 DK               DK          19073   \n",
              "2358               EN                 HU               HU          17684   \n",
              "3664               MI                 RO               US          26005   \n",
              "3455               MI                 HN               HN          20000   \n",
              "1166               EN                 BR               BR          19522   \n",
              "998                SE                 TH               TH          29453   \n",
              "1037               SE                 US               US          65000   \n",
              "1852               SE                 US               US          63000   \n",
              "1134               SE                 US               US          66000   \n",
              "3694               MI                 SI               SI          24823   \n",
              "\n",
              "      predicted_salary      abs_error  error_percent  \n",
              "2022     112898.115589  102898.115589    1028.981156  \n",
              "3667      37997.205349   32318.205349     569.082679  \n",
              "1257      65170.052094   53170.052094     443.083767  \n",
              "3485     196214.750587  157814.750587     410.975913  \n",
              "3434      39245.984170   29245.984170     292.459842  \n",
              "2578      21194.642662   15785.642662     291.840315  \n",
              "3537      19990.517636   14581.517636     269.578806  \n",
              "3696      69597.609391   49597.609391     247.988047  \n",
              "2840      25005.773493   17206.773493     220.627946  \n",
              "1695     225100.490073  153100.490073     212.639570  \n",
              "2923      56057.483241   36984.483241     193.910152  \n",
              "2358      51901.854678   34217.854678     193.496125  \n",
              "3664      75016.258364   49011.258364     188.468596  \n",
              "3455      56363.765047   36363.765047     181.818825  \n",
              "1166      51098.715136   31576.715136     161.749386  \n",
              "998       76149.266248   46696.266248     158.545025  \n",
              "1037     165363.609413  100363.609413     154.405553  \n",
              "1852     159208.955296   96208.955296     152.712627  \n",
              "1134     164808.301910   98808.301910     149.709548  \n",
              "3694      61308.630413   36485.630413     146.983162  "
            ]
          },
          "execution_count": 29,
          "metadata": {},
          "output_type": "execute_result"
        }
      ],
      "source": [
        "# Ваш код здесь\n",
        "from matplotlib import pyplot as plt\n",
        "import numpy as np\n",
        "import seaborn as sns\n",
        "\n",
        "# Создаем DataFrame с фактическими и предсказанными значениями\n",
        "error_analysis_df = X_test.copy()\n",
        "error_analysis_df['actual_salary'] = y_test\n",
        "error_analysis_df['predicted_salary'] = p1.predict(X_test)\n",
        "error_analysis_df['abs_error'] = np.abs(error_analysis_df['actual_salary'] - error_analysis_df['predicted_salary'])\n",
        "error_analysis_df['error_percent'] = (error_analysis_df['abs_error'] / error_analysis_df['actual_salary']) * 100\n",
        "\n",
        "# Топ-20 примеров по абсолютной ошибке\n",
        "top_errors = error_analysis_df.sort_values('error_percent', ascending=False).head(20)\n",
        "\n",
        "# Визуализация ошибок\n",
        "plt.figure(figsize=(12, 6))\n",
        "sns.scatterplot(x='actual_salary', y='predicted_salary', data=error_analysis_df, alpha=0.6, hue='experience_level')\n",
        "plt.plot([y_test.min(), y_test.max()], [y_test.min(), y_test.max()], 'r--')\n",
        "plt.title('Фактические vs Предсказанные зарплаты')\n",
        "plt.xlabel('Фактическая зарплата (USD)')\n",
        "plt.ylabel('Предсказанная зарплата (USD)')\n",
        "plt.show()\n",
        "\n",
        "# Вывод топ-20 ошибок с ключевыми признаками\n",
        "top_errors[['work_year', 'remote_ratio', 'job_title',\n",
        "            'experience_level',\n",
        "            'employee_residence', 'company_location', \n",
        "            'actual_salary', 'predicted_salary', \n",
        "            'abs_error', 'error_percent']]"
      ]
    },
    {
      "cell_type": "code",
      "execution_count": 30,
      "id": "05442d3a",
      "metadata": {},
      "outputs": [
        {
          "data": {
            "text/plain": [
              "6"
            ]
          },
          "execution_count": 30,
          "metadata": {},
          "output_type": "execute_result"
        }
      ],
      "source": [
        "# Соотношение локаций компании и сотрудника - 35%\n",
        "top_errors[top_errors['company_location'] != top_errors['employee_residence']].shape[0]  # 7 из 20"
      ]
    },
    {
      "cell_type": "code",
      "execution_count": 31,
      "id": "593306b7",
      "metadata": {},
      "outputs": [
        {
          "data": {
            "text/plain": [
              "remote_ratio\n",
              "100    8\n",
              "50     6\n",
              "0      6\n",
              "Name: count, dtype: int64"
            ]
          },
          "execution_count": 31,
          "metadata": {},
          "output_type": "execute_result"
        }
      ],
      "source": [
        "# Распределение remote_ratio в ошибках\n",
        "top_errors['remote_ratio'].value_counts()"
      ]
    },
    {
      "cell_type": "code",
      "execution_count": 32,
      "id": "e709238f",
      "metadata": {},
      "outputs": [
        {
          "data": {
            "text/plain": [
              "work_year\n",
              "2021    8\n",
              "2023    6\n",
              "2022    5\n",
              "2020    1\n",
              "Name: count, dtype: int64"
            ]
          },
          "execution_count": 32,
          "metadata": {},
          "output_type": "execute_result"
        }
      ],
      "source": [
        "# Распределение по годам\n",
        "top_errors['work_year'].value_counts()"
      ]
    },
    {
      "cell_type": "markdown",
      "id": "db2e8f8c",
      "metadata": {},
      "source": [
        "### Выводы"
      ]
    },
    {
      "cell_type": "markdown",
      "id": "AHl7Emrg8Tfj",
      "metadata": {
        "id": "AHl7Emrg8Tfj"
      },
      "source": [
        "**Ваш ответ здесь**.\n",
        "\n",
        "Изучим Топ-20 примеров с наибольшей ошибкой, причем по относительной ошибке, т.к. целевая метрика - MAPE.\n",
        "\n",
        "1. Албания  \n",
        "Самая большая ошибка 1172% - уникальное наблюдение #2022, где `company_location` = 'AL' (Albania). Тут `actual_salary` = 10000, а `predicted_salary` = 127256. Интересно то, что для Албании з.п. $10000/год - это примерно среднее значение (источник: https://www.numbeo.com/cost-of-living/country_result.jsp?country=Albania&displayCurrency=EUR). Парадокс в том, что такую ЗП предлагают кандидату в Канаде(!), на что и среагировала модель, предсказавшую зарплату в $127256.\n",
        "Парадокс не разрешить, поэтому просто удалим это наблюдение из данных.\n",
        "    > удалить #2022 из данных\n",
        "2. Географические аномалии  \n",
        "- 35% из Топ-20 ошибок имеют несовпадение `company_location` и `employee_residence`.  \n",
        "    > добавить признак \"несоответствие локаций\"\n",
        "- 70% из Топ-20 ошибок имеют `remote_ratio` = 100 или 50.\n",
        "3. Временные аномалии  \n",
        "- 45% из Топ-20 ошибок имеют `work_year` = 2021, хотя он достаточно старый.\n",
        "    > Возможная митигация:\n",
        "    > - учесть инфляцию - привести ЗП к уровню 2023 года, а признак `work_year` удалить.\n",
        "4. Много ошибок для \"бедных\" стран.\n",
        "    > Возможная митигация:\n",
        "    > - добавление признаков - экономических характеристик страны кандидата (например, уровня з.п., уровня жизни, ВВП на душу населения), предполагая, что предлагаемая ЗП должна быть откалибрована по уровню ЗП в стране найма.\n",
        "    > - добавление весов обратно пропоциональных частоте появления страны в данных (в CatBoost - sample_weight) \n",
        "    > - суперсемплинг для редких стран\n",
        "5. Ошибки для редких должностей\n",
        "    > Возможная митигация:\n",
        "    > - группировка редких должностей в \"Other\".\n",
        "    > - суперсемплинг для редких должностей\n",
        "    > - добавление весов обратно пропоциональных частоте появления должности в данных\n",
        " \n",
        "\n",
        "**Стратегии улучшения модели.**\n",
        "1. добавить бинарные признаки для наблюдений с комбинациями:\n",
        "   * удаленка и низкий experience_level \n",
        "   * несовпадение локаций + экзотическая локация\n",
        "2. Добавить иерархические признаки:\n",
        "   * для `job_title`: блок-функция-уровень\n",
        "   * для `company_location`: страна, регион, ВВП/на душу, уровень ЗП, уровень расходов\n",
        "   * для `employee_residence`: -//-\n",
        "3. Для редких должностей:\n",
        "   * Semantic embedding названий должностей (например, через Word2Vec)\n",
        "   * группировка в \"Other\"\n",
        "4. Для редких стран:\n",
        "   * добавление признаков - экономических характеристик страны найма (уровень з.п., уровень жизни(?), ВВП на душу населения), предполагая, что предлагаемая ЗП должна быть откалибрована по уровню ЗП в стране найма.\n",
        "   * добавление весов обратно пропоциональных частоте появления страны в данных"
      ]
    },
    {
      "cell_type": "markdown",
      "id": "0bb42f2e",
      "metadata": {
        "id": "0bb42f2e"
      },
      "source": [
        "## **Задание 11 (0.5 балла)**\n",
        "\n",
        "Придумайте признаки для улучшения качества модели на основе предыдущего пункта. Как вам кажется какими признаками можно улучшить качетсво модели? Реализуйте признаки и проверьте улучшилось ли качество модели.\n",
        "\n",
        "**Примечание:**\n",
        "Полный балл за задание ставится даже при отсутствии улучшения качества модели, важно попробовать проверить свои гипотезы и сделать выводы."
      ]
    },
    {
      "cell_type": "code",
      "execution_count": 33,
      "id": "d4ec7b37",
      "metadata": {},
      "outputs": [],
      "source": [
        "# признаки связанные с локацией\n",
        "def add_location_features(df):\n",
        "    # Признак несоответствия локаций\n",
        "    df['location_mismatch'] = (df['company_location'] != df['employee_residence']).astype(int)\n",
        "    \n",
        "    # Признак удаленной работы для junior\n",
        "    df['remote_junior'] = ((df['remote_ratio'] >= 50) & \n",
        "                          (df['experience_level'] == 'EN')).astype(int)\n",
        "    \n",
        "    return df\n"
      ]
    },
    {
      "cell_type": "code",
      "execution_count": 34,
      "id": "mBuGEyH68lx2",
      "metadata": {
        "id": "mBuGEyH68lx2"
      },
      "outputs": [],
      "source": [
        "# признаки связанные с должностью\n",
        "def process_job_titles(df):\n",
        "    # Основная роль (role)\n",
        "    role_mapping = {\n",
        "        \"DEVOPS\": ['devops'],\n",
        "        \"MANAGER\": ['manager'],\n",
        "        \"ARCHITECT\": ['architect', 'strategist'],\n",
        "        \"TECHICIAN\": ['technician'],\n",
        "        'SCIENTIST': ['science', 'scientist'],\n",
        "        'RESEARCH': ['researcher', 'research'],\n",
        "        \"OPERATIONS\": ['data operations', 'mlops'],\n",
        "        'ANALYST': ['analyst', 'analytics'],\n",
        "        'ENGINEER': ['engineer', 'developer', 'programmer', 'data management', 'etl', 'infrastructure', 'azure', 'cloud', 'modeler',\n",
        "                         'data lead', 'data specialist', 'head of data'],\n",
        "        \"QUALITY\": ['data quality', 'data quality analyst', 'data quality engineer'],\n",
        "        'OTHER': []\n",
        "    }\n",
        "    \n",
        "    # Уровень должности (level)\n",
        "    level_mapping = {\n",
        "        'JUNIOR': ['junior'],\n",
        "        'HEAD': ['head', 'director', 'manager', 'principal', 'staff'],\n",
        "        'LEAD': ['lead'],\n",
        "        'SPECIALIST': ['specialist', 'consultant', 'architect'],\n",
        "        'REGULAR': []  # все остальные\n",
        "    }\n",
        "    \n",
        "    # Специализация (domain)\n",
        "    domain_mapping = {\n",
        "        'FINANCE': ['financial', 'finance'],\n",
        "        'MARKETING': ['marketing'],\n",
        "        'PRODUCT': ['product'],\n",
        "        'CLOUD': ['azure', 'cloud'],\n",
        "        'QA': ['quality', 'data quality'],\n",
        "        'BI': ['bi', 'business intelligence'],\n",
        "        'ML': ['ml', 'machine learning', 'deep learning', 'ai', 'computer vision', 'nlp', 'mlops'],\n",
        "        'DATA': ['big data', 'data', 'etl'],\n",
        "        'GENERAL': []  # все остальные\n",
        "    }\n",
        "    \n",
        "    def get_category(title, mapping):\n",
        "        title = title.lower()\n",
        "        for category, keywords in mapping.items():\n",
        "            if any(keyword in title for keyword in keywords):\n",
        "                return category\n",
        "        return list(mapping.keys())[-1]  # возвращаем последнюю категорию как дефолтную\n",
        "    \n",
        "    # Создаем новые столбцы\n",
        "    df['job_role'] = df['job_title'].apply(lambda x: get_category(x, role_mapping))\n",
        "    df['job_level'] = df['job_title'].apply(lambda x: get_category(x, level_mapping))\n",
        "    df['job_domain'] = df['job_title'].apply(lambda x: get_category(x, domain_mapping))\n",
        "    \n",
        "    # Создаем комбинированные признаки\n",
        "    df['level_domain_role'] = df['job_level'] + '_' +  df['job_domain']+ '_' + df['job_role']\n",
        "    \n",
        "    return df\n"
      ]
    },
    {
      "cell_type": "code",
      "execution_count": 35,
      "id": "c419d394",
      "metadata": {},
      "outputs": [],
      "source": [
        "# Загружаем данные из World Bank\n",
        "# url = \"https://api.worldbank.org/v2/en/indicator/NY.GDP.PCAP.CD?downloadformat=csv\"\n",
        "# скачается ZIP-архив, в котором лежит CSV-файл\n",
        "# первые 4 строки - не данные, а описание, поэтому пропускаем\n",
        "gdp_data = pd.read_csv('./API_NY.GDP.PCAP.CD_DS2_en_csv_v2_62/API_NY.GDP.PCAP.CD_DS2_en_csv_v2_62.csv', skiprows=4)\n",
        "\n",
        "# Берем последние 4 года (самый последний стобец - пустой)\n",
        "years = gdp_data.columns[-5:-1]\n",
        "gdp_by_country = gdp_data.set_index('Country Name')[years]\n",
        "# Очищаем от NaN значений\n",
        "gdp_by_country = gdp_by_country.dropna()\n",
        "\n",
        "# # Создаем словарь для соответствия названий стран и кодов\n",
        "# country_code_map = {name: code for code, name in zip(iso3166.keys(), iso3166.values())}\n",
        "\n",
        "# # Добавляем столбец с кодами стран\n",
        "# gdp_by_country['Country Code'] = gdp_by_country.index.map(country_code_map)\n"
      ]
    },
    {
      "cell_type": "code",
      "execution_count": 36,
      "id": "bde93c30",
      "metadata": {},
      "outputs": [],
      "source": [
        "# Экономические признаки\n",
        "def add_economic_features(df):\n",
        "    # Создаем словарь для соответствия кодов стран (развернутый iso3166)\n",
        "    country_code_map = {code: name for code, name in iso3166.items()}\n",
        "    \n",
        "    # Добавляем GDP per capita для каждой строки\n",
        "    def get_gdp(row, gdp_data):\n",
        "        country_name = country_code_map.get(row['employee_residence'])\n",
        "        if country_name and country_name in gdp_data.index:\n",
        "            return gdp_data.loc[country_name, str(row['work_year'])]\n",
        "        return None\n",
        "        \n",
        "    df['GDP_per_capita'] = df.apply(lambda row: get_gdp(row, gdp_by_country), axis=1)\n",
        "    \n",
        "    # Заполняем пропущенные значения медианой\n",
        "    df['GDP_per_capita'] = df['GDP_per_capita'].fillna(df['GDP_per_capita'].median())\n",
        "    return df\n"
      ]
    },
    {
      "cell_type": "code",
      "execution_count": 37,
      "id": "dfaa389a",
      "metadata": {},
      "outputs": [],
      "source": [
        "# Применяем все улучшения\n",
        "df_improved = (df.pipe(add_location_features)\n",
        "                .pipe(process_job_titles)\n",
        "                .pipe(add_economic_features)\n",
        "            )"
      ]
    },
    {
      "cell_type": "markdown",
      "id": "c69c2178",
      "metadata": {},
      "source": [
        "#### Проверяем улучшение качества"
      ]
    },
    {
      "cell_type": "code",
      "execution_count": 38,
      "id": "9dfc93a2",
      "metadata": {},
      "outputs": [
        {
          "name": "stdout",
          "output_type": "stream",
          "text": [
            "MAPE: 0.41679081806706264\n",
            "RMSE: 51858.429281368815\n"
          ]
        },
        {
          "name": "stderr",
          "output_type": "stream",
          "text": [
            "/Users/ykonov/Documents/code/hse_ai_24/hse-ai24-ml/.venv/lib/python3.12/site-packages/sklearn/preprocessing/_encoders.py:246: UserWarning: Found unknown categories in columns [2, 3, 4, 9] during transform. These unknown categories will be encoded as all zeros\n",
            "  warnings.warn(\n"
          ]
        }
      ],
      "source": [
        "X_train_improved, X_test_improved, y_train, y_test = train_test_split(\n",
        "    df_improved, y, test_size=0.2, random_state=42\n",
        ")\n",
        "\n",
        "cols_cat_improved = df_improved.select_dtypes(include=['object']).columns\n",
        "\n",
        "# модель с новыми признаками\n",
        "p_ohe_2 = ColumnTransformer([\n",
        "    ('encode', OneHotEncoder(sparse_output=False, handle_unknown='ignore', drop='first'), cols_cat_improved),\n",
        "], remainder='passthrough')\n",
        "\n",
        "p1_improved = Pipeline([\n",
        "    ('ohe', p_ohe_2),\n",
        "    ('boost', CatBoostRegressor(verbose=False, random_state=42))\n",
        "])\n",
        "\n",
        "p1_improved.fit(X_train_improved, y_train)\n",
        "predictions = p1_improved.predict(X_test_improved)\n",
        "\n",
        "_ = evaluate_model(y_test, predictions)"
      ]
    },
    {
      "cell_type": "markdown",
      "id": "4bd5d3fd",
      "metadata": {},
      "source": [
        "#### Вывод"
      ]
    },
    {
      "cell_type": "markdown",
      "id": "RLhwEaZS8oHr",
      "metadata": {
        "id": "RLhwEaZS8oHr"
      },
      "source": [
        "Сравнение метрик качества CatBoost + OHE без дополнительных признаков показывал\n",
        "\n",
        "| # | MAPE  | RMSE  | Прим.                                       |\n",
        "|---|-------|-------|---------------------------------------------|\n",
        "| 1 | 0.42  | 51672 | CatBoost + OHE без дополнительных признаков |\n",
        "| 2 | 0.42  | 51858 | CatBoost + OHE с дополнительными признаками |\n",
        "\n",
        "Стало даже незначительно хуже по RMSE.  \n",
        "**Не будем использовать дополнительные признаки.**"
      ]
    },
    {
      "cell_type": "markdown",
      "id": "3578292c",
      "metadata": {
        "id": "3578292c"
      },
      "source": [
        "## **Задание 12 (1 балл)**\n",
        "\n",
        "Поупражняемся с разными бустингами!\n",
        "\n",
        "- Используйте catboost.\n",
        "- Обучите модель — на полном наборе данных с категориальными признаками.\n",
        "- Подберите оптимальные гиперпараметры.\n",
        "- Оцените качество итоговой модели, скорость обучения и скорость предсказания.\n",
        "\n",
        "\n",
        "**Примечание:**\n",
        "Замерять скорость = смотреть, как долго исполняется код."
      ]
    },
    {
      "cell_type": "code",
      "execution_count": null,
      "id": "RfwW-oGc9KNg",
      "metadata": {
        "id": "RfwW-oGc9KNg"
      },
      "outputs": [],
      "source": []
    },
    {
      "cell_type": "markdown",
      "id": "3bfc4e05",
      "metadata": {
        "id": "3bfc4e05"
      },
      "source": [
        "## **Задание 13 (1 балл)**\n",
        "\n",
        "- Используйте xgboost.\n",
        "- Обучите модель — на полном наборе данных с категориальными признаками. Стратегию кодирования оставьте ту, что показала себя лучшей в пункте 9.\n",
        "- Подберите оптимальные гиперпараметры.\n",
        "- Оцените качество итоговой модели, скорость обучения и скорость предсказания.\n",
        "\n"
      ]
    },
    {
      "cell_type": "code",
      "execution_count": null,
      "id": "e7Zi-0hk9bW4",
      "metadata": {
        "id": "e7Zi-0hk9bW4"
      },
      "outputs": [],
      "source": []
    },
    {
      "cell_type": "markdown",
      "id": "a881ad9d",
      "metadata": {
        "id": "a881ad9d"
      },
      "source": [
        "## **Задание 14 (1 балл)**\n",
        "\n",
        "- Используйте lgbm.\n",
        "- Обучите модель — на полном наборе данных с категориальными признаками. Стратегию кодирования оставьте ту, что показала себя лучшей в пункте 9.\n",
        "- Подберите оптимальные гиперпараметры.\n",
        "- Оцените качество итоговой модели, скорость обучения и скорость предсказания.\n"
      ]
    },
    {
      "cell_type": "code",
      "execution_count": null,
      "id": "weXtNlM49fYL",
      "metadata": {
        "id": "weXtNlM49fYL"
      },
      "outputs": [],
      "source": []
    },
    {
      "cell_type": "markdown",
      "id": "7c56d873",
      "metadata": {
        "id": "7c56d873"
      },
      "source": [
        "## **Задание 15 (0.4 балла)**"
      ]
    },
    {
      "cell_type": "markdown",
      "id": "MoU-3vCs9ufO",
      "metadata": {
        "id": "MoU-3vCs9ufO"
      },
      "source": [
        "Сделайте выводы про модели и решение задачи.\n",
        "\n",
        "- Какая из моделей показала лучший результат по качеству?\n",
        "- Какая из моделей показала лучший результат по качеству, скорости обучения и скорости предсказания в совокупности?\n",
        "- Насколько бустинги превзошли линейную модель? Целесообразно ли их использование?"
      ]
    },
    {
      "cell_type": "markdown",
      "id": "-w29KZ-r-Kaf",
      "metadata": {
        "id": "-w29KZ-r-Kaf"
      },
      "source": [
        "# **Часть 2: кластеризация типов движений**\n",
        "**Количество баллов:** 3"
      ]
    },
    {
      "cell_type": "markdown",
      "id": "6b3HIYxb-lYV",
      "metadata": {
        "id": "6b3HIYxb-lYV"
      },
      "source": [
        "В этой части будем работать с набором данных Samsung Human Activity Recognition. Набор данных заранее предобработан и снова доступен вам по [ссылке](https://drive.google.com/file/d/16ISu7lMumt5rbticbOggHMRjwTGBETtO/view?usp=sharing).\n",
        "\n",
        "### **Постановка задачи**\n",
        "Данные поступают с акселерометров и гироскопов мобильных телефонов Samsung Galaxy S2. Вид активности человека с телефоном в кармане известен:\n",
        "- 1 - ходьба,\n",
        "- 2 - подъем вверх по лестнице,\n",
        "- 3 - спуск по лестнице,\n",
        "- 4 - сидение,\n",
        "- 5 - стояние,\n",
        "- 6 - лежание\n",
        "\n",
        "\n",
        "Представим, что вид активности нам неизвестнен, и попробуем кластеризовать людей чисто на основе имеющихся признаков."
      ]
    },
    {
      "cell_type": "code",
      "execution_count": null,
      "id": "G-GfIOJL9ty4",
      "metadata": {
        "id": "G-GfIOJL9ty4"
      },
      "outputs": [],
      "source": [
        "import numpy as np\n",
        "import seaborn as sns\n",
        "from matplotlib import pyplot as plt\n",
        "\n",
        "\n",
        "plt.style.use(['seaborn-darkgrid'])\n",
        "plt.rcParams['figure.figsize'] = (12, 9)\n",
        "plt.rcParams['font.family'] = 'DejaVu Sans'\n",
        "\n",
        "%matplotlib inline\n",
        "%config InlineBackend.figure_format=\"retina\"\n",
        "\n",
        "RANDOM_STATE = 42"
      ]
    },
    {
      "cell_type": "markdown",
      "id": "huMweUyCDtq0",
      "metadata": {
        "id": "huMweUyCDtq0"
      },
      "source": [
        "### **Задание 16 (0.1 балл)**\n",
        "Прочитайте данные из файлов и объедните тестовую и обучающие выборки.\n",
        "\n",
        "В файлах ```..._labels``` лежат настоящие классы. Их также объедините, но в отдельную переменную (например ```y```). Данный вектор для кластеризации нам не нужен, но мы будем смотреть по нему метрики."
      ]
    },
    {
      "cell_type": "code",
      "execution_count": null,
      "id": "kOl0AkxMDwgs",
      "metadata": {
        "id": "kOl0AkxMDwgs"
      },
      "outputs": [],
      "source": [
        "# Ваш код здесь\n",
        "X =\n",
        "y ="
      ]
    },
    {
      "cell_type": "code",
      "execution_count": null,
      "id": "5Lm9We-jDxFV",
      "metadata": {
        "id": "5Lm9We-jDxFV"
      },
      "outputs": [],
      "source": [
        "# убедимся, что y содержит нужные нам классы\n",
        "np.unique(y)"
      ]
    },
    {
      "cell_type": "markdown",
      "id": "RKVnDJ1ODzt1",
      "metadata": {
        "id": "RKVnDJ1ODzt1"
      },
      "source": [
        "### **Задание 17 (0.2 балла)**\n",
        "\n",
        "Так как мы будем пользоваться метрическими алгоритмами, отмасштабируйте выборку с помощью ```StandardScaler```."
      ]
    },
    {
      "cell_type": "code",
      "execution_count": null,
      "id": "JboUmITvD0N3",
      "metadata": {
        "id": "JboUmITvD0N3"
      },
      "outputs": [],
      "source": [
        "# Ваш код здесь\n",
        "scaler =\n",
        "X_scaled ="
      ]
    },
    {
      "cell_type": "markdown",
      "id": "ssHPKscBD0kE",
      "metadata": {
        "id": "ssHPKscBD0kE"
      },
      "source": [
        "### **Задание 18 (0.5 балла)**\n",
        "\n",
        "Данных много и размерность большая. Чтобы ускорить рещение задачи с точки зрения построения модели, мы используем методы **понижения размерности**.\n",
        "\n",
        "- Понизьте размерность с помощью `PCA`, оставляя столько компонент, сколько нужно для того, чтобы объяснить как минимум 90% дисперсии отмасштабированных данных. Вам пригодится [документация](https://scikit-learn.org/stable/modules/generated/sklearn.decomposition.PCA.html)\n",
        "\n",
        "**Примечание:**\n",
        "Для этого сумма значений массива pca.explained_variance_ratio_ должна быть не меньше 0.9.  ```random_state``` используйте из объявленной в самом начале переменной ```RANDOM_STATE``` (42)."
      ]
    },
    {
      "cell_type": "code",
      "execution_count": null,
      "id": "Qb4ezLYfD007",
      "metadata": {
        "id": "Qb4ezLYfD007"
      },
      "outputs": [],
      "source": [
        "# Ваш код здесь\n",
        "pca =\n",
        "X_pca ="
      ]
    },
    {
      "cell_type": "markdown",
      "id": "JAJ6WxDaD9oC",
      "metadata": {
        "id": "JAJ6WxDaD9oC"
      },
      "source": [
        "### **Задание 19 (0.2 балла)**\n",
        "\n",
        "Визуализируйте данные в проекции на первые две главные компоненты. Используйте ```cmap=\"virdis\"``` или любой другой, с которым будет красиво!\n",
        "\n",
        "Можете раскрасить кластеры."
      ]
    },
    {
      "cell_type": "code",
      "execution_count": null,
      "id": "JHboofo-D-KP",
      "metadata": {
        "id": "JHboofo-D-KP"
      },
      "outputs": [],
      "source": [
        "# Ваш код здесь\n",
        "plt.scatter()"
      ]
    },
    {
      "cell_type": "markdown",
      "id": "BJU8Dc99D-T8",
      "metadata": {
        "id": "BJU8Dc99D-T8"
      },
      "source": [
        "### **Задание 19. (0.5 балла)**\n",
        "\n",
        "Разберёмся с `KMeans`, [doc](https://scikit-learn.org/stable/modules/generated/sklearn.cluster.KMeans.html)\n",
        "\n",
        "- Сделайте кластеризацию данных методом `KMeans`, обучив модель на данных со сниженной за счет `PCA` размерностью. Нужно искать 6 кластеров (изначально у нас 6 классов). Засеките время обучения и время инференса.\n",
        "\n",
        "**Параметры обучения:**\n",
        "\n",
        "```n_clusters = 6``` (число уникальных меток целевого класса = 6)\n",
        "\n",
        "```n_init = 100```\n",
        "\n",
        "```random_state = RANDOM_STATE``` (для воспроизводимости результата, не забывайте указывать его и дальше!)"
      ]
    },
    {
      "cell_type": "code",
      "execution_count": null,
      "id": "uc4uXeV3D-a9",
      "metadata": {
        "id": "uc4uXeV3D-a9"
      },
      "outputs": [],
      "source": [
        "# Ваш код здесь"
      ]
    },
    {
      "cell_type": "markdown",
      "id": "mXk40mmZD-iI",
      "metadata": {
        "id": "mXk40mmZD-iI"
      },
      "source": [
        "### **Задание 20 (0.2 балла)**\n",
        "\n",
        "- Визуализируйте данные в проекции на первые две главные компоненты.\n",
        "- Раскрасьте точки в соответствии с полученными метками кластеров."
      ]
    },
    {
      "cell_type": "code",
      "execution_count": null,
      "id": "LN0y9SuMD-oQ",
      "metadata": {
        "id": "LN0y9SuMD-oQ"
      },
      "outputs": [],
      "source": [
        "# Ваш код здесь"
      ]
    },
    {
      "cell_type": "markdown",
      "id": "MRuNPtcvEIcT",
      "metadata": {
        "id": "MRuNPtcvEIcT"
      },
      "source": [
        "### **Задание 21 (0.3 балла)**\n",
        "\n",
        "- Выберите какие-то метрики (минимум две) из известных вам. Объясните свой выбор\n",
        "- Выведите на экран значения метрик качества, сделайте вывод о них и используйте их далее."
      ]
    },
    {
      "cell_type": "code",
      "execution_count": null,
      "id": "hRUnZPlPEJm2",
      "metadata": {
        "id": "hRUnZPlPEJm2"
      },
      "outputs": [],
      "source": [
        "# Ваш код здесь"
      ]
    },
    {
      "cell_type": "markdown",
      "id": "F_-yup0yEJty",
      "metadata": {
        "id": "F_-yup0yEJty"
      },
      "source": [
        "**Ваш вывод здесь**"
      ]
    },
    {
      "cell_type": "markdown",
      "id": "yfytg7xxEQSY",
      "metadata": {
        "id": "yfytg7xxEQSY"
      },
      "source": [
        "### **Задание 22 (0.7 баллов)**\n",
        "\n",
        "Теперь попробуем сделать кластеризацию с помощью `AgglomerativeClustering`, [doc](https://scikit-learn.org/stable/modules/generated/sklearn.cluster.AgglomerativeClustering.html)\n",
        "\n",
        "- Засеките время обучения и время инференса. После кластеризации также:\n",
        "  - Вновь визуализируйте данные с раскраской по полученным меткам\n",
        "  - Выведите метрики. Засеките время обучения и время инференса. Сравните с ```KMeans```.\n",
        "\n",
        "Ответьте на следующие вопросы:\n",
        "* Стало ли лучше?\n",
        "* Почему?"
      ]
    },
    {
      "cell_type": "code",
      "execution_count": null,
      "id": "76W4gKbnEOpG",
      "metadata": {
        "id": "76W4gKbnEOpG"
      },
      "outputs": [],
      "source": [
        "# Ваш код здесь"
      ]
    },
    {
      "cell_type": "markdown",
      "id": "fD8890szET9F",
      "metadata": {
        "id": "fD8890szET9F"
      },
      "source": [
        "**Ваш вывод здесь**"
      ]
    },
    {
      "cell_type": "markdown",
      "id": "ToO1wo75EUo5",
      "metadata": {
        "id": "ToO1wo75EUo5"
      },
      "source": [
        "### **Задание 23 (0.3 балла)**\n",
        "Для самой успешной из полученных кластеризаций попробуйте дать интерпретацию кластеров. Опишите характеристики объектов, попавших в каждый кластер. Для этого можете ответить на следующие вопросы:\n",
        "\n",
        "* Похожи ли объекты внутри каждого кластера на определенный тип активности человека?\n",
        "* В каких кластерах смешано несколько типов активности? С чем, на ваш взгляд, это может быть связано?\n",
        "* Качественная ли получилась кластеризация? На основании чего вы можете сделать такой вывод?"
      ]
    },
    {
      "cell_type": "markdown",
      "id": "XNfJxVTCEYzd",
      "metadata": {
        "id": "XNfJxVTCEYzd"
      },
      "source": [
        "**Ваш вывод здесь**"
      ]
    },
    {
      "cell_type": "markdown",
      "id": "DMe3tIiaEeTt",
      "metadata": {
        "id": "DMe3tIiaEeTt"
      },
      "source": [
        "## **Бонус-задание (1 балл)**\n",
        "![RedPanda](http://imgur.com/6Aa52Lm.png)\n",
        "\n",
        "Алгоритмы кластеризации могут применяться в самых разных задачах. Например, в анализе изображений есть задача разделения изображения на семантические компоненты, которую можно решать в том числе с помощью алгоритмов кластеризации. В бонусе предлагаем вам попрактиковаться именно в этом на чудесной утке и совах (```duck.jpg``` и ```owls.jpg```)"
      ]
    },
    {
      "cell_type": "markdown",
      "id": "XljM79OVEvH1",
      "metadata": {
        "id": "XljM79OVEvH1"
      },
      "source": [
        "### **(0.1 балл)**\n",
        "\n",
        "- Откройте изображения, после чего визуализируйте их с помощью ```plt.imshow()```"
      ]
    },
    {
      "cell_type": "code",
      "execution_count": null,
      "id": "MDCgEqXxEis1",
      "metadata": {
        "id": "MDCgEqXxEis1"
      },
      "outputs": [],
      "source": [
        "from PIL import Image\n",
        "# or\n",
        "#import cv2"
      ]
    },
    {
      "cell_type": "markdown",
      "id": "cR_AuC9RFANW",
      "metadata": {
        "id": "cR_AuC9RFANW"
      },
      "source": [
        "### **(0.4 балла)**\n",
        "\n",
        "Для каждого изображения, используя кластеризацию ```KMeans```, выделите компоненты, охарактеризовав каждый пиксель следующим образом: $$\\psi_i = [\\lambda x_i, \\lambda y_i, r_i, g_i, b_i]$$\n",
        " где\n",
        "- $x_i$ и $y_i$ — координаты пикселя,\n",
        "- $r_i, g_i, b_i$ — его цвет,\n",
        "- $\\lambda$ — параметр, выражающий важность пространственной связности перед цветовой похожестью.\n",
        "\n",
        "Примените полученную функцию, взяв следующие $\\lambda$: 0.3 и 1.5 для ```duck.jpg``` и ```owls.jpg``` (или другие, но тогда с вас красивые результаты :) )\n",
        "\n",
        "**Примечание:**\n",
        "Число кластеров подберите разумным образом на свой вкус (в качестве нулевого приближения можно взять 3)"
      ]
    },
    {
      "cell_type": "code",
      "execution_count": null,
      "id": "4qiynyTXFSNU",
      "metadata": {
        "id": "4qiynyTXFSNU"
      },
      "outputs": [],
      "source": [
        "def find_components(image, lmbd, n_clusters):\n",
        "    #your code here"
      ]
    },
    {
      "cell_type": "markdown",
      "id": "Zja1t8nHFaS2",
      "metadata": {
        "id": "Zja1t8nHFaS2"
      },
      "source": [
        "### **(0.4 балла)**\n",
        "\n",
        "Попробуйте выделить сегменты при помощи [спектральной кластеризации](http://scikit-learn.org/stable/modules/clustering.html#spectral-clustering). Обратите внимание на [пример в sklearn](http://scikit-learn.org/0.16/auto_examples/cluster/plot_lena_segmentation.html).\n",
        "\n",
        "\n",
        "**Примечание:**\n",
        "\n",
        "Для ускорения работы алгоритма рекомендуется привести изображение к серому цвету. При необходимости можно сжать изображения в 2 раза.\n",
        "\n",
        "**Подсказка:**```skimage``` с его ```color``` и ```transform``` в этом помогут :)\n",
        "\n",
        "Или же воспользуйтесь аналогичными средствами ```PIL``` или ```cv2```"
      ]
    },
    {
      "cell_type": "code",
      "execution_count": null,
      "id": "hu10O8GnFluE",
      "metadata": {
        "id": "hu10O8GnFluE"
      },
      "outputs": [],
      "source": [
        "def spectral_segmentation(image, n_clusters, beta, eps):\n",
        "    #your code here"
      ]
    },
    {
      "cell_type": "markdown",
      "id": "XWoIIsqiFwrp",
      "metadata": {
        "id": "XWoIIsqiFwrp"
      },
      "source": [
        "### **(0.1 балл)**\n",
        "Визуализируйте результаты сегментации (аналогично рисунку в начале задания 2) для обоих методов."
      ]
    },
    {
      "cell_type": "code",
      "execution_count": null,
      "id": "S7B57-WbF4Ie",
      "metadata": {
        "id": "S7B57-WbF4Ie"
      },
      "outputs": [],
      "source": []
    },
    {
      "cell_type": "markdown",
      "id": "xrgZWcvtF95o",
      "metadata": {
        "id": "xrgZWcvtF95o"
      },
      "source": [
        "**Спасибо! Вы — человек — большой трудяга!**\n",
        "\n",
        "Успокоительный котобонус :)"
      ]
    },
    {
      "cell_type": "markdown",
      "id": "Qx3-EPTBPEC-",
      "metadata": {
        "id": "Qx3-EPTBPEC-"
      },
      "source": [
        "![photo_2025-01-17 15.20.31 (1).jpeg](data:image/jpeg;base64,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)"
      ]
    }
  ],
  "metadata": {
    "colab": {
      "include_colab_link": true,
      "provenance": []
    },
    "kernelspec": {
      "display_name": ".venv",
      "language": "python",
      "name": "python3"
    },
    "language_info": {
      "codemirror_mode": {
        "name": "ipython",
        "version": 3
      },
      "file_extension": ".py",
      "mimetype": "text/x-python",
      "name": "python",
      "nbconvert_exporter": "python",
      "pygments_lexer": "ipython3",
      "version": "3.12.8"
    }
  },
  "nbformat": 4,
  "nbformat_minor": 5
}
