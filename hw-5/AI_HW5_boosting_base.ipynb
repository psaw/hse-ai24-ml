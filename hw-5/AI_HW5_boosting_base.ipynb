{
  "cells": [
    {
      "cell_type": "markdown",
      "metadata": {
        "colab_type": "text",
        "id": "view-in-github"
      },
      "source": [
        "<a href=\"https://colab.research.google.com/github/Murcha1990/ML_AI24/blob/main/Hometasks/Base/AI_HW5_boosting_base.ipynb\" target=\"_parent\"><img src=\"https://colab.research.google.com/assets/colab-badge.svg\" alt=\"Open In Colab\"/></a>"
      ]
    },
    {
      "cell_type": "markdown",
      "id": "047674ee",
      "metadata": {
        "id": "047674ee"
      },
      "source": [
        "# **Домашняя работа: прогнозирование заработной платы и кластеризация типов движений**"
      ]
    },
    {
      "cell_type": "markdown",
      "id": "d8461109",
      "metadata": {
        "id": "d8461109"
      },
      "source": [
        "### **Постановка задачи:**\n",
        "\n",
        "В этой работе две части:\n",
        "\n",
        "*   В первой части вам предстоит построить алгоритм на основе бустинга для прогнозирования зарплаты\n",
        "*   Во второй части вам предстоит кластеризовать типы движений по имеющимся данным с акселерометров и гироскопов\n",
        "\n",
        "### **Оценивание:**\n",
        "\n",
        "- Как всегда оцениваются как код, так и ответы на вопросы. Если нет одного и/или другого, то часть баллов за соответствующее задание без колебаний снимается.\n",
        "- Брать код из открытых источников позволительно. Следование культуре цитирования **обязательно.**\n",
        "\n",
        "### **Баллы:**\n",
        "\n",
        "Суммарно за задание можно получить 10 основных и 1 бонусный балл.\n",
        "\n",
        "Оценка за ДЗ = min{ваш балл, 10}\n",
        "\n",
        "**Мягкий дедлайн: 16 февраля 23:59**\n",
        "\n",
        "**Интересной вам работы!**\n"
      ]
    },
    {
      "cell_type": "markdown",
      "id": "60JI9WQfyu5e",
      "metadata": {
        "id": "60JI9WQfyu5e"
      },
      "source": [
        "# **Часть 1. Прогнозирование заработной платы при помощи бустинга**\n",
        "\n",
        "**Количество баллов:** 7"
      ]
    },
    {
      "cell_type": "markdown",
      "id": "1651e8dd",
      "metadata": {
        "id": "1651e8dd"
      },
      "source": [
        "## **Постановка задачи:**\n",
        "\n",
        "Данные выгружены и лежат в файле `ds_salary.csv`. Вам доступны описания признаков и значения целевой переменной.\n",
        "\n",
        "**Ваша задача:** построение модели бустинга и оценка данной модели.\n",
        "\n",
        "## **Описание даных**\n",
        "\n",
        "- work_year: год, в который взяты данные;\n",
        "- experience_level: уровень опыта, кодируемый как SE, MI EN или EX\n",
        "- employment_type: тип занятости (FT, PT, CT, FL)\n",
        "- job_title: название рабочей позиции в компании;\n",
        "- salary: зараплата на позиции;\n",
        "- salary_currency: валюта в которой начисляют зарплату;\n",
        "- employee_residence: страна или регион проживания сотрудника\n",
        "- remote_ratio: процент удаленки, предлагаемый в компании (0, 50, 100)\n",
        "- company_location: местоположение компании\n",
        "- company_size: размер компании, оцененный как S, M, L\n",
        "- salary_in_usd: целевая переменная\n"
      ]
    },
    {
      "cell_type": "markdown",
      "id": "NualIozb1bhS",
      "metadata": {
        "id": "NualIozb1bhS"
      },
      "source": [
        "Как всегда, загрузим набор данных."
      ]
    },
    {
      "cell_type": "code",
      "execution_count": 1,
      "id": "dbf7595c",
      "metadata": {
        "id": "dbf7595c"
      },
      "outputs": [],
      "source": [
        "import pandas as pd"
      ]
    },
    {
      "cell_type": "code",
      "execution_count": 2,
      "id": "792d14c9",
      "metadata": {
        "id": "792d14c9"
      },
      "outputs": [],
      "source": [
        "df = pd.read_csv(\"https://github.com/hse-ds/iad-intro-ds/raw/refs/heads/master/2023/homeworks/hw-08-boosting/ds_salaries.csv\")"
      ]
    },
    {
      "cell_type": "code",
      "execution_count": 3,
      "id": "02f4b285",
      "metadata": {},
      "outputs": [
        {
          "data": {
            "text/plain": [
              "(3755, 11)"
            ]
          },
          "execution_count": 3,
          "metadata": {},
          "output_type": "execute_result"
        }
      ],
      "source": [
        "df.shape"
      ]
    },
    {
      "cell_type": "code",
      "execution_count": 4,
      "id": "e22a11f3",
      "metadata": {},
      "outputs": [
        {
          "data": {
            "text/html": [
              "<div>\n",
              "<style scoped>\n",
              "    .dataframe tbody tr th:only-of-type {\n",
              "        vertical-align: middle;\n",
              "    }\n",
              "\n",
              "    .dataframe tbody tr th {\n",
              "        vertical-align: top;\n",
              "    }\n",
              "\n",
              "    .dataframe thead th {\n",
              "        text-align: right;\n",
              "    }\n",
              "</style>\n",
              "<table border=\"1\" class=\"dataframe\">\n",
              "  <thead>\n",
              "    <tr style=\"text-align: right;\">\n",
              "      <th></th>\n",
              "      <th>work_year</th>\n",
              "      <th>experience_level</th>\n",
              "      <th>employment_type</th>\n",
              "      <th>job_title</th>\n",
              "      <th>salary</th>\n",
              "      <th>salary_currency</th>\n",
              "      <th>salary_in_usd</th>\n",
              "      <th>employee_residence</th>\n",
              "      <th>remote_ratio</th>\n",
              "      <th>company_location</th>\n",
              "      <th>company_size</th>\n",
              "    </tr>\n",
              "  </thead>\n",
              "  <tbody>\n",
              "    <tr>\n",
              "      <th>0</th>\n",
              "      <td>2023</td>\n",
              "      <td>SE</td>\n",
              "      <td>FT</td>\n",
              "      <td>Principal Data Scientist</td>\n",
              "      <td>80000</td>\n",
              "      <td>EUR</td>\n",
              "      <td>85847</td>\n",
              "      <td>ES</td>\n",
              "      <td>100</td>\n",
              "      <td>ES</td>\n",
              "      <td>L</td>\n",
              "    </tr>\n",
              "    <tr>\n",
              "      <th>1</th>\n",
              "      <td>2023</td>\n",
              "      <td>MI</td>\n",
              "      <td>CT</td>\n",
              "      <td>ML Engineer</td>\n",
              "      <td>30000</td>\n",
              "      <td>USD</td>\n",
              "      <td>30000</td>\n",
              "      <td>US</td>\n",
              "      <td>100</td>\n",
              "      <td>US</td>\n",
              "      <td>S</td>\n",
              "    </tr>\n",
              "    <tr>\n",
              "      <th>2</th>\n",
              "      <td>2023</td>\n",
              "      <td>MI</td>\n",
              "      <td>CT</td>\n",
              "      <td>ML Engineer</td>\n",
              "      <td>25500</td>\n",
              "      <td>USD</td>\n",
              "      <td>25500</td>\n",
              "      <td>US</td>\n",
              "      <td>100</td>\n",
              "      <td>US</td>\n",
              "      <td>S</td>\n",
              "    </tr>\n",
              "    <tr>\n",
              "      <th>3</th>\n",
              "      <td>2023</td>\n",
              "      <td>SE</td>\n",
              "      <td>FT</td>\n",
              "      <td>Data Scientist</td>\n",
              "      <td>175000</td>\n",
              "      <td>USD</td>\n",
              "      <td>175000</td>\n",
              "      <td>CA</td>\n",
              "      <td>100</td>\n",
              "      <td>CA</td>\n",
              "      <td>M</td>\n",
              "    </tr>\n",
              "    <tr>\n",
              "      <th>4</th>\n",
              "      <td>2023</td>\n",
              "      <td>SE</td>\n",
              "      <td>FT</td>\n",
              "      <td>Data Scientist</td>\n",
              "      <td>120000</td>\n",
              "      <td>USD</td>\n",
              "      <td>120000</td>\n",
              "      <td>CA</td>\n",
              "      <td>100</td>\n",
              "      <td>CA</td>\n",
              "      <td>M</td>\n",
              "    </tr>\n",
              "  </tbody>\n",
              "</table>\n",
              "</div>"
            ],
            "text/plain": [
              "   work_year experience_level employment_type                 job_title  \\\n",
              "0       2023               SE              FT  Principal Data Scientist   \n",
              "1       2023               MI              CT               ML Engineer   \n",
              "2       2023               MI              CT               ML Engineer   \n",
              "3       2023               SE              FT            Data Scientist   \n",
              "4       2023               SE              FT            Data Scientist   \n",
              "\n",
              "   salary salary_currency  salary_in_usd employee_residence  remote_ratio  \\\n",
              "0   80000             EUR          85847                 ES           100   \n",
              "1   30000             USD          30000                 US           100   \n",
              "2   25500             USD          25500                 US           100   \n",
              "3  175000             USD         175000                 CA           100   \n",
              "4  120000             USD         120000                 CA           100   \n",
              "\n",
              "  company_location company_size  \n",
              "0               ES            L  \n",
              "1               US            S  \n",
              "2               US            S  \n",
              "3               CA            M  \n",
              "4               CA            M  "
            ]
          },
          "execution_count": 4,
          "metadata": {},
          "output_type": "execute_result"
        }
      ],
      "source": [
        "df.head()"
      ]
    },
    {
      "cell_type": "markdown",
      "id": "FfyDFPh62ow_",
      "metadata": {
        "id": "FfyDFPh62ow_"
      },
      "source": [
        "## **Задание 1 (0.3 балла)**\n",
        "\n",
        "Вам даны описания переменных. Проверьте, что категориальные признаки, категории которых перечислены, не имеют ошибочных значений. Для этого:\n",
        "\n",
        "- Напишите цикл, пробегающий по выбранным признакам и оценивающий, что в них нет лишних значений;"
      ]
    },
    {
      "cell_type": "code",
      "execution_count": 5,
      "id": "7In340ig3Bir",
      "metadata": {
        "id": "7In340ig3Bir"
      },
      "outputs": [
        {
          "name": "stdout",
          "output_type": "stream",
          "text": [
            "experience_level - OK\n",
            "employment_type - OK\n",
            "remote_ratio - OK\n",
            "company_size - OK\n"
          ]
        }
      ],
      "source": [
        "# Ваш код здесь\n",
        "# Создаем словарь с допустимыми значениями для каждого признака\n",
        "valid_values = {\n",
        "    'experience_level': ['SE', 'MI', 'EN', 'EX'],\n",
        "    'employment_type': ['FT', 'PT', 'CT', 'FL'],\n",
        "    'remote_ratio': [0, 50, 100],\n",
        "    'company_size': ['S', 'M', 'L']\n",
        "}\n",
        "\n",
        "# Проверяем каждый признак\n",
        "for column, valid in valid_values.items():\n",
        "    actual_values = df[column].unique()\n",
        "    invalid_values = set(actual_values) - set(valid)\n",
        "    \n",
        "    if len(invalid_values) > 0:\n",
        "        print(f'{column} - недопустимые значения: {invalid_values}')\n",
        "    else:\n",
        "        print(f'{column} - OK')"
      ]
    },
    {
      "cell_type": "markdown",
      "id": "6696e77a",
      "metadata": {
        "id": "6696e77a"
      },
      "source": [
        "## **Задание 2 (0.3 балла)**\n",
        "\n",
        "Проведите базовые шаги оценки качества данных.\n",
        "- Есть есть проблемы, устраните их;\n",
        "- Если нет проблем, кратко опишите это."
      ]
    },
    {
      "cell_type": "markdown",
      "id": "77ef48a8",
      "metadata": {},
      "source": [
        "#### Пропуски"
      ]
    },
    {
      "cell_type": "code",
      "execution_count": 6,
      "id": "tGEbLm0x4iax",
      "metadata": {
        "id": "tGEbLm0x4iax"
      },
      "outputs": [
        {
          "data": {
            "text/plain": [
              "work_year             0\n",
              "experience_level      0\n",
              "employment_type       0\n",
              "job_title             0\n",
              "salary                0\n",
              "salary_currency       0\n",
              "salary_in_usd         0\n",
              "employee_residence    0\n",
              "remote_ratio          0\n",
              "company_location      0\n",
              "company_size          0\n",
              "dtype: int64"
            ]
          },
          "execution_count": 6,
          "metadata": {},
          "output_type": "execute_result"
        }
      ],
      "source": [
        "# Ваш код здесь\n",
        "df.isnull().sum()\n"
      ]
    },
    {
      "cell_type": "markdown",
      "id": "e8885ae6",
      "metadata": {},
      "source": [
        "✅ Пропусков нет."
      ]
    },
    {
      "cell_type": "markdown",
      "id": "5d6743df",
      "metadata": {},
      "source": [
        "#### Дубликаты"
      ]
    },
    {
      "cell_type": "code",
      "execution_count": 7,
      "id": "c1b408ed",
      "metadata": {},
      "outputs": [
        {
          "name": "stdout",
          "output_type": "stream",
          "text": [
            "Количество дубликатов: 1171\n"
          ]
        }
      ],
      "source": [
        "print(\"Количество дубликатов:\", df.duplicated().sum())"
      ]
    },
    {
      "cell_type": "markdown",
      "id": "c61c432b",
      "metadata": {},
      "source": [
        "Удалим полные дубликаты"
      ]
    },
    {
      "cell_type": "code",
      "execution_count": 8,
      "id": "fd8f2083",
      "metadata": {},
      "outputs": [
        {
          "name": "stdout",
          "output_type": "stream",
          "text": [
            "Размер датасета после удаления дубликатов: (2584, 11)\n"
          ]
        }
      ],
      "source": [
        "df = df.drop_duplicates()\n",
        "print(f\"Размер датасета после удаления дубликатов: {df.shape}\")"
      ]
    },
    {
      "cell_type": "markdown",
      "id": "cc8a2959",
      "metadata": {},
      "source": [
        "#### Типы данных"
      ]
    },
    {
      "cell_type": "code",
      "execution_count": 9,
      "id": "43dc0189",
      "metadata": {},
      "outputs": [
        {
          "data": {
            "text/plain": [
              "work_year              int64\n",
              "experience_level      object\n",
              "employment_type       object\n",
              "job_title             object\n",
              "salary                 int64\n",
              "salary_currency       object\n",
              "salary_in_usd          int64\n",
              "employee_residence    object\n",
              "remote_ratio           int64\n",
              "company_location      object\n",
              "company_size          object\n",
              "dtype: object"
            ]
          },
          "execution_count": 9,
          "metadata": {},
          "output_type": "execute_result"
        }
      ],
      "source": [
        "df.dtypes"
      ]
    },
    {
      "cell_type": "markdown",
      "id": "92692caf",
      "metadata": {},
      "source": [
        "✅ Типы данных корректны.  \n",
        "На следующих шагах, возможно, переведем тип `object` в `category`."
      ]
    },
    {
      "cell_type": "markdown",
      "id": "b48e333e",
      "metadata": {},
      "source": [
        "#### Базовая статистика для числовых столбцов"
      ]
    },
    {
      "cell_type": "code",
      "execution_count": 10,
      "id": "5c28f196",
      "metadata": {},
      "outputs": [
        {
          "name": "stdout",
          "output_type": "stream",
          "text": [
            "Статистика по числовым признакам:\n"
          ]
        },
        {
          "data": {
            "text/html": [
              "<div>\n",
              "<style scoped>\n",
              "    .dataframe tbody tr th:only-of-type {\n",
              "        vertical-align: middle;\n",
              "    }\n",
              "\n",
              "    .dataframe tbody tr th {\n",
              "        vertical-align: top;\n",
              "    }\n",
              "\n",
              "    .dataframe thead th {\n",
              "        text-align: right;\n",
              "    }\n",
              "</style>\n",
              "<table border=\"1\" class=\"dataframe\">\n",
              "  <thead>\n",
              "    <tr style=\"text-align: right;\">\n",
              "      <th></th>\n",
              "      <th>work_year</th>\n",
              "      <th>salary</th>\n",
              "      <th>salary_in_usd</th>\n",
              "      <th>remote_ratio</th>\n",
              "    </tr>\n",
              "  </thead>\n",
              "  <tbody>\n",
              "    <tr>\n",
              "      <th>count</th>\n",
              "      <td>2584.000000</td>\n",
              "      <td>2.584000e+03</td>\n",
              "      <td>2584.000000</td>\n",
              "      <td>2584.000000</td>\n",
              "    </tr>\n",
              "    <tr>\n",
              "      <th>mean</th>\n",
              "      <td>2022.301084</td>\n",
              "      <td>2.103653e+05</td>\n",
              "      <td>133409.280186</td>\n",
              "      <td>50.483746</td>\n",
              "    </tr>\n",
              "    <tr>\n",
              "      <th>std</th>\n",
              "      <td>0.749179</td>\n",
              "      <td>8.080375e+05</td>\n",
              "      <td>67136.837329</td>\n",
              "      <td>48.163707</td>\n",
              "    </tr>\n",
              "    <tr>\n",
              "      <th>min</th>\n",
              "      <td>2020.000000</td>\n",
              "      <td>6.000000e+03</td>\n",
              "      <td>5132.000000</td>\n",
              "      <td>0.000000</td>\n",
              "    </tr>\n",
              "    <tr>\n",
              "      <th>25%</th>\n",
              "      <td>2022.000000</td>\n",
              "      <td>9.000000e+04</td>\n",
              "      <td>84975.000000</td>\n",
              "      <td>0.000000</td>\n",
              "    </tr>\n",
              "    <tr>\n",
              "      <th>50%</th>\n",
              "      <td>2022.000000</td>\n",
              "      <td>1.346300e+05</td>\n",
              "      <td>130000.000000</td>\n",
              "      <td>50.000000</td>\n",
              "    </tr>\n",
              "    <tr>\n",
              "      <th>75%</th>\n",
              "      <td>2023.000000</td>\n",
              "      <td>1.825625e+05</td>\n",
              "      <td>175000.000000</td>\n",
              "      <td>100.000000</td>\n",
              "    </tr>\n",
              "    <tr>\n",
              "      <th>max</th>\n",
              "      <td>2023.000000</td>\n",
              "      <td>3.040000e+07</td>\n",
              "      <td>450000.000000</td>\n",
              "      <td>100.000000</td>\n",
              "    </tr>\n",
              "  </tbody>\n",
              "</table>\n",
              "</div>"
            ],
            "text/plain": [
              "         work_year        salary  salary_in_usd  remote_ratio\n",
              "count  2584.000000  2.584000e+03    2584.000000   2584.000000\n",
              "mean   2022.301084  2.103653e+05  133409.280186     50.483746\n",
              "std       0.749179  8.080375e+05   67136.837329     48.163707\n",
              "min    2020.000000  6.000000e+03    5132.000000      0.000000\n",
              "25%    2022.000000  9.000000e+04   84975.000000      0.000000\n",
              "50%    2022.000000  1.346300e+05  130000.000000     50.000000\n",
              "75%    2023.000000  1.825625e+05  175000.000000    100.000000\n",
              "max    2023.000000  3.040000e+07  450000.000000    100.000000"
            ]
          },
          "execution_count": 10,
          "metadata": {},
          "output_type": "execute_result"
        }
      ],
      "source": [
        "print(\"Статистика по числовым признакам:\")\n",
        "df.describe()\n"
      ]
    },
    {
      "cell_type": "code",
      "execution_count": 11,
      "id": "cd50ad32",
      "metadata": {},
      "outputs": [
        {
          "data": {
            "text/html": [
              "<div>\n",
              "<style scoped>\n",
              "    .dataframe tbody tr th:only-of-type {\n",
              "        vertical-align: middle;\n",
              "    }\n",
              "\n",
              "    .dataframe tbody tr th {\n",
              "        vertical-align: top;\n",
              "    }\n",
              "\n",
              "    .dataframe thead th {\n",
              "        text-align: right;\n",
              "    }\n",
              "</style>\n",
              "<table border=\"1\" class=\"dataframe\">\n",
              "  <thead>\n",
              "    <tr style=\"text-align: right;\">\n",
              "      <th></th>\n",
              "      <th>work_year</th>\n",
              "      <th>experience_level</th>\n",
              "      <th>employment_type</th>\n",
              "      <th>job_title</th>\n",
              "      <th>salary</th>\n",
              "      <th>salary_currency</th>\n",
              "      <th>salary_in_usd</th>\n",
              "      <th>employee_residence</th>\n",
              "      <th>remote_ratio</th>\n",
              "      <th>company_location</th>\n",
              "      <th>company_size</th>\n",
              "    </tr>\n",
              "  </thead>\n",
              "  <tbody>\n",
              "    <tr>\n",
              "      <th>0</th>\n",
              "      <td>2023</td>\n",
              "      <td>SE</td>\n",
              "      <td>FT</td>\n",
              "      <td>Principal Data Scientist</td>\n",
              "      <td>80000</td>\n",
              "      <td>EUR</td>\n",
              "      <td>85847</td>\n",
              "      <td>ES</td>\n",
              "      <td>100</td>\n",
              "      <td>ES</td>\n",
              "      <td>L</td>\n",
              "    </tr>\n",
              "    <tr>\n",
              "      <th>1</th>\n",
              "      <td>2023</td>\n",
              "      <td>MI</td>\n",
              "      <td>CT</td>\n",
              "      <td>ML Engineer</td>\n",
              "      <td>30000</td>\n",
              "      <td>USD</td>\n",
              "      <td>30000</td>\n",
              "      <td>US</td>\n",
              "      <td>100</td>\n",
              "      <td>US</td>\n",
              "      <td>S</td>\n",
              "    </tr>\n",
              "    <tr>\n",
              "      <th>2</th>\n",
              "      <td>2023</td>\n",
              "      <td>MI</td>\n",
              "      <td>CT</td>\n",
              "      <td>ML Engineer</td>\n",
              "      <td>25500</td>\n",
              "      <td>USD</td>\n",
              "      <td>25500</td>\n",
              "      <td>US</td>\n",
              "      <td>100</td>\n",
              "      <td>US</td>\n",
              "      <td>S</td>\n",
              "    </tr>\n",
              "    <tr>\n",
              "      <th>3</th>\n",
              "      <td>2023</td>\n",
              "      <td>SE</td>\n",
              "      <td>FT</td>\n",
              "      <td>Data Scientist</td>\n",
              "      <td>175000</td>\n",
              "      <td>USD</td>\n",
              "      <td>175000</td>\n",
              "      <td>CA</td>\n",
              "      <td>100</td>\n",
              "      <td>CA</td>\n",
              "      <td>M</td>\n",
              "    </tr>\n",
              "    <tr>\n",
              "      <th>4</th>\n",
              "      <td>2023</td>\n",
              "      <td>SE</td>\n",
              "      <td>FT</td>\n",
              "      <td>Data Scientist</td>\n",
              "      <td>120000</td>\n",
              "      <td>USD</td>\n",
              "      <td>120000</td>\n",
              "      <td>CA</td>\n",
              "      <td>100</td>\n",
              "      <td>CA</td>\n",
              "      <td>M</td>\n",
              "    </tr>\n",
              "  </tbody>\n",
              "</table>\n",
              "</div>"
            ],
            "text/plain": [
              "   work_year experience_level employment_type                 job_title  \\\n",
              "0       2023               SE              FT  Principal Data Scientist   \n",
              "1       2023               MI              CT               ML Engineer   \n",
              "2       2023               MI              CT               ML Engineer   \n",
              "3       2023               SE              FT            Data Scientist   \n",
              "4       2023               SE              FT            Data Scientist   \n",
              "\n",
              "   salary salary_currency  salary_in_usd employee_residence  remote_ratio  \\\n",
              "0   80000             EUR          85847                 ES           100   \n",
              "1   30000             USD          30000                 US           100   \n",
              "2   25500             USD          25500                 US           100   \n",
              "3  175000             USD         175000                 CA           100   \n",
              "4  120000             USD         120000                 CA           100   \n",
              "\n",
              "  company_location company_size  \n",
              "0               ES            L  \n",
              "1               US            S  \n",
              "2               US            S  \n",
              "3               CA            M  \n",
              "4               CA            M  "
            ]
          },
          "execution_count": 11,
          "metadata": {},
          "output_type": "execute_result"
        }
      ],
      "source": [
        "df.head()"
      ]
    },
    {
      "cell_type": "markdown",
      "id": "69d42bd8",
      "metadata": {},
      "source": [
        "✅ Диапазоны значений корректны.  \n",
        "Вызывает сомнение согласованность признаков `salary` и `salary_in_usd`. Проверим это."
      ]
    },
    {
      "cell_type": "markdown",
      "id": "a1e69224",
      "metadata": {},
      "source": [
        "#### Курсы валют"
      ]
    },
    {
      "cell_type": "markdown",
      "id": "755e768e",
      "metadata": {},
      "source": [
        "Введем новый признак `usd_rate` - курс валюты к доллару.  \n",
        "Проверим нет ли несоответствий в значениях признаков `salary`, `salary_in_usd` и `usd_rate`."
      ]
    },
    {
      "cell_type": "code",
      "execution_count": 12,
      "id": "f8650fe9",
      "metadata": {},
      "outputs": [
        {
          "name": "stdout",
          "output_type": "stream",
          "text": [
            "                                  min         max        mean\n",
            "salary_currency work_year                                    \n",
            "AUD             2021         1.332445    1.332445    1.332445\n",
            "                2022         1.442811    1.442841    1.442817\n",
            "                2023         1.463743    1.463743    1.463743\n",
            "BRL             2021         5.394827    5.394931    5.394879\n",
            "                2022         5.167329    5.167464    5.167399\n",
            "                2023         5.194140    5.194140    5.194140\n",
            "CAD             2020         1.340689    1.340689    1.340689\n",
            "                2021         1.253721    1.253734    1.253727\n",
            "                2022         1.301832    1.301854    1.301839\n",
            "                2023         1.352577    1.352581    1.352579\n",
            "CHF             2022         0.955134    0.955144    0.955138\n",
            "                2023         0.924909    0.924909    0.924909\n",
            "CLP             2021       759.278685  759.278685  759.278685\n",
            "CZK             2022        23.382697   23.382697   23.382697\n",
            "DKK             2020         6.536517    6.536517    6.536517\n",
            "                2021         6.291616    6.291726    6.291671\n",
            "EUR             2020         0.876829    0.876863    0.876837\n",
            "                2021         0.845982    0.846050    0.845991\n",
            "                2022         0.951775    0.951792    0.951781\n",
            "                2023         0.931886    0.931923    0.931893\n",
            "GBP             2020         0.779644    0.779646    0.779645\n",
            "                2021         0.727026    0.727034    0.727029\n",
            "                2022         0.812127    0.812140    0.812132\n",
            "                2023         0.822887    0.822903    0.822892\n",
            "HKD             2023         7.838677    7.838677    7.838677\n",
            "HUF             2020       307.821464  307.821464  307.821464\n",
            "                2021       303.372956  303.372956  303.372956\n",
            "                2022       373.218729  373.218729  373.218729\n",
            "ILS             2023         3.539121    3.539121    3.539121\n",
            "INR             2020        74.108841   74.119502   74.112438\n",
            "                2021        73.944964   73.956683   73.947628\n",
            "                2022        78.627685   78.633540   78.629774\n",
            "                2023        82.243283   82.247248   82.245494\n",
            "JPY             2020       106.742786  106.742786  106.742786\n",
            "                2021       109.870224  109.871137  109.870680\n",
            "MXN             2020        21.485482   21.485482   21.485482\n",
            "PLN             2021         3.862902    3.862910    3.862906\n",
            "                2022         4.462978    4.463090    4.463034\n",
            "                2023         4.387198    4.387198    4.387198\n",
            "SGD             2021         1.343872    1.343885    1.343877\n",
            "                2022         1.379162    1.379162    1.379162\n",
            "                2023         1.332978    1.332978    1.332978\n",
            "THB             2023        33.952399   33.953112   33.952756\n",
            "TRY             2021         8.923407    8.923702    8.923527\n",
            "USD             2020         1.000000    1.000000    1.000000\n",
            "                2021         1.000000    1.000000    1.000000\n",
            "                2022         1.000000    1.000000    1.000000\n",
            "                2023         1.000000    1.000000    1.000000\n"
          ]
        }
      ],
      "source": [
        "df['usd_rate'] = df['salary'] / df['salary_in_usd']\n",
        "\n",
        "# Группируем по валютам и годам и смотрим диапазоны usd_rate для каждой группы\n",
        "print(df.groupby(['salary_currency', 'work_year'])['usd_rate'].agg(['min', 'max', 'mean']))"
      ]
    },
    {
      "cell_type": "markdown",
      "id": "05ac6a15",
      "metadata": {},
      "source": [
        "✅ Курсы валют корректны - нет несоответствий в зарплатах в валюте и в долларах."
      ]
    },
    {
      "cell_type": "markdown",
      "id": "3a3f0eb6",
      "metadata": {},
      "source": [
        "#### Статистика для категориальных столбцов"
      ]
    },
    {
      "cell_type": "code",
      "execution_count": 13,
      "id": "f9ce5761",
      "metadata": {},
      "outputs": [
        {
          "data": {
            "text/html": [
              "<div>\n",
              "<style scoped>\n",
              "    .dataframe tbody tr th:only-of-type {\n",
              "        vertical-align: middle;\n",
              "    }\n",
              "\n",
              "    .dataframe tbody tr th {\n",
              "        vertical-align: top;\n",
              "    }\n",
              "\n",
              "    .dataframe thead th {\n",
              "        text-align: right;\n",
              "    }\n",
              "</style>\n",
              "<table border=\"1\" class=\"dataframe\">\n",
              "  <thead>\n",
              "    <tr style=\"text-align: right;\">\n",
              "      <th></th>\n",
              "      <th>experience_level</th>\n",
              "      <th>employment_type</th>\n",
              "      <th>job_title</th>\n",
              "      <th>salary_currency</th>\n",
              "      <th>employee_residence</th>\n",
              "      <th>company_location</th>\n",
              "      <th>company_size</th>\n",
              "    </tr>\n",
              "  </thead>\n",
              "  <tbody>\n",
              "    <tr>\n",
              "      <th>count</th>\n",
              "      <td>2584</td>\n",
              "      <td>2584</td>\n",
              "      <td>2584</td>\n",
              "      <td>2584</td>\n",
              "      <td>2584</td>\n",
              "      <td>2584</td>\n",
              "      <td>2584</td>\n",
              "    </tr>\n",
              "    <tr>\n",
              "      <th>unique</th>\n",
              "      <td>4</td>\n",
              "      <td>4</td>\n",
              "      <td>93</td>\n",
              "      <td>20</td>\n",
              "      <td>78</td>\n",
              "      <td>72</td>\n",
              "      <td>3</td>\n",
              "    </tr>\n",
              "    <tr>\n",
              "      <th>top</th>\n",
              "      <td>SE</td>\n",
              "      <td>FT</td>\n",
              "      <td>Data Engineer</td>\n",
              "      <td>USD</td>\n",
              "      <td>US</td>\n",
              "      <td>US</td>\n",
              "      <td>M</td>\n",
              "    </tr>\n",
              "    <tr>\n",
              "      <th>freq</th>\n",
              "      <td>1554</td>\n",
              "      <td>2547</td>\n",
              "      <td>598</td>\n",
              "      <td>2107</td>\n",
              "      <td>1893</td>\n",
              "      <td>1929</td>\n",
              "      <td>2028</td>\n",
              "    </tr>\n",
              "  </tbody>\n",
              "</table>\n",
              "</div>"
            ],
            "text/plain": [
              "       experience_level employment_type      job_title salary_currency  \\\n",
              "count              2584            2584           2584            2584   \n",
              "unique                4               4             93              20   \n",
              "top                  SE              FT  Data Engineer             USD   \n",
              "freq               1554            2547            598            2107   \n",
              "\n",
              "       employee_residence company_location company_size  \n",
              "count                2584             2584         2584  \n",
              "unique                 78               72            3  \n",
              "top                    US               US            M  \n",
              "freq                 1893             1929         2028  "
            ]
          },
          "execution_count": 13,
          "metadata": {},
          "output_type": "execute_result"
        }
      ],
      "source": [
        "# Базовая статистика \n",
        "df.describe(include='object')"
      ]
    },
    {
      "cell_type": "markdown",
      "id": "ed8820d1",
      "metadata": {},
      "source": [
        "❌ Есть признаки с большим количеством уникальных значений."
      ]
    },
    {
      "cell_type": "markdown",
      "id": "c-Q50P1G4wHx",
      "metadata": {
        "id": "c-Q50P1G4wHx"
      },
      "source": [
        "## **Задание 3 (0.3 балла)**\n",
        "\n",
        "Вернитесь к описанию признаков.\n",
        "- Проверьте, все ли признаки соответствуют постановке задачи? Если есть лишние признаки, удалите их и обоснуйте удаление, если нет, сделайте вывод о релевантности (достаточно в одну-две строки)\n",
        "- Зафиксируйте, в каких признаках много категорий."
      ]
    },
    {
      "cell_type": "markdown",
      "id": "ea2a538c",
      "metadata": {},
      "source": [
        "Все признаки по-сути соответствуют постановке задачи.  \n",
        "\n",
        "Однако, данные о зарплате продублированы в разных валютах, что кажется избыточным.  \n",
        "Поэтому удалим признак `salary`, `salary_currency` и, созданный нами ранее, признак `usd_rate`, оставим только `salary_in_usd`, чтобы все наблюдения были в одной размерности и масштабе."
      ]
    },
    {
      "cell_type": "code",
      "execution_count": 14,
      "id": "58-KHHjT5vzT",
      "metadata": {
        "id": "58-KHHjT5vzT"
      },
      "outputs": [],
      "source": [
        "# Ваш код здесь\n",
        "df = df.drop(columns=['salary', 'usd_rate', 'salary_currency'])"
      ]
    },
    {
      "cell_type": "markdown",
      "id": "8cf2add1",
      "metadata": {},
      "source": [
        "Признаки, в которых много категорий"
      ]
    },
    {
      "cell_type": "code",
      "execution_count": 15,
      "id": "1f1273e1",
      "metadata": {},
      "outputs": [],
      "source": [
        "cols_cat = df.select_dtypes(include='object').columns.to_list()"
      ]
    },
    {
      "cell_type": "code",
      "execution_count": 16,
      "id": "7205b255",
      "metadata": {},
      "outputs": [
        {
          "data": {
            "text/plain": [
              "job_title             93\n",
              "employee_residence    78\n",
              "company_location      72\n",
              "experience_level       4\n",
              "employment_type        4\n",
              "company_size           3\n",
              "dtype: int64"
            ]
          },
          "execution_count": 16,
          "metadata": {},
          "output_type": "execute_result"
        }
      ],
      "source": [
        "df[cols_cat].nunique().sort_values(ascending=False)"
      ]
    },
    {
      "cell_type": "markdown",
      "id": "89b4bb76",
      "metadata": {},
      "source": [
        "Проверим соответствуют ли стандарту ISO 3166-1 Alpha-2 признаки `employee_residence` и `company_location`."
      ]
    },
    {
      "cell_type": "code",
      "execution_count": 17,
      "id": "4ae17b4d",
      "metadata": {},
      "outputs": [
        {
          "name": "stdout",
          "output_type": "stream",
          "text": [
            "set()\n",
            "set()\n"
          ]
        }
      ],
      "source": [
        "import urllib.request\n",
        "import json\n",
        "\n",
        "url = 'https://gist.githubusercontent.com/ssskip/5a94bfcd2835bf1dea52/raw/59272a2d1c2122f0cedd83a76780a01d50726d98/ISO3166-1.alpha2.json'\n",
        "with urllib.request.urlopen(url) as response:\n",
        "    iso3166 = json.loads(response.read())\n",
        "\n",
        "residence_codes = set(df['employee_residence'].unique())\n",
        "location_codes = set(df['company_location'].unique())\n",
        "\n",
        "print(residence_codes - set(iso3166.keys()))\n",
        "print(location_codes - set(iso3166.keys()))"
      ]
    },
    {
      "cell_type": "markdown",
      "id": "e030a50f",
      "metadata": {},
      "source": [
        "Все коды соответствуют стандарту ISO 3166-1 Alpha-2.  \n",
        "Поэтому признаки `employee_residence` и `company_location` можно оставить как есть."
      ]
    },
    {
      "cell_type": "markdown",
      "id": "301a6476",
      "metadata": {},
      "source": [
        "Посмотрим на признак `job_title`."
      ]
    },
    {
      "cell_type": "code",
      "execution_count": 18,
      "id": "c2eaa04c",
      "metadata": {},
      "outputs": [
        {
          "data": {
            "text/plain": [
              "job_title\n",
              "Data Engineer                598\n",
              "Data Scientist               538\n",
              "Data Analyst                 396\n",
              "Machine Learning Engineer    206\n",
              "Analytics Engineer            91\n",
              "                            ... \n",
              "Compliance Data Analyst        1\n",
              "Deep Learning Researcher       1\n",
              "Staff Data Analyst             1\n",
              "Data DevOps Engineer           1\n",
              "Finance Data Analyst           1\n",
              "Name: count, Length: 93, dtype: int64"
            ]
          },
          "execution_count": 18,
          "metadata": {},
          "output_type": "execute_result"
        }
      ],
      "source": [
        "_jobs = df['job_title'].value_counts()\n",
        "_jobs"
      ]
    },
    {
      "cell_type": "code",
      "execution_count": 19,
      "id": "3eaf6990",
      "metadata": {},
      "outputs": [
        {
          "data": {
            "text/plain": [
              "job_title\n",
              "Business Intelligence Engineer         4\n",
              "Machine Learning Research Engineer     4\n",
              "MLOps Engineer                         4\n",
              "3D Computer Vision Researcher          4\n",
              "Data Operations Analyst                4\n",
              "Lead Machine Learning Engineer         3\n",
              "Machine Learning Manager               3\n",
              "Financial Data Analyst                 3\n",
              "Cloud Data Engineer                    3\n",
              "Data Analytics Consultant              2\n",
              "Data Scientist Lead                    2\n",
              "Data Lead                              2\n",
              "Data Analytics Lead                    2\n",
              "Data Modeler                           2\n",
              "Principal Data Analyst                 2\n",
              "Big Data Architect                     2\n",
              "Autonomous Vehicle Technician          2\n",
              "Software Data Engineer                 2\n",
              "AI Programmer                          2\n",
              "ETL Engineer                           2\n",
              "Principal Data Engineer                2\n",
              "Marketing Data Analyst                 2\n",
              "Applied Machine Learning Engineer      2\n",
              "Data Analytics Specialist              2\n",
              "Data Strategist                        2\n",
              "Insight Analyst                        2\n",
              "Head of Machine Learning               1\n",
              "Principal Data Architect               1\n",
              "Staff Data Scientist                   1\n",
              "Product Data Scientist                 1\n",
              "Cloud Data Architect                   1\n",
              "BI Data Engineer                       1\n",
              "Power BI Developer                     1\n",
              "Data Science Tech Lead                 1\n",
              "Data Management Specialist             1\n",
              "Principal Machine Learning Engineer    1\n",
              "Manager Data Management                1\n",
              "Marketing Data Engineer                1\n",
              "Azure Data Engineer                    1\n",
              "Compliance Data Analyst                1\n",
              "Deep Learning Researcher               1\n",
              "Staff Data Analyst                     1\n",
              "Data DevOps Engineer                   1\n",
              "Finance Data Analyst                   1\n",
              "Name: count, dtype: int64"
            ]
          },
          "execution_count": 19,
          "metadata": {},
          "output_type": "execute_result"
        }
      ],
      "source": [
        "_jobs[_jobs < 5]"
      ]
    },
    {
      "cell_type": "markdown",
      "id": "21tU88sZ5z3y",
      "metadata": {
        "id": "21tU88sZ5z3y"
      },
      "source": [
        "**Ваши выводы здесь**"
      ]
    },
    {
      "cell_type": "markdown",
      "id": "76ed29be",
      "metadata": {},
      "source": [
        "В признаке `job_title` 93 уникальных значения и много редких.  \n",
        "В задании 11 сконструируем новые признаки, выделяя общие свойства ролей."
      ]
    },
    {
      "cell_type": "markdown",
      "id": "RTS28VQy6Hz8",
      "metadata": {
        "id": "RTS28VQy6Hz8"
      },
      "source": [
        "## **Задание 4 (0.2 балла)**\n",
        "\n",
        "Разделите выборку на train, test (80%, 20%)."
      ]
    },
    {
      "cell_type": "code",
      "execution_count": 20,
      "id": "-PWyMQ1N6NAc",
      "metadata": {
        "id": "-PWyMQ1N6NAc"
      },
      "outputs": [],
      "source": [
        "from sklearn.model_selection import train_test_split\n",
        "\n",
        "y = df['salary_in_usd']\n",
        "X = df.drop(columns=['salary_in_usd'], axis=1)\n",
        "X_train, X_test, y_train, y_test = train_test_split(X, y, test_size=0.2, random_state=42)\n"
      ]
    },
    {
      "cell_type": "code",
      "execution_count": 22,
      "id": "c0e68473",
      "metadata": {},
      "outputs": [],
      "source": [
        "from sklearn.metrics import mean_absolute_percentage_error, root_mean_squared_error\n",
        "\n",
        "def evaluate_model(y_test, y_pred, printout = True):\n",
        "    mape = mean_absolute_percentage_error(y_test, y_pred)\n",
        "    rmse = root_mean_squared_error(y_test, y_pred)\n",
        "    if printout:\n",
        "        print(f\"MAPE: {mape}\")\n",
        "        print(f\"RMSE: {rmse}\")\n",
        "    return mape, rmse"
      ]
    },
    {
      "cell_type": "markdown",
      "id": "m2dNbigN52YC",
      "metadata": {
        "id": "m2dNbigN52YC"
      },
      "source": [
        "## **Задание 5 (0.3 балла)**\n",
        "\n",
        "Будем проверять два сценария. Первый — построение модели только на непрерывных признаках, а второй — построение с категориальными. В этом задании подготовьте всё, чтобы проверить валидность обоих сценариев. А именно:\n",
        "\n",
        "- Выделите данные для тренировки и теста для непрерывных признаков\n",
        "- Выделите данные для тренировки и теста для непрерывных + категориальных признаков, пока ничего не кодируйте."
      ]
    },
    {
      "cell_type": "code",
      "execution_count": 24,
      "id": "4i5DhaS87Sir",
      "metadata": {
        "id": "4i5DhaS87Sir"
      },
      "outputs": [],
      "source": [
        "# Ваш код здесь\n",
        "# Непрерывные признаки\n",
        "num_features = ['work_year', 'remote_ratio']\n",
        "\n",
        "# Датафреймы с непрерывными признаками\n",
        "X_train_num = X_train[num_features]\n",
        "X_test_num = X_test[num_features]\n",
        "\n",
        "# Выделяем все признаки (непрерывные + категориальные) для второго сценария\n",
        "X_train_all = X_train.copy()\n",
        "X_test_all = X_test.copy()\n"
      ]
    },
    {
      "cell_type": "markdown",
      "id": "f63cb01a",
      "metadata": {
        "id": "f63cb01a"
      },
      "source": [
        "## **Задание 6 (0.2 балла)**\n",
        "\n",
        "- Обучите модель линейной регресии на числовых признаках и оцените её качество через mape и rmse;\n",
        "- Сделайте вывод о качестве построенной модели;"
      ]
    },
    {
      "cell_type": "code",
      "execution_count": 25,
      "id": "7jdkJ8Ji7R_L",
      "metadata": {
        "id": "7jdkJ8Ji7R_L"
      },
      "outputs": [
        {
          "name": "stdout",
          "output_type": "stream",
          "text": [
            "MAPE: 0.8290566399558054\n",
            "RMSE: 64000.53262564963\n"
          ]
        }
      ],
      "source": [
        "# Ваш код здесь\n",
        "from sklearn.linear_model import LinearRegression\n",
        "\n",
        "\n",
        "model_num = LinearRegression()\n",
        "model_num.fit(X_train_num, y_train)\n",
        "\n",
        "# Оценка качества модели\n",
        "y_pred_num = model_num.predict(X_test_num)\n",
        "_ = evaluate_model(y_test, y_pred_num)\n"
      ]
    },
    {
      "cell_type": "markdown",
      "id": "9a42bb65",
      "metadata": {},
      "source": [
        "**Вывод**:  \n",
        "Модель, построенная только на числовых признаках, показывает достаточно слабые результаты. \n",
        "Высокие значения MAPE и RMSE говорят о том, что модель плохо предсказывает зарплаты, \n",
        "что вполне ожидаемо, так как мы используем только два признака (`work_year` и `remote_ratio`) из всего набора данных. \n",
        "Для улучшения качества предсказаний необходимо добавить категориальные признаки,\n",
        "которые, содержат важную информацию (должность, опыт работы, локацию).\n"
      ]
    },
    {
      "cell_type": "markdown",
      "id": "8bf8374f",
      "metadata": {
        "id": "8bf8374f"
      },
      "source": [
        "## **Задание 8 (0.2 балла)**\n",
        "\n",
        "- Обучите модель бустинга (любую из трех библиотек catboost, xgboost, lightgbm) с гиперпараметрами по умолчанию на непрерывных признаках и оцените её качество через mape и rmse;\n",
        "- Сделайте вывод о качестве построенной модели;"
      ]
    },
    {
      "cell_type": "code",
      "execution_count": 26,
      "id": "0a18a0b2",
      "metadata": {},
      "outputs": [
        {
          "name": "stdout",
          "output_type": "stream",
          "text": [
            "Note: you may need to restart the kernel to use updated packages.\n",
            "Note: you may need to restart the kernel to use updated packages.\n",
            "Note: you may need to restart the kernel to use updated packages.\n"
          ]
        }
      ],
      "source": [
        "%pip install catboost -q\n",
        "%pip install xgboost -q\n",
        "%pip install lightgbm -q"
      ]
    },
    {
      "cell_type": "code",
      "execution_count": 27,
      "id": "5vOPjwnZ7Pud",
      "metadata": {
        "id": "5vOPjwnZ7Pud"
      },
      "outputs": [
        {
          "name": "stdout",
          "output_type": "stream",
          "text": [
            "MAPE: 0.7708443769690151\n",
            "RMSE: 62433.34798150249\n"
          ]
        }
      ],
      "source": [
        "# Ваш код здесь\n",
        "from catboost import CatBoostRegressor\n",
        "\n",
        "# CatBoost с параметрами по умолчанию\n",
        "model_num_boost = CatBoostRegressor(verbose=False, random_state=42)\n",
        "model_num_boost.fit(X_train_num, y_train)\n",
        "\n",
        "# Оценка качества\n",
        "y_pred_num_boost = model_num_boost.predict(X_test_num)\n",
        "\n",
        "_ = evaluate_model(y_test, y_pred_num_boost)\n"
      ]
    },
    {
      "cell_type": "markdown",
      "id": "bb2040f5",
      "metadata": {},
      "source": [
        "**Вывод**:  \n",
        "Модель бустинга, построенная только на числовых признаках (`work_year` и `remote_ratio`), также показывает слабые результаты, хотя и немного лучше, чем линейная регрессия.\n",
        "Это подтверждает предыдущий вывод о том, что необходимо использовать категориальные признаки, которые несут в себе важную информацию.\n"
      ]
    },
    {
      "cell_type": "markdown",
      "id": "17b76f89",
      "metadata": {
        "id": "17b76f89"
      },
      "source": [
        "## **Задание 9 (0.8 балла)**\n",
        "\n",
        "Теперь подключим категориальные признаки. Но попроубем разные стратегии предобработки.\n",
        "\n",
        "**1:**\n",
        "- Предобработайте категориальные признаки при помощи OHE\n",
        "- Постройте модель бустинга и линейную регрессию\n",
        "- Оцените качество обеих моделей\n",
        "\n",
        "**2:**\n",
        "- Предобработайте категориальные признаки при помощи LabelEncoding\n",
        "- Постройте модель бустинга и линейную регрессию\n",
        "- Оцените качество обеих моделей\n",
        "\n",
        "**3:**\n",
        "- Предобработайте категориальные признаки при помощи MeanTargetEnc\n",
        "- Постройте модель бустинга и линейную регрессию\n",
        "- Оцените качество обеих моделей\n",
        "\n",
        "Сделайте выводы по построениям 1-3. Выберите лучшую модель и дальше поработайте с ней."
      ]
    },
    {
      "cell_type": "code",
      "execution_count": 28,
      "id": "jydpMYVO8GfK",
      "metadata": {
        "id": "jydpMYVO8GfK"
      },
      "outputs": [],
      "source": [
        "# Ваш код здесь\n",
        "from sklearn.compose import ColumnTransformer\n",
        "from sklearn.pipeline import Pipeline\n",
        "from sklearn.preprocessing import OneHotEncoder, LabelEncoder, OrdinalEncoder, TargetEncoder\n",
        "\n",
        "# пайплайны с OneHotEncoder\n",
        "p_ohe = ColumnTransformer([\n",
        "    ('encode', OneHotEncoder(sparse_output=False, handle_unknown='ignore', drop='first'), cols_cat),\n",
        "], remainder='passthrough')\n",
        "\n",
        "p1 = Pipeline([\n",
        "    ('ohe', p_ohe),\n",
        "    ('boost', CatBoostRegressor(verbose=False, random_state=42))\n",
        "])\n",
        "\n",
        "p2 = Pipeline([\n",
        "    ('ohe', p_ohe),\n",
        "    ('linreg', LinearRegression())\n",
        "])\n",
        "\n",
        "# пайплайны OrdinalEncoder\n",
        "#\n",
        "# ВНИМАНИЮ проверяющего!\n",
        "#\n",
        "# LabelEncoder предназначен для кодирования ЦЕЛЕВОЙ ПЕРЕМЕННОЙ!\n",
        "# https://scikit-learn.org/stable/modules/generated/sklearn.preprocessing.LabelEncoder.html\n",
        "#\n",
        "# Поэтому используем аналог - OrdinalEncoder\n",
        "# Но в чате сказали, что надо использовать LabelEncoder.\n",
        "# https://t.me/c/2389624208/3393/3883\n",
        "# \n",
        "# Ок, реализую ниже\n",
        "#\n",
        "p_ord = ColumnTransformer([\n",
        "    ('encode', OrdinalEncoder(handle_unknown='use_encoded_value', unknown_value=-1, encoded_missing_value = -2), cols_cat),\n",
        "], remainder='passthrough')\n",
        "\n",
        "p3 = Pipeline([\n",
        "    ('label', p_ord),\n",
        "    ('boost', CatBoostRegressor(verbose=False, random_state=42))\n",
        "])\n",
        "\n",
        "p4 = Pipeline([\n",
        "    ('label', p_ord),\n",
        "    ('linreg', LinearRegression())\n",
        "])\n",
        "\n",
        "\n",
        "# пайплайны с TargetEncoder\n",
        "p_tgt = ColumnTransformer([\n",
        "    ('mean', TargetEncoder(target_type='continuous', random_state=42), cols_cat),\n",
        "], remainder='passthrough')\n",
        "\n",
        "p5 = Pipeline([\n",
        "    ('mean', p_tgt),\n",
        "    ('boost', CatBoostRegressor(verbose=False, random_state=42))\n",
        "])\n",
        "\n",
        "p6 = Pipeline([\n",
        "    ('mean', p_tgt),\n",
        "    ('linreg', LinearRegression())\n",
        "])\n",
        "\n",
        "# Бонус - CatBoost БЕЗ кодирования категориальных признаков\n",
        "p7 = Pipeline([\n",
        "    ('boost', CatBoostRegressor(verbose=False, random_state=42, cat_features=cols_cat))\n",
        "])\n"
      ]
    },
    {
      "cell_type": "code",
      "execution_count": 29,
      "id": "dfaa07e5",
      "metadata": {},
      "outputs": [
        {
          "name": "stderr",
          "output_type": "stream",
          "text": [
            "/Users/yukonoff/code/hse_ai_24/hse-ai24-ml/.venv/lib/python3.12/site-packages/sklearn/preprocessing/_encoders.py:246: UserWarning: Found unknown categories in columns [2, 3, 4] during transform. These unknown categories will be encoded as all zeros\n",
            "  warnings.warn(\n",
            "/Users/yukonoff/code/hse_ai_24/hse-ai24-ml/.venv/lib/python3.12/site-packages/sklearn/preprocessing/_encoders.py:246: UserWarning: Found unknown categories in columns [2, 3, 4] during transform. These unknown categories will be encoded as all zeros\n",
            "  warnings.warn(\n"
          ]
        },
        {
          "name": "stdout",
          "output_type": "stream",
          "text": [
            "Pipeline 1: MAPE: 0.42, RMSE: 51672\n",
            "Pipeline 2: MAPE: 0.46, RMSE: 53521\n",
            "Pipeline 3: MAPE: 0.57, RMSE: 55509\n",
            "Pipeline 4: MAPE: 0.57, RMSE: 55932\n",
            "Pipeline 5: MAPE: 0.43, RMSE: 51841\n",
            "Pipeline 6: MAPE: 0.43, RMSE: 50882\n",
            "Pipeline 7: MAPE: 0.48, RMSE: 52708\n"
          ]
        }
      ],
      "source": [
        "\n",
        "pipes_to_test = [p1, p2, p3, p4, p5, p6, p7]\n",
        "for i, pipeline in enumerate(pipes_to_test, 1):\n",
        "    pipeline.fit(X_train, y_train)\n",
        "    pred = pipeline.predict(X_test)\n",
        "    mape, rmse = evaluate_model(y_test, pred, printout=False)\n",
        "    print(f\"Pipeline {i}: MAPE: {mape:.2f}, RMSE: {rmse:.0f}\")\n",
        "\n"
      ]
    },
    {
      "cell_type": "code",
      "execution_count": 30,
      "id": "91aa86cf",
      "metadata": {},
      "outputs": [
        {
          "name": "stdout",
          "output_type": "stream",
          "text": [
            "Pipeline 8: MAPE: 0.57, RMSE: 76601\n",
            "Pipeline 9: MAPE: 0.47, RMSE: 74313\n"
          ]
        }
      ],
      "source": [
        "# пайплайны с LabelEncoder\n",
        "# реализованы отдельно, т.к. нельзя использовать ColumnTransformer\n",
        "X_train_lbl = X_train.copy()\n",
        "X_test_lbl = X_test.copy()\n",
        "\n",
        "X_train_lbl[cols_cat] = X_train_lbl[cols_cat].apply(LabelEncoder().fit_transform)\n",
        "X_test_lbl[cols_cat] = X_test_lbl[cols_cat].apply(LabelEncoder().fit_transform)\n",
        "\n",
        "p8 = Pipeline([\n",
        "    ('boost', CatBoostRegressor(verbose=False, random_state=42))\n",
        "])\n",
        "\n",
        "p9 = Pipeline([\n",
        "    ('linreg', LinearRegression())\n",
        "])\n",
        "\n",
        "pipes_to_test = [p8, p9]\n",
        "for i, pipeline in enumerate(pipes_to_test, 8):\n",
        "    pipeline.fit(X_train_lbl, y_train)\n",
        "    pred = pipeline.predict(X_test_lbl)\n",
        "    mape, rmse = evaluate_model(y_test, pred, printout=False)\n",
        "    print(f\"Pipeline {i}: MAPE: {mape:.2f}, RMSE: {rmse:.0f}\")\n"
      ]
    },
    {
      "cell_type": "markdown",
      "id": "003f485a",
      "metadata": {},
      "source": [
        "### Выводы"
      ]
    },
    {
      "cell_type": "markdown",
      "id": "57571cba",
      "metadata": {},
      "source": [
        "**Результаты:**\n",
        "| # | MAPE  | RMSE  | Прим.                       |\n",
        "|---|-------|-------|-----------------------------|\n",
        "| 1 | 0.42  | 51672 | CatBoost + OHE              |\n",
        "| 2 | 0.46  | 53521 | LinReg + OHE                |\n",
        "| 3 | 0.57  | 55509 | CatBoost + OrdinalEncoder   |\n",
        "| 4 | 0.57  | 55932 | LinReg + OrdinalEncoder     |\n",
        "| 5 | 0.43  | 51841 | CatBoost + TargetEncoder    |\n",
        "| 6 | 0.43  | 50882 | LinReg + TargetEncoder      |\n",
        "| 7 | 0.48  | 52741 | CatBoost + без кодирования  |\n",
        "| 8 | 0.57  | 76601 | CatBoost + LabelEncoder     |\n",
        "| 9 | 0.47  | 74313 | LinReg + LabelEncoder       |\n",
        "\n",
        "**Ключевые выводы**:\n",
        "- `LabelEncoder` показал наихудшие результаты для обеих моделей;\n",
        "- Лучшая стратегия обработки категориальных признаков для `CatBoost` - это `OHE` (MAPE 0.42);\n",
        "- Лучшая стратегия обработки категориальных признаков для `LinReg` - это `TargetEncoder` (MAPE 0.43);\n",
        "- `OrdinalEncoder` показал плохие результаты для обеих моделей;\n",
        "- `CatBoost` с родной обработкой категорий уступает `CatBoost+OHE`.\n",
        "\n",
        "**Парадокс LinReg**:  \n",
        "При TargetEncoder кодировании линейная регрессия показывает лучший RMSE (50651), но это может быть связано с:\n",
        "- Утечкой информации при кодировании,\n",
        "- Переобучением на целевую переменную,\n",
        "- Особенностями распределения данных.\n",
        "\n",
        "**Решение**:\n",
        "- Для бустингов: использовать OHE как наиболее стабильный вариант.\n",
        "- Для линейных моделей: осторожно применять TargetEncoder с контролем переобучения.\n",
        "- Отказаться от OrdinalEncoder и, тем более, LabelEncoding для этих данных.\n",
        "- **Дальше работать с `CatBoost+OHE` как с лучшей моделью (MAPE 0.42)**.\n",
        "\n",
        "\n",
        "> Несмотря на лучший RMSE у `LinReg+TargetEncoder`, `CatBoost+OHE` предпочтительнее из-за:\n",
        "> - Меньшего MAPE (более важная метрика для зарплат),\n",
        "> - Устойчивости к переобучению,\n",
        "> - Возможности улучшения через настройку гиперпараметров.\n"
      ]
    },
    {
      "cell_type": "markdown",
      "id": "119b89f1",
      "metadata": {
        "id": "119b89f1"
      },
      "source": [
        "## **Задание 10 (0.5 балла)**\n",
        "\n",
        "Покажите, где ошибается ваша модель. Выведите топ 20 примеров с наибольшей ошибкой. Проанализируйте их. Какие выводы можно сделать? Что стоит изменить в данных чтобы улучшить качество модели?"
      ]
    },
    {
      "cell_type": "code",
      "execution_count": 31,
      "id": "rfINOy6o8SvL",
      "metadata": {
        "id": "rfINOy6o8SvL"
      },
      "outputs": [
        {
          "name": "stderr",
          "output_type": "stream",
          "text": [
            "/Users/yukonoff/code/hse_ai_24/hse-ai24-ml/.venv/lib/python3.12/site-packages/sklearn/preprocessing/_encoders.py:246: UserWarning: Found unknown categories in columns [2, 3, 4] during transform. These unknown categories will be encoded as all zeros\n",
            "  warnings.warn(\n"
          ]
        },
        {
          "data": {
            "image/png": "[encoded data removed]",
            "text/plain": [
              "<Figure size 1200x600 with 1 Axes>"
            ]
          },
          "metadata": {},
          "output_type": "display_data"
        },
        {
          "data": {
            "text/html": [
              "<div>\n",
              "<style scoped>\n",
              "    .dataframe tbody tr th:only-of-type {\n",
              "        vertical-align: middle;\n",
              "    }\n",
              "\n",
              "    .dataframe tbody tr th {\n",
              "        vertical-align: top;\n",
              "    }\n",
              "\n",
              "    .dataframe thead th {\n",
              "        text-align: right;\n",
              "    }\n",
              "</style>\n",
              "<table border=\"1\" class=\"dataframe\">\n",
              "  <thead>\n",
              "    <tr style=\"text-align: right;\">\n",
              "      <th></th>\n",
              "      <th>work_year</th>\n",
              "      <th>remote_ratio</th>\n",
              "      <th>job_title</th>\n",
              "      <th>experience_level</th>\n",
              "      <th>employee_residence</th>\n",
              "      <th>company_location</th>\n",
              "      <th>actual_salary</th>\n",
              "      <th>predicted_salary</th>\n",
              "      <th>abs_error</th>\n",
              "      <th>error_percent</th>\n",
              "    </tr>\n",
              "  </thead>\n",
              "  <tbody>\n",
              "    <tr>\n",
              "      <th>2022</th>\n",
              "      <td>2022</td>\n",
              "      <td>50</td>\n",
              "      <td>3D Computer Vision Researcher</td>\n",
              "      <td>SE</td>\n",
              "      <td>CA</td>\n",
              "      <td>AL</td>\n",
              "      <td>10000</td>\n",
              "      <td>112898.183647</td>\n",
              "      <td>102898.183647</td>\n",
              "      <td>1028.981836</td>\n",
              "    </tr>\n",
              "    <tr>\n",
              "      <th>3667</th>\n",
              "      <td>2021</td>\n",
              "      <td>100</td>\n",
              "      <td>Data Scientist</td>\n",
              "      <td>MI</td>\n",
              "      <td>IN</td>\n",
              "      <td>US</td>\n",
              "      <td>5679</td>\n",
              "      <td>37997.261718</td>\n",
              "      <td>32318.261718</td>\n",
              "      <td>569.083672</td>\n",
              "    </tr>\n",
              "    <tr>\n",
              "      <th>1257</th>\n",
              "      <td>2023</td>\n",
              "      <td>0</td>\n",
              "      <td>Data Engineer</td>\n",
              "      <td>EN</td>\n",
              "      <td>VN</td>\n",
              "      <td>VN</td>\n",
              "      <td>12000</td>\n",
              "      <td>65170.118735</td>\n",
              "      <td>53170.118735</td>\n",
              "      <td>443.084323</td>\n",
              "    </tr>\n",
              "    <tr>\n",
              "      <th>3485</th>\n",
              "      <td>2021</td>\n",
              "      <td>100</td>\n",
              "      <td>Applied Machine Learning Scientist</td>\n",
              "      <td>MI</td>\n",
              "      <td>VN</td>\n",
              "      <td>US</td>\n",
              "      <td>38400</td>\n",
              "      <td>196214.806956</td>\n",
              "      <td>157814.806956</td>\n",
              "      <td>410.976060</td>\n",
              "    </tr>\n",
              "    <tr>\n",
              "      <th>3434</th>\n",
              "      <td>2022</td>\n",
              "      <td>100</td>\n",
              "      <td>Computer Vision Engineer</td>\n",
              "      <td>EN</td>\n",
              "      <td>PT</td>\n",
              "      <td>LU</td>\n",
              "      <td>10000</td>\n",
              "      <td>39246.022609</td>\n",
              "      <td>29246.022609</td>\n",
              "      <td>292.460226</td>\n",
              "    </tr>\n",
              "    <tr>\n",
              "      <th>2578</th>\n",
              "      <td>2021</td>\n",
              "      <td>50</td>\n",
              "      <td>Power BI Developer</td>\n",
              "      <td>EN</td>\n",
              "      <td>IN</td>\n",
              "      <td>IN</td>\n",
              "      <td>5409</td>\n",
              "      <td>21194.703884</td>\n",
              "      <td>15785.703884</td>\n",
              "      <td>291.841447</td>\n",
              "    </tr>\n",
              "    <tr>\n",
              "      <th>3537</th>\n",
              "      <td>2021</td>\n",
              "      <td>50</td>\n",
              "      <td>3D Computer Vision Researcher</td>\n",
              "      <td>MI</td>\n",
              "      <td>IN</td>\n",
              "      <td>IN</td>\n",
              "      <td>5409</td>\n",
              "      <td>19990.596789</td>\n",
              "      <td>14581.596789</td>\n",
              "      <td>269.580270</td>\n",
              "    </tr>\n",
              "    <tr>\n",
              "      <th>3696</th>\n",
              "      <td>2021</td>\n",
              "      <td>0</td>\n",
              "      <td>Data Engineer</td>\n",
              "      <td>MI</td>\n",
              "      <td>IT</td>\n",
              "      <td>US</td>\n",
              "      <td>20000</td>\n",
              "      <td>69597.688544</td>\n",
              "      <td>49597.688544</td>\n",
              "      <td>247.988443</td>\n",
              "    </tr>\n",
              "    <tr>\n",
              "      <th>2840</th>\n",
              "      <td>2022</td>\n",
              "      <td>100</td>\n",
              "      <td>Data Analyst</td>\n",
              "      <td>EN</td>\n",
              "      <td>BR</td>\n",
              "      <td>BR</td>\n",
              "      <td>7799</td>\n",
              "      <td>25005.817414</td>\n",
              "      <td>17206.817414</td>\n",
              "      <td>220.628509</td>\n",
              "    </tr>\n",
              "    <tr>\n",
              "      <th>1695</th>\n",
              "      <td>2023</td>\n",
              "      <td>0</td>\n",
              "      <td>Applied Scientist</td>\n",
              "      <td>SE</td>\n",
              "      <td>US</td>\n",
              "      <td>US</td>\n",
              "      <td>72000</td>\n",
              "      <td>225100.563549</td>\n",
              "      <td>153100.563549</td>\n",
              "      <td>212.639672</td>\n",
              "    </tr>\n",
              "    <tr>\n",
              "      <th>2923</th>\n",
              "      <td>2021</td>\n",
              "      <td>50</td>\n",
              "      <td>Computer Vision Software Engineer</td>\n",
              "      <td>EN</td>\n",
              "      <td>DK</td>\n",
              "      <td>DK</td>\n",
              "      <td>19073</td>\n",
              "      <td>56057.544464</td>\n",
              "      <td>36984.544464</td>\n",
              "      <td>193.910473</td>\n",
              "    </tr>\n",
              "    <tr>\n",
              "      <th>2358</th>\n",
              "      <td>2022</td>\n",
              "      <td>100</td>\n",
              "      <td>Data Scientist</td>\n",
              "      <td>EN</td>\n",
              "      <td>HU</td>\n",
              "      <td>HU</td>\n",
              "      <td>17684</td>\n",
              "      <td>51901.893117</td>\n",
              "      <td>34217.893117</td>\n",
              "      <td>193.496342</td>\n",
              "    </tr>\n",
              "    <tr>\n",
              "      <th>3664</th>\n",
              "      <td>2021</td>\n",
              "      <td>0</td>\n",
              "      <td>Data Engineer</td>\n",
              "      <td>MI</td>\n",
              "      <td>RO</td>\n",
              "      <td>US</td>\n",
              "      <td>26005</td>\n",
              "      <td>75016.337516</td>\n",
              "      <td>49011.337516</td>\n",
              "      <td>188.468900</td>\n",
              "    </tr>\n",
              "    <tr>\n",
              "      <th>3455</th>\n",
              "      <td>2020</td>\n",
              "      <td>0</td>\n",
              "      <td>Product Data Analyst</td>\n",
              "      <td>MI</td>\n",
              "      <td>HN</td>\n",
              "      <td>HN</td>\n",
              "      <td>20000</td>\n",
              "      <td>56363.844200</td>\n",
              "      <td>36363.844200</td>\n",
              "      <td>181.819221</td>\n",
              "    </tr>\n",
              "    <tr>\n",
              "      <th>1166</th>\n",
              "      <td>2023</td>\n",
              "      <td>100</td>\n",
              "      <td>Data Scientist</td>\n",
              "      <td>EN</td>\n",
              "      <td>BR</td>\n",
              "      <td>BR</td>\n",
              "      <td>19522</td>\n",
              "      <td>51098.758993</td>\n",
              "      <td>31576.758993</td>\n",
              "      <td>161.749611</td>\n",
              "    </tr>\n",
              "    <tr>\n",
              "      <th>998</th>\n",
              "      <td>2023</td>\n",
              "      <td>50</td>\n",
              "      <td>Data Science Consultant</td>\n",
              "      <td>SE</td>\n",
              "      <td>TH</td>\n",
              "      <td>TH</td>\n",
              "      <td>29453</td>\n",
              "      <td>76149.339724</td>\n",
              "      <td>46696.339724</td>\n",
              "      <td>158.545275</td>\n",
              "    </tr>\n",
              "    <tr>\n",
              "      <th>1037</th>\n",
              "      <td>2023</td>\n",
              "      <td>0</td>\n",
              "      <td>Data Engineer</td>\n",
              "      <td>SE</td>\n",
              "      <td>US</td>\n",
              "      <td>US</td>\n",
              "      <td>65000</td>\n",
              "      <td>165363.682889</td>\n",
              "      <td>100363.682889</td>\n",
              "      <td>154.405666</td>\n",
              "    </tr>\n",
              "    <tr>\n",
              "      <th>1852</th>\n",
              "      <td>2022</td>\n",
              "      <td>100</td>\n",
              "      <td>Data Engineer</td>\n",
              "      <td>SE</td>\n",
              "      <td>US</td>\n",
              "      <td>US</td>\n",
              "      <td>63000</td>\n",
              "      <td>159209.000570</td>\n",
              "      <td>96209.000570</td>\n",
              "      <td>152.712699</td>\n",
              "    </tr>\n",
              "    <tr>\n",
              "      <th>1134</th>\n",
              "      <td>2023</td>\n",
              "      <td>100</td>\n",
              "      <td>Data Engineer</td>\n",
              "      <td>SE</td>\n",
              "      <td>US</td>\n",
              "      <td>US</td>\n",
              "      <td>66000</td>\n",
              "      <td>164808.352602</td>\n",
              "      <td>98808.352602</td>\n",
              "      <td>149.709625</td>\n",
              "    </tr>\n",
              "    <tr>\n",
              "      <th>3694</th>\n",
              "      <td>2021</td>\n",
              "      <td>50</td>\n",
              "      <td>Machine Learning Engineer</td>\n",
              "      <td>MI</td>\n",
              "      <td>SI</td>\n",
              "      <td>SI</td>\n",
              "      <td>24823</td>\n",
              "      <td>61308.709566</td>\n",
              "      <td>36485.709566</td>\n",
              "      <td>146.983481</td>\n",
              "    </tr>\n",
              "  </tbody>\n",
              "</table>\n",
              "</div>"
            ],
            "text/plain": [
              "      work_year  remote_ratio                           job_title  \\\n",
              "2022       2022            50       3D Computer Vision Researcher   \n",
              "3667       2021           100                      Data Scientist   \n",
              "1257       2023             0                       Data Engineer   \n",
              "3485       2021           100  Applied Machine Learning Scientist   \n",
              "3434       2022           100            Computer Vision Engineer   \n",
              "2578       2021            50                  Power BI Developer   \n",
              "3537       2021            50       3D Computer Vision Researcher   \n",
              "3696       2021             0                       Data Engineer   \n",
              "2840       2022           100                        Data Analyst   \n",
              "1695       2023             0                   Applied Scientist   \n",
              "2923       2021            50   Computer Vision Software Engineer   \n",
              "2358       2022           100                      Data Scientist   \n",
              "3664       2021             0                       Data Engineer   \n",
              "3455       2020             0                Product Data Analyst   \n",
              "1166       2023           100                      Data Scientist   \n",
              "998        2023            50             Data Science Consultant   \n",
              "1037       2023             0                       Data Engineer   \n",
              "1852       2022           100                       Data Engineer   \n",
              "1134       2023           100                       Data Engineer   \n",
              "3694       2021            50           Machine Learning Engineer   \n",
              "\n",
              "     experience_level employee_residence company_location  actual_salary  \\\n",
              "2022               SE                 CA               AL          10000   \n",
              "3667               MI                 IN               US           5679   \n",
              "1257               EN                 VN               VN          12000   \n",
              "3485               MI                 VN               US          38400   \n",
              "3434               EN                 PT               LU          10000   \n",
              "2578               EN                 IN               IN           5409   \n",
              "3537               MI                 IN               IN           5409   \n",
              "3696               MI                 IT               US          20000   \n",
              "2840               EN                 BR               BR           7799   \n",
              "1695               SE                 US               US          72000   \n",
              "2923               EN                 DK               DK          19073   \n",
              "2358               EN                 HU               HU          17684   \n",
              "3664               MI                 RO               US          26005   \n",
              "3455               MI                 HN               HN          20000   \n",
              "1166               EN                 BR               BR          19522   \n",
              "998                SE                 TH               TH          29453   \n",
              "1037               SE                 US               US          65000   \n",
              "1852               SE                 US               US          63000   \n",
              "1134               SE                 US               US          66000   \n",
              "3694               MI                 SI               SI          24823   \n",
              "\n",
              "      predicted_salary      abs_error  error_percent  \n",
              "2022     112898.183647  102898.183647    1028.981836  \n",
              "3667      37997.261718   32318.261718     569.083672  \n",
              "1257      65170.118735   53170.118735     443.084323  \n",
              "3485     196214.806956  157814.806956     410.976060  \n",
              "3434      39246.022609   29246.022609     292.460226  \n",
              "2578      21194.703884   15785.703884     291.841447  \n",
              "3537      19990.596789   14581.596789     269.580270  \n",
              "3696      69597.688544   49597.688544     247.988443  \n",
              "2840      25005.817414   17206.817414     220.628509  \n",
              "1695     225100.563549  153100.563549     212.639672  \n",
              "2923      56057.544464   36984.544464     193.910473  \n",
              "2358      51901.893117   34217.893117     193.496342  \n",
              "3664      75016.337516   49011.337516     188.468900  \n",
              "3455      56363.844200   36363.844200     181.819221  \n",
              "1166      51098.758993   31576.758993     161.749611  \n",
              "998       76149.339724   46696.339724     158.545275  \n",
              "1037     165363.682889  100363.682889     154.405666  \n",
              "1852     159209.000570   96209.000570     152.712699  \n",
              "1134     164808.352602   98808.352602     149.709625  \n",
              "3694      61308.709566   36485.709566     146.983481  "
            ]
          },
          "execution_count": 31,
          "metadata": {},
          "output_type": "execute_result"
        }
      ],
      "source": [
        "# Ваш код здесь\n",
        "from matplotlib import pyplot as plt\n",
        "import numpy as np\n",
        "import seaborn as sns\n",
        "\n",
        "# Создаем DataFrame с фактическими и предсказанными значениями\n",
        "error_analysis_df = X_test.copy()\n",
        "error_analysis_df['actual_salary'] = y_test\n",
        "error_analysis_df['predicted_salary'] = p1.predict(X_test)\n",
        "error_analysis_df['abs_error'] = np.abs(error_analysis_df['actual_salary'] - error_analysis_df['predicted_salary'])\n",
        "error_analysis_df['error_percent'] = (error_analysis_df['abs_error'] / error_analysis_df['actual_salary']) * 100\n",
        "\n",
        "# Топ-20 примеров по абсолютной ошибке\n",
        "top_errors = error_analysis_df.sort_values('error_percent', ascending=False).head(20)\n",
        "\n",
        "# Визуализация ошибок\n",
        "plt.figure(figsize=(12, 6))\n",
        "sns.scatterplot(x='actual_salary', y='predicted_salary', data=error_analysis_df, alpha=0.6, hue='experience_level')\n",
        "plt.plot([y_test.min(), y_test.max()], [y_test.min(), y_test.max()], 'r--')\n",
        "plt.title('Фактические vs Предсказанные зарплаты')\n",
        "plt.xlabel('Фактическая зарплата (USD)')\n",
        "plt.ylabel('Предсказанная зарплата (USD)')\n",
        "plt.show()\n",
        "\n",
        "# Вывод топ-20 ошибок с ключевыми признаками\n",
        "top_errors[['work_year', 'remote_ratio', 'job_title',\n",
        "            'experience_level',\n",
        "            'employee_residence', 'company_location', \n",
        "            'actual_salary', 'predicted_salary', \n",
        "            'abs_error', 'error_percent']]"
      ]
    },
    {
      "cell_type": "code",
      "execution_count": 32,
      "id": "05442d3a",
      "metadata": {},
      "outputs": [
        {
          "data": {
            "text/plain": [
              "6"
            ]
          },
          "execution_count": 32,
          "metadata": {},
          "output_type": "execute_result"
        }
      ],
      "source": [
        "# Соотношение локаций компании и сотрудника - 35%\n",
        "top_errors[top_errors['company_location'] != top_errors['employee_residence']].shape[0]  # 7 из 20"
      ]
    },
    {
      "cell_type": "code",
      "execution_count": 33,
      "id": "593306b7",
      "metadata": {},
      "outputs": [
        {
          "data": {
            "text/plain": [
              "remote_ratio\n",
              "100    8\n",
              "50     6\n",
              "0      6\n",
              "Name: count, dtype: int64"
            ]
          },
          "execution_count": 33,
          "metadata": {},
          "output_type": "execute_result"
        }
      ],
      "source": [
        "# Распределение remote_ratio в ошибках\n",
        "top_errors['remote_ratio'].value_counts()"
      ]
    },
    {
      "cell_type": "code",
      "execution_count": 34,
      "id": "e709238f",
      "metadata": {},
      "outputs": [
        {
          "data": {
            "text/plain": [
              "work_year\n",
              "2021    8\n",
              "2023    6\n",
              "2022    5\n",
              "2020    1\n",
              "Name: count, dtype: int64"
            ]
          },
          "execution_count": 34,
          "metadata": {},
          "output_type": "execute_result"
        }
      ],
      "source": [
        "# Распределение по годам\n",
        "top_errors['work_year'].value_counts()"
      ]
    },
    {
      "cell_type": "markdown",
      "id": "db2e8f8c",
      "metadata": {},
      "source": [
        "### Выводы"
      ]
    },
    {
      "cell_type": "markdown",
      "id": "AHl7Emrg8Tfj",
      "metadata": {
        "id": "AHl7Emrg8Tfj"
      },
      "source": [
        "**Ваш ответ здесь**.\n",
        "\n",
        "Изучим Топ-20 примеров с наибольшей ошибкой, причем по относительной ошибке, т.к. целевая метрика - MAPE.\n",
        "\n",
        "1. Албания  \n",
        "Самая большая ошибка 1172% - уникальное наблюдение #2022, где `company_location` = 'AL' (Albania). Тут `actual_salary` = 10000, а `predicted_salary` = 127256. Интересно то, что для Албании з.п. $10000/год - это примерно среднее значение (источник: https://www.numbeo.com/cost-of-living/country_result.jsp?country=Albania&displayCurrency=EUR). Парадокс в том, что такую ЗП предлагают кандидату в Канаде(!), на что и среагировала модель, предсказавшую зарплату в $127256.\n",
        "Парадокс не разрешить, поэтому просто удалим это наблюдение из данных.\n",
        "    > удалить #2022 из данных\n",
        "2. Географические аномалии  \n",
        "- 35% из Топ-20 ошибок имеют несовпадение `company_location` и `employee_residence`.  \n",
        "    > добавить признак \"несоответствие локаций\"\n",
        "- 70% из Топ-20 ошибок имеют `remote_ratio` = 100 или 50.\n",
        "3. Временные аномалии  \n",
        "- 45% из Топ-20 ошибок имеют `work_year` = 2021, хотя он достаточно старый.\n",
        "    > Возможная митигация:\n",
        "    > - учесть инфляцию - привести ЗП к уровню 2023 года, а признак `work_year` удалить.\n",
        "4. Много ошибок для \"бедных\" стран.\n",
        "    > Возможная митигация:\n",
        "    > - добавление признаков - экономических характеристик страны кандидата (например, уровня з.п., уровня жизни, ВВП на душу населения), предполагая, что предлагаемая ЗП должна быть откалибрована по уровню ЗП в стране найма.\n",
        "    > - добавление весов обратно пропоциональных частоте появления страны в данных (в CatBoost - sample_weight) \n",
        "    > - суперсемплинг для редких стран\n",
        "5. Ошибки для редких должностей\n",
        "    > Возможная митигация:\n",
        "    > - группировка редких должностей в \"Other\".\n",
        "    > - суперсемплинг для редких должностей\n",
        "    > - добавление весов обратно пропоциональных частоте появления должности в данных\n",
        " \n",
        "\n",
        "**Стратегии улучшения модели.**\n",
        "1. добавить бинарные признаки для наблюдений с комбинациями:\n",
        "   * удаленка и низкий experience_level \n",
        "   * несовпадение локаций + экзотическая локация\n",
        "2. Добавить иерархические признаки:\n",
        "   * для `job_title`: блок-функция-уровень\n",
        "   * для `company_location`: страна, регион, ВВП/на душу, уровень ЗП, уровень расходов\n",
        "   * для `employee_residence`: -//-\n",
        "3. Для редких должностей:\n",
        "   * Semantic embedding названий должностей (например, через Word2Vec)\n",
        "   * группировка в \"Other\"\n",
        "4. Для редких стран:\n",
        "   * добавление признаков - экономических характеристик страны найма (уровень з.п., уровень жизни(?), ВВП на душу населения), предполагая, что предлагаемая ЗП должна быть откалибрована по уровню ЗП в стране найма.\n",
        "   * добавление весов обратно пропоциональных частоте появления страны в данных"
      ]
    },
    {
      "cell_type": "markdown",
      "id": "0bb42f2e",
      "metadata": {
        "id": "0bb42f2e"
      },
      "source": [
        "## **Задание 11 (0.5 балла)**\n",
        "\n",
        "Придумайте признаки для улучшения качества модели на основе предыдущего пункта. Как вам кажется какими признаками можно улучшить качетсво модели? Реализуйте признаки и проверьте улучшилось ли качество модели.\n",
        "\n",
        "**Примечание:**\n",
        "Полный балл за задание ставится даже при отсутствии улучшения качества модели, важно попробовать проверить свои гипотезы и сделать выводы."
      ]
    },
    {
      "cell_type": "code",
      "execution_count": 35,
      "id": "d4ec7b37",
      "metadata": {},
      "outputs": [],
      "source": [
        "# признаки связанные с локацией\n",
        "def add_location_features(df):\n",
        "    # Признак несоответствия локаций\n",
        "    df['location_mismatch'] = (df['company_location'] != df['employee_residence']).astype(int)\n",
        "    \n",
        "    # Признак удаленной работы для junior\n",
        "    df['remote_junior'] = ((df['remote_ratio'] >= 50) & \n",
        "                          (df['experience_level'] == 'EN')).astype(int)\n",
        "    \n",
        "    return df\n"
      ]
    },
    {
      "cell_type": "code",
      "execution_count": 36,
      "id": "mBuGEyH68lx2",
      "metadata": {
        "id": "mBuGEyH68lx2"
      },
      "outputs": [],
      "source": [
        "# признаки связанные с должностью\n",
        "def process_job_titles(df):\n",
        "    # Основная роль (role)\n",
        "    role_mapping = {\n",
        "        \"DEVOPS\": ['devops'],\n",
        "        \"MANAGER\": ['manager'],\n",
        "        \"ARCHITECT\": ['architect', 'strategist'],\n",
        "        \"TECHICIAN\": ['technician'],\n",
        "        'SCIENTIST': ['science', 'scientist'],\n",
        "        'RESEARCH': ['researcher', 'research'],\n",
        "        \"OPERATIONS\": ['data operations', 'mlops'],\n",
        "        'ANALYST': ['analyst', 'analytics'],\n",
        "        'ENGINEER': ['engineer', 'developer', 'programmer', 'data management', 'etl', 'infrastructure', 'azure', 'cloud', 'modeler',\n",
        "                         'data lead', 'data specialist', 'head of data'],\n",
        "        \"QUALITY\": ['data quality', 'data quality analyst', 'data quality engineer'],\n",
        "        'OTHER': []\n",
        "    }\n",
        "    \n",
        "    # Уровень должности (level)\n",
        "    level_mapping = {\n",
        "        'JUNIOR': ['junior'],\n",
        "        'HEAD': ['head', 'director', 'manager', 'principal', 'staff'],\n",
        "        'LEAD': ['lead'],\n",
        "        'SPECIALIST': ['specialist', 'consultant', 'architect'],\n",
        "        'REGULAR': []  # все остальные\n",
        "    }\n",
        "    \n",
        "    # Специализация (domain)\n",
        "    domain_mapping = {\n",
        "        'FINANCE': ['financial', 'finance'],\n",
        "        'MARKETING': ['marketing'],\n",
        "        'PRODUCT': ['product'],\n",
        "        'CLOUD': ['azure', 'cloud'],\n",
        "        'QA': ['quality', 'data quality'],\n",
        "        'BI': ['bi', 'business intelligence'],\n",
        "        'ML': ['ml', 'machine learning', 'deep learning', 'ai', 'computer vision', 'nlp', 'mlops'],\n",
        "        'DATA': ['big data', 'data', 'etl'],\n",
        "        'GENERAL': []  # все остальные\n",
        "    }\n",
        "    \n",
        "    def get_category(title, mapping):\n",
        "        title = title.lower()\n",
        "        for category, keywords in mapping.items():\n",
        "            if any(keyword in title for keyword in keywords):\n",
        "                return category\n",
        "        return list(mapping.keys())[-1]  # возвращаем последнюю категорию как дефолтную\n",
        "    \n",
        "    # Создаем новые столбцы\n",
        "    df['job_role'] = df['job_title'].apply(lambda x: get_category(x, role_mapping))\n",
        "    df['job_level'] = df['job_title'].apply(lambda x: get_category(x, level_mapping))\n",
        "    df['job_domain'] = df['job_title'].apply(lambda x: get_category(x, domain_mapping))\n",
        "    \n",
        "    # Создаем комбинированные признаки\n",
        "    df['level_domain_role'] = df['job_level'] + '_' +  df['job_domain']+ '_' + df['job_role']\n",
        "    \n",
        "    return df\n"
      ]
    },
    {
      "cell_type": "code",
      "execution_count": 37,
      "id": "c419d394",
      "metadata": {},
      "outputs": [],
      "source": [
        "# Загружаем данные из World Bank\n",
        "# url = \"https://api.worldbank.org/v2/en/indicator/NY.GDP.PCAP.CD?downloadformat=csv\"\n",
        "# скачается ZIP-архив, в котором лежит CSV-файл\n",
        "# первые 4 строки - не данные, а описание, поэтому пропускаем\n",
        "gdp_data = pd.read_csv('./API_NY.GDP.PCAP.CD_DS2_en_csv_v2_62/API_NY.GDP.PCAP.CD_DS2_en_csv_v2_62.csv', skiprows=4)\n",
        "\n",
        "# Берем последние 4 года (самый последний стобец - пустой)\n",
        "years = gdp_data.columns[-5:-1]\n",
        "gdp_by_country = gdp_data.set_index('Country Name')[years]\n",
        "# Очищаем от NaN значений\n",
        "gdp_by_country = gdp_by_country.dropna()\n",
        "\n",
        "# # Создаем словарь для соответствия названий стран и кодов\n",
        "# country_code_map = {name: code for code, name in zip(iso3166.keys(), iso3166.values())}\n",
        "\n",
        "# # Добавляем столбец с кодами стран\n",
        "# gdp_by_country['Country Code'] = gdp_by_country.index.map(country_code_map)\n"
      ]
    },
    {
      "cell_type": "code",
      "execution_count": 38,
      "id": "bde93c30",
      "metadata": {},
      "outputs": [],
      "source": [
        "# Экономические признаки\n",
        "def add_economic_features(df):\n",
        "    # Создаем словарь для соответствия кодов стран (развернутый iso3166)\n",
        "    country_code_map = {code: name for code, name in iso3166.items()}\n",
        "    \n",
        "    # Добавляем GDP per capita для каждой строки\n",
        "    def get_gdp(row, gdp_data):\n",
        "        country_name = country_code_map.get(row['employee_residence'])\n",
        "        if country_name and country_name in gdp_data.index:\n",
        "            return gdp_data.loc[country_name, str(row['work_year'])]\n",
        "        return None\n",
        "        \n",
        "    df['GDP_per_capita'] = df.apply(lambda row: get_gdp(row, gdp_by_country), axis=1)\n",
        "    \n",
        "    # Заполняем пропущенные значения медианой\n",
        "    df['GDP_per_capita'] = df['GDP_per_capita'].fillna(df['GDP_per_capita'].median())\n",
        "    return df\n"
      ]
    },
    {
      "cell_type": "code",
      "execution_count": 39,
      "id": "dfaa389a",
      "metadata": {},
      "outputs": [],
      "source": [
        "# Применяем все улучшения\n",
        "X_improved = (X.pipe(add_location_features)\n",
        "                .pipe(process_job_titles)\n",
        "                .pipe(add_economic_features)\n",
        "            )"
      ]
    },
    {
      "cell_type": "markdown",
      "id": "c69c2178",
      "metadata": {},
      "source": [
        "#### Проверяем улучшение качества"
      ]
    },
    {
      "cell_type": "code",
      "execution_count": 40,
      "id": "9dfc93a2",
      "metadata": {},
      "outputs": [
        {
          "name": "stdout",
          "output_type": "stream",
          "text": [
            "MAPE: 0.41679081806706264\n",
            "RMSE: 51858.429281368815\n"
          ]
        },
        {
          "name": "stderr",
          "output_type": "stream",
          "text": [
            "/Users/yukonoff/code/hse_ai_24/hse-ai24-ml/.venv/lib/python3.12/site-packages/sklearn/preprocessing/_encoders.py:246: UserWarning: Found unknown categories in columns [2, 3, 4, 9] during transform. These unknown categories will be encoded as all zeros\n",
            "  warnings.warn(\n"
          ]
        }
      ],
      "source": [
        "X_train_improved, X_test_improved, y_train, y_test = train_test_split(\n",
        "    X_improved, y, test_size=0.2, random_state=42\n",
        ")\n",
        "\n",
        "cols_cat_improved = X_improved.select_dtypes(include=['object']).columns\n",
        "\n",
        "# модель с новыми признаками\n",
        "p_ohe_2 = ColumnTransformer([\n",
        "    ('encode', OneHotEncoder(sparse_output=False, handle_unknown='ignore', drop='first'), cols_cat_improved),\n",
        "], remainder='passthrough')\n",
        "\n",
        "p1_improved = Pipeline([\n",
        "    ('ohe', p_ohe_2),\n",
        "    ('boost', CatBoostRegressor(verbose=False, random_state=42))\n",
        "])\n",
        "\n",
        "p1_improved.fit(X_train_improved, y_train)\n",
        "predictions = p1_improved.predict(X_test_improved)\n",
        "\n",
        "_ = evaluate_model(y_test, predictions)"
      ]
    },
    {
      "cell_type": "markdown",
      "id": "4bd5d3fd",
      "metadata": {},
      "source": [
        "#### Вывод"
      ]
    },
    {
      "cell_type": "markdown",
      "id": "RLhwEaZS8oHr",
      "metadata": {
        "id": "RLhwEaZS8oHr"
      },
      "source": [
        "Сравнение метрик качества CatBoost + OHE без дополнительных признаков показывал\n",
        "\n",
        "| # | MAPE  | RMSE  | Прим.                                       |\n",
        "|---|-------|-------|---------------------------------------------|\n",
        "| 1 | 0.42  | 51672 | CatBoost + OHE без дополнительных признаков |\n",
        "| 2 | 0.42  | 51858 | CatBoost + OHE с дополнительными признаками |\n",
        "\n",
        "Стало даже незначительно хуже по RMSE.  \n",
        "**Не будем использовать дополнительные признаки.**"
      ]
    },
    {
      "cell_type": "markdown",
      "id": "3578292c",
      "metadata": {
        "id": "3578292c"
      },
      "source": [
        "## **Задание 12 (1 балл)**\n",
        "\n",
        "Поупражняемся с разными бустингами!\n",
        "\n",
        "- Используйте catboost.\n",
        "- Обучите модель — на полном наборе данных с категориальными признаками.\n",
        "- Подберите оптимальные гиперпараметры.\n",
        "- Оцените качество итоговой модели, скорость обучения и скорость предсказания.\n",
        "\n",
        "\n",
        "**Примечание:**\n",
        "Замерять скорость = смотреть, как долго исполняется код."
      ]
    },
    {
      "cell_type": "code",
      "execution_count": 43,
      "id": "8efceaf0",
      "metadata": {},
      "outputs": [],
      "source": [
        "# восстановим данные, которые изменились в предыдущих пунктах\n",
        "X = df.drop(columns=['salary_in_usd'], axis=1)"
      ]
    },
    {
      "cell_type": "code",
      "execution_count": 44,
      "id": "48077bf0",
      "metadata": {},
      "outputs": [
        {
          "name": "stdout",
          "output_type": "stream",
          "text": [
            "<class 'pandas.core.frame.DataFrame'>\n",
            "Index: 2584 entries, 0 to 3754\n",
            "Data columns (total 8 columns):\n",
            " #   Column              Non-Null Count  Dtype \n",
            "---  ------              --------------  ----- \n",
            " 0   work_year           2584 non-null   int64 \n",
            " 1   experience_level    2584 non-null   object\n",
            " 2   employment_type     2584 non-null   object\n",
            " 3   job_title           2584 non-null   object\n",
            " 4   employee_residence  2584 non-null   object\n",
            " 5   remote_ratio        2584 non-null   int64 \n",
            " 6   company_location    2584 non-null   object\n",
            " 7   company_size        2584 non-null   object\n",
            "dtypes: int64(2), object(6)\n",
            "memory usage: 181.7+ KB\n"
          ]
        }
      ],
      "source": [
        "X.info()"
      ]
    },
    {
      "cell_type": "code",
      "execution_count": 48,
      "id": "277505f3",
      "metadata": {},
      "outputs": [
        {
          "name": "stderr",
          "output_type": "stream",
          "text": [
            "[I 2025-02-15 03:26:40,007] A new study created in memory with name: no-name-c377efa7-6bf3-4eee-a0fd-57fdca0cf575\n",
            "[I 2025-02-15 03:26:41,429] Trial 0 finished with value: 0.431086705357789 and parameters: {'iterations': 170, 'learning_rate': 0.08904272578609038, 'depth': 9, 'l2_leaf_reg': 7}. Best is trial 0 with value: 0.431086705357789.\n",
            "[I 2025-02-15 03:26:48,483] Trial 1 finished with value: 0.6331737906066591 and parameters: {'iterations': 486, 'learning_rate': 0.0019093679590368793, 'depth': 9, 'l2_leaf_reg': 7}. Best is trial 0 with value: 0.431086705357789.\n",
            "[I 2025-02-15 03:26:55,187] Trial 2 finished with value: 0.45622256937872574 and parameters: {'iterations': 613, 'learning_rate': 0.00501005832870254, 'depth': 8, 'l2_leaf_reg': 1}. Best is trial 0 with value: 0.431086705357789.\n",
            "[I 2025-02-15 03:26:59,900] Trial 3 finished with value: 0.43996398654578217 and parameters: {'iterations': 419, 'learning_rate': 0.011320053209659437, 'depth': 8, 'l2_leaf_reg': 4}. Best is trial 0 with value: 0.431086705357789.\n",
            "[I 2025-02-15 03:27:01,734] Trial 4 finished with value: 0.6193139764145942 and parameters: {'iterations': 296, 'learning_rate': 0.003238738462707974, 'depth': 5, 'l2_leaf_reg': 8}. Best is trial 0 with value: 0.431086705357789.\n",
            "[I 2025-02-15 03:27:11,522] Trial 5 finished with value: 0.4501668189105407 and parameters: {'iterations': 691, 'learning_rate': 0.0076221970762668165, 'depth': 10, 'l2_leaf_reg': 8}. Best is trial 0 with value: 0.431086705357789.\n",
            "[I 2025-02-15 03:27:21,691] Trial 6 finished with value: 0.5965351875648832 and parameters: {'iterations': 815, 'learning_rate': 0.0014927938365107373, 'depth': 10, 'l2_leaf_reg': 6}. Best is trial 0 with value: 0.431086705357789.\n",
            "[I 2025-02-15 03:27:22,524] Trial 7 finished with value: 0.5592736599800853 and parameters: {'iterations': 119, 'learning_rate': 0.01312910881297767, 'depth': 9, 'l2_leaf_reg': 5}. Best is trial 0 with value: 0.431086705357789.\n",
            "[I 2025-02-15 03:27:23,743] Trial 8 finished with value: 0.42874165785444474 and parameters: {'iterations': 182, 'learning_rate': 0.05271219825345688, 'depth': 8, 'l2_leaf_reg': 9}. Best is trial 8 with value: 0.42874165785444474.\n",
            "[I 2025-02-15 03:27:26,030] Trial 9 finished with value: 0.41976260913848656 and parameters: {'iterations': 297, 'learning_rate': 0.06121153512154276, 'depth': 6, 'l2_leaf_reg': 5}. Best is trial 9 with value: 0.41976260913848656.\n",
            "[I 2025-02-15 03:27:28,382] Trial 10 finished with value: 0.4199740374004623 and parameters: {'iterations': 335, 'learning_rate': 0.255944444143256, 'depth': 5, 'l2_leaf_reg': 3}. Best is trial 9 with value: 0.41976260913848656.\n",
            "[I 2025-02-15 03:27:30,707] Trial 11 finished with value: 0.4182908926646219 and parameters: {'iterations': 354, 'learning_rate': 0.29911817680957553, 'depth': 5, 'l2_leaf_reg': 3}. Best is trial 11 with value: 0.4182908926646219.\n",
            "[I 2025-02-15 03:27:32,352] Trial 12 finished with value: 0.41153863434508553 and parameters: {'iterations': 304, 'learning_rate': 0.29959608051163733, 'depth': 4, 'l2_leaf_reg': 2}. Best is trial 12 with value: 0.41153863434508553.\n",
            "[I 2025-02-15 03:27:34,857] Trial 13 finished with value: 0.43031673274953774 and parameters: {'iterations': 469, 'learning_rate': 0.27872247577626685, 'depth': 4, 'l2_leaf_reg': 1}. Best is trial 12 with value: 0.41153863434508553.\n",
            "[I 2025-02-15 03:27:38,080] Trial 14 finished with value: 0.4105915458055918 and parameters: {'iterations': 603, 'learning_rate': 0.1350375345754401, 'depth': 4, 'l2_leaf_reg': 3}. Best is trial 14 with value: 0.4105915458055918.\n",
            "[I 2025-02-15 03:27:42,784] Trial 15 finished with value: 0.41576108925370175 and parameters: {'iterations': 921, 'learning_rate': 0.121155837403222, 'depth': 4, 'l2_leaf_reg': 2}. Best is trial 14 with value: 0.4105915458055918.\n",
            "[I 2025-02-15 03:27:47,916] Trial 16 finished with value: 0.4167090770063798 and parameters: {'iterations': 618, 'learning_rate': 0.033297946325193575, 'depth': 6, 'l2_leaf_reg': 3}. Best is trial 14 with value: 0.4105915458055918.\n",
            "[I 2025-02-15 03:27:51,679] Trial 17 finished with value: 0.414866269259251 and parameters: {'iterations': 757, 'learning_rate': 0.14387633640256084, 'depth': 4, 'l2_leaf_reg': 2}. Best is trial 14 with value: 0.4105915458055918.\n",
            "[I 2025-02-15 03:27:55,890] Trial 18 finished with value: 0.4171837220633313 and parameters: {'iterations': 553, 'learning_rate': 0.02970422077940955, 'depth': 6, 'l2_leaf_reg': 4}. Best is trial 14 with value: 0.4105915458055918.\n",
            "[I 2025-02-15 03:28:06,042] Trial 19 finished with value: 0.4297716486223207 and parameters: {'iterations': 987, 'learning_rate': 0.15692239400582392, 'depth': 7, 'l2_leaf_reg': 2}. Best is trial 14 with value: 0.4105915458055918.\n",
            "[I 2025-02-15 03:28:10,453] Trial 20 finished with value: 0.41741311573359063 and parameters: {'iterations': 695, 'learning_rate': 0.023436606997718535, 'depth': 5, 'l2_leaf_reg': 4}. Best is trial 14 with value: 0.4105915458055918.\n",
            "[I 2025-02-15 03:28:14,184] Trial 21 finished with value: 0.41944023800675695 and parameters: {'iterations': 739, 'learning_rate': 0.15899381990224487, 'depth': 4, 'l2_leaf_reg': 2}. Best is trial 14 with value: 0.4105915458055918.\n",
            "[I 2025-02-15 03:28:18,229] Trial 22 finished with value: 0.41226171635451914 and parameters: {'iterations': 784, 'learning_rate': 0.08433700550333859, 'depth': 4, 'l2_leaf_reg': 1}. Best is trial 14 with value: 0.4105915458055918.\n",
            "[I 2025-02-15 03:28:22,598] Trial 23 finished with value: 0.40800116120624913 and parameters: {'iterations': 853, 'learning_rate': 0.06489449057625139, 'depth': 4, 'l2_leaf_reg': 1}. Best is trial 23 with value: 0.40800116120624913.\n",
            "[I 2025-02-15 03:28:26,080] Trial 24 finished with value: 0.41090972526295905 and parameters: {'iterations': 537, 'learning_rate': 0.04077871859251464, 'depth': 5, 'l2_leaf_reg': 1}. Best is trial 23 with value: 0.40800116120624913.\n",
            "[I 2025-02-15 03:28:31,744] Trial 25 finished with value: 0.41078431582508107 and parameters: {'iterations': 850, 'learning_rate': 0.0414739411413372, 'depth': 5, 'l2_leaf_reg': 1}. Best is trial 23 with value: 0.40800116120624913.\n",
            "[I 2025-02-15 03:28:38,687] Trial 26 finished with value: 0.41681694092090604 and parameters: {'iterations': 861, 'learning_rate': 0.019414596538412578, 'depth': 6, 'l2_leaf_reg': 3}. Best is trial 23 with value: 0.40800116120624913.\n",
            "[I 2025-02-15 03:28:44,314] Trial 27 finished with value: 0.4168615062738744 and parameters: {'iterations': 872, 'learning_rate': 0.07102208309972792, 'depth': 5, 'l2_leaf_reg': 1}. Best is trial 23 with value: 0.40800116120624913.\n",
            "[I 2025-02-15 03:28:54,150] Trial 28 finished with value: 0.4182903386296597 and parameters: {'iterations': 950, 'learning_rate': 0.04447459982610336, 'depth': 7, 'l2_leaf_reg': 2}. Best is trial 23 with value: 0.40800116120624913.\n",
            "[I 2025-02-15 03:28:58,458] Trial 29 finished with value: 0.4093962130138881 and parameters: {'iterations': 838, 'learning_rate': 0.07141632107093565, 'depth': 4, 'l2_leaf_reg': 10}. Best is trial 23 with value: 0.40800116120624913.\n",
            "[I 2025-02-15 03:29:01,758] Trial 30 finished with value: 0.40960227880137 and parameters: {'iterations': 654, 'learning_rate': 0.1004361144914425, 'depth': 4, 'l2_leaf_reg': 10}. Best is trial 23 with value: 0.40800116120624913.\n",
            "[I 2025-02-15 03:29:05,060] Trial 31 finished with value: 0.41039593850421 and parameters: {'iterations': 643, 'learning_rate': 0.10135349275675828, 'depth': 4, 'l2_leaf_reg': 10}. Best is trial 23 with value: 0.40800116120624913.\n",
            "[I 2025-02-15 03:29:08,532] Trial 32 finished with value: 0.4082923068953135 and parameters: {'iterations': 682, 'learning_rate': 0.10358415365611945, 'depth': 4, 'l2_leaf_reg': 10}. Best is trial 23 with value: 0.40800116120624913.\n",
            "[I 2025-02-15 03:29:12,058] Trial 33 finished with value: 0.4114527573170042 and parameters: {'iterations': 700, 'learning_rate': 0.07043760998163877, 'depth': 4, 'l2_leaf_reg': 10}. Best is trial 23 with value: 0.40800116120624913.\n",
            "[I 2025-02-15 03:29:17,321] Trial 34 finished with value: 0.4133460635323484 and parameters: {'iterations': 791, 'learning_rate': 0.09445765648042424, 'depth': 5, 'l2_leaf_reg': 9}. Best is trial 23 with value: 0.40800116120624913.\n",
            "[I 2025-02-15 03:29:22,512] Trial 35 finished with value: 0.41537549709430116 and parameters: {'iterations': 922, 'learning_rate': 0.20018442282251667, 'depth': 4, 'l2_leaf_reg': 9}. Best is trial 23 with value: 0.40800116120624913.\n",
            "[I 2025-02-15 03:29:27,467] Trial 36 finished with value: 0.4223258597654206 and parameters: {'iterations': 727, 'learning_rate': 0.18767210613690932, 'depth': 5, 'l2_leaf_reg': 8}. Best is trial 23 with value: 0.40800116120624913.\n",
            "[I 2025-02-15 03:29:33,872] Trial 37 finished with value: 0.41270477040945963 and parameters: {'iterations': 655, 'learning_rate': 0.09163163757414623, 'depth': 7, 'l2_leaf_reg': 10}. Best is trial 23 with value: 0.40800116120624913.\n",
            "[I 2025-02-15 03:29:36,768] Trial 38 finished with value: 0.42692447938407074 and parameters: {'iterations': 569, 'learning_rate': 0.011951845453477055, 'depth': 4, 'l2_leaf_reg': 7}. Best is trial 23 with value: 0.40800116120624913.\n",
            "[I 2025-02-15 03:29:42,893] Trial 39 finished with value: 0.43323097576662545 and parameters: {'iterations': 825, 'learning_rate': 0.006878116962113411, 'depth': 6, 'l2_leaf_reg': 8}. Best is trial 23 with value: 0.40800116120624913.\n",
            "[I 2025-02-15 03:29:50,140] Trial 40 finished with value: 0.5847185293662809 and parameters: {'iterations': 471, 'learning_rate': 0.00273953598637694, 'depth': 9, 'l2_leaf_reg': 6}. Best is trial 23 with value: 0.40800116120624913.\n",
            "[I 2025-02-15 03:29:53,313] Trial 41 finished with value: 0.4066239883141923 and parameters: {'iterations': 645, 'learning_rate': 0.09824844173771989, 'depth': 4, 'l2_leaf_reg': 10}. Best is trial 41 with value: 0.4066239883141923.\n",
            "[I 2025-02-15 03:29:56,262] Trial 42 finished with value: 0.6754336273081809 and parameters: {'iterations': 647, 'learning_rate': 0.0010049082502338162, 'depth': 4, 'l2_leaf_reg': 9}. Best is trial 41 with value: 0.4066239883141923.\n",
            "[I 2025-02-15 03:30:01,845] Trial 43 finished with value: 0.4101551234918565 and parameters: {'iterations': 893, 'learning_rate': 0.05802714234072457, 'depth': 5, 'l2_leaf_reg': 10}. Best is trial 41 with value: 0.4066239883141923.\n",
            "[I 2025-02-15 03:30:05,646] Trial 44 finished with value: 0.40942595981371677 and parameters: {'iterations': 766, 'learning_rate': 0.10929935269940454, 'depth': 4, 'l2_leaf_reg': 9}. Best is trial 41 with value: 0.4066239883141923.\n",
            "[I 2025-02-15 03:30:10,679] Trial 45 finished with value: 0.4181351011740574 and parameters: {'iterations': 786, 'learning_rate': 0.19217853001853183, 'depth': 5, 'l2_leaf_reg': 9}. Best is trial 41 with value: 0.4066239883141923.\n",
            "[I 2025-02-15 03:30:14,710] Trial 46 finished with value: 0.4141947144120552 and parameters: {'iterations': 819, 'learning_rate': 0.05105995115655692, 'depth': 4, 'l2_leaf_reg': 7}. Best is trial 41 with value: 0.4066239883141923.\n",
            "[I 2025-02-15 03:30:18,331] Trial 47 finished with value: 0.4074551203243497 and parameters: {'iterations': 744, 'learning_rate': 0.1126417284200174, 'depth': 4, 'l2_leaf_reg': 9}. Best is trial 41 with value: 0.4066239883141923.\n",
            "[I 2025-02-15 03:30:22,830] Trial 48 finished with value: 0.41249630599606685 and parameters: {'iterations': 722, 'learning_rate': 0.07129188659031847, 'depth': 5, 'l2_leaf_reg': 10}. Best is trial 41 with value: 0.4066239883141923.\n",
            "[I 2025-02-15 03:30:25,671] Trial 49 finished with value: 0.4167377209732617 and parameters: {'iterations': 589, 'learning_rate': 0.031801582494473624, 'depth': 4, 'l2_leaf_reg': 10}. Best is trial 41 with value: 0.4066239883141923.\n",
            "[I 2025-02-15 03:30:34,883] Trial 50 finished with value: 0.43124647906836255 and parameters: {'iterations': 505, 'learning_rate': 0.2230736894865877, 'depth': 10, 'l2_leaf_reg': 8}. Best is trial 41 with value: 0.4066239883141923.\n",
            "[I 2025-02-15 03:30:38,964] Trial 51 finished with value: 0.4116354444897573 and parameters: {'iterations': 758, 'learning_rate': 0.12180501256514167, 'depth': 4, 'l2_leaf_reg': 9}. Best is trial 41 with value: 0.4066239883141923.\n",
            "[I 2025-02-15 03:30:42,311] Trial 52 finished with value: 0.4115982836841142 and parameters: {'iterations': 677, 'learning_rate': 0.12146729784225503, 'depth': 4, 'l2_leaf_reg': 9}. Best is trial 41 with value: 0.4066239883141923.\n",
            "[I 2025-02-15 03:30:46,153] Trial 53 finished with value: 0.409668443069591 and parameters: {'iterations': 771, 'learning_rate': 0.08103338987715372, 'depth': 4, 'l2_leaf_reg': 10}. Best is trial 41 with value: 0.4066239883141923.\n",
            "[I 2025-02-15 03:30:55,877] Trial 54 finished with value: 0.4196436251327743 and parameters: {'iterations': 832, 'learning_rate': 0.0601531095533117, 'depth': 8, 'l2_leaf_reg': 8}. Best is trial 41 with value: 0.4066239883141923.\n",
            "[I 2025-02-15 03:31:00,860] Trial 55 finished with value: 0.419526788234842 and parameters: {'iterations': 1000, 'learning_rate': 0.15523362121198625, 'depth': 4, 'l2_leaf_reg': 5}. Best is trial 41 with value: 0.4066239883141923.\n",
            "[I 2025-02-15 03:31:06,478] Trial 56 finished with value: 0.420475909649707 and parameters: {'iterations': 890, 'learning_rate': 0.11254172531161447, 'depth': 5, 'l2_leaf_reg': 9}. Best is trial 41 with value: 0.4066239883141923.\n",
            "[I 2025-02-15 03:31:09,830] Trial 57 finished with value: 0.4126553618207778 and parameters: {'iterations': 719, 'learning_rate': 0.04919487660030042, 'depth': 4, 'l2_leaf_reg': 6}. Best is trial 41 with value: 0.4066239883141923.\n",
            "[I 2025-02-15 03:31:11,058] Trial 58 finished with value: 0.4650199676419165 and parameters: {'iterations': 208, 'learning_rate': 0.015418961856944515, 'depth': 5, 'l2_leaf_reg': 9}. Best is trial 41 with value: 0.4066239883141923.\n",
            "[I 2025-02-15 03:31:14,146] Trial 59 finished with value: 0.41740954873557107 and parameters: {'iterations': 609, 'learning_rate': 0.2374144695517654, 'depth': 4, 'l2_leaf_reg': 10}. Best is trial 41 with value: 0.4066239883141923.\n",
            "[I 2025-02-15 03:31:18,155] Trial 60 finished with value: 0.41935656704433644 and parameters: {'iterations': 795, 'learning_rate': 0.025257692563489396, 'depth': 4, 'l2_leaf_reg': 8}. Best is trial 41 with value: 0.4066239883141923.\n",
            "[I 2025-02-15 03:31:21,538] Trial 61 finished with value: 0.4089536532254739 and parameters: {'iterations': 686, 'learning_rate': 0.10309925197200324, 'depth': 4, 'l2_leaf_reg': 10}. Best is trial 41 with value: 0.4066239883141923.\n",
            "[I 2025-02-15 03:31:24,952] Trial 62 finished with value: 0.40940472095313146 and parameters: {'iterations': 679, 'learning_rate': 0.07401887526766286, 'depth': 4, 'l2_leaf_reg': 10}. Best is trial 41 with value: 0.4066239883141923.\n",
            "[I 2025-02-15 03:31:28,440] Trial 63 finished with value: 0.41120493323130347 and parameters: {'iterations': 690, 'learning_rate': 0.07794745432060646, 'depth': 4, 'l2_leaf_reg': 10}. Best is trial 41 with value: 0.4066239883141923.\n",
            "[I 2025-02-15 03:31:31,154] Trial 64 finished with value: 0.4170962691203438 and parameters: {'iterations': 398, 'learning_rate': 0.13824270724862853, 'depth': 5, 'l2_leaf_reg': 10}. Best is trial 41 with value: 0.4066239883141923.\n",
            "[I 2025-02-15 03:31:34,500] Trial 65 finished with value: 0.4172675094456507 and parameters: {'iterations': 630, 'learning_rate': 0.03627754526819785, 'depth': 4, 'l2_leaf_reg': 10}. Best is trial 41 with value: 0.4066239883141923.\n",
            "[I 2025-02-15 03:31:38,842] Trial 66 finished with value: 0.40955109966357267 and parameters: {'iterations': 667, 'learning_rate': 0.0628457166386133, 'depth': 5, 'l2_leaf_reg': 4}. Best is trial 41 with value: 0.4066239883141923.\n",
            "[I 2025-02-15 03:31:42,538] Trial 67 finished with value: 0.409968562417072 and parameters: {'iterations': 736, 'learning_rate': 0.16999290047892995, 'depth': 4, 'l2_leaf_reg': 10}. Best is trial 41 with value: 0.4066239883141923.\n",
            "[I 2025-02-15 03:31:45,119] Trial 68 finished with value: 0.4152672846813287 and parameters: {'iterations': 517, 'learning_rate': 0.08480302263839264, 'depth': 4, 'l2_leaf_reg': 9}. Best is trial 41 with value: 0.4066239883141923.\n",
            "[I 2025-02-15 03:31:49,548] Trial 69 finished with value: 0.41201799213955476 and parameters: {'iterations': 706, 'learning_rate': 0.13382888080698566, 'depth': 5, 'l2_leaf_reg': 10}. Best is trial 41 with value: 0.4066239883141923.\n",
            "[I 2025-02-15 03:31:54,236] Trial 70 finished with value: 0.4074977448361814 and parameters: {'iterations': 959, 'learning_rate': 0.06377902671839654, 'depth': 4, 'l2_leaf_reg': 9}. Best is trial 41 with value: 0.4066239883141923.\n",
            "[I 2025-02-15 03:31:59,002] Trial 71 finished with value: 0.41059638240396 and parameters: {'iterations': 956, 'learning_rate': 0.06700672226973221, 'depth': 4, 'l2_leaf_reg': 9}. Best is trial 41 with value: 0.4066239883141923.\n",
            "[I 2025-02-15 03:32:03,539] Trial 72 finished with value: 0.41263700293668537 and parameters: {'iterations': 925, 'learning_rate': 0.05261251247578838, 'depth': 4, 'l2_leaf_reg': 10}. Best is trial 41 with value: 0.4066239883141923.\n",
            "[I 2025-02-15 03:32:06,463] Trial 73 finished with value: 0.40804107000467216 and parameters: {'iterations': 582, 'learning_rate': 0.09137331743526017, 'depth': 4, 'l2_leaf_reg': 10}. Best is trial 41 with value: 0.4066239883141923.\n",
            "[I 2025-02-15 03:32:09,470] Trial 74 finished with value: 0.4105597095708295 and parameters: {'iterations': 578, 'learning_rate': 0.10469004950816464, 'depth': 4, 'l2_leaf_reg': 9}. Best is trial 41 with value: 0.4066239883141923.\n",
            "[I 2025-02-15 03:32:13,722] Trial 75 finished with value: 0.4078217214500729 and parameters: {'iterations': 847, 'learning_rate': 0.0907525126725349, 'depth': 4, 'l2_leaf_reg': 10}. Best is trial 41 with value: 0.4066239883141923.\n",
            "[I 2025-02-15 03:32:19,780] Trial 76 finished with value: 0.4142971428911057 and parameters: {'iterations': 957, 'learning_rate': 0.08857942404531768, 'depth': 5, 'l2_leaf_reg': 9}. Best is trial 41 with value: 0.4066239883141923.\n",
            "[I 2025-02-15 03:32:22,870] Trial 77 finished with value: 0.4146153221231696 and parameters: {'iterations': 613, 'learning_rate': 0.04199699792471063, 'depth': 4, 'l2_leaf_reg': 8}. Best is trial 41 with value: 0.4066239883141923.\n",
            "[I 2025-02-15 03:32:27,253] Trial 78 finished with value: 0.4087838411313839 and parameters: {'iterations': 879, 'learning_rate': 0.09676828333849671, 'depth': 4, 'l2_leaf_reg': 10}. Best is trial 41 with value: 0.4066239883141923.\n",
            "[I 2025-02-15 03:32:32,925] Trial 79 finished with value: 0.41325621620313047 and parameters: {'iterations': 874, 'learning_rate': 0.17282454051238175, 'depth': 5, 'l2_leaf_reg': 7}. Best is trial 41 with value: 0.4066239883141923.\n",
            "[I 2025-02-15 03:32:43,490] Trial 80 finished with value: 0.43141196481631827 and parameters: {'iterations': 855, 'learning_rate': 0.13411806310997562, 'depth': 8, 'l2_leaf_reg': 9}. Best is trial 41 with value: 0.4066239883141923.\n",
            "[I 2025-02-15 03:32:48,045] Trial 81 finished with value: 0.4063906144902286 and parameters: {'iterations': 914, 'learning_rate': 0.10180322483981104, 'depth': 4, 'l2_leaf_reg': 10}. Best is trial 81 with value: 0.4063906144902286.\n",
            "[I 2025-02-15 03:32:52,492] Trial 82 finished with value: 0.40938673980329937 and parameters: {'iterations': 900, 'learning_rate': 0.09506880528003868, 'depth': 4, 'l2_leaf_reg': 10}. Best is trial 81 with value: 0.4063906144902286.\n",
            "[I 2025-02-15 03:32:57,312] Trial 83 finished with value: 0.4116982380217465 and parameters: {'iterations': 972, 'learning_rate': 0.057791218506903455, 'depth': 4, 'l2_leaf_reg': 10}. Best is trial 81 with value: 0.4063906144902286.\n",
            "[I 2025-02-15 03:33:02,038] Trial 84 finished with value: 0.41702662157779935 and parameters: {'iterations': 923, 'learning_rate': 0.12747972640363728, 'depth': 4, 'l2_leaf_reg': 10}. Best is trial 81 with value: 0.4063906144902286.\n",
            "[I 2025-02-15 03:33:06,123] Trial 85 finished with value: 0.4092063176724248 and parameters: {'iterations': 809, 'learning_rate': 0.08328642624290025, 'depth': 4, 'l2_leaf_reg': 9}. Best is trial 81 with value: 0.4063906144902286.\n",
            "[I 2025-02-15 03:33:10,667] Trial 86 finished with value: 0.42767609731207495 and parameters: {'iterations': 908, 'learning_rate': 0.008037003540586602, 'depth': 4, 'l2_leaf_reg': 10}. Best is trial 81 with value: 0.4063906144902286.\n",
            "[I 2025-02-15 03:33:13,498] Trial 87 finished with value: 0.40667392848878203 and parameters: {'iterations': 552, 'learning_rate': 0.11465718347799096, 'depth': 4, 'l2_leaf_reg': 9}. Best is trial 81 with value: 0.4063906144902286.\n",
            "[I 2025-02-15 03:33:16,974] Trial 88 finished with value: 0.40973350341924986 and parameters: {'iterations': 530, 'learning_rate': 0.15583940213505115, 'depth': 5, 'l2_leaf_reg': 9}. Best is trial 81 with value: 0.4063906144902286.\n",
            "[I 2025-02-15 03:33:20,631] Trial 89 finished with value: 0.42270319912294685 and parameters: {'iterations': 450, 'learning_rate': 0.11283595290274959, 'depth': 6, 'l2_leaf_reg': 8}. Best is trial 81 with value: 0.4063906144902286.\n",
            "[I 2025-02-15 03:33:23,727] Trial 90 finished with value: 0.4131748886541956 and parameters: {'iterations': 591, 'learning_rate': 0.20607897703860842, 'depth': 4, 'l2_leaf_reg': 9}. Best is trial 81 with value: 0.4063906144902286.\n",
            "[I 2025-02-15 03:33:28,196] Trial 91 finished with value: 0.4113976193264059 and parameters: {'iterations': 875, 'learning_rate': 0.09418916186896703, 'depth': 4, 'l2_leaf_reg': 10}. Best is trial 81 with value: 0.4063906144902286.\n",
            "[I 2025-02-15 03:33:31,029] Trial 92 finished with value: 0.41007662750348306 and parameters: {'iterations': 557, 'learning_rate': 0.07794138201306539, 'depth': 4, 'l2_leaf_reg': 4}. Best is trial 81 with value: 0.4063906144902286.\n",
            "[I 2025-02-15 03:33:35,385] Trial 93 finished with value: 0.40981294079074193 and parameters: {'iterations': 844, 'learning_rate': 0.1135629258514181, 'depth': 4, 'l2_leaf_reg': 10}. Best is trial 81 with value: 0.4063906144902286.\n",
            "[I 2025-02-15 03:33:40,311] Trial 94 finished with value: 0.41288185647654585 and parameters: {'iterations': 986, 'learning_rate': 0.14661928685359796, 'depth': 4, 'l2_leaf_reg': 10}. Best is trial 81 with value: 0.4063906144902286.\n",
            "[I 2025-02-15 03:33:44,904] Trial 95 finished with value: 0.41376208239314066 and parameters: {'iterations': 948, 'learning_rate': 0.047094665560598326, 'depth': 4, 'l2_leaf_reg': 9}. Best is trial 81 with value: 0.4063906144902286.\n",
            "[I 2025-02-15 03:33:49,443] Trial 96 finished with value: 0.4099309469179831 and parameters: {'iterations': 937, 'learning_rate': 0.065109981873774, 'depth': 4, 'l2_leaf_reg': 9}. Best is trial 81 with value: 0.4063906144902286.\n",
            "[I 2025-02-15 03:33:53,451] Trial 97 finished with value: 0.4168018650613942 and parameters: {'iterations': 813, 'learning_rate': 0.25400718713539283, 'depth': 4, 'l2_leaf_reg': 10}. Best is trial 81 with value: 0.4063906144902286.\n",
            "[I 2025-02-15 03:33:56,532] Trial 98 finished with value: 0.4065484853692961 and parameters: {'iterations': 633, 'learning_rate': 0.09237592763817488, 'depth': 4, 'l2_leaf_reg': 8}. Best is trial 81 with value: 0.4063906144902286.\n",
            "[I 2025-02-15 03:34:00,454] Trial 99 finished with value: 0.4136401878526604 and parameters: {'iterations': 640, 'learning_rate': 0.05420335465458417, 'depth': 5, 'l2_leaf_reg': 8}. Best is trial 81 with value: 0.4063906144902286.\n",
            "[I 2025-02-15 03:34:05,180] Trial 100 finished with value: 0.4115534733345103 and parameters: {'iterations': 751, 'learning_rate': 0.1214410773886219, 'depth': 5, 'l2_leaf_reg': 6}. Best is trial 81 with value: 0.4063906144902286.\n",
            "[I 2025-02-15 03:34:08,177] Trial 101 finished with value: 0.4076753243370111 and parameters: {'iterations': 622, 'learning_rate': 0.09845305744684092, 'depth': 4, 'l2_leaf_reg': 10}. Best is trial 81 with value: 0.4063906144902286.\n",
            "[I 2025-02-15 03:34:11,271] Trial 102 finished with value: 0.410127172991925 and parameters: {'iterations': 629, 'learning_rate': 0.0722006625691841, 'depth': 4, 'l2_leaf_reg': 9}. Best is trial 81 with value: 0.4063906144902286.\n",
            "[I 2025-02-15 03:34:13,962] Trial 103 finished with value: 0.41165194253596316 and parameters: {'iterations': 544, 'learning_rate': 0.08987176431804816, 'depth': 4, 'l2_leaf_reg': 10}. Best is trial 81 with value: 0.4063906144902286.\n",
            "[I 2025-02-15 03:34:16,794] Trial 104 finished with value: 0.41471031181330653 and parameters: {'iterations': 569, 'learning_rate': 0.17950584903683298, 'depth': 4, 'l2_leaf_reg': 5}. Best is trial 81 with value: 0.4063906144902286.\n",
            "[I 2025-02-15 03:34:19,765] Trial 105 finished with value: 0.405816016786863 and parameters: {'iterations': 601, 'learning_rate': 0.10772968099636043, 'depth': 4, 'l2_leaf_reg': 7}. Best is trial 105 with value: 0.405816016786863.\n",
            "[I 2025-02-15 03:34:22,725] Trial 106 finished with value: 0.4115060561017539 and parameters: {'iterations': 602, 'learning_rate': 0.08118923834131382, 'depth': 4, 'l2_leaf_reg': 7}. Best is trial 105 with value: 0.405816016786863.\n",
            "[I 2025-02-15 03:34:26,024] Trial 107 finished with value: 0.4068772240687781 and parameters: {'iterations': 660, 'learning_rate': 0.10975446945146894, 'depth': 4, 'l2_leaf_reg': 8}. Best is trial 105 with value: 0.405816016786863.\n",
            "[I 2025-02-15 03:34:29,281] Trial 108 finished with value: 0.41608119728797466 and parameters: {'iterations': 659, 'learning_rate': 0.14269228801114114, 'depth': 4, 'l2_leaf_reg': 8}. Best is trial 105 with value: 0.405816016786863.\n",
            "[I 2025-02-15 03:34:32,367] Trial 109 finished with value: 0.4117160683134299 and parameters: {'iterations': 622, 'learning_rate': 0.10645308282962847, 'depth': 4, 'l2_leaf_reg': 8}. Best is trial 105 with value: 0.405816016786863.\n",
            "[I 2025-02-15 03:34:35,829] Trial 110 finished with value: 0.4153884573557981 and parameters: {'iterations': 709, 'learning_rate': 0.03732865813068114, 'depth': 4, 'l2_leaf_reg': 7}. Best is trial 105 with value: 0.405816016786863.\n",
            "[I 2025-02-15 03:34:38,795] Trial 111 finished with value: 0.40683735828143525 and parameters: {'iterations': 592, 'learning_rate': 0.1247855412220831, 'depth': 4, 'l2_leaf_reg': 7}. Best is trial 105 with value: 0.405816016786863.\n",
            "[I 2025-02-15 03:34:41,589] Trial 112 finished with value: 0.4093185488249037 and parameters: {'iterations': 561, 'learning_rate': 0.11678964741912355, 'depth': 4, 'l2_leaf_reg': 7}. Best is trial 105 with value: 0.405816016786863.\n",
            "[I 2025-02-15 03:34:44,067] Trial 113 finished with value: 0.41254154541973537 and parameters: {'iterations': 501, 'learning_rate': 0.16543801614365597, 'depth': 4, 'l2_leaf_reg': 8}. Best is trial 105 with value: 0.405816016786863.\n",
            "[I 2025-02-15 03:34:47,253] Trial 114 finished with value: 0.4147773176778409 and parameters: {'iterations': 638, 'learning_rate': 0.13009671768571168, 'depth': 4, 'l2_leaf_reg': 7}. Best is trial 105 with value: 0.405816016786863.\n",
            "[I 2025-02-15 03:34:50,254] Trial 115 finished with value: 0.4123310072014245 and parameters: {'iterations': 600, 'learning_rate': 0.06520068701997575, 'depth': 4, 'l2_leaf_reg': 6}. Best is trial 105 with value: 0.405816016786863.\n",
            "[I 2025-02-15 03:34:53,611] Trial 116 finished with value: 0.4092154897811546 and parameters: {'iterations': 669, 'learning_rate': 0.10545390710238423, 'depth': 4, 'l2_leaf_reg': 8}. Best is trial 105 with value: 0.405816016786863.\n",
            "[I 2025-02-15 03:34:56,314] Trial 117 finished with value: 0.4095599224723257 and parameters: {'iterations': 538, 'learning_rate': 0.14716528000826973, 'depth': 4, 'l2_leaf_reg': 7}. Best is trial 105 with value: 0.405816016786863.\n",
            "[I 2025-02-15 03:35:03,611] Trial 118 finished with value: 0.4216368278237107 and parameters: {'iterations': 616, 'learning_rate': 0.07355360047711251, 'depth': 8, 'l2_leaf_reg': 8}. Best is trial 105 with value: 0.405816016786863.\n",
            "[I 2025-02-15 03:35:06,968] Trial 119 finished with value: 0.5096113169460793 and parameters: {'iterations': 655, 'learning_rate': 0.0031764308593826823, 'depth': 5, 'l2_leaf_reg': 9}. Best is trial 105 with value: 0.405816016786863.\n",
            "[I 2025-02-15 03:35:17,417] Trial 120 finished with value: 0.45368492561624363 and parameters: {'iterations': 591, 'learning_rate': 0.20415040403859291, 'depth': 10, 'l2_leaf_reg': 5}. Best is trial 105 with value: 0.405816016786863.\n",
            "[I 2025-02-15 03:35:20,267] Trial 121 finished with value: 0.40873758460508913 and parameters: {'iterations': 578, 'learning_rate': 0.08869513329038398, 'depth': 4, 'l2_leaf_reg': 9}. Best is trial 105 with value: 0.405816016786863.\n",
            "[I 2025-02-15 03:35:23,120] Trial 122 finished with value: 0.4101387197368006 and parameters: {'iterations': 574, 'learning_rate': 0.10137707436399261, 'depth': 4, 'l2_leaf_reg': 9}. Best is trial 105 with value: 0.405816016786863.\n",
            "[I 2025-02-15 03:35:25,740] Trial 123 finished with value: 0.4050515026823017 and parameters: {'iterations': 524, 'learning_rate': 0.1229937397828485, 'depth': 4, 'l2_leaf_reg': 6}. Best is trial 123 with value: 0.4050515026823017.\n",
            "[I 2025-02-15 03:35:28,142] Trial 124 finished with value: 0.4091575339551639 and parameters: {'iterations': 492, 'learning_rate': 0.1285700976671152, 'depth': 4, 'l2_leaf_reg': 6}. Best is trial 123 with value: 0.4050515026823017.\n",
            "[I 2025-02-15 03:35:30,737] Trial 125 finished with value: 0.4097863420995432 and parameters: {'iterations': 522, 'learning_rate': 0.11688096256323187, 'depth': 4, 'l2_leaf_reg': 7}. Best is trial 123 with value: 0.4050515026823017.\n",
            "[I 2025-02-15 03:35:33,174] Trial 126 finished with value: 0.41433230103133933 and parameters: {'iterations': 476, 'learning_rate': 0.08355929410920311, 'depth': 4, 'l2_leaf_reg': 6}. Best is trial 123 with value: 0.4050515026823017.\n",
            "[I 2025-02-15 03:35:42,262] Trial 127 finished with value: 0.4256135298423322 and parameters: {'iterations': 454, 'learning_rate': 0.0959003697998224, 'depth': 9, 'l2_leaf_reg': 7}. Best is trial 123 with value: 0.4050515026823017.\n",
            "[I 2025-02-15 03:35:46,707] Trial 128 finished with value: 0.4091112332104875 and parameters: {'iterations': 906, 'learning_rate': 0.059171897461945774, 'depth': 4, 'l2_leaf_reg': 8}. Best is trial 123 with value: 0.4050515026823017.\n",
            "[I 2025-02-15 03:35:52,151] Trial 129 finished with value: 0.42403222762989656 and parameters: {'iterations': 546, 'learning_rate': 0.15431415875979865, 'depth': 7, 'l2_leaf_reg': 6}. Best is trial 123 with value: 0.4050515026823017.\n",
            "[I 2025-02-15 03:35:53,380] Trial 130 finished with value: 0.4202708490683237 and parameters: {'iterations': 233, 'learning_rate': 0.07943031743410063, 'depth': 4, 'l2_leaf_reg': 8}. Best is trial 123 with value: 0.4050515026823017.\n",
            "[I 2025-02-15 03:35:53,864] Trial 131 finished with value: 0.4213379851063877 and parameters: {'iterations': 118, 'learning_rate': 0.11097166486245304, 'depth': 4, 'l2_leaf_reg': 10}. Best is trial 123 with value: 0.4050515026823017.\n",
            "[I 2025-02-15 03:35:56,841] Trial 132 finished with value: 0.409763684532246 and parameters: {'iterations': 590, 'learning_rate': 0.09048134209153622, 'depth': 4, 'l2_leaf_reg': 10}. Best is trial 123 with value: 0.4050515026823017.\n",
            "[I 2025-02-15 03:35:59,430] Trial 133 finished with value: 0.4162935331159566 and parameters: {'iterations': 517, 'learning_rate': 0.1281498631715339, 'depth': 4, 'l2_leaf_reg': 9}. Best is trial 123 with value: 0.4050515026823017.\n",
            "[I 2025-02-15 03:36:02,511] Trial 134 finished with value: 0.403498683669271 and parameters: {'iterations': 621, 'learning_rate': 0.09911653690475876, 'depth': 4, 'l2_leaf_reg': 10}. Best is trial 134 with value: 0.403498683669271.\n",
            "[I 2025-02-15 03:36:05,586] Trial 135 finished with value: 0.40882484757798077 and parameters: {'iterations': 619, 'learning_rate': 0.10193259906507313, 'depth': 4, 'l2_leaf_reg': 10}. Best is trial 134 with value: 0.403498683669271.\n",
            "[I 2025-02-15 03:36:08,751] Trial 136 finished with value: 0.4109104214131162 and parameters: {'iterations': 644, 'learning_rate': 0.07104849044680593, 'depth': 4, 'l2_leaf_reg': 7}. Best is trial 134 with value: 0.403498683669271.\n",
            "[I 2025-02-15 03:36:12,295] Trial 137 finished with value: 0.41799845996426377 and parameters: {'iterations': 694, 'learning_rate': 0.1749710993941838, 'depth': 4, 'l2_leaf_reg': 3}. Best is trial 134 with value: 0.403498683669271.\n",
            "[I 2025-02-15 03:36:17,082] Trial 138 finished with value: 0.41097417455851293 and parameters: {'iterations': 970, 'learning_rate': 0.11850751949374329, 'depth': 4, 'l2_leaf_reg': 9}. Best is trial 134 with value: 0.403498683669271.\n",
            "[I 2025-02-15 03:36:21,384] Trial 139 finished with value: 0.41519400928012223 and parameters: {'iterations': 857, 'learning_rate': 0.14106570969425264, 'depth': 4, 'l2_leaf_reg': 2}. Best is trial 134 with value: 0.403498683669271.\n",
            "[I 2025-02-15 03:36:24,242] Trial 140 finished with value: 0.4130619486024398 and parameters: {'iterations': 558, 'learning_rate': 0.0797314690357486, 'depth': 4, 'l2_leaf_reg': 6}. Best is trial 134 with value: 0.403498683669271.\n",
            "[I 2025-02-15 03:36:27,212] Trial 141 finished with value: 0.4105995860575512 and parameters: {'iterations': 604, 'learning_rate': 0.10076152002565261, 'depth': 4, 'l2_leaf_reg': 10}. Best is trial 134 with value: 0.403498683669271.\n",
            "[I 2025-02-15 03:36:30,356] Trial 142 finished with value: 0.4126000070394552 and parameters: {'iterations': 634, 'learning_rate': 0.11134981290534017, 'depth': 4, 'l2_leaf_reg': 10}. Best is trial 134 with value: 0.403498683669271.\n",
            "[I 2025-02-15 03:36:33,395] Trial 143 finished with value: 0.40905243045224254 and parameters: {'iterations': 611, 'learning_rate': 0.09040129547428745, 'depth': 4, 'l2_leaf_reg': 10}. Best is trial 134 with value: 0.403498683669271.\n",
            "[I 2025-02-15 03:36:36,217] Trial 144 finished with value: 0.41432750412172703 and parameters: {'iterations': 575, 'learning_rate': 0.06364315228033961, 'depth': 4, 'l2_leaf_reg': 10}. Best is trial 134 with value: 0.403498683669271.\n",
            "[I 2025-02-15 03:36:39,498] Trial 145 finished with value: 0.4109857423908574 and parameters: {'iterations': 672, 'learning_rate': 0.09489210230077207, 'depth': 4, 'l2_leaf_reg': 10}. Best is trial 134 with value: 0.403498683669271.\n",
            "[I 2025-02-15 03:36:42,217] Trial 146 finished with value: 0.41365733593574666 and parameters: {'iterations': 552, 'learning_rate': 0.13093927273648634, 'depth': 4, 'l2_leaf_reg': 9}. Best is trial 134 with value: 0.403498683669271.\n",
            "[I 2025-02-15 03:36:45,089] Trial 147 finished with value: 0.41285096485027684 and parameters: {'iterations': 583, 'learning_rate': 0.08484072207224928, 'depth': 4, 'l2_leaf_reg': 10}. Best is trial 134 with value: 0.403498683669271.\n",
            "[I 2025-02-15 03:36:48,379] Trial 148 finished with value: 0.4091875609076614 and parameters: {'iterations': 654, 'learning_rate': 0.06963636720904481, 'depth': 4, 'l2_leaf_reg': 5}. Best is trial 134 with value: 0.403498683669271.\n",
            "[I 2025-02-15 03:36:52,198] Trial 149 finished with value: 0.40743869031412494 and parameters: {'iterations': 771, 'learning_rate': 0.12014532732178537, 'depth': 4, 'l2_leaf_reg': 8}. Best is trial 134 with value: 0.403498683669271.\n",
            "[I 2025-02-15 03:36:56,063] Trial 150 finished with value: 0.41139817291498504 and parameters: {'iterations': 778, 'learning_rate': 0.1540823974320281, 'depth': 4, 'l2_leaf_reg': 8}. Best is trial 134 with value: 0.403498683669271.\n",
            "[I 2025-02-15 03:37:00,039] Trial 151 finished with value: 0.41017702296331454 and parameters: {'iterations': 795, 'learning_rate': 0.11647457544346106, 'depth': 4, 'l2_leaf_reg': 8}. Best is trial 134 with value: 0.403498683669271.\n",
            "[I 2025-02-15 03:37:04,170] Trial 152 finished with value: 0.40600033079403 and parameters: {'iterations': 832, 'learning_rate': 0.10776120213548383, 'depth': 4, 'l2_leaf_reg': 9}. Best is trial 134 with value: 0.403498683669271.\n",
            "[I 2025-02-15 03:37:07,922] Trial 153 finished with value: 0.4092083834725271 and parameters: {'iterations': 741, 'learning_rate': 0.13444552323525025, 'depth': 4, 'l2_leaf_reg': 8}. Best is trial 134 with value: 0.403498683669271.\n",
            "[I 2025-02-15 03:37:11,606] Trial 154 finished with value: 0.41955252177893454 and parameters: {'iterations': 761, 'learning_rate': 0.019269159816521227, 'depth': 4, 'l2_leaf_reg': 9}. Best is trial 134 with value: 0.403498683669271.\n",
            "[I 2025-02-15 03:37:15,729] Trial 155 finished with value: 0.4079249532797042 and parameters: {'iterations': 836, 'learning_rate': 0.10386519347034213, 'depth': 4, 'l2_leaf_reg': 9}. Best is trial 134 with value: 0.403498683669271.\n",
            "[I 2025-02-15 03:37:19,820] Trial 156 finished with value: 0.41003993664046556 and parameters: {'iterations': 836, 'learning_rate': 0.1016901446471376, 'depth': 4, 'l2_leaf_reg': 9}. Best is trial 134 with value: 0.403498683669271.\n",
            "[I 2025-02-15 03:37:23,943] Trial 157 finished with value: 0.41153518473900286 and parameters: {'iterations': 819, 'learning_rate': 0.1192648106351854, 'depth': 4, 'l2_leaf_reg': 9}. Best is trial 134 with value: 0.403498683669271.\n",
            "[I 2025-02-15 03:37:27,042] Trial 158 finished with value: 0.411510855693897 and parameters: {'iterations': 627, 'learning_rate': 0.13964391864694736, 'depth': 4, 'l2_leaf_reg': 9}. Best is trial 134 with value: 0.403498683669271.\n",
            "[I 2025-02-15 03:37:30,522] Trial 159 finished with value: 0.40994583672486806 and parameters: {'iterations': 712, 'learning_rate': 0.10887015769770717, 'depth': 4, 'l2_leaf_reg': 8}. Best is trial 134 with value: 0.403498683669271.\n",
            "[I 2025-02-15 03:37:35,711] Trial 160 finished with value: 0.4136930332584936 and parameters: {'iterations': 805, 'learning_rate': 0.16805137338659265, 'depth': 5, 'l2_leaf_reg': 9}. Best is trial 134 with value: 0.403498683669271.\n",
            "[I 2025-02-15 03:37:39,883] Trial 161 finished with value: 0.40836924554519227 and parameters: {'iterations': 853, 'learning_rate': 0.09595940528789867, 'depth': 4, 'l2_leaf_reg': 7}. Best is trial 134 with value: 0.403498683669271.\n",
            "[I 2025-02-15 03:37:44,212] Trial 162 finished with value: 0.4078691210743724 and parameters: {'iterations': 882, 'learning_rate': 0.07707477966381521, 'depth': 4, 'l2_leaf_reg': 9}. Best is trial 134 with value: 0.403498683669271.\n",
            "[I 2025-02-15 03:37:48,640] Trial 163 finished with value: 0.412270770318234 and parameters: {'iterations': 894, 'learning_rate': 0.08004571977181577, 'depth': 4, 'l2_leaf_reg': 9}. Best is trial 134 with value: 0.403498683669271.\n",
            "[I 2025-02-15 03:37:53,194] Trial 164 finished with value: 0.41135604955532645 and parameters: {'iterations': 931, 'learning_rate': 0.1263901446419356, 'depth': 4, 'l2_leaf_reg': 9}. Best is trial 134 with value: 0.403498683669271.\n",
            "[I 2025-02-15 03:37:57,510] Trial 165 finished with value: 0.41319535737768953 and parameters: {'iterations': 875, 'learning_rate': 0.10799679791366937, 'depth': 4, 'l2_leaf_reg': 8}. Best is trial 134 with value: 0.403498683669271.\n",
            "[I 2025-02-15 03:38:01,628] Trial 166 finished with value: 0.4124986546634776 and parameters: {'iterations': 840, 'learning_rate': 0.08980900658098336, 'depth': 4, 'l2_leaf_reg': 9}. Best is trial 134 with value: 0.403498683669271.\n",
            "[I 2025-02-15 03:38:05,894] Trial 167 finished with value: 0.40835582504307555 and parameters: {'iterations': 865, 'learning_rate': 0.0760147467608505, 'depth': 4, 'l2_leaf_reg': 9}. Best is trial 134 with value: 0.403498683669271.\n",
            "[I 2025-02-15 03:38:09,972] Trial 168 finished with value: 0.41218066728083197 and parameters: {'iterations': 825, 'learning_rate': 0.10343981019827203, 'depth': 4, 'l2_leaf_reg': 8}. Best is trial 134 with value: 0.403498683669271.\n",
            "[I 2025-02-15 03:38:16,702] Trial 169 finished with value: 0.42463000921352984 and parameters: {'iterations': 907, 'learning_rate': 0.009982054576453766, 'depth': 6, 'l2_leaf_reg': 10}. Best is trial 134 with value: 0.403498683669271.\n",
            "[I 2025-02-15 03:38:21,088] Trial 170 finished with value: 0.41244940977754085 and parameters: {'iterations': 885, 'learning_rate': 0.11906363800123565, 'depth': 4, 'l2_leaf_reg': 9}. Best is trial 134 with value: 0.403498683669271.\n",
            "[I 2025-02-15 03:38:25,017] Trial 171 finished with value: 0.4129301752357697 and parameters: {'iterations': 787, 'learning_rate': 0.08622644209656316, 'depth': 4, 'l2_leaf_reg': 9}. Best is trial 134 with value: 0.403498683669271.\n",
            "[I 2025-02-15 03:38:29,208] Trial 172 finished with value: 0.41152781877073397 and parameters: {'iterations': 852, 'learning_rate': 0.05597549893783003, 'depth': 4, 'l2_leaf_reg': 7}. Best is trial 134 with value: 0.403498683669271.\n",
            "[I 2025-02-15 03:38:33,361] Trial 173 finished with value: 0.4045180110155927 and parameters: {'iterations': 836, 'learning_rate': 0.09883057911561367, 'depth': 4, 'l2_leaf_reg': 10}. Best is trial 134 with value: 0.403498683669271.\n",
            "[I 2025-02-15 03:38:37,307] Trial 174 finished with value: 0.4099428227774512 and parameters: {'iterations': 805, 'learning_rate': 0.1000958296240378, 'depth': 4, 'l2_leaf_reg': 10}. Best is trial 134 with value: 0.403498683669271.\n",
            "[I 2025-02-15 03:38:41,416] Trial 175 finished with value: 0.4116648389518329 and parameters: {'iterations': 831, 'learning_rate': 0.14296842166517454, 'depth': 4, 'l2_leaf_reg': 10}. Best is trial 134 with value: 0.403498683669271.\n",
            "[I 2025-02-15 03:38:46,225] Trial 176 finished with value: 0.4119138925822409 and parameters: {'iterations': 945, 'learning_rate': 0.12270540394443243, 'depth': 4, 'l2_leaf_reg': 10}. Best is trial 134 with value: 0.403498683669271.\n",
            "[I 2025-02-15 03:38:49,900] Trial 177 finished with value: 0.40957514617964785 and parameters: {'iterations': 730, 'learning_rate': 0.10992687467753622, 'depth': 4, 'l2_leaf_reg': 10}. Best is trial 134 with value: 0.403498683669271.\n",
            "[I 2025-02-15 03:38:52,946] Trial 178 finished with value: 0.4083787615577593 and parameters: {'iterations': 601, 'learning_rate': 0.09417412124475676, 'depth': 4, 'l2_leaf_reg': 8}. Best is trial 134 with value: 0.403498683669271.\n",
            "[I 2025-02-15 03:38:57,435] Trial 179 finished with value: 0.4386382778420441 and parameters: {'iterations': 915, 'learning_rate': 0.005409407384678418, 'depth': 4, 'l2_leaf_reg': 9}. Best is trial 134 with value: 0.403498683669271.\n",
            "[I 2025-02-15 03:39:00,633] Trial 180 finished with value: 0.4102614769988593 and parameters: {'iterations': 642, 'learning_rate': 0.07672484381491831, 'depth': 4, 'l2_leaf_reg': 10}. Best is trial 134 with value: 0.403498683669271.\n",
            "[I 2025-02-15 03:39:05,134] Trial 181 finished with value: 0.4100008646666982 and parameters: {'iterations': 858, 'learning_rate': 0.08513417832587794, 'depth': 4, 'l2_leaf_reg': 1}. Best is trial 134 with value: 0.403498683669271.\n",
            "[I 2025-02-15 03:39:09,513] Trial 182 finished with value: 0.4124210093519077 and parameters: {'iterations': 883, 'learning_rate': 0.06738924363532028, 'depth': 4, 'l2_leaf_reg': 10}. Best is trial 134 with value: 0.403498683669271.\n",
            "[I 2025-02-15 03:39:13,696] Trial 183 finished with value: 0.4074263687471288 and parameters: {'iterations': 837, 'learning_rate': 0.11012007454565587, 'depth': 4, 'l2_leaf_reg': 9}. Best is trial 134 with value: 0.403498683669271.\n",
            "[I 2025-02-15 03:39:17,097] Trial 184 finished with value: 0.41245341840272154 and parameters: {'iterations': 683, 'learning_rate': 0.10979944161470752, 'depth': 4, 'l2_leaf_reg': 9}. Best is trial 134 with value: 0.403498683669271.\n",
            "[I 2025-02-15 03:39:21,222] Trial 185 finished with value: 0.4121821329011491 and parameters: {'iterations': 819, 'learning_rate': 0.13216030152355085, 'depth': 4, 'l2_leaf_reg': 9}. Best is trial 134 with value: 0.403498683669271.\n",
            "[I 2025-02-15 03:39:25,465] Trial 186 finished with value: 0.40941084036059117 and parameters: {'iterations': 839, 'learning_rate': 0.09862339110374149, 'depth': 4, 'l2_leaf_reg': 9}. Best is trial 134 with value: 0.403498683669271.\n",
            "[I 2025-02-15 03:39:29,387] Trial 187 finished with value: 0.4085813648776898 and parameters: {'iterations': 768, 'learning_rate': 0.11974635530320611, 'depth': 4, 'l2_leaf_reg': 8}. Best is trial 134 with value: 0.403498683669271.\n",
            "[I 2025-02-15 03:39:33,764] Trial 188 finished with value: 0.4143648239334482 and parameters: {'iterations': 869, 'learning_rate': 0.14540960968967348, 'depth': 4, 'l2_leaf_reg': 9}. Best is trial 134 with value: 0.403498683669271.\n",
            "[I 2025-02-15 03:39:36,862] Trial 189 finished with value: 0.4213426427435739 and parameters: {'iterations': 616, 'learning_rate': 0.02695611307408369, 'depth': 4, 'l2_leaf_reg': 10}. Best is trial 134 with value: 0.403498683669271.\n",
            "[I 2025-02-15 03:39:39,588] Trial 190 finished with value: 0.4120899769059063 and parameters: {'iterations': 535, 'learning_rate': 0.09126223552539219, 'depth': 4, 'l2_leaf_reg': 9}. Best is trial 134 with value: 0.403498683669271.\n",
            "[I 2025-02-15 03:39:44,108] Trial 191 finished with value: 0.41240623508763596 and parameters: {'iterations': 894, 'learning_rate': 0.1059068293110422, 'depth': 4, 'l2_leaf_reg': 7}. Best is trial 134 with value: 0.403498683669271.\n",
            "[I 2025-02-15 03:39:48,063] Trial 192 finished with value: 0.5180535756130682 and parameters: {'iterations': 841, 'learning_rate': 0.002245732211000861, 'depth': 4, 'l2_leaf_reg': 6}. Best is trial 134 with value: 0.403498683669271.\n",
            "[I 2025-02-15 03:39:52,130] Trial 193 finished with value: 0.4095938484088738 and parameters: {'iterations': 794, 'learning_rate': 0.08291093704343905, 'depth': 4, 'l2_leaf_reg': 4}. Best is trial 134 with value: 0.403498683669271.\n",
            "[I 2025-02-15 03:39:55,507] Trial 194 finished with value: 0.40977312474208627 and parameters: {'iterations': 661, 'learning_rate': 0.1233145142749742, 'depth': 4, 'l2_leaf_reg': 9}. Best is trial 134 with value: 0.403498683669271.\n",
            "[I 2025-02-15 03:39:59,599] Trial 195 finished with value: 0.4103838955478782 and parameters: {'iterations': 826, 'learning_rate': 0.074178958888411, 'depth': 4, 'l2_leaf_reg': 10}. Best is trial 134 with value: 0.403498683669271.\n",
            "[I 2025-02-15 03:40:03,749] Trial 196 finished with value: 0.40654143887114025 and parameters: {'iterations': 811, 'learning_rate': 0.09565924041658946, 'depth': 4, 'l2_leaf_reg': 8}. Best is trial 134 with value: 0.403498683669271.\n",
            "[I 2025-02-15 03:40:07,823] Trial 197 finished with value: 0.40923072167188046 and parameters: {'iterations': 806, 'learning_rate': 0.09771313751990865, 'depth': 4, 'l2_leaf_reg': 8}. Best is trial 134 with value: 0.403498683669271.\n",
            "[I 2025-02-15 03:40:11,791] Trial 198 finished with value: 0.40539598821851397 and parameters: {'iterations': 777, 'learning_rate': 0.11273482102560232, 'depth': 4, 'l2_leaf_reg': 8}. Best is trial 134 with value: 0.403498683669271.\n",
            "[I 2025-02-15 03:40:15,595] Trial 199 finished with value: 0.4130492833815643 and parameters: {'iterations': 754, 'learning_rate': 0.11540155354629937, 'depth': 4, 'l2_leaf_reg': 8}. Best is trial 134 with value: 0.403498683669271.\n"
          ]
        },
        {
          "name": "stdout",
          "output_type": "stream",
          "text": [
            "Best parameters: {'iterations': 621, 'learning_rate': 0.09911653690475876, 'depth': 4, 'l2_leaf_reg': 10}\n",
            "Лучшая модель CatBoost:\n",
            "MAPE: 0.40049533154274\n",
            "RMSE: 47920.69729529918\n",
            "Время обучения: 815.59 сек.\n",
            "Время предсказания: 0.00 сек.\n"
          ]
        }
      ],
      "source": [
        "import optuna\n",
        "from catboost import CatBoostRegressor\n",
        "from sklearn.metrics import mean_squared_error, mean_absolute_percentage_error\n",
        "from sklearn.model_selection import KFold\n",
        "import time\n",
        "import numpy as np\n",
        "\n",
        "\n",
        "def objective(trial):\n",
        "    param = {\n",
        "        \"iterations\": trial.suggest_int(\"iterations\", 100, 1000),\n",
        "        \"learning_rate\": trial.suggest_float(\"learning_rate\", 0.001, 0.3, log=True),\n",
        "        \"depth\": trial.suggest_int(\"depth\", 4, 10),\n",
        "        \"l2_leaf_reg\": trial.suggest_int(\"l2_leaf_reg\", 1, 10),\n",
        "        \"random_state\": 42,\n",
        "        \"verbose\": False,\n",
        "        \"cat_features\": cols_cat,\n",
        "    }\n",
        "\n",
        "    # Инициализируем кросс-валидацию\n",
        "    kf = KFold(n_splits=5, shuffle=True, random_state=42)\n",
        "    mape_scores = []\n",
        "\n",
        "    # Проходим по фолдам\n",
        "    for train_idx, val_idx in kf.split(X):\n",
        "        X_fold_train, X_fold_val = X.iloc[train_idx], X.iloc[val_idx]\n",
        "        y_fold_train, y_fold_val = y.iloc[train_idx], y.iloc[val_idx]\n",
        "\n",
        "        # Обучаем модель на тренировочном фолде\n",
        "        _model = CatBoostRegressor(**param)\n",
        "        _model.fit(X_fold_train, y_fold_train)\n",
        "        \n",
        "        # Делаем предсказания на валидационном фолде\n",
        "        _preds = _model.predict(X_fold_val)\n",
        "        \n",
        "        # Считаем MAPE для текущего фолда\n",
        "        fold_mape = mean_absolute_percentage_error(y_fold_val, _preds)\n",
        "        mape_scores.append(fold_mape)\n",
        "\n",
        "    # Возвращаем среднее значение MAPE по всем фолдам\n",
        "    return np.mean(mape_scores)\n",
        "\n",
        "study = optuna.create_study(direction=\"minimize\")\n",
        "\n",
        "# Замеряем время обучения\n",
        "start_time = time.time()\n",
        "study.optimize(objective, n_trials=200)  \n",
        "end_time = time.time()\n",
        "training_time = end_time - start_time\n",
        "\n",
        "best_params = study.best_params\n",
        "print(f\"Best parameters: {best_params}\")\n",
        "\n",
        "# Модель с лучшими параметрами\n",
        "best_catboost = CatBoostRegressor(**best_params, verbose=False, random_state=42, cat_features=cols_cat)\n",
        "best_catboost.fit(X, y)\n",
        "\n",
        "# Замеряем время предсказания\n",
        "start_time = time.time()\n",
        "predictions = best_catboost.predict(X)\n",
        "end_time = time.time()\n",
        "prediction_time = end_time - start_time\n",
        "\n",
        "# Оценка качества\n",
        "print(\"Лучшая модель CatBoost:\")\n",
        "_ = evaluate_model(y, predictions)\n",
        "\n",
        "print(f\"Время обучения: {training_time:.2f} сек.\")\n",
        "print(f\"Время предсказания: {prediction_time:.2f} сек.\")\n",
        "\n",
        "'''\n",
        "Best parameters: {'iterations': 621, 'learning_rate': 0.09911653690475876, 'depth': 4, 'l2_leaf_reg': 10}\n",
        "Лучшая модель CatBoost:\n",
        "MAPE: 0.40049533154274\n",
        "RMSE: 47920.69729529918\n",
        "Время обучения: 815.59 сек.\n",
        "Время предсказания: 0.00 сек.\n",
        "'''"
      ]
    },
    {
      "cell_type": "markdown",
      "id": "753f9201",
      "metadata": {},
      "source": [
        "#### Вывод\n",
        "В результате обучения модели CatBoost с оптимальными гиперпараметрами, подобранными с помощью Optuna, мы получили следующие результаты:\n",
        " \n",
        "- Лучшие параметры модели:\n",
        "  - iterations: 621\n",
        "  - learning_rate: ~0.099\n",
        "  - depth: 4 \n",
        "  - l2_leaf_reg: 10\n",
        "\n",
        "- Качество модели:\n",
        "  - MAPE: 0.40 (40%) - достаточно хороший результат для предсказания зарплат\n",
        "  - RMSE: 47920.70 USD - вообще говоря, многовато для годовой зарплаты, но в целом приемлемо\n",
        "\n",
        "- Временные характеристики:\n",
        "  - Время обучения: ~13.6 минут - относительно долгое время обучения, но в целом приемлемое для 200 итераций\n",
        "  - Время предсказания: практически мгновенное\n",
        "\n",
        "CatBoost показал себя как эффективный алгоритм с точки зрения качества предсказаний, но требует значительного времени на обучение. Небольшая глубина деревьев (4) в оптимальных параметрах говорит о том, что модель не склонна к переобучению.\n"
      ]
    },
    {
      "cell_type": "markdown",
      "id": "3bfc4e05",
      "metadata": {
        "id": "3bfc4e05"
      },
      "source": [
        "## **Задание 13 (1 балл)**\n",
        "\n",
        "- Используйте xgboost.\n",
        "- Обучите модель — на полном наборе данных с категориальными признаками. Стратегию кодирования оставьте ту, что показала себя лучшей в пункте 9.\n",
        "- Подберите оптимальные гиперпараметры.\n",
        "- Оцените качество итоговой модели, скорость обучения и скорость предсказания.\n",
        "\n"
      ]
    },
    {
      "cell_type": "code",
      "execution_count": 89,
      "id": "e7Zi-0hk9bW4",
      "metadata": {
        "id": "e7Zi-0hk9bW4"
      },
      "outputs": [
        {
          "name": "stderr",
          "output_type": "stream",
          "text": [
            "[I 2025-02-15 18:00:31,794] A new study created in memory with name: XGBoost\n",
            "[I 2025-02-15 18:00:37,047] Trial 0 finished with value: 0.4153248846530914 and parameters: {'n_estimators': 525, 'learning_rate': 0.01419209102613989, 'max_depth': 5, 'reg_lambda': 0.0019857162698239785, 'min_child_weight': 2, 'subsample': 0.6509549823456926, 'colsample_bytree': 0.8673953438983861}. Best is trial 0 with value: 0.4153248846530914.\n",
            "[I 2025-02-15 18:00:43,585] Trial 1 finished with value: 0.4325303852558136 and parameters: {'n_estimators': 612, 'learning_rate': 0.14262544772173835, 'max_depth': 6, 'reg_lambda': 5.337943970477527e-07, 'min_child_weight': 5, 'subsample': 0.6363885500452355, 'colsample_bytree': 0.6162956997196022}. Best is trial 0 with value: 0.4153248846530914.\n",
            "[I 2025-02-15 18:00:50,350] Trial 2 finished with value: 0.4281247198581696 and parameters: {'n_estimators': 642, 'learning_rate': 0.18275355043352207, 'max_depth': 6, 'reg_lambda': 0.41812624095622747, 'min_child_weight': 2, 'subsample': 0.9685697955204405, 'colsample_bytree': 0.8016364247029569}. Best is trial 0 with value: 0.4153248846530914.\n",
            "[I 2025-02-15 18:01:02,384] Trial 3 finished with value: 0.4234067857265472 and parameters: {'n_estimators': 1000, 'learning_rate': 0.18875314682730357, 'max_depth': 7, 'reg_lambda': 2.872800101204618e-06, 'min_child_weight': 1, 'subsample': 0.862991844861837, 'colsample_bytree': 0.6425502812731587}. Best is trial 0 with value: 0.4153248846530914.\n",
            "[I 2025-02-15 18:01:11,782] Trial 4 finished with value: 0.4580147206783295 and parameters: {'n_estimators': 709, 'learning_rate': 0.27115561062560045, 'max_depth': 8, 'reg_lambda': 0.0009278277698981533, 'min_child_weight': 4, 'subsample': 0.7931991954749587, 'colsample_bytree': 0.7845788396274826}. Best is trial 0 with value: 0.4153248846530914.\n",
            "[I 2025-02-15 18:01:13,162] Trial 5 finished with value: 0.41047033071517947 and parameters: {'n_estimators': 155, 'learning_rate': 0.07923733618963334, 'max_depth': 4, 'reg_lambda': 4.3913865995064006e-07, 'min_child_weight': 7, 'subsample': 0.8558178806763008, 'colsample_bytree': 0.7892705625085666}. Best is trial 5 with value: 0.41047033071517947.\n",
            "[I 2025-02-15 18:01:16,881] Trial 6 finished with value: 0.43725633025169375 and parameters: {'n_estimators': 384, 'learning_rate': 0.009474863988870902, 'max_depth': 5, 'reg_lambda': 5.566888439019294e-08, 'min_child_weight': 2, 'subsample': 0.6448414654886139, 'colsample_bytree': 0.9743480456346295}. Best is trial 5 with value: 0.41047033071517947.\n",
            "[I 2025-02-15 18:01:27,544] Trial 7 finished with value: 0.4728744149208069 and parameters: {'n_estimators': 783, 'learning_rate': 0.0025667052846645487, 'max_depth': 8, 'reg_lambda': 0.00953699732689295, 'min_child_weight': 6, 'subsample': 0.5691851108382289, 'colsample_bytree': 0.6220273364181204}. Best is trial 5 with value: 0.41047033071517947.\n",
            "[I 2025-02-15 18:01:33,568] Trial 8 finished with value: 0.40413644909858704 and parameters: {'n_estimators': 567, 'learning_rate': 0.09350218405047145, 'max_depth': 6, 'reg_lambda': 2.3773254655455837e-06, 'min_child_weight': 1, 'subsample': 0.7336774116831559, 'colsample_bytree': 0.6004777818947078}. Best is trial 8 with value: 0.40413644909858704.\n",
            "[I 2025-02-15 18:01:38,519] Trial 9 finished with value: 0.654454517364502 and parameters: {'n_estimators': 604, 'learning_rate': 0.0010411353997778275, 'max_depth': 4, 'reg_lambda': 3.2241078818340803e-07, 'min_child_weight': 4, 'subsample': 0.8216973846493651, 'colsample_bytree': 0.7607474400119104}. Best is trial 8 with value: 0.40413644909858704.\n",
            "[I 2025-02-15 18:01:44,051] Trial 10 finished with value: 0.40610353350639344 and parameters: {'n_estimators': 328, 'learning_rate': 0.04143672581289313, 'max_depth': 10, 'reg_lambda': 0.00012028116925122432, 'min_child_weight': 1, 'subsample': 0.5049502295682776, 'colsample_bytree': 0.5026431135983414}. Best is trial 8 with value: 0.40413644909858704.\n",
            "[I 2025-02-15 18:01:49,350] Trial 11 finished with value: 0.4051072895526886 and parameters: {'n_estimators': 321, 'learning_rate': 0.041957836205796246, 'max_depth': 10, 'reg_lambda': 2.8386122153499957e-05, 'min_child_weight': 1, 'subsample': 0.5055746812886851, 'colsample_bytree': 0.504534402441525}. Best is trial 8 with value: 0.40413644909858704.\n",
            "[I 2025-02-15 18:01:55,913] Trial 12 finished with value: 0.40860254764556886 and parameters: {'n_estimators': 405, 'learning_rate': 0.039894762007479476, 'max_depth': 10, 'reg_lambda': 8.882127439433344e-06, 'min_child_weight': 3, 'subsample': 0.7195478488174084, 'colsample_bytree': 0.5078212163159876}. Best is trial 8 with value: 0.40413644909858704.\n",
            "[I 2025-02-15 18:01:58,667] Trial 13 finished with value: 0.41029990911483766 and parameters: {'n_estimators': 172, 'learning_rate': 0.03355458411501922, 'max_depth': 9, 'reg_lambda': 9.827022346532891e-06, 'min_child_weight': 1, 'subsample': 0.5045669517574978, 'colsample_bytree': 0.5534414869871852}. Best is trial 8 with value: 0.40413644909858704.\n",
            "[I 2025-02-15 18:02:01,983] Trial 14 finished with value: 0.4084730207920074 and parameters: {'n_estimators': 274, 'learning_rate': 0.07726162886064164, 'max_depth': 7, 'reg_lambda': 1.6674640149156348e-08, 'min_child_weight': 3, 'subsample': 0.9615990702371315, 'colsample_bytree': 0.6718583011891186}. Best is trial 8 with value: 0.40413644909858704.\n",
            "[I 2025-02-15 18:02:09,343] Trial 15 finished with value: 0.4291915476322174 and parameters: {'n_estimators': 481, 'learning_rate': 0.006526195721220698, 'max_depth': 9, 'reg_lambda': 4.286704353802647e-05, 'min_child_weight': 3, 'subsample': 0.7252749152708605, 'colsample_bytree': 0.5701735885378145}. Best is trial 8 with value: 0.40413644909858704.\n",
            "[I 2025-02-15 18:02:17,752] Trial 16 finished with value: 0.3982544779777527 and parameters: {'n_estimators': 793, 'learning_rate': 0.019935228116004847, 'max_depth': 6, 'reg_lambda': 0.00016455350484342128, 'min_child_weight': 1, 'subsample': 0.5694810825126444, 'colsample_bytree': 0.6805916366721672}. Best is trial 16 with value: 0.3982544779777527.\n",
            "[I 2025-02-15 18:02:26,956] Trial 17 finished with value: 0.42124441266059875 and parameters: {'n_estimators': 867, 'learning_rate': 0.005199909890880782, 'max_depth': 6, 'reg_lambda': 0.00047273447726364694, 'min_child_weight': 2, 'subsample': 0.5817222396919524, 'colsample_bytree': 0.6922275012006297}. Best is trial 16 with value: 0.3982544779777527.\n",
            "[I 2025-02-15 18:02:34,564] Trial 18 finished with value: 0.4079564929008484 and parameters: {'n_estimators': 851, 'learning_rate': 0.01978040674839784, 'max_depth': 5, 'reg_lambda': 0.03474993834502687, 'min_child_weight': 5, 'subsample': 0.9131542005704999, 'colsample_bytree': 0.7047118630473275}. Best is trial 16 with value: 0.3982544779777527.\n",
            "[I 2025-02-15 18:02:44,592] Trial 19 finished with value: 0.4217383623123169 and parameters: {'n_estimators': 974, 'learning_rate': 0.08195854799529945, 'max_depth': 6, 'reg_lambda': 0.010403379528960314, 'min_child_weight': 3, 'subsample': 0.6910465174866411, 'colsample_bytree': 0.8696244749954665}. Best is trial 16 with value: 0.3982544779777527.\n",
            "[I 2025-02-15 18:02:53,573] Trial 20 finished with value: 0.3989324331283569 and parameters: {'n_estimators': 734, 'learning_rate': 0.02281459727771858, 'max_depth': 7, 'reg_lambda': 0.00018370461720608298, 'min_child_weight': 1, 'subsample': 0.7729602587287454, 'colsample_bytree': 0.7224071176507465}. Best is trial 16 with value: 0.3982544779777527.\n",
            "[I 2025-02-15 18:03:02,466] Trial 21 finished with value: 0.3987407207489014 and parameters: {'n_estimators': 736, 'learning_rate': 0.02035537820790959, 'max_depth': 7, 'reg_lambda': 0.00019959793229640694, 'min_child_weight': 1, 'subsample': 0.77343752495451, 'colsample_bytree': 0.730905176883532}. Best is trial 16 with value: 0.3982544779777527.\n",
            "[I 2025-02-15 18:03:12,175] Trial 22 finished with value: 0.403113979101181 and parameters: {'n_estimators': 729, 'learning_rate': 0.019038386955750178, 'max_depth': 8, 'reg_lambda': 0.00036088225514378694, 'min_child_weight': 2, 'subsample': 0.7805676074049668, 'colsample_bytree': 0.7266268795726143}. Best is trial 16 with value: 0.3982544779777527.\n",
            "[I 2025-02-15 18:03:22,729] Trial 23 finished with value: 0.40319015383720397 and parameters: {'n_estimators': 848, 'learning_rate': 0.011304911029244243, 'max_depth': 7, 'reg_lambda': 0.0031391820937579115, 'min_child_weight': 1, 'subsample': 0.7763489766526047, 'colsample_bytree': 0.8353484637808024}. Best is trial 16 with value: 0.3982544779777527.\n",
            "[I 2025-02-15 18:03:31,157] Trial 24 finished with value: 0.40408889651298524 and parameters: {'n_estimators': 707, 'learning_rate': 0.025451086452611196, 'max_depth': 7, 'reg_lambda': 0.00010370870532175658, 'min_child_weight': 2, 'subsample': 0.847077173376552, 'colsample_bytree': 0.737681452696273}. Best is trial 16 with value: 0.3982544779777527.\n",
            "[I 2025-02-15 18:03:42,262] Trial 25 finished with value: 0.41331413984298704 and parameters: {'n_estimators': 909, 'learning_rate': 0.005489333322149355, 'max_depth': 7, 'reg_lambda': 0.11285332006934747, 'min_child_weight': 1, 'subsample': 0.9071260204707962, 'colsample_bytree': 0.6699070738774076}. Best is trial 16 with value: 0.3982544779777527.\n",
            "[I 2025-02-15 18:03:53,348] Trial 26 finished with value: 0.44654335379600524 and parameters: {'n_estimators': 769, 'learning_rate': 0.0029744701458865657, 'max_depth': 8, 'reg_lambda': 0.00025327258522420674, 'min_child_weight': 2, 'subsample': 0.6781904071438387, 'colsample_bytree': 0.9143470250460914}. Best is trial 16 with value: 0.3982544779777527.\n",
            "[I 2025-02-15 18:03:59,458] Trial 27 finished with value: 0.4006713807582855 and parameters: {'n_estimators': 661, 'learning_rate': 0.02624462610634697, 'max_depth': 5, 'reg_lambda': 4.9073588533018255e-05, 'min_child_weight': 1, 'subsample': 0.606315616431821, 'colsample_bytree': 0.7484286787161579}. Best is trial 16 with value: 0.3982544779777527.\n",
            "[I 2025-02-15 18:04:08,792] Trial 28 finished with value: 0.40581694841384885 and parameters: {'n_estimators': 790, 'learning_rate': 0.009223081445605921, 'max_depth': 7, 'reg_lambda': 0.004553179410741796, 'min_child_weight': 3, 'subsample': 0.7529523987701027, 'colsample_bytree': 0.6551814864523333}. Best is trial 16 with value: 0.3982544779777527.\n",
            "[I 2025-02-15 18:04:16,093] Trial 29 finished with value: 0.40106320977210996 and parameters: {'n_estimators': 488, 'learning_rate': 0.01567935694581777, 'max_depth': 9, 'reg_lambda': 0.0016074734482773567, 'min_child_weight': 2, 'subsample': 0.6869448169054259, 'colsample_bytree': 0.836114449956334}. Best is trial 16 with value: 0.3982544779777527.\n",
            "[I 2025-02-15 18:04:25,776] Trial 30 finished with value: 0.41632397174835206 and parameters: {'n_estimators': 930, 'learning_rate': 0.054097080730830104, 'max_depth': 6, 'reg_lambda': 1.1776671439833304e-05, 'min_child_weight': 5, 'subsample': 0.8184571397131483, 'colsample_bytree': 0.7148523976353299}. Best is trial 16 with value: 0.3982544779777527.\n",
            "[I 2025-02-15 18:04:31,977] Trial 31 finished with value: 0.39932180047035215 and parameters: {'n_estimators': 661, 'learning_rate': 0.026817196111404908, 'max_depth': 5, 'reg_lambda': 3.816523050261463e-05, 'min_child_weight': 1, 'subsample': 0.5931818400713805, 'colsample_bytree': 0.7586870784532986}. Best is trial 16 with value: 0.3982544779777527.\n",
            "[I 2025-02-15 18:04:38,441] Trial 32 finished with value: 0.4105027675628662 and parameters: {'n_estimators': 681, 'learning_rate': 0.013215028297653898, 'max_depth': 5, 'reg_lambda': 0.00020303029860865366, 'min_child_weight': 1, 'subsample': 0.5711486238773213, 'colsample_bytree': 0.772831935861902}. Best is trial 16 with value: 0.3982544779777527.\n",
            "[I 2025-02-15 18:04:44,611] Trial 33 finished with value: 0.4013742506504059 and parameters: {'n_estimators': 573, 'learning_rate': 0.021786780691453886, 'max_depth': 6, 'reg_lambda': 0.0007280724644532232, 'min_child_weight': 2, 'subsample': 0.5935635693022288, 'colsample_bytree': 0.6921146793902967}. Best is trial 16 with value: 0.3982544779777527.\n",
            "[I 2025-02-15 18:04:50,726] Trial 34 finished with value: 0.4040758848190308 and parameters: {'n_estimators': 767, 'learning_rate': 0.03133505805850125, 'max_depth': 4, 'reg_lambda': 2.6732921315299638e-06, 'min_child_weight': 1, 'subsample': 0.6289420535425914, 'colsample_bytree': 0.8056028212503086}. Best is trial 16 with value: 0.3982544779777527.\n",
            "[I 2025-02-15 18:04:56,633] Trial 35 finished with value: 0.40493535399436953 and parameters: {'n_estimators': 621, 'learning_rate': 0.057165977319513166, 'max_depth': 5, 'reg_lambda': 2.6139829148672062e-05, 'min_child_weight': 2, 'subsample': 0.5425118694183978, 'colsample_bytree': 0.8215690765022995}. Best is trial 16 with value: 0.3982544779777527.\n",
            "[I 2025-02-15 18:05:05,552] Trial 36 finished with value: 0.39979307651519774 and parameters: {'n_estimators': 824, 'learning_rate': 0.016114190332485675, 'max_depth': 6, 'reg_lambda': 9.028752707604172e-05, 'min_child_weight': 1, 'subsample': 0.549047261603112, 'colsample_bytree': 0.6359579853413881}. Best is trial 16 with value: 0.3982544779777527.\n",
            "[I 2025-02-15 18:05:14,386] Trial 37 finished with value: 0.40537260174751283 and parameters: {'n_estimators': 738, 'learning_rate': 0.007569030123708265, 'max_depth': 7, 'reg_lambda': 0.001268010123218798, 'min_child_weight': 7, 'subsample': 0.6613954124797979, 'colsample_bytree': 0.7469632847387012}. Best is trial 16 with value: 0.3982544779777527.\n",
            "[I 2025-02-15 18:05:21,392] Trial 38 finished with value: 0.41160447597503663 and parameters: {'n_estimators': 655, 'learning_rate': 0.11249268966475427, 'max_depth': 6, 'reg_lambda': 8.435460196779472e-07, 'min_child_weight': 1, 'subsample': 0.7537359604606649, 'colsample_bytree': 0.8852520785540866}. Best is trial 16 with value: 0.3982544779777527.\n",
            "[I 2025-02-15 18:05:28,229] Trial 39 finished with value: 0.4196117103099823 and parameters: {'n_estimators': 509, 'learning_rate': 0.05453994728717962, 'max_depth': 8, 'reg_lambda': 5.3149091738546044e-06, 'min_child_weight': 6, 'subsample': 0.6216496705510557, 'colsample_bytree': 0.7893381609105451}. Best is trial 16 with value: 0.3982544779777527.\n",
            "[I 2025-02-15 18:05:36,428] Trial 40 finished with value: 0.4061336934566498 and parameters: {'n_estimators': 900, 'learning_rate': 0.012250832378960037, 'max_depth': 5, 'reg_lambda': 2.0199895856440545e-05, 'min_child_weight': 4, 'subsample': 0.8122756463382473, 'colsample_bytree': 0.6135877384021621}. Best is trial 16 with value: 0.3982544779777527.\n",
            "[I 2025-02-15 18:05:44,879] Trial 41 finished with value: 0.4017559885978699 and parameters: {'n_estimators': 800, 'learning_rate': 0.01564771825855337, 'max_depth': 6, 'reg_lambda': 8.114752798148895e-05, 'min_child_weight': 1, 'subsample': 0.553246220892508, 'colsample_bytree': 0.6581623957525974}. Best is trial 16 with value: 0.3982544779777527.\n",
            "[I 2025-02-15 18:05:53,456] Trial 42 finished with value: 0.3997687935829163 and parameters: {'n_estimators': 820, 'learning_rate': 0.025242010585772946, 'max_depth': 6, 'reg_lambda': 0.000201602313582805, 'min_child_weight': 1, 'subsample': 0.5315231768012038, 'colsample_bytree': 0.6935497397342547}. Best is trial 16 with value: 0.3982544779777527.\n",
            "[I 2025-02-15 18:06:02,078] Trial 43 finished with value: 0.39816555976867674 and parameters: {'n_estimators': 708, 'learning_rate': 0.02770000679099425, 'max_depth': 7, 'reg_lambda': 0.8827831473899356, 'min_child_weight': 1, 'subsample': 0.5404096443018336, 'colsample_bytree': 0.7207740731698437}. Best is trial 43 with value: 0.39816555976867674.\n",
            "[I 2025-02-15 18:06:10,320] Trial 44 finished with value: 0.4002566456794739 and parameters: {'n_estimators': 692, 'learning_rate': 0.03098355859769382, 'max_depth': 7, 'reg_lambda': 0.20310377868201782, 'min_child_weight': 2, 'subsample': 0.6107976904913949, 'colsample_bytree': 0.7280611849311703}. Best is trial 43 with value: 0.39816555976867674.\n",
            "[I 2025-02-15 18:06:17,610] Trial 45 finished with value: 0.4012144446372986 and parameters: {'n_estimators': 606, 'learning_rate': 0.042200494459391905, 'max_depth': 7, 'reg_lambda': 0.5803917316247001, 'min_child_weight': 1, 'subsample': 0.5287315702222726, 'colsample_bytree': 0.7646221366326643}. Best is trial 43 with value: 0.39816555976867674.\n",
            "[I 2025-02-15 18:06:23,392] Trial 46 finished with value: 0.42282477021217346 and parameters: {'n_estimators': 745, 'learning_rate': 0.009513954366738173, 'max_depth': 4, 'reg_lambda': 1.0029741346558899e-07, 'min_child_weight': 2, 'subsample': 0.6539402502534742, 'colsample_bytree': 0.7141168237198697}. Best is trial 43 with value: 0.39816555976867674.\n",
            "[I 2025-02-15 18:06:30,847] Trial 47 finished with value: 0.4119235098361969 and parameters: {'n_estimators': 548, 'learning_rate': 0.15991362925600694, 'max_depth': 8, 'reg_lambda': 0.04293032206719585, 'min_child_weight': 1, 'subsample': 0.8376657903640494, 'colsample_bytree': 0.6823354384177482}. Best is trial 43 with value: 0.39816555976867674.\n",
            "[I 2025-02-15 18:06:38,744] Trial 48 finished with value: 0.4409776210784912 and parameters: {'n_estimators': 661, 'learning_rate': 0.2900968111751977, 'max_depth': 7, 'reg_lambda': 0.01208877113938519, 'min_child_weight': 2, 'subsample': 0.7018395494445719, 'colsample_bytree': 0.7744464935824218}. Best is trial 43 with value: 0.39816555976867674.\n",
            "[I 2025-02-15 18:06:48,062] Trial 49 finished with value: 0.398624449968338 and parameters: {'n_estimators': 707, 'learning_rate': 0.02076498889348543, 'max_depth': 8, 'reg_lambda': 1.4706451484520973e-06, 'min_child_weight': 1, 'subsample': 0.8785218368118495, 'colsample_bytree': 0.5795996841925923}. Best is trial 43 with value: 0.39816555976867674.\n",
            "[I 2025-02-15 18:06:57,800] Trial 50 finished with value: 0.40977960228919985 and parameters: {'n_estimators': 736, 'learning_rate': 0.019941645167282498, 'max_depth': 8, 'reg_lambda': 1.0133870935009647e-06, 'min_child_weight': 6, 'subsample': 0.8826152422069387, 'colsample_bytree': 0.5762002216703213}. Best is trial 43 with value: 0.39816555976867674.\n",
            "[I 2025-02-15 18:07:06,390] Trial 51 finished with value: 0.39983375668525695 and parameters: {'n_estimators': 629, 'learning_rate': 0.02499521626030708, 'max_depth': 8, 'reg_lambda': 1.9157623216363066e-07, 'min_child_weight': 1, 'subsample': 0.7874967666256877, 'colsample_bytree': 0.5949923886148331}. Best is trial 43 with value: 0.39816555976867674.\n",
            "[I 2025-02-15 18:07:16,808] Trial 52 finished with value: 0.4006741404533386 and parameters: {'n_estimators': 695, 'learning_rate': 0.03709497627498289, 'max_depth': 9, 'reg_lambda': 1.5633510666046372e-06, 'min_child_weight': 1, 'subsample': 0.9515958925118234, 'colsample_bytree': 0.6456642242557112}. Best is trial 43 with value: 0.39816555976867674.\n",
            "[I 2025-02-15 18:07:23,806] Trial 53 finished with value: 0.3999640643596649 and parameters: {'n_estimators': 587, 'learning_rate': 0.03032424442289781, 'max_depth': 7, 'reg_lambda': 4.2961709743053255e-08, 'min_child_weight': 1, 'subsample': 0.9916331826554308, 'colsample_bytree': 0.526410177345022}. Best is trial 43 with value: 0.39816555976867674.\n",
            "[I 2025-02-15 18:07:31,868] Trial 54 finished with value: 0.3998189151287079 and parameters: {'n_estimators': 763, 'learning_rate': 0.04862687238756023, 'max_depth': 6, 'reg_lambda': 5.343050415185114e-06, 'min_child_weight': 1, 'subsample': 0.8650116945804189, 'colsample_bytree': 0.7556046553649245}. Best is trial 43 with value: 0.39816555976867674.\n",
            "[I 2025-02-15 18:07:40,287] Trial 55 finished with value: 0.4107606112957001 and parameters: {'n_estimators': 703, 'learning_rate': 0.06489092952351308, 'max_depth': 7, 'reg_lambda': 1.35765046300983e-08, 'min_child_weight': 2, 'subsample': 0.8009962191325432, 'colsample_bytree': 0.7960087379235588}. Best is trial 43 with value: 0.39816555976867674.\n",
            "[I 2025-02-15 18:07:52,125] Trial 56 finished with value: 0.3973112940788269 and parameters: {'n_estimators': 874, 'learning_rate': 0.01907657910410075, 'max_depth': 8, 'reg_lambda': 0.0005522181989976023, 'min_child_weight': 1, 'subsample': 0.7631906815055309, 'colsample_bytree': 0.7281838659433153}. Best is trial 56 with value: 0.3973112940788269.\n",
            "[I 2025-02-15 18:08:05,074] Trial 57 finished with value: 0.40293129682540896 and parameters: {'n_estimators': 958, 'learning_rate': 0.01041692099087549, 'max_depth': 8, 'reg_lambda': 0.0005955402329118932, 'min_child_weight': 2, 'subsample': 0.7673608778473506, 'colsample_bytree': 0.9862777716624641}. Best is trial 56 with value: 0.3973112940788269.\n",
            "[I 2025-02-15 18:08:18,112] Trial 58 finished with value: 0.39349949955940244 and parameters: {'n_estimators': 872, 'learning_rate': 0.01783930413429091, 'max_depth': 9, 'reg_lambda': 0.953979783083235, 'min_child_weight': 1, 'subsample': 0.7256750171057487, 'colsample_bytree': 0.729038343175022}. Best is trial 58 with value: 0.39349949955940244.\n",
            "[I 2025-02-15 18:08:30,693] Trial 59 finished with value: 0.4029143929481506 and parameters: {'n_estimators': 875, 'learning_rate': 0.018098214556381175, 'max_depth': 9, 'reg_lambda': 0.19705097990603462, 'min_child_weight': 3, 'subsample': 0.7187816417399173, 'colsample_bytree': 0.7024859094989933}. Best is trial 58 with value: 0.39349949955940244.\n",
            "[I 2025-02-15 18:08:44,543] Trial 60 finished with value: 0.3962375521659851 and parameters: {'n_estimators': 829, 'learning_rate': 0.013756650200846382, 'max_depth': 10, 'reg_lambda': 0.07161013880649708, 'min_child_weight': 1, 'subsample': 0.7351968322200267, 'colsample_bytree': 0.6280461939436429}. Best is trial 58 with value: 0.39349949955940244.\n",
            "[I 2025-02-15 18:08:57,932] Trial 61 finished with value: 0.3954405546188354 and parameters: {'n_estimators': 827, 'learning_rate': 0.014063422561144907, 'max_depth': 10, 'reg_lambda': 0.9879655147410846, 'min_child_weight': 1, 'subsample': 0.7104013759952647, 'colsample_bytree': 0.5430613952281018}. Best is trial 58 with value: 0.39349949955940244.\n",
            "[I 2025-02-15 18:09:11,387] Trial 62 finished with value: 0.3997544825077057 and parameters: {'n_estimators': 829, 'learning_rate': 0.0075980986676744125, 'max_depth': 10, 'reg_lambda': 0.9173215673771412, 'min_child_weight': 1, 'subsample': 0.7362059869470893, 'colsample_bytree': 0.5477129053657016}. Best is trial 58 with value: 0.39349949955940244.\n",
            "[I 2025-02-15 18:09:26,111] Trial 63 finished with value: 0.39636006355285647 and parameters: {'n_estimators': 892, 'learning_rate': 0.013154852285785536, 'max_depth': 10, 'reg_lambda': 0.0533904158393145, 'min_child_weight': 1, 'subsample': 0.7085147450202124, 'colsample_bytree': 0.6129122309200004}. Best is trial 58 with value: 0.39349949955940244.\n",
            "[I 2025-02-15 18:09:40,254] Trial 64 finished with value: 0.40003103017807007 and parameters: {'n_estimators': 884, 'learning_rate': 0.012035643022324361, 'max_depth': 10, 'reg_lambda': 0.054410145586235754, 'min_child_weight': 2, 'subsample': 0.7095528382595107, 'colsample_bytree': 0.6261749457969332}. Best is trial 58 with value: 0.39349949955940244.\n",
            "[I 2025-02-15 18:09:55,716] Trial 65 finished with value: 0.40837141275405886 and parameters: {'n_estimators': 936, 'learning_rate': 0.004518987313422674, 'max_depth': 10, 'reg_lambda': 0.31898358883662875, 'min_child_weight': 1, 'subsample': 0.7312224622983409, 'colsample_bytree': 0.60021471536376}. Best is trial 58 with value: 0.39349949955940244.\n",
            "[I 2025-02-15 18:10:09,441] Trial 66 finished with value: 0.3933386981487274 and parameters: {'n_estimators': 852, 'learning_rate': 0.014589760635717857, 'max_depth': 10, 'reg_lambda': 0.977847475046144, 'min_child_weight': 1, 'subsample': 0.6791443984809069, 'colsample_bytree': 0.6708690485644049}. Best is trial 66 with value: 0.3933386981487274.\n",
            "[I 2025-02-15 18:10:24,243] Trial 67 finished with value: 0.39943368434906007 and parameters: {'n_estimators': 913, 'learning_rate': 0.014128515965126655, 'max_depth': 10, 'reg_lambda': 0.11010254798910465, 'min_child_weight': 1, 'subsample': 0.6693265734347579, 'colsample_bytree': 0.5545681731582748}. Best is trial 66 with value: 0.3933386981487274.\n",
            "[I 2025-02-15 18:10:40,385] Trial 68 finished with value: 0.41090542674064634 and parameters: {'n_estimators': 995, 'learning_rate': 0.0037700595126735604, 'max_depth': 10, 'reg_lambda': 0.8917888626271708, 'min_child_weight': 2, 'subsample': 0.6451326416503499, 'colsample_bytree': 0.664981072482775}. Best is trial 66 with value: 0.3933386981487274.\n",
            "[I 2025-02-15 18:10:53,181] Trial 69 finished with value: 0.40342528820037843 and parameters: {'n_estimators': 850, 'learning_rate': 0.008184242762540015, 'max_depth': 9, 'reg_lambda': 0.01998946210612507, 'min_child_weight': 1, 'subsample': 0.6974553688074449, 'colsample_bytree': 0.5298380355423156}. Best is trial 66 with value: 0.3933386981487274.\n",
            "[I 2025-02-15 18:11:07,607] Trial 70 finished with value: 0.40562392473220826 and parameters: {'n_estimators': 970, 'learning_rate': 0.006135199924188032, 'max_depth': 9, 'reg_lambda': 0.4173363396975041, 'min_child_weight': 4, 'subsample': 0.759911191297155, 'colsample_bytree': 0.6144434765887863}. Best is trial 66 with value: 0.3933386981487274.\n",
            "[I 2025-02-15 18:11:22,007] Trial 71 finished with value: 0.5430275619029998 and parameters: {'n_estimators': 810, 'learning_rate': 0.0013806050131635916, 'max_depth': 10, 'reg_lambda': 0.08702962166999874, 'min_child_weight': 1, 'subsample': 0.7413191022499317, 'colsample_bytree': 0.6770999601930779}. Best is trial 66 with value: 0.3933386981487274.\n",
            "[I 2025-02-15 18:11:36,299] Trial 72 finished with value: 0.3948054790496826 and parameters: {'n_estimators': 864, 'learning_rate': 0.014624329230002559, 'max_depth': 10, 'reg_lambda': 0.24144725445450604, 'min_child_weight': 1, 'subsample': 0.7182783069579743, 'colsample_bytree': 0.6403757288700684}. Best is trial 66 with value: 0.3933386981487274.\n",
            "[I 2025-02-15 18:11:50,732] Trial 73 finished with value: 0.39632317423820496 and parameters: {'n_estimators': 877, 'learning_rate': 0.013888474694513934, 'max_depth': 10, 'reg_lambda': 0.21756543078895832, 'min_child_weight': 1, 'subsample': 0.7156853676750395, 'colsample_bytree': 0.6336490279516673}. Best is trial 66 with value: 0.3933386981487274.\n",
            "[I 2025-02-15 18:12:06,378] Trial 74 finished with value: 0.3946953296661377 and parameters: {'n_estimators': 943, 'learning_rate': 0.013864811399332811, 'max_depth': 10, 'reg_lambda': 0.28390193536419284, 'min_child_weight': 1, 'subsample': 0.6811783415471533, 'colsample_bytree': 0.6413749791158343}. Best is trial 66 with value: 0.3933386981487274.\n",
            "[I 2025-02-15 18:12:21,487] Trial 75 finished with value: 0.40118608474731443 and parameters: {'n_estimators': 931, 'learning_rate': 0.014260773154139674, 'max_depth': 10, 'reg_lambda': 0.2005188686737975, 'min_child_weight': 2, 'subsample': 0.6832964795997871, 'colsample_bytree': 0.6413967170267669}. Best is trial 66 with value: 0.3933386981487274.\n",
            "[I 2025-02-15 18:12:35,675] Trial 76 finished with value: 0.3955609440803528 and parameters: {'n_estimators': 851, 'learning_rate': 0.00983333287975157, 'max_depth': 10, 'reg_lambda': 0.3090088364314751, 'min_child_weight': 1, 'subsample': 0.713953534063971, 'colsample_bytree': 0.6324071684568336}. Best is trial 66 with value: 0.3933386981487274.\n",
            "[I 2025-02-15 18:12:49,708] Trial 77 finished with value: 0.39604405164718626 and parameters: {'n_estimators': 855, 'learning_rate': 0.010369432557526495, 'max_depth': 10, 'reg_lambda': 0.2751553045286441, 'min_child_weight': 1, 'subsample': 0.7207018951524166, 'colsample_bytree': 0.6330651381662129}. Best is trial 66 with value: 0.3933386981487274.\n",
            "[I 2025-02-15 18:13:03,913] Trial 78 finished with value: 0.3958128035068512 and parameters: {'n_estimators': 838, 'learning_rate': 0.010839229523679212, 'max_depth': 10, 'reg_lambda': 0.45384300970152747, 'min_child_weight': 1, 'subsample': 0.6724005984112637, 'colsample_bytree': 0.5921242538071452}. Best is trial 66 with value: 0.3933386981487274.\n",
            "[I 2025-02-15 18:13:18,050] Trial 79 finished with value: 0.3974966824054718 and parameters: {'n_estimators': 853, 'learning_rate': 0.010319938023425637, 'max_depth': 10, 'reg_lambda': 0.45460934115394647, 'min_child_weight': 2, 'subsample': 0.6627791842126367, 'colsample_bytree': 0.591719184062875}. Best is trial 66 with value: 0.3933386981487274.\n",
            "[I 2025-02-15 18:13:32,550] Trial 80 finished with value: 0.39616161584854126 and parameters: {'n_estimators': 951, 'learning_rate': 0.008754203258875763, 'max_depth': 9, 'reg_lambda': 0.2901742105351745, 'min_child_weight': 1, 'subsample': 0.6745917159515553, 'colsample_bytree': 0.6473720963501356}. Best is trial 66 with value: 0.3933386981487274.\n",
            "[I 2025-02-15 18:13:46,559] Trial 81 finished with value: 0.39767907857894896 and parameters: {'n_estimators': 960, 'learning_rate': 0.008815826204437388, 'max_depth': 9, 'reg_lambda': 0.30043910880150504, 'min_child_weight': 1, 'subsample': 0.6736105759291993, 'colsample_bytree': 0.5638937612005063}. Best is trial 66 with value: 0.3933386981487274.\n",
            "[I 2025-02-15 18:14:01,313] Trial 82 finished with value: 0.39949018955230714 and parameters: {'n_estimators': 909, 'learning_rate': 0.006300332661476133, 'max_depth': 10, 'reg_lambda': 0.610079279802687, 'min_child_weight': 1, 'subsample': 0.6926210914087279, 'colsample_bytree': 0.6544848790578807}. Best is trial 66 with value: 0.3933386981487274.\n",
            "[I 2025-02-15 18:14:16,005] Trial 83 finished with value: 0.3976947724819183 and parameters: {'n_estimators': 989, 'learning_rate': 0.010360987119233608, 'max_depth': 9, 'reg_lambda': 0.030693001581486322, 'min_child_weight': 1, 'subsample': 0.6346776164533193, 'colsample_bytree': 0.6490111483231014}. Best is trial 66 with value: 0.3933386981487274.\n",
            "[I 2025-02-15 18:14:31,355] Trial 84 finished with value: 0.3986127436161041 and parameters: {'n_estimators': 935, 'learning_rate': 0.007077465808477844, 'max_depth': 10, 'reg_lambda': 0.1409293887010623, 'min_child_weight': 1, 'subsample': 0.681498916249139, 'colsample_bytree': 0.5837010555609364}. Best is trial 66 with value: 0.3933386981487274.\n",
            "[I 2025-02-15 18:14:45,262] Trial 85 finished with value: 0.3937408924102783 and parameters: {'n_estimators': 784, 'learning_rate': 0.011222218616344126, 'max_depth': 10, 'reg_lambda': 0.5376316359031844, 'min_child_weight': 1, 'subsample': 0.7238631314242354, 'colsample_bytree': 0.6730873285139332}. Best is trial 66 with value: 0.3933386981487274.\n",
            "[I 2025-02-15 18:14:58,195] Trial 86 finished with value: 0.39308819770812986 and parameters: {'n_estimators': 784, 'learning_rate': 0.016750636196848207, 'max_depth': 10, 'reg_lambda': 0.6812983591644199, 'min_child_weight': 1, 'subsample': 0.7428308494139425, 'colsample_bytree': 0.6093913481999877}. Best is trial 86 with value: 0.39308819770812986.\n",
            "[I 2025-02-15 18:15:10,899] Trial 87 finished with value: 0.3985216200351715 and parameters: {'n_estimators': 773, 'learning_rate': 0.01708402318458214, 'max_depth': 10, 'reg_lambda': 0.6552582848610686, 'min_child_weight': 2, 'subsample': 0.7468705188273643, 'colsample_bytree': 0.6076818972581111}. Best is trial 86 with value: 0.39308819770812986.\n",
            "[I 2025-02-15 18:15:23,956] Trial 88 finished with value: 0.39460356831550597 and parameters: {'n_estimators': 783, 'learning_rate': 0.011768119288730271, 'max_depth': 10, 'reg_lambda': 0.454917300403937, 'min_child_weight': 1, 'subsample': 0.7018205961314508, 'colsample_bytree': 0.6700375428287224}. Best is trial 86 with value: 0.39308819770812986.\n",
            "[I 2025-02-15 18:15:37,840] Trial 89 finished with value: 0.39493553042411805 and parameters: {'n_estimators': 796, 'learning_rate': 0.016031352044263508, 'max_depth': 10, 'reg_lambda': 0.14944445543652243, 'min_child_weight': 1, 'subsample': 0.7255343799253496, 'colsample_bytree': 0.6680441561157155}. Best is trial 86 with value: 0.39308819770812986.\n",
            "[I 2025-02-15 18:15:49,992] Trial 90 finished with value: 0.405498605966568 and parameters: {'n_estimators': 789, 'learning_rate': 0.022396925780613808, 'max_depth': 9, 'reg_lambda': 0.1426784810336367, 'min_child_weight': 2, 'subsample': 0.7003162090964336, 'colsample_bytree': 0.6657128647566938}. Best is trial 86 with value: 0.39308819770812986.\n",
            "[I 2025-02-15 18:16:03,443] Trial 91 finished with value: 0.3933765470981598 and parameters: {'n_estimators': 805, 'learning_rate': 0.016328040574740486, 'max_depth': 10, 'reg_lambda': 0.630474458170215, 'min_child_weight': 1, 'subsample': 0.728026166197978, 'colsample_bytree': 0.686197778909727}. Best is trial 86 with value: 0.39308819770812986.\n",
            "[I 2025-02-15 18:16:16,639] Trial 92 finished with value: 0.39318923354148866 and parameters: {'n_estimators': 805, 'learning_rate': 0.016377406335747646, 'max_depth': 10, 'reg_lambda': 0.6474548829002621, 'min_child_weight': 1, 'subsample': 0.7294870148370345, 'colsample_bytree': 0.6868739950889357}. Best is trial 86 with value: 0.39308819770812986.\n",
            "[I 2025-02-15 18:16:29,793] Trial 93 finished with value: 0.3938127398490906 and parameters: {'n_estimators': 794, 'learning_rate': 0.01617813019573185, 'max_depth': 10, 'reg_lambda': 0.5919632922159058, 'min_child_weight': 1, 'subsample': 0.7279355197442956, 'colsample_bytree': 0.70230991643958}. Best is trial 86 with value: 0.39308819770812986.\n",
            "[I 2025-02-15 18:16:42,167] Trial 94 finished with value: 0.395244699716568 and parameters: {'n_estimators': 750, 'learning_rate': 0.011878798110428945, 'max_depth': 10, 'reg_lambda': 0.6030869504470546, 'min_child_weight': 1, 'subsample': 0.7824238049482547, 'colsample_bytree': 0.7029020530717572}. Best is trial 86 with value: 0.39308819770812986.\n",
            "[I 2025-02-15 18:16:55,541] Trial 95 finished with value: 0.39731183648109436 and parameters: {'n_estimators': 811, 'learning_rate': 0.02366442863268373, 'max_depth': 10, 'reg_lambda': 0.47703083619014225, 'min_child_weight': 1, 'subsample': 0.7490102705470123, 'colsample_bytree': 0.6871091328761146}. Best is trial 86 with value: 0.39308819770812986.\n",
            "[I 2025-02-15 18:17:08,382] Trial 96 finished with value: 0.3943435847759247 and parameters: {'n_estimators': 773, 'learning_rate': 0.017295603980313864, 'max_depth': 10, 'reg_lambda': 0.7050047667067704, 'min_child_weight': 1, 'subsample': 0.7974746347805368, 'colsample_bytree': 0.7387229431859104}. Best is trial 86 with value: 0.39308819770812986.\n",
            "[I 2025-02-15 18:17:19,618] Trial 97 finished with value: 0.40627419352531435 and parameters: {'n_estimators': 774, 'learning_rate': 0.017138459665410045, 'max_depth': 9, 'reg_lambda': 0.9940110821736179, 'min_child_weight': 5, 'subsample': 0.7918425293202005, 'colsample_bytree': 0.7093292054263282}. Best is trial 86 with value: 0.39308819770812986.\n",
            "[I 2025-02-15 18:17:26,243] Trial 98 finished with value: 0.39510527849197385 and parameters: {'n_estimators': 392, 'learning_rate': 0.01876510076342648, 'max_depth': 10, 'reg_lambda': 0.5947722298311389, 'min_child_weight': 1, 'subsample': 0.7579718969182552, 'colsample_bytree': 0.6941394497709615}. Best is trial 86 with value: 0.39308819770812986.\n",
            "[I 2025-02-15 18:17:39,439] Trial 99 finished with value: 0.39426569938659667 and parameters: {'n_estimators': 802, 'learning_rate': 0.012354982043783281, 'max_depth': 10, 'reg_lambda': 0.3920316802158872, 'min_child_weight': 1, 'subsample': 0.772840800586221, 'colsample_bytree': 0.6782479166687198}. Best is trial 86 with value: 0.39308819770812986.\n",
            "[I 2025-02-15 18:17:41,914] Trial 100 finished with value: 0.49306427240371703 and parameters: {'n_estimators': 132, 'learning_rate': 0.011635457391817119, 'max_depth': 9, 'reg_lambda': 0.3684998327661386, 'min_child_weight': 2, 'subsample': 0.8312837059273721, 'colsample_bytree': 0.7398796156754669}. Best is trial 86 with value: 0.39308819770812986.\n",
            "[I 2025-02-15 18:17:54,472] Trial 101 finished with value: 0.39325207471847534 and parameters: {'n_estimators': 759, 'learning_rate': 0.017126830145855917, 'max_depth': 10, 'reg_lambda': 0.6876896062612882, 'min_child_weight': 1, 'subsample': 0.8013617909218158, 'colsample_bytree': 0.6836006678258245}. Best is trial 86 with value: 0.39308819770812986.\n",
            "[I 2025-02-15 18:18:06,568] Trial 102 finished with value: 0.3951382517814636 and parameters: {'n_estimators': 720, 'learning_rate': 0.016338405058612518, 'max_depth': 10, 'reg_lambda': 0.09648490332118638, 'min_child_weight': 1, 'subsample': 0.7981377029779209, 'colsample_bytree': 0.6784019014439435}. Best is trial 86 with value: 0.39308819770812986.\n",
            "[I 2025-02-15 18:18:19,192] Trial 103 finished with value: 0.3948696255683899 and parameters: {'n_estimators': 755, 'learning_rate': 0.020846023546204868, 'max_depth': 10, 'reg_lambda': 0.7340977920078448, 'min_child_weight': 1, 'subsample': 0.8064202619231097, 'colsample_bytree': 0.7164435820583691}. Best is trial 86 with value: 0.39308819770812986.\n",
            "[I 2025-02-15 18:18:32,701] Trial 104 finished with value: 0.39360672831535337 and parameters: {'n_estimators': 804, 'learning_rate': 0.012776190083961882, 'max_depth': 10, 'reg_lambda': 0.43334104897001785, 'min_child_weight': 1, 'subsample': 0.770007824124394, 'colsample_bytree': 0.7408126875691031}. Best is trial 86 with value: 0.39308819770812986.\n",
            "[I 2025-02-15 18:18:46,612] Trial 105 finished with value: 0.39843874573707583 and parameters: {'n_estimators': 816, 'learning_rate': 0.028225279829440866, 'max_depth': 10, 'reg_lambda': 0.164584482053313, 'min_child_weight': 1, 'subsample': 0.7698007958858668, 'colsample_bytree': 0.7447140239757133}. Best is trial 86 with value: 0.39308819770812986.\n",
            "[I 2025-02-15 18:18:50,168] Trial 106 finished with value: 0.4031082332134247 and parameters: {'n_estimators': 201, 'learning_rate': 0.022940170974455883, 'max_depth': 10, 'reg_lambda': 0.7269584622103866, 'min_child_weight': 1, 'subsample': 0.7779227810477949, 'colsample_bytree': 0.6984385628001325}. Best is trial 86 with value: 0.39308819770812986.\n",
            "[I 2025-02-15 18:19:02,218] Trial 107 finished with value: 0.39560248851776125 and parameters: {'n_estimators': 725, 'learning_rate': 0.017993783297064143, 'max_depth': 10, 'reg_lambda': 0.4288208435379071, 'min_child_weight': 1, 'subsample': 0.821523112448606, 'colsample_bytree': 0.7330268763680656}. Best is trial 86 with value: 0.39308819770812986.\n",
            "[I 2025-02-15 18:19:13,635] Trial 108 finished with value: 0.3960423171520233 and parameters: {'n_estimators': 675, 'learning_rate': 0.015618803325331157, 'max_depth': 10, 'reg_lambda': 0.07674760108950476, 'min_child_weight': 1, 'subsample': 0.7335501687228906, 'colsample_bytree': 0.6844993353674594}. Best is trial 86 with value: 0.39308819770812986.\n",
            "[I 2025-02-15 18:19:25,306] Trial 109 finished with value: 0.41665859818458556 and parameters: {'n_estimators': 798, 'learning_rate': 0.03573614485654844, 'max_depth': 9, 'reg_lambda': 0.9640232672118493, 'min_child_weight': 7, 'subsample': 0.7413107029917886, 'colsample_bytree': 0.7688071831789081}. Best is trial 86 with value: 0.39308819770812986.\n",
            "[I 2025-02-15 18:19:37,840] Trial 110 finished with value: 0.39907619953155515 and parameters: {'n_estimators': 762, 'learning_rate': 0.012125532969610168, 'max_depth': 10, 'reg_lambda': 0.6443967428959636, 'min_child_weight': 2, 'subsample': 0.8093329474984106, 'colsample_bytree': 0.7169112307931668}. Best is trial 86 with value: 0.39308819770812986.\n",
            "[I 2025-02-15 18:19:50,777] Trial 111 finished with value: 0.39371986985206603 and parameters: {'n_estimators': 779, 'learning_rate': 0.012832727529583254, 'max_depth': 10, 'reg_lambda': 0.467467586489156, 'min_child_weight': 1, 'subsample': 0.7498754775130118, 'colsample_bytree': 0.7059345169824799}. Best is trial 86 with value: 0.39308819770812986.\n",
            "[I 2025-02-15 18:20:04,227] Trial 112 finished with value: 0.3949761152267456 and parameters: {'n_estimators': 803, 'learning_rate': 0.019829053864653053, 'max_depth': 10, 'reg_lambda': 0.4092733118411682, 'min_child_weight': 1, 'subsample': 0.7530742895300301, 'colsample_bytree': 0.7526530548221092}. Best is trial 86 with value: 0.39308819770812986.\n",
            "[I 2025-02-15 18:20:18,203] Trial 113 finished with value: 0.394574248790741 and parameters: {'n_estimators': 832, 'learning_rate': 0.012792005401133615, 'max_depth': 10, 'reg_lambda': 0.17995683263515203, 'min_child_weight': 1, 'subsample': 0.770074484980342, 'colsample_bytree': 0.7061792546924437}. Best is trial 86 with value: 0.39308819770812986.\n",
            "[I 2025-02-15 18:20:31,869] Trial 114 finished with value: 0.3937679767608643 and parameters: {'n_estimators': 782, 'learning_rate': 0.01563695839295731, 'max_depth': 10, 'reg_lambda': 0.12370273344153689, 'min_child_weight': 1, 'subsample': 0.7280026157596031, 'colsample_bytree': 0.7235673852367722}. Best is trial 86 with value: 0.39308819770812986.\n",
            "[I 2025-02-15 18:20:44,478] Trial 115 finished with value: 0.3942427337169647 and parameters: {'n_estimators': 749, 'learning_rate': 0.015219225174930844, 'max_depth': 10, 'reg_lambda': 0.12763213149048028, 'min_child_weight': 1, 'subsample': 0.7268891692422388, 'colsample_bytree': 0.7268564014220559}. Best is trial 86 with value: 0.39308819770812986.\n",
            "[I 2025-02-15 18:20:56,988] Trial 116 finished with value: 0.39517984390258787 and parameters: {'n_estimators': 749, 'learning_rate': 0.014869541781151354, 'max_depth': 10, 'reg_lambda': 0.12343145729992423, 'min_child_weight': 1, 'subsample': 0.74073737346375, 'colsample_bytree': 0.728235453145576}. Best is trial 86 with value: 0.39308819770812986.\n",
            "[I 2025-02-15 18:21:11,100] Trial 117 finished with value: 0.39826292395591734 and parameters: {'n_estimators': 840, 'learning_rate': 0.022373369874508418, 'max_depth': 10, 'reg_lambda': 0.026542256583769474, 'min_child_weight': 1, 'subsample': 0.7278582543978824, 'colsample_bytree': 0.6957051469613199}. Best is trial 86 with value: 0.39308819770812986.\n",
            "[I 2025-02-15 18:21:23,131] Trial 118 finished with value: 0.399146568775177 and parameters: {'n_estimators': 722, 'learning_rate': 0.008278911315027188, 'max_depth': 10, 'reg_lambda': 0.22040289076462333, 'min_child_weight': 1, 'subsample': 0.7604182380108473, 'colsample_bytree': 0.7227597459686813}. Best is trial 86 with value: 0.39308819770812986.\n",
            "[I 2025-02-15 18:21:36,612] Trial 119 finished with value: 0.39670329689979555 and parameters: {'n_estimators': 894, 'learning_rate': 0.019462127669687575, 'max_depth': 9, 'reg_lambda': 0.005291996843240708, 'min_child_weight': 1, 'subsample': 0.7276760943991539, 'colsample_bytree': 0.7069268323412803}. Best is trial 86 with value: 0.39308819770812986.\n",
            "[I 2025-02-15 18:21:49,934] Trial 120 finished with value: 0.3982300817966461 and parameters: {'n_estimators': 783, 'learning_rate': 0.01529825720635955, 'max_depth': 10, 'reg_lambda': 0.06553286830396061, 'min_child_weight': 1, 'subsample': 0.7513973308834515, 'colsample_bytree': 0.7788835937886162}. Best is trial 86 with value: 0.39308819770812986.\n",
            "[I 2025-02-15 18:22:03,375] Trial 121 finished with value: 0.39395291805267335 and parameters: {'n_estimators': 813, 'learning_rate': 0.012804870059365496, 'max_depth': 10, 'reg_lambda': 0.315948840428854, 'min_child_weight': 1, 'subsample': 0.7868931570441684, 'colsample_bytree': 0.6592212178021417}. Best is trial 86 with value: 0.39308819770812986.\n",
            "[I 2025-02-15 18:22:16,959] Trial 122 finished with value: 0.39538060426712035 and parameters: {'n_estimators': 816, 'learning_rate': 0.017363199933588994, 'max_depth': 10, 'reg_lambda': 0.28318934099853177, 'min_child_weight': 1, 'subsample': 0.7415304604077337, 'colsample_bytree': 0.6878129032036232}. Best is trial 86 with value: 0.39308819770812986.\n",
            "[I 2025-02-15 18:22:25,295] Trial 123 finished with value: 0.4058158576488495 and parameters: {'n_estimators': 448, 'learning_rate': 0.009462056174822835, 'max_depth': 10, 'reg_lambda': 0.5515012413283213, 'min_child_weight': 1, 'subsample': 0.7845374716908973, 'colsample_bytree': 0.6553338880154959}. Best is trial 86 with value: 0.39308819770812986.\n",
            "[I 2025-02-15 18:22:38,654] Trial 124 finished with value: 0.4286904811859131 and parameters: {'n_estimators': 739, 'learning_rate': 0.21635007932858877, 'max_depth': 10, 'reg_lambda': 0.11017939110737468, 'min_child_weight': 1, 'subsample': 0.7085298864904704, 'colsample_bytree': 0.6584732261249036}. Best is trial 86 with value: 0.39308819770812986.\n",
            "[I 2025-02-15 18:22:53,301] Trial 125 finished with value: 0.39621156454086304 and parameters: {'n_estimators': 868, 'learning_rate': 0.01297411380763744, 'max_depth': 10, 'reg_lambda': 0.9570341107059326, 'min_child_weight': 1, 'subsample': 0.7232291197956371, 'colsample_bytree': 0.9346574563956416}. Best is trial 86 with value: 0.39308819770812986.\n",
            "[I 2025-02-15 18:23:06,244] Trial 126 finished with value: 0.393078476190567 and parameters: {'n_estimators': 781, 'learning_rate': 0.015296108827791442, 'max_depth': 10, 'reg_lambda': 0.20905964207919372, 'min_child_weight': 1, 'subsample': 0.6919736452169187, 'colsample_bytree': 0.7157676185721993}. Best is trial 126 with value: 0.393078476190567.\n",
            "[I 2025-02-15 18:23:20,699] Trial 127 finished with value: 0.3942064642906189 and parameters: {'n_estimators': 837, 'learning_rate': 0.011142625126158956, 'max_depth': 10, 'reg_lambda': 0.22725617804395987, 'min_child_weight': 1, 'subsample': 0.7008809290880911, 'colsample_bytree': 0.7124357163677821}. Best is trial 126 with value: 0.393078476190567.\n",
            "[I 2025-02-15 18:23:32,683] Trial 128 finished with value: 0.39857629537582395 and parameters: {'n_estimators': 790, 'learning_rate': 0.026145102737550777, 'max_depth': 9, 'reg_lambda': 0.32886570737923054, 'min_child_weight': 1, 'subsample': 0.6874531623118555, 'colsample_bytree': 0.7604099735920583}. Best is trial 126 with value: 0.393078476190567.\n",
            "[I 2025-02-15 18:23:45,784] Trial 129 finished with value: 0.40234933495521547 and parameters: {'n_estimators': 814, 'learning_rate': 0.013314730602614098, 'max_depth': 10, 'reg_lambda': 0.6407446857592637, 'min_child_weight': 4, 'subsample': 0.6536439031345777, 'colsample_bytree': 0.6986014714432983}. Best is trial 126 with value: 0.393078476190567.\n",
            "[I 2025-02-15 18:23:58,582] Trial 130 finished with value: 0.3953374207019806 and parameters: {'n_estimators': 766, 'learning_rate': 0.021580014730984233, 'max_depth': 10, 'reg_lambda': 0.48505971564767114, 'min_child_weight': 1, 'subsample': 0.7638033966853994, 'colsample_bytree': 0.6826426472017052}. Best is trial 126 with value: 0.393078476190567.\n",
            "[I 2025-02-15 18:24:12,435] Trial 131 finished with value: 0.39523581266403196 and parameters: {'n_estimators': 839, 'learning_rate': 0.011088998425394958, 'max_depth': 10, 'reg_lambda': 0.22422837375423174, 'min_child_weight': 1, 'subsample': 0.7051650704829832, 'colsample_bytree': 0.7187435178538417}. Best is trial 126 with value: 0.393078476190567.\n",
            "[I 2025-02-15 18:24:25,695] Trial 132 finished with value: 0.40412880182266236 and parameters: {'n_estimators': 825, 'learning_rate': 0.01067860146476291, 'max_depth': 10, 'reg_lambda': 0.33253086082159944, 'min_child_weight': 6, 'subsample': 0.6937611463469887, 'colsample_bytree': 0.7094480160914645}. Best is trial 126 with value: 0.393078476190567.\n",
            "[I 2025-02-15 18:24:39,990] Trial 133 finished with value: 0.39504584670066833 and parameters: {'n_estimators': 861, 'learning_rate': 0.0184213067679256, 'max_depth': 10, 'reg_lambda': 0.1715201988353995, 'min_child_weight': 1, 'subsample': 0.7451182883994367, 'colsample_bytree': 0.6722013551556032}. Best is trial 126 with value: 0.393078476190567.\n",
            "[I 2025-02-15 18:24:53,106] Trial 134 finished with value: 0.39407244324684143 and parameters: {'n_estimators': 800, 'learning_rate': 0.016253671160253644, 'max_depth': 10, 'reg_lambda': 0.2439360680216936, 'min_child_weight': 1, 'subsample': 0.714882960049641, 'colsample_bytree': 0.6920017283909383}. Best is trial 126 with value: 0.393078476190567.\n",
            "[I 2025-02-15 18:25:06,108] Trial 135 finished with value: 0.3924153923988342 and parameters: {'n_estimators': 788, 'learning_rate': 0.016383744522466236, 'max_depth': 10, 'reg_lambda': 0.9978782391945538, 'min_child_weight': 1, 'subsample': 0.7125952883499691, 'colsample_bytree': 0.6881971659404555}. Best is trial 135 with value: 0.3924153923988342.\n",
            "[I 2025-02-15 18:25:18,526] Trial 136 finished with value: 0.39972389340400694 and parameters: {'n_estimators': 778, 'learning_rate': 0.014810011996368128, 'max_depth': 10, 'reg_lambda': 0.7669458510167206, 'min_child_weight': 3, 'subsample': 0.7336897028818063, 'colsample_bytree': 0.6601370432051409}. Best is trial 135 with value: 0.3924153923988342.\n",
            "[I 2025-02-15 18:25:31,457] Trial 137 finished with value: 0.3941981136798859 and parameters: {'n_estimators': 787, 'learning_rate': 0.013237749894478394, 'max_depth': 10, 'reg_lambda': 0.48750192323400116, 'min_child_weight': 1, 'subsample': 0.7558227341174193, 'colsample_bytree': 0.6751377207437883}. Best is trial 135 with value: 0.3924153923988342.\n",
            "[I 2025-02-15 18:25:43,932] Trial 138 finished with value: 0.3955837070941925 and parameters: {'n_estimators': 760, 'learning_rate': 0.009356846303675514, 'max_depth': 10, 'reg_lambda': 0.7618642199527733, 'min_child_weight': 1, 'subsample': 0.6914359417981076, 'colsample_bytree': 0.7473125786658217}. Best is trial 135 with value: 0.3924153923988342.\n",
            "[I 2025-02-15 18:25:58,344] Trial 139 finished with value: 0.39457213282585146 and parameters: {'n_estimators': 883, 'learning_rate': 0.018960019847254306, 'max_depth': 10, 'reg_lambda': 0.3737219061630762, 'min_child_weight': 1, 'subsample': 0.7188236783168116, 'colsample_bytree': 0.7359480198212347}. Best is trial 135 with value: 0.3924153923988342.\n",
            "[I 2025-02-15 18:26:09,331] Trial 140 finished with value: 0.40094627141952516 and parameters: {'n_estimators': 729, 'learning_rate': 0.0234981364150872, 'max_depth': 9, 'reg_lambda': 0.914864060969117, 'min_child_weight': 2, 'subsample': 0.7916528722291041, 'colsample_bytree': 0.6898645848645231}. Best is trial 135 with value: 0.3924153923988342.\n",
            "[I 2025-02-15 18:26:22,671] Trial 141 finished with value: 0.39334272146224974 and parameters: {'n_estimators': 806, 'learning_rate': 0.01642888381246494, 'max_depth': 10, 'reg_lambda': 0.5693748737621779, 'min_child_weight': 1, 'subsample': 0.7135695624410179, 'colsample_bytree': 0.699515823724182}. Best is trial 135 with value: 0.3924153923988342.\n",
            "[I 2025-02-15 18:26:36,227] Trial 142 finished with value: 0.3933829963207245 and parameters: {'n_estimators': 814, 'learning_rate': 0.01578501125356442, 'max_depth': 10, 'reg_lambda': 0.5443664899909199, 'min_child_weight': 1, 'subsample': 0.7342497963279081, 'colsample_bytree': 0.7040336452498843}. Best is trial 135 with value: 0.3924153923988342.\n",
            "[I 2025-02-15 18:26:50,954] Trial 143 finished with value: 0.39429512023925783 and parameters: {'n_estimators': 853, 'learning_rate': 0.017489307634480263, 'max_depth': 10, 'reg_lambda': 0.5323423374528058, 'min_child_weight': 1, 'subsample': 0.7395015036885847, 'colsample_bytree': 0.7001829057681307}. Best is trial 135 with value: 0.3924153923988342.\n",
            "[I 2025-02-15 18:27:03,594] Trial 144 finished with value: 0.3940204203128815 and parameters: {'n_estimators': 775, 'learning_rate': 0.016532850686013782, 'max_depth': 10, 'reg_lambda': 0.5822786449613157, 'min_child_weight': 1, 'subsample': 0.714400962256536, 'colsample_bytree': 0.7201494620636314}. Best is trial 135 with value: 0.3924153923988342.\n",
            "[I 2025-02-15 18:27:16,762] Trial 145 finished with value: 0.39440755248069764 and parameters: {'n_estimators': 797, 'learning_rate': 0.021116414887877133, 'max_depth': 10, 'reg_lambda': 0.40028824648111583, 'min_child_weight': 1, 'subsample': 0.7306907976361514, 'colsample_bytree': 0.7069748817181086}. Best is trial 135 with value: 0.3924153923988342.\n",
            "[I 2025-02-15 18:27:30,168] Trial 146 finished with value: 0.3927024245262146 and parameters: {'n_estimators': 822, 'learning_rate': 0.015370838926736186, 'max_depth': 10, 'reg_lambda': 0.9586123898863469, 'min_child_weight': 1, 'subsample': 0.7058001958268929, 'colsample_bytree': 0.687432687749727}. Best is trial 135 with value: 0.3924153923988342.\n",
            "[I 2025-02-15 18:27:43,552] Trial 147 finished with value: 0.3935217082500458 and parameters: {'n_estimators': 825, 'learning_rate': 0.014529984022361938, 'max_depth': 10, 'reg_lambda': 0.9446458709415196, 'min_child_weight': 1, 'subsample': 0.6603399870933204, 'colsample_bytree': 0.6842054102408801}. Best is trial 135 with value: 0.3924153923988342.\n",
            "[I 2025-02-15 18:27:58,284] Trial 148 finished with value: 0.39345623254776 and parameters: {'n_estimators': 912, 'learning_rate': 0.013326004378730917, 'max_depth': 10, 'reg_lambda': 0.9404854067548779, 'min_child_weight': 1, 'subsample': 0.6614943598093842, 'colsample_bytree': 0.6817089481011034}. Best is trial 135 with value: 0.3924153923988342.\n",
            "[I 2025-02-15 18:28:13,147] Trial 149 finished with value: 0.3946937620639801 and parameters: {'n_estimators': 913, 'learning_rate': 0.014018918628631307, 'max_depth': 10, 'reg_lambda': 0.892584108813338, 'min_child_weight': 1, 'subsample': 0.665428806298187, 'colsample_bytree': 0.6895779880434867}. Best is trial 135 with value: 0.3924153923988342.\n"
          ]
        },
        {
          "name": "stdout",
          "output_type": "stream",
          "text": [
            "Лучшие параметры: {'n_estimators': 788, 'learning_rate': 0.016383744522466236, 'max_depth': 10, 'reg_lambda': 0.9978782391945538, 'min_child_weight': 1, 'subsample': 0.7125952883499691, 'colsample_bytree': 0.6881971659404555}\n",
            "\n",
            "Лучшая модель XGBoost:\n",
            "MAPE: 0.2766740322113037\n",
            "RMSE: 41103.30859375\n",
            "\n",
            "Время обучения: 1661.35 сек.\n",
            "Время предсказания: 0.02 сек.\n"
          ]
        }
      ],
      "source": [
        "import xgboost as xgb\n",
        "from sklearn.preprocessing import OneHotEncoder\n",
        "import time\n",
        "import optuna\n",
        "from sklearn.metrics import mean_squared_error, mean_absolute_percentage_error\n",
        "import numpy as np\n",
        "from sklearn.model_selection import KFold\n",
        "\n",
        "# восстановим данные, которые изменились в предыдущих пунктах\n",
        "X = df.drop(columns=['salary_in_usd'], axis=1)\n",
        "\n",
        "# Подготовка категориальных признаков с помощью OneHotEncoder\n",
        "X_13 = X.copy()\n",
        "encoder = OneHotEncoder(sparse_output=False, handle_unknown='ignore', drop='first')\n",
        "cat_encoded = encoder.fit_transform(X_13[cols_cat])\n",
        "cat_feature_names = encoder.get_feature_names_out(cols_cat)\n",
        "\n",
        "# Объединяем числовые и закодированные категориальные признаки\n",
        "X_encoded = pd.concat([X_13.drop(cols_cat, axis=1), pd.DataFrame(cat_encoded, columns=cat_feature_names,  index=X_13.index)], axis=1)\n",
        "\n",
        "\n",
        "def objective(trial):\n",
        "    param = {\n",
        "        \"n_estimators\": trial.suggest_int(\"n_estimators\", 100, 1000),  # Количество деревьев в ансамбле\n",
        "        \"learning_rate\": trial.suggest_float(\"learning_rate\", 0.001, 0.3, log=True),  # Скорость обучения\n",
        "        \"max_depth\": trial.suggest_int(\"max_depth\", 4, 10),  # Максимальная глубина дерева\n",
        "        \"reg_lambda\": trial.suggest_float(\"reg_lambda\", 1e-8, 1.0, log=True),  # L2 регуляризация\n",
        "        \"min_child_weight\": trial.suggest_int(\"min_child_weight\", 1, 7),  # минимальный вес для дочернего узла\n",
        "        \"subsample\": trial.suggest_float(\"subsample\", 0.5, 1.0),  # Доля наблюдений для построения каждого дерева\n",
        "        \"colsample_bytree\": trial.suggest_float(\"colsample_bytree\", 0.5, 1.0),  # Доля признаков для построения каждого дерева\n",
        "        \"random_state\": 42\n",
        "    }\n",
        "    \n",
        "    # Инициализируем KFold\n",
        "    kf = KFold(n_splits=5, shuffle=True, random_state=42)\n",
        "    mape_scores = []\n",
        "    \n",
        "    # Проходим по фолдам\n",
        "    for train_idx, val_idx in kf.split(X_encoded):\n",
        "        X_fold_train, X_fold_val = X_encoded.iloc[train_idx], X_encoded.iloc[val_idx]\n",
        "        y_fold_train, y_fold_val = y.iloc[train_idx], y.iloc[val_idx]\n",
        "        \n",
        "        # Обучаем модель на тренировочном фолде\n",
        "        model = xgb.XGBRegressor(**param)\n",
        "        model.fit(X_fold_train, y_fold_train)\n",
        "        \n",
        "        # Делаем предсказания на валидационном фолде\n",
        "        preds = model.predict(X_fold_val)\n",
        "        \n",
        "        # Считаем MAPE для текущего фолда\n",
        "        fold_mape = mean_absolute_percentage_error(y_fold_val, preds)\n",
        "        mape_scores.append(fold_mape)\n",
        "    \n",
        "    # Возвращаем среднее значение MAPE по всем фолдам\n",
        "    return np.mean(mape_scores)\n",
        "\n",
        "study = optuna.create_study(direction=\"minimize\", study_name=\"XGBoost\")\n",
        "\n",
        "# Замеряем время обучения\n",
        "start_time = time.time()\n",
        "study.optimize(objective, n_trials=150)\n",
        "end_time = time.time()\n",
        "training_time = end_time - start_time\n",
        "\n",
        "best_params = study.best_params\n",
        "print(f\"Лучшие параметры: {best_params}\")\n",
        "\n",
        "# Модель с лучшими параметрами\n",
        "best_xgb = xgb.XGBRegressor(**best_params, random_state=42)\n",
        "best_xgb.fit(X_encoded, y)\n",
        "\n",
        "# Замеряем время предсказания\n",
        "start_time = time.time()\n",
        "predictions = best_xgb.predict(X_encoded)\n",
        "end_time = time.time()\n",
        "prediction_time = end_time - start_time\n",
        "\n",
        "# Оценка качества\n",
        "print(\"\\nЛучшая модель XGBoost:\")\n",
        "_ = evaluate_model(y, predictions)\n",
        "\n",
        "print(f\"\\nВремя обучения: {training_time:.2f} сек.\")\n",
        "print(f\"Время предсказания: {prediction_time:.2f} сек.\")\n",
        "\n",
        "\n",
        "'''\n",
        "Лучшие параметры: {\n",
        "    'n_estimators': 788, \n",
        "    'learning_rate': 0.016383744522466236, \n",
        "    'max_depth': 10, \n",
        "    'reg_lambda': 0.9978782391945538, \n",
        "    'min_child_weight': 1, \n",
        "    'subsample': 0.7125952883499691, \n",
        "    'colsample_bytree': 0.6881971659404555\n",
        "}\n",
        "\n",
        "Лучшая модель XGBoost:\n",
        "MAPE: 0.2766740322113037\n",
        "RMSE: 41103.30859375\n",
        "\n",
        "Время обучения: 1661.35 сек.\n",
        "Время предсказания: 0.02 сек.\n",
        "'''"
      ]
    },
    {
      "cell_type": "markdown",
      "id": "8f2cae14",
      "metadata": {},
      "source": [
        "#### Вывод"
      ]
    },
    {
      "cell_type": "markdown",
      "id": "92a43ec0",
      "metadata": {},
      "source": [
        "В результате обучения модели XGBoost с оптимальными гиперпараметрами, подобранными с помощью Optuna, мы получили следующие результаты:\n",
        "\n",
        "- Лучшие параметры модели:\n",
        "  - n_estimators: 788\n",
        "  - learning_rate: ~0.016 \n",
        "  - max_depth: 10\n",
        "  - reg_lambda: ~0.998\n",
        "  - min_child_weight: 1\n",
        "  - subsample: 0.71\n",
        "  - colsample_bytree: 0.69\n",
        "\n",
        "- Качество модели:\n",
        "  - MAPE: 0.277 (27.7%) - очень хороший результат для предсказания зарплат\n",
        "  - RMSE: 41103 USD - приемлемая ошибка для годовой зарплаты\n",
        "\n",
        "- Временные характеристики:\n",
        "  - Время обучения: ~28 минут - достаточно длительное время обучения\n",
        "  - Время предсказания: 0.02 секунды - практически мгновенное\n",
        "\n",
        "XGBoost продемонстрировал высокую точность предсказаний, но требует значительного времени на обучение. Высокие значения subsample и colsample_bytree указывают на эффективное использование данных, а относительно низкий learning_rate помогает избежать переобучения."
      ]
    },
    {
      "cell_type": "markdown",
      "id": "a881ad9d",
      "metadata": {
        "id": "a881ad9d"
      },
      "source": [
        "## **Задание 14 (1 балл)**\n",
        "\n",
        "- Используйте lgbm.\n",
        "- Обучите модель — на полном наборе данных с категориальными признаками. Стратегию кодирования оставьте ту, что показала себя лучшей в пункте 9.\n",
        "- Подберите оптимальные гиперпараметры.\n",
        "- Оцените качество итоговой модели, скорость обучения и скорость предсказания.\n"
      ]
    },
    {
      "cell_type": "code",
      "execution_count": 90,
      "id": "weXtNlM49fYL",
      "metadata": {
        "id": "weXtNlM49fYL"
      },
      "outputs": [
        {
          "name": "stderr",
          "output_type": "stream",
          "text": [
            "[I 2025-02-15 18:28:15,841] A new study created in memory with name: LightGBM\n",
            "[I 2025-02-15 18:28:21,967] Trial 0 finished with value: 0.43267614656636705 and parameters: {'n_estimators': 704, 'learning_rate': 0.23267408222963806, 'max_depth': 5, 'lambda_l2': 4.2900500967963674e-07, 'min_child_weight': 3, 'subsample': 0.5256015909867955, 'colsample_bytree': 0.6870959142295398}. Best is trial 0 with value: 0.43267614656636705.\n",
            "[I 2025-02-15 18:28:25,277] Trial 1 finished with value: 0.5735493693295496 and parameters: {'n_estimators': 315, 'learning_rate': 0.0036846970534639635, 'max_depth': 4, 'lambda_l2': 8.717688549372218e-05, 'min_child_weight': 2, 'subsample': 0.7943784478857723, 'colsample_bytree': 0.5719427107110742}. Best is trial 0 with value: 0.43267614656636705.\n",
            "[I 2025-02-15 18:28:28,502] Trial 2 finished with value: 0.42171020955372035 and parameters: {'n_estimators': 351, 'learning_rate': 0.20720887393702206, 'max_depth': 5, 'lambda_l2': 0.08092601803762024, 'min_child_weight': 1, 'subsample': 0.6514898883323903, 'colsample_bytree': 0.5163392047033156}. Best is trial 2 with value: 0.42171020955372035.\n",
            "[I 2025-02-15 18:28:32,185] Trial 3 finished with value: 0.6969517145059022 and parameters: {'n_estimators': 197, 'learning_rate': 0.002116972678635948, 'max_depth': 5, 'lambda_l2': 0.008133579874814079, 'min_child_weight': 3, 'subsample': 0.8799452805577251, 'colsample_bytree': 0.9886197026016317}. Best is trial 2 with value: 0.42171020955372035.\n",
            "[I 2025-02-15 18:28:50,182] Trial 4 finished with value: 0.6192151162831657 and parameters: {'n_estimators': 744, 'learning_rate': 0.0010476065887652613, 'max_depth': 7, 'lambda_l2': 0.034474036642410215, 'min_child_weight': 4, 'subsample': 0.5642531403667059, 'colsample_bytree': 0.6890956342370624}. Best is trial 2 with value: 0.42171020955372035.\n",
            "[I 2025-02-15 18:28:58,300] Trial 5 finished with value: 0.4175179573106318 and parameters: {'n_estimators': 529, 'learning_rate': 0.02022796138145999, 'max_depth': 7, 'lambda_l2': 1.91390753436644e-08, 'min_child_weight': 1, 'subsample': 0.6175143767383724, 'colsample_bytree': 0.9588944331213495}. Best is trial 5 with value: 0.4175179573106318.\n",
            "[I 2025-02-15 18:28:59,884] Trial 6 finished with value: 0.4145094896869431 and parameters: {'n_estimators': 204, 'learning_rate': 0.05629672749064496, 'max_depth': 4, 'lambda_l2': 0.002491236377128367, 'min_child_weight': 5, 'subsample': 0.8159445350412269, 'colsample_bytree': 0.8042070930068882}. Best is trial 6 with value: 0.4145094896869431.\n",
            "[I 2025-02-15 18:29:16,927] Trial 7 finished with value: 0.6317932908927808 and parameters: {'n_estimators': 614, 'learning_rate': 0.001255943585477983, 'max_depth': 9, 'lambda_l2': 2.0590999040425207e-07, 'min_child_weight': 4, 'subsample': 0.9449130487400681, 'colsample_bytree': 0.5496200718432649}. Best is trial 6 with value: 0.4145094896869431.\n",
            "[I 2025-02-15 18:29:25,904] Trial 8 finished with value: 0.42176858526207095 and parameters: {'n_estimators': 683, 'learning_rate': 0.08009467358807892, 'max_depth': 7, 'lambda_l2': 1.0672898723792897e-08, 'min_child_weight': 6, 'subsample': 0.7109041360774124, 'colsample_bytree': 0.7219349225328249}. Best is trial 6 with value: 0.4145094896869431.\n",
            "[I 2025-02-15 18:29:46,221] Trial 9 finished with value: 0.42392274897249627 and parameters: {'n_estimators': 822, 'learning_rate': 0.00519179356192162, 'max_depth': 8, 'lambda_l2': 9.520557556690689e-08, 'min_child_weight': 3, 'subsample': 0.8971647766992544, 'colsample_bytree': 0.5019146124552535}. Best is trial 6 with value: 0.4145094896869431.\n",
            "[I 2025-02-15 18:29:49,650] Trial 10 finished with value: 0.42534513658050843 and parameters: {'n_estimators': 117, 'learning_rate': 0.030719671738260932, 'max_depth': 10, 'lambda_l2': 0.00036819153218652876, 'min_child_weight': 7, 'subsample': 0.7948169825874549, 'colsample_bytree': 0.8495411754189325}. Best is trial 6 with value: 0.4145094896869431.\n",
            "[I 2025-02-15 18:30:01,571] Trial 11 finished with value: 0.4182497820382204 and parameters: {'n_estimators': 987, 'learning_rate': 0.01937651117061917, 'max_depth': 6, 'lambda_l2': 2.3008816804116657e-05, 'min_child_weight': 6, 'subsample': 0.6329849856016921, 'colsample_bytree': 0.9128799314323439}. Best is trial 6 with value: 0.4145094896869431.\n",
            "[I 2025-02-15 18:30:04,985] Trial 12 finished with value: 0.41612092336652384 and parameters: {'n_estimators': 459, 'learning_rate': 0.0501869416938913, 'max_depth': 4, 'lambda_l2': 0.0007989107677142448, 'min_child_weight': 5, 'subsample': 0.7190710184388462, 'colsample_bytree': 0.8553526773864173}. Best is trial 6 with value: 0.4145094896869431.\n",
            "[I 2025-02-15 18:30:08,330] Trial 13 finished with value: 0.4147956323722547 and parameters: {'n_estimators': 459, 'learning_rate': 0.05882771860568067, 'max_depth': 4, 'lambda_l2': 0.001646090064427559, 'min_child_weight': 5, 'subsample': 0.7478755606794432, 'colsample_bytree': 0.8102569686497062}. Best is trial 6 with value: 0.4145094896869431.\n",
            "[I 2025-02-15 18:30:10,709] Trial 14 finished with value: 0.41422940608405173 and parameters: {'n_estimators': 318, 'learning_rate': 0.09281524775514269, 'max_depth': 4, 'lambda_l2': 9.18023753254774e-06, 'min_child_weight': 5, 'subsample': 0.8163066418503382, 'colsample_bytree': 0.8016423972602246}. Best is trial 14 with value: 0.41422940608405173.\n",
            "[I 2025-02-15 18:30:13,714] Trial 15 finished with value: 0.41713066702578805 and parameters: {'n_estimators': 252, 'learning_rate': 0.09026522524983438, 'max_depth': 6, 'lambda_l2': 0.9322869329565285, 'min_child_weight': 5, 'subsample': 0.8400815414628285, 'colsample_bytree': 0.7754768946561876}. Best is trial 14 with value: 0.41422940608405173.\n",
            "[I 2025-02-15 18:30:15,298] Trial 16 finished with value: 0.41731521844079256 and parameters: {'n_estimators': 115, 'learning_rate': 0.14904226469528348, 'max_depth': 6, 'lambda_l2': 1.104074537278817e-05, 'min_child_weight': 7, 'subsample': 0.9673916155248209, 'colsample_bytree': 0.6285817865284673}. Best is trial 14 with value: 0.41422940608405173.\n",
            "[I 2025-02-15 18:30:18,329] Trial 17 finished with value: 0.41483928942296905 and parameters: {'n_estimators': 392, 'learning_rate': 0.03488820019998944, 'max_depth': 4, 'lambda_l2': 3.0765598607631483e-06, 'min_child_weight': 6, 'subsample': 0.8227956286444236, 'colsample_bytree': 0.8932201869946562}. Best is trial 14 with value: 0.41422940608405173.\n",
            "[I 2025-02-15 18:30:22,394] Trial 18 finished with value: 0.4720165002652813 and parameters: {'n_estimators': 234, 'learning_rate': 0.009455967261151372, 'max_depth': 5, 'lambda_l2': 2.3927525458339805e-06, 'min_child_weight': 5, 'subsample': 0.8501537154204643, 'colsample_bytree': 0.7800362427197962}. Best is trial 14 with value: 0.41422940608405173.\n",
            "[I 2025-02-15 18:30:27,460] Trial 19 finished with value: 0.4235411285523174 and parameters: {'n_estimators': 303, 'learning_rate': 0.10889264800882241, 'max_depth': 8, 'lambda_l2': 7.101721115992527e-05, 'min_child_weight': 4, 'subsample': 0.9100414574822214, 'colsample_bytree': 0.7373359883695418}. Best is trial 14 with value: 0.41422940608405173.\n",
            "[I 2025-02-15 18:30:30,462] Trial 20 finished with value: 0.4747449090552583 and parameters: {'n_estimators': 180, 'learning_rate': 0.011872325802511529, 'max_depth': 5, 'lambda_l2': 0.005544249288429289, 'min_child_weight': 6, 'subsample': 0.9901974385898094, 'colsample_bytree': 0.8304286720438986}. Best is trial 14 with value: 0.41422940608405173.\n",
            "[I 2025-02-15 18:30:33,437] Trial 21 finished with value: 0.41578069444103133 and parameters: {'n_estimators': 420, 'learning_rate': 0.05223476766014473, 'max_depth': 4, 'lambda_l2': 0.0006202307386738814, 'min_child_weight': 5, 'subsample': 0.7541733036259494, 'colsample_bytree': 0.8155518638545505}. Best is trial 14 with value: 0.41422940608405173.\n",
            "[I 2025-02-15 18:30:36,818] Trial 22 finished with value: 0.41669144924673934 and parameters: {'n_estimators': 486, 'learning_rate': 0.060102930675206216, 'max_depth': 4, 'lambda_l2': 0.0018834021809738758, 'min_child_weight': 4, 'subsample': 0.7448360345665281, 'colsample_bytree': 0.7794647604656056}. Best is trial 14 with value: 0.41422940608405173.\n",
            "[I 2025-02-15 18:30:41,041] Trial 23 finished with value: 0.4290558619686669 and parameters: {'n_estimators': 591, 'learning_rate': 0.29130869862284303, 'max_depth': 4, 'lambda_l2': 0.0429452428773153, 'min_child_weight': 5, 'subsample': 0.6889558451047539, 'colsample_bytree': 0.9013222251629229}. Best is trial 14 with value: 0.41422940608405173.\n",
            "[I 2025-02-15 18:30:44,389] Trial 24 finished with value: 0.4215961599210016 and parameters: {'n_estimators': 295, 'learning_rate': 0.138573218871836, 'max_depth': 6, 'lambda_l2': 0.0002036569886325787, 'min_child_weight': 6, 'subsample': 0.7672878264034272, 'colsample_bytree': 0.8168924739721054}. Best is trial 14 with value: 0.41422940608405173.\n",
            "[I 2025-02-15 18:30:48,454] Trial 25 finished with value: 0.4129294505819708 and parameters: {'n_estimators': 379, 'learning_rate': 0.03212299214783771, 'max_depth': 5, 'lambda_l2': 0.0041285935347103375, 'min_child_weight': 4, 'subsample': 0.8077865524088088, 'colsample_bytree': 0.6887570080641223}. Best is trial 25 with value: 0.4129294505819708.\n",
            "[I 2025-02-15 18:30:52,410] Trial 26 finished with value: 0.41114086338242883 and parameters: {'n_estimators': 373, 'learning_rate': 0.027855024603901227, 'max_depth': 5, 'lambda_l2': 0.6551246820489589, 'min_child_weight': 4, 'subsample': 0.8702016457050669, 'colsample_bytree': 0.6424821968025702}. Best is trial 26 with value: 0.41114086338242883.\n",
            "[I 2025-02-15 18:30:57,679] Trial 27 finished with value: 0.41206105897619283 and parameters: {'n_estimators': 528, 'learning_rate': 0.03238602098721743, 'max_depth': 5, 'lambda_l2': 0.7466071668702535, 'min_child_weight': 2, 'subsample': 0.8693110461607269, 'colsample_bytree': 0.6240804254931241}. Best is trial 26 with value: 0.41114086338242883.\n",
            "[I 2025-02-15 18:31:04,331] Trial 28 finished with value: 0.4131193307454762 and parameters: {'n_estimators': 531, 'learning_rate': 0.030445205933540824, 'max_depth': 6, 'lambda_l2': 0.22766598718117748, 'min_child_weight': 2, 'subsample': 0.9298894032153098, 'colsample_bytree': 0.636126770539126}. Best is trial 26 with value: 0.41114086338242883.\n",
            "[I 2025-02-15 18:31:09,110] Trial 29 finished with value: 0.4216068390910078 and parameters: {'n_estimators': 399, 'learning_rate': 0.013283285743198649, 'max_depth': 5, 'lambda_l2': 0.20980965387241254, 'min_child_weight': 2, 'subsample': 0.8656872409764744, 'colsample_bytree': 0.63524316134428}. Best is trial 26 with value: 0.41114086338242883.\n",
            "[I 2025-02-15 18:31:17,298] Trial 30 finished with value: 0.43282670677093016 and parameters: {'n_estimators': 627, 'learning_rate': 0.006205186649232899, 'max_depth': 5, 'lambda_l2': 0.776821278278537, 'min_child_weight': 3, 'subsample': 0.5004719988529702, 'colsample_bytree': 0.5975461318419555}. Best is trial 26 with value: 0.41114086338242883.\n",
            "[I 2025-02-15 18:31:24,014] Trial 31 finished with value: 0.4129946404507777 and parameters: {'n_estimators': 530, 'learning_rate': 0.030716237729201068, 'max_depth': 6, 'lambda_l2': 0.20572318878760631, 'min_child_weight': 2, 'subsample': 0.9140865834677623, 'colsample_bytree': 0.6700962925000447}. Best is trial 26 with value: 0.41114086338242883.\n",
            "[I 2025-02-15 18:31:30,666] Trial 32 finished with value: 0.4124547070806891 and parameters: {'n_estimators': 506, 'learning_rate': 0.025407822825489333, 'max_depth': 6, 'lambda_l2': 0.019771607738116734, 'min_child_weight': 2, 'subsample': 0.9132346172197453, 'colsample_bytree': 0.6796489538584432}. Best is trial 26 with value: 0.41114086338242883.\n",
            "[I 2025-02-15 18:31:34,716] Trial 33 finished with value: 0.4155303286837141 and parameters: {'n_estimators': 356, 'learning_rate': 0.022499447240864116, 'max_depth': 5, 'lambda_l2': 0.017533913179876376, 'min_child_weight': 1, 'subsample': 0.8745584936150681, 'colsample_bytree': 0.7002392488672984}. Best is trial 26 with value: 0.41114086338242883.\n",
            "[I 2025-02-15 18:31:42,001] Trial 34 finished with value: 0.4143361108141169 and parameters: {'n_estimators': 477, 'learning_rate': 0.01414266283145597, 'max_depth': 6, 'lambda_l2': 0.10513272133848052, 'min_child_weight': 3, 'subsample': 0.9414438492576042, 'colsample_bytree': 0.6625771797113591}. Best is trial 26 with value: 0.41114086338242883.\n",
            "[I 2025-02-15 18:31:50,524] Trial 35 finished with value: 0.41801260863461887 and parameters: {'n_estimators': 677, 'learning_rate': 0.00872748496564875, 'max_depth': 5, 'lambda_l2': 0.009952232393492192, 'min_child_weight': 2, 'subsample': 0.8862936229437754, 'colsample_bytree': 0.5513497928295504}. Best is trial 26 with value: 0.41114086338242883.\n",
            "[I 2025-02-15 18:31:54,269] Trial 36 finished with value: 0.41075582800455884 and parameters: {'n_estimators': 359, 'learning_rate': 0.03998725147669537, 'max_depth': 5, 'lambda_l2': 0.4076679575449506, 'min_child_weight': 1, 'subsample': 0.7942817123871446, 'colsample_bytree': 0.6018213332527658}. Best is trial 36 with value: 0.41075582800455884.\n",
            "[I 2025-02-15 18:32:05,592] Trial 37 finished with value: 0.41850903430513287 and parameters: {'n_estimators': 782, 'learning_rate': 0.04329614362906112, 'max_depth': 7, 'lambda_l2': 0.46091953925208173, 'min_child_weight': 1, 'subsample': 0.8448644603194154, 'colsample_bytree': 0.6000513604143032}. Best is trial 36 with value: 0.41075582800455884.\n",
            "[I 2025-02-15 18:32:14,984] Trial 38 finished with value: 0.41233970343309956 and parameters: {'n_estimators': 571, 'learning_rate': 0.023320872080623247, 'max_depth': 7, 'lambda_l2': 0.055663071974703666, 'min_child_weight': 1, 'subsample': 0.778827581809253, 'colsample_bytree': 0.5862457721681109}. Best is trial 36 with value: 0.41075582800455884.\n",
            "[I 2025-02-15 18:32:27,654] Trial 39 finished with value: 0.41562538803637816 and parameters: {'n_estimators': 586, 'learning_rate': 0.03790534706772939, 'max_depth': 9, 'lambda_l2': 0.07335682754565315, 'min_child_weight': 1, 'subsample': 0.7715941189246666, 'colsample_bytree': 0.5334686775794333}. Best is trial 36 with value: 0.41075582800455884.\n",
            "[I 2025-02-15 18:32:37,303] Trial 40 finished with value: 0.41144029058627074 and parameters: {'n_estimators': 437, 'learning_rate': 0.01585805622108004, 'max_depth': 8, 'lambda_l2': 0.3387331762780719, 'min_child_weight': 1, 'subsample': 0.7923765299795414, 'colsample_bytree': 0.6013902539230025}. Best is trial 36 with value: 0.41075582800455884.\n",
            "[I 2025-02-15 18:32:46,717] Trial 41 finished with value: 0.4112094074429202 and parameters: {'n_estimators': 431, 'learning_rate': 0.015685236659194312, 'max_depth': 8, 'lambda_l2': 0.43739683197748136, 'min_child_weight': 1, 'subsample': 0.7793747782026014, 'colsample_bytree': 0.5683444659297222}. Best is trial 36 with value: 0.41075582800455884.\n",
            "[I 2025-02-15 18:32:56,063] Trial 42 finished with value: 0.41088734527627013 and parameters: {'n_estimators': 451, 'learning_rate': 0.0163313961439428, 'max_depth': 8, 'lambda_l2': 0.3625159556840979, 'min_child_weight': 1, 'subsample': 0.6857675730153472, 'colsample_bytree': 0.5625945596849972}. Best is trial 36 with value: 0.41075582800455884.\n",
            "[I 2025-02-15 18:33:05,265] Trial 43 finished with value: 0.41058378310041965 and parameters: {'n_estimators': 446, 'learning_rate': 0.016749185115476375, 'max_depth': 8, 'lambda_l2': 0.32642018309338944, 'min_child_weight': 1, 'subsample': 0.6673254286865055, 'colsample_bytree': 0.5630313648246164}. Best is trial 43 with value: 0.41058378310041965.\n",
            "[I 2025-02-15 18:33:13,465] Trial 44 finished with value: 0.5467037784382146 and parameters: {'n_estimators': 318, 'learning_rate': 0.004114606119077348, 'max_depth': 9, 'lambda_l2': 0.12744427227414223, 'min_child_weight': 1, 'subsample': 0.5849477035978107, 'colsample_bytree': 0.5658897448087642}. Best is trial 43 with value: 0.41058378310041965.\n",
            "[I 2025-02-15 18:33:21,966] Trial 45 finished with value: 0.44133834589926363 and parameters: {'n_estimators': 352, 'learning_rate': 0.009161435791931799, 'max_depth': 8, 'lambda_l2': 0.02293889847993657, 'min_child_weight': 1, 'subsample': 0.6700526697510745, 'colsample_bytree': 0.5227468881754115}. Best is trial 43 with value: 0.41058378310041965.\n",
            "[I 2025-02-15 18:33:32,289] Trial 46 finished with value: 0.5962669337198655 and parameters: {'n_estimators': 442, 'learning_rate': 0.002184226561967721, 'max_depth': 8, 'lambda_l2': 0.4234377547818464, 'min_child_weight': 1, 'subsample': 0.7178742295397301, 'colsample_bytree': 0.5694703956872809}. Best is trial 43 with value: 0.41058378310041965.\n",
            "[I 2025-02-15 18:33:38,983] Trial 47 finished with value: 0.4190816789152431 and parameters: {'n_estimators': 271, 'learning_rate': 0.017475729100421288, 'max_depth': 9, 'lambda_l2': 0.13453557414682485, 'min_child_weight': 2, 'subsample': 0.6361857721745382, 'colsample_bytree': 0.5103015336337821}. Best is trial 43 with value: 0.41058378310041965.\n",
            "[I 2025-02-15 18:33:48,435] Trial 48 finished with value: 0.4586006813819473 and parameters: {'n_estimators': 410, 'learning_rate': 0.006486790093358178, 'max_depth': 10, 'lambda_l2': 0.9914554611030434, 'min_child_weight': 2, 'subsample': 0.6694300393930945, 'colsample_bytree': 0.542714932650578}. Best is trial 43 with value: 0.41058378310041965.\n",
            "[I 2025-02-15 18:33:56,248] Trial 49 finished with value: 0.4232239001479943 and parameters: {'n_estimators': 373, 'learning_rate': 0.011240051045594973, 'max_depth': 7, 'lambda_l2': 0.040021535765340385, 'min_child_weight': 1, 'subsample': 0.5783300408924938, 'colsample_bytree': 0.6527163128373782}. Best is trial 43 with value: 0.41058378310041965.\n",
            "[I 2025-02-15 18:34:11,951] Trial 50 finished with value: 0.4129844453296868 and parameters: {'n_estimators': 883, 'learning_rate': 0.018972442826705745, 'max_depth': 8, 'lambda_l2': 0.3673395397820263, 'min_child_weight': 3, 'subsample': 0.691775111810648, 'colsample_bytree': 0.5703715244591314}. Best is trial 43 with value: 0.41058378310041965.\n",
            "[I 2025-02-15 18:34:21,682] Trial 51 finished with value: 0.411316235439268 and parameters: {'n_estimators': 460, 'learning_rate': 0.016215592790761686, 'max_depth': 8, 'lambda_l2': 0.31909475466883236, 'min_child_weight': 1, 'subsample': 0.7354179625826109, 'colsample_bytree': 0.6037478118522407}. Best is trial 43 with value: 0.41058378310041965.\n",
            "[I 2025-02-15 18:34:31,685] Trial 52 finished with value: 0.41186161956387013 and parameters: {'n_estimators': 490, 'learning_rate': 0.0168576279149264, 'max_depth': 8, 'lambda_l2': 0.08336602034931288, 'min_child_weight': 1, 'subsample': 0.7339520709277476, 'colsample_bytree': 0.6170913472493095}. Best is trial 43 with value: 0.41058378310041965.\n",
            "[I 2025-02-15 18:34:39,400] Trial 53 finished with value: 0.4100570257805424 and parameters: {'n_estimators': 331, 'learning_rate': 0.02222626641416388, 'max_depth': 9, 'lambda_l2': 0.19255189855063193, 'min_child_weight': 1, 'subsample': 0.6115568118575079, 'colsample_bytree': 0.5518147063354579}. Best is trial 53 with value: 0.4100570257805424.\n",
            "[I 2025-02-15 18:34:45,214] Trial 54 finished with value: 0.41366367955300654 and parameters: {'n_estimators': 236, 'learning_rate': 0.0252018059389397, 'max_depth': 9, 'lambda_l2': 0.14790061021078862, 'min_child_weight': 1, 'subsample': 0.607725187181959, 'colsample_bytree': 0.546456761271095}. Best is trial 53 with value: 0.4100570257805424.\n",
            "[I 2025-02-15 18:34:49,757] Trial 55 finished with value: 0.5402207374167074 and parameters: {'n_estimators': 174, 'learning_rate': 0.007850050738694813, 'max_depth': 10, 'lambda_l2': 0.5610835753702679, 'min_child_weight': 2, 'subsample': 0.5399081398003169, 'colsample_bytree': 0.581942037723025}. Best is trial 53 with value: 0.4100570257805424.\n",
            "[I 2025-02-15 18:34:56,588] Trial 56 finished with value: 0.41444220359609607 and parameters: {'n_estimators': 322, 'learning_rate': 0.0659719445705579, 'max_depth': 9, 'lambda_l2': 0.012517010485385005, 'min_child_weight': 1, 'subsample': 0.6104896208688788, 'colsample_bytree': 0.5223640415218016}. Best is trial 53 with value: 0.4100570257805424.\n",
            "[I 2025-02-15 18:35:02,914] Trial 57 finished with value: 0.411545733711799 and parameters: {'n_estimators': 337, 'learning_rate': 0.02039609309974633, 'max_depth': 7, 'lambda_l2': 0.03782338462330616, 'min_child_weight': 1, 'subsample': 0.6526737808649019, 'colsample_bytree': 0.5038278676482134}. Best is trial 53 with value: 0.4100570257805424.\n",
            "[I 2025-02-15 18:35:09,161] Trial 58 finished with value: 0.41293436129918915 and parameters: {'n_estimators': 421, 'learning_rate': 0.04270281298381404, 'max_depth': 7, 'lambda_l2': 0.9932607221362665, 'min_child_weight': 7, 'subsample': 0.6964816925662526, 'colsample_bytree': 0.5585586776468833}. Best is trial 53 with value: 0.4100570257805424.\n",
            "[I 2025-02-15 18:35:16,330] Trial 59 finished with value: 0.44642759744945 and parameters: {'n_estimators': 272, 'learning_rate': 0.010696343701123405, 'max_depth': 9, 'lambda_l2': 0.07533488396621174, 'min_child_weight': 2, 'subsample': 0.6644236564925184, 'colsample_bytree': 0.5835805902718153}. Best is trial 53 with value: 0.4100570257805424.\n",
            "[I 2025-02-15 18:35:23,009] Trial 60 finished with value: 0.4148594392420878 and parameters: {'n_estimators': 380, 'learning_rate': 0.0736874240528275, 'max_depth': 8, 'lambda_l2': 0.23508705008123007, 'min_child_weight': 3, 'subsample': 0.6400462454244427, 'colsample_bytree': 0.5301524699304565}. Best is trial 53 with value: 0.4100570257805424.\n",
            "[I 2025-02-15 18:35:32,507] Trial 61 finished with value: 0.411569912467705 and parameters: {'n_estimators': 460, 'learning_rate': 0.01447818341245458, 'max_depth': 8, 'lambda_l2': 0.3600527070739852, 'min_child_weight': 1, 'subsample': 0.7350149488812495, 'colsample_bytree': 0.6126604373799847}. Best is trial 53 with value: 0.4100570257805424.\n",
            "[I 2025-02-15 18:35:41,018] Trial 62 finished with value: 0.4140748477396171 and parameters: {'n_estimators': 449, 'learning_rate': 0.02633439205590936, 'max_depth': 8, 'lambda_l2': 4.01706172658065e-08, 'min_child_weight': 1, 'subsample': 0.6982481742920894, 'colsample_bytree': 0.5962059833536942}. Best is trial 53 with value: 0.4100570257805424.\n",
            "[I 2025-02-15 18:35:49,181] Trial 63 finished with value: 0.4184282304321309 and parameters: {'n_estimators': 413, 'learning_rate': 0.046173901723519116, 'max_depth': 9, 'lambda_l2': 5.488292762157016e-07, 'min_child_weight': 1, 'subsample': 0.823934175490654, 'colsample_bytree': 0.6498981096351882}. Best is trial 53 with value: 0.4100570257805424.\n",
            "[I 2025-02-15 18:35:56,114] Trial 64 finished with value: 0.43362152578791163 and parameters: {'n_estimators': 286, 'learning_rate': 0.011874473004598238, 'max_depth': 8, 'lambda_l2': 0.22297866657767432, 'min_child_weight': 1, 'subsample': 0.7585817327981176, 'colsample_bytree': 0.6154246683540703}. Best is trial 53 with value: 0.4100570257805424.\n",
            "[I 2025-02-15 18:36:03,265] Trial 65 finished with value: 0.41082246845118614 and parameters: {'n_estimators': 354, 'learning_rate': 0.0196841125373973, 'max_depth': 8, 'lambda_l2': 0.5749711168587079, 'min_child_weight': 2, 'subsample': 0.7832996536468175, 'colsample_bytree': 0.5604922820227578}. Best is trial 53 with value: 0.4100570257805424.\n",
            "[I 2025-02-15 18:36:09,110] Trial 66 finished with value: 0.4096233065231411 and parameters: {'n_estimators': 345, 'learning_rate': 0.02736967397750682, 'max_depth': 7, 'lambda_l2': 0.5781786801971052, 'min_child_weight': 2, 'subsample': 0.7910081719704655, 'colsample_bytree': 0.55475253478982}. Best is trial 66 with value: 0.4096233065231411.\n",
            "[I 2025-02-15 18:36:17,251] Trial 67 finished with value: 0.41122922898580816 and parameters: {'n_estimators': 351, 'learning_rate': 0.037519283670748686, 'max_depth': 10, 'lambda_l2': 0.6729958301801978, 'min_child_weight': 3, 'subsample': 0.8068475249970639, 'colsample_bytree': 0.5422957050007027}. Best is trial 66 with value: 0.4096233065231411.\n",
            "[I 2025-02-15 18:36:23,649] Trial 68 finished with value: 0.4166384529181963 and parameters: {'n_estimators': 378, 'learning_rate': 0.020935625637088347, 'max_depth': 7, 'lambda_l2': 0.15477957642682416, 'min_child_weight': 2, 'subsample': 0.8361982253379899, 'colsample_bytree': 0.9945319908370818}. Best is trial 66 with value: 0.4096233065231411.\n",
            "[I 2025-02-15 18:36:28,507] Trial 69 finished with value: 0.41372542739748 and parameters: {'n_estimators': 202, 'learning_rate': 0.02896377779951459, 'max_depth': 9, 'lambda_l2': 0.101509828238456, 'min_child_weight': 2, 'subsample': 0.7948763010900233, 'colsample_bytree': 0.5525936131154234}. Best is trial 66 with value: 0.4096233065231411.\n",
            "[I 2025-02-15 18:36:31,364] Trial 70 finished with value: 0.41104413590535993 and parameters: {'n_estimators': 154, 'learning_rate': 0.052913358182395454, 'max_depth': 7, 'lambda_l2': 0.005635786780206702, 'min_child_weight': 4, 'subsample': 0.7100409552178428, 'colsample_bytree': 0.5864718787178854}. Best is trial 66 with value: 0.4096233065231411.\n",
            "[I 2025-02-15 18:36:34,005] Trial 71 finished with value: 0.41076592969756265 and parameters: {'n_estimators': 153, 'learning_rate': 0.054446332216635064, 'max_depth': 7, 'lambda_l2': 0.5833371930027145, 'min_child_weight': 4, 'subsample': 0.6801539290454819, 'colsample_bytree': 0.5897801970935549}. Best is trial 66 with value: 0.4096233065231411.\n",
            "[I 2025-02-15 18:36:36,681] Trial 72 finished with value: 0.4121349489288619 and parameters: {'n_estimators': 146, 'learning_rate': 0.0545075058588021, 'max_depth': 7, 'lambda_l2': 3.846198292020444e-05, 'min_child_weight': 4, 'subsample': 0.7134267081661434, 'colsample_bytree': 0.5841377417345838}. Best is trial 66 with value: 0.4096233065231411.\n",
            "[I 2025-02-15 18:36:38,585] Trial 73 finished with value: 0.41290741537704606 and parameters: {'n_estimators': 107, 'learning_rate': 0.1255979861523838, 'max_depth': 7, 'lambda_l2': 0.0042484939735557255, 'min_child_weight': 4, 'subsample': 0.6788679033928684, 'colsample_bytree': 0.5000118559318425}. Best is trial 66 with value: 0.4096233065231411.\n",
            "[I 2025-02-15 18:36:41,469] Trial 74 finished with value: 0.41789521337804303 and parameters: {'n_estimators': 159, 'learning_rate': 0.04013218534901417, 'max_depth': 7, 'lambda_l2': 0.0011611100029656422, 'min_child_weight': 3, 'subsample': 0.7063479451786017, 'colsample_bytree': 0.9571015501640228}. Best is trial 66 with value: 0.4096233065231411.\n",
            "[I 2025-02-15 18:36:43,617] Trial 75 finished with value: 0.4123988659299139 and parameters: {'n_estimators': 137, 'learning_rate': 0.06295520384345504, 'max_depth': 6, 'lambda_l2': 0.00017953852079541908, 'min_child_weight': 4, 'subsample': 0.6205861726743034, 'colsample_bytree': 0.5376224143651942}. Best is trial 66 with value: 0.4096233065231411.\n",
            "[I 2025-02-15 18:36:47,635] Trial 76 finished with value: 0.41512031010036965 and parameters: {'n_estimators': 255, 'learning_rate': 0.09366458994875136, 'max_depth': 7, 'lambda_l2': 0.027694028035697846, 'min_child_weight': 4, 'subsample': 0.6553308661933315, 'colsample_bytree': 0.5185142642823845}. Best is trial 66 with value: 0.4096233065231411.\n",
            "[I 2025-02-15 18:36:51,368] Trial 77 finished with value: 0.41174947090551506 and parameters: {'n_estimators': 202, 'learning_rate': 0.0348006006656595, 'max_depth': 7, 'lambda_l2': 0.06569114868479468, 'min_child_weight': 2, 'subsample': 0.6829575353830337, 'colsample_bytree': 0.556394429707789}. Best is trial 66 with value: 0.4096233065231411.\n",
            "[I 2025-02-15 18:36:54,645] Trial 78 finished with value: 0.4159515313183144 and parameters: {'n_estimators': 225, 'learning_rate': 0.07970798409935771, 'max_depth': 7, 'lambda_l2': 0.5480403391035076, 'min_child_weight': 3, 'subsample': 0.5950020061622464, 'colsample_bytree': 0.7208553866354976}. Best is trial 66 with value: 0.4096233065231411.\n",
            "[I 2025-02-15 18:36:58,227] Trial 79 finished with value: 0.4215254328016901 and parameters: {'n_estimators': 307, 'learning_rate': 0.1742586313554552, 'max_depth': 6, 'lambda_l2': 0.2515790355583932, 'min_child_weight': 5, 'subsample': 0.725114842701995, 'colsample_bytree': 0.5790660283210367}. Best is trial 66 with value: 0.4096233065231411.\n",
            "[I 2025-02-15 18:37:04,274] Trial 80 finished with value: 0.41436861553123305 and parameters: {'n_estimators': 333, 'learning_rate': 0.04580119653555208, 'max_depth': 8, 'lambda_l2': 0.15244370968704146, 'min_child_weight': 2, 'subsample': 0.7510844892906425, 'colsample_bytree': 0.6279716258981316}. Best is trial 66 with value: 0.4096233065231411.\n",
            "[I 2025-02-15 18:37:07,068] Trial 81 finished with value: 0.41179956269085255 and parameters: {'n_estimators': 363, 'learning_rate': 0.028246848516017387, 'max_depth': 4, 'lambda_l2': 0.7287351379425292, 'min_child_weight': 4, 'subsample': 0.6266897448198259, 'colsample_bytree': 0.6417271408170666}. Best is trial 66 with value: 0.4096233065231411.\n",
            "[I 2025-02-15 18:37:12,502] Trial 82 finished with value: 0.41000993767121113 and parameters: {'n_estimators': 394, 'learning_rate': 0.02228948369067657, 'max_depth': 6, 'lambda_l2': 0.5652348667465718, 'min_child_weight': 5, 'subsample': 0.5560557242540035, 'colsample_bytree': 0.5916492276881954}. Best is trial 66 with value: 0.4096233065231411.\n",
            "[I 2025-02-15 18:37:18,003] Trial 83 finished with value: 0.4097618935122389 and parameters: {'n_estimators': 402, 'learning_rate': 0.023399307523204245, 'max_depth': 6, 'lambda_l2': 0.4474573117924898, 'min_child_weight': 6, 'subsample': 0.5538470482060724, 'colsample_bytree': 0.5927408980295974}. Best is trial 66 with value: 0.4096233065231411.\n",
            "[I 2025-02-15 18:37:23,597] Trial 84 finished with value: 0.40942078751346445 and parameters: {'n_estimators': 396, 'learning_rate': 0.023382408136222867, 'max_depth': 6, 'lambda_l2': 0.47465560203770435, 'min_child_weight': 6, 'subsample': 0.5550700031421942, 'colsample_bytree': 0.5607432370278072}. Best is trial 84 with value: 0.40942078751346445.\n",
            "[I 2025-02-15 18:37:28,887] Trial 85 finished with value: 0.4095614624868761 and parameters: {'n_estimators': 397, 'learning_rate': 0.02334961341056754, 'max_depth': 6, 'lambda_l2': 0.9749894567320075, 'min_child_weight': 6, 'subsample': 0.5464477539194614, 'colsample_bytree': 0.5936513357816209}. Best is trial 84 with value: 0.40942078751346445.\n",
            "[I 2025-02-15 18:37:34,123] Trial 86 finished with value: 0.4095510561012528 and parameters: {'n_estimators': 391, 'learning_rate': 0.023562581101871618, 'max_depth': 6, 'lambda_l2': 0.9118713856467345, 'min_child_weight': 6, 'subsample': 0.5470839505072568, 'colsample_bytree': 0.6177667314418696}. Best is trial 84 with value: 0.40942078751346445.\n",
            "[I 2025-02-15 18:37:39,552] Trial 87 finished with value: 0.41040222336399024 and parameters: {'n_estimators': 399, 'learning_rate': 0.025250644777064055, 'max_depth': 6, 'lambda_l2': 0.20462006192793797, 'min_child_weight': 6, 'subsample': 0.5314636246651434, 'colsample_bytree': 0.6110727090226543}. Best is trial 84 with value: 0.40942078751346445.\n",
            "[I 2025-02-15 18:37:45,889] Trial 88 finished with value: 0.41826144688208206 and parameters: {'n_estimators': 400, 'learning_rate': 0.013034685402777066, 'max_depth': 6, 'lambda_l2': 0.18776822821491573, 'min_child_weight': 6, 'subsample': 0.5478215636957153, 'colsample_bytree': 0.574175493288699}. Best is trial 84 with value: 0.40942078751346445.\n",
            "[I 2025-02-15 18:37:52,316] Trial 89 finished with value: 0.4101335474310795 and parameters: {'n_estimators': 516, 'learning_rate': 0.025740008063640938, 'max_depth': 6, 'lambda_l2': 0.9508363891132086, 'min_child_weight': 6, 'subsample': 0.511867334007297, 'colsample_bytree': 0.6132271969500169}. Best is trial 84 with value: 0.40942078751346445.\n",
            "[I 2025-02-15 18:37:58,705] Trial 90 finished with value: 0.41145089975570776 and parameters: {'n_estimators': 506, 'learning_rate': 0.02280547644726809, 'max_depth': 6, 'lambda_l2': 0.981330699960618, 'min_child_weight': 6, 'subsample': 0.5055779312702154, 'colsample_bytree': 0.6660751355417798}. Best is trial 84 with value: 0.40942078751346445.\n",
            "[I 2025-02-15 18:38:05,733] Trial 91 finished with value: 0.41181824825169616 and parameters: {'n_estimators': 555, 'learning_rate': 0.02403169078000657, 'max_depth': 6, 'lambda_l2': 0.27007330733933566, 'min_child_weight': 6, 'subsample': 0.559724458622166, 'colsample_bytree': 0.6146754224976915}. Best is trial 84 with value: 0.40942078751346445.\n",
            "[I 2025-02-15 18:38:11,360] Trial 92 finished with value: 0.4108629045519024 and parameters: {'n_estimators': 403, 'learning_rate': 0.020656600343353187, 'max_depth': 6, 'lambda_l2': 0.3153336062405871, 'min_child_weight': 7, 'subsample': 0.51345978948789, 'colsample_bytree': 0.608926189451677}. Best is trial 84 with value: 0.40942078751346445.\n",
            "[I 2025-02-15 18:38:17,320] Trial 93 finished with value: 0.41213033409746336 and parameters: {'n_estimators': 484, 'learning_rate': 0.032622168323281395, 'max_depth': 6, 'lambda_l2': 0.10640869117591513, 'min_child_weight': 6, 'subsample': 0.5298118167860355, 'colsample_bytree': 0.6260493305106513}. Best is trial 84 with value: 0.40942078751346445.\n",
            "[I 2025-02-15 18:38:22,816] Trial 94 finished with value: 0.41160316687604814 and parameters: {'n_estimators': 394, 'learning_rate': 0.01859004331182223, 'max_depth': 6, 'lambda_l2': 0.9786962490719576, 'min_child_weight': 6, 'subsample': 0.5647172573426248, 'colsample_bytree': 0.5934571304104155}. Best is trial 84 with value: 0.40942078751346445.\n",
            "[I 2025-02-15 18:38:28,600] Trial 95 finished with value: 0.40919101711365985 and parameters: {'n_estimators': 430, 'learning_rate': 0.02552038285314078, 'max_depth': 6, 'lambda_l2': 0.4672445513161993, 'min_child_weight': 6, 'subsample': 0.522503754031173, 'colsample_bytree': 0.5737757821546223}. Best is trial 95 with value: 0.40919101711365985.\n",
            "[I 2025-02-15 18:38:34,526] Trial 96 finished with value: 0.40888438783809217 and parameters: {'n_estimators': 427, 'learning_rate': 0.025533366884810137, 'max_depth': 6, 'lambda_l2': 0.4589886000985163, 'min_child_weight': 6, 'subsample': 0.5200516955001514, 'colsample_bytree': 0.5298579953095504}. Best is trial 96 with value: 0.40888438783809217.\n",
            "[I 2025-02-15 18:38:41,101] Trial 97 finished with value: 0.41063723355441956 and parameters: {'n_estimators': 509, 'learning_rate': 0.02908765844194542, 'max_depth': 6, 'lambda_l2': 0.5184873412467578, 'min_child_weight': 5, 'subsample': 0.5164329574768283, 'colsample_bytree': 0.5286837174488418}. Best is trial 96 with value: 0.40888438783809217.\n",
            "[I 2025-02-15 18:38:46,568] Trial 98 finished with value: 0.4101686359194064 and parameters: {'n_estimators': 426, 'learning_rate': 0.033649326913995845, 'max_depth': 6, 'lambda_l2': 0.05305123824988557, 'min_child_weight': 7, 'subsample': 0.5560771708813291, 'colsample_bytree': 0.5482901465301963}. Best is trial 96 with value: 0.40888438783809217.\n",
            "[I 2025-02-15 18:38:51,122] Trial 99 finished with value: 0.4137294424313337 and parameters: {'n_estimators': 468, 'learning_rate': 0.02701211842068851, 'max_depth': 5, 'lambda_l2': 0.4600079535365085, 'min_child_weight': 6, 'subsample': 0.5770760468417084, 'colsample_bytree': 0.76559773783252}. Best is trial 96 with value: 0.40888438783809217.\n",
            "[I 2025-02-15 18:38:55,862] Trial 100 finished with value: 0.41169561346696115 and parameters: {'n_estimators': 331, 'learning_rate': 0.020934603823899403, 'max_depth': 6, 'lambda_l2': 0.7135807252249073, 'min_child_weight': 6, 'subsample': 0.5411430377593233, 'colsample_bytree': 0.5302240451806883}. Best is trial 96 with value: 0.40888438783809217.\n",
            "[I 2025-02-15 18:39:01,515] Trial 101 finished with value: 0.4101499491279633 and parameters: {'n_estimators': 431, 'learning_rate': 0.03401763567817743, 'max_depth': 6, 'lambda_l2': 0.05960355512400616, 'min_child_weight': 7, 'subsample': 0.5524958590032012, 'colsample_bytree': 0.5460694835862445}. Best is trial 96 with value: 0.40888438783809217.\n",
            "[I 2025-02-15 18:39:07,469] Trial 102 finished with value: 0.4077450653783334 and parameters: {'n_estimators': 423, 'learning_rate': 0.023781266699604203, 'max_depth': 6, 'lambda_l2': 0.27419901933888025, 'min_child_weight': 7, 'subsample': 0.520227882777628, 'colsample_bytree': 0.5126863825347658}. Best is trial 102 with value: 0.4077450653783334.\n",
            "[I 2025-02-15 18:39:15,503] Trial 103 finished with value: 0.4090152250374743 and parameters: {'n_estimators': 620, 'learning_rate': 0.022723823110497917, 'max_depth': 6, 'lambda_l2': 0.461643068906259, 'min_child_weight': 6, 'subsample': 0.5206379836565475, 'colsample_bytree': 0.5155383979060916}. Best is trial 102 with value: 0.4077450653783334.\n",
            "[I 2025-02-15 18:39:25,086] Trial 104 finished with value: 0.4085973502849076 and parameters: {'n_estimators': 706, 'learning_rate': 0.014673957969685559, 'max_depth': 6, 'lambda_l2': 0.28904426768826225, 'min_child_weight': 6, 'subsample': 0.5651819732117163, 'colsample_bytree': 0.5217995201791558}. Best is trial 102 with value: 0.4077450653783334.\n",
            "[I 2025-02-15 18:39:33,623] Trial 105 finished with value: 0.40848525557375026 and parameters: {'n_estimators': 634, 'learning_rate': 0.017892468101826844, 'max_depth': 6, 'lambda_l2': 0.3044435899117143, 'min_child_weight': 6, 'subsample': 0.5215799791403214, 'colsample_bytree': 0.5204879032484434}. Best is trial 102 with value: 0.4077450653783334.\n",
            "[I 2025-02-15 18:39:42,895] Trial 106 finished with value: 0.4086568998707338 and parameters: {'n_estimators': 693, 'learning_rate': 0.018471481062407258, 'max_depth': 6, 'lambda_l2': 0.11067811127301835, 'min_child_weight': 6, 'subsample': 0.5195116234948745, 'colsample_bytree': 0.510855713018434}. Best is trial 102 with value: 0.4077450653783334.\n",
            "[I 2025-02-15 18:39:52,724] Trial 107 finished with value: 0.4089342421560139 and parameters: {'n_estimators': 709, 'learning_rate': 0.01380432579657152, 'max_depth': 6, 'lambda_l2': 0.10836238088849184, 'min_child_weight': 7, 'subsample': 0.5210775479008265, 'colsample_bytree': 0.5122231061373784}. Best is trial 102 with value: 0.4077450653783334.\n",
            "[I 2025-02-15 18:40:01,807] Trial 108 finished with value: 0.4082873129373487 and parameters: {'n_estimators': 654, 'learning_rate': 0.015061941239445091, 'max_depth': 6, 'lambda_l2': 0.09066817026151255, 'min_child_weight': 7, 'subsample': 0.5229904979780942, 'colsample_bytree': 0.5092286578553895}. Best is trial 102 with value: 0.4077450653783334.\n",
            "[I 2025-02-15 18:40:11,540] Trial 109 finished with value: 0.4129914787377973 and parameters: {'n_estimators': 653, 'learning_rate': 0.010019748962799961, 'max_depth': 6, 'lambda_l2': 0.09971044210888334, 'min_child_weight': 7, 'subsample': 0.5242146913514193, 'colsample_bytree': 0.5131306174548312}. Best is trial 102 with value: 0.4077450653783334.\n",
            "[I 2025-02-15 18:40:19,343] Trial 110 finished with value: 0.4089986013562301 and parameters: {'n_estimators': 725, 'learning_rate': 0.0142588514747593, 'max_depth': 5, 'lambda_l2': 0.15460025681990017, 'min_child_weight': 7, 'subsample': 0.5222609830439146, 'colsample_bytree': 0.5071904709586915}. Best is trial 102 with value: 0.4077450653783334.\n",
            "[I 2025-02-15 18:40:27,205] Trial 111 finished with value: 0.40992337310641747 and parameters: {'n_estimators': 726, 'learning_rate': 0.01313710246541965, 'max_depth': 5, 'lambda_l2': 0.030036746911212046, 'min_child_weight': 7, 'subsample': 0.5225573904575019, 'colsample_bytree': 0.5118538714707603}. Best is trial 102 with value: 0.4077450653783334.\n",
            "[I 2025-02-15 18:40:34,703] Trial 112 finished with value: 0.4090777816510635 and parameters: {'n_estimators': 698, 'learning_rate': 0.01456879444062609, 'max_depth': 5, 'lambda_l2': 0.13331384870700122, 'min_child_weight': 7, 'subsample': 0.5361054124827728, 'colsample_bytree': 0.5051426154501117}. Best is trial 102 with value: 0.4077450653783334.\n",
            "[I 2025-02-15 18:40:42,029] Trial 113 finished with value: 0.4091464936018907 and parameters: {'n_estimators': 688, 'learning_rate': 0.014894647574267327, 'max_depth': 5, 'lambda_l2': 0.13150243898396874, 'min_child_weight': 7, 'subsample': 0.5353988554178463, 'colsample_bytree': 0.5061902634424547}. Best is trial 102 with value: 0.4077450653783334.\n",
            "[I 2025-02-15 18:40:50,180] Trial 114 finished with value: 0.40900529419771486 and parameters: {'n_estimators': 767, 'learning_rate': 0.013900677824181609, 'max_depth': 5, 'lambda_l2': 0.016224340602439657, 'min_child_weight': 7, 'subsample': 0.5035095469244059, 'colsample_bytree': 0.5058711963956601}. Best is trial 102 with value: 0.4077450653783334.\n",
            "[I 2025-02-15 18:40:59,359] Trial 115 finished with value: 0.4170451504463939 and parameters: {'n_estimators': 780, 'learning_rate': 0.007827288651629204, 'max_depth': 5, 'lambda_l2': 0.048332697511835866, 'min_child_weight': 7, 'subsample': 0.5032922610246336, 'colsample_bytree': 0.5005313561745233}. Best is trial 102 with value: 0.4077450653783334.\n",
            "[I 2025-02-15 18:41:06,826] Trial 116 finished with value: 0.40945151626832976 and parameters: {'n_estimators': 692, 'learning_rate': 0.014654042011139378, 'max_depth': 5, 'lambda_l2': 0.015037298331435993, 'min_child_weight': 7, 'subsample': 0.5346368660297207, 'colsample_bytree': 0.5200816879805635}. Best is trial 102 with value: 0.4077450653783334.\n",
            "[I 2025-02-15 18:41:13,773] Trial 117 finished with value: 0.4128715105104792 and parameters: {'n_estimators': 623, 'learning_rate': 0.012239468020966284, 'max_depth': 5, 'lambda_l2': 0.12042807202018808, 'min_child_weight': 7, 'subsample': 0.5001955696520264, 'colsample_bytree': 0.5093041702616233}. Best is trial 102 with value: 0.4077450653783334.\n",
            "[I 2025-02-15 18:41:20,534] Trial 118 finished with value: 0.4091987718314666 and parameters: {'n_estimators': 648, 'learning_rate': 0.01779462296657431, 'max_depth': 5, 'lambda_l2': 0.08824912803595293, 'min_child_weight': 7, 'subsample': 0.5665953788403977, 'colsample_bytree': 0.5240247631694944}. Best is trial 102 with value: 0.4077450653783334.\n",
            "[I 2025-02-15 18:41:28,150] Trial 119 finished with value: 0.4091912741917264 and parameters: {'n_estimators': 723, 'learning_rate': 0.014967262169596107, 'max_depth': 5, 'lambda_l2': 0.035256700265099986, 'min_child_weight': 7, 'subsample': 0.5363900912349284, 'colsample_bytree': 0.5365409477026883}. Best is trial 102 with value: 0.4077450653783334.\n",
            "[I 2025-02-15 18:41:36,990] Trial 120 finished with value: 0.41637783602432893 and parameters: {'n_estimators': 772, 'learning_rate': 0.008088611409983175, 'max_depth': 5, 'lambda_l2': 0.15070158746932946, 'min_child_weight': 7, 'subsample': 0.5194644593364716, 'colsample_bytree': 0.5094624019756518}. Best is trial 102 with value: 0.4077450653783334.\n",
            "[I 2025-02-15 18:41:44,416] Trial 121 finished with value: 0.414806609555027 and parameters: {'n_estimators': 664, 'learning_rate': 0.010261121918458365, 'max_depth': 5, 'lambda_l2': 0.2913537569572679, 'min_child_weight': 7, 'subsample': 0.5110222940048645, 'colsample_bytree': 0.5168921144867767}. Best is trial 102 with value: 0.4077450653783334.\n",
            "[I 2025-02-15 18:41:50,182] Trial 122 finished with value: 0.4102521475707979 and parameters: {'n_estimators': 747, 'learning_rate': 0.01375319357314328, 'max_depth': 4, 'lambda_l2': 0.0700208927185179, 'min_child_weight': 7, 'subsample': 0.5260385220788465, 'colsample_bytree': 0.5320219725595284}. Best is trial 102 with value: 0.4077450653783334.\n",
            "[I 2025-02-15 18:41:58,543] Trial 123 finished with value: 0.40886986016067633 and parameters: {'n_estimators': 818, 'learning_rate': 0.017380302997633535, 'max_depth': 5, 'lambda_l2': 0.17534967121762515, 'min_child_weight': 7, 'subsample': 0.572592382092468, 'colsample_bytree': 0.5081912429825327}. Best is trial 102 with value: 0.4077450653783334.\n",
            "[I 2025-02-15 18:42:07,374] Trial 124 finished with value: 0.41013539608578664 and parameters: {'n_estimators': 814, 'learning_rate': 0.011751319607339914, 'max_depth': 5, 'lambda_l2': 0.022165574302534147, 'min_child_weight': 7, 'subsample': 0.5903264407068416, 'colsample_bytree': 0.5010004460164766}. Best is trial 102 with value: 0.4077450653783334.\n",
            "[I 2025-02-15 18:42:13,987] Trial 125 finished with value: 0.4090988452837512 and parameters: {'n_estimators': 604, 'learning_rate': 0.0180177563900876, 'max_depth': 5, 'lambda_l2': 0.1667866343667664, 'min_child_weight': 7, 'subsample': 0.5383149165800724, 'colsample_bytree': 0.5198857516638864}. Best is trial 102 with value: 0.4077450653783334.\n",
            "[I 2025-02-15 18:42:20,410] Trial 126 finished with value: 0.4093643610861699 and parameters: {'n_estimators': 603, 'learning_rate': 0.016361250820351374, 'max_depth': 5, 'lambda_l2': 0.17320040113948898, 'min_child_weight': 7, 'subsample': 0.5699593777946143, 'colsample_bytree': 0.5209371571513023}. Best is trial 102 with value: 0.4077450653783334.\n",
            "[I 2025-02-15 18:42:27,628] Trial 127 finished with value: 0.40893637846298275 and parameters: {'n_estimators': 711, 'learning_rate': 0.01832448090191878, 'max_depth': 5, 'lambda_l2': 0.25918539917144184, 'min_child_weight': 7, 'subsample': 0.5154419463131975, 'colsample_bytree': 0.5373771313094382}. Best is trial 102 with value: 0.4077450653783334.\n",
            "[I 2025-02-15 18:42:36,403] Trial 128 finished with value: 0.40919338593991067 and parameters: {'n_estimators': 860, 'learning_rate': 0.018449341098047693, 'max_depth': 5, 'lambda_l2': 0.2530518172810198, 'min_child_weight': 7, 'subsample': 0.5138275372573434, 'colsample_bytree': 0.5400251387783686}. Best is trial 102 with value: 0.4077450653783334.\n",
            "[I 2025-02-15 18:42:42,364] Trial 129 finished with value: 0.41527325045439073 and parameters: {'n_estimators': 706, 'learning_rate': 0.011403436308228201, 'max_depth': 4, 'lambda_l2': 0.08329304658803383, 'min_child_weight': 7, 'subsample': 0.5022502558238952, 'colsample_bytree': 0.5302254089175108}. Best is trial 102 with value: 0.4077450653783334.\n",
            "[I 2025-02-15 18:42:50,431] Trial 130 finished with value: 0.4093626132048084 and parameters: {'n_estimators': 753, 'learning_rate': 0.01337667324636801, 'max_depth': 5, 'lambda_l2': 0.04043429341458618, 'min_child_weight': 7, 'subsample': 0.527463983937969, 'colsample_bytree': 0.5120670291320301}. Best is trial 102 with value: 0.4077450653783334.\n",
            "[I 2025-02-15 18:42:57,883] Trial 131 finished with value: 0.4083080716035349 and parameters: {'n_estimators': 710, 'learning_rate': 0.01724763374521649, 'max_depth': 5, 'lambda_l2': 0.1944021452631226, 'min_child_weight': 7, 'subsample': 0.5432459384678257, 'colsample_bytree': 0.5000718316080557}. Best is trial 102 with value: 0.4077450653783334.\n",
            "[I 2025-02-15 18:43:05,348] Trial 132 finished with value: 0.40819847006342663 and parameters: {'n_estimators': 710, 'learning_rate': 0.015742753204474085, 'max_depth': 5, 'lambda_l2': 0.29242926711020245, 'min_child_weight': 7, 'subsample': 0.5194601838975111, 'colsample_bytree': 0.5006149305395121}. Best is trial 102 with value: 0.4077450653783334.\n",
            "[I 2025-02-15 18:43:12,803] Trial 133 finished with value: 0.40890240651173065 and parameters: {'n_estimators': 718, 'learning_rate': 0.016508225725659954, 'max_depth': 5, 'lambda_l2': 0.27804690032050094, 'min_child_weight': 7, 'subsample': 0.5114924306335289, 'colsample_bytree': 0.527295615556668}. Best is trial 102 with value: 0.4077450653783334.\n",
            "[I 2025-02-15 18:43:20,312] Trial 134 finished with value: 0.4084532837765768 and parameters: {'n_estimators': 729, 'learning_rate': 0.01695667401461638, 'max_depth': 5, 'lambda_l2': 0.2762911270311006, 'min_child_weight': 7, 'subsample': 0.507368054511645, 'colsample_bytree': 0.5339287728557373}. Best is trial 102 with value: 0.4077450653783334.\n",
            "[I 2025-02-15 18:43:27,729] Trial 135 finished with value: 0.40866006927638415 and parameters: {'n_estimators': 723, 'learning_rate': 0.01655580811038324, 'max_depth': 5, 'lambda_l2': 0.28829199110999926, 'min_child_weight': 7, 'subsample': 0.5110800326780279, 'colsample_bytree': 0.5369833466362114}. Best is trial 102 with value: 0.4077450653783334.\n",
            "[I 2025-02-15 18:43:35,707] Trial 136 finished with value: 0.40878600132599646 and parameters: {'n_estimators': 801, 'learning_rate': 0.018742009038874234, 'max_depth': 5, 'lambda_l2': 0.2721066098825518, 'min_child_weight': 7, 'subsample': 0.5450866396488683, 'colsample_bytree': 0.5372020467927452}. Best is trial 102 with value: 0.4077450653783334.\n",
            "[I 2025-02-15 18:43:44,196] Trial 137 finished with value: 0.40832222520203987 and parameters: {'n_estimators': 834, 'learning_rate': 0.016146158267890297, 'max_depth': 5, 'lambda_l2': 0.3167858760506562, 'min_child_weight': 7, 'subsample': 0.5755744706604733, 'colsample_bytree': 0.5408231910909966}. Best is trial 102 with value: 0.4077450653783334.\n",
            "[I 2025-02-15 18:43:52,474] Trial 138 finished with value: 0.4085031403552046 and parameters: {'n_estimators': 807, 'learning_rate': 0.01620103016723197, 'max_depth': 5, 'lambda_l2': 0.28793418797163844, 'min_child_weight': 7, 'subsample': 0.578890819993694, 'colsample_bytree': 0.5288689568238109}. Best is trial 102 with value: 0.4077450653783334.\n",
            "[I 2025-02-15 18:43:58,459] Trial 139 finished with value: 0.40846699440308676 and parameters: {'n_estimators': 804, 'learning_rate': 0.019831000228937877, 'max_depth': 4, 'lambda_l2': 0.3438078185944012, 'min_child_weight': 7, 'subsample': 0.5994051316893102, 'colsample_bytree': 0.5426265328469712}. Best is trial 102 with value: 0.4077450653783334.\n",
            "[I 2025-02-15 18:44:04,467] Trial 140 finished with value: 0.4086303146509572 and parameters: {'n_estimators': 802, 'learning_rate': 0.020156375163629975, 'max_depth': 4, 'lambda_l2': 0.3052753680793424, 'min_child_weight': 7, 'subsample': 0.5810462762506343, 'colsample_bytree': 0.5500608889463702}. Best is trial 102 with value: 0.4077450653783334.\n",
            "[I 2025-02-15 18:44:10,611] Trial 141 finished with value: 0.4090477300124129 and parameters: {'n_estimators': 831, 'learning_rate': 0.01974969423150878, 'max_depth': 4, 'lambda_l2': 0.33794881859599923, 'min_child_weight': 7, 'subsample': 0.6013431791856781, 'colsample_bytree': 0.5455243871548022}. Best is trial 102 with value: 0.4077450653783334.\n",
            "[I 2025-02-15 18:44:16,593] Trial 142 finished with value: 0.40895279742945967 and parameters: {'n_estimators': 798, 'learning_rate': 0.016274975346674204, 'max_depth': 4, 'lambda_l2': 0.19673356248611287, 'min_child_weight': 7, 'subsample': 0.5774980848201932, 'colsample_bytree': 0.5380391011616797}. Best is trial 102 with value: 0.4077450653783334.\n",
            "[I 2025-02-15 18:44:22,864] Trial 143 finished with value: 0.4079211915158531 and parameters: {'n_estimators': 849, 'learning_rate': 0.017870124627547508, 'max_depth': 4, 'lambda_l2': 0.32054249845493077, 'min_child_weight': 7, 'subsample': 0.5809465797362251, 'colsample_bytree': 0.5520960083779787}. Best is trial 102 with value: 0.4077450653783334.\n",
            "[I 2025-02-15 18:44:29,253] Trial 144 finished with value: 0.4088322430871342 and parameters: {'n_estimators': 860, 'learning_rate': 0.019979486855259233, 'max_depth': 4, 'lambda_l2': 0.3216259325351755, 'min_child_weight': 7, 'subsample': 0.5852439292286568, 'colsample_bytree': 0.5545844005755725}. Best is trial 102 with value: 0.4077450653783334.\n",
            "[I 2025-02-15 18:44:35,527] Trial 145 finished with value: 0.4089093545973116 and parameters: {'n_estimators': 842, 'learning_rate': 0.02020050964189776, 'max_depth': 4, 'lambda_l2': 1.3721835735465787e-06, 'min_child_weight': 7, 'subsample': 0.5932757319080693, 'colsample_bytree': 0.5451552387752061}. Best is trial 102 with value: 0.4077450653783334.\n",
            "[I 2025-02-15 18:44:40,613] Trial 146 finished with value: 0.41069622843619885 and parameters: {'n_estimators': 671, 'learning_rate': 0.015880623165931612, 'max_depth': 4, 'lambda_l2': 0.25641211507640826, 'min_child_weight': 7, 'subsample': 0.5620833348825667, 'colsample_bytree': 0.5661786405392082}. Best is trial 102 with value: 0.4077450653783334.\n",
            "[I 2025-02-15 18:44:46,491] Trial 147 finished with value: 0.41358427886697113 and parameters: {'n_estimators': 740, 'learning_rate': 0.011712221229510635, 'max_depth': 4, 'lambda_l2': 1.2515930710822924e-05, 'min_child_weight': 7, 'subsample': 0.5458831734073769, 'colsample_bytree': 0.5226037428266155}. Best is trial 102 with value: 0.4077450653783334.\n",
            "[I 2025-02-15 18:44:55,308] Trial 148 finished with value: 0.5947066195216866 and parameters: {'n_estimators': 886, 'learning_rate': 0.0011783435060767184, 'max_depth': 4, 'lambda_l2': 0.3411684130574068, 'min_child_weight': 7, 'subsample': 0.5829099770333533, 'colsample_bytree': 0.5386207648641979}. Best is trial 102 with value: 0.4077450653783334.\n",
            "[I 2025-02-15 18:45:01,607] Trial 149 finished with value: 0.4174060024339252 and parameters: {'n_estimators': 800, 'learning_rate': 0.009295069612888566, 'max_depth': 4, 'lambda_l2': 0.6585794920391529, 'min_child_weight': 7, 'subsample': 0.5650842226023266, 'colsample_bytree': 0.524880892619499}. Best is trial 102 with value: 0.4077450653783334.\n"
          ]
        },
        {
          "name": "stdout",
          "output_type": "stream",
          "text": [
            "Лучшие параметры: {'n_estimators': 423, 'learning_rate': 0.023781266699604203, 'max_depth': 6, 'lambda_l2': 0.27419901933888025, 'min_child_weight': 7, 'subsample': 0.520227882777628, 'colsample_bytree': 0.5126863825347658}\n",
            "\n",
            "Лучшая модель LightGBM:\n",
            "MAPE: 0.38333462677097707\n",
            "RMSE: 48463.17773139761\n",
            "\n",
            "Время обучения: 1005.76 сек.\n",
            "Время предсказания: 0.01 сек.\n"
          ]
        }
      ],
      "source": [
        "import lightgbm as lgb\n",
        "from sklearn.preprocessing import OneHotEncoder\n",
        "import time\n",
        "import optuna\n",
        "from sklearn.metrics import mean_squared_error, mean_absolute_percentage_error\n",
        "import numpy as np\n",
        "from sklearn.model_selection import KFold\n",
        "\n",
        "# восстановим данные, которые изменились в предыдущих пунктах\n",
        "X = df.drop(columns=['salary_in_usd'], axis=1)\n",
        "\n",
        "# Подготовка категориальных признаков с помощью OneHotEncoder\n",
        "X_14 = X.copy()\n",
        "encoder = OneHotEncoder(sparse_output=False, handle_unknown='ignore', drop='first')\n",
        "cat_encoded = encoder.fit_transform(X_14[cols_cat])\n",
        "cat_feature_names = encoder.get_feature_names_out(cols_cat)\n",
        "\n",
        "# Объединяем числовые и закодированные категориальные признаки\n",
        "X_encoded = pd.concat([X_14.drop(cols_cat, axis=1), pd.DataFrame(cat_encoded, columns=cat_feature_names,  index=X_14.index)], axis=1)\n",
        "\n",
        "\n",
        "def objective(trial):\n",
        "    param = {\n",
        "        \"n_estimators\": trial.suggest_int(\"n_estimators\", 100, 1000),  # Количество деревьев в ансамбле\n",
        "        \"learning_rate\": trial.suggest_float(\"learning_rate\", 0.001, 0.3, log=True),  # Скорость обучения\n",
        "        \"max_depth\": trial.suggest_int(\"max_depth\", 4, 10),  # Максимальная глубина дерева\n",
        "        \"lambda_l2\": trial.suggest_float(\"lambda_l2\", 1e-8, 1.0, log=True),  # L2 регуляризация\n",
        "        \"min_child_weight\": trial.suggest_int(\"min_child_weight\", 1, 7),  # Минимальная сумма весов наблюдений в листе\n",
        "        \"subsample\": trial.suggest_float(\"subsample\", 0.5, 1.0),  # Доля наблюдений для построения каждого дерева\n",
        "        \"colsample_bytree\": trial.suggest_float(\"colsample_bytree\", 0.5, 1.0),  # Доля признаков для построения каждого дерева\n",
        "        \"random_state\": 42\n",
        "    }\n",
        "\n",
        "    kf = KFold(n_splits=5, shuffle=True, random_state=42)\n",
        "    mape_scores = []\n",
        "    \n",
        "    # Проходим по фолдам\n",
        "    for train_idx, val_idx in kf.split(X_encoded):\n",
        "        X_fold_train, X_fold_val = X_encoded.iloc[train_idx], X_encoded.iloc[val_idx]\n",
        "        y_fold_train, y_fold_val = y.iloc[train_idx], y.iloc[val_idx]\n",
        "        \n",
        "        # Обучаем модель на тренировочном фолде\n",
        "        model = lgb.LGBMRegressor(**param, verbose=-1)\n",
        "        model.fit(X_fold_train, y_fold_train)\n",
        "        \n",
        "        # Делаем предсказания на валидационном фолде\n",
        "        preds = model.predict(X_fold_val)\n",
        "        \n",
        "        # Считаем MAPE для текущего фолда\n",
        "        fold_mape = mean_absolute_percentage_error(y_fold_val, preds)\n",
        "        mape_scores.append(fold_mape)\n",
        "    \n",
        "    # Возвращаем среднее значение MAPE по всем фолдам\n",
        "    return np.mean(mape_scores)\n",
        "\n",
        "study = optuna.create_study(direction=\"minimize\", study_name=\"LightGBM\")\n",
        "\n",
        "# Замеряем время обучения\n",
        "start_time = time.time()\n",
        "study.optimize(objective, n_trials=150)\n",
        "end_time = time.time()\n",
        "training_time = end_time - start_time\n",
        "\n",
        "best_params = study.best_params\n",
        "print(f\"Лучшие параметры: {best_params}\")\n",
        "\n",
        "# Модель с лучшими параметрами\n",
        "best_lgb = lgb.LGBMRegressor(**best_params, random_state=42)\n",
        "best_lgb.fit(X_encoded, y)\n",
        "\n",
        "# Замеряем время предсказания\n",
        "start_time = time.time()\n",
        "predictions = best_lgb.predict(X_encoded)\n",
        "end_time = time.time()\n",
        "prediction_time = end_time - start_time\n",
        "\n",
        "# Оценка качества\n",
        "print(\"\\nЛучшая модель LightGBM:\")\n",
        "_ = evaluate_model(y, predictions)\n",
        "\n",
        "print(f\"\\nВремя обучения: {training_time:.2f} сек.\")\n",
        "print(f\"Время предсказания: {prediction_time:.2f} сек.\")\n",
        "\n",
        "'''\n",
        "Лучшие параметры:\n",
        "{\n",
        "    'n_estimators': 423, \n",
        "    'learning_rate': 0.023781266699604203, \n",
        "    'max_depth': 6, \n",
        "    'lambda_l2': 0.27419901933888025, \n",
        "    'min_child_weight': 7, \n",
        "    'subsample': 0.520227882777628, \n",
        "    'colsample_bytree': 0.5126863825347658\n",
        "}\n",
        "\n",
        "Лучшая модель LightGBM:\n",
        "MAPE: 0.38333462677097707\n",
        "RMSE: 48463.17773139761\n",
        "\n",
        "Время обучения: 1005.76 сек.\n",
        "Время предсказания: 0.01 сек.\n",
        "'''"
      ]
    },
    {
      "cell_type": "markdown",
      "id": "8dca44ce",
      "metadata": {},
      "source": [
        "#### Вывод"
      ]
    },
    {
      "cell_type": "markdown",
      "id": "254d2124",
      "metadata": {},
      "source": [
        "В результате обучения модели LightGBM с оптимальными гиперпараметрами, подобранными с помощью Optuna, мы получили следующие результаты:\n",
        "\n",
        "- Лучшие параметры модели:\n",
        "  - n_estimators: 423\n",
        "  - learning_rate: ~0.024\n",
        "  - max_depth: 6\n",
        "  - lambda_l2: 0.27\n",
        "  - min_child_weight: 7\n",
        "  - subsample: 0.52\n",
        "  - colsample_bytree: 0.51\n",
        "\n",
        "- Качество модели:\n",
        "  - MAPE: 0.38 (38.3%) - хороший результат для предсказания зарплат\n",
        "  - RMSE: 48463 USD - достаточно большая ошибка в абсолютных значениях\n",
        "\n",
        "- Временные характеристики:\n",
        "  - Время обучения: ~16.8 минут - значительное время на оптимизацию\n",
        "  - Время предсказания: 0.01 сек - очень быстрое получение предсказаний\n",
        "\n",
        "LightGBM показал себя как эффективный алгоритм с точки зрения качества предсказаний и скорости предсказания. Умеренные значения параметров регуляризации и использование подвыборок данных и признаков помогают избежать переобучения.\n"
      ]
    },
    {
      "cell_type": "markdown",
      "id": "7c56d873",
      "metadata": {
        "id": "7c56d873"
      },
      "source": [
        "## **Задание 15 (0.4 балла)**"
      ]
    },
    {
      "cell_type": "markdown",
      "id": "MoU-3vCs9ufO",
      "metadata": {
        "id": "MoU-3vCs9ufO"
      },
      "source": [
        "Сделайте выводы про модели и решение задачи.\n",
        "\n",
        "- Какая из моделей показала лучший результат по качеству?\n",
        "- Какая из моделей показала лучший результат по качеству, скорости обучения и скорости предсказания в совокупности?\n",
        "- Насколько бустинги превзошли линейную модель? Целесообразно ли их использование?"
      ]
    },
    {
      "cell_type": "markdown",
      "id": "7da08298",
      "metadata": {},
      "source": [
        "Сравнение моделей:\n",
        "\n",
        "| Модель   | MAPE           | RMSE (USD) | Время обучения | Время предсказания |\n",
        "|----------|----------------|------------|----------------|--------------------|\n",
        "| CatBoost | 0.40 (40%)     | 47921      | ~14 минут      | ~0.01 сек          |\n",
        "| XGBoost  | 0.277 (27.7%)  | 41103      | ~28 минут      | ~0.02 сек          |\n",
        "| LightGBM | 0.38 (38.3%)   | 48463      | ~17 минут      | ~0.01 сек          |\n",
        "\n",
        "Выводы:\n",
        "- XGBoost показал лучший результат по качеству предсказаний, но дольше обучение.\n",
        "- Бустинги значительно превзошли линейную модель (улучшение MAPE на 5-7%)\n",
        "- По совокупности метрик (качество/скорость) лучшим выбором является XGBoost\n",
        "- Использование бустингов целесообразно, т.к. улучшение качества существенное, а время обучения некритично для данной задачи\n"
      ]
    },
    {
      "cell_type": "markdown",
      "id": "-w29KZ-r-Kaf",
      "metadata": {
        "id": "-w29KZ-r-Kaf"
      },
      "source": [
        "# **Часть 2: кластеризация типов движений**\n",
        "**Количество баллов:** 3"
      ]
    },
    {
      "cell_type": "markdown",
      "id": "6b3HIYxb-lYV",
      "metadata": {
        "id": "6b3HIYxb-lYV"
      },
      "source": [
        "В этой части будем работать с набором данных Samsung Human Activity Recognition. Набор данных заранее предобработан и снова доступен вам по [ссылке](https://drive.google.com/file/d/16ISu7lMumt5rbticbOggHMRjwTGBETtO/view?usp=sharing).\n",
        "\n",
        "### **Постановка задачи**\n",
        "Данные поступают с акселерометров и гироскопов мобильных телефонов Samsung Galaxy S2. Вид активности человека с телефоном в кармане известен:\n",
        "- 1 - ходьба,\n",
        "- 2 - подъем вверх по лестнице,\n",
        "- 3 - спуск по лестнице,\n",
        "- 4 - сидение,\n",
        "- 5 - стояние,\n",
        "- 6 - лежание\n",
        "\n",
        "\n",
        "Представим, что вид активности нам неизвестнен, и попробуем кластеризовать людей чисто на основе имеющихся признаков."
      ]
    },
    {
      "cell_type": "code",
      "execution_count": null,
      "id": "G-GfIOJL9ty4",
      "metadata": {
        "id": "G-GfIOJL9ty4"
      },
      "outputs": [],
      "source": [
        "import numpy as np\n",
        "import seaborn as sns\n",
        "from matplotlib import pyplot as plt\n",
        "\n",
        "\n",
        "plt.style.use(['seaborn-darkgrid'])\n",
        "plt.rcParams['figure.figsize'] = (12, 9)\n",
        "plt.rcParams['font.family'] = 'DejaVu Sans'\n",
        "\n",
        "%matplotlib inline\n",
        "%config InlineBackend.figure_format=\"retina\"\n",
        "\n",
        "RANDOM_STATE = 42"
      ]
    },
    {
      "cell_type": "markdown",
      "id": "huMweUyCDtq0",
      "metadata": {
        "id": "huMweUyCDtq0"
      },
      "source": [
        "### **Задание 16 (0.1 балл)**\n",
        "Прочитайте данные из файлов и объедните тестовую и обучающие выборки.\n",
        "\n",
        "В файлах ```..._labels``` лежат настоящие классы. Их также объедините, но в отдельную переменную (например ```y```). Данный вектор для кластеризации нам не нужен, но мы будем смотреть по нему метрики."
      ]
    },
    {
      "cell_type": "code",
      "execution_count": null,
      "id": "kOl0AkxMDwgs",
      "metadata": {
        "id": "kOl0AkxMDwgs"
      },
      "outputs": [],
      "source": [
        "# Ваш код здесь\n",
        "X =\n",
        "y ="
      ]
    },
    {
      "cell_type": "code",
      "execution_count": null,
      "id": "5Lm9We-jDxFV",
      "metadata": {
        "id": "5Lm9We-jDxFV"
      },
      "outputs": [],
      "source": [
        "# убедимся, что y содержит нужные нам классы\n",
        "np.unique(y)"
      ]
    },
    {
      "cell_type": "markdown",
      "id": "RKVnDJ1ODzt1",
      "metadata": {
        "id": "RKVnDJ1ODzt1"
      },
      "source": [
        "### **Задание 17 (0.2 балла)**\n",
        "\n",
        "Так как мы будем пользоваться метрическими алгоритмами, отмасштабируйте выборку с помощью ```StandardScaler```."
      ]
    },
    {
      "cell_type": "code",
      "execution_count": null,
      "id": "JboUmITvD0N3",
      "metadata": {
        "id": "JboUmITvD0N3"
      },
      "outputs": [],
      "source": [
        "# Ваш код здесь\n",
        "scaler =\n",
        "X_scaled ="
      ]
    },
    {
      "cell_type": "markdown",
      "id": "ssHPKscBD0kE",
      "metadata": {
        "id": "ssHPKscBD0kE"
      },
      "source": [
        "### **Задание 18 (0.5 балла)**\n",
        "\n",
        "Данных много и размерность большая. Чтобы ускорить рещение задачи с точки зрения построения модели, мы используем методы **понижения размерности**.\n",
        "\n",
        "- Понизьте размерность с помощью `PCA`, оставляя столько компонент, сколько нужно для того, чтобы объяснить как минимум 90% дисперсии отмасштабированных данных. Вам пригодится [документация](https://scikit-learn.org/stable/modules/generated/sklearn.decomposition.PCA.html)\n",
        "\n",
        "**Примечание:**\n",
        "Для этого сумма значений массива pca.explained_variance_ratio_ должна быть не меньше 0.9.  ```random_state``` используйте из объявленной в самом начале переменной ```RANDOM_STATE``` (42)."
      ]
    },
    {
      "cell_type": "code",
      "execution_count": null,
      "id": "Qb4ezLYfD007",
      "metadata": {
        "id": "Qb4ezLYfD007"
      },
      "outputs": [],
      "source": [
        "# Ваш код здесь\n",
        "pca =\n",
        "X_pca ="
      ]
    },
    {
      "cell_type": "markdown",
      "id": "JAJ6WxDaD9oC",
      "metadata": {
        "id": "JAJ6WxDaD9oC"
      },
      "source": [
        "### **Задание 19 (0.2 балла)**\n",
        "\n",
        "Визуализируйте данные в проекции на первые две главные компоненты. Используйте ```cmap=\"virdis\"``` или любой другой, с которым будет красиво!\n",
        "\n",
        "Можете раскрасить кластеры."
      ]
    },
    {
      "cell_type": "code",
      "execution_count": null,
      "id": "JHboofo-D-KP",
      "metadata": {
        "id": "JHboofo-D-KP"
      },
      "outputs": [],
      "source": [
        "# Ваш код здесь\n",
        "plt.scatter()"
      ]
    },
    {
      "cell_type": "markdown",
      "id": "BJU8Dc99D-T8",
      "metadata": {
        "id": "BJU8Dc99D-T8"
      },
      "source": [
        "### **Задание 19. (0.5 балла)**\n",
        "\n",
        "Разберёмся с `KMeans`, [doc](https://scikit-learn.org/stable/modules/generated/sklearn.cluster.KMeans.html)\n",
        "\n",
        "- Сделайте кластеризацию данных методом `KMeans`, обучив модель на данных со сниженной за счет `PCA` размерностью. Нужно искать 6 кластеров (изначально у нас 6 классов). Засеките время обучения и время инференса.\n",
        "\n",
        "**Параметры обучения:**\n",
        "\n",
        "```n_clusters = 6``` (число уникальных меток целевого класса = 6)\n",
        "\n",
        "```n_init = 100```\n",
        "\n",
        "```random_state = RANDOM_STATE``` (для воспроизводимости результата, не забывайте указывать его и дальше!)"
      ]
    },
    {
      "cell_type": "code",
      "execution_count": null,
      "id": "uc4uXeV3D-a9",
      "metadata": {
        "id": "uc4uXeV3D-a9"
      },
      "outputs": [],
      "source": [
        "# Ваш код здесь"
      ]
    },
    {
      "cell_type": "markdown",
      "id": "mXk40mmZD-iI",
      "metadata": {
        "id": "mXk40mmZD-iI"
      },
      "source": [
        "### **Задание 20 (0.2 балла)**\n",
        "\n",
        "- Визуализируйте данные в проекции на первые две главные компоненты.\n",
        "- Раскрасьте точки в соответствии с полученными метками кластеров."
      ]
    },
    {
      "cell_type": "code",
      "execution_count": null,
      "id": "LN0y9SuMD-oQ",
      "metadata": {
        "id": "LN0y9SuMD-oQ"
      },
      "outputs": [],
      "source": [
        "# Ваш код здесь"
      ]
    },
    {
      "cell_type": "markdown",
      "id": "MRuNPtcvEIcT",
      "metadata": {
        "id": "MRuNPtcvEIcT"
      },
      "source": [
        "### **Задание 21 (0.3 балла)**\n",
        "\n",
        "- Выберите какие-то метрики (минимум две) из известных вам. Объясните свой выбор\n",
        "- Выведите на экран значения метрик качества, сделайте вывод о них и используйте их далее."
      ]
    },
    {
      "cell_type": "code",
      "execution_count": null,
      "id": "hRUnZPlPEJm2",
      "metadata": {
        "id": "hRUnZPlPEJm2"
      },
      "outputs": [],
      "source": [
        "# Ваш код здесь"
      ]
    },
    {
      "cell_type": "markdown",
      "id": "F_-yup0yEJty",
      "metadata": {
        "id": "F_-yup0yEJty"
      },
      "source": [
        "**Ваш вывод здесь**"
      ]
    },
    {
      "cell_type": "markdown",
      "id": "yfytg7xxEQSY",
      "metadata": {
        "id": "yfytg7xxEQSY"
      },
      "source": [
        "### **Задание 22 (0.7 баллов)**\n",
        "\n",
        "Теперь попробуем сделать кластеризацию с помощью `AgglomerativeClustering`, [doc](https://scikit-learn.org/stable/modules/generated/sklearn.cluster.AgglomerativeClustering.html)\n",
        "\n",
        "- Засеките время обучения и время инференса. После кластеризации также:\n",
        "  - Вновь визуализируйте данные с раскраской по полученным меткам\n",
        "  - Выведите метрики. Засеките время обучения и время инференса. Сравните с ```KMeans```.\n",
        "\n",
        "Ответьте на следующие вопросы:\n",
        "* Стало ли лучше?\n",
        "* Почему?"
      ]
    },
    {
      "cell_type": "code",
      "execution_count": null,
      "id": "76W4gKbnEOpG",
      "metadata": {
        "id": "76W4gKbnEOpG"
      },
      "outputs": [],
      "source": [
        "# Ваш код здесь"
      ]
    },
    {
      "cell_type": "markdown",
      "id": "fD8890szET9F",
      "metadata": {
        "id": "fD8890szET9F"
      },
      "source": [
        "**Ваш вывод здесь**"
      ]
    },
    {
      "cell_type": "markdown",
      "id": "ToO1wo75EUo5",
      "metadata": {
        "id": "ToO1wo75EUo5"
      },
      "source": [
        "### **Задание 23 (0.3 балла)**\n",
        "Для самой успешной из полученных кластеризаций попробуйте дать интерпретацию кластеров. Опишите характеристики объектов, попавших в каждый кластер. Для этого можете ответить на следующие вопросы:\n",
        "\n",
        "* Похожи ли объекты внутри каждого кластера на определенный тип активности человека?\n",
        "* В каких кластерах смешано несколько типов активности? С чем, на ваш взгляд, это может быть связано?\n",
        "* Качественная ли получилась кластеризация? На основании чего вы можете сделать такой вывод?"
      ]
    },
    {
      "cell_type": "markdown",
      "id": "XNfJxVTCEYzd",
      "metadata": {
        "id": "XNfJxVTCEYzd"
      },
      "source": [
        "**Ваш вывод здесь**"
      ]
    },
    {
      "cell_type": "markdown",
      "id": "DMe3tIiaEeTt",
      "metadata": {
        "id": "DMe3tIiaEeTt"
      },
      "source": [
        "## **Бонус-задание (1 балл)**\n",
        "![RedPanda](http://imgur.com/6Aa52Lm.png)\n",
        "\n",
        "Алгоритмы кластеризации могут применяться в самых разных задачах. Например, в анализе изображений есть задача разделения изображения на семантические компоненты, которую можно решать в том числе с помощью алгоритмов кластеризации. В бонусе предлагаем вам попрактиковаться именно в этом на чудесной утке и совах (```duck.jpg``` и ```owls.jpg```)"
      ]
    },
    {
      "cell_type": "markdown",
      "id": "XljM79OVEvH1",
      "metadata": {
        "id": "XljM79OVEvH1"
      },
      "source": [
        "### **(0.1 балл)**\n",
        "\n",
        "- Откройте изображения, после чего визуализируйте их с помощью ```plt.imshow()```"
      ]
    },
    {
      "cell_type": "code",
      "execution_count": null,
      "id": "MDCgEqXxEis1",
      "metadata": {
        "id": "MDCgEqXxEis1"
      },
      "outputs": [],
      "source": [
        "from PIL import Image\n",
        "# or\n",
        "#import cv2"
      ]
    },
    {
      "cell_type": "markdown",
      "id": "cR_AuC9RFANW",
      "metadata": {
        "id": "cR_AuC9RFANW"
      },
      "source": [
        "### **(0.4 балла)**\n",
        "\n",
        "Для каждого изображения, используя кластеризацию ```KMeans```, выделите компоненты, охарактеризовав каждый пиксель следующим образом: $$\\psi_i = [\\lambda x_i, \\lambda y_i, r_i, g_i, b_i]$$\n",
        " где\n",
        "- $x_i$ и $y_i$ — координаты пикселя,\n",
        "- $r_i, g_i, b_i$ — его цвет,\n",
        "- $\\lambda$ — параметр, выражающий важность пространственной связности перед цветовой похожестью.\n",
        "\n",
        "Примените полученную функцию, взяв следующие $\\lambda$: 0.3 и 1.5 для ```duck.jpg``` и ```owls.jpg``` (или другие, но тогда с вас красивые результаты :) )\n",
        "\n",
        "**Примечание:**\n",
        "Число кластеров подберите разумным образом на свой вкус (в качестве нулевого приближения можно взять 3)"
      ]
    },
    {
      "cell_type": "code",
      "execution_count": null,
      "id": "4qiynyTXFSNU",
      "metadata": {
        "id": "4qiynyTXFSNU"
      },
      "outputs": [],
      "source": [
        "def find_components(image, lmbd, n_clusters):\n",
        "    #your code here"
      ]
    },
    {
      "cell_type": "markdown",
      "id": "Zja1t8nHFaS2",
      "metadata": {
        "id": "Zja1t8nHFaS2"
      },
      "source": [
        "### **(0.4 балла)**\n",
        "\n",
        "Попробуйте выделить сегменты при помощи [спектральной кластеризации](http://scikit-learn.org/stable/modules/clustering.html#spectral-clustering). Обратите внимание на [пример в sklearn](http://scikit-learn.org/0.16/auto_examples/cluster/plot_lena_segmentation.html).\n",
        "\n",
        "\n",
        "**Примечание:**\n",
        "\n",
        "Для ускорения работы алгоритма рекомендуется привести изображение к серому цвету. При необходимости можно сжать изображения в 2 раза.\n",
        "\n",
        "**Подсказка:**```skimage``` с его ```color``` и ```transform``` в этом помогут :)\n",
        "\n",
        "Или же воспользуйтесь аналогичными средствами ```PIL``` или ```cv2```"
      ]
    },
    {
      "cell_type": "code",
      "execution_count": null,
      "id": "hu10O8GnFluE",
      "metadata": {
        "id": "hu10O8GnFluE"
      },
      "outputs": [],
      "source": [
        "def spectral_segmentation(image, n_clusters, beta, eps):\n",
        "    #your code here"
      ]
    },
    {
      "cell_type": "markdown",
      "id": "XWoIIsqiFwrp",
      "metadata": {
        "id": "XWoIIsqiFwrp"
      },
      "source": [
        "### **(0.1 балл)**\n",
        "Визуализируйте результаты сегментации (аналогично рисунку в начале задания 2) для обоих методов."
      ]
    },
    {
      "cell_type": "code",
      "execution_count": null,
      "id": "S7B57-WbF4Ie",
      "metadata": {
        "id": "S7B57-WbF4Ie"
      },
      "outputs": [],
      "source": []
    },
    {
      "cell_type": "markdown",
      "id": "xrgZWcvtF95o",
      "metadata": {
        "id": "xrgZWcvtF95o"
      },
      "source": [
        "**Спасибо! Вы — человек — большой трудяга!**\n",
        "\n",
        "Успокоительный котобонус :)"
      ]
    },
    {
      "cell_type": "markdown",
      "id": "Qx3-EPTBPEC-",
      "metadata": {
        "id": "Qx3-EPTBPEC-"
      },
      "source": [
        "![photo_2025-01-17 15.20.31 (1).jpeg](data:image/jpeg;base64,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)"
      ]
    }
  ],
  "metadata": {
    "colab": {
      "include_colab_link": true,
      "provenance": []
    },
    "kernelspec": {
      "display_name": ".venv",
      "language": "python",
      "name": "python3"
    },
    "language_info": {
      "codemirror_mode": {
        "name": "ipython",
        "version": 3
      },
      "file_extension": ".py",
      "mimetype": "text/x-python",
      "name": "python",
      "nbconvert_exporter": "python",
      "pygments_lexer": "ipython3",
      "version": "3.12.8"
    }
  },
  "nbformat": 4,
  "nbformat_minor": 5
}
